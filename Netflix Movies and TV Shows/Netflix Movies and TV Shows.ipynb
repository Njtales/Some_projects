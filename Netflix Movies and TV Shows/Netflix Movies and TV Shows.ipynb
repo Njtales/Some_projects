{
 "cells": [
  {
   "cell_type": "markdown",
   "id": "5fe5779a",
   "metadata": {},
   "source": [
    "# Netflix Movies and TV Shows\n",
    "\n",
    "This dataset is taken from [kaggle](https://www.kaggle.com/datasets/shivamb/netflix-shows). <br>"
   ]
  },
  {
   "cell_type": "markdown",
   "id": "2b92a234",
   "metadata": {},
   "source": [
    "## Problem Definition:\n",
    "\n",
    "Dataset contains all the details of movies and TV shows available on the netflix.<br>\n",
    "\n",
    "- Understanding what content is available in different countries.<br>\n",
    "- Identifying similar content by matching text-based features.<br>\n",
    "- Network analysis of Actors / Directors and find interesting insights.<br>\n",
    "- Does Netflix has more focus on TV Shows than movies in recent years.<br>"
   ]
  },
  {
   "cell_type": "markdown",
   "id": "032003d8",
   "metadata": {},
   "source": [
    "## Overview:\n",
    "\n",
    "The dataset consist of a file :<br>\n",
    "- netflix_titles (.csv)\n",
    "\n",
    "Netflix is one of the most popular media and video streaming platforms. They have over 8000 movies or tv shows available on their platform, as of mid-2021, they have over 200M Subscribers globally..<br>\n",
    "This tabular dataset consists of listings of all the movies and tv shows available on Netflix, along with details such as - cast, directors, ratings, release year, duration, etc.<br>"
   ]
  },
  {
   "cell_type": "markdown",
   "id": "117be241",
   "metadata": {},
   "source": [
    "## Data:\n",
    "\n",
    "All TV Shows and Movies meta data on Netflix.<br>\n",
    "\n",
    "**show_id**     : Unique ID for every Movie / Tv Show<br>\n",
    "**type**        : Identifier - A Movie or TV Show<br>\n",
    "**title**       : Title of the Movie / Tv Show<br>\n",
    "**director**    : Director of the Movie<br>\n",
    "**cast**        : Actors involved in the movie / show<br>\n",
    "**country**     : Country where the movie / show was produced<br>\n",
    "**date_added**  : Date it was added on Netflix<br>\n",
    "**release_year**: Actual Release year of the move / show<br>\n",
    "**rating**      : TV Rating of the movie / show<br>\n",
    "**duration**    : Total Duration - in minutes or number of seasons<br>\n",
    "**listed_in**   : Genere<br>\n",
    "**description** : The summary description <br>"
   ]
  },
  {
   "cell_type": "markdown",
   "id": "393804e4",
   "metadata": {
    "ExecuteTime": {
     "end_time": "2022-07-12T19:13:08.686278Z",
     "start_time": "2022-07-12T19:13:08.662313Z"
    }
   },
   "source": [
    "## Importing Dataset"
   ]
  },
  {
   "cell_type": "code",
   "execution_count": 58,
   "id": "16cccd1e",
   "metadata": {
    "ExecuteTime": {
     "end_time": "2022-07-12T22:53:27.776522Z",
     "start_time": "2022-07-12T22:53:27.752522Z"
    }
   },
   "outputs": [],
   "source": [
    "# importing all the libraries\n",
    "import pandas as pd\n",
    "import numpy as np\n",
    "import plotly.express as px\n",
    "import seaborn as sns\n",
    "import matplotlib.pyplot as plt\n",
    "import warnings\n",
    "from wordcloud import WordCloud, STOPWORDS"
   ]
  },
  {
   "cell_type": "code",
   "execution_count": 2,
   "id": "5634b332",
   "metadata": {
    "ExecuteTime": {
     "end_time": "2022-07-12T22:18:42.347093Z",
     "start_time": "2022-07-12T22:18:42.275915Z"
    },
    "scrolled": false
   },
   "outputs": [
    {
     "data": {
      "text/html": [
       "<div>\n",
       "<style scoped>\n",
       "    .dataframe tbody tr th:only-of-type {\n",
       "        vertical-align: middle;\n",
       "    }\n",
       "\n",
       "    .dataframe tbody tr th {\n",
       "        vertical-align: top;\n",
       "    }\n",
       "\n",
       "    .dataframe thead th {\n",
       "        text-align: right;\n",
       "    }\n",
       "</style>\n",
       "<table border=\"1\" class=\"dataframe\">\n",
       "  <thead>\n",
       "    <tr style=\"text-align: right;\">\n",
       "      <th></th>\n",
       "      <th>show_id</th>\n",
       "      <th>type</th>\n",
       "      <th>title</th>\n",
       "      <th>director</th>\n",
       "      <th>cast</th>\n",
       "      <th>country</th>\n",
       "      <th>date_added</th>\n",
       "      <th>release_year</th>\n",
       "      <th>rating</th>\n",
       "      <th>duration</th>\n",
       "      <th>listed_in</th>\n",
       "      <th>description</th>\n",
       "    </tr>\n",
       "  </thead>\n",
       "  <tbody>\n",
       "    <tr>\n",
       "      <th>0</th>\n",
       "      <td>s1</td>\n",
       "      <td>Movie</td>\n",
       "      <td>Dick Johnson Is Dead</td>\n",
       "      <td>Kirsten Johnson</td>\n",
       "      <td>NaN</td>\n",
       "      <td>United States</td>\n",
       "      <td>September 25, 2021</td>\n",
       "      <td>2020</td>\n",
       "      <td>PG-13</td>\n",
       "      <td>90 min</td>\n",
       "      <td>Documentaries</td>\n",
       "      <td>As her father nears the end of his life, filmm...</td>\n",
       "    </tr>\n",
       "    <tr>\n",
       "      <th>1</th>\n",
       "      <td>s2</td>\n",
       "      <td>TV Show</td>\n",
       "      <td>Blood &amp; Water</td>\n",
       "      <td>NaN</td>\n",
       "      <td>Ama Qamata, Khosi Ngema, Gail Mabalane, Thaban...</td>\n",
       "      <td>South Africa</td>\n",
       "      <td>September 24, 2021</td>\n",
       "      <td>2021</td>\n",
       "      <td>TV-MA</td>\n",
       "      <td>2 Seasons</td>\n",
       "      <td>International TV Shows, TV Dramas, TV Mysteries</td>\n",
       "      <td>After crossing paths at a party, a Cape Town t...</td>\n",
       "    </tr>\n",
       "    <tr>\n",
       "      <th>2</th>\n",
       "      <td>s3</td>\n",
       "      <td>TV Show</td>\n",
       "      <td>Ganglands</td>\n",
       "      <td>Julien Leclercq</td>\n",
       "      <td>Sami Bouajila, Tracy Gotoas, Samuel Jouy, Nabi...</td>\n",
       "      <td>NaN</td>\n",
       "      <td>September 24, 2021</td>\n",
       "      <td>2021</td>\n",
       "      <td>TV-MA</td>\n",
       "      <td>1 Season</td>\n",
       "      <td>Crime TV Shows, International TV Shows, TV Act...</td>\n",
       "      <td>To protect his family from a powerful drug lor...</td>\n",
       "    </tr>\n",
       "    <tr>\n",
       "      <th>3</th>\n",
       "      <td>s4</td>\n",
       "      <td>TV Show</td>\n",
       "      <td>Jailbirds New Orleans</td>\n",
       "      <td>NaN</td>\n",
       "      <td>NaN</td>\n",
       "      <td>NaN</td>\n",
       "      <td>September 24, 2021</td>\n",
       "      <td>2021</td>\n",
       "      <td>TV-MA</td>\n",
       "      <td>1 Season</td>\n",
       "      <td>Docuseries, Reality TV</td>\n",
       "      <td>Feuds, flirtations and toilet talk go down amo...</td>\n",
       "    </tr>\n",
       "    <tr>\n",
       "      <th>4</th>\n",
       "      <td>s5</td>\n",
       "      <td>TV Show</td>\n",
       "      <td>Kota Factory</td>\n",
       "      <td>NaN</td>\n",
       "      <td>Mayur More, Jitendra Kumar, Ranjan Raj, Alam K...</td>\n",
       "      <td>India</td>\n",
       "      <td>September 24, 2021</td>\n",
       "      <td>2021</td>\n",
       "      <td>TV-MA</td>\n",
       "      <td>2 Seasons</td>\n",
       "      <td>International TV Shows, Romantic TV Shows, TV ...</td>\n",
       "      <td>In a city of coaching centers known to train I...</td>\n",
       "    </tr>\n",
       "  </tbody>\n",
       "</table>\n",
       "</div>"
      ],
      "text/plain": [
       "  show_id     type                  title         director  \\\n",
       "0      s1    Movie   Dick Johnson Is Dead  Kirsten Johnson   \n",
       "1      s2  TV Show          Blood & Water              NaN   \n",
       "2      s3  TV Show              Ganglands  Julien Leclercq   \n",
       "3      s4  TV Show  Jailbirds New Orleans              NaN   \n",
       "4      s5  TV Show           Kota Factory              NaN   \n",
       "\n",
       "                                                cast        country  \\\n",
       "0                                                NaN  United States   \n",
       "1  Ama Qamata, Khosi Ngema, Gail Mabalane, Thaban...   South Africa   \n",
       "2  Sami Bouajila, Tracy Gotoas, Samuel Jouy, Nabi...            NaN   \n",
       "3                                                NaN            NaN   \n",
       "4  Mayur More, Jitendra Kumar, Ranjan Raj, Alam K...          India   \n",
       "\n",
       "           date_added  release_year rating   duration  \\\n",
       "0  September 25, 2021          2020  PG-13     90 min   \n",
       "1  September 24, 2021          2021  TV-MA  2 Seasons   \n",
       "2  September 24, 2021          2021  TV-MA   1 Season   \n",
       "3  September 24, 2021          2021  TV-MA   1 Season   \n",
       "4  September 24, 2021          2021  TV-MA  2 Seasons   \n",
       "\n",
       "                                           listed_in  \\\n",
       "0                                      Documentaries   \n",
       "1    International TV Shows, TV Dramas, TV Mysteries   \n",
       "2  Crime TV Shows, International TV Shows, TV Act...   \n",
       "3                             Docuseries, Reality TV   \n",
       "4  International TV Shows, Romantic TV Shows, TV ...   \n",
       "\n",
       "                                         description  \n",
       "0  As her father nears the end of his life, filmm...  \n",
       "1  After crossing paths at a party, a Cape Town t...  \n",
       "2  To protect his family from a powerful drug lor...  \n",
       "3  Feuds, flirtations and toilet talk go down amo...  \n",
       "4  In a city of coaching centers known to train I...  "
      ]
     },
     "execution_count": 2,
     "metadata": {},
     "output_type": "execute_result"
    }
   ],
   "source": [
    "data = pd.read_csv(\"netflix_titles.csv\")\n",
    "data.head()"
   ]
  },
  {
   "cell_type": "code",
   "execution_count": 3,
   "id": "d2b27b8e",
   "metadata": {
    "ExecuteTime": {
     "end_time": "2022-07-12T22:18:43.134986Z",
     "start_time": "2022-07-12T22:18:43.103710Z"
    }
   },
   "outputs": [
    {
     "name": "stdout",
     "output_type": "stream",
     "text": [
      "<class 'pandas.core.frame.DataFrame'>\n",
      "RangeIndex: 8807 entries, 0 to 8806\n",
      "Data columns (total 12 columns):\n",
      " #   Column        Non-Null Count  Dtype \n",
      "---  ------        --------------  ----- \n",
      " 0   show_id       8807 non-null   object\n",
      " 1   type          8807 non-null   object\n",
      " 2   title         8807 non-null   object\n",
      " 3   director      6173 non-null   object\n",
      " 4   cast          7982 non-null   object\n",
      " 5   country       7976 non-null   object\n",
      " 6   date_added    8797 non-null   object\n",
      " 7   release_year  8807 non-null   int64 \n",
      " 8   rating        8803 non-null   object\n",
      " 9   duration      8804 non-null   object\n",
      " 10  listed_in     8807 non-null   object\n",
      " 11  description   8807 non-null   object\n",
      "dtypes: int64(1), object(11)\n",
      "memory usage: 825.8+ KB\n"
     ]
    }
   ],
   "source": [
    "data.info()"
   ]
  },
  {
   "cell_type": "markdown",
   "id": "d7898770",
   "metadata": {},
   "source": [
    "- That means we got some null values in few columns, let's handle them later."
   ]
  },
  {
   "cell_type": "code",
   "execution_count": 4,
   "id": "4ca9b6c1",
   "metadata": {
    "ExecuteTime": {
     "end_time": "2022-07-12T22:18:44.667734Z",
     "start_time": "2022-07-12T22:18:44.636325Z"
    },
    "scrolled": true
   },
   "outputs": [
    {
     "data": {
      "text/plain": [
       "show_id            0\n",
       "type               0\n",
       "title              0\n",
       "director        2634\n",
       "cast             825\n",
       "country          831\n",
       "date_added        10\n",
       "release_year       0\n",
       "rating             4\n",
       "duration           3\n",
       "listed_in          0\n",
       "description        0\n",
       "dtype: int64"
      ]
     },
     "execution_count": 4,
     "metadata": {},
     "output_type": "execute_result"
    }
   ],
   "source": [
    "data.isnull().sum()"
   ]
  },
  {
   "cell_type": "markdown",
   "id": "fb9471cc",
   "metadata": {},
   "source": [
    "As we can see, there are a lot of missing values in the director, cast and country columns. For the country column, I am going to take the mode of available countries and assign it to the missing values. I will be doing the same for the date added and ratings column."
   ]
  },
  {
   "cell_type": "code",
   "execution_count": 5,
   "id": "4932911c",
   "metadata": {
    "ExecuteTime": {
     "end_time": "2022-07-12T22:18:46.171477Z",
     "start_time": "2022-07-12T22:18:46.158496Z"
    }
   },
   "outputs": [],
   "source": [
    "# creating a copy of orignal data to work on\n",
    "netflix = data.copy()"
   ]
  },
  {
   "cell_type": "markdown",
   "id": "6bdc1510",
   "metadata": {},
   "source": [
    "**Filling up the missing values with most common value in the column**"
   ]
  },
  {
   "cell_type": "code",
   "execution_count": 31,
   "id": "05bdc366",
   "metadata": {
    "ExecuteTime": {
     "end_time": "2022-07-12T22:34:07.489261Z",
     "start_time": "2022-07-12T22:34:07.457225Z"
    }
   },
   "outputs": [],
   "source": [
    "\n",
    "netflix[\"rating\"] = netflix[\"rating\"].fillna(netflix[\"rating\"].mode()[0])\n",
    "netflix[\"date_added\"] = netflix[\"date_added\"].fillna(netflix[\"date_added\"].mode()[0])\n",
    "netflix[\"country\"] = netflix[\"country\"].fillna(netflix[\"country\"].mode()[0])"
   ]
  },
  {
   "cell_type": "code",
   "execution_count": 32,
   "id": "564146cb",
   "metadata": {
    "ExecuteTime": {
     "end_time": "2022-07-12T22:34:08.097606Z",
     "start_time": "2022-07-12T22:34:08.041565Z"
    }
   },
   "outputs": [
    {
     "data": {
      "text/plain": [
       "show_id            0\n",
       "type               0\n",
       "title              0\n",
       "director        2634\n",
       "cast             825\n",
       "country            0\n",
       "date_added         0\n",
       "release_year       0\n",
       "rating             0\n",
       "duration           3\n",
       "listed_in          0\n",
       "description        0\n",
       "target_ages        0\n",
       "genre_main         0\n",
       "dtype: int64"
      ]
     },
     "execution_count": 32,
     "metadata": {},
     "output_type": "execute_result"
    }
   ],
   "source": [
    "netflix.isnull().sum()"
   ]
  },
  {
   "cell_type": "code",
   "execution_count": 33,
   "id": "cef59347",
   "metadata": {
    "ExecuteTime": {
     "end_time": "2022-07-12T22:34:08.593598Z",
     "start_time": "2022-07-12T22:34:08.473613Z"
    },
    "scrolled": false
   },
   "outputs": [
    {
     "data": {
      "application/vnd.plotly.v1+json": {
       "config": {
        "plotlyServerURL": "https://plot.ly"
       },
       "data": [
        {
         "domain": {
          "x": [
           0,
           1
          ],
          "y": [
           0,
           1
          ]
         },
         "hovertemplate": "index=%{label}<br>type=%{value}<extra></extra>",
         "labels": [
          "Movie",
          "TV Show"
         ],
         "legendgroup": "",
         "marker": {
          "line": {
           "color": "white",
           "width": 1
          }
         },
         "name": "",
         "showlegend": true,
         "textinfo": "percent+label",
         "textposition": "inside",
         "type": "pie",
         "values": [
          6131,
          2676
         ]
        }
       ],
       "layout": {
        "legend": {
         "tracegroupgap": 0
        },
        "margin": {
         "t": 60
        },
        "piecolorway": [
         "rgb(103,0,31)",
         "rgb(178,24,43)",
         "rgb(214,96,77)",
         "rgb(244,165,130)",
         "rgb(253,219,199)",
         "rgb(247,247,247)",
         "rgb(209,229,240)",
         "rgb(146,197,222)",
         "rgb(67,147,195)",
         "rgb(33,102,172)",
         "rgb(5,48,97)"
        ],
        "template": {
         "data": {
          "bar": [
           {
            "error_x": {
             "color": "#2a3f5f"
            },
            "error_y": {
             "color": "#2a3f5f"
            },
            "marker": {
             "line": {
              "color": "#E5ECF6",
              "width": 0.5
             },
             "pattern": {
              "fillmode": "overlay",
              "size": 10,
              "solidity": 0.2
             }
            },
            "type": "bar"
           }
          ],
          "barpolar": [
           {
            "marker": {
             "line": {
              "color": "#E5ECF6",
              "width": 0.5
             },
             "pattern": {
              "fillmode": "overlay",
              "size": 10,
              "solidity": 0.2
             }
            },
            "type": "barpolar"
           }
          ],
          "carpet": [
           {
            "aaxis": {
             "endlinecolor": "#2a3f5f",
             "gridcolor": "white",
             "linecolor": "white",
             "minorgridcolor": "white",
             "startlinecolor": "#2a3f5f"
            },
            "baxis": {
             "endlinecolor": "#2a3f5f",
             "gridcolor": "white",
             "linecolor": "white",
             "minorgridcolor": "white",
             "startlinecolor": "#2a3f5f"
            },
            "type": "carpet"
           }
          ],
          "choropleth": [
           {
            "colorbar": {
             "outlinewidth": 0,
             "ticks": ""
            },
            "type": "choropleth"
           }
          ],
          "contour": [
           {
            "colorbar": {
             "outlinewidth": 0,
             "ticks": ""
            },
            "colorscale": [
             [
              0,
              "#0d0887"
             ],
             [
              0.1111111111111111,
              "#46039f"
             ],
             [
              0.2222222222222222,
              "#7201a8"
             ],
             [
              0.3333333333333333,
              "#9c179e"
             ],
             [
              0.4444444444444444,
              "#bd3786"
             ],
             [
              0.5555555555555556,
              "#d8576b"
             ],
             [
              0.6666666666666666,
              "#ed7953"
             ],
             [
              0.7777777777777778,
              "#fb9f3a"
             ],
             [
              0.8888888888888888,
              "#fdca26"
             ],
             [
              1,
              "#f0f921"
             ]
            ],
            "type": "contour"
           }
          ],
          "contourcarpet": [
           {
            "colorbar": {
             "outlinewidth": 0,
             "ticks": ""
            },
            "type": "contourcarpet"
           }
          ],
          "heatmap": [
           {
            "colorbar": {
             "outlinewidth": 0,
             "ticks": ""
            },
            "colorscale": [
             [
              0,
              "#0d0887"
             ],
             [
              0.1111111111111111,
              "#46039f"
             ],
             [
              0.2222222222222222,
              "#7201a8"
             ],
             [
              0.3333333333333333,
              "#9c179e"
             ],
             [
              0.4444444444444444,
              "#bd3786"
             ],
             [
              0.5555555555555556,
              "#d8576b"
             ],
             [
              0.6666666666666666,
              "#ed7953"
             ],
             [
              0.7777777777777778,
              "#fb9f3a"
             ],
             [
              0.8888888888888888,
              "#fdca26"
             ],
             [
              1,
              "#f0f921"
             ]
            ],
            "type": "heatmap"
           }
          ],
          "heatmapgl": [
           {
            "colorbar": {
             "outlinewidth": 0,
             "ticks": ""
            },
            "colorscale": [
             [
              0,
              "#0d0887"
             ],
             [
              0.1111111111111111,
              "#46039f"
             ],
             [
              0.2222222222222222,
              "#7201a8"
             ],
             [
              0.3333333333333333,
              "#9c179e"
             ],
             [
              0.4444444444444444,
              "#bd3786"
             ],
             [
              0.5555555555555556,
              "#d8576b"
             ],
             [
              0.6666666666666666,
              "#ed7953"
             ],
             [
              0.7777777777777778,
              "#fb9f3a"
             ],
             [
              0.8888888888888888,
              "#fdca26"
             ],
             [
              1,
              "#f0f921"
             ]
            ],
            "type": "heatmapgl"
           }
          ],
          "histogram": [
           {
            "marker": {
             "pattern": {
              "fillmode": "overlay",
              "size": 10,
              "solidity": 0.2
             }
            },
            "type": "histogram"
           }
          ],
          "histogram2d": [
           {
            "colorbar": {
             "outlinewidth": 0,
             "ticks": ""
            },
            "colorscale": [
             [
              0,
              "#0d0887"
             ],
             [
              0.1111111111111111,
              "#46039f"
             ],
             [
              0.2222222222222222,
              "#7201a8"
             ],
             [
              0.3333333333333333,
              "#9c179e"
             ],
             [
              0.4444444444444444,
              "#bd3786"
             ],
             [
              0.5555555555555556,
              "#d8576b"
             ],
             [
              0.6666666666666666,
              "#ed7953"
             ],
             [
              0.7777777777777778,
              "#fb9f3a"
             ],
             [
              0.8888888888888888,
              "#fdca26"
             ],
             [
              1,
              "#f0f921"
             ]
            ],
            "type": "histogram2d"
           }
          ],
          "histogram2dcontour": [
           {
            "colorbar": {
             "outlinewidth": 0,
             "ticks": ""
            },
            "colorscale": [
             [
              0,
              "#0d0887"
             ],
             [
              0.1111111111111111,
              "#46039f"
             ],
             [
              0.2222222222222222,
              "#7201a8"
             ],
             [
              0.3333333333333333,
              "#9c179e"
             ],
             [
              0.4444444444444444,
              "#bd3786"
             ],
             [
              0.5555555555555556,
              "#d8576b"
             ],
             [
              0.6666666666666666,
              "#ed7953"
             ],
             [
              0.7777777777777778,
              "#fb9f3a"
             ],
             [
              0.8888888888888888,
              "#fdca26"
             ],
             [
              1,
              "#f0f921"
             ]
            ],
            "type": "histogram2dcontour"
           }
          ],
          "mesh3d": [
           {
            "colorbar": {
             "outlinewidth": 0,
             "ticks": ""
            },
            "type": "mesh3d"
           }
          ],
          "parcoords": [
           {
            "line": {
             "colorbar": {
              "outlinewidth": 0,
              "ticks": ""
             }
            },
            "type": "parcoords"
           }
          ],
          "pie": [
           {
            "automargin": true,
            "type": "pie"
           }
          ],
          "scatter": [
           {
            "marker": {
             "colorbar": {
              "outlinewidth": 0,
              "ticks": ""
             }
            },
            "type": "scatter"
           }
          ],
          "scatter3d": [
           {
            "line": {
             "colorbar": {
              "outlinewidth": 0,
              "ticks": ""
             }
            },
            "marker": {
             "colorbar": {
              "outlinewidth": 0,
              "ticks": ""
             }
            },
            "type": "scatter3d"
           }
          ],
          "scattercarpet": [
           {
            "marker": {
             "colorbar": {
              "outlinewidth": 0,
              "ticks": ""
             }
            },
            "type": "scattercarpet"
           }
          ],
          "scattergeo": [
           {
            "marker": {
             "colorbar": {
              "outlinewidth": 0,
              "ticks": ""
             }
            },
            "type": "scattergeo"
           }
          ],
          "scattergl": [
           {
            "marker": {
             "colorbar": {
              "outlinewidth": 0,
              "ticks": ""
             }
            },
            "type": "scattergl"
           }
          ],
          "scattermapbox": [
           {
            "marker": {
             "colorbar": {
              "outlinewidth": 0,
              "ticks": ""
             }
            },
            "type": "scattermapbox"
           }
          ],
          "scatterpolar": [
           {
            "marker": {
             "colorbar": {
              "outlinewidth": 0,
              "ticks": ""
             }
            },
            "type": "scatterpolar"
           }
          ],
          "scatterpolargl": [
           {
            "marker": {
             "colorbar": {
              "outlinewidth": 0,
              "ticks": ""
             }
            },
            "type": "scatterpolargl"
           }
          ],
          "scatterternary": [
           {
            "marker": {
             "colorbar": {
              "outlinewidth": 0,
              "ticks": ""
             }
            },
            "type": "scatterternary"
           }
          ],
          "surface": [
           {
            "colorbar": {
             "outlinewidth": 0,
             "ticks": ""
            },
            "colorscale": [
             [
              0,
              "#0d0887"
             ],
             [
              0.1111111111111111,
              "#46039f"
             ],
             [
              0.2222222222222222,
              "#7201a8"
             ],
             [
              0.3333333333333333,
              "#9c179e"
             ],
             [
              0.4444444444444444,
              "#bd3786"
             ],
             [
              0.5555555555555556,
              "#d8576b"
             ],
             [
              0.6666666666666666,
              "#ed7953"
             ],
             [
              0.7777777777777778,
              "#fb9f3a"
             ],
             [
              0.8888888888888888,
              "#fdca26"
             ],
             [
              1,
              "#f0f921"
             ]
            ],
            "type": "surface"
           }
          ],
          "table": [
           {
            "cells": {
             "fill": {
              "color": "#EBF0F8"
             },
             "line": {
              "color": "white"
             }
            },
            "header": {
             "fill": {
              "color": "#C8D4E3"
             },
             "line": {
              "color": "white"
             }
            },
            "type": "table"
           }
          ]
         },
         "layout": {
          "annotationdefaults": {
           "arrowcolor": "#2a3f5f",
           "arrowhead": 0,
           "arrowwidth": 1
          },
          "autotypenumbers": "strict",
          "coloraxis": {
           "colorbar": {
            "outlinewidth": 0,
            "ticks": ""
           }
          },
          "colorscale": {
           "diverging": [
            [
             0,
             "#8e0152"
            ],
            [
             0.1,
             "#c51b7d"
            ],
            [
             0.2,
             "#de77ae"
            ],
            [
             0.3,
             "#f1b6da"
            ],
            [
             0.4,
             "#fde0ef"
            ],
            [
             0.5,
             "#f7f7f7"
            ],
            [
             0.6,
             "#e6f5d0"
            ],
            [
             0.7,
             "#b8e186"
            ],
            [
             0.8,
             "#7fbc41"
            ],
            [
             0.9,
             "#4d9221"
            ],
            [
             1,
             "#276419"
            ]
           ],
           "sequential": [
            [
             0,
             "#0d0887"
            ],
            [
             0.1111111111111111,
             "#46039f"
            ],
            [
             0.2222222222222222,
             "#7201a8"
            ],
            [
             0.3333333333333333,
             "#9c179e"
            ],
            [
             0.4444444444444444,
             "#bd3786"
            ],
            [
             0.5555555555555556,
             "#d8576b"
            ],
            [
             0.6666666666666666,
             "#ed7953"
            ],
            [
             0.7777777777777778,
             "#fb9f3a"
            ],
            [
             0.8888888888888888,
             "#fdca26"
            ],
            [
             1,
             "#f0f921"
            ]
           ],
           "sequentialminus": [
            [
             0,
             "#0d0887"
            ],
            [
             0.1111111111111111,
             "#46039f"
            ],
            [
             0.2222222222222222,
             "#7201a8"
            ],
            [
             0.3333333333333333,
             "#9c179e"
            ],
            [
             0.4444444444444444,
             "#bd3786"
            ],
            [
             0.5555555555555556,
             "#d8576b"
            ],
            [
             0.6666666666666666,
             "#ed7953"
            ],
            [
             0.7777777777777778,
             "#fb9f3a"
            ],
            [
             0.8888888888888888,
             "#fdca26"
            ],
            [
             1,
             "#f0f921"
            ]
           ]
          },
          "colorway": [
           "#636efa",
           "#EF553B",
           "#00cc96",
           "#ab63fa",
           "#FFA15A",
           "#19d3f3",
           "#FF6692",
           "#B6E880",
           "#FF97FF",
           "#FECB52"
          ],
          "font": {
           "color": "#2a3f5f"
          },
          "geo": {
           "bgcolor": "white",
           "lakecolor": "white",
           "landcolor": "#E5ECF6",
           "showlakes": true,
           "showland": true,
           "subunitcolor": "white"
          },
          "hoverlabel": {
           "align": "left"
          },
          "hovermode": "closest",
          "mapbox": {
           "style": "light"
          },
          "paper_bgcolor": "white",
          "plot_bgcolor": "#E5ECF6",
          "polar": {
           "angularaxis": {
            "gridcolor": "white",
            "linecolor": "white",
            "ticks": ""
           },
           "bgcolor": "#E5ECF6",
           "radialaxis": {
            "gridcolor": "white",
            "linecolor": "white",
            "ticks": ""
           }
          },
          "scene": {
           "xaxis": {
            "backgroundcolor": "#E5ECF6",
            "gridcolor": "white",
            "gridwidth": 2,
            "linecolor": "white",
            "showbackground": true,
            "ticks": "",
            "zerolinecolor": "white"
           },
           "yaxis": {
            "backgroundcolor": "#E5ECF6",
            "gridcolor": "white",
            "gridwidth": 2,
            "linecolor": "white",
            "showbackground": true,
            "ticks": "",
            "zerolinecolor": "white"
           },
           "zaxis": {
            "backgroundcolor": "#E5ECF6",
            "gridcolor": "white",
            "gridwidth": 2,
            "linecolor": "white",
            "showbackground": true,
            "ticks": "",
            "zerolinecolor": "white"
           }
          },
          "shapedefaults": {
           "line": {
            "color": "#2a3f5f"
           }
          },
          "ternary": {
           "aaxis": {
            "gridcolor": "white",
            "linecolor": "white",
            "ticks": ""
           },
           "baxis": {
            "gridcolor": "white",
            "linecolor": "white",
            "ticks": ""
           },
           "bgcolor": "#E5ECF6",
           "caxis": {
            "gridcolor": "white",
            "linecolor": "white",
            "ticks": ""
           }
          },
          "title": {
           "x": 0.05
          },
          "xaxis": {
           "automargin": true,
           "gridcolor": "white",
           "linecolor": "white",
           "ticks": "",
           "title": {
            "standoff": 15
           },
           "zerolinecolor": "white",
           "zerolinewidth": 2
          },
          "yaxis": {
           "automargin": true,
           "gridcolor": "white",
           "linecolor": "white",
           "ticks": "",
           "title": {
            "standoff": 15
           },
           "zerolinecolor": "white",
           "zerolinewidth": 2
          }
         }
        }
       }
      },
      "text/html": [
       "<div>                            <div id=\"6676b085-8677-49b0-86d5-6423f5d1b5dc\" class=\"plotly-graph-div\" style=\"height:525px; width:100%;\"></div>            <script type=\"text/javascript\">                require([\"plotly\"], function(Plotly) {                    window.PLOTLYENV=window.PLOTLYENV || {};                                    if (document.getElementById(\"6676b085-8677-49b0-86d5-6423f5d1b5dc\")) {                    Plotly.newPlot(                        \"6676b085-8677-49b0-86d5-6423f5d1b5dc\",                        [{\"domain\":{\"x\":[0.0,1.0],\"y\":[0.0,1.0]},\"hovertemplate\":\"index=%{label}<br>type=%{value}<extra></extra>\",\"labels\":[\"Movie\",\"TV Show\"],\"legendgroup\":\"\",\"name\":\"\",\"showlegend\":true,\"values\":[6131,2676],\"type\":\"pie\",\"marker\":{\"line\":{\"color\":\"white\",\"width\":1}},\"textinfo\":\"percent+label\",\"textposition\":\"inside\"}],                        {\"template\":{\"data\":{\"bar\":[{\"error_x\":{\"color\":\"#2a3f5f\"},\"error_y\":{\"color\":\"#2a3f5f\"},\"marker\":{\"line\":{\"color\":\"#E5ECF6\",\"width\":0.5},\"pattern\":{\"fillmode\":\"overlay\",\"size\":10,\"solidity\":0.2}},\"type\":\"bar\"}],\"barpolar\":[{\"marker\":{\"line\":{\"color\":\"#E5ECF6\",\"width\":0.5},\"pattern\":{\"fillmode\":\"overlay\",\"size\":10,\"solidity\":0.2}},\"type\":\"barpolar\"}],\"carpet\":[{\"aaxis\":{\"endlinecolor\":\"#2a3f5f\",\"gridcolor\":\"white\",\"linecolor\":\"white\",\"minorgridcolor\":\"white\",\"startlinecolor\":\"#2a3f5f\"},\"baxis\":{\"endlinecolor\":\"#2a3f5f\",\"gridcolor\":\"white\",\"linecolor\":\"white\",\"minorgridcolor\":\"white\",\"startlinecolor\":\"#2a3f5f\"},\"type\":\"carpet\"}],\"choropleth\":[{\"colorbar\":{\"outlinewidth\":0,\"ticks\":\"\"},\"type\":\"choropleth\"}],\"contour\":[{\"colorbar\":{\"outlinewidth\":0,\"ticks\":\"\"},\"colorscale\":[[0.0,\"#0d0887\"],[0.1111111111111111,\"#46039f\"],[0.2222222222222222,\"#7201a8\"],[0.3333333333333333,\"#9c179e\"],[0.4444444444444444,\"#bd3786\"],[0.5555555555555556,\"#d8576b\"],[0.6666666666666666,\"#ed7953\"],[0.7777777777777778,\"#fb9f3a\"],[0.8888888888888888,\"#fdca26\"],[1.0,\"#f0f921\"]],\"type\":\"contour\"}],\"contourcarpet\":[{\"colorbar\":{\"outlinewidth\":0,\"ticks\":\"\"},\"type\":\"contourcarpet\"}],\"heatmap\":[{\"colorbar\":{\"outlinewidth\":0,\"ticks\":\"\"},\"colorscale\":[[0.0,\"#0d0887\"],[0.1111111111111111,\"#46039f\"],[0.2222222222222222,\"#7201a8\"],[0.3333333333333333,\"#9c179e\"],[0.4444444444444444,\"#bd3786\"],[0.5555555555555556,\"#d8576b\"],[0.6666666666666666,\"#ed7953\"],[0.7777777777777778,\"#fb9f3a\"],[0.8888888888888888,\"#fdca26\"],[1.0,\"#f0f921\"]],\"type\":\"heatmap\"}],\"heatmapgl\":[{\"colorbar\":{\"outlinewidth\":0,\"ticks\":\"\"},\"colorscale\":[[0.0,\"#0d0887\"],[0.1111111111111111,\"#46039f\"],[0.2222222222222222,\"#7201a8\"],[0.3333333333333333,\"#9c179e\"],[0.4444444444444444,\"#bd3786\"],[0.5555555555555556,\"#d8576b\"],[0.6666666666666666,\"#ed7953\"],[0.7777777777777778,\"#fb9f3a\"],[0.8888888888888888,\"#fdca26\"],[1.0,\"#f0f921\"]],\"type\":\"heatmapgl\"}],\"histogram\":[{\"marker\":{\"pattern\":{\"fillmode\":\"overlay\",\"size\":10,\"solidity\":0.2}},\"type\":\"histogram\"}],\"histogram2d\":[{\"colorbar\":{\"outlinewidth\":0,\"ticks\":\"\"},\"colorscale\":[[0.0,\"#0d0887\"],[0.1111111111111111,\"#46039f\"],[0.2222222222222222,\"#7201a8\"],[0.3333333333333333,\"#9c179e\"],[0.4444444444444444,\"#bd3786\"],[0.5555555555555556,\"#d8576b\"],[0.6666666666666666,\"#ed7953\"],[0.7777777777777778,\"#fb9f3a\"],[0.8888888888888888,\"#fdca26\"],[1.0,\"#f0f921\"]],\"type\":\"histogram2d\"}],\"histogram2dcontour\":[{\"colorbar\":{\"outlinewidth\":0,\"ticks\":\"\"},\"colorscale\":[[0.0,\"#0d0887\"],[0.1111111111111111,\"#46039f\"],[0.2222222222222222,\"#7201a8\"],[0.3333333333333333,\"#9c179e\"],[0.4444444444444444,\"#bd3786\"],[0.5555555555555556,\"#d8576b\"],[0.6666666666666666,\"#ed7953\"],[0.7777777777777778,\"#fb9f3a\"],[0.8888888888888888,\"#fdca26\"],[1.0,\"#f0f921\"]],\"type\":\"histogram2dcontour\"}],\"mesh3d\":[{\"colorbar\":{\"outlinewidth\":0,\"ticks\":\"\"},\"type\":\"mesh3d\"}],\"parcoords\":[{\"line\":{\"colorbar\":{\"outlinewidth\":0,\"ticks\":\"\"}},\"type\":\"parcoords\"}],\"pie\":[{\"automargin\":true,\"type\":\"pie\"}],\"scatter\":[{\"marker\":{\"colorbar\":{\"outlinewidth\":0,\"ticks\":\"\"}},\"type\":\"scatter\"}],\"scatter3d\":[{\"line\":{\"colorbar\":{\"outlinewidth\":0,\"ticks\":\"\"}},\"marker\":{\"colorbar\":{\"outlinewidth\":0,\"ticks\":\"\"}},\"type\":\"scatter3d\"}],\"scattercarpet\":[{\"marker\":{\"colorbar\":{\"outlinewidth\":0,\"ticks\":\"\"}},\"type\":\"scattercarpet\"}],\"scattergeo\":[{\"marker\":{\"colorbar\":{\"outlinewidth\":0,\"ticks\":\"\"}},\"type\":\"scattergeo\"}],\"scattergl\":[{\"marker\":{\"colorbar\":{\"outlinewidth\":0,\"ticks\":\"\"}},\"type\":\"scattergl\"}],\"scattermapbox\":[{\"marker\":{\"colorbar\":{\"outlinewidth\":0,\"ticks\":\"\"}},\"type\":\"scattermapbox\"}],\"scatterpolar\":[{\"marker\":{\"colorbar\":{\"outlinewidth\":0,\"ticks\":\"\"}},\"type\":\"scatterpolar\"}],\"scatterpolargl\":[{\"marker\":{\"colorbar\":{\"outlinewidth\":0,\"ticks\":\"\"}},\"type\":\"scatterpolargl\"}],\"scatterternary\":[{\"marker\":{\"colorbar\":{\"outlinewidth\":0,\"ticks\":\"\"}},\"type\":\"scatterternary\"}],\"surface\":[{\"colorbar\":{\"outlinewidth\":0,\"ticks\":\"\"},\"colorscale\":[[0.0,\"#0d0887\"],[0.1111111111111111,\"#46039f\"],[0.2222222222222222,\"#7201a8\"],[0.3333333333333333,\"#9c179e\"],[0.4444444444444444,\"#bd3786\"],[0.5555555555555556,\"#d8576b\"],[0.6666666666666666,\"#ed7953\"],[0.7777777777777778,\"#fb9f3a\"],[0.8888888888888888,\"#fdca26\"],[1.0,\"#f0f921\"]],\"type\":\"surface\"}],\"table\":[{\"cells\":{\"fill\":{\"color\":\"#EBF0F8\"},\"line\":{\"color\":\"white\"}},\"header\":{\"fill\":{\"color\":\"#C8D4E3\"},\"line\":{\"color\":\"white\"}},\"type\":\"table\"}]},\"layout\":{\"annotationdefaults\":{\"arrowcolor\":\"#2a3f5f\",\"arrowhead\":0,\"arrowwidth\":1},\"autotypenumbers\":\"strict\",\"coloraxis\":{\"colorbar\":{\"outlinewidth\":0,\"ticks\":\"\"}},\"colorscale\":{\"diverging\":[[0,\"#8e0152\"],[0.1,\"#c51b7d\"],[0.2,\"#de77ae\"],[0.3,\"#f1b6da\"],[0.4,\"#fde0ef\"],[0.5,\"#f7f7f7\"],[0.6,\"#e6f5d0\"],[0.7,\"#b8e186\"],[0.8,\"#7fbc41\"],[0.9,\"#4d9221\"],[1,\"#276419\"]],\"sequential\":[[0.0,\"#0d0887\"],[0.1111111111111111,\"#46039f\"],[0.2222222222222222,\"#7201a8\"],[0.3333333333333333,\"#9c179e\"],[0.4444444444444444,\"#bd3786\"],[0.5555555555555556,\"#d8576b\"],[0.6666666666666666,\"#ed7953\"],[0.7777777777777778,\"#fb9f3a\"],[0.8888888888888888,\"#fdca26\"],[1.0,\"#f0f921\"]],\"sequentialminus\":[[0.0,\"#0d0887\"],[0.1111111111111111,\"#46039f\"],[0.2222222222222222,\"#7201a8\"],[0.3333333333333333,\"#9c179e\"],[0.4444444444444444,\"#bd3786\"],[0.5555555555555556,\"#d8576b\"],[0.6666666666666666,\"#ed7953\"],[0.7777777777777778,\"#fb9f3a\"],[0.8888888888888888,\"#fdca26\"],[1.0,\"#f0f921\"]]},\"colorway\":[\"#636efa\",\"#EF553B\",\"#00cc96\",\"#ab63fa\",\"#FFA15A\",\"#19d3f3\",\"#FF6692\",\"#B6E880\",\"#FF97FF\",\"#FECB52\"],\"font\":{\"color\":\"#2a3f5f\"},\"geo\":{\"bgcolor\":\"white\",\"lakecolor\":\"white\",\"landcolor\":\"#E5ECF6\",\"showlakes\":true,\"showland\":true,\"subunitcolor\":\"white\"},\"hoverlabel\":{\"align\":\"left\"},\"hovermode\":\"closest\",\"mapbox\":{\"style\":\"light\"},\"paper_bgcolor\":\"white\",\"plot_bgcolor\":\"#E5ECF6\",\"polar\":{\"angularaxis\":{\"gridcolor\":\"white\",\"linecolor\":\"white\",\"ticks\":\"\"},\"bgcolor\":\"#E5ECF6\",\"radialaxis\":{\"gridcolor\":\"white\",\"linecolor\":\"white\",\"ticks\":\"\"}},\"scene\":{\"xaxis\":{\"backgroundcolor\":\"#E5ECF6\",\"gridcolor\":\"white\",\"gridwidth\":2,\"linecolor\":\"white\",\"showbackground\":true,\"ticks\":\"\",\"zerolinecolor\":\"white\"},\"yaxis\":{\"backgroundcolor\":\"#E5ECF6\",\"gridcolor\":\"white\",\"gridwidth\":2,\"linecolor\":\"white\",\"showbackground\":true,\"ticks\":\"\",\"zerolinecolor\":\"white\"},\"zaxis\":{\"backgroundcolor\":\"#E5ECF6\",\"gridcolor\":\"white\",\"gridwidth\":2,\"linecolor\":\"white\",\"showbackground\":true,\"ticks\":\"\",\"zerolinecolor\":\"white\"}},\"shapedefaults\":{\"line\":{\"color\":\"#2a3f5f\"}},\"ternary\":{\"aaxis\":{\"gridcolor\":\"white\",\"linecolor\":\"white\",\"ticks\":\"\"},\"baxis\":{\"gridcolor\":\"white\",\"linecolor\":\"white\",\"ticks\":\"\"},\"bgcolor\":\"#E5ECF6\",\"caxis\":{\"gridcolor\":\"white\",\"linecolor\":\"white\",\"ticks\":\"\"}},\"title\":{\"x\":0.05},\"xaxis\":{\"automargin\":true,\"gridcolor\":\"white\",\"linecolor\":\"white\",\"ticks\":\"\",\"title\":{\"standoff\":15},\"zerolinecolor\":\"white\",\"zerolinewidth\":2},\"yaxis\":{\"automargin\":true,\"gridcolor\":\"white\",\"linecolor\":\"white\",\"ticks\":\"\",\"title\":{\"standoff\":15},\"zerolinecolor\":\"white\",\"zerolinewidth\":2}}},\"legend\":{\"tracegroupgap\":0},\"margin\":{\"t\":60},\"piecolorway\":[\"rgb(103,0,31)\",\"rgb(178,24,43)\",\"rgb(214,96,77)\",\"rgb(244,165,130)\",\"rgb(253,219,199)\",\"rgb(247,247,247)\",\"rgb(209,229,240)\",\"rgb(146,197,222)\",\"rgb(67,147,195)\",\"rgb(33,102,172)\",\"rgb(5,48,97)\"]},                        {\"responsive\": true}                    ).then(function(){\n",
       "                            \n",
       "var gd = document.getElementById('6676b085-8677-49b0-86d5-6423f5d1b5dc');\n",
       "var x = new MutationObserver(function (mutations, observer) {{\n",
       "        var display = window.getComputedStyle(gd).display;\n",
       "        if (!display || display === 'none') {{\n",
       "            console.log([gd, 'removed!']);\n",
       "            Plotly.purge(gd);\n",
       "            observer.disconnect();\n",
       "        }}\n",
       "}});\n",
       "\n",
       "// Listen for the removal of the full notebook cells\n",
       "var notebookContainer = gd.closest('#notebook-container');\n",
       "if (notebookContainer) {{\n",
       "    x.observe(notebookContainer, {childList: true});\n",
       "}}\n",
       "\n",
       "// Listen for the clearing of the current output cell\n",
       "var outputEl = gd.closest('.output');\n",
       "if (outputEl) {{\n",
       "    x.observe(outputEl, {childList: true});\n",
       "}}\n",
       "\n",
       "                        })                };                });            </script>        </div>"
      ]
     },
     "metadata": {},
     "output_type": "display_data"
    }
   ],
   "source": [
    "x = netflix['type'].value_counts().reset_index()\n",
    "\n",
    "fig = px.pie(x,values='type',names='index',color_discrete_sequence=px.colors.sequential.RdBu)\n",
    "fig.update_traces(textposition='inside', textinfo='percent+label',\n",
    "                  marker = dict(line = dict(color = 'white', width = 1)))"
   ]
  },
  {
   "cell_type": "markdown",
   "id": "5f2f79f7",
   "metadata": {},
   "source": [
    "- It is evident that there are more Movies on Netflix than TV shows."
   ]
  },
  {
   "cell_type": "markdown",
   "id": "40141e00",
   "metadata": {
    "ExecuteTime": {
     "end_time": "2022-07-12T20:12:57.382503Z",
     "start_time": "2022-07-12T20:12:57.366758Z"
    }
   },
   "source": [
    "### Analysing netflix ratings"
   ]
  },
  {
   "cell_type": "code",
   "execution_count": 34,
   "id": "9b68a63b",
   "metadata": {
    "ExecuteTime": {
     "end_time": "2022-07-12T22:34:13.882945Z",
     "start_time": "2022-07-12T22:34:13.490340Z"
    },
    "scrolled": false
   },
   "outputs": [
    {
     "data": {
      "image/png": "[encoded data removed]",
      "text/plain": [
       "<Figure size 864x720 with 1 Axes>"
      ]
     },
     "metadata": {},
     "output_type": "display_data"
    }
   ],
   "source": [
    "plt.figure(figsize=(12,10))\n",
    "sns.set(style=\"darkgrid\")\n",
    "\n",
    "ax = sns.countplot(x=\"rating\", data=netflix, order=netflix[\"rating\"].value_counts().index[0:15])\n",
    "for p in ax.patches:\n",
    "    ax.text(p.get_x() + p.get_width()/2., p.get_height(), '%d' % int(p.get_height()), ha='center')"
   ]
  },
  {
   "cell_type": "markdown",
   "id": "a6cd9ab9",
   "metadata": {},
   "source": [
    "- The largest count of movies are made with the 'TV-MA' rating.\"TV-MA\" is a rating assigned by the TV Parental Guidelines to a television program that was designed for mature audiences only.<br>\n",
    "\n",
    "- Second largest is the 'TV-14' stands for content that may be inappropriate for children younger than 14 years of age.<br>\n",
    "\n",
    "- Third largest is the very popular 'R' rating.An R-rated film is a film that has been assessed as having material which may be unsuitable for children under the age of 17 by the Motion Picture Association of America; the MPAA writes \"Under 17 requires accompanying parent or adult guardian\".<br>"
   ]
  },
  {
   "cell_type": "code",
   "execution_count": 35,
   "id": "32d3a5c2",
   "metadata": {
    "ExecuteTime": {
     "end_time": "2022-07-12T22:34:14.592520Z",
     "start_time": "2022-07-12T22:34:14.568486Z"
    },
    "scrolled": true
   },
   "outputs": [
    {
     "data": {
      "text/plain": [
       "array(['PG-13', 'TV-MA', 'PG', 'TV-14', 'TV-PG', 'TV-Y', 'TV-Y7', 'R',\n",
       "       'TV-G', 'G', 'NC-17', '74 min', '84 min', '66 min', 'NR',\n",
       "       'TV-Y7-FV', 'UR'], dtype=object)"
      ]
     },
     "execution_count": 35,
     "metadata": {},
     "output_type": "execute_result"
    }
   ],
   "source": [
    "# Exploring all the ratings\n",
    "netflix.rating.unique()"
   ]
  },
  {
   "cell_type": "markdown",
   "id": "e4bb1bcc",
   "metadata": {},
   "source": [
    "**Adding new column as target_ages**"
   ]
  },
  {
   "cell_type": "code",
   "execution_count": 36,
   "id": "2a0abb9a",
   "metadata": {
    "ExecuteTime": {
     "end_time": "2022-07-12T22:34:15.370973Z",
     "start_time": "2022-07-12T22:34:15.346940Z"
    }
   },
   "outputs": [],
   "source": [
    "# adding new column as ratings_ages\n",
    "ratings_ages = {\n",
    "    'PG-13': 'Teens',\n",
    "    'PG': 'Older Kids',\n",
    "    'TV-MA': 'Adults',\n",
    "    'TV-14': 'Teens',\n",
    "    'TV-Y': 'Kids',\n",
    "    'R': 'Adults',\n",
    "    'TV-G': 'Kids',\n",
    "    'TV-Y7': 'Older Kids',\n",
    "    'G': 'Kids',\n",
    "    'NC-17': 'Adults',\n",
    "    'TV-PG': 'Older Kids',\n",
    "    'NR': 'Adults',\n",
    "    'TV-Y7-FV': 'Older Kids',\n",
    "    'UR': 'Adults'\n",
    "}\n",
    "netflix[\"target_ages\"] = netflix[\"rating\"].replace(ratings_ages)"
   ]
  },
  {
   "cell_type": "code",
   "execution_count": 37,
   "id": "11cd5ab1",
   "metadata": {
    "ExecuteTime": {
     "end_time": "2022-07-12T22:34:19.947651Z",
     "start_time": "2022-07-12T22:34:19.639568Z"
    },
    "scrolled": false
   },
   "outputs": [
    {
     "data": {
      "image/png": "[encoded data removed]",
      "text/plain": [
       "<Figure size 864x720 with 1 Axes>"
      ]
     },
     "metadata": {},
     "output_type": "display_data"
    }
   ],
   "source": [
    "plt.figure(figsize=(12,10))\n",
    "sns.set(style=\"darkgrid\")\n",
    "plt.title(\"Rating wise content on netflix\")\n",
    "\n",
    "ax = sns.countplot(x=\"target_ages\", data=netflix, order=netflix[\"target_ages\"].value_counts().index[:])\n",
    "\n",
    "for p in ax.patches:\n",
    "    ax.text(p.get_x() + p.get_width()/2., p.get_height(), '%d' % int(p.get_height()), ha='center')\n"
   ]
  },
  {
   "cell_type": "markdown",
   "id": "530ecea4",
   "metadata": {},
   "source": [
    "**Adding a column Genre_main for genre analysis**"
   ]
  },
  {
   "cell_type": "code",
   "execution_count": 57,
   "id": "75d2539e",
   "metadata": {
    "ExecuteTime": {
     "end_time": "2022-07-12T22:52:03.796645Z",
     "start_time": "2022-07-12T22:52:03.009012Z"
    },
    "scrolled": false
   },
   "outputs": [
    {
     "data": {
      "image/png": "[encoded data removed]",
      "text/plain": [
       "<Figure size 1296x720 with 1 Axes>"
      ]
     },
     "metadata": {},
     "output_type": "display_data"
    }
   ],
   "source": [
    "netflix[\"genre_main\"] = netflix[\"listed_in\"].apply(lambda x:x.split(\",\")[0])\n",
    "plt.figure(figsize=(18,10))\n",
    "plt.title(\"Genre wise contribution on netflix\")\n",
    "ax = sns.countplot(x=\"genre_main\", data=netflix, order=netflix[\"genre_main\"].value_counts().index[:])\n",
    "\n",
    "for p in ax.patches:\n",
    "    ax.text(p.get_x() + p.get_width()/2., p.get_height(), '%d' % int(p.get_height()), ha='center')\n",
    "ax.tick_params(axis='x', rotation=90)\n"
   ]
  },
  {
   "cell_type": "markdown",
   "id": "806fed7e",
   "metadata": {},
   "source": [
    "**So, 'Dramas, Comedies, Action & Adventure, Documentries and International TV Shows' Categories covers most of content on Netflix** <br>\n",
    "\n",
    "Let's have a look at wordcloud.<br> "
   ]
  },
  {
   "cell_type": "code",
   "execution_count": 72,
   "id": "d9d60b97",
   "metadata": {
    "ExecuteTime": {
     "end_time": "2022-07-12T23:01:10.817116Z",
     "start_time": "2022-07-12T23:01:08.997374Z"
    }
   },
   "outputs": [
    {
     "data": {
      "image/png": "[encoded data removed]",
      "text/plain": [
       "<Figure size 720x576 with 1 Axes>"
      ]
     },
     "metadata": {},
     "output_type": "display_data"
    }
   ],
   "source": [
    "text = ' '.join(netflix['listed_in'])\n",
    "\n",
    "wordcloud = WordCloud(random_state=1, \n",
    "                      background_color='white', \n",
    "#                       colormap='Pastel1',  \n",
    "                      stopwords = STOPWORDS).generate(text)\n",
    "plt.figure(figsize=(10,8))\n",
    "plt.imshow(wordcloud)\n",
    "plt.axis(\"off\")\n",
    "plt.title('Word Cloud for Type of Movie',size='15')\n",
    "plt.show()"
   ]
  },
  {
   "cell_type": "markdown",
   "id": "20c9c4f1",
   "metadata": {},
   "source": [
    "**Lets analyse the country wise content.**<br>\n",
    "\n",
    "I will drop the director column as filling up the values will not be practically possible. Same for the cast column. "
   ]
  },
  {
   "cell_type": "code",
   "execution_count": 111,
   "id": "850c5238",
   "metadata": {
    "ExecuteTime": {
     "end_time": "2022-07-12T23:30:49.053366Z",
     "start_time": "2022-07-12T23:30:48.985230Z"
    }
   },
   "outputs": [
    {
     "data": {
      "text/plain": [
       "show_id         0\n",
       "type            0\n",
       "title           0\n",
       "country         0\n",
       "date_added      0\n",
       "release_year    0\n",
       "rating          0\n",
       "duration        3\n",
       "listed_in       0\n",
       "description     0\n",
       "target_ages     0\n",
       "genre_main      0\n",
       "dtype: int64"
      ]
     },
     "execution_count": 111,
     "metadata": {},
     "output_type": "execute_result"
    }
   ],
   "source": [
    "# making a new copy for country analysis\n",
    "netflix_country = netflix.copy()\n",
    "netflix_country = netflix_country.drop([\"cast\",\"director\"], axis=1)\n",
    "netflix_country = netflix_country.dropna()\n",
    "netflix_country.isnull().sum()"
   ]
  },
  {
   "cell_type": "code",
   "execution_count": 112,
   "id": "341c47f5",
   "metadata": {
    "ExecuteTime": {
     "end_time": "2022-07-12T23:30:54.935225Z",
     "start_time": "2022-07-12T23:30:54.911486Z"
    }
   },
   "outputs": [],
   "source": [
    "netflix_country[\"country_main\"] = netflix_country[\"country\"].apply(lambda x:x.split(\",\")[0])"
   ]
  },
  {
   "cell_type": "code",
   "execution_count": 113,
   "id": "c6e58c45",
   "metadata": {
    "ExecuteTime": {
     "end_time": "2022-07-12T23:30:56.011240Z",
     "start_time": "2022-07-12T23:30:55.867284Z"
    }
   },
   "outputs": [
    {
     "name": "stdout",
     "output_type": "stream",
     "text": [
      "Country wise contribution on Netflix\n"
     ]
    },
    {
     "data": {
      "application/vnd.plotly.v1+json": {
       "config": {
        "plotlyServerURL": "https://plot.ly"
       },
       "data": [
        {
         "domain": {
          "x": [
           0,
           1
          ],
          "y": [
           0,
           1
          ]
         },
         "hovertemplate": "index=%{label}<br>country_main=%{value}<extra></extra>",
         "labels": [
          "United States",
          "India",
          "United Kingdom",
          "Canada",
          "Japan",
          "France",
          "South Korea",
          "Spain",
          "Mexico",
          "Australia",
          "Egypt",
          "Turkey",
          "Germany",
          "China",
          "Nigeria"
         ],
         "legendgroup": "",
         "marker": {
          "line": {
           "color": "white",
           "width": 1
          }
         },
         "name": "",
         "showlegend": true,
         "textinfo": "percent+label",
         "textposition": "inside",
         "type": "pie",
         "values": [
          4042,
          1008,
          628,
          271,
          259,
          212,
          211,
          181,
          134,
          117,
          112,
          111,
          103,
          100,
          96
         ]
        }
       ],
       "layout": {
        "legend": {
         "tracegroupgap": 0
        },
        "margin": {
         "t": 60
        },
        "piecolorway": [
         "rgb(103,0,31)",
         "rgb(178,24,43)",
         "rgb(214,96,77)",
         "rgb(244,165,130)",
         "rgb(253,219,199)",
         "rgb(247,247,247)",
         "rgb(209,229,240)",
         "rgb(146,197,222)",
         "rgb(67,147,195)",
         "rgb(33,102,172)",
         "rgb(5,48,97)"
        ],
        "template": {
         "data": {
          "bar": [
           {
            "error_x": {
             "color": "#2a3f5f"
            },
            "error_y": {
             "color": "#2a3f5f"
            },
            "marker": {
             "line": {
              "color": "#E5ECF6",
              "width": 0.5
             },
             "pattern": {
              "fillmode": "overlay",
              "size": 10,
              "solidity": 0.2
             }
            },
            "type": "bar"
           }
          ],
          "barpolar": [
           {
            "marker": {
             "line": {
              "color": "#E5ECF6",
              "width": 0.5
             },
             "pattern": {
              "fillmode": "overlay",
              "size": 10,
              "solidity": 0.2
             }
            },
            "type": "barpolar"
           }
          ],
          "carpet": [
           {
            "aaxis": {
             "endlinecolor": "#2a3f5f",
             "gridcolor": "white",
             "linecolor": "white",
             "minorgridcolor": "white",
             "startlinecolor": "#2a3f5f"
            },
            "baxis": {
             "endlinecolor": "#2a3f5f",
             "gridcolor": "white",
             "linecolor": "white",
             "minorgridcolor": "white",
             "startlinecolor": "#2a3f5f"
            },
            "type": "carpet"
           }
          ],
          "choropleth": [
           {
            "colorbar": {
             "outlinewidth": 0,
             "ticks": ""
            },
            "type": "choropleth"
           }
          ],
          "contour": [
           {
            "colorbar": {
             "outlinewidth": 0,
             "ticks": ""
            },
            "colorscale": [
             [
              0,
              "#0d0887"
             ],
             [
              0.1111111111111111,
              "#46039f"
             ],
             [
              0.2222222222222222,
              "#7201a8"
             ],
             [
              0.3333333333333333,
              "#9c179e"
             ],
             [
              0.4444444444444444,
              "#bd3786"
             ],
             [
              0.5555555555555556,
              "#d8576b"
             ],
             [
              0.6666666666666666,
              "#ed7953"
             ],
             [
              0.7777777777777778,
              "#fb9f3a"
             ],
             [
              0.8888888888888888,
              "#fdca26"
             ],
             [
              1,
              "#f0f921"
             ]
            ],
            "type": "contour"
           }
          ],
          "contourcarpet": [
           {
            "colorbar": {
             "outlinewidth": 0,
             "ticks": ""
            },
            "type": "contourcarpet"
           }
          ],
          "heatmap": [
           {
            "colorbar": {
             "outlinewidth": 0,
             "ticks": ""
            },
            "colorscale": [
             [
              0,
              "#0d0887"
             ],
             [
              0.1111111111111111,
              "#46039f"
             ],
             [
              0.2222222222222222,
              "#7201a8"
             ],
             [
              0.3333333333333333,
              "#9c179e"
             ],
             [
              0.4444444444444444,
              "#bd3786"
             ],
             [
              0.5555555555555556,
              "#d8576b"
             ],
             [
              0.6666666666666666,
              "#ed7953"
             ],
             [
              0.7777777777777778,
              "#fb9f3a"
             ],
             [
              0.8888888888888888,
              "#fdca26"
             ],
             [
              1,
              "#f0f921"
             ]
            ],
            "type": "heatmap"
           }
          ],
          "heatmapgl": [
           {
            "colorbar": {
             "outlinewidth": 0,
             "ticks": ""
            },
            "colorscale": [
             [
              0,
              "#0d0887"
             ],
             [
              0.1111111111111111,
              "#46039f"
             ],
             [
              0.2222222222222222,
              "#7201a8"
             ],
             [
              0.3333333333333333,
              "#9c179e"
             ],
             [
              0.4444444444444444,
              "#bd3786"
             ],
             [
              0.5555555555555556,
              "#d8576b"
             ],
             [
              0.6666666666666666,
              "#ed7953"
             ],
             [
              0.7777777777777778,
              "#fb9f3a"
             ],
             [
              0.8888888888888888,
              "#fdca26"
             ],
             [
              1,
              "#f0f921"
             ]
            ],
            "type": "heatmapgl"
           }
          ],
          "histogram": [
           {
            "marker": {
             "pattern": {
              "fillmode": "overlay",
              "size": 10,
              "solidity": 0.2
             }
            },
            "type": "histogram"
           }
          ],
          "histogram2d": [
           {
            "colorbar": {
             "outlinewidth": 0,
             "ticks": ""
            },
            "colorscale": [
             [
              0,
              "#0d0887"
             ],
             [
              0.1111111111111111,
              "#46039f"
             ],
             [
              0.2222222222222222,
              "#7201a8"
             ],
             [
              0.3333333333333333,
              "#9c179e"
             ],
             [
              0.4444444444444444,
              "#bd3786"
             ],
             [
              0.5555555555555556,
              "#d8576b"
             ],
             [
              0.6666666666666666,
              "#ed7953"
             ],
             [
              0.7777777777777778,
              "#fb9f3a"
             ],
             [
              0.8888888888888888,
              "#fdca26"
             ],
             [
              1,
              "#f0f921"
             ]
            ],
            "type": "histogram2d"
           }
          ],
          "histogram2dcontour": [
           {
            "colorbar": {
             "outlinewidth": 0,
             "ticks": ""
            },
            "colorscale": [
             [
              0,
              "#0d0887"
             ],
             [
              0.1111111111111111,
              "#46039f"
             ],
             [
              0.2222222222222222,
              "#7201a8"
             ],
             [
              0.3333333333333333,
              "#9c179e"
             ],
             [
              0.4444444444444444,
              "#bd3786"
             ],
             [
              0.5555555555555556,
              "#d8576b"
             ],
             [
              0.6666666666666666,
              "#ed7953"
             ],
             [
              0.7777777777777778,
              "#fb9f3a"
             ],
             [
              0.8888888888888888,
              "#fdca26"
             ],
             [
              1,
              "#f0f921"
             ]
            ],
            "type": "histogram2dcontour"
           }
          ],
          "mesh3d": [
           {
            "colorbar": {
             "outlinewidth": 0,
             "ticks": ""
            },
            "type": "mesh3d"
           }
          ],
          "parcoords": [
           {
            "line": {
             "colorbar": {
              "outlinewidth": 0,
              "ticks": ""
             }
            },
            "type": "parcoords"
           }
          ],
          "pie": [
           {
            "automargin": true,
            "type": "pie"
           }
          ],
          "scatter": [
           {
            "marker": {
             "colorbar": {
              "outlinewidth": 0,
              "ticks": ""
             }
            },
            "type": "scatter"
           }
          ],
          "scatter3d": [
           {
            "line": {
             "colorbar": {
              "outlinewidth": 0,
              "ticks": ""
             }
            },
            "marker": {
             "colorbar": {
              "outlinewidth": 0,
              "ticks": ""
             }
            },
            "type": "scatter3d"
           }
          ],
          "scattercarpet": [
           {
            "marker": {
             "colorbar": {
              "outlinewidth": 0,
              "ticks": ""
             }
            },
            "type": "scattercarpet"
           }
          ],
          "scattergeo": [
           {
            "marker": {
             "colorbar": {
              "outlinewidth": 0,
              "ticks": ""
             }
            },
            "type": "scattergeo"
           }
          ],
          "scattergl": [
           {
            "marker": {
             "colorbar": {
              "outlinewidth": 0,
              "ticks": ""
             }
            },
            "type": "scattergl"
           }
          ],
          "scattermapbox": [
           {
            "marker": {
             "colorbar": {
              "outlinewidth": 0,
              "ticks": ""
             }
            },
            "type": "scattermapbox"
           }
          ],
          "scatterpolar": [
           {
            "marker": {
             "colorbar": {
              "outlinewidth": 0,
              "ticks": ""
             }
            },
            "type": "scatterpolar"
           }
          ],
          "scatterpolargl": [
           {
            "marker": {
             "colorbar": {
              "outlinewidth": 0,
              "ticks": ""
             }
            },
            "type": "scatterpolargl"
           }
          ],
          "scatterternary": [
           {
            "marker": {
             "colorbar": {
              "outlinewidth": 0,
              "ticks": ""
             }
            },
            "type": "scatterternary"
           }
          ],
          "surface": [
           {
            "colorbar": {
             "outlinewidth": 0,
             "ticks": ""
            },
            "colorscale": [
             [
              0,
              "#0d0887"
             ],
             [
              0.1111111111111111,
              "#46039f"
             ],
             [
              0.2222222222222222,
              "#7201a8"
             ],
             [
              0.3333333333333333,
              "#9c179e"
             ],
             [
              0.4444444444444444,
              "#bd3786"
             ],
             [
              0.5555555555555556,
              "#d8576b"
             ],
             [
              0.6666666666666666,
              "#ed7953"
             ],
             [
              0.7777777777777778,
              "#fb9f3a"
             ],
             [
              0.8888888888888888,
              "#fdca26"
             ],
             [
              1,
              "#f0f921"
             ]
            ],
            "type": "surface"
           }
          ],
          "table": [
           {
            "cells": {
             "fill": {
              "color": "#EBF0F8"
             },
             "line": {
              "color": "white"
             }
            },
            "header": {
             "fill": {
              "color": "#C8D4E3"
             },
             "line": {
              "color": "white"
             }
            },
            "type": "table"
           }
          ]
         },
         "layout": {
          "annotationdefaults": {
           "arrowcolor": "#2a3f5f",
           "arrowhead": 0,
           "arrowwidth": 1
          },
          "autotypenumbers": "strict",
          "coloraxis": {
           "colorbar": {
            "outlinewidth": 0,
            "ticks": ""
           }
          },
          "colorscale": {
           "diverging": [
            [
             0,
             "#8e0152"
            ],
            [
             0.1,
             "#c51b7d"
            ],
            [
             0.2,
             "#de77ae"
            ],
            [
             0.3,
             "#f1b6da"
            ],
            [
             0.4,
             "#fde0ef"
            ],
            [
             0.5,
             "#f7f7f7"
            ],
            [
             0.6,
             "#e6f5d0"
            ],
            [
             0.7,
             "#b8e186"
            ],
            [
             0.8,
             "#7fbc41"
            ],
            [
             0.9,
             "#4d9221"
            ],
            [
             1,
             "#276419"
            ]
           ],
           "sequential": [
            [
             0,
             "#0d0887"
            ],
            [
             0.1111111111111111,
             "#46039f"
            ],
            [
             0.2222222222222222,
             "#7201a8"
            ],
            [
             0.3333333333333333,
             "#9c179e"
            ],
            [
             0.4444444444444444,
             "#bd3786"
            ],
            [
             0.5555555555555556,
             "#d8576b"
            ],
            [
             0.6666666666666666,
             "#ed7953"
            ],
            [
             0.7777777777777778,
             "#fb9f3a"
            ],
            [
             0.8888888888888888,
             "#fdca26"
            ],
            [
             1,
             "#f0f921"
            ]
           ],
           "sequentialminus": [
            [
             0,
             "#0d0887"
            ],
            [
             0.1111111111111111,
             "#46039f"
            ],
            [
             0.2222222222222222,
             "#7201a8"
            ],
            [
             0.3333333333333333,
             "#9c179e"
            ],
            [
             0.4444444444444444,
             "#bd3786"
            ],
            [
             0.5555555555555556,
             "#d8576b"
            ],
            [
             0.6666666666666666,
             "#ed7953"
            ],
            [
             0.7777777777777778,
             "#fb9f3a"
            ],
            [
             0.8888888888888888,
             "#fdca26"
            ],
            [
             1,
             "#f0f921"
            ]
           ]
          },
          "colorway": [
           "#636efa",
           "#EF553B",
           "#00cc96",
           "#ab63fa",
           "#FFA15A",
           "#19d3f3",
           "#FF6692",
           "#B6E880",
           "#FF97FF",
           "#FECB52"
          ],
          "font": {
           "color": "#2a3f5f"
          },
          "geo": {
           "bgcolor": "white",
           "lakecolor": "white",
           "landcolor": "#E5ECF6",
           "showlakes": true,
           "showland": true,
           "subunitcolor": "white"
          },
          "hoverlabel": {
           "align": "left"
          },
          "hovermode": "closest",
          "mapbox": {
           "style": "light"
          },
          "paper_bgcolor": "white",
          "plot_bgcolor": "#E5ECF6",
          "polar": {
           "angularaxis": {
            "gridcolor": "white",
            "linecolor": "white",
            "ticks": ""
           },
           "bgcolor": "#E5ECF6",
           "radialaxis": {
            "gridcolor": "white",
            "linecolor": "white",
            "ticks": ""
           }
          },
          "scene": {
           "xaxis": {
            "backgroundcolor": "#E5ECF6",
            "gridcolor": "white",
            "gridwidth": 2,
            "linecolor": "white",
            "showbackground": true,
            "ticks": "",
            "zerolinecolor": "white"
           },
           "yaxis": {
            "backgroundcolor": "#E5ECF6",
            "gridcolor": "white",
            "gridwidth": 2,
            "linecolor": "white",
            "showbackground": true,
            "ticks": "",
            "zerolinecolor": "white"
           },
           "zaxis": {
            "backgroundcolor": "#E5ECF6",
            "gridcolor": "white",
            "gridwidth": 2,
            "linecolor": "white",
            "showbackground": true,
            "ticks": "",
            "zerolinecolor": "white"
           }
          },
          "shapedefaults": {
           "line": {
            "color": "#2a3f5f"
           }
          },
          "ternary": {
           "aaxis": {
            "gridcolor": "white",
            "linecolor": "white",
            "ticks": ""
           },
           "baxis": {
            "gridcolor": "white",
            "linecolor": "white",
            "ticks": ""
           },
           "bgcolor": "#E5ECF6",
           "caxis": {
            "gridcolor": "white",
            "linecolor": "white",
            "ticks": ""
           }
          },
          "title": {
           "x": 0.05
          },
          "xaxis": {
           "automargin": true,
           "gridcolor": "white",
           "linecolor": "white",
           "ticks": "",
           "title": {
            "standoff": 15
           },
           "zerolinecolor": "white",
           "zerolinewidth": 2
          },
          "yaxis": {
           "automargin": true,
           "gridcolor": "white",
           "linecolor": "white",
           "ticks": "",
           "title": {
            "standoff": 15
           },
           "zerolinecolor": "white",
           "zerolinewidth": 2
          }
         }
        }
       }
      },
      "text/html": [
       "<div>                            <div id=\"5bec816e-2a5c-432a-b44f-3443e3d3e3af\" class=\"plotly-graph-div\" style=\"height:525px; width:100%;\"></div>            <script type=\"text/javascript\">                require([\"plotly\"], function(Plotly) {                    window.PLOTLYENV=window.PLOTLYENV || {};                                    if (document.getElementById(\"5bec816e-2a5c-432a-b44f-3443e3d3e3af\")) {                    Plotly.newPlot(                        \"5bec816e-2a5c-432a-b44f-3443e3d3e3af\",                        [{\"domain\":{\"x\":[0.0,1.0],\"y\":[0.0,1.0]},\"hovertemplate\":\"index=%{label}<br>country_main=%{value}<extra></extra>\",\"labels\":[\"United States\",\"India\",\"United Kingdom\",\"Canada\",\"Japan\",\"France\",\"South Korea\",\"Spain\",\"Mexico\",\"Australia\",\"Egypt\",\"Turkey\",\"Germany\",\"China\",\"Nigeria\"],\"legendgroup\":\"\",\"name\":\"\",\"showlegend\":true,\"values\":[4042,1008,628,271,259,212,211,181,134,117,112,111,103,100,96],\"type\":\"pie\",\"marker\":{\"line\":{\"color\":\"white\",\"width\":1}},\"textinfo\":\"percent+label\",\"textposition\":\"inside\"}],                        {\"template\":{\"data\":{\"bar\":[{\"error_x\":{\"color\":\"#2a3f5f\"},\"error_y\":{\"color\":\"#2a3f5f\"},\"marker\":{\"line\":{\"color\":\"#E5ECF6\",\"width\":0.5},\"pattern\":{\"fillmode\":\"overlay\",\"size\":10,\"solidity\":0.2}},\"type\":\"bar\"}],\"barpolar\":[{\"marker\":{\"line\":{\"color\":\"#E5ECF6\",\"width\":0.5},\"pattern\":{\"fillmode\":\"overlay\",\"size\":10,\"solidity\":0.2}},\"type\":\"barpolar\"}],\"carpet\":[{\"aaxis\":{\"endlinecolor\":\"#2a3f5f\",\"gridcolor\":\"white\",\"linecolor\":\"white\",\"minorgridcolor\":\"white\",\"startlinecolor\":\"#2a3f5f\"},\"baxis\":{\"endlinecolor\":\"#2a3f5f\",\"gridcolor\":\"white\",\"linecolor\":\"white\",\"minorgridcolor\":\"white\",\"startlinecolor\":\"#2a3f5f\"},\"type\":\"carpet\"}],\"choropleth\":[{\"colorbar\":{\"outlinewidth\":0,\"ticks\":\"\"},\"type\":\"choropleth\"}],\"contour\":[{\"colorbar\":{\"outlinewidth\":0,\"ticks\":\"\"},\"colorscale\":[[0.0,\"#0d0887\"],[0.1111111111111111,\"#46039f\"],[0.2222222222222222,\"#7201a8\"],[0.3333333333333333,\"#9c179e\"],[0.4444444444444444,\"#bd3786\"],[0.5555555555555556,\"#d8576b\"],[0.6666666666666666,\"#ed7953\"],[0.7777777777777778,\"#fb9f3a\"],[0.8888888888888888,\"#fdca26\"],[1.0,\"#f0f921\"]],\"type\":\"contour\"}],\"contourcarpet\":[{\"colorbar\":{\"outlinewidth\":0,\"ticks\":\"\"},\"type\":\"contourcarpet\"}],\"heatmap\":[{\"colorbar\":{\"outlinewidth\":0,\"ticks\":\"\"},\"colorscale\":[[0.0,\"#0d0887\"],[0.1111111111111111,\"#46039f\"],[0.2222222222222222,\"#7201a8\"],[0.3333333333333333,\"#9c179e\"],[0.4444444444444444,\"#bd3786\"],[0.5555555555555556,\"#d8576b\"],[0.6666666666666666,\"#ed7953\"],[0.7777777777777778,\"#fb9f3a\"],[0.8888888888888888,\"#fdca26\"],[1.0,\"#f0f921\"]],\"type\":\"heatmap\"}],\"heatmapgl\":[{\"colorbar\":{\"outlinewidth\":0,\"ticks\":\"\"},\"colorscale\":[[0.0,\"#0d0887\"],[0.1111111111111111,\"#46039f\"],[0.2222222222222222,\"#7201a8\"],[0.3333333333333333,\"#9c179e\"],[0.4444444444444444,\"#bd3786\"],[0.5555555555555556,\"#d8576b\"],[0.6666666666666666,\"#ed7953\"],[0.7777777777777778,\"#fb9f3a\"],[0.8888888888888888,\"#fdca26\"],[1.0,\"#f0f921\"]],\"type\":\"heatmapgl\"}],\"histogram\":[{\"marker\":{\"pattern\":{\"fillmode\":\"overlay\",\"size\":10,\"solidity\":0.2}},\"type\":\"histogram\"}],\"histogram2d\":[{\"colorbar\":{\"outlinewidth\":0,\"ticks\":\"\"},\"colorscale\":[[0.0,\"#0d0887\"],[0.1111111111111111,\"#46039f\"],[0.2222222222222222,\"#7201a8\"],[0.3333333333333333,\"#9c179e\"],[0.4444444444444444,\"#bd3786\"],[0.5555555555555556,\"#d8576b\"],[0.6666666666666666,\"#ed7953\"],[0.7777777777777778,\"#fb9f3a\"],[0.8888888888888888,\"#fdca26\"],[1.0,\"#f0f921\"]],\"type\":\"histogram2d\"}],\"histogram2dcontour\":[{\"colorbar\":{\"outlinewidth\":0,\"ticks\":\"\"},\"colorscale\":[[0.0,\"#0d0887\"],[0.1111111111111111,\"#46039f\"],[0.2222222222222222,\"#7201a8\"],[0.3333333333333333,\"#9c179e\"],[0.4444444444444444,\"#bd3786\"],[0.5555555555555556,\"#d8576b\"],[0.6666666666666666,\"#ed7953\"],[0.7777777777777778,\"#fb9f3a\"],[0.8888888888888888,\"#fdca26\"],[1.0,\"#f0f921\"]],\"type\":\"histogram2dcontour\"}],\"mesh3d\":[{\"colorbar\":{\"outlinewidth\":0,\"ticks\":\"\"},\"type\":\"mesh3d\"}],\"parcoords\":[{\"line\":{\"colorbar\":{\"outlinewidth\":0,\"ticks\":\"\"}},\"type\":\"parcoords\"}],\"pie\":[{\"automargin\":true,\"type\":\"pie\"}],\"scatter\":[{\"marker\":{\"colorbar\":{\"outlinewidth\":0,\"ticks\":\"\"}},\"type\":\"scatter\"}],\"scatter3d\":[{\"line\":{\"colorbar\":{\"outlinewidth\":0,\"ticks\":\"\"}},\"marker\":{\"colorbar\":{\"outlinewidth\":0,\"ticks\":\"\"}},\"type\":\"scatter3d\"}],\"scattercarpet\":[{\"marker\":{\"colorbar\":{\"outlinewidth\":0,\"ticks\":\"\"}},\"type\":\"scattercarpet\"}],\"scattergeo\":[{\"marker\":{\"colorbar\":{\"outlinewidth\":0,\"ticks\":\"\"}},\"type\":\"scattergeo\"}],\"scattergl\":[{\"marker\":{\"colorbar\":{\"outlinewidth\":0,\"ticks\":\"\"}},\"type\":\"scattergl\"}],\"scattermapbox\":[{\"marker\":{\"colorbar\":{\"outlinewidth\":0,\"ticks\":\"\"}},\"type\":\"scattermapbox\"}],\"scatterpolar\":[{\"marker\":{\"colorbar\":{\"outlinewidth\":0,\"ticks\":\"\"}},\"type\":\"scatterpolar\"}],\"scatterpolargl\":[{\"marker\":{\"colorbar\":{\"outlinewidth\":0,\"ticks\":\"\"}},\"type\":\"scatterpolargl\"}],\"scatterternary\":[{\"marker\":{\"colorbar\":{\"outlinewidth\":0,\"ticks\":\"\"}},\"type\":\"scatterternary\"}],\"surface\":[{\"colorbar\":{\"outlinewidth\":0,\"ticks\":\"\"},\"colorscale\":[[0.0,\"#0d0887\"],[0.1111111111111111,\"#46039f\"],[0.2222222222222222,\"#7201a8\"],[0.3333333333333333,\"#9c179e\"],[0.4444444444444444,\"#bd3786\"],[0.5555555555555556,\"#d8576b\"],[0.6666666666666666,\"#ed7953\"],[0.7777777777777778,\"#fb9f3a\"],[0.8888888888888888,\"#fdca26\"],[1.0,\"#f0f921\"]],\"type\":\"surface\"}],\"table\":[{\"cells\":{\"fill\":{\"color\":\"#EBF0F8\"},\"line\":{\"color\":\"white\"}},\"header\":{\"fill\":{\"color\":\"#C8D4E3\"},\"line\":{\"color\":\"white\"}},\"type\":\"table\"}]},\"layout\":{\"annotationdefaults\":{\"arrowcolor\":\"#2a3f5f\",\"arrowhead\":0,\"arrowwidth\":1},\"autotypenumbers\":\"strict\",\"coloraxis\":{\"colorbar\":{\"outlinewidth\":0,\"ticks\":\"\"}},\"colorscale\":{\"diverging\":[[0,\"#8e0152\"],[0.1,\"#c51b7d\"],[0.2,\"#de77ae\"],[0.3,\"#f1b6da\"],[0.4,\"#fde0ef\"],[0.5,\"#f7f7f7\"],[0.6,\"#e6f5d0\"],[0.7,\"#b8e186\"],[0.8,\"#7fbc41\"],[0.9,\"#4d9221\"],[1,\"#276419\"]],\"sequential\":[[0.0,\"#0d0887\"],[0.1111111111111111,\"#46039f\"],[0.2222222222222222,\"#7201a8\"],[0.3333333333333333,\"#9c179e\"],[0.4444444444444444,\"#bd3786\"],[0.5555555555555556,\"#d8576b\"],[0.6666666666666666,\"#ed7953\"],[0.7777777777777778,\"#fb9f3a\"],[0.8888888888888888,\"#fdca26\"],[1.0,\"#f0f921\"]],\"sequentialminus\":[[0.0,\"#0d0887\"],[0.1111111111111111,\"#46039f\"],[0.2222222222222222,\"#7201a8\"],[0.3333333333333333,\"#9c179e\"],[0.4444444444444444,\"#bd3786\"],[0.5555555555555556,\"#d8576b\"],[0.6666666666666666,\"#ed7953\"],[0.7777777777777778,\"#fb9f3a\"],[0.8888888888888888,\"#fdca26\"],[1.0,\"#f0f921\"]]},\"colorway\":[\"#636efa\",\"#EF553B\",\"#00cc96\",\"#ab63fa\",\"#FFA15A\",\"#19d3f3\",\"#FF6692\",\"#B6E880\",\"#FF97FF\",\"#FECB52\"],\"font\":{\"color\":\"#2a3f5f\"},\"geo\":{\"bgcolor\":\"white\",\"lakecolor\":\"white\",\"landcolor\":\"#E5ECF6\",\"showlakes\":true,\"showland\":true,\"subunitcolor\":\"white\"},\"hoverlabel\":{\"align\":\"left\"},\"hovermode\":\"closest\",\"mapbox\":{\"style\":\"light\"},\"paper_bgcolor\":\"white\",\"plot_bgcolor\":\"#E5ECF6\",\"polar\":{\"angularaxis\":{\"gridcolor\":\"white\",\"linecolor\":\"white\",\"ticks\":\"\"},\"bgcolor\":\"#E5ECF6\",\"radialaxis\":{\"gridcolor\":\"white\",\"linecolor\":\"white\",\"ticks\":\"\"}},\"scene\":{\"xaxis\":{\"backgroundcolor\":\"#E5ECF6\",\"gridcolor\":\"white\",\"gridwidth\":2,\"linecolor\":\"white\",\"showbackground\":true,\"ticks\":\"\",\"zerolinecolor\":\"white\"},\"yaxis\":{\"backgroundcolor\":\"#E5ECF6\",\"gridcolor\":\"white\",\"gridwidth\":2,\"linecolor\":\"white\",\"showbackground\":true,\"ticks\":\"\",\"zerolinecolor\":\"white\"},\"zaxis\":{\"backgroundcolor\":\"#E5ECF6\",\"gridcolor\":\"white\",\"gridwidth\":2,\"linecolor\":\"white\",\"showbackground\":true,\"ticks\":\"\",\"zerolinecolor\":\"white\"}},\"shapedefaults\":{\"line\":{\"color\":\"#2a3f5f\"}},\"ternary\":{\"aaxis\":{\"gridcolor\":\"white\",\"linecolor\":\"white\",\"ticks\":\"\"},\"baxis\":{\"gridcolor\":\"white\",\"linecolor\":\"white\",\"ticks\":\"\"},\"bgcolor\":\"#E5ECF6\",\"caxis\":{\"gridcolor\":\"white\",\"linecolor\":\"white\",\"ticks\":\"\"}},\"title\":{\"x\":0.05},\"xaxis\":{\"automargin\":true,\"gridcolor\":\"white\",\"linecolor\":\"white\",\"ticks\":\"\",\"title\":{\"standoff\":15},\"zerolinecolor\":\"white\",\"zerolinewidth\":2},\"yaxis\":{\"automargin\":true,\"gridcolor\":\"white\",\"linecolor\":\"white\",\"ticks\":\"\",\"title\":{\"standoff\":15},\"zerolinecolor\":\"white\",\"zerolinewidth\":2}}},\"legend\":{\"tracegroupgap\":0},\"margin\":{\"t\":60},\"piecolorway\":[\"rgb(103,0,31)\",\"rgb(178,24,43)\",\"rgb(214,96,77)\",\"rgb(244,165,130)\",\"rgb(253,219,199)\",\"rgb(247,247,247)\",\"rgb(209,229,240)\",\"rgb(146,197,222)\",\"rgb(67,147,195)\",\"rgb(33,102,172)\",\"rgb(5,48,97)\"]},                        {\"responsive\": true}                    ).then(function(){\n",
       "                            \n",
       "var gd = document.getElementById('5bec816e-2a5c-432a-b44f-3443e3d3e3af');\n",
       "var x = new MutationObserver(function (mutations, observer) {{\n",
       "        var display = window.getComputedStyle(gd).display;\n",
       "        if (!display || display === 'none') {{\n",
       "            console.log([gd, 'removed!']);\n",
       "            Plotly.purge(gd);\n",
       "            observer.disconnect();\n",
       "        }}\n",
       "}});\n",
       "\n",
       "// Listen for the removal of the full notebook cells\n",
       "var notebookContainer = gd.closest('#notebook-container');\n",
       "if (notebookContainer) {{\n",
       "    x.observe(notebookContainer, {childList: true});\n",
       "}}\n",
       "\n",
       "// Listen for the clearing of the current output cell\n",
       "var outputEl = gd.closest('.output');\n",
       "if (outputEl) {{\n",
       "    x.observe(outputEl, {childList: true});\n",
       "}}\n",
       "\n",
       "                        })                };                });            </script>        </div>"
      ]
     },
     "metadata": {},
     "output_type": "display_data"
    }
   ],
   "source": [
    "country_df = netflix_country['country_main'].value_counts().reset_index()\n",
    "country_df = country_df[country_df['country_main'] /  country_df['country_main'].sum() > 0.01]\n",
    "\n",
    "print(\"Country wise contribution on Netflix\")\n",
    "fig = px.pie(country_df, values='country_main', names='index',color_discrete_sequence=px.colors.sequential.RdBu)\n",
    "fig.update_traces(textposition='inside', textinfo='percent+label',\n",
    "                  marker = dict(line = dict(color = 'white', width = 1)))\n",
    "fig.show()"
   ]
  },
  {
   "cell_type": "markdown",
   "id": "a227b088",
   "metadata": {},
   "source": [
    "- After dividing the dataset on the basis of country of production, we see that United States holds the highest percentage, about more than half of the total content. <br>\n",
    "- India comes second in the list with about 13.3 percentage share. <br>\n",
    "(Note: We have filled the NaN values in the country_main column with the mean() method."
   ]
  },
  {
   "cell_type": "code",
   "execution_count": 114,
   "id": "bad3ae27",
   "metadata": {
    "ExecuteTime": {
     "end_time": "2022-07-12T23:30:59.237636Z",
     "start_time": "2022-07-12T23:30:58.749615Z"
    }
   },
   "outputs": [
    {
     "name": "stdout",
     "output_type": "stream",
     "text": [
      "An overview treemap of all the netflix data\n"
     ]
    },
    {
     "data": {
      "application/vnd.plotly.v1+json": {
       "config": {
        "plotlyServerURL": "https://plot.ly"
       },
       "data": [
        {
         "branchvalues": "total",
         "domain": {
          "x": [
           0,
           1
          ],
          "y": [
           0,
           1
          ]
         },
         "hovertemplate": "labels=%{label}<br>count=%{value}<br>parent=%{parent}<br>id=%{id}<extra></extra>",
         "ids": [
          "Movie/",
          "TV Show/",
          "Movie/Argentina",
          "TV Show/Argentina",
          "Movie/Australia",
          "TV Show/Australia",
          "Movie/Austria",
          "TV Show/Austria",
          "Movie/Bangladesh",
          "TV Show/Belarus",
          "Movie/Belgium",
          "TV Show/Belgium",
          "Movie/Brazil",
          "TV Show/Brazil",
          "Movie/Bulgaria",
          "Movie/Cambodia",
          "Movie/Cameroon",
          "Movie/Canada",
          "TV Show/Canada",
          "Movie/Chile",
          "TV Show/Chile",
          "Movie/China",
          "TV Show/China",
          "Movie/Colombia",
          "TV Show/Colombia",
          "Movie/Croatia",
          "TV Show/Croatia",
          "TV Show/Cyprus",
          "Movie/Czech Republic",
          "TV Show/Czech Republic",
          "Movie/Denmark",
          "TV Show/Denmark",
          "Movie/Egypt",
          "TV Show/Egypt",
          "Movie/Finland",
          "TV Show/Finland",
          "Movie/France",
          "TV Show/France",
          "Movie/Georgia",
          "Movie/Germany",
          "TV Show/Germany",
          "Movie/Ghana",
          "Movie/Greece",
          "Movie/Guatemala",
          "Movie/Hong Kong",
          "TV Show/Hong Kong",
          "Movie/Hungary",
          "Movie/Iceland",
          "TV Show/Iceland",
          "Movie/India",
          "TV Show/India",
          "Movie/Indonesia",
          "TV Show/Indonesia",
          "Movie/Iran",
          "Movie/Ireland",
          "TV Show/Ireland",
          "Movie/Israel",
          "TV Show/Israel",
          "Movie/Italy",
          "TV Show/Italy",
          "Movie/Jamaica",
          "Movie/Japan",
          "TV Show/Japan",
          "TV Show/Jordan",
          "Movie/Kenya",
          "Movie/Kuwait",
          "TV Show/Kuwait",
          "Movie/Lebanon",
          "TV Show/Lebanon",
          "TV Show/Luxembourg",
          "Movie/Malaysia",
          "TV Show/Malaysia",
          "Movie/Mauritius",
          "TV Show/Mauritius",
          "Movie/Mexico",
          "TV Show/Mexico",
          "Movie/Mozambique",
          "Movie/Namibia",
          "Movie/Netherlands",
          "TV Show/Netherlands",
          "Movie/New Zealand",
          "TV Show/New Zealand",
          "Movie/Nigeria",
          "TV Show/Nigeria",
          "Movie/Norway",
          "TV Show/Norway",
          "Movie/Pakistan",
          "TV Show/Pakistan",
          "Movie/Paraguay",
          "Movie/Peru",
          "Movie/Philippines",
          "TV Show/Philippines",
          "Movie/Poland",
          "TV Show/Poland",
          "Movie/Portugal",
          "TV Show/Puerto Rico",
          "Movie/Romania",
          "Movie/Russia",
          "TV Show/Russia",
          "Movie/Saudi Arabia",
          "TV Show/Saudi Arabia",
          "TV Show/Senegal",
          "Movie/Serbia",
          "Movie/Singapore",
          "TV Show/Singapore",
          "Movie/Slovenia",
          "Movie/Somalia",
          "Movie/South Africa",
          "TV Show/South Africa",
          "Movie/South Korea",
          "TV Show/South Korea",
          "Movie/Soviet Union",
          "Movie/Spain",
          "TV Show/Spain",
          "Movie/Sweden",
          "TV Show/Sweden",
          "Movie/Switzerland",
          "TV Show/Switzerland",
          "Movie/Syria",
          "Movie/Taiwan",
          "TV Show/Taiwan",
          "Movie/Thailand",
          "TV Show/Thailand",
          "Movie/Turkey",
          "TV Show/Turkey",
          "TV Show/Ukraine",
          "Movie/United Arab Emirates",
          "TV Show/United Arab Emirates",
          "Movie/United Kingdom",
          "TV Show/United Kingdom",
          "Movie/United States",
          "TV Show/United States",
          "Movie/Uruguay",
          "TV Show/Uruguay",
          "Movie/Venezuela",
          "Movie/Vietnam",
          "Movie/West Germany",
          "Movie/Zimbabwe",
          "Movie",
          "TV Show"
         ],
         "labels": [
          "",
          "",
          "Argentina",
          "Argentina",
          "Australia",
          "Australia",
          "Austria",
          "Austria",
          "Bangladesh",
          "Belarus",
          "Belgium",
          "Belgium",
          "Brazil",
          "Brazil",
          "Bulgaria",
          "Cambodia",
          "Cameroon",
          "Canada",
          "Canada",
          "Chile",
          "Chile",
          "China",
          "China",
          "Colombia",
          "Colombia",
          "Croatia",
          "Croatia",
          "Cyprus",
          "Czech Republic",
          "Czech Republic",
          "Denmark",
          "Denmark",
          "Egypt",
          "Egypt",
          "Finland",
          "Finland",
          "France",
          "France",
          "Georgia",
          "Germany",
          "Germany",
          "Ghana",
          "Greece",
          "Guatemala",
          "Hong Kong",
          "Hong Kong",
          "Hungary",
          "Iceland",
          "Iceland",
          "India",
          "India",
          "Indonesia",
          "Indonesia",
          "Iran",
          "Ireland",
          "Ireland",
          "Israel",
          "Israel",
          "Italy",
          "Italy",
          "Jamaica",
          "Japan",
          "Japan",
          "Jordan",
          "Kenya",
          "Kuwait",
          "Kuwait",
          "Lebanon",
          "Lebanon",
          "Luxembourg",
          "Malaysia",
          "Malaysia",
          "Mauritius",
          "Mauritius",
          "Mexico",
          "Mexico",
          "Mozambique",
          "Namibia",
          "Netherlands",
          "Netherlands",
          "New Zealand",
          "New Zealand",
          "Nigeria",
          "Nigeria",
          "Norway",
          "Norway",
          "Pakistan",
          "Pakistan",
          "Paraguay",
          "Peru",
          "Philippines",
          "Philippines",
          "Poland",
          "Poland",
          "Portugal",
          "Puerto Rico",
          "Romania",
          "Russia",
          "Russia",
          "Saudi Arabia",
          "Saudi Arabia",
          "Senegal",
          "Serbia",
          "Singapore",
          "Singapore",
          "Slovenia",
          "Somalia",
          "South Africa",
          "South Africa",
          "South Korea",
          "South Korea",
          "Soviet Union",
          "Spain",
          "Spain",
          "Sweden",
          "Sweden",
          "Switzerland",
          "Switzerland",
          "Syria",
          "Taiwan",
          "Taiwan",
          "Thailand",
          "Thailand",
          "Turkey",
          "Turkey",
          "Ukraine",
          "United Arab Emirates",
          "United Arab Emirates",
          "United Kingdom",
          "United Kingdom",
          "United States",
          "United States",
          "Uruguay",
          "Uruguay",
          "Venezuela",
          "Vietnam",
          "West Germany",
          "Zimbabwe",
          "Movie",
          "TV Show"
         ],
         "name": "",
         "parents": [
          "Movie",
          "TV Show",
          "Movie",
          "TV Show",
          "Movie",
          "TV Show",
          "Movie",
          "TV Show",
          "Movie",
          "TV Show",
          "Movie",
          "TV Show",
          "Movie",
          "TV Show",
          "Movie",
          "Movie",
          "Movie",
          "Movie",
          "TV Show",
          "Movie",
          "TV Show",
          "Movie",
          "TV Show",
          "Movie",
          "TV Show",
          "Movie",
          "TV Show",
          "TV Show",
          "Movie",
          "TV Show",
          "Movie",
          "TV Show",
          "Movie",
          "TV Show",
          "Movie",
          "TV Show",
          "Movie",
          "TV Show",
          "Movie",
          "Movie",
          "TV Show",
          "Movie",
          "Movie",
          "Movie",
          "Movie",
          "TV Show",
          "Movie",
          "Movie",
          "TV Show",
          "Movie",
          "TV Show",
          "Movie",
          "TV Show",
          "Movie",
          "Movie",
          "TV Show",
          "Movie",
          "TV Show",
          "Movie",
          "TV Show",
          "Movie",
          "Movie",
          "TV Show",
          "TV Show",
          "Movie",
          "Movie",
          "TV Show",
          "Movie",
          "TV Show",
          "TV Show",
          "Movie",
          "TV Show",
          "Movie",
          "TV Show",
          "Movie",
          "TV Show",
          "Movie",
          "Movie",
          "Movie",
          "TV Show",
          "Movie",
          "TV Show",
          "Movie",
          "TV Show",
          "Movie",
          "TV Show",
          "Movie",
          "TV Show",
          "Movie",
          "Movie",
          "Movie",
          "TV Show",
          "Movie",
          "TV Show",
          "Movie",
          "TV Show",
          "Movie",
          "Movie",
          "TV Show",
          "Movie",
          "TV Show",
          "TV Show",
          "Movie",
          "Movie",
          "TV Show",
          "Movie",
          "Movie",
          "Movie",
          "TV Show",
          "Movie",
          "TV Show",
          "Movie",
          "Movie",
          "TV Show",
          "Movie",
          "TV Show",
          "Movie",
          "TV Show",
          "Movie",
          "Movie",
          "TV Show",
          "Movie",
          "TV Show",
          "Movie",
          "TV Show",
          "TV Show",
          "Movie",
          "TV Show",
          "Movie",
          "TV Show",
          "Movie",
          "TV Show",
          "Movie",
          "TV Show",
          "Movie",
          "Movie",
          "Movie",
          "Movie",
          "",
          ""
         ],
         "type": "treemap",
         "values": [
          1,
          1,
          56,
          20,
          61,
          56,
          8,
          1,
          3,
          1,
          9,
          9,
          56,
          28,
          5,
          2,
          1,
          187,
          84,
          18,
          4,
          59,
          41,
          15,
          25,
          1,
          1,
          1,
          5,
          1,
          19,
          11,
          98,
          14,
          3,
          3,
          148,
          64,
          2,
          78,
          25,
          4,
          1,
          1,
          76,
          3,
          5,
          3,
          3,
          927,
          81,
          83,
          2,
          1,
          22,
          6,
          12,
          10,
          48,
          19,
          1,
          85,
          174,
          2,
          4,
          5,
          2,
          18,
          6,
          1,
          16,
          7,
          1,
          1,
          86,
          48,
          1,
          1,
          23,
          5,
          15,
          2,
          87,
          9,
          12,
          9,
          18,
          4,
          1,
          6,
          77,
          3,
          22,
          8,
          4,
          1,
          10,
          5,
          14,
          7,
          4,
          1,
          3,
          10,
          18,
          1,
          1,
          35,
          6,
          47,
          164,
          1,
          129,
          52,
          11,
          8,
          7,
          1,
          1,
          15,
          70,
          41,
          24,
          81,
          30,
          2,
          20,
          1,
          382,
          246,
          2804,
          1238,
          8,
          1,
          2,
          7,
          1,
          1,
          6131,
          2676
         ]
        }
       ],
       "layout": {
        "height": 400,
        "legend": {
         "tracegroupgap": 0
        },
        "margin": {
         "b": 25,
         "l": 25,
         "r": 25,
         "t": 50
        },
        "template": {
         "data": {
          "bar": [
           {
            "error_x": {
             "color": "#2a3f5f"
            },
            "error_y": {
             "color": "#2a3f5f"
            },
            "marker": {
             "line": {
              "color": "#E5ECF6",
              "width": 0.5
             },
             "pattern": {
              "fillmode": "overlay",
              "size": 10,
              "solidity": 0.2
             }
            },
            "type": "bar"
           }
          ],
          "barpolar": [
           {
            "marker": {
             "line": {
              "color": "#E5ECF6",
              "width": 0.5
             },
             "pattern": {
              "fillmode": "overlay",
              "size": 10,
              "solidity": 0.2
             }
            },
            "type": "barpolar"
           }
          ],
          "carpet": [
           {
            "aaxis": {
             "endlinecolor": "#2a3f5f",
             "gridcolor": "white",
             "linecolor": "white",
             "minorgridcolor": "white",
             "startlinecolor": "#2a3f5f"
            },
            "baxis": {
             "endlinecolor": "#2a3f5f",
             "gridcolor": "white",
             "linecolor": "white",
             "minorgridcolor": "white",
             "startlinecolor": "#2a3f5f"
            },
            "type": "carpet"
           }
          ],
          "choropleth": [
           {
            "colorbar": {
             "outlinewidth": 0,
             "ticks": ""
            },
            "type": "choropleth"
           }
          ],
          "contour": [
           {
            "colorbar": {
             "outlinewidth": 0,
             "ticks": ""
            },
            "colorscale": [
             [
              0,
              "#0d0887"
             ],
             [
              0.1111111111111111,
              "#46039f"
             ],
             [
              0.2222222222222222,
              "#7201a8"
             ],
             [
              0.3333333333333333,
              "#9c179e"
             ],
             [
              0.4444444444444444,
              "#bd3786"
             ],
             [
              0.5555555555555556,
              "#d8576b"
             ],
             [
              0.6666666666666666,
              "#ed7953"
             ],
             [
              0.7777777777777778,
              "#fb9f3a"
             ],
             [
              0.8888888888888888,
              "#fdca26"
             ],
             [
              1,
              "#f0f921"
             ]
            ],
            "type": "contour"
           }
          ],
          "contourcarpet": [
           {
            "colorbar": {
             "outlinewidth": 0,
             "ticks": ""
            },
            "type": "contourcarpet"
           }
          ],
          "heatmap": [
           {
            "colorbar": {
             "outlinewidth": 0,
             "ticks": ""
            },
            "colorscale": [
             [
              0,
              "#0d0887"
             ],
             [
              0.1111111111111111,
              "#46039f"
             ],
             [
              0.2222222222222222,
              "#7201a8"
             ],
             [
              0.3333333333333333,
              "#9c179e"
             ],
             [
              0.4444444444444444,
              "#bd3786"
             ],
             [
              0.5555555555555556,
              "#d8576b"
             ],
             [
              0.6666666666666666,
              "#ed7953"
             ],
             [
              0.7777777777777778,
              "#fb9f3a"
             ],
             [
              0.8888888888888888,
              "#fdca26"
             ],
             [
              1,
              "#f0f921"
             ]
            ],
            "type": "heatmap"
           }
          ],
          "heatmapgl": [
           {
            "colorbar": {
             "outlinewidth": 0,
             "ticks": ""
            },
            "colorscale": [
             [
              0,
              "#0d0887"
             ],
             [
              0.1111111111111111,
              "#46039f"
             ],
             [
              0.2222222222222222,
              "#7201a8"
             ],
             [
              0.3333333333333333,
              "#9c179e"
             ],
             [
              0.4444444444444444,
              "#bd3786"
             ],
             [
              0.5555555555555556,
              "#d8576b"
             ],
             [
              0.6666666666666666,
              "#ed7953"
             ],
             [
              0.7777777777777778,
              "#fb9f3a"
             ],
             [
              0.8888888888888888,
              "#fdca26"
             ],
             [
              1,
              "#f0f921"
             ]
            ],
            "type": "heatmapgl"
           }
          ],
          "histogram": [
           {
            "marker": {
             "pattern": {
              "fillmode": "overlay",
              "size": 10,
              "solidity": 0.2
             }
            },
            "type": "histogram"
           }
          ],
          "histogram2d": [
           {
            "colorbar": {
             "outlinewidth": 0,
             "ticks": ""
            },
            "colorscale": [
             [
              0,
              "#0d0887"
             ],
             [
              0.1111111111111111,
              "#46039f"
             ],
             [
              0.2222222222222222,
              "#7201a8"
             ],
             [
              0.3333333333333333,
              "#9c179e"
             ],
             [
              0.4444444444444444,
              "#bd3786"
             ],
             [
              0.5555555555555556,
              "#d8576b"
             ],
             [
              0.6666666666666666,
              "#ed7953"
             ],
             [
              0.7777777777777778,
              "#fb9f3a"
             ],
             [
              0.8888888888888888,
              "#fdca26"
             ],
             [
              1,
              "#f0f921"
             ]
            ],
            "type": "histogram2d"
           }
          ],
          "histogram2dcontour": [
           {
            "colorbar": {
             "outlinewidth": 0,
             "ticks": ""
            },
            "colorscale": [
             [
              0,
              "#0d0887"
             ],
             [
              0.1111111111111111,
              "#46039f"
             ],
             [
              0.2222222222222222,
              "#7201a8"
             ],
             [
              0.3333333333333333,
              "#9c179e"
             ],
             [
              0.4444444444444444,
              "#bd3786"
             ],
             [
              0.5555555555555556,
              "#d8576b"
             ],
             [
              0.6666666666666666,
              "#ed7953"
             ],
             [
              0.7777777777777778,
              "#fb9f3a"
             ],
             [
              0.8888888888888888,
              "#fdca26"
             ],
             [
              1,
              "#f0f921"
             ]
            ],
            "type": "histogram2dcontour"
           }
          ],
          "mesh3d": [
           {
            "colorbar": {
             "outlinewidth": 0,
             "ticks": ""
            },
            "type": "mesh3d"
           }
          ],
          "parcoords": [
           {
            "line": {
             "colorbar": {
              "outlinewidth": 0,
              "ticks": ""
             }
            },
            "type": "parcoords"
           }
          ],
          "pie": [
           {
            "automargin": true,
            "type": "pie"
           }
          ],
          "scatter": [
           {
            "marker": {
             "colorbar": {
              "outlinewidth": 0,
              "ticks": ""
             }
            },
            "type": "scatter"
           }
          ],
          "scatter3d": [
           {
            "line": {
             "colorbar": {
              "outlinewidth": 0,
              "ticks": ""
             }
            },
            "marker": {
             "colorbar": {
              "outlinewidth": 0,
              "ticks": ""
             }
            },
            "type": "scatter3d"
           }
          ],
          "scattercarpet": [
           {
            "marker": {
             "colorbar": {
              "outlinewidth": 0,
              "ticks": ""
             }
            },
            "type": "scattercarpet"
           }
          ],
          "scattergeo": [
           {
            "marker": {
             "colorbar": {
              "outlinewidth": 0,
              "ticks": ""
             }
            },
            "type": "scattergeo"
           }
          ],
          "scattergl": [
           {
            "marker": {
             "colorbar": {
              "outlinewidth": 0,
              "ticks": ""
             }
            },
            "type": "scattergl"
           }
          ],
          "scattermapbox": [
           {
            "marker": {
             "colorbar": {
              "outlinewidth": 0,
              "ticks": ""
             }
            },
            "type": "scattermapbox"
           }
          ],
          "scatterpolar": [
           {
            "marker": {
             "colorbar": {
              "outlinewidth": 0,
              "ticks": ""
             }
            },
            "type": "scatterpolar"
           }
          ],
          "scatterpolargl": [
           {
            "marker": {
             "colorbar": {
              "outlinewidth": 0,
              "ticks": ""
             }
            },
            "type": "scatterpolargl"
           }
          ],
          "scatterternary": [
           {
            "marker": {
             "colorbar": {
              "outlinewidth": 0,
              "ticks": ""
             }
            },
            "type": "scatterternary"
           }
          ],
          "surface": [
           {
            "colorbar": {
             "outlinewidth": 0,
             "ticks": ""
            },
            "colorscale": [
             [
              0,
              "#0d0887"
             ],
             [
              0.1111111111111111,
              "#46039f"
             ],
             [
              0.2222222222222222,
              "#7201a8"
             ],
             [
              0.3333333333333333,
              "#9c179e"
             ],
             [
              0.4444444444444444,
              "#bd3786"
             ],
             [
              0.5555555555555556,
              "#d8576b"
             ],
             [
              0.6666666666666666,
              "#ed7953"
             ],
             [
              0.7777777777777778,
              "#fb9f3a"
             ],
             [
              0.8888888888888888,
              "#fdca26"
             ],
             [
              1,
              "#f0f921"
             ]
            ],
            "type": "surface"
           }
          ],
          "table": [
           {
            "cells": {
             "fill": {
              "color": "#EBF0F8"
             },
             "line": {
              "color": "white"
             }
            },
            "header": {
             "fill": {
              "color": "#C8D4E3"
             },
             "line": {
              "color": "white"
             }
            },
            "type": "table"
           }
          ]
         },
         "layout": {
          "annotationdefaults": {
           "arrowcolor": "#2a3f5f",
           "arrowhead": 0,
           "arrowwidth": 1
          },
          "autotypenumbers": "strict",
          "coloraxis": {
           "colorbar": {
            "outlinewidth": 0,
            "ticks": ""
           }
          },
          "colorscale": {
           "diverging": [
            [
             0,
             "#8e0152"
            ],
            [
             0.1,
             "#c51b7d"
            ],
            [
             0.2,
             "#de77ae"
            ],
            [
             0.3,
             "#f1b6da"
            ],
            [
             0.4,
             "#fde0ef"
            ],
            [
             0.5,
             "#f7f7f7"
            ],
            [
             0.6,
             "#e6f5d0"
            ],
            [
             0.7,
             "#b8e186"
            ],
            [
             0.8,
             "#7fbc41"
            ],
            [
             0.9,
             "#4d9221"
            ],
            [
             1,
             "#276419"
            ]
           ],
           "sequential": [
            [
             0,
             "#0d0887"
            ],
            [
             0.1111111111111111,
             "#46039f"
            ],
            [
             0.2222222222222222,
             "#7201a8"
            ],
            [
             0.3333333333333333,
             "#9c179e"
            ],
            [
             0.4444444444444444,
             "#bd3786"
            ],
            [
             0.5555555555555556,
             "#d8576b"
            ],
            [
             0.6666666666666666,
             "#ed7953"
            ],
            [
             0.7777777777777778,
             "#fb9f3a"
            ],
            [
             0.8888888888888888,
             "#fdca26"
            ],
            [
             1,
             "#f0f921"
            ]
           ],
           "sequentialminus": [
            [
             0,
             "#0d0887"
            ],
            [
             0.1111111111111111,
             "#46039f"
            ],
            [
             0.2222222222222222,
             "#7201a8"
            ],
            [
             0.3333333333333333,
             "#9c179e"
            ],
            [
             0.4444444444444444,
             "#bd3786"
            ],
            [
             0.5555555555555556,
             "#d8576b"
            ],
            [
             0.6666666666666666,
             "#ed7953"
            ],
            [
             0.7777777777777778,
             "#fb9f3a"
            ],
            [
             0.8888888888888888,
             "#fdca26"
            ],
            [
             1,
             "#f0f921"
            ]
           ]
          },
          "colorway": [
           "#636efa",
           "#EF553B",
           "#00cc96",
           "#ab63fa",
           "#FFA15A",
           "#19d3f3",
           "#FF6692",
           "#B6E880",
           "#FF97FF",
           "#FECB52"
          ],
          "font": {
           "color": "#2a3f5f"
          },
          "geo": {
           "bgcolor": "white",
           "lakecolor": "white",
           "landcolor": "#E5ECF6",
           "showlakes": true,
           "showland": true,
           "subunitcolor": "white"
          },
          "hoverlabel": {
           "align": "left"
          },
          "hovermode": "closest",
          "mapbox": {
           "style": "light"
          },
          "paper_bgcolor": "white",
          "plot_bgcolor": "#E5ECF6",
          "polar": {
           "angularaxis": {
            "gridcolor": "white",
            "linecolor": "white",
            "ticks": ""
           },
           "bgcolor": "#E5ECF6",
           "radialaxis": {
            "gridcolor": "white",
            "linecolor": "white",
            "ticks": ""
           }
          },
          "scene": {
           "xaxis": {
            "backgroundcolor": "#E5ECF6",
            "gridcolor": "white",
            "gridwidth": 2,
            "linecolor": "white",
            "showbackground": true,
            "ticks": "",
            "zerolinecolor": "white"
           },
           "yaxis": {
            "backgroundcolor": "#E5ECF6",
            "gridcolor": "white",
            "gridwidth": 2,
            "linecolor": "white",
            "showbackground": true,
            "ticks": "",
            "zerolinecolor": "white"
           },
           "zaxis": {
            "backgroundcolor": "#E5ECF6",
            "gridcolor": "white",
            "gridwidth": 2,
            "linecolor": "white",
            "showbackground": true,
            "ticks": "",
            "zerolinecolor": "white"
           }
          },
          "shapedefaults": {
           "line": {
            "color": "#2a3f5f"
           }
          },
          "ternary": {
           "aaxis": {
            "gridcolor": "white",
            "linecolor": "white",
            "ticks": ""
           },
           "baxis": {
            "gridcolor": "white",
            "linecolor": "white",
            "ticks": ""
           },
           "bgcolor": "#E5ECF6",
           "caxis": {
            "gridcolor": "white",
            "linecolor": "white",
            "ticks": ""
           }
          },
          "title": {
           "x": 0.05
          },
          "xaxis": {
           "automargin": true,
           "gridcolor": "white",
           "linecolor": "white",
           "ticks": "",
           "title": {
            "standoff": 15
           },
           "zerolinecolor": "white",
           "zerolinewidth": 2
          },
          "yaxis": {
           "automargin": true,
           "gridcolor": "white",
           "linecolor": "white",
           "ticks": "",
           "title": {
            "standoff": 15
           },
           "zerolinecolor": "white",
           "zerolinewidth": 2
          }
         }
        },
        "width": 800
       }
      },
      "text/html": [
       "<div>                            <div id=\"884fea70-46f1-4483-80d2-d72bebaa3ef1\" class=\"plotly-graph-div\" style=\"height:400px; width:800px;\"></div>            <script type=\"text/javascript\">                require([\"plotly\"], function(Plotly) {                    window.PLOTLYENV=window.PLOTLYENV || {};                                    if (document.getElementById(\"884fea70-46f1-4483-80d2-d72bebaa3ef1\")) {                    Plotly.newPlot(                        \"884fea70-46f1-4483-80d2-d72bebaa3ef1\",                        [{\"branchvalues\":\"total\",\"domain\":{\"x\":[0.0,1.0],\"y\":[0.0,1.0]},\"hovertemplate\":\"labels=%{label}<br>count=%{value}<br>parent=%{parent}<br>id=%{id}<extra></extra>\",\"ids\":[\"Movie/\",\"TV Show/\",\"Movie/Argentina\",\"TV Show/Argentina\",\"Movie/Australia\",\"TV Show/Australia\",\"Movie/Austria\",\"TV Show/Austria\",\"Movie/Bangladesh\",\"TV Show/Belarus\",\"Movie/Belgium\",\"TV Show/Belgium\",\"Movie/Brazil\",\"TV Show/Brazil\",\"Movie/Bulgaria\",\"Movie/Cambodia\",\"Movie/Cameroon\",\"Movie/Canada\",\"TV Show/Canada\",\"Movie/Chile\",\"TV Show/Chile\",\"Movie/China\",\"TV Show/China\",\"Movie/Colombia\",\"TV Show/Colombia\",\"Movie/Croatia\",\"TV Show/Croatia\",\"TV Show/Cyprus\",\"Movie/Czech Republic\",\"TV Show/Czech Republic\",\"Movie/Denmark\",\"TV Show/Denmark\",\"Movie/Egypt\",\"TV Show/Egypt\",\"Movie/Finland\",\"TV Show/Finland\",\"Movie/France\",\"TV Show/France\",\"Movie/Georgia\",\"Movie/Germany\",\"TV Show/Germany\",\"Movie/Ghana\",\"Movie/Greece\",\"Movie/Guatemala\",\"Movie/Hong Kong\",\"TV Show/Hong Kong\",\"Movie/Hungary\",\"Movie/Iceland\",\"TV Show/Iceland\",\"Movie/India\",\"TV Show/India\",\"Movie/Indonesia\",\"TV Show/Indonesia\",\"Movie/Iran\",\"Movie/Ireland\",\"TV Show/Ireland\",\"Movie/Israel\",\"TV Show/Israel\",\"Movie/Italy\",\"TV Show/Italy\",\"Movie/Jamaica\",\"Movie/Japan\",\"TV Show/Japan\",\"TV Show/Jordan\",\"Movie/Kenya\",\"Movie/Kuwait\",\"TV Show/Kuwait\",\"Movie/Lebanon\",\"TV Show/Lebanon\",\"TV Show/Luxembourg\",\"Movie/Malaysia\",\"TV Show/Malaysia\",\"Movie/Mauritius\",\"TV Show/Mauritius\",\"Movie/Mexico\",\"TV Show/Mexico\",\"Movie/Mozambique\",\"Movie/Namibia\",\"Movie/Netherlands\",\"TV Show/Netherlands\",\"Movie/New Zealand\",\"TV Show/New Zealand\",\"Movie/Nigeria\",\"TV Show/Nigeria\",\"Movie/Norway\",\"TV Show/Norway\",\"Movie/Pakistan\",\"TV Show/Pakistan\",\"Movie/Paraguay\",\"Movie/Peru\",\"Movie/Philippines\",\"TV Show/Philippines\",\"Movie/Poland\",\"TV Show/Poland\",\"Movie/Portugal\",\"TV Show/Puerto Rico\",\"Movie/Romania\",\"Movie/Russia\",\"TV Show/Russia\",\"Movie/Saudi Arabia\",\"TV Show/Saudi Arabia\",\"TV Show/Senegal\",\"Movie/Serbia\",\"Movie/Singapore\",\"TV Show/Singapore\",\"Movie/Slovenia\",\"Movie/Somalia\",\"Movie/South Africa\",\"TV Show/South Africa\",\"Movie/South Korea\",\"TV Show/South Korea\",\"Movie/Soviet Union\",\"Movie/Spain\",\"TV Show/Spain\",\"Movie/Sweden\",\"TV Show/Sweden\",\"Movie/Switzerland\",\"TV Show/Switzerland\",\"Movie/Syria\",\"Movie/Taiwan\",\"TV Show/Taiwan\",\"Movie/Thailand\",\"TV Show/Thailand\",\"Movie/Turkey\",\"TV Show/Turkey\",\"TV Show/Ukraine\",\"Movie/United Arab Emirates\",\"TV Show/United Arab Emirates\",\"Movie/United Kingdom\",\"TV Show/United Kingdom\",\"Movie/United States\",\"TV Show/United States\",\"Movie/Uruguay\",\"TV Show/Uruguay\",\"Movie/Venezuela\",\"Movie/Vietnam\",\"Movie/West Germany\",\"Movie/Zimbabwe\",\"Movie\",\"TV Show\"],\"labels\":[\"\",\"\",\"Argentina\",\"Argentina\",\"Australia\",\"Australia\",\"Austria\",\"Austria\",\"Bangladesh\",\"Belarus\",\"Belgium\",\"Belgium\",\"Brazil\",\"Brazil\",\"Bulgaria\",\"Cambodia\",\"Cameroon\",\"Canada\",\"Canada\",\"Chile\",\"Chile\",\"China\",\"China\",\"Colombia\",\"Colombia\",\"Croatia\",\"Croatia\",\"Cyprus\",\"Czech Republic\",\"Czech Republic\",\"Denmark\",\"Denmark\",\"Egypt\",\"Egypt\",\"Finland\",\"Finland\",\"France\",\"France\",\"Georgia\",\"Germany\",\"Germany\",\"Ghana\",\"Greece\",\"Guatemala\",\"Hong Kong\",\"Hong Kong\",\"Hungary\",\"Iceland\",\"Iceland\",\"India\",\"India\",\"Indonesia\",\"Indonesia\",\"Iran\",\"Ireland\",\"Ireland\",\"Israel\",\"Israel\",\"Italy\",\"Italy\",\"Jamaica\",\"Japan\",\"Japan\",\"Jordan\",\"Kenya\",\"Kuwait\",\"Kuwait\",\"Lebanon\",\"Lebanon\",\"Luxembourg\",\"Malaysia\",\"Malaysia\",\"Mauritius\",\"Mauritius\",\"Mexico\",\"Mexico\",\"Mozambique\",\"Namibia\",\"Netherlands\",\"Netherlands\",\"New Zealand\",\"New Zealand\",\"Nigeria\",\"Nigeria\",\"Norway\",\"Norway\",\"Pakistan\",\"Pakistan\",\"Paraguay\",\"Peru\",\"Philippines\",\"Philippines\",\"Poland\",\"Poland\",\"Portugal\",\"Puerto Rico\",\"Romania\",\"Russia\",\"Russia\",\"Saudi Arabia\",\"Saudi Arabia\",\"Senegal\",\"Serbia\",\"Singapore\",\"Singapore\",\"Slovenia\",\"Somalia\",\"South Africa\",\"South Africa\",\"South Korea\",\"South Korea\",\"Soviet Union\",\"Spain\",\"Spain\",\"Sweden\",\"Sweden\",\"Switzerland\",\"Switzerland\",\"Syria\",\"Taiwan\",\"Taiwan\",\"Thailand\",\"Thailand\",\"Turkey\",\"Turkey\",\"Ukraine\",\"United Arab Emirates\",\"United Arab Emirates\",\"United Kingdom\",\"United Kingdom\",\"United States\",\"United States\",\"Uruguay\",\"Uruguay\",\"Venezuela\",\"Vietnam\",\"West Germany\",\"Zimbabwe\",\"Movie\",\"TV Show\"],\"name\":\"\",\"parents\":[\"Movie\",\"TV Show\",\"Movie\",\"TV Show\",\"Movie\",\"TV Show\",\"Movie\",\"TV Show\",\"Movie\",\"TV Show\",\"Movie\",\"TV Show\",\"Movie\",\"TV Show\",\"Movie\",\"Movie\",\"Movie\",\"Movie\",\"TV Show\",\"Movie\",\"TV Show\",\"Movie\",\"TV Show\",\"Movie\",\"TV Show\",\"Movie\",\"TV Show\",\"TV Show\",\"Movie\",\"TV Show\",\"Movie\",\"TV Show\",\"Movie\",\"TV Show\",\"Movie\",\"TV Show\",\"Movie\",\"TV Show\",\"Movie\",\"Movie\",\"TV Show\",\"Movie\",\"Movie\",\"Movie\",\"Movie\",\"TV Show\",\"Movie\",\"Movie\",\"TV Show\",\"Movie\",\"TV Show\",\"Movie\",\"TV Show\",\"Movie\",\"Movie\",\"TV Show\",\"Movie\",\"TV Show\",\"Movie\",\"TV Show\",\"Movie\",\"Movie\",\"TV Show\",\"TV Show\",\"Movie\",\"Movie\",\"TV Show\",\"Movie\",\"TV Show\",\"TV Show\",\"Movie\",\"TV Show\",\"Movie\",\"TV Show\",\"Movie\",\"TV Show\",\"Movie\",\"Movie\",\"Movie\",\"TV Show\",\"Movie\",\"TV Show\",\"Movie\",\"TV Show\",\"Movie\",\"TV Show\",\"Movie\",\"TV Show\",\"Movie\",\"Movie\",\"Movie\",\"TV Show\",\"Movie\",\"TV Show\",\"Movie\",\"TV Show\",\"Movie\",\"Movie\",\"TV Show\",\"Movie\",\"TV Show\",\"TV Show\",\"Movie\",\"Movie\",\"TV Show\",\"Movie\",\"Movie\",\"Movie\",\"TV Show\",\"Movie\",\"TV Show\",\"Movie\",\"Movie\",\"TV Show\",\"Movie\",\"TV Show\",\"Movie\",\"TV Show\",\"Movie\",\"Movie\",\"TV Show\",\"Movie\",\"TV Show\",\"Movie\",\"TV Show\",\"TV Show\",\"Movie\",\"TV Show\",\"Movie\",\"TV Show\",\"Movie\",\"TV Show\",\"Movie\",\"TV Show\",\"Movie\",\"Movie\",\"Movie\",\"Movie\",\"\",\"\"],\"values\":[1,1,56,20,61,56,8,1,3,1,9,9,56,28,5,2,1,187,84,18,4,59,41,15,25,1,1,1,5,1,19,11,98,14,3,3,148,64,2,78,25,4,1,1,76,3,5,3,3,927,81,83,2,1,22,6,12,10,48,19,1,85,174,2,4,5,2,18,6,1,16,7,1,1,86,48,1,1,23,5,15,2,87,9,12,9,18,4,1,6,77,3,22,8,4,1,10,5,14,7,4,1,3,10,18,1,1,35,6,47,164,1,129,52,11,8,7,1,1,15,70,41,24,81,30,2,20,1,382,246,2804,1238,8,1,2,7,1,1,6131,2676],\"type\":\"treemap\"}],                        {\"template\":{\"data\":{\"bar\":[{\"error_x\":{\"color\":\"#2a3f5f\"},\"error_y\":{\"color\":\"#2a3f5f\"},\"marker\":{\"line\":{\"color\":\"#E5ECF6\",\"width\":0.5},\"pattern\":{\"fillmode\":\"overlay\",\"size\":10,\"solidity\":0.2}},\"type\":\"bar\"}],\"barpolar\":[{\"marker\":{\"line\":{\"color\":\"#E5ECF6\",\"width\":0.5},\"pattern\":{\"fillmode\":\"overlay\",\"size\":10,\"solidity\":0.2}},\"type\":\"barpolar\"}],\"carpet\":[{\"aaxis\":{\"endlinecolor\":\"#2a3f5f\",\"gridcolor\":\"white\",\"linecolor\":\"white\",\"minorgridcolor\":\"white\",\"startlinecolor\":\"#2a3f5f\"},\"baxis\":{\"endlinecolor\":\"#2a3f5f\",\"gridcolor\":\"white\",\"linecolor\":\"white\",\"minorgridcolor\":\"white\",\"startlinecolor\":\"#2a3f5f\"},\"type\":\"carpet\"}],\"choropleth\":[{\"colorbar\":{\"outlinewidth\":0,\"ticks\":\"\"},\"type\":\"choropleth\"}],\"contour\":[{\"colorbar\":{\"outlinewidth\":0,\"ticks\":\"\"},\"colorscale\":[[0.0,\"#0d0887\"],[0.1111111111111111,\"#46039f\"],[0.2222222222222222,\"#7201a8\"],[0.3333333333333333,\"#9c179e\"],[0.4444444444444444,\"#bd3786\"],[0.5555555555555556,\"#d8576b\"],[0.6666666666666666,\"#ed7953\"],[0.7777777777777778,\"#fb9f3a\"],[0.8888888888888888,\"#fdca26\"],[1.0,\"#f0f921\"]],\"type\":\"contour\"}],\"contourcarpet\":[{\"colorbar\":{\"outlinewidth\":0,\"ticks\":\"\"},\"type\":\"contourcarpet\"}],\"heatmap\":[{\"colorbar\":{\"outlinewidth\":0,\"ticks\":\"\"},\"colorscale\":[[0.0,\"#0d0887\"],[0.1111111111111111,\"#46039f\"],[0.2222222222222222,\"#7201a8\"],[0.3333333333333333,\"#9c179e\"],[0.4444444444444444,\"#bd3786\"],[0.5555555555555556,\"#d8576b\"],[0.6666666666666666,\"#ed7953\"],[0.7777777777777778,\"#fb9f3a\"],[0.8888888888888888,\"#fdca26\"],[1.0,\"#f0f921\"]],\"type\":\"heatmap\"}],\"heatmapgl\":[{\"colorbar\":{\"outlinewidth\":0,\"ticks\":\"\"},\"colorscale\":[[0.0,\"#0d0887\"],[0.1111111111111111,\"#46039f\"],[0.2222222222222222,\"#7201a8\"],[0.3333333333333333,\"#9c179e\"],[0.4444444444444444,\"#bd3786\"],[0.5555555555555556,\"#d8576b\"],[0.6666666666666666,\"#ed7953\"],[0.7777777777777778,\"#fb9f3a\"],[0.8888888888888888,\"#fdca26\"],[1.0,\"#f0f921\"]],\"type\":\"heatmapgl\"}],\"histogram\":[{\"marker\":{\"pattern\":{\"fillmode\":\"overlay\",\"size\":10,\"solidity\":0.2}},\"type\":\"histogram\"}],\"histogram2d\":[{\"colorbar\":{\"outlinewidth\":0,\"ticks\":\"\"},\"colorscale\":[[0.0,\"#0d0887\"],[0.1111111111111111,\"#46039f\"],[0.2222222222222222,\"#7201a8\"],[0.3333333333333333,\"#9c179e\"],[0.4444444444444444,\"#bd3786\"],[0.5555555555555556,\"#d8576b\"],[0.6666666666666666,\"#ed7953\"],[0.7777777777777778,\"#fb9f3a\"],[0.8888888888888888,\"#fdca26\"],[1.0,\"#f0f921\"]],\"type\":\"histogram2d\"}],\"histogram2dcontour\":[{\"colorbar\":{\"outlinewidth\":0,\"ticks\":\"\"},\"colorscale\":[[0.0,\"#0d0887\"],[0.1111111111111111,\"#46039f\"],[0.2222222222222222,\"#7201a8\"],[0.3333333333333333,\"#9c179e\"],[0.4444444444444444,\"#bd3786\"],[0.5555555555555556,\"#d8576b\"],[0.6666666666666666,\"#ed7953\"],[0.7777777777777778,\"#fb9f3a\"],[0.8888888888888888,\"#fdca26\"],[1.0,\"#f0f921\"]],\"type\":\"histogram2dcontour\"}],\"mesh3d\":[{\"colorbar\":{\"outlinewidth\":0,\"ticks\":\"\"},\"type\":\"mesh3d\"}],\"parcoords\":[{\"line\":{\"colorbar\":{\"outlinewidth\":0,\"ticks\":\"\"}},\"type\":\"parcoords\"}],\"pie\":[{\"automargin\":true,\"type\":\"pie\"}],\"scatter\":[{\"marker\":{\"colorbar\":{\"outlinewidth\":0,\"ticks\":\"\"}},\"type\":\"scatter\"}],\"scatter3d\":[{\"line\":{\"colorbar\":{\"outlinewidth\":0,\"ticks\":\"\"}},\"marker\":{\"colorbar\":{\"outlinewidth\":0,\"ticks\":\"\"}},\"type\":\"scatter3d\"}],\"scattercarpet\":[{\"marker\":{\"colorbar\":{\"outlinewidth\":0,\"ticks\":\"\"}},\"type\":\"scattercarpet\"}],\"scattergeo\":[{\"marker\":{\"colorbar\":{\"outlinewidth\":0,\"ticks\":\"\"}},\"type\":\"scattergeo\"}],\"scattergl\":[{\"marker\":{\"colorbar\":{\"outlinewidth\":0,\"ticks\":\"\"}},\"type\":\"scattergl\"}],\"scattermapbox\":[{\"marker\":{\"colorbar\":{\"outlinewidth\":0,\"ticks\":\"\"}},\"type\":\"scattermapbox\"}],\"scatterpolar\":[{\"marker\":{\"colorbar\":{\"outlinewidth\":0,\"ticks\":\"\"}},\"type\":\"scatterpolar\"}],\"scatterpolargl\":[{\"marker\":{\"colorbar\":{\"outlinewidth\":0,\"ticks\":\"\"}},\"type\":\"scatterpolargl\"}],\"scatterternary\":[{\"marker\":{\"colorbar\":{\"outlinewidth\":0,\"ticks\":\"\"}},\"type\":\"scatterternary\"}],\"surface\":[{\"colorbar\":{\"outlinewidth\":0,\"ticks\":\"\"},\"colorscale\":[[0.0,\"#0d0887\"],[0.1111111111111111,\"#46039f\"],[0.2222222222222222,\"#7201a8\"],[0.3333333333333333,\"#9c179e\"],[0.4444444444444444,\"#bd3786\"],[0.5555555555555556,\"#d8576b\"],[0.6666666666666666,\"#ed7953\"],[0.7777777777777778,\"#fb9f3a\"],[0.8888888888888888,\"#fdca26\"],[1.0,\"#f0f921\"]],\"type\":\"surface\"}],\"table\":[{\"cells\":{\"fill\":{\"color\":\"#EBF0F8\"},\"line\":{\"color\":\"white\"}},\"header\":{\"fill\":{\"color\":\"#C8D4E3\"},\"line\":{\"color\":\"white\"}},\"type\":\"table\"}]},\"layout\":{\"annotationdefaults\":{\"arrowcolor\":\"#2a3f5f\",\"arrowhead\":0,\"arrowwidth\":1},\"autotypenumbers\":\"strict\",\"coloraxis\":{\"colorbar\":{\"outlinewidth\":0,\"ticks\":\"\"}},\"colorscale\":{\"diverging\":[[0,\"#8e0152\"],[0.1,\"#c51b7d\"],[0.2,\"#de77ae\"],[0.3,\"#f1b6da\"],[0.4,\"#fde0ef\"],[0.5,\"#f7f7f7\"],[0.6,\"#e6f5d0\"],[0.7,\"#b8e186\"],[0.8,\"#7fbc41\"],[0.9,\"#4d9221\"],[1,\"#276419\"]],\"sequential\":[[0.0,\"#0d0887\"],[0.1111111111111111,\"#46039f\"],[0.2222222222222222,\"#7201a8\"],[0.3333333333333333,\"#9c179e\"],[0.4444444444444444,\"#bd3786\"],[0.5555555555555556,\"#d8576b\"],[0.6666666666666666,\"#ed7953\"],[0.7777777777777778,\"#fb9f3a\"],[0.8888888888888888,\"#fdca26\"],[1.0,\"#f0f921\"]],\"sequentialminus\":[[0.0,\"#0d0887\"],[0.1111111111111111,\"#46039f\"],[0.2222222222222222,\"#7201a8\"],[0.3333333333333333,\"#9c179e\"],[0.4444444444444444,\"#bd3786\"],[0.5555555555555556,\"#d8576b\"],[0.6666666666666666,\"#ed7953\"],[0.7777777777777778,\"#fb9f3a\"],[0.8888888888888888,\"#fdca26\"],[1.0,\"#f0f921\"]]},\"colorway\":[\"#636efa\",\"#EF553B\",\"#00cc96\",\"#ab63fa\",\"#FFA15A\",\"#19d3f3\",\"#FF6692\",\"#B6E880\",\"#FF97FF\",\"#FECB52\"],\"font\":{\"color\":\"#2a3f5f\"},\"geo\":{\"bgcolor\":\"white\",\"lakecolor\":\"white\",\"landcolor\":\"#E5ECF6\",\"showlakes\":true,\"showland\":true,\"subunitcolor\":\"white\"},\"hoverlabel\":{\"align\":\"left\"},\"hovermode\":\"closest\",\"mapbox\":{\"style\":\"light\"},\"paper_bgcolor\":\"white\",\"plot_bgcolor\":\"#E5ECF6\",\"polar\":{\"angularaxis\":{\"gridcolor\":\"white\",\"linecolor\":\"white\",\"ticks\":\"\"},\"bgcolor\":\"#E5ECF6\",\"radialaxis\":{\"gridcolor\":\"white\",\"linecolor\":\"white\",\"ticks\":\"\"}},\"scene\":{\"xaxis\":{\"backgroundcolor\":\"#E5ECF6\",\"gridcolor\":\"white\",\"gridwidth\":2,\"linecolor\":\"white\",\"showbackground\":true,\"ticks\":\"\",\"zerolinecolor\":\"white\"},\"yaxis\":{\"backgroundcolor\":\"#E5ECF6\",\"gridcolor\":\"white\",\"gridwidth\":2,\"linecolor\":\"white\",\"showbackground\":true,\"ticks\":\"\",\"zerolinecolor\":\"white\"},\"zaxis\":{\"backgroundcolor\":\"#E5ECF6\",\"gridcolor\":\"white\",\"gridwidth\":2,\"linecolor\":\"white\",\"showbackground\":true,\"ticks\":\"\",\"zerolinecolor\":\"white\"}},\"shapedefaults\":{\"line\":{\"color\":\"#2a3f5f\"}},\"ternary\":{\"aaxis\":{\"gridcolor\":\"white\",\"linecolor\":\"white\",\"ticks\":\"\"},\"baxis\":{\"gridcolor\":\"white\",\"linecolor\":\"white\",\"ticks\":\"\"},\"bgcolor\":\"#E5ECF6\",\"caxis\":{\"gridcolor\":\"white\",\"linecolor\":\"white\",\"ticks\":\"\"}},\"title\":{\"x\":0.05},\"xaxis\":{\"automargin\":true,\"gridcolor\":\"white\",\"linecolor\":\"white\",\"ticks\":\"\",\"title\":{\"standoff\":15},\"zerolinecolor\":\"white\",\"zerolinewidth\":2},\"yaxis\":{\"automargin\":true,\"gridcolor\":\"white\",\"linecolor\":\"white\",\"ticks\":\"\",\"title\":{\"standoff\":15},\"zerolinecolor\":\"white\",\"zerolinewidth\":2}}},\"legend\":{\"tracegroupgap\":0},\"margin\":{\"t\":50,\"l\":25,\"r\":25,\"b\":25},\"height\":400,\"width\":800},                        {\"responsive\": true}                    ).then(function(){\n",
       "                            \n",
       "var gd = document.getElementById('884fea70-46f1-4483-80d2-d72bebaa3ef1');\n",
       "var x = new MutationObserver(function (mutations, observer) {{\n",
       "        var display = window.getComputedStyle(gd).display;\n",
       "        if (!display || display === 'none') {{\n",
       "            console.log([gd, 'removed!']);\n",
       "            Plotly.purge(gd);\n",
       "            observer.disconnect();\n",
       "        }}\n",
       "}});\n",
       "\n",
       "// Listen for the removal of the full notebook cells\n",
       "var notebookContainer = gd.closest('#notebook-container');\n",
       "if (notebookContainer) {{\n",
       "    x.observe(notebookContainer, {childList: true});\n",
       "}}\n",
       "\n",
       "// Listen for the clearing of the current output cell\n",
       "var outputEl = gd.closest('.output');\n",
       "if (outputEl) {{\n",
       "    x.observe(outputEl, {childList: true});\n",
       "}}\n",
       "\n",
       "                        })                };                });            </script>        </div>"
      ]
     },
     "metadata": {},
     "output_type": "display_data"
    }
   ],
   "source": [
    "warnings.filterwarnings(\"ignore\")\n",
    "\n",
    "print(\"An overview treemap of all the netflix data\")\n",
    "fig = px.treemap(netflix_country, path=['type','country_main'], width=800, height=400)#,values='values'\n",
    "\n",
    "fig.update_layout(\n",
    "     #defines the colors in the treemap\n",
    "    margin = dict(t=50, l=25, r=25, b=25))\n",
    "fig.show()"
   ]
  },
  {
   "cell_type": "markdown",
   "id": "f76fe165",
   "metadata": {},
   "source": [
    "**Below are the treemaps for top 5 contributing countries on netflix**"
   ]
  },
  {
   "cell_type": "code",
   "execution_count": 138,
   "id": "75ec8f8c",
   "metadata": {
    "ExecuteTime": {
     "end_time": "2022-07-12T23:51:25.267092Z",
     "start_time": "2022-07-12T23:51:23.952226Z"
    },
    "scrolled": false
   },
   "outputs": [
    {
     "name": "stdout",
     "output_type": "stream",
     "text": [
      "Content for United States"
     ]
    },
    {
     "data": {
      "application/vnd.plotly.v1+json": {
       "config": {
        "plotlyServerURL": "https://plot.ly"
       },
       "data": [
        {
         "branchvalues": "total",
         "customdata": [
          [
           "Older Kids",
           "Older Kids"
          ],
          [
           "Older Kids",
           "Older Kids"
          ],
          [
           "(?)",
           "(?)"
          ],
          [
           "(?)",
           "(?)"
          ],
          [
           "(?)",
           "(?)"
          ],
          [
           "Older Kids",
           "Older Kids"
          ],
          [
           "(?)",
           "(?)"
          ],
          [
           "Older Kids",
           "Older Kids"
          ],
          [
           "Older Kids",
           "Older Kids"
          ],
          [
           "(?)",
           "(?)"
          ],
          [
           "Older Kids",
           "Older Kids"
          ],
          [
           "Older Kids",
           "Older Kids"
          ],
          [
           "Older Kids",
           "Older Kids"
          ],
          [
           "(?)",
           "(?)"
          ],
          [
           "Older Kids",
           "Older Kids"
          ],
          [
           "Kids",
           "Kids"
          ],
          [
           "Older Kids",
           "Older Kids"
          ],
          [
           "Kids",
           "Kids"
          ],
          [
           "Teens",
           "Teens"
          ],
          [
           "Teens",
           "Teens"
          ],
          [
           "(?)",
           "(?)"
          ],
          [
           "(?)",
           "(?)"
          ],
          [
           "Teens",
           "Teens"
          ],
          [
           "Teens",
           "Teens"
          ],
          [
           "Teens",
           "Teens"
          ],
          [
           "Teens",
           "Teens"
          ],
          [
           "(?)",
           "(?)"
          ],
          [
           "Teens",
           "Teens"
          ],
          [
           "Teens",
           "Teens"
          ],
          [
           "Teens",
           "Teens"
          ],
          [
           "Teens",
           "Teens"
          ],
          [
           "Teens",
           "Teens"
          ],
          [
           "(?)",
           "(?)"
          ],
          [
           "Teens",
           "Teens"
          ],
          [
           "Teens",
           "Teens"
          ],
          [
           "(?)",
           "(?)"
          ],
          [
           "Kids",
           "Kids"
          ],
          [
           "(?)",
           "(?)"
          ],
          [
           "Kids",
           "Kids"
          ],
          [
           "Adults",
           "Adults"
          ],
          [
           "Adults",
           "Adults"
          ],
          [
           "Adults",
           "Adults"
          ],
          [
           "Adults",
           "Adults"
          ],
          [
           "Adults",
           "Adults"
          ],
          [
           "Adults",
           "Adults"
          ],
          [
           "Adults",
           "Adults"
          ],
          [
           "Adults",
           "Adults"
          ],
          [
           "Adults",
           "Adults"
          ],
          [
           "Kids",
           "Kids"
          ],
          [
           "Adults",
           "Adults"
          ],
          [
           "(?)",
           "(?)"
          ],
          [
           "Adults",
           "Adults"
          ],
          [
           "Adults",
           "Adults"
          ],
          [
           "Adults",
           "Adults"
          ],
          [
           "(?)",
           "(?)"
          ],
          [
           "Kids",
           "Kids"
          ],
          [
           "Older Kids",
           "Older Kids"
          ],
          [
           "Older Kids",
           "Older Kids"
          ],
          [
           "Kids",
           "Kids"
          ],
          [
           "(?)",
           "(?)"
          ],
          [
           "Older Kids",
           "Older Kids"
          ],
          [
           "Adults",
           "Adults"
          ],
          [
           "(?)",
           "(?)"
          ],
          [
           "Older Kids",
           "Older Kids"
          ],
          [
           "(?)",
           "(?)"
          ],
          [
           "Adults",
           "Adults"
          ],
          [
           "Teens",
           "Teens"
          ],
          [
           "Kids",
           "Kids"
          ],
          [
           "Teens",
           "Teens"
          ],
          [
           "(?)",
           "(?)"
          ],
          [
           "Adults",
           "Adults"
          ],
          [
           "Adults",
           "Adults"
          ],
          [
           "(?)",
           "(?)"
          ],
          [
           "(?)",
           "(?)"
          ],
          [
           "Adults",
           "Adults"
          ],
          [
           "Teens",
           "Teens"
          ],
          [
           "Teens",
           "Teens"
          ],
          [
           "Older Kids",
           "Older Kids"
          ],
          [
           "Older Kids",
           "Older Kids"
          ],
          [
           "(?)",
           "(?)"
          ],
          [
           "Kids",
           "Kids"
          ],
          [
           "(?)",
           "(?)"
          ],
          [
           "Older Kids",
           "Older Kids"
          ],
          [
           "Adults",
           "Adults"
          ],
          [
           "Adults",
           "Adults"
          ],
          [
           "Kids",
           "Kids"
          ],
          [
           "Adults",
           "Adults"
          ],
          [
           "Kids",
           "Kids"
          ],
          [
           "Adults",
           "Adults"
          ],
          [
           "Kids",
           "Kids"
          ],
          [
           "Older Kids",
           "Older Kids"
          ],
          [
           "Adults",
           "Adults"
          ],
          [
           "Older Kids",
           "Older Kids"
          ],
          [
           "Kids",
           "Kids"
          ],
          [
           "(?)",
           "(?)"
          ],
          [
           "Kids",
           "Kids"
          ],
          [
           "Adults",
           "Adults"
          ],
          [
           "Kids",
           "Kids"
          ],
          [
           "(?)",
           "(?)"
          ],
          [
           "(?)",
           "(?)"
          ],
          [
           "(?)",
           "(?)"
          ],
          [
           "(?)",
           "(?)"
          ],
          [
           "(?)",
           "(?)"
          ],
          [
           "(?)",
           "(?)"
          ],
          [
           "(?)",
           "(?)"
          ],
          [
           "(?)",
           "(?)"
          ],
          [
           "(?)",
           "(?)"
          ],
          [
           "(?)",
           "(?)"
          ],
          [
           "Adults",
           "Adults"
          ],
          [
           "Teens",
           "Teens"
          ],
          [
           "Adults",
           "Adults"
          ],
          [
           "Adults",
           "Adults"
          ],
          [
           "Adults",
           "Adults"
          ],
          [
           "Adults",
           "Adults"
          ],
          [
           "Adults",
           "Adults"
          ],
          [
           "Adults",
           "Adults"
          ],
          [
           "Adults",
           "Adults"
          ],
          [
           "Kids",
           "Kids"
          ],
          [
           "Kids",
           "Kids"
          ],
          [
           "Kids",
           "Kids"
          ],
          [
           "Kids",
           "Kids"
          ],
          [
           "Older Kids",
           "Older Kids"
          ],
          [
           "Older Kids",
           "Older Kids"
          ],
          [
           "(?)",
           "(?)"
          ],
          [
           "Older Kids",
           "Older Kids"
          ],
          [
           "Older Kids",
           "Older Kids"
          ],
          [
           "Older Kids",
           "Older Kids"
          ],
          [
           "Teens",
           "Teens"
          ],
          [
           "Teens",
           "Teens"
          ],
          [
           "Teens",
           "Teens"
          ],
          [
           "Teens",
           "Teens"
          ],
          [
           "Teens",
           "Teens"
          ],
          [
           "Teens",
           "Teens"
          ],
          [
           "Teens",
           "Teens"
          ],
          [
           "Teens",
           "Teens"
          ],
          [
           "Teens",
           "Teens"
          ],
          [
           "Teens",
           "Teens"
          ],
          [
           "Teens",
           "Teens"
          ],
          [
           "Older Kids",
           "Older Kids"
          ],
          [
           "(?)",
           "(?)"
          ]
         ],
         "domain": {
          "x": [
           0,
           1
          ],
          "y": [
           0,
           1
          ]
         },
         "hovertemplate": "labels=%{label}<br>count=%{value}<br>parent=%{parent}<br>id=%{id}<br>target_ages=%{customdata[1]}<extra></extra>",
         "ids": [
          "United States/TV Show/Romantic TV Shows/Older Kids",
          "United States/TV Show/TV Action & Adventure/Older Kids",
          "United States/Movie/Movies",
          "United States/TV Show",
          "United States/Movie/Music & Musicals",
          "United States/Movie/Movies/Older Kids",
          "United States/TV Show/Reality TV",
          "United States/Movie/International Movies/Older Kids",
          "United States/TV Show/Docuseries/Older Kids",
          "United States/Movie/Romantic Movies",
          "United States/Movie/Cult Movies/Older Kids",
          "United States/Movie/Classic Movies/Older Kids",
          "United States/TV Show/Classic & Cult TV/Older Kids",
          "United States/TV Show/Romantic TV Shows",
          "United States/Movie/Action & Adventure/Older Kids",
          "United States/TV Show/Stand-Up Comedy & Talk Shows/Kids",
          "United States/TV Show/TV Comedies/Older Kids",
          "United States/TV Show/Reality TV/Kids",
          "United States/Movie/Action & Adventure/Teens",
          "United States/TV Show/Anime Series/Teens",
          "United States/Movie/Anime Features",
          "United States/Movie/Comedies",
          "United States/TV Show/TV Dramas/Teens",
          "United States/TV Show/TV Action & Adventure/Teens",
          "United States/TV Show/Stand-Up Comedy & Talk Shows/Teens",
          "United States/TV Show/Romantic TV Shows/Teens",
          "United States/TV Show/Docuseries",
          "United States/Movie/Music & Musicals/Teens",
          "United States/TV Show/International TV Shows/Teens",
          "United States/Movie/Documentaries/Teens",
          "United States/TV Show/Crime TV Shows/Teens",
          "United States/Movie/Comedies/Teens",
          "United States/Movie/International Movies",
          "United States/Movie/Children & Family Movies/Teens",
          "United States/TV Show/British TV Shows/Teens",
          "United States/TV Show/International TV Shows",
          "United States/Movie/Comedies/Kids",
          "United States/TV Show/British TV Shows",
          "United States/Movie/Anime Features/Kids",
          "United States/TV Show/TV Action & Adventure/Adults",
          "United States/Movie/Dramas/Adults",
          "United States/TV Show/Spanish-Language TV Shows/Adults",
          "United States/Movie/Documentaries/Adults",
          "United States/Movie/Sci-Fi & Fantasy/Adults",
          "United States/TV Show/Crime TV Shows/Adults",
          "United States/Movie/Comedies/Adults",
          "United States/Movie/Independent Movies/Adults",
          "United States/TV Show/Docuseries/Adults",
          "United States/TV Show/Anime Series/Kids",
          "United States/TV Show/Stand-Up Comedy & Talk Shows/Adults",
          "United States/TV Show/TV Shows",
          "United States/TV Show/British TV Shows/Adults",
          "United States/Movie/Anime Features/Adults",
          "United States/TV Show/Anime Series/Adults",
          "United States/Movie",
          "United States/Movie/Documentaries/Kids",
          "United States/Movie/Independent Movies/Older Kids",
          "United States/Movie/Dramas/Older Kids",
          "United States/Movie/Dramas/Kids",
          "United States/Movie/Stand-Up Comedy",
          "United States/TV Show/Stand-Up Comedy & Talk Shows/Older Kids",
          "United States/TV Show/Spanish-Language TV Shows",
          "United States/Movie/Classic Movies",
          "United States/TV Show/Anime Series/Older Kids",
          "United States/TV Show/Classic & Cult TV",
          "United States/Movie/Movies/Adults",
          "United States/TV Show/Classic & Cult TV/Teens",
          "United States/TV Show/Classic & Cult TV/Kids",
          "United States/Movie/Horror Movies/Teens",
          "United States/Movie/Horror Movies",
          "United States/Movie/Cult Movies/Adults",
          "United States/TV Show/International TV Shows/Adults",
          "United States/Movie/Documentaries",
          "United States/Movie/Cult Movies",
          "United States/TV Show/Classic & Cult TV/Adults",
          "United States/TV Show/Docuseries/Teens",
          "United States/TV Show/Reality TV/Teens",
          "United States/Movie/Children & Family Movies/Older Kids",
          "United States/TV Show/Crime TV Shows/Older Kids",
          "United States/TV Show/Anime Series",
          "United States/Movie/Action & Adventure/Kids",
          "United States/Movie/Sci-Fi & Fantasy",
          "United States/Movie/Comedies/Older Kids",
          "United States/Movie/Music & Musicals/Adults",
          "United States/TV Show/TV Shows/Adults",
          "United States/Movie/Children & Family Movies/Kids",
          "United States/TV Show/TV Horror/Adults",
          "United States/TV Show/TV Shows/Kids",
          "United States/TV Show/TV Dramas/Adults",
          "United States/Movie/Movies/Kids",
          "United States/TV Show/Kids' TV/Older Kids",
          "United States/Movie/Stand-Up Comedy/Adults",
          "United States/TV Show/Reality TV/Older Kids",
          "United States/Movie/International Movies/Kids",
          "United States/TV Show/Stand-Up Comedy & Talk Shows",
          "United States/TV Show/Docuseries/Kids",
          "United States/TV Show/TV Comedies/Adults",
          "United States/TV Show/British TV Shows/Kids",
          "United States/Movie/Children & Family Movies",
          "United States/TV Show/TV Horror",
          "United States/TV Show/TV Action & Adventure",
          "United States/Movie/Dramas",
          "United States/Movie/Independent Movies",
          "United States/Movie/Thrillers",
          "United States/TV Show/TV Dramas",
          "United States/TV Show/Kids' TV",
          "United States/TV Show/Crime TV Shows",
          "United States/TV Show/TV Comedies",
          "United States/Movie/Action & Adventure/Adults",
          "United States/Movie/Thrillers/Teens",
          "United States/Movie/Classic Movies/Adults",
          "United States/Movie/Horror Movies/Adults",
          "United States/Movie/International Movies/Adults",
          "United States/TV Show/Reality TV/Adults",
          "United States/Movie/Romantic Movies/Adults",
          "United States/TV Show/Romantic TV Shows/Adults",
          "United States/Movie/Thrillers/Adults",
          "United States/Movie/Classic Movies/Kids",
          "United States/TV Show/International TV Shows/Kids",
          "United States/TV Show/Kids' TV/Kids",
          "United States/Movie/Stand-Up Comedy/Kids",
          "United States/TV Show/British TV Shows/Older Kids",
          "United States/Movie/Documentaries/Older Kids",
          "United States/Movie/Action & Adventure",
          "United States/TV Show/International TV Shows/Older Kids",
          "United States/Movie/Stand-Up Comedy/Older Kids",
          "United States/TV Show/TV Dramas/Older Kids",
          "United States/Movie/Anime Features/Teens",
          "United States/Movie/Classic Movies/Teens",
          "United States/Movie/Dramas/Teens",
          "United States/Movie/International Movies/Teens",
          "United States/Movie/Movies/Teens",
          "United States/Movie/Romantic Movies/Teens",
          "United States/Movie/Sci-Fi & Fantasy/Teens",
          "United States/Movie/Stand-Up Comedy/Teens",
          "United States/TV Show/TV Comedies/Teens",
          "United States/TV Show/TV Horror/Teens",
          "United States/TV Show/TV Shows/Teens",
          "United States/Movie/Music & Musicals/Older Kids",
          "United States"
         ],
         "labels": [
          "Older Kids",
          "Older Kids",
          "Movies",
          "TV Show",
          "Music & Musicals",
          "Older Kids",
          "Reality TV",
          "Older Kids",
          "Older Kids",
          "Romantic Movies",
          "Older Kids",
          "Older Kids",
          "Older Kids",
          "Romantic TV Shows",
          "Older Kids",
          "Kids",
          "Older Kids",
          "Kids",
          "Teens",
          "Teens",
          "Anime Features",
          "Comedies",
          "Teens",
          "Teens",
          "Teens",
          "Teens",
          "Docuseries",
          "Teens",
          "Teens",
          "Teens",
          "Teens",
          "Teens",
          "International Movies",
          "Teens",
          "Teens",
          "International TV Shows",
          "Kids",
          "British TV Shows",
          "Kids",
          "Adults",
          "Adults",
          "Adults",
          "Adults",
          "Adults",
          "Adults",
          "Adults",
          "Adults",
          "Adults",
          "Kids",
          "Adults",
          "TV Shows",
          "Adults",
          "Adults",
          "Adults",
          "Movie",
          "Kids",
          "Older Kids",
          "Older Kids",
          "Kids",
          "Stand-Up Comedy",
          "Older Kids",
          "Spanish-Language TV Shows",
          "Classic Movies",
          "Older Kids",
          "Classic & Cult TV",
          "Adults",
          "Teens",
          "Kids",
          "Teens",
          "Horror Movies",
          "Adults",
          "Adults",
          "Documentaries",
          "Cult Movies",
          "Adults",
          "Teens",
          "Teens",
          "Older Kids",
          "Older Kids",
          "Anime Series",
          "Kids",
          "Sci-Fi & Fantasy",
          "Older Kids",
          "Adults",
          "Adults",
          "Kids",
          "Adults",
          "Kids",
          "Adults",
          "Kids",
          "Older Kids",
          "Adults",
          "Older Kids",
          "Kids",
          "Stand-Up Comedy & Talk Shows",
          "Kids",
          "Adults",
          "Kids",
          "Children & Family Movies",
          "TV Horror",
          "TV Action & Adventure",
          "Dramas",
          "Independent Movies",
          "Thrillers",
          "TV Dramas",
          "Kids' TV",
          "Crime TV Shows",
          "TV Comedies",
          "Adults",
          "Teens",
          "Adults",
          "Adults",
          "Adults",
          "Adults",
          "Adults",
          "Adults",
          "Adults",
          "Kids",
          "Kids",
          "Kids",
          "Kids",
          "Older Kids",
          "Older Kids",
          "Action & Adventure",
          "Older Kids",
          "Older Kids",
          "Older Kids",
          "Teens",
          "Teens",
          "Teens",
          "Teens",
          "Teens",
          "Teens",
          "Teens",
          "Teens",
          "Teens",
          "Teens",
          "Teens",
          "Older Kids",
          "United States"
         ],
         "marker": {
          "colors": [
           "#636efa",
           "#636efa",
           "#EF553B",
           "#EF553B",
           "#EF553B",
           "#636efa",
           "#EF553B",
           "#636efa",
           "#636efa",
           "#EF553B",
           "#636efa",
           "#636efa",
           "#636efa",
           "#EF553B",
           "#636efa",
           "#00cc96",
           "#636efa",
           "#00cc96",
           "#ab63fa",
           "#ab63fa",
           "#EF553B",
           "#EF553B",
           "#ab63fa",
           "#ab63fa",
           "#ab63fa",
           "#ab63fa",
           "#EF553B",
           "#ab63fa",
           "#ab63fa",
           "#ab63fa",
           "#ab63fa",
           "#ab63fa",
           "#EF553B",
           "#ab63fa",
           "#ab63fa",
           "#EF553B",
           "#00cc96",
           "#EF553B",
           "#00cc96",
           "#FFA15A",
           "#FFA15A",
           "#FFA15A",
           "#FFA15A",
           "#FFA15A",
           "#FFA15A",
           "#FFA15A",
           "#FFA15A",
           "#FFA15A",
           "#00cc96",
           "#FFA15A",
           "#EF553B",
           "#FFA15A",
           "#FFA15A",
           "#FFA15A",
           "#EF553B",
           "#00cc96",
           "#636efa",
           "#636efa",
           "#00cc96",
           "#EF553B",
           "#636efa",
           "#FFA15A",
           "#EF553B",
           "#636efa",
           "#EF553B",
           "#FFA15A",
           "#ab63fa",
           "#00cc96",
           "#ab63fa",
           "#EF553B",
           "#FFA15A",
           "#FFA15A",
           "#EF553B",
           "#EF553B",
           "#FFA15A",
           "#ab63fa",
           "#ab63fa",
           "#636efa",
           "#636efa",
           "#EF553B",
           "#00cc96",
           "#EF553B",
           "#636efa",
           "#FFA15A",
           "#FFA15A",
           "#00cc96",
           "#FFA15A",
           "#00cc96",
           "#FFA15A",
           "#00cc96",
           "#636efa",
           "#FFA15A",
           "#636efa",
           "#00cc96",
           "#EF553B",
           "#00cc96",
           "#FFA15A",
           "#00cc96",
           "#EF553B",
           "#EF553B",
           "#EF553B",
           "#EF553B",
           "#EF553B",
           "#EF553B",
           "#EF553B",
           "#EF553B",
           "#EF553B",
           "#EF553B",
           "#FFA15A",
           "#ab63fa",
           "#FFA15A",
           "#FFA15A",
           "#FFA15A",
           "#FFA15A",
           "#FFA15A",
           "#FFA15A",
           "#FFA15A",
           "#00cc96",
           "#00cc96",
           "#00cc96",
           "#00cc96",
           "#636efa",
           "#636efa",
           "#EF553B",
           "#636efa",
           "#636efa",
           "#636efa",
           "#ab63fa",
           "#ab63fa",
           "#ab63fa",
           "#ab63fa",
           "#ab63fa",
           "#ab63fa",
           "#ab63fa",
           "#ab63fa",
           "#ab63fa",
           "#ab63fa",
           "#ab63fa",
           "#636efa",
           "#EF553B"
          ]
         },
         "name": "",
         "parents": [
          "United States/TV Show/Romantic TV Shows",
          "United States/TV Show/TV Action & Adventure",
          "United States/Movie",
          "United States",
          "United States/Movie",
          "United States/Movie/Movies",
          "United States/TV Show",
          "United States/Movie/International Movies",
          "United States/TV Show/Docuseries",
          "United States/Movie",
          "United States/Movie/Cult Movies",
          "United States/Movie/Classic Movies",
          "United States/TV Show/Classic & Cult TV",
          "United States/TV Show",
          "United States/Movie/Action & Adventure",
          "United States/TV Show/Stand-Up Comedy & Talk Shows",
          "United States/TV Show/TV Comedies",
          "United States/TV Show/Reality TV",
          "United States/Movie/Action & Adventure",
          "United States/TV Show/Anime Series",
          "United States/Movie",
          "United States/Movie",
          "United States/TV Show/TV Dramas",
          "United States/TV Show/TV Action & Adventure",
          "United States/TV Show/Stand-Up Comedy & Talk Shows",
          "United States/TV Show/Romantic TV Shows",
          "United States/TV Show",
          "United States/Movie/Music & Musicals",
          "United States/TV Show/International TV Shows",
          "United States/Movie/Documentaries",
          "United States/TV Show/Crime TV Shows",
          "United States/Movie/Comedies",
          "United States/Movie",
          "United States/Movie/Children & Family Movies",
          "United States/TV Show/British TV Shows",
          "United States/TV Show",
          "United States/Movie/Comedies",
          "United States/TV Show",
          "United States/Movie/Anime Features",
          "United States/TV Show/TV Action & Adventure",
          "United States/Movie/Dramas",
          "United States/TV Show/Spanish-Language TV Shows",
          "United States/Movie/Documentaries",
          "United States/Movie/Sci-Fi & Fantasy",
          "United States/TV Show/Crime TV Shows",
          "United States/Movie/Comedies",
          "United States/Movie/Independent Movies",
          "United States/TV Show/Docuseries",
          "United States/TV Show/Anime Series",
          "United States/TV Show/Stand-Up Comedy & Talk Shows",
          "United States/TV Show",
          "United States/TV Show/British TV Shows",
          "United States/Movie/Anime Features",
          "United States/TV Show/Anime Series",
          "United States",
          "United States/Movie/Documentaries",
          "United States/Movie/Independent Movies",
          "United States/Movie/Dramas",
          "United States/Movie/Dramas",
          "United States/Movie",
          "United States/TV Show/Stand-Up Comedy & Talk Shows",
          "United States/TV Show",
          "United States/Movie",
          "United States/TV Show/Anime Series",
          "United States/TV Show",
          "United States/Movie/Movies",
          "United States/TV Show/Classic & Cult TV",
          "United States/TV Show/Classic & Cult TV",
          "United States/Movie/Horror Movies",
          "United States/Movie",
          "United States/Movie/Cult Movies",
          "United States/TV Show/International TV Shows",
          "United States/Movie",
          "United States/Movie",
          "United States/TV Show/Classic & Cult TV",
          "United States/TV Show/Docuseries",
          "United States/TV Show/Reality TV",
          "United States/Movie/Children & Family Movies",
          "United States/TV Show/Crime TV Shows",
          "United States/TV Show",
          "United States/Movie/Action & Adventure",
          "United States/Movie",
          "United States/Movie/Comedies",
          "United States/Movie/Music & Musicals",
          "United States/TV Show/TV Shows",
          "United States/Movie/Children & Family Movies",
          "United States/TV Show/TV Horror",
          "United States/TV Show/TV Shows",
          "United States/TV Show/TV Dramas",
          "United States/Movie/Movies",
          "United States/TV Show/Kids' TV",
          "United States/Movie/Stand-Up Comedy",
          "United States/TV Show/Reality TV",
          "United States/Movie/International Movies",
          "United States/TV Show",
          "United States/TV Show/Docuseries",
          "United States/TV Show/TV Comedies",
          "United States/TV Show/British TV Shows",
          "United States/Movie",
          "United States/TV Show",
          "United States/TV Show",
          "United States/Movie",
          "United States/Movie",
          "United States/Movie",
          "United States/TV Show",
          "United States/TV Show",
          "United States/TV Show",
          "United States/TV Show",
          "United States/Movie/Action & Adventure",
          "United States/Movie/Thrillers",
          "United States/Movie/Classic Movies",
          "United States/Movie/Horror Movies",
          "United States/Movie/International Movies",
          "United States/TV Show/Reality TV",
          "United States/Movie/Romantic Movies",
          "United States/TV Show/Romantic TV Shows",
          "United States/Movie/Thrillers",
          "United States/Movie/Classic Movies",
          "United States/TV Show/International TV Shows",
          "United States/TV Show/Kids' TV",
          "United States/Movie/Stand-Up Comedy",
          "United States/TV Show/British TV Shows",
          "United States/Movie/Documentaries",
          "United States/Movie",
          "United States/TV Show/International TV Shows",
          "United States/Movie/Stand-Up Comedy",
          "United States/TV Show/TV Dramas",
          "United States/Movie/Anime Features",
          "United States/Movie/Classic Movies",
          "United States/Movie/Dramas",
          "United States/Movie/International Movies",
          "United States/Movie/Movies",
          "United States/Movie/Romantic Movies",
          "United States/Movie/Sci-Fi & Fantasy",
          "United States/Movie/Stand-Up Comedy",
          "United States/TV Show/TV Comedies",
          "United States/TV Show/TV Horror",
          "United States/TV Show/TV Shows",
          "United States/Movie/Music & Musicals",
          ""
         ],
         "type": "treemap",
         "values": [
          1,
          5,
          40,
          1151,
          13,
          10,
          107,
          2,
          46,
          2,
          1,
          7,
          4,
          28,
          28,
          1,
          14,
          12,
          108,
          3,
          3,
          400,
          24,
          11,
          5,
          17,
          168,
          2,
          79,
          122,
          36,
          159,
          14,
          7,
          4,
          174,
          1,
          21,
          1,
          16,
          270,
          1,
          217,
          1,
          112,
          219,
          9,
          71,
          1,
          27,
          11,
          10,
          1,
          10,
          2495,
          20,
          1,
          44,
          2,
          240,
          1,
          1,
          40,
          14,
          14,
          10,
          6,
          1,
          26,
          115,
          8,
          70,
          458,
          9,
          3,
          43,
          32,
          231,
          2,
          28,
          1,
          5,
          21,
          8,
          4,
          123,
          5,
          2,
          25,
          17,
          110,
          206,
          33,
          3,
          34,
          8,
          62,
          3,
          361,
          9,
          32,
          448,
          10,
          46,
          52,
          212,
          150,
          110,
          154,
          23,
          16,
          89,
          5,
          30,
          1,
          10,
          23,
          4,
          3,
          102,
          3,
          4,
          99,
          291,
          22,
          6,
          3,
          1,
          13,
          132,
          4,
          3,
          1,
          4,
          25,
          34,
          4,
          5,
          3,
          3646
         ]
        }
       ],
       "layout": {
        "legend": {
         "tracegroupgap": 0
        },
        "margin": {
         "t": 60
        },
        "template": {
         "data": {
          "bar": [
           {
            "error_x": {
             "color": "#2a3f5f"
            },
            "error_y": {
             "color": "#2a3f5f"
            },
            "marker": {
             "line": {
              "color": "#E5ECF6",
              "width": 0.5
             },
             "pattern": {
              "fillmode": "overlay",
              "size": 10,
              "solidity": 0.2
             }
            },
            "type": "bar"
           }
          ],
          "barpolar": [
           {
            "marker": {
             "line": {
              "color": "#E5ECF6",
              "width": 0.5
             },
             "pattern": {
              "fillmode": "overlay",
              "size": 10,
              "solidity": 0.2
             }
            },
            "type": "barpolar"
           }
          ],
          "carpet": [
           {
            "aaxis": {
             "endlinecolor": "#2a3f5f",
             "gridcolor": "white",
             "linecolor": "white",
             "minorgridcolor": "white",
             "startlinecolor": "#2a3f5f"
            },
            "baxis": {
             "endlinecolor": "#2a3f5f",
             "gridcolor": "white",
             "linecolor": "white",
             "minorgridcolor": "white",
             "startlinecolor": "#2a3f5f"
            },
            "type": "carpet"
           }
          ],
          "choropleth": [
           {
            "colorbar": {
             "outlinewidth": 0,
             "ticks": ""
            },
            "type": "choropleth"
           }
          ],
          "contour": [
           {
            "colorbar": {
             "outlinewidth": 0,
             "ticks": ""
            },
            "colorscale": [
             [
              0,
              "#0d0887"
             ],
             [
              0.1111111111111111,
              "#46039f"
             ],
             [
              0.2222222222222222,
              "#7201a8"
             ],
             [
              0.3333333333333333,
              "#9c179e"
             ],
             [
              0.4444444444444444,
              "#bd3786"
             ],
             [
              0.5555555555555556,
              "#d8576b"
             ],
             [
              0.6666666666666666,
              "#ed7953"
             ],
             [
              0.7777777777777778,
              "#fb9f3a"
             ],
             [
              0.8888888888888888,
              "#fdca26"
             ],
             [
              1,
              "#f0f921"
             ]
            ],
            "type": "contour"
           }
          ],
          "contourcarpet": [
           {
            "colorbar": {
             "outlinewidth": 0,
             "ticks": ""
            },
            "type": "contourcarpet"
           }
          ],
          "heatmap": [
           {
            "colorbar": {
             "outlinewidth": 0,
             "ticks": ""
            },
            "colorscale": [
             [
              0,
              "#0d0887"
             ],
             [
              0.1111111111111111,
              "#46039f"
             ],
             [
              0.2222222222222222,
              "#7201a8"
             ],
             [
              0.3333333333333333,
              "#9c179e"
             ],
             [
              0.4444444444444444,
              "#bd3786"
             ],
             [
              0.5555555555555556,
              "#d8576b"
             ],
             [
              0.6666666666666666,
              "#ed7953"
             ],
             [
              0.7777777777777778,
              "#fb9f3a"
             ],
             [
              0.8888888888888888,
              "#fdca26"
             ],
             [
              1,
              "#f0f921"
             ]
            ],
            "type": "heatmap"
           }
          ],
          "heatmapgl": [
           {
            "colorbar": {
             "outlinewidth": 0,
             "ticks": ""
            },
            "colorscale": [
             [
              0,
              "#0d0887"
             ],
             [
              0.1111111111111111,
              "#46039f"
             ],
             [
              0.2222222222222222,
              "#7201a8"
             ],
             [
              0.3333333333333333,
              "#9c179e"
             ],
             [
              0.4444444444444444,
              "#bd3786"
             ],
             [
              0.5555555555555556,
              "#d8576b"
             ],
             [
              0.6666666666666666,
              "#ed7953"
             ],
             [
              0.7777777777777778,
              "#fb9f3a"
             ],
             [
              0.8888888888888888,
              "#fdca26"
             ],
             [
              1,
              "#f0f921"
             ]
            ],
            "type": "heatmapgl"
           }
          ],
          "histogram": [
           {
            "marker": {
             "pattern": {
              "fillmode": "overlay",
              "size": 10,
              "solidity": 0.2
             }
            },
            "type": "histogram"
           }
          ],
          "histogram2d": [
           {
            "colorbar": {
             "outlinewidth": 0,
             "ticks": ""
            },
            "colorscale": [
             [
              0,
              "#0d0887"
             ],
             [
              0.1111111111111111,
              "#46039f"
             ],
             [
              0.2222222222222222,
              "#7201a8"
             ],
             [
              0.3333333333333333,
              "#9c179e"
             ],
             [
              0.4444444444444444,
              "#bd3786"
             ],
             [
              0.5555555555555556,
              "#d8576b"
             ],
             [
              0.6666666666666666,
              "#ed7953"
             ],
             [
              0.7777777777777778,
              "#fb9f3a"
             ],
             [
              0.8888888888888888,
              "#fdca26"
             ],
             [
              1,
              "#f0f921"
             ]
            ],
            "type": "histogram2d"
           }
          ],
          "histogram2dcontour": [
           {
            "colorbar": {
             "outlinewidth": 0,
             "ticks": ""
            },
            "colorscale": [
             [
              0,
              "#0d0887"
             ],
             [
              0.1111111111111111,
              "#46039f"
             ],
             [
              0.2222222222222222,
              "#7201a8"
             ],
             [
              0.3333333333333333,
              "#9c179e"
             ],
             [
              0.4444444444444444,
              "#bd3786"
             ],
             [
              0.5555555555555556,
              "#d8576b"
             ],
             [
              0.6666666666666666,
              "#ed7953"
             ],
             [
              0.7777777777777778,
              "#fb9f3a"
             ],
             [
              0.8888888888888888,
              "#fdca26"
             ],
             [
              1,
              "#f0f921"
             ]
            ],
            "type": "histogram2dcontour"
           }
          ],
          "mesh3d": [
           {
            "colorbar": {
             "outlinewidth": 0,
             "ticks": ""
            },
            "type": "mesh3d"
           }
          ],
          "parcoords": [
           {
            "line": {
             "colorbar": {
              "outlinewidth": 0,
              "ticks": ""
             }
            },
            "type": "parcoords"
           }
          ],
          "pie": [
           {
            "automargin": true,
            "type": "pie"
           }
          ],
          "scatter": [
           {
            "marker": {
             "colorbar": {
              "outlinewidth": 0,
              "ticks": ""
             }
            },
            "type": "scatter"
           }
          ],
          "scatter3d": [
           {
            "line": {
             "colorbar": {
              "outlinewidth": 0,
              "ticks": ""
             }
            },
            "marker": {
             "colorbar": {
              "outlinewidth": 0,
              "ticks": ""
             }
            },
            "type": "scatter3d"
           }
          ],
          "scattercarpet": [
           {
            "marker": {
             "colorbar": {
              "outlinewidth": 0,
              "ticks": ""
             }
            },
            "type": "scattercarpet"
           }
          ],
          "scattergeo": [
           {
            "marker": {
             "colorbar": {
              "outlinewidth": 0,
              "ticks": ""
             }
            },
            "type": "scattergeo"
           }
          ],
          "scattergl": [
           {
            "marker": {
             "colorbar": {
              "outlinewidth": 0,
              "ticks": ""
             }
            },
            "type": "scattergl"
           }
          ],
          "scattermapbox": [
           {
            "marker": {
             "colorbar": {
              "outlinewidth": 0,
              "ticks": ""
             }
            },
            "type": "scattermapbox"
           }
          ],
          "scatterpolar": [
           {
            "marker": {
             "colorbar": {
              "outlinewidth": 0,
              "ticks": ""
             }
            },
            "type": "scatterpolar"
           }
          ],
          "scatterpolargl": [
           {
            "marker": {
             "colorbar": {
              "outlinewidth": 0,
              "ticks": ""
             }
            },
            "type": "scatterpolargl"
           }
          ],
          "scatterternary": [
           {
            "marker": {
             "colorbar": {
              "outlinewidth": 0,
              "ticks": ""
             }
            },
            "type": "scatterternary"
           }
          ],
          "surface": [
           {
            "colorbar": {
             "outlinewidth": 0,
             "ticks": ""
            },
            "colorscale": [
             [
              0,
              "#0d0887"
             ],
             [
              0.1111111111111111,
              "#46039f"
             ],
             [
              0.2222222222222222,
              "#7201a8"
             ],
             [
              0.3333333333333333,
              "#9c179e"
             ],
             [
              0.4444444444444444,
              "#bd3786"
             ],
             [
              0.5555555555555556,
              "#d8576b"
             ],
             [
              0.6666666666666666,
              "#ed7953"
             ],
             [
              0.7777777777777778,
              "#fb9f3a"
             ],
             [
              0.8888888888888888,
              "#fdca26"
             ],
             [
              1,
              "#f0f921"
             ]
            ],
            "type": "surface"
           }
          ],
          "table": [
           {
            "cells": {
             "fill": {
              "color": "#EBF0F8"
             },
             "line": {
              "color": "white"
             }
            },
            "header": {
             "fill": {
              "color": "#C8D4E3"
             },
             "line": {
              "color": "white"
             }
            },
            "type": "table"
           }
          ]
         },
         "layout": {
          "annotationdefaults": {
           "arrowcolor": "#2a3f5f",
           "arrowhead": 0,
           "arrowwidth": 1
          },
          "autotypenumbers": "strict",
          "coloraxis": {
           "colorbar": {
            "outlinewidth": 0,
            "ticks": ""
           }
          },
          "colorscale": {
           "diverging": [
            [
             0,
             "#8e0152"
            ],
            [
             0.1,
             "#c51b7d"
            ],
            [
             0.2,
             "#de77ae"
            ],
            [
             0.3,
             "#f1b6da"
            ],
            [
             0.4,
             "#fde0ef"
            ],
            [
             0.5,
             "#f7f7f7"
            ],
            [
             0.6,
             "#e6f5d0"
            ],
            [
             0.7,
             "#b8e186"
            ],
            [
             0.8,
             "#7fbc41"
            ],
            [
             0.9,
             "#4d9221"
            ],
            [
             1,
             "#276419"
            ]
           ],
           "sequential": [
            [
             0,
             "#0d0887"
            ],
            [
             0.1111111111111111,
             "#46039f"
            ],
            [
             0.2222222222222222,
             "#7201a8"
            ],
            [
             0.3333333333333333,
             "#9c179e"
            ],
            [
             0.4444444444444444,
             "#bd3786"
            ],
            [
             0.5555555555555556,
             "#d8576b"
            ],
            [
             0.6666666666666666,
             "#ed7953"
            ],
            [
             0.7777777777777778,
             "#fb9f3a"
            ],
            [
             0.8888888888888888,
             "#fdca26"
            ],
            [
             1,
             "#f0f921"
            ]
           ],
           "sequentialminus": [
            [
             0,
             "#0d0887"
            ],
            [
             0.1111111111111111,
             "#46039f"
            ],
            [
             0.2222222222222222,
             "#7201a8"
            ],
            [
             0.3333333333333333,
             "#9c179e"
            ],
            [
             0.4444444444444444,
             "#bd3786"
            ],
            [
             0.5555555555555556,
             "#d8576b"
            ],
            [
             0.6666666666666666,
             "#ed7953"
            ],
            [
             0.7777777777777778,
             "#fb9f3a"
            ],
            [
             0.8888888888888888,
             "#fdca26"
            ],
            [
             1,
             "#f0f921"
            ]
           ]
          },
          "colorway": [
           "#636efa",
           "#EF553B",
           "#00cc96",
           "#ab63fa",
           "#FFA15A",
           "#19d3f3",
           "#FF6692",
           "#B6E880",
           "#FF97FF",
           "#FECB52"
          ],
          "font": {
           "color": "#2a3f5f"
          },
          "geo": {
           "bgcolor": "white",
           "lakecolor": "white",
           "landcolor": "#E5ECF6",
           "showlakes": true,
           "showland": true,
           "subunitcolor": "white"
          },
          "hoverlabel": {
           "align": "left"
          },
          "hovermode": "closest",
          "mapbox": {
           "style": "light"
          },
          "paper_bgcolor": "white",
          "plot_bgcolor": "#E5ECF6",
          "polar": {
           "angularaxis": {
            "gridcolor": "white",
            "linecolor": "white",
            "ticks": ""
           },
           "bgcolor": "#E5ECF6",
           "radialaxis": {
            "gridcolor": "white",
            "linecolor": "white",
            "ticks": ""
           }
          },
          "scene": {
           "xaxis": {
            "backgroundcolor": "#E5ECF6",
            "gridcolor": "white",
            "gridwidth": 2,
            "linecolor": "white",
            "showbackground": true,
            "ticks": "",
            "zerolinecolor": "white"
           },
           "yaxis": {
            "backgroundcolor": "#E5ECF6",
            "gridcolor": "white",
            "gridwidth": 2,
            "linecolor": "white",
            "showbackground": true,
            "ticks": "",
            "zerolinecolor": "white"
           },
           "zaxis": {
            "backgroundcolor": "#E5ECF6",
            "gridcolor": "white",
            "gridwidth": 2,
            "linecolor": "white",
            "showbackground": true,
            "ticks": "",
            "zerolinecolor": "white"
           }
          },
          "shapedefaults": {
           "line": {
            "color": "#2a3f5f"
           }
          },
          "ternary": {
           "aaxis": {
            "gridcolor": "white",
            "linecolor": "white",
            "ticks": ""
           },
           "baxis": {
            "gridcolor": "white",
            "linecolor": "white",
            "ticks": ""
           },
           "bgcolor": "#E5ECF6",
           "caxis": {
            "gridcolor": "white",
            "linecolor": "white",
            "ticks": ""
           }
          },
          "title": {
           "x": 0.05
          },
          "xaxis": {
           "automargin": true,
           "gridcolor": "white",
           "linecolor": "white",
           "ticks": "",
           "title": {
            "standoff": 15
           },
           "zerolinecolor": "white",
           "zerolinewidth": 2
          },
          "yaxis": {
           "automargin": true,
           "gridcolor": "white",
           "linecolor": "white",
           "ticks": "",
           "title": {
            "standoff": 15
           },
           "zerolinecolor": "white",
           "zerolinewidth": 2
          }
         }
        }
       }
      },
      "text/html": [
       "<div>                            <div id=\"845195ce-a198-46d1-81bd-69f57a4cefa7\" class=\"plotly-graph-div\" style=\"height:525px; width:100%;\"></div>            <script type=\"text/javascript\">                require([\"plotly\"], function(Plotly) {                    window.PLOTLYENV=window.PLOTLYENV || {};                                    if (document.getElementById(\"845195ce-a198-46d1-81bd-69f57a4cefa7\")) {                    Plotly.newPlot(                        \"845195ce-a198-46d1-81bd-69f57a4cefa7\",                        [{\"branchvalues\":\"total\",\"customdata\":[[\"Older Kids\",\"Older Kids\"],[\"Older Kids\",\"Older Kids\"],[\"(?)\",\"(?)\"],[\"(?)\",\"(?)\"],[\"(?)\",\"(?)\"],[\"Older Kids\",\"Older Kids\"],[\"(?)\",\"(?)\"],[\"Older Kids\",\"Older Kids\"],[\"Older Kids\",\"Older Kids\"],[\"(?)\",\"(?)\"],[\"Older Kids\",\"Older Kids\"],[\"Older Kids\",\"Older Kids\"],[\"Older Kids\",\"Older Kids\"],[\"(?)\",\"(?)\"],[\"Older Kids\",\"Older Kids\"],[\"Kids\",\"Kids\"],[\"Older Kids\",\"Older Kids\"],[\"Kids\",\"Kids\"],[\"Teens\",\"Teens\"],[\"Teens\",\"Teens\"],[\"(?)\",\"(?)\"],[\"(?)\",\"(?)\"],[\"Teens\",\"Teens\"],[\"Teens\",\"Teens\"],[\"Teens\",\"Teens\"],[\"Teens\",\"Teens\"],[\"(?)\",\"(?)\"],[\"Teens\",\"Teens\"],[\"Teens\",\"Teens\"],[\"Teens\",\"Teens\"],[\"Teens\",\"Teens\"],[\"Teens\",\"Teens\"],[\"(?)\",\"(?)\"],[\"Teens\",\"Teens\"],[\"Teens\",\"Teens\"],[\"(?)\",\"(?)\"],[\"Kids\",\"Kids\"],[\"(?)\",\"(?)\"],[\"Kids\",\"Kids\"],[\"Adults\",\"Adults\"],[\"Adults\",\"Adults\"],[\"Adults\",\"Adults\"],[\"Adults\",\"Adults\"],[\"Adults\",\"Adults\"],[\"Adults\",\"Adults\"],[\"Adults\",\"Adults\"],[\"Adults\",\"Adults\"],[\"Adults\",\"Adults\"],[\"Kids\",\"Kids\"],[\"Adults\",\"Adults\"],[\"(?)\",\"(?)\"],[\"Adults\",\"Adults\"],[\"Adults\",\"Adults\"],[\"Adults\",\"Adults\"],[\"(?)\",\"(?)\"],[\"Kids\",\"Kids\"],[\"Older Kids\",\"Older Kids\"],[\"Older Kids\",\"Older Kids\"],[\"Kids\",\"Kids\"],[\"(?)\",\"(?)\"],[\"Older Kids\",\"Older Kids\"],[\"Adults\",\"Adults\"],[\"(?)\",\"(?)\"],[\"Older Kids\",\"Older Kids\"],[\"(?)\",\"(?)\"],[\"Adults\",\"Adults\"],[\"Teens\",\"Teens\"],[\"Kids\",\"Kids\"],[\"Teens\",\"Teens\"],[\"(?)\",\"(?)\"],[\"Adults\",\"Adults\"],[\"Adults\",\"Adults\"],[\"(?)\",\"(?)\"],[\"(?)\",\"(?)\"],[\"Adults\",\"Adults\"],[\"Teens\",\"Teens\"],[\"Teens\",\"Teens\"],[\"Older Kids\",\"Older Kids\"],[\"Older Kids\",\"Older Kids\"],[\"(?)\",\"(?)\"],[\"Kids\",\"Kids\"],[\"(?)\",\"(?)\"],[\"Older Kids\",\"Older Kids\"],[\"Adults\",\"Adults\"],[\"Adults\",\"Adults\"],[\"Kids\",\"Kids\"],[\"Adults\",\"Adults\"],[\"Kids\",\"Kids\"],[\"Adults\",\"Adults\"],[\"Kids\",\"Kids\"],[\"Older Kids\",\"Older Kids\"],[\"Adults\",\"Adults\"],[\"Older Kids\",\"Older Kids\"],[\"Kids\",\"Kids\"],[\"(?)\",\"(?)\"],[\"Kids\",\"Kids\"],[\"Adults\",\"Adults\"],[\"Kids\",\"Kids\"],[\"(?)\",\"(?)\"],[\"(?)\",\"(?)\"],[\"(?)\",\"(?)\"],[\"(?)\",\"(?)\"],[\"(?)\",\"(?)\"],[\"(?)\",\"(?)\"],[\"(?)\",\"(?)\"],[\"(?)\",\"(?)\"],[\"(?)\",\"(?)\"],[\"(?)\",\"(?)\"],[\"Adults\",\"Adults\"],[\"Teens\",\"Teens\"],[\"Adults\",\"Adults\"],[\"Adults\",\"Adults\"],[\"Adults\",\"Adults\"],[\"Adults\",\"Adults\"],[\"Adults\",\"Adults\"],[\"Adults\",\"Adults\"],[\"Adults\",\"Adults\"],[\"Kids\",\"Kids\"],[\"Kids\",\"Kids\"],[\"Kids\",\"Kids\"],[\"Kids\",\"Kids\"],[\"Older Kids\",\"Older Kids\"],[\"Older Kids\",\"Older Kids\"],[\"(?)\",\"(?)\"],[\"Older Kids\",\"Older Kids\"],[\"Older Kids\",\"Older Kids\"],[\"Older Kids\",\"Older Kids\"],[\"Teens\",\"Teens\"],[\"Teens\",\"Teens\"],[\"Teens\",\"Teens\"],[\"Teens\",\"Teens\"],[\"Teens\",\"Teens\"],[\"Teens\",\"Teens\"],[\"Teens\",\"Teens\"],[\"Teens\",\"Teens\"],[\"Teens\",\"Teens\"],[\"Teens\",\"Teens\"],[\"Teens\",\"Teens\"],[\"Older Kids\",\"Older Kids\"],[\"(?)\",\"(?)\"]],\"domain\":{\"x\":[0.0,1.0],\"y\":[0.0,1.0]},\"hovertemplate\":\"labels=%{label}<br>count=%{value}<br>parent=%{parent}<br>id=%{id}<br>target_ages=%{customdata[1]}<extra></extra>\",\"ids\":[\"United States/TV Show/Romantic TV Shows/Older Kids\",\"United States/TV Show/TV Action & Adventure/Older Kids\",\"United States/Movie/Movies\",\"United States/TV Show\",\"United States/Movie/Music & Musicals\",\"United States/Movie/Movies/Older Kids\",\"United States/TV Show/Reality TV\",\"United States/Movie/International Movies/Older Kids\",\"United States/TV Show/Docuseries/Older Kids\",\"United States/Movie/Romantic Movies\",\"United States/Movie/Cult Movies/Older Kids\",\"United States/Movie/Classic Movies/Older Kids\",\"United States/TV Show/Classic & Cult TV/Older Kids\",\"United States/TV Show/Romantic TV Shows\",\"United States/Movie/Action & Adventure/Older Kids\",\"United States/TV Show/Stand-Up Comedy & Talk Shows/Kids\",\"United States/TV Show/TV Comedies/Older Kids\",\"United States/TV Show/Reality TV/Kids\",\"United States/Movie/Action & Adventure/Teens\",\"United States/TV Show/Anime Series/Teens\",\"United States/Movie/Anime Features\",\"United States/Movie/Comedies\",\"United States/TV Show/TV Dramas/Teens\",\"United States/TV Show/TV Action & Adventure/Teens\",\"United States/TV Show/Stand-Up Comedy & Talk Shows/Teens\",\"United States/TV Show/Romantic TV Shows/Teens\",\"United States/TV Show/Docuseries\",\"United States/Movie/Music & Musicals/Teens\",\"United States/TV Show/International TV Shows/Teens\",\"United States/Movie/Documentaries/Teens\",\"United States/TV Show/Crime TV Shows/Teens\",\"United States/Movie/Comedies/Teens\",\"United States/Movie/International Movies\",\"United States/Movie/Children & Family Movies/Teens\",\"United States/TV Show/British TV Shows/Teens\",\"United States/TV Show/International TV Shows\",\"United States/Movie/Comedies/Kids\",\"United States/TV Show/British TV Shows\",\"United States/Movie/Anime Features/Kids\",\"United States/TV Show/TV Action & Adventure/Adults\",\"United States/Movie/Dramas/Adults\",\"United States/TV Show/Spanish-Language TV Shows/Adults\",\"United States/Movie/Documentaries/Adults\",\"United States/Movie/Sci-Fi & Fantasy/Adults\",\"United States/TV Show/Crime TV Shows/Adults\",\"United States/Movie/Comedies/Adults\",\"United States/Movie/Independent Movies/Adults\",\"United States/TV Show/Docuseries/Adults\",\"United States/TV Show/Anime Series/Kids\",\"United States/TV Show/Stand-Up Comedy & Talk Shows/Adults\",\"United States/TV Show/TV Shows\",\"United States/TV Show/British TV Shows/Adults\",\"United States/Movie/Anime Features/Adults\",\"United States/TV Show/Anime Series/Adults\",\"United States/Movie\",\"United States/Movie/Documentaries/Kids\",\"United States/Movie/Independent Movies/Older Kids\",\"United States/Movie/Dramas/Older Kids\",\"United States/Movie/Dramas/Kids\",\"United States/Movie/Stand-Up Comedy\",\"United States/TV Show/Stand-Up Comedy & Talk Shows/Older Kids\",\"United States/TV Show/Spanish-Language TV Shows\",\"United States/Movie/Classic Movies\",\"United States/TV Show/Anime Series/Older Kids\",\"United States/TV Show/Classic & Cult TV\",\"United States/Movie/Movies/Adults\",\"United States/TV Show/Classic & Cult TV/Teens\",\"United States/TV Show/Classic & Cult TV/Kids\",\"United States/Movie/Horror Movies/Teens\",\"United States/Movie/Horror Movies\",\"United States/Movie/Cult Movies/Adults\",\"United States/TV Show/International TV Shows/Adults\",\"United States/Movie/Documentaries\",\"United States/Movie/Cult Movies\",\"United States/TV Show/Classic & Cult TV/Adults\",\"United States/TV Show/Docuseries/Teens\",\"United States/TV Show/Reality TV/Teens\",\"United States/Movie/Children & Family Movies/Older Kids\",\"United States/TV Show/Crime TV Shows/Older Kids\",\"United States/TV Show/Anime Series\",\"United States/Movie/Action & Adventure/Kids\",\"United States/Movie/Sci-Fi & Fantasy\",\"United States/Movie/Comedies/Older Kids\",\"United States/Movie/Music & Musicals/Adults\",\"United States/TV Show/TV Shows/Adults\",\"United States/Movie/Children & Family Movies/Kids\",\"United States/TV Show/TV Horror/Adults\",\"United States/TV Show/TV Shows/Kids\",\"United States/TV Show/TV Dramas/Adults\",\"United States/Movie/Movies/Kids\",\"United States/TV Show/Kids' TV/Older Kids\",\"United States/Movie/Stand-Up Comedy/Adults\",\"United States/TV Show/Reality TV/Older Kids\",\"United States/Movie/International Movies/Kids\",\"United States/TV Show/Stand-Up Comedy & Talk Shows\",\"United States/TV Show/Docuseries/Kids\",\"United States/TV Show/TV Comedies/Adults\",\"United States/TV Show/British TV Shows/Kids\",\"United States/Movie/Children & Family Movies\",\"United States/TV Show/TV Horror\",\"United States/TV Show/TV Action & Adventure\",\"United States/Movie/Dramas\",\"United States/Movie/Independent Movies\",\"United States/Movie/Thrillers\",\"United States/TV Show/TV Dramas\",\"United States/TV Show/Kids' TV\",\"United States/TV Show/Crime TV Shows\",\"United States/TV Show/TV Comedies\",\"United States/Movie/Action & Adventure/Adults\",\"United States/Movie/Thrillers/Teens\",\"United States/Movie/Classic Movies/Adults\",\"United States/Movie/Horror Movies/Adults\",\"United States/Movie/International Movies/Adults\",\"United States/TV Show/Reality TV/Adults\",\"United States/Movie/Romantic Movies/Adults\",\"United States/TV Show/Romantic TV Shows/Adults\",\"United States/Movie/Thrillers/Adults\",\"United States/Movie/Classic Movies/Kids\",\"United States/TV Show/International TV Shows/Kids\",\"United States/TV Show/Kids' TV/Kids\",\"United States/Movie/Stand-Up Comedy/Kids\",\"United States/TV Show/British TV Shows/Older Kids\",\"United States/Movie/Documentaries/Older Kids\",\"United States/Movie/Action & Adventure\",\"United States/TV Show/International TV Shows/Older Kids\",\"United States/Movie/Stand-Up Comedy/Older Kids\",\"United States/TV Show/TV Dramas/Older Kids\",\"United States/Movie/Anime Features/Teens\",\"United States/Movie/Classic Movies/Teens\",\"United States/Movie/Dramas/Teens\",\"United States/Movie/International Movies/Teens\",\"United States/Movie/Movies/Teens\",\"United States/Movie/Romantic Movies/Teens\",\"United States/Movie/Sci-Fi & Fantasy/Teens\",\"United States/Movie/Stand-Up Comedy/Teens\",\"United States/TV Show/TV Comedies/Teens\",\"United States/TV Show/TV Horror/Teens\",\"United States/TV Show/TV Shows/Teens\",\"United States/Movie/Music & Musicals/Older Kids\",\"United States\"],\"labels\":[\"Older Kids\",\"Older Kids\",\"Movies\",\"TV Show\",\"Music & Musicals\",\"Older Kids\",\"Reality TV\",\"Older Kids\",\"Older Kids\",\"Romantic Movies\",\"Older Kids\",\"Older Kids\",\"Older Kids\",\"Romantic TV Shows\",\"Older Kids\",\"Kids\",\"Older Kids\",\"Kids\",\"Teens\",\"Teens\",\"Anime Features\",\"Comedies\",\"Teens\",\"Teens\",\"Teens\",\"Teens\",\"Docuseries\",\"Teens\",\"Teens\",\"Teens\",\"Teens\",\"Teens\",\"International Movies\",\"Teens\",\"Teens\",\"International TV Shows\",\"Kids\",\"British TV Shows\",\"Kids\",\"Adults\",\"Adults\",\"Adults\",\"Adults\",\"Adults\",\"Adults\",\"Adults\",\"Adults\",\"Adults\",\"Kids\",\"Adults\",\"TV Shows\",\"Adults\",\"Adults\",\"Adults\",\"Movie\",\"Kids\",\"Older Kids\",\"Older Kids\",\"Kids\",\"Stand-Up Comedy\",\"Older Kids\",\"Spanish-Language TV Shows\",\"Classic Movies\",\"Older Kids\",\"Classic & Cult TV\",\"Adults\",\"Teens\",\"Kids\",\"Teens\",\"Horror Movies\",\"Adults\",\"Adults\",\"Documentaries\",\"Cult Movies\",\"Adults\",\"Teens\",\"Teens\",\"Older Kids\",\"Older Kids\",\"Anime Series\",\"Kids\",\"Sci-Fi & Fantasy\",\"Older Kids\",\"Adults\",\"Adults\",\"Kids\",\"Adults\",\"Kids\",\"Adults\",\"Kids\",\"Older Kids\",\"Adults\",\"Older Kids\",\"Kids\",\"Stand-Up Comedy & Talk Shows\",\"Kids\",\"Adults\",\"Kids\",\"Children & Family Movies\",\"TV Horror\",\"TV Action & Adventure\",\"Dramas\",\"Independent Movies\",\"Thrillers\",\"TV Dramas\",\"Kids' TV\",\"Crime TV Shows\",\"TV Comedies\",\"Adults\",\"Teens\",\"Adults\",\"Adults\",\"Adults\",\"Adults\",\"Adults\",\"Adults\",\"Adults\",\"Kids\",\"Kids\",\"Kids\",\"Kids\",\"Older Kids\",\"Older Kids\",\"Action & Adventure\",\"Older Kids\",\"Older Kids\",\"Older Kids\",\"Teens\",\"Teens\",\"Teens\",\"Teens\",\"Teens\",\"Teens\",\"Teens\",\"Teens\",\"Teens\",\"Teens\",\"Teens\",\"Older Kids\",\"United States\"],\"marker\":{\"colors\":[\"#636efa\",\"#636efa\",\"#EF553B\",\"#EF553B\",\"#EF553B\",\"#636efa\",\"#EF553B\",\"#636efa\",\"#636efa\",\"#EF553B\",\"#636efa\",\"#636efa\",\"#636efa\",\"#EF553B\",\"#636efa\",\"#00cc96\",\"#636efa\",\"#00cc96\",\"#ab63fa\",\"#ab63fa\",\"#EF553B\",\"#EF553B\",\"#ab63fa\",\"#ab63fa\",\"#ab63fa\",\"#ab63fa\",\"#EF553B\",\"#ab63fa\",\"#ab63fa\",\"#ab63fa\",\"#ab63fa\",\"#ab63fa\",\"#EF553B\",\"#ab63fa\",\"#ab63fa\",\"#EF553B\",\"#00cc96\",\"#EF553B\",\"#00cc96\",\"#FFA15A\",\"#FFA15A\",\"#FFA15A\",\"#FFA15A\",\"#FFA15A\",\"#FFA15A\",\"#FFA15A\",\"#FFA15A\",\"#FFA15A\",\"#00cc96\",\"#FFA15A\",\"#EF553B\",\"#FFA15A\",\"#FFA15A\",\"#FFA15A\",\"#EF553B\",\"#00cc96\",\"#636efa\",\"#636efa\",\"#00cc96\",\"#EF553B\",\"#636efa\",\"#FFA15A\",\"#EF553B\",\"#636efa\",\"#EF553B\",\"#FFA15A\",\"#ab63fa\",\"#00cc96\",\"#ab63fa\",\"#EF553B\",\"#FFA15A\",\"#FFA15A\",\"#EF553B\",\"#EF553B\",\"#FFA15A\",\"#ab63fa\",\"#ab63fa\",\"#636efa\",\"#636efa\",\"#EF553B\",\"#00cc96\",\"#EF553B\",\"#636efa\",\"#FFA15A\",\"#FFA15A\",\"#00cc96\",\"#FFA15A\",\"#00cc96\",\"#FFA15A\",\"#00cc96\",\"#636efa\",\"#FFA15A\",\"#636efa\",\"#00cc96\",\"#EF553B\",\"#00cc96\",\"#FFA15A\",\"#00cc96\",\"#EF553B\",\"#EF553B\",\"#EF553B\",\"#EF553B\",\"#EF553B\",\"#EF553B\",\"#EF553B\",\"#EF553B\",\"#EF553B\",\"#EF553B\",\"#FFA15A\",\"#ab63fa\",\"#FFA15A\",\"#FFA15A\",\"#FFA15A\",\"#FFA15A\",\"#FFA15A\",\"#FFA15A\",\"#FFA15A\",\"#00cc96\",\"#00cc96\",\"#00cc96\",\"#00cc96\",\"#636efa\",\"#636efa\",\"#EF553B\",\"#636efa\",\"#636efa\",\"#636efa\",\"#ab63fa\",\"#ab63fa\",\"#ab63fa\",\"#ab63fa\",\"#ab63fa\",\"#ab63fa\",\"#ab63fa\",\"#ab63fa\",\"#ab63fa\",\"#ab63fa\",\"#ab63fa\",\"#636efa\",\"#EF553B\"]},\"name\":\"\",\"parents\":[\"United States/TV Show/Romantic TV Shows\",\"United States/TV Show/TV Action & Adventure\",\"United States/Movie\",\"United States\",\"United States/Movie\",\"United States/Movie/Movies\",\"United States/TV Show\",\"United States/Movie/International Movies\",\"United States/TV Show/Docuseries\",\"United States/Movie\",\"United States/Movie/Cult Movies\",\"United States/Movie/Classic Movies\",\"United States/TV Show/Classic & Cult TV\",\"United States/TV Show\",\"United States/Movie/Action & Adventure\",\"United States/TV Show/Stand-Up Comedy & Talk Shows\",\"United States/TV Show/TV Comedies\",\"United States/TV Show/Reality TV\",\"United States/Movie/Action & Adventure\",\"United States/TV Show/Anime Series\",\"United States/Movie\",\"United States/Movie\",\"United States/TV Show/TV Dramas\",\"United States/TV Show/TV Action & Adventure\",\"United States/TV Show/Stand-Up Comedy & Talk Shows\",\"United States/TV Show/Romantic TV Shows\",\"United States/TV Show\",\"United States/Movie/Music & Musicals\",\"United States/TV Show/International TV Shows\",\"United States/Movie/Documentaries\",\"United States/TV Show/Crime TV Shows\",\"United States/Movie/Comedies\",\"United States/Movie\",\"United States/Movie/Children & Family Movies\",\"United States/TV Show/British TV Shows\",\"United States/TV Show\",\"United States/Movie/Comedies\",\"United States/TV Show\",\"United States/Movie/Anime Features\",\"United States/TV Show/TV Action & Adventure\",\"United States/Movie/Dramas\",\"United States/TV Show/Spanish-Language TV Shows\",\"United States/Movie/Documentaries\",\"United States/Movie/Sci-Fi & Fantasy\",\"United States/TV Show/Crime TV Shows\",\"United States/Movie/Comedies\",\"United States/Movie/Independent Movies\",\"United States/TV Show/Docuseries\",\"United States/TV Show/Anime Series\",\"United States/TV Show/Stand-Up Comedy & Talk Shows\",\"United States/TV Show\",\"United States/TV Show/British TV Shows\",\"United States/Movie/Anime Features\",\"United States/TV Show/Anime Series\",\"United States\",\"United States/Movie/Documentaries\",\"United States/Movie/Independent Movies\",\"United States/Movie/Dramas\",\"United States/Movie/Dramas\",\"United States/Movie\",\"United States/TV Show/Stand-Up Comedy & Talk Shows\",\"United States/TV Show\",\"United States/Movie\",\"United States/TV Show/Anime Series\",\"United States/TV Show\",\"United States/Movie/Movies\",\"United States/TV Show/Classic & Cult TV\",\"United States/TV Show/Classic & Cult TV\",\"United States/Movie/Horror Movies\",\"United States/Movie\",\"United States/Movie/Cult Movies\",\"United States/TV Show/International TV Shows\",\"United States/Movie\",\"United States/Movie\",\"United States/TV Show/Classic & Cult TV\",\"United States/TV Show/Docuseries\",\"United States/TV Show/Reality TV\",\"United States/Movie/Children & Family Movies\",\"United States/TV Show/Crime TV Shows\",\"United States/TV Show\",\"United States/Movie/Action & Adventure\",\"United States/Movie\",\"United States/Movie/Comedies\",\"United States/Movie/Music & Musicals\",\"United States/TV Show/TV Shows\",\"United States/Movie/Children & Family Movies\",\"United States/TV Show/TV Horror\",\"United States/TV Show/TV Shows\",\"United States/TV Show/TV Dramas\",\"United States/Movie/Movies\",\"United States/TV Show/Kids' TV\",\"United States/Movie/Stand-Up Comedy\",\"United States/TV Show/Reality TV\",\"United States/Movie/International Movies\",\"United States/TV Show\",\"United States/TV Show/Docuseries\",\"United States/TV Show/TV Comedies\",\"United States/TV Show/British TV Shows\",\"United States/Movie\",\"United States/TV Show\",\"United States/TV Show\",\"United States/Movie\",\"United States/Movie\",\"United States/Movie\",\"United States/TV Show\",\"United States/TV Show\",\"United States/TV Show\",\"United States/TV Show\",\"United States/Movie/Action & Adventure\",\"United States/Movie/Thrillers\",\"United States/Movie/Classic Movies\",\"United States/Movie/Horror Movies\",\"United States/Movie/International Movies\",\"United States/TV Show/Reality TV\",\"United States/Movie/Romantic Movies\",\"United States/TV Show/Romantic TV Shows\",\"United States/Movie/Thrillers\",\"United States/Movie/Classic Movies\",\"United States/TV Show/International TV Shows\",\"United States/TV Show/Kids' TV\",\"United States/Movie/Stand-Up Comedy\",\"United States/TV Show/British TV Shows\",\"United States/Movie/Documentaries\",\"United States/Movie\",\"United States/TV Show/International TV Shows\",\"United States/Movie/Stand-Up Comedy\",\"United States/TV Show/TV Dramas\",\"United States/Movie/Anime Features\",\"United States/Movie/Classic Movies\",\"United States/Movie/Dramas\",\"United States/Movie/International Movies\",\"United States/Movie/Movies\",\"United States/Movie/Romantic Movies\",\"United States/Movie/Sci-Fi & Fantasy\",\"United States/Movie/Stand-Up Comedy\",\"United States/TV Show/TV Comedies\",\"United States/TV Show/TV Horror\",\"United States/TV Show/TV Shows\",\"United States/Movie/Music & Musicals\",\"\"],\"values\":[1,5,40,1151,13,10,107,2,46,2,1,7,4,28,28,1,14,12,108,3,3,400,24,11,5,17,168,2,79,122,36,159,14,7,4,174,1,21,1,16,270,1,217,1,112,219,9,71,1,27,11,10,1,10,2495,20,1,44,2,240,1,1,40,14,14,10,6,1,26,115,8,70,458,9,3,43,32,231,2,28,1,5,21,8,4,123,5,2,25,17,110,206,33,3,34,8,62,3,361,9,32,448,10,46,52,212,150,110,154,23,16,89,5,30,1,10,23,4,3,102,3,4,99,291,22,6,3,1,13,132,4,3,1,4,25,34,4,5,3,3646],\"type\":\"treemap\"}],                        {\"template\":{\"data\":{\"bar\":[{\"error_x\":{\"color\":\"#2a3f5f\"},\"error_y\":{\"color\":\"#2a3f5f\"},\"marker\":{\"line\":{\"color\":\"#E5ECF6\",\"width\":0.5},\"pattern\":{\"fillmode\":\"overlay\",\"size\":10,\"solidity\":0.2}},\"type\":\"bar\"}],\"barpolar\":[{\"marker\":{\"line\":{\"color\":\"#E5ECF6\",\"width\":0.5},\"pattern\":{\"fillmode\":\"overlay\",\"size\":10,\"solidity\":0.2}},\"type\":\"barpolar\"}],\"carpet\":[{\"aaxis\":{\"endlinecolor\":\"#2a3f5f\",\"gridcolor\":\"white\",\"linecolor\":\"white\",\"minorgridcolor\":\"white\",\"startlinecolor\":\"#2a3f5f\"},\"baxis\":{\"endlinecolor\":\"#2a3f5f\",\"gridcolor\":\"white\",\"linecolor\":\"white\",\"minorgridcolor\":\"white\",\"startlinecolor\":\"#2a3f5f\"},\"type\":\"carpet\"}],\"choropleth\":[{\"colorbar\":{\"outlinewidth\":0,\"ticks\":\"\"},\"type\":\"choropleth\"}],\"contour\":[{\"colorbar\":{\"outlinewidth\":0,\"ticks\":\"\"},\"colorscale\":[[0.0,\"#0d0887\"],[0.1111111111111111,\"#46039f\"],[0.2222222222222222,\"#7201a8\"],[0.3333333333333333,\"#9c179e\"],[0.4444444444444444,\"#bd3786\"],[0.5555555555555556,\"#d8576b\"],[0.6666666666666666,\"#ed7953\"],[0.7777777777777778,\"#fb9f3a\"],[0.8888888888888888,\"#fdca26\"],[1.0,\"#f0f921\"]],\"type\":\"contour\"}],\"contourcarpet\":[{\"colorbar\":{\"outlinewidth\":0,\"ticks\":\"\"},\"type\":\"contourcarpet\"}],\"heatmap\":[{\"colorbar\":{\"outlinewidth\":0,\"ticks\":\"\"},\"colorscale\":[[0.0,\"#0d0887\"],[0.1111111111111111,\"#46039f\"],[0.2222222222222222,\"#7201a8\"],[0.3333333333333333,\"#9c179e\"],[0.4444444444444444,\"#bd3786\"],[0.5555555555555556,\"#d8576b\"],[0.6666666666666666,\"#ed7953\"],[0.7777777777777778,\"#fb9f3a\"],[0.8888888888888888,\"#fdca26\"],[1.0,\"#f0f921\"]],\"type\":\"heatmap\"}],\"heatmapgl\":[{\"colorbar\":{\"outlinewidth\":0,\"ticks\":\"\"},\"colorscale\":[[0.0,\"#0d0887\"],[0.1111111111111111,\"#46039f\"],[0.2222222222222222,\"#7201a8\"],[0.3333333333333333,\"#9c179e\"],[0.4444444444444444,\"#bd3786\"],[0.5555555555555556,\"#d8576b\"],[0.6666666666666666,\"#ed7953\"],[0.7777777777777778,\"#fb9f3a\"],[0.8888888888888888,\"#fdca26\"],[1.0,\"#f0f921\"]],\"type\":\"heatmapgl\"}],\"histogram\":[{\"marker\":{\"pattern\":{\"fillmode\":\"overlay\",\"size\":10,\"solidity\":0.2}},\"type\":\"histogram\"}],\"histogram2d\":[{\"colorbar\":{\"outlinewidth\":0,\"ticks\":\"\"},\"colorscale\":[[0.0,\"#0d0887\"],[0.1111111111111111,\"#46039f\"],[0.2222222222222222,\"#7201a8\"],[0.3333333333333333,\"#9c179e\"],[0.4444444444444444,\"#bd3786\"],[0.5555555555555556,\"#d8576b\"],[0.6666666666666666,\"#ed7953\"],[0.7777777777777778,\"#fb9f3a\"],[0.8888888888888888,\"#fdca26\"],[1.0,\"#f0f921\"]],\"type\":\"histogram2d\"}],\"histogram2dcontour\":[{\"colorbar\":{\"outlinewidth\":0,\"ticks\":\"\"},\"colorscale\":[[0.0,\"#0d0887\"],[0.1111111111111111,\"#46039f\"],[0.2222222222222222,\"#7201a8\"],[0.3333333333333333,\"#9c179e\"],[0.4444444444444444,\"#bd3786\"],[0.5555555555555556,\"#d8576b\"],[0.6666666666666666,\"#ed7953\"],[0.7777777777777778,\"#fb9f3a\"],[0.8888888888888888,\"#fdca26\"],[1.0,\"#f0f921\"]],\"type\":\"histogram2dcontour\"}],\"mesh3d\":[{\"colorbar\":{\"outlinewidth\":0,\"ticks\":\"\"},\"type\":\"mesh3d\"}],\"parcoords\":[{\"line\":{\"colorbar\":{\"outlinewidth\":0,\"ticks\":\"\"}},\"type\":\"parcoords\"}],\"pie\":[{\"automargin\":true,\"type\":\"pie\"}],\"scatter\":[{\"marker\":{\"colorbar\":{\"outlinewidth\":0,\"ticks\":\"\"}},\"type\":\"scatter\"}],\"scatter3d\":[{\"line\":{\"colorbar\":{\"outlinewidth\":0,\"ticks\":\"\"}},\"marker\":{\"colorbar\":{\"outlinewidth\":0,\"ticks\":\"\"}},\"type\":\"scatter3d\"}],\"scattercarpet\":[{\"marker\":{\"colorbar\":{\"outlinewidth\":0,\"ticks\":\"\"}},\"type\":\"scattercarpet\"}],\"scattergeo\":[{\"marker\":{\"colorbar\":{\"outlinewidth\":0,\"ticks\":\"\"}},\"type\":\"scattergeo\"}],\"scattergl\":[{\"marker\":{\"colorbar\":{\"outlinewidth\":0,\"ticks\":\"\"}},\"type\":\"scattergl\"}],\"scattermapbox\":[{\"marker\":{\"colorbar\":{\"outlinewidth\":0,\"ticks\":\"\"}},\"type\":\"scattermapbox\"}],\"scatterpolar\":[{\"marker\":{\"colorbar\":{\"outlinewidth\":0,\"ticks\":\"\"}},\"type\":\"scatterpolar\"}],\"scatterpolargl\":[{\"marker\":{\"colorbar\":{\"outlinewidth\":0,\"ticks\":\"\"}},\"type\":\"scatterpolargl\"}],\"scatterternary\":[{\"marker\":{\"colorbar\":{\"outlinewidth\":0,\"ticks\":\"\"}},\"type\":\"scatterternary\"}],\"surface\":[{\"colorbar\":{\"outlinewidth\":0,\"ticks\":\"\"},\"colorscale\":[[0.0,\"#0d0887\"],[0.1111111111111111,\"#46039f\"],[0.2222222222222222,\"#7201a8\"],[0.3333333333333333,\"#9c179e\"],[0.4444444444444444,\"#bd3786\"],[0.5555555555555556,\"#d8576b\"],[0.6666666666666666,\"#ed7953\"],[0.7777777777777778,\"#fb9f3a\"],[0.8888888888888888,\"#fdca26\"],[1.0,\"#f0f921\"]],\"type\":\"surface\"}],\"table\":[{\"cells\":{\"fill\":{\"color\":\"#EBF0F8\"},\"line\":{\"color\":\"white\"}},\"header\":{\"fill\":{\"color\":\"#C8D4E3\"},\"line\":{\"color\":\"white\"}},\"type\":\"table\"}]},\"layout\":{\"annotationdefaults\":{\"arrowcolor\":\"#2a3f5f\",\"arrowhead\":0,\"arrowwidth\":1},\"autotypenumbers\":\"strict\",\"coloraxis\":{\"colorbar\":{\"outlinewidth\":0,\"ticks\":\"\"}},\"colorscale\":{\"diverging\":[[0,\"#8e0152\"],[0.1,\"#c51b7d\"],[0.2,\"#de77ae\"],[0.3,\"#f1b6da\"],[0.4,\"#fde0ef\"],[0.5,\"#f7f7f7\"],[0.6,\"#e6f5d0\"],[0.7,\"#b8e186\"],[0.8,\"#7fbc41\"],[0.9,\"#4d9221\"],[1,\"#276419\"]],\"sequential\":[[0.0,\"#0d0887\"],[0.1111111111111111,\"#46039f\"],[0.2222222222222222,\"#7201a8\"],[0.3333333333333333,\"#9c179e\"],[0.4444444444444444,\"#bd3786\"],[0.5555555555555556,\"#d8576b\"],[0.6666666666666666,\"#ed7953\"],[0.7777777777777778,\"#fb9f3a\"],[0.8888888888888888,\"#fdca26\"],[1.0,\"#f0f921\"]],\"sequentialminus\":[[0.0,\"#0d0887\"],[0.1111111111111111,\"#46039f\"],[0.2222222222222222,\"#7201a8\"],[0.3333333333333333,\"#9c179e\"],[0.4444444444444444,\"#bd3786\"],[0.5555555555555556,\"#d8576b\"],[0.6666666666666666,\"#ed7953\"],[0.7777777777777778,\"#fb9f3a\"],[0.8888888888888888,\"#fdca26\"],[1.0,\"#f0f921\"]]},\"colorway\":[\"#636efa\",\"#EF553B\",\"#00cc96\",\"#ab63fa\",\"#FFA15A\",\"#19d3f3\",\"#FF6692\",\"#B6E880\",\"#FF97FF\",\"#FECB52\"],\"font\":{\"color\":\"#2a3f5f\"},\"geo\":{\"bgcolor\":\"white\",\"lakecolor\":\"white\",\"landcolor\":\"#E5ECF6\",\"showlakes\":true,\"showland\":true,\"subunitcolor\":\"white\"},\"hoverlabel\":{\"align\":\"left\"},\"hovermode\":\"closest\",\"mapbox\":{\"style\":\"light\"},\"paper_bgcolor\":\"white\",\"plot_bgcolor\":\"#E5ECF6\",\"polar\":{\"angularaxis\":{\"gridcolor\":\"white\",\"linecolor\":\"white\",\"ticks\":\"\"},\"bgcolor\":\"#E5ECF6\",\"radialaxis\":{\"gridcolor\":\"white\",\"linecolor\":\"white\",\"ticks\":\"\"}},\"scene\":{\"xaxis\":{\"backgroundcolor\":\"#E5ECF6\",\"gridcolor\":\"white\",\"gridwidth\":2,\"linecolor\":\"white\",\"showbackground\":true,\"ticks\":\"\",\"zerolinecolor\":\"white\"},\"yaxis\":{\"backgroundcolor\":\"#E5ECF6\",\"gridcolor\":\"white\",\"gridwidth\":2,\"linecolor\":\"white\",\"showbackground\":true,\"ticks\":\"\",\"zerolinecolor\":\"white\"},\"zaxis\":{\"backgroundcolor\":\"#E5ECF6\",\"gridcolor\":\"white\",\"gridwidth\":2,\"linecolor\":\"white\",\"showbackground\":true,\"ticks\":\"\",\"zerolinecolor\":\"white\"}},\"shapedefaults\":{\"line\":{\"color\":\"#2a3f5f\"}},\"ternary\":{\"aaxis\":{\"gridcolor\":\"white\",\"linecolor\":\"white\",\"ticks\":\"\"},\"baxis\":{\"gridcolor\":\"white\",\"linecolor\":\"white\",\"ticks\":\"\"},\"bgcolor\":\"#E5ECF6\",\"caxis\":{\"gridcolor\":\"white\",\"linecolor\":\"white\",\"ticks\":\"\"}},\"title\":{\"x\":0.05},\"xaxis\":{\"automargin\":true,\"gridcolor\":\"white\",\"linecolor\":\"white\",\"ticks\":\"\",\"title\":{\"standoff\":15},\"zerolinecolor\":\"white\",\"zerolinewidth\":2},\"yaxis\":{\"automargin\":true,\"gridcolor\":\"white\",\"linecolor\":\"white\",\"ticks\":\"\",\"title\":{\"standoff\":15},\"zerolinecolor\":\"white\",\"zerolinewidth\":2}}},\"legend\":{\"tracegroupgap\":0},\"margin\":{\"t\":60}},                        {\"responsive\": true}                    ).then(function(){\n",
       "                            \n",
       "var gd = document.getElementById('845195ce-a198-46d1-81bd-69f57a4cefa7');\n",
       "var x = new MutationObserver(function (mutations, observer) {{\n",
       "        var display = window.getComputedStyle(gd).display;\n",
       "        if (!display || display === 'none') {{\n",
       "            console.log([gd, 'removed!']);\n",
       "            Plotly.purge(gd);\n",
       "            observer.disconnect();\n",
       "        }}\n",
       "}});\n",
       "\n",
       "// Listen for the removal of the full notebook cells\n",
       "var notebookContainer = gd.closest('#notebook-container');\n",
       "if (notebookContainer) {{\n",
       "    x.observe(notebookContainer, {childList: true});\n",
       "}}\n",
       "\n",
       "// Listen for the clearing of the current output cell\n",
       "var outputEl = gd.closest('.output');\n",
       "if (outputEl) {{\n",
       "    x.observe(outputEl, {childList: true});\n",
       "}}\n",
       "\n",
       "                        })                };                });            </script>        </div>"
      ]
     },
     "metadata": {},
     "output_type": "display_data"
    },
    {
     "name": "stdout",
     "output_type": "stream",
     "text": [
      "Content for India"
     ]
    },
    {
     "data": {
      "application/vnd.plotly.v1+json": {
       "config": {
        "plotlyServerURL": "https://plot.ly"
       },
       "data": [
        {
         "branchvalues": "total",
         "customdata": [
          [
           "Adults",
           "Adults"
          ],
          [
           "Older Kids",
           "Older Kids"
          ],
          [
           "Older Kids",
           "Older Kids"
          ],
          [
           "Older Kids",
           "Older Kids"
          ],
          [
           "Teens",
           "Teens"
          ],
          [
           "Teens",
           "Teens"
          ],
          [
           "Teens",
           "Teens"
          ],
          [
           "(?)",
           "(?)"
          ],
          [
           "(?)",
           "(?)"
          ],
          [
           "(?)",
           "(?)"
          ],
          [
           "(?)",
           "(?)"
          ],
          [
           "(?)",
           "(?)"
          ],
          [
           "(?)",
           "(?)"
          ],
          [
           "(?)",
           "(?)"
          ],
          [
           "Older Kids",
           "Older Kids"
          ],
          [
           "(?)",
           "(?)"
          ],
          [
           "Older Kids",
           "Older Kids"
          ],
          [
           "Older Kids",
           "Older Kids"
          ],
          [
           "Teens",
           "Teens"
          ],
          [
           "Older Kids",
           "Older Kids"
          ],
          [
           "Older Kids",
           "Older Kids"
          ],
          [
           "(?)",
           "(?)"
          ],
          [
           "Adults",
           "Adults"
          ],
          [
           "(?)",
           "(?)"
          ],
          [
           "Teens",
           "Teens"
          ],
          [
           "Adults",
           "Adults"
          ],
          [
           "Adults",
           "Adults"
          ],
          [
           "Adults",
           "Adults"
          ],
          [
           "Teens",
           "Teens"
          ],
          [
           "(?)",
           "(?)"
          ],
          [
           "Adults",
           "Adults"
          ],
          [
           "(?)",
           "(?)"
          ],
          [
           "Teens",
           "Teens"
          ],
          [
           "Teens",
           "Teens"
          ],
          [
           "(?)",
           "(?)"
          ],
          [
           "Adults",
           "Adults"
          ],
          [
           "Adults",
           "Adults"
          ],
          [
           "Teens",
           "Teens"
          ],
          [
           "Older Kids",
           "Older Kids"
          ],
          [
           "(?)",
           "(?)"
          ],
          [
           "(?)",
           "(?)"
          ],
          [
           "(?)",
           "(?)"
          ],
          [
           "Adults",
           "Adults"
          ],
          [
           "(?)",
           "(?)"
          ],
          [
           "Adults",
           "Adults"
          ],
          [
           "Teens",
           "Teens"
          ],
          [
           "Kids",
           "Kids"
          ],
          [
           "Older Kids",
           "Older Kids"
          ],
          [
           "Older Kids",
           "Older Kids"
          ],
          [
           "Kids",
           "Kids"
          ],
          [
           "Kids",
           "Kids"
          ],
          [
           "Kids",
           "Kids"
          ],
          [
           "Older Kids",
           "Older Kids"
          ],
          [
           "Teens",
           "Teens"
          ],
          [
           "(?)",
           "(?)"
          ],
          [
           "Teens",
           "Teens"
          ],
          [
           "Teens",
           "Teens"
          ],
          [
           "Adults",
           "Adults"
          ],
          [
           "Teens",
           "Teens"
          ],
          [
           "Teens",
           "Teens"
          ],
          [
           "Teens",
           "Teens"
          ],
          [
           "Teens",
           "Teens"
          ],
          [
           "Older Kids",
           "Older Kids"
          ],
          [
           "Kids",
           "Kids"
          ],
          [
           "Adults",
           "Adults"
          ]
         ],
         "domain": {
          "x": [
           0,
           1
          ],
          "y": [
           0,
           1
          ]
         },
         "hovertemplate": "labels=%{label}<br>count=%{value}<br>parent=%{parent}<br>id=%{id}<br>target_ages=%{customdata[1]}<extra></extra>",
         "ids": [
          "India/Movie/Action & Adventure/Adults",
          "India/Movie/International Movies/Older Kids",
          "India/TV Show/International TV Shows/Older Kids",
          "India/TV Show/Kids' TV/Older Kids",
          "India/Movie/Children & Family Movies/Teens",
          "India/TV Show/Crime TV Shows/Teens",
          "India/TV Show/International TV Shows/Teens",
          "India/TV Show/British TV Shows",
          "India/Movie/Children & Family Movies",
          "India/Movie/Classic Movies",
          "India/Movie/Comedies",
          "India/TV Show/Crime TV Shows",
          "India/Movie/Horror Movies",
          "India/TV Show/Kids' TV",
          "India/TV Show/Reality TV",
          "India/Movie",
          "India/Movie/Documentaries/Older Kids",
          "India/Movie/Classic Movies/Older Kids",
          "India/Movie/Classic Movies/Teens",
          "India/Movie/Action & Adventure/Older Kids",
          "India/Movie/Children & Family Movies/Older Kids",
          "India",
          "India/Movie/Documentaries/Adults",
          "India/Movie/Dramas",
          "India/Movie/Stand-Up Comedy/Teens",
          "India/Movie/Comedies/Adults",
          "India/TV Show/Crime TV Shows/Adults",
          "India/TV Show/Docuseries/Adults",
          "India/Movie/Independent Movies",
          "India/TV Show",
          "India/Movie/International Movies/Adults",
          "India/TV Show/Docuseries",
          "India/Movie/Cult Movies/Teens",
          "India/Movie/Documentaries/Teens",
          "India/Movie/Documentaries",
          "India/Movie/Horror Movies/Adults",
          "India/Movie/Dramas/Adults",
          "India/Movie/Cult Movies",
          "India/TV Show/Docuseries/Older Kids",
          "India/TV Show/International TV Shows",
          "India/Movie/Stand-Up Comedy",
          "India/TV Show/TV Shows",
          "India/TV Show/British TV Shows/Adults",
          "India/Movie/International Movies",
          "India/TV Show/International TV Shows/Adults",
          "India/TV Show/TV Shows/Teens",
          "India/TV Show/Kids' TV/Kids",
          "India/Movie/Dramas/Older Kids",
          "India/Movie/Horror Movies/Older Kids",
          "India/Movie/Dramas/Kids",
          "India/TV Show/Docuseries/Kids",
          "India/Movie/Documentaries/Kids",
          "India/TV Show/Reality TV/Older Kids",
          "India/Movie/Action & Adventure/Teens",
          "India/Movie/Action & Adventure",
          "India/TV Show/British TV Shows/Teens",
          "India/Movie/Comedies/Teens",
          "India/TV Show/TV Shows/Adults",
          "India/Movie/Dramas/Teens",
          "India/Movie/Horror Movies/Teens",
          "India/Movie/Independent Movies/Teens",
          "India/Movie/International Movies/Teens",
          "India/Movie/Comedies/Older Kids",
          "India/Movie/Children & Family Movies/Kids",
          "India/Movie/Stand-Up Comedy/Adults"
         ],
         "labels": [
          "Adults",
          "Older Kids",
          "Older Kids",
          "Older Kids",
          "Teens",
          "Teens",
          "Teens",
          "British TV Shows",
          "Children & Family Movies",
          "Classic Movies",
          "Comedies",
          "Crime TV Shows",
          "Horror Movies",
          "Kids' TV",
          "Reality TV",
          "Movie",
          "Older Kids",
          "Older Kids",
          "Teens",
          "Older Kids",
          "Older Kids",
          "India",
          "Adults",
          "Dramas",
          "Teens",
          "Adults",
          "Adults",
          "Adults",
          "Independent Movies",
          "TV Show",
          "Adults",
          "Docuseries",
          "Teens",
          "Teens",
          "Documentaries",
          "Adults",
          "Adults",
          "Cult Movies",
          "Older Kids",
          "International TV Shows",
          "Stand-Up Comedy",
          "TV Shows",
          "Adults",
          "International Movies",
          "Adults",
          "Teens",
          "Kids",
          "Older Kids",
          "Older Kids",
          "Kids",
          "Kids",
          "Kids",
          "Older Kids",
          "Teens",
          "Action & Adventure",
          "Teens",
          "Teens",
          "Adults",
          "Teens",
          "Teens",
          "Teens",
          "Teens",
          "Older Kids",
          "Kids",
          "Adults"
         ],
         "marker": {
          "colors": [
           "#636efa",
           "#EF553B",
           "#EF553B",
           "#EF553B",
           "#00cc96",
           "#00cc96",
           "#00cc96",
           "#ab63fa",
           "#ab63fa",
           "#ab63fa",
           "#ab63fa",
           "#ab63fa",
           "#ab63fa",
           "#ab63fa",
           "#EF553B",
           "#ab63fa",
           "#EF553B",
           "#EF553B",
           "#00cc96",
           "#EF553B",
           "#EF553B",
           "#ab63fa",
           "#636efa",
           "#ab63fa",
           "#00cc96",
           "#636efa",
           "#636efa",
           "#636efa",
           "#00cc96",
           "#ab63fa",
           "#636efa",
           "#ab63fa",
           "#00cc96",
           "#00cc96",
           "#ab63fa",
           "#636efa",
           "#636efa",
           "#00cc96",
           "#EF553B",
           "#ab63fa",
           "#ab63fa",
           "#ab63fa",
           "#636efa",
           "#ab63fa",
           "#636efa",
           "#00cc96",
           "#FFA15A",
           "#EF553B",
           "#EF553B",
           "#FFA15A",
           "#FFA15A",
           "#FFA15A",
           "#EF553B",
           "#00cc96",
           "#ab63fa",
           "#00cc96",
           "#00cc96",
           "#636efa",
           "#00cc96",
           "#00cc96",
           "#00cc96",
           "#00cc96",
           "#EF553B",
           "#FFA15A",
           "#636efa"
          ]
         },
         "name": "",
         "parents": [
          "India/Movie/Action & Adventure",
          "India/Movie/International Movies",
          "India/TV Show/International TV Shows",
          "India/TV Show/Kids' TV",
          "India/Movie/Children & Family Movies",
          "India/TV Show/Crime TV Shows",
          "India/TV Show/International TV Shows",
          "India/TV Show",
          "India/Movie",
          "India/Movie",
          "India/Movie",
          "India/TV Show",
          "India/Movie",
          "India/TV Show",
          "India/TV Show",
          "India",
          "India/Movie/Documentaries",
          "India/Movie/Classic Movies",
          "India/Movie/Classic Movies",
          "India/Movie/Action & Adventure",
          "India/Movie/Children & Family Movies",
          "",
          "India/Movie/Documentaries",
          "India/Movie",
          "India/Movie/Stand-Up Comedy",
          "India/Movie/Comedies",
          "India/TV Show/Crime TV Shows",
          "India/TV Show/Docuseries",
          "India/Movie",
          "India",
          "India/Movie/International Movies",
          "India/TV Show",
          "India/Movie/Cult Movies",
          "India/Movie/Documentaries",
          "India/Movie",
          "India/Movie/Horror Movies",
          "India/Movie/Dramas",
          "India/Movie",
          "India/TV Show/Docuseries",
          "India/TV Show",
          "India/Movie",
          "India/TV Show",
          "India/TV Show/British TV Shows",
          "India/Movie",
          "India/TV Show/International TV Shows",
          "India/TV Show/TV Shows",
          "India/TV Show/Kids' TV",
          "India/Movie/Dramas",
          "India/Movie/Horror Movies",
          "India/Movie/Dramas",
          "India/TV Show/Docuseries",
          "India/Movie/Documentaries",
          "India/TV Show/Reality TV",
          "India/Movie/Action & Adventure",
          "India/Movie",
          "India/TV Show/British TV Shows",
          "India/Movie/Comedies",
          "India/TV Show/TV Shows",
          "India/Movie/Dramas",
          "India/Movie/Horror Movies",
          "India/Movie/Independent Movies",
          "India/Movie/International Movies",
          "India/Movie/Comedies",
          "India/Movie/Children & Family Movies",
          "India/Movie/Stand-Up Comedy"
         ],
         "type": "treemap",
         "values": [
          20,
          3,
          7,
          4,
          2,
          4,
          18,
          2,
          18,
          9,
          262,
          8,
          28,
          10,
          1,
          893,
          6,
          4,
          5,
          7,
          15,
          972,
          4,
          384,
          1,
          45,
          4,
          3,
          1,
          79,
          11,
          7,
          1,
          7,
          19,
          14,
          121,
          1,
          2,
          48,
          6,
          3,
          1,
          38,
          23,
          1,
          6,
          50,
          1,
          3,
          2,
          2,
          1,
          100,
          127,
          1,
          166,
          2,
          210,
          13,
          1,
          24,
          51,
          1,
          5
         ]
        }
       ],
       "layout": {
        "legend": {
         "tracegroupgap": 0
        },
        "margin": {
         "t": 60
        },
        "template": {
         "data": {
          "bar": [
           {
            "error_x": {
             "color": "#2a3f5f"
            },
            "error_y": {
             "color": "#2a3f5f"
            },
            "marker": {
             "line": {
              "color": "#E5ECF6",
              "width": 0.5
             },
             "pattern": {
              "fillmode": "overlay",
              "size": 10,
              "solidity": 0.2
             }
            },
            "type": "bar"
           }
          ],
          "barpolar": [
           {
            "marker": {
             "line": {
              "color": "#E5ECF6",
              "width": 0.5
             },
             "pattern": {
              "fillmode": "overlay",
              "size": 10,
              "solidity": 0.2
             }
            },
            "type": "barpolar"
           }
          ],
          "carpet": [
           {
            "aaxis": {
             "endlinecolor": "#2a3f5f",
             "gridcolor": "white",
             "linecolor": "white",
             "minorgridcolor": "white",
             "startlinecolor": "#2a3f5f"
            },
            "baxis": {
             "endlinecolor": "#2a3f5f",
             "gridcolor": "white",
             "linecolor": "white",
             "minorgridcolor": "white",
             "startlinecolor": "#2a3f5f"
            },
            "type": "carpet"
           }
          ],
          "choropleth": [
           {
            "colorbar": {
             "outlinewidth": 0,
             "ticks": ""
            },
            "type": "choropleth"
           }
          ],
          "contour": [
           {
            "colorbar": {
             "outlinewidth": 0,
             "ticks": ""
            },
            "colorscale": [
             [
              0,
              "#0d0887"
             ],
             [
              0.1111111111111111,
              "#46039f"
             ],
             [
              0.2222222222222222,
              "#7201a8"
             ],
             [
              0.3333333333333333,
              "#9c179e"
             ],
             [
              0.4444444444444444,
              "#bd3786"
             ],
             [
              0.5555555555555556,
              "#d8576b"
             ],
             [
              0.6666666666666666,
              "#ed7953"
             ],
             [
              0.7777777777777778,
              "#fb9f3a"
             ],
             [
              0.8888888888888888,
              "#fdca26"
             ],
             [
              1,
              "#f0f921"
             ]
            ],
            "type": "contour"
           }
          ],
          "contourcarpet": [
           {
            "colorbar": {
             "outlinewidth": 0,
             "ticks": ""
            },
            "type": "contourcarpet"
           }
          ],
          "heatmap": [
           {
            "colorbar": {
             "outlinewidth": 0,
             "ticks": ""
            },
            "colorscale": [
             [
              0,
              "#0d0887"
             ],
             [
              0.1111111111111111,
              "#46039f"
             ],
             [
              0.2222222222222222,
              "#7201a8"
             ],
             [
              0.3333333333333333,
              "#9c179e"
             ],
             [
              0.4444444444444444,
              "#bd3786"
             ],
             [
              0.5555555555555556,
              "#d8576b"
             ],
             [
              0.6666666666666666,
              "#ed7953"
             ],
             [
              0.7777777777777778,
              "#fb9f3a"
             ],
             [
              0.8888888888888888,
              "#fdca26"
             ],
             [
              1,
              "#f0f921"
             ]
            ],
            "type": "heatmap"
           }
          ],
          "heatmapgl": [
           {
            "colorbar": {
             "outlinewidth": 0,
             "ticks": ""
            },
            "colorscale": [
             [
              0,
              "#0d0887"
             ],
             [
              0.1111111111111111,
              "#46039f"
             ],
             [
              0.2222222222222222,
              "#7201a8"
             ],
             [
              0.3333333333333333,
              "#9c179e"
             ],
             [
              0.4444444444444444,
              "#bd3786"
             ],
             [
              0.5555555555555556,
              "#d8576b"
             ],
             [
              0.6666666666666666,
              "#ed7953"
             ],
             [
              0.7777777777777778,
              "#fb9f3a"
             ],
             [
              0.8888888888888888,
              "#fdca26"
             ],
             [
              1,
              "#f0f921"
             ]
            ],
            "type": "heatmapgl"
           }
          ],
          "histogram": [
           {
            "marker": {
             "pattern": {
              "fillmode": "overlay",
              "size": 10,
              "solidity": 0.2
             }
            },
            "type": "histogram"
           }
          ],
          "histogram2d": [
           {
            "colorbar": {
             "outlinewidth": 0,
             "ticks": ""
            },
            "colorscale": [
             [
              0,
              "#0d0887"
             ],
             [
              0.1111111111111111,
              "#46039f"
             ],
             [
              0.2222222222222222,
              "#7201a8"
             ],
             [
              0.3333333333333333,
              "#9c179e"
             ],
             [
              0.4444444444444444,
              "#bd3786"
             ],
             [
              0.5555555555555556,
              "#d8576b"
             ],
             [
              0.6666666666666666,
              "#ed7953"
             ],
             [
              0.7777777777777778,
              "#fb9f3a"
             ],
             [
              0.8888888888888888,
              "#fdca26"
             ],
             [
              1,
              "#f0f921"
             ]
            ],
            "type": "histogram2d"
           }
          ],
          "histogram2dcontour": [
           {
            "colorbar": {
             "outlinewidth": 0,
             "ticks": ""
            },
            "colorscale": [
             [
              0,
              "#0d0887"
             ],
             [
              0.1111111111111111,
              "#46039f"
             ],
             [
              0.2222222222222222,
              "#7201a8"
             ],
             [
              0.3333333333333333,
              "#9c179e"
             ],
             [
              0.4444444444444444,
              "#bd3786"
             ],
             [
              0.5555555555555556,
              "#d8576b"
             ],
             [
              0.6666666666666666,
              "#ed7953"
             ],
             [
              0.7777777777777778,
              "#fb9f3a"
             ],
             [
              0.8888888888888888,
              "#fdca26"
             ],
             [
              1,
              "#f0f921"
             ]
            ],
            "type": "histogram2dcontour"
           }
          ],
          "mesh3d": [
           {
            "colorbar": {
             "outlinewidth": 0,
             "ticks": ""
            },
            "type": "mesh3d"
           }
          ],
          "parcoords": [
           {
            "line": {
             "colorbar": {
              "outlinewidth": 0,
              "ticks": ""
             }
            },
            "type": "parcoords"
           }
          ],
          "pie": [
           {
            "automargin": true,
            "type": "pie"
           }
          ],
          "scatter": [
           {
            "marker": {
             "colorbar": {
              "outlinewidth": 0,
              "ticks": ""
             }
            },
            "type": "scatter"
           }
          ],
          "scatter3d": [
           {
            "line": {
             "colorbar": {
              "outlinewidth": 0,
              "ticks": ""
             }
            },
            "marker": {
             "colorbar": {
              "outlinewidth": 0,
              "ticks": ""
             }
            },
            "type": "scatter3d"
           }
          ],
          "scattercarpet": [
           {
            "marker": {
             "colorbar": {
              "outlinewidth": 0,
              "ticks": ""
             }
            },
            "type": "scattercarpet"
           }
          ],
          "scattergeo": [
           {
            "marker": {
             "colorbar": {
              "outlinewidth": 0,
              "ticks": ""
             }
            },
            "type": "scattergeo"
           }
          ],
          "scattergl": [
           {
            "marker": {
             "colorbar": {
              "outlinewidth": 0,
              "ticks": ""
             }
            },
            "type": "scattergl"
           }
          ],
          "scattermapbox": [
           {
            "marker": {
             "colorbar": {
              "outlinewidth": 0,
              "ticks": ""
             }
            },
            "type": "scattermapbox"
           }
          ],
          "scatterpolar": [
           {
            "marker": {
             "colorbar": {
              "outlinewidth": 0,
              "ticks": ""
             }
            },
            "type": "scatterpolar"
           }
          ],
          "scatterpolargl": [
           {
            "marker": {
             "colorbar": {
              "outlinewidth": 0,
              "ticks": ""
             }
            },
            "type": "scatterpolargl"
           }
          ],
          "scatterternary": [
           {
            "marker": {
             "colorbar": {
              "outlinewidth": 0,
              "ticks": ""
             }
            },
            "type": "scatterternary"
           }
          ],
          "surface": [
           {
            "colorbar": {
             "outlinewidth": 0,
             "ticks": ""
            },
            "colorscale": [
             [
              0,
              "#0d0887"
             ],
             [
              0.1111111111111111,
              "#46039f"
             ],
             [
              0.2222222222222222,
              "#7201a8"
             ],
             [
              0.3333333333333333,
              "#9c179e"
             ],
             [
              0.4444444444444444,
              "#bd3786"
             ],
             [
              0.5555555555555556,
              "#d8576b"
             ],
             [
              0.6666666666666666,
              "#ed7953"
             ],
             [
              0.7777777777777778,
              "#fb9f3a"
             ],
             [
              0.8888888888888888,
              "#fdca26"
             ],
             [
              1,
              "#f0f921"
             ]
            ],
            "type": "surface"
           }
          ],
          "table": [
           {
            "cells": {
             "fill": {
              "color": "#EBF0F8"
             },
             "line": {
              "color": "white"
             }
            },
            "header": {
             "fill": {
              "color": "#C8D4E3"
             },
             "line": {
              "color": "white"
             }
            },
            "type": "table"
           }
          ]
         },
         "layout": {
          "annotationdefaults": {
           "arrowcolor": "#2a3f5f",
           "arrowhead": 0,
           "arrowwidth": 1
          },
          "autotypenumbers": "strict",
          "coloraxis": {
           "colorbar": {
            "outlinewidth": 0,
            "ticks": ""
           }
          },
          "colorscale": {
           "diverging": [
            [
             0,
             "#8e0152"
            ],
            [
             0.1,
             "#c51b7d"
            ],
            [
             0.2,
             "#de77ae"
            ],
            [
             0.3,
             "#f1b6da"
            ],
            [
             0.4,
             "#fde0ef"
            ],
            [
             0.5,
             "#f7f7f7"
            ],
            [
             0.6,
             "#e6f5d0"
            ],
            [
             0.7,
             "#b8e186"
            ],
            [
             0.8,
             "#7fbc41"
            ],
            [
             0.9,
             "#4d9221"
            ],
            [
             1,
             "#276419"
            ]
           ],
           "sequential": [
            [
             0,
             "#0d0887"
            ],
            [
             0.1111111111111111,
             "#46039f"
            ],
            [
             0.2222222222222222,
             "#7201a8"
            ],
            [
             0.3333333333333333,
             "#9c179e"
            ],
            [
             0.4444444444444444,
             "#bd3786"
            ],
            [
             0.5555555555555556,
             "#d8576b"
            ],
            [
             0.6666666666666666,
             "#ed7953"
            ],
            [
             0.7777777777777778,
             "#fb9f3a"
            ],
            [
             0.8888888888888888,
             "#fdca26"
            ],
            [
             1,
             "#f0f921"
            ]
           ],
           "sequentialminus": [
            [
             0,
             "#0d0887"
            ],
            [
             0.1111111111111111,
             "#46039f"
            ],
            [
             0.2222222222222222,
             "#7201a8"
            ],
            [
             0.3333333333333333,
             "#9c179e"
            ],
            [
             0.4444444444444444,
             "#bd3786"
            ],
            [
             0.5555555555555556,
             "#d8576b"
            ],
            [
             0.6666666666666666,
             "#ed7953"
            ],
            [
             0.7777777777777778,
             "#fb9f3a"
            ],
            [
             0.8888888888888888,
             "#fdca26"
            ],
            [
             1,
             "#f0f921"
            ]
           ]
          },
          "colorway": [
           "#636efa",
           "#EF553B",
           "#00cc96",
           "#ab63fa",
           "#FFA15A",
           "#19d3f3",
           "#FF6692",
           "#B6E880",
           "#FF97FF",
           "#FECB52"
          ],
          "font": {
           "color": "#2a3f5f"
          },
          "geo": {
           "bgcolor": "white",
           "lakecolor": "white",
           "landcolor": "#E5ECF6",
           "showlakes": true,
           "showland": true,
           "subunitcolor": "white"
          },
          "hoverlabel": {
           "align": "left"
          },
          "hovermode": "closest",
          "mapbox": {
           "style": "light"
          },
          "paper_bgcolor": "white",
          "plot_bgcolor": "#E5ECF6",
          "polar": {
           "angularaxis": {
            "gridcolor": "white",
            "linecolor": "white",
            "ticks": ""
           },
           "bgcolor": "#E5ECF6",
           "radialaxis": {
            "gridcolor": "white",
            "linecolor": "white",
            "ticks": ""
           }
          },
          "scene": {
           "xaxis": {
            "backgroundcolor": "#E5ECF6",
            "gridcolor": "white",
            "gridwidth": 2,
            "linecolor": "white",
            "showbackground": true,
            "ticks": "",
            "zerolinecolor": "white"
           },
           "yaxis": {
            "backgroundcolor": "#E5ECF6",
            "gridcolor": "white",
            "gridwidth": 2,
            "linecolor": "white",
            "showbackground": true,
            "ticks": "",
            "zerolinecolor": "white"
           },
           "zaxis": {
            "backgroundcolor": "#E5ECF6",
            "gridcolor": "white",
            "gridwidth": 2,
            "linecolor": "white",
            "showbackground": true,
            "ticks": "",
            "zerolinecolor": "white"
           }
          },
          "shapedefaults": {
           "line": {
            "color": "#2a3f5f"
           }
          },
          "ternary": {
           "aaxis": {
            "gridcolor": "white",
            "linecolor": "white",
            "ticks": ""
           },
           "baxis": {
            "gridcolor": "white",
            "linecolor": "white",
            "ticks": ""
           },
           "bgcolor": "#E5ECF6",
           "caxis": {
            "gridcolor": "white",
            "linecolor": "white",
            "ticks": ""
           }
          },
          "title": {
           "x": 0.05
          },
          "xaxis": {
           "automargin": true,
           "gridcolor": "white",
           "linecolor": "white",
           "ticks": "",
           "title": {
            "standoff": 15
           },
           "zerolinecolor": "white",
           "zerolinewidth": 2
          },
          "yaxis": {
           "automargin": true,
           "gridcolor": "white",
           "linecolor": "white",
           "ticks": "",
           "title": {
            "standoff": 15
           },
           "zerolinecolor": "white",
           "zerolinewidth": 2
          }
         }
        }
       }
      },
      "text/html": [
       "<div>                            <div id=\"774ea294-3c48-45b6-ab53-2e8c372f8fec\" class=\"plotly-graph-div\" style=\"height:525px; width:100%;\"></div>            <script type=\"text/javascript\">                require([\"plotly\"], function(Plotly) {                    window.PLOTLYENV=window.PLOTLYENV || {};                                    if (document.getElementById(\"774ea294-3c48-45b6-ab53-2e8c372f8fec\")) {                    Plotly.newPlot(                        \"774ea294-3c48-45b6-ab53-2e8c372f8fec\",                        [{\"branchvalues\":\"total\",\"customdata\":[[\"Adults\",\"Adults\"],[\"Older Kids\",\"Older Kids\"],[\"Older Kids\",\"Older Kids\"],[\"Older Kids\",\"Older Kids\"],[\"Teens\",\"Teens\"],[\"Teens\",\"Teens\"],[\"Teens\",\"Teens\"],[\"(?)\",\"(?)\"],[\"(?)\",\"(?)\"],[\"(?)\",\"(?)\"],[\"(?)\",\"(?)\"],[\"(?)\",\"(?)\"],[\"(?)\",\"(?)\"],[\"(?)\",\"(?)\"],[\"Older Kids\",\"Older Kids\"],[\"(?)\",\"(?)\"],[\"Older Kids\",\"Older Kids\"],[\"Older Kids\",\"Older Kids\"],[\"Teens\",\"Teens\"],[\"Older Kids\",\"Older Kids\"],[\"Older Kids\",\"Older Kids\"],[\"(?)\",\"(?)\"],[\"Adults\",\"Adults\"],[\"(?)\",\"(?)\"],[\"Teens\",\"Teens\"],[\"Adults\",\"Adults\"],[\"Adults\",\"Adults\"],[\"Adults\",\"Adults\"],[\"Teens\",\"Teens\"],[\"(?)\",\"(?)\"],[\"Adults\",\"Adults\"],[\"(?)\",\"(?)\"],[\"Teens\",\"Teens\"],[\"Teens\",\"Teens\"],[\"(?)\",\"(?)\"],[\"Adults\",\"Adults\"],[\"Adults\",\"Adults\"],[\"Teens\",\"Teens\"],[\"Older Kids\",\"Older Kids\"],[\"(?)\",\"(?)\"],[\"(?)\",\"(?)\"],[\"(?)\",\"(?)\"],[\"Adults\",\"Adults\"],[\"(?)\",\"(?)\"],[\"Adults\",\"Adults\"],[\"Teens\",\"Teens\"],[\"Kids\",\"Kids\"],[\"Older Kids\",\"Older Kids\"],[\"Older Kids\",\"Older Kids\"],[\"Kids\",\"Kids\"],[\"Kids\",\"Kids\"],[\"Kids\",\"Kids\"],[\"Older Kids\",\"Older Kids\"],[\"Teens\",\"Teens\"],[\"(?)\",\"(?)\"],[\"Teens\",\"Teens\"],[\"Teens\",\"Teens\"],[\"Adults\",\"Adults\"],[\"Teens\",\"Teens\"],[\"Teens\",\"Teens\"],[\"Teens\",\"Teens\"],[\"Teens\",\"Teens\"],[\"Older Kids\",\"Older Kids\"],[\"Kids\",\"Kids\"],[\"Adults\",\"Adults\"]],\"domain\":{\"x\":[0.0,1.0],\"y\":[0.0,1.0]},\"hovertemplate\":\"labels=%{label}<br>count=%{value}<br>parent=%{parent}<br>id=%{id}<br>target_ages=%{customdata[1]}<extra></extra>\",\"ids\":[\"India/Movie/Action & Adventure/Adults\",\"India/Movie/International Movies/Older Kids\",\"India/TV Show/International TV Shows/Older Kids\",\"India/TV Show/Kids' TV/Older Kids\",\"India/Movie/Children & Family Movies/Teens\",\"India/TV Show/Crime TV Shows/Teens\",\"India/TV Show/International TV Shows/Teens\",\"India/TV Show/British TV Shows\",\"India/Movie/Children & Family Movies\",\"India/Movie/Classic Movies\",\"India/Movie/Comedies\",\"India/TV Show/Crime TV Shows\",\"India/Movie/Horror Movies\",\"India/TV Show/Kids' TV\",\"India/TV Show/Reality TV\",\"India/Movie\",\"India/Movie/Documentaries/Older Kids\",\"India/Movie/Classic Movies/Older Kids\",\"India/Movie/Classic Movies/Teens\",\"India/Movie/Action & Adventure/Older Kids\",\"India/Movie/Children & Family Movies/Older Kids\",\"India\",\"India/Movie/Documentaries/Adults\",\"India/Movie/Dramas\",\"India/Movie/Stand-Up Comedy/Teens\",\"India/Movie/Comedies/Adults\",\"India/TV Show/Crime TV Shows/Adults\",\"India/TV Show/Docuseries/Adults\",\"India/Movie/Independent Movies\",\"India/TV Show\",\"India/Movie/International Movies/Adults\",\"India/TV Show/Docuseries\",\"India/Movie/Cult Movies/Teens\",\"India/Movie/Documentaries/Teens\",\"India/Movie/Documentaries\",\"India/Movie/Horror Movies/Adults\",\"India/Movie/Dramas/Adults\",\"India/Movie/Cult Movies\",\"India/TV Show/Docuseries/Older Kids\",\"India/TV Show/International TV Shows\",\"India/Movie/Stand-Up Comedy\",\"India/TV Show/TV Shows\",\"India/TV Show/British TV Shows/Adults\",\"India/Movie/International Movies\",\"India/TV Show/International TV Shows/Adults\",\"India/TV Show/TV Shows/Teens\",\"India/TV Show/Kids' TV/Kids\",\"India/Movie/Dramas/Older Kids\",\"India/Movie/Horror Movies/Older Kids\",\"India/Movie/Dramas/Kids\",\"India/TV Show/Docuseries/Kids\",\"India/Movie/Documentaries/Kids\",\"India/TV Show/Reality TV/Older Kids\",\"India/Movie/Action & Adventure/Teens\",\"India/Movie/Action & Adventure\",\"India/TV Show/British TV Shows/Teens\",\"India/Movie/Comedies/Teens\",\"India/TV Show/TV Shows/Adults\",\"India/Movie/Dramas/Teens\",\"India/Movie/Horror Movies/Teens\",\"India/Movie/Independent Movies/Teens\",\"India/Movie/International Movies/Teens\",\"India/Movie/Comedies/Older Kids\",\"India/Movie/Children & Family Movies/Kids\",\"India/Movie/Stand-Up Comedy/Adults\"],\"labels\":[\"Adults\",\"Older Kids\",\"Older Kids\",\"Older Kids\",\"Teens\",\"Teens\",\"Teens\",\"British TV Shows\",\"Children & Family Movies\",\"Classic Movies\",\"Comedies\",\"Crime TV Shows\",\"Horror Movies\",\"Kids' TV\",\"Reality TV\",\"Movie\",\"Older Kids\",\"Older Kids\",\"Teens\",\"Older Kids\",\"Older Kids\",\"India\",\"Adults\",\"Dramas\",\"Teens\",\"Adults\",\"Adults\",\"Adults\",\"Independent Movies\",\"TV Show\",\"Adults\",\"Docuseries\",\"Teens\",\"Teens\",\"Documentaries\",\"Adults\",\"Adults\",\"Cult Movies\",\"Older Kids\",\"International TV Shows\",\"Stand-Up Comedy\",\"TV Shows\",\"Adults\",\"International Movies\",\"Adults\",\"Teens\",\"Kids\",\"Older Kids\",\"Older Kids\",\"Kids\",\"Kids\",\"Kids\",\"Older Kids\",\"Teens\",\"Action & Adventure\",\"Teens\",\"Teens\",\"Adults\",\"Teens\",\"Teens\",\"Teens\",\"Teens\",\"Older Kids\",\"Kids\",\"Adults\"],\"marker\":{\"colors\":[\"#636efa\",\"#EF553B\",\"#EF553B\",\"#EF553B\",\"#00cc96\",\"#00cc96\",\"#00cc96\",\"#ab63fa\",\"#ab63fa\",\"#ab63fa\",\"#ab63fa\",\"#ab63fa\",\"#ab63fa\",\"#ab63fa\",\"#EF553B\",\"#ab63fa\",\"#EF553B\",\"#EF553B\",\"#00cc96\",\"#EF553B\",\"#EF553B\",\"#ab63fa\",\"#636efa\",\"#ab63fa\",\"#00cc96\",\"#636efa\",\"#636efa\",\"#636efa\",\"#00cc96\",\"#ab63fa\",\"#636efa\",\"#ab63fa\",\"#00cc96\",\"#00cc96\",\"#ab63fa\",\"#636efa\",\"#636efa\",\"#00cc96\",\"#EF553B\",\"#ab63fa\",\"#ab63fa\",\"#ab63fa\",\"#636efa\",\"#ab63fa\",\"#636efa\",\"#00cc96\",\"#FFA15A\",\"#EF553B\",\"#EF553B\",\"#FFA15A\",\"#FFA15A\",\"#FFA15A\",\"#EF553B\",\"#00cc96\",\"#ab63fa\",\"#00cc96\",\"#00cc96\",\"#636efa\",\"#00cc96\",\"#00cc96\",\"#00cc96\",\"#00cc96\",\"#EF553B\",\"#FFA15A\",\"#636efa\"]},\"name\":\"\",\"parents\":[\"India/Movie/Action & Adventure\",\"India/Movie/International Movies\",\"India/TV Show/International TV Shows\",\"India/TV Show/Kids' TV\",\"India/Movie/Children & Family Movies\",\"India/TV Show/Crime TV Shows\",\"India/TV Show/International TV Shows\",\"India/TV Show\",\"India/Movie\",\"India/Movie\",\"India/Movie\",\"India/TV Show\",\"India/Movie\",\"India/TV Show\",\"India/TV Show\",\"India\",\"India/Movie/Documentaries\",\"India/Movie/Classic Movies\",\"India/Movie/Classic Movies\",\"India/Movie/Action & Adventure\",\"India/Movie/Children & Family Movies\",\"\",\"India/Movie/Documentaries\",\"India/Movie\",\"India/Movie/Stand-Up Comedy\",\"India/Movie/Comedies\",\"India/TV Show/Crime TV Shows\",\"India/TV Show/Docuseries\",\"India/Movie\",\"India\",\"India/Movie/International Movies\",\"India/TV Show\",\"India/Movie/Cult Movies\",\"India/Movie/Documentaries\",\"India/Movie\",\"India/Movie/Horror Movies\",\"India/Movie/Dramas\",\"India/Movie\",\"India/TV Show/Docuseries\",\"India/TV Show\",\"India/Movie\",\"India/TV Show\",\"India/TV Show/British TV Shows\",\"India/Movie\",\"India/TV Show/International TV Shows\",\"India/TV Show/TV Shows\",\"India/TV Show/Kids' TV\",\"India/Movie/Dramas\",\"India/Movie/Horror Movies\",\"India/Movie/Dramas\",\"India/TV Show/Docuseries\",\"India/Movie/Documentaries\",\"India/TV Show/Reality TV\",\"India/Movie/Action & Adventure\",\"India/Movie\",\"India/TV Show/British TV Shows\",\"India/Movie/Comedies\",\"India/TV Show/TV Shows\",\"India/Movie/Dramas\",\"India/Movie/Horror Movies\",\"India/Movie/Independent Movies\",\"India/Movie/International Movies\",\"India/Movie/Comedies\",\"India/Movie/Children & Family Movies\",\"India/Movie/Stand-Up Comedy\"],\"values\":[20,3,7,4,2,4,18,2,18,9,262,8,28,10,1,893,6,4,5,7,15,972,4,384,1,45,4,3,1,79,11,7,1,7,19,14,121,1,2,48,6,3,1,38,23,1,6,50,1,3,2,2,1,100,127,1,166,2,210,13,1,24,51,1,5],\"type\":\"treemap\"}],                        {\"template\":{\"data\":{\"bar\":[{\"error_x\":{\"color\":\"#2a3f5f\"},\"error_y\":{\"color\":\"#2a3f5f\"},\"marker\":{\"line\":{\"color\":\"#E5ECF6\",\"width\":0.5},\"pattern\":{\"fillmode\":\"overlay\",\"size\":10,\"solidity\":0.2}},\"type\":\"bar\"}],\"barpolar\":[{\"marker\":{\"line\":{\"color\":\"#E5ECF6\",\"width\":0.5},\"pattern\":{\"fillmode\":\"overlay\",\"size\":10,\"solidity\":0.2}},\"type\":\"barpolar\"}],\"carpet\":[{\"aaxis\":{\"endlinecolor\":\"#2a3f5f\",\"gridcolor\":\"white\",\"linecolor\":\"white\",\"minorgridcolor\":\"white\",\"startlinecolor\":\"#2a3f5f\"},\"baxis\":{\"endlinecolor\":\"#2a3f5f\",\"gridcolor\":\"white\",\"linecolor\":\"white\",\"minorgridcolor\":\"white\",\"startlinecolor\":\"#2a3f5f\"},\"type\":\"carpet\"}],\"choropleth\":[{\"colorbar\":{\"outlinewidth\":0,\"ticks\":\"\"},\"type\":\"choropleth\"}],\"contour\":[{\"colorbar\":{\"outlinewidth\":0,\"ticks\":\"\"},\"colorscale\":[[0.0,\"#0d0887\"],[0.1111111111111111,\"#46039f\"],[0.2222222222222222,\"#7201a8\"],[0.3333333333333333,\"#9c179e\"],[0.4444444444444444,\"#bd3786\"],[0.5555555555555556,\"#d8576b\"],[0.6666666666666666,\"#ed7953\"],[0.7777777777777778,\"#fb9f3a\"],[0.8888888888888888,\"#fdca26\"],[1.0,\"#f0f921\"]],\"type\":\"contour\"}],\"contourcarpet\":[{\"colorbar\":{\"outlinewidth\":0,\"ticks\":\"\"},\"type\":\"contourcarpet\"}],\"heatmap\":[{\"colorbar\":{\"outlinewidth\":0,\"ticks\":\"\"},\"colorscale\":[[0.0,\"#0d0887\"],[0.1111111111111111,\"#46039f\"],[0.2222222222222222,\"#7201a8\"],[0.3333333333333333,\"#9c179e\"],[0.4444444444444444,\"#bd3786\"],[0.5555555555555556,\"#d8576b\"],[0.6666666666666666,\"#ed7953\"],[0.7777777777777778,\"#fb9f3a\"],[0.8888888888888888,\"#fdca26\"],[1.0,\"#f0f921\"]],\"type\":\"heatmap\"}],\"heatmapgl\":[{\"colorbar\":{\"outlinewidth\":0,\"ticks\":\"\"},\"colorscale\":[[0.0,\"#0d0887\"],[0.1111111111111111,\"#46039f\"],[0.2222222222222222,\"#7201a8\"],[0.3333333333333333,\"#9c179e\"],[0.4444444444444444,\"#bd3786\"],[0.5555555555555556,\"#d8576b\"],[0.6666666666666666,\"#ed7953\"],[0.7777777777777778,\"#fb9f3a\"],[0.8888888888888888,\"#fdca26\"],[1.0,\"#f0f921\"]],\"type\":\"heatmapgl\"}],\"histogram\":[{\"marker\":{\"pattern\":{\"fillmode\":\"overlay\",\"size\":10,\"solidity\":0.2}},\"type\":\"histogram\"}],\"histogram2d\":[{\"colorbar\":{\"outlinewidth\":0,\"ticks\":\"\"},\"colorscale\":[[0.0,\"#0d0887\"],[0.1111111111111111,\"#46039f\"],[0.2222222222222222,\"#7201a8\"],[0.3333333333333333,\"#9c179e\"],[0.4444444444444444,\"#bd3786\"],[0.5555555555555556,\"#d8576b\"],[0.6666666666666666,\"#ed7953\"],[0.7777777777777778,\"#fb9f3a\"],[0.8888888888888888,\"#fdca26\"],[1.0,\"#f0f921\"]],\"type\":\"histogram2d\"}],\"histogram2dcontour\":[{\"colorbar\":{\"outlinewidth\":0,\"ticks\":\"\"},\"colorscale\":[[0.0,\"#0d0887\"],[0.1111111111111111,\"#46039f\"],[0.2222222222222222,\"#7201a8\"],[0.3333333333333333,\"#9c179e\"],[0.4444444444444444,\"#bd3786\"],[0.5555555555555556,\"#d8576b\"],[0.6666666666666666,\"#ed7953\"],[0.7777777777777778,\"#fb9f3a\"],[0.8888888888888888,\"#fdca26\"],[1.0,\"#f0f921\"]],\"type\":\"histogram2dcontour\"}],\"mesh3d\":[{\"colorbar\":{\"outlinewidth\":0,\"ticks\":\"\"},\"type\":\"mesh3d\"}],\"parcoords\":[{\"line\":{\"colorbar\":{\"outlinewidth\":0,\"ticks\":\"\"}},\"type\":\"parcoords\"}],\"pie\":[{\"automargin\":true,\"type\":\"pie\"}],\"scatter\":[{\"marker\":{\"colorbar\":{\"outlinewidth\":0,\"ticks\":\"\"}},\"type\":\"scatter\"}],\"scatter3d\":[{\"line\":{\"colorbar\":{\"outlinewidth\":0,\"ticks\":\"\"}},\"marker\":{\"colorbar\":{\"outlinewidth\":0,\"ticks\":\"\"}},\"type\":\"scatter3d\"}],\"scattercarpet\":[{\"marker\":{\"colorbar\":{\"outlinewidth\":0,\"ticks\":\"\"}},\"type\":\"scattercarpet\"}],\"scattergeo\":[{\"marker\":{\"colorbar\":{\"outlinewidth\":0,\"ticks\":\"\"}},\"type\":\"scattergeo\"}],\"scattergl\":[{\"marker\":{\"colorbar\":{\"outlinewidth\":0,\"ticks\":\"\"}},\"type\":\"scattergl\"}],\"scattermapbox\":[{\"marker\":{\"colorbar\":{\"outlinewidth\":0,\"ticks\":\"\"}},\"type\":\"scattermapbox\"}],\"scatterpolar\":[{\"marker\":{\"colorbar\":{\"outlinewidth\":0,\"ticks\":\"\"}},\"type\":\"scatterpolar\"}],\"scatterpolargl\":[{\"marker\":{\"colorbar\":{\"outlinewidth\":0,\"ticks\":\"\"}},\"type\":\"scatterpolargl\"}],\"scatterternary\":[{\"marker\":{\"colorbar\":{\"outlinewidth\":0,\"ticks\":\"\"}},\"type\":\"scatterternary\"}],\"surface\":[{\"colorbar\":{\"outlinewidth\":0,\"ticks\":\"\"},\"colorscale\":[[0.0,\"#0d0887\"],[0.1111111111111111,\"#46039f\"],[0.2222222222222222,\"#7201a8\"],[0.3333333333333333,\"#9c179e\"],[0.4444444444444444,\"#bd3786\"],[0.5555555555555556,\"#d8576b\"],[0.6666666666666666,\"#ed7953\"],[0.7777777777777778,\"#fb9f3a\"],[0.8888888888888888,\"#fdca26\"],[1.0,\"#f0f921\"]],\"type\":\"surface\"}],\"table\":[{\"cells\":{\"fill\":{\"color\":\"#EBF0F8\"},\"line\":{\"color\":\"white\"}},\"header\":{\"fill\":{\"color\":\"#C8D4E3\"},\"line\":{\"color\":\"white\"}},\"type\":\"table\"}]},\"layout\":{\"annotationdefaults\":{\"arrowcolor\":\"#2a3f5f\",\"arrowhead\":0,\"arrowwidth\":1},\"autotypenumbers\":\"strict\",\"coloraxis\":{\"colorbar\":{\"outlinewidth\":0,\"ticks\":\"\"}},\"colorscale\":{\"diverging\":[[0,\"#8e0152\"],[0.1,\"#c51b7d\"],[0.2,\"#de77ae\"],[0.3,\"#f1b6da\"],[0.4,\"#fde0ef\"],[0.5,\"#f7f7f7\"],[0.6,\"#e6f5d0\"],[0.7,\"#b8e186\"],[0.8,\"#7fbc41\"],[0.9,\"#4d9221\"],[1,\"#276419\"]],\"sequential\":[[0.0,\"#0d0887\"],[0.1111111111111111,\"#46039f\"],[0.2222222222222222,\"#7201a8\"],[0.3333333333333333,\"#9c179e\"],[0.4444444444444444,\"#bd3786\"],[0.5555555555555556,\"#d8576b\"],[0.6666666666666666,\"#ed7953\"],[0.7777777777777778,\"#fb9f3a\"],[0.8888888888888888,\"#fdca26\"],[1.0,\"#f0f921\"]],\"sequentialminus\":[[0.0,\"#0d0887\"],[0.1111111111111111,\"#46039f\"],[0.2222222222222222,\"#7201a8\"],[0.3333333333333333,\"#9c179e\"],[0.4444444444444444,\"#bd3786\"],[0.5555555555555556,\"#d8576b\"],[0.6666666666666666,\"#ed7953\"],[0.7777777777777778,\"#fb9f3a\"],[0.8888888888888888,\"#fdca26\"],[1.0,\"#f0f921\"]]},\"colorway\":[\"#636efa\",\"#EF553B\",\"#00cc96\",\"#ab63fa\",\"#FFA15A\",\"#19d3f3\",\"#FF6692\",\"#B6E880\",\"#FF97FF\",\"#FECB52\"],\"font\":{\"color\":\"#2a3f5f\"},\"geo\":{\"bgcolor\":\"white\",\"lakecolor\":\"white\",\"landcolor\":\"#E5ECF6\",\"showlakes\":true,\"showland\":true,\"subunitcolor\":\"white\"},\"hoverlabel\":{\"align\":\"left\"},\"hovermode\":\"closest\",\"mapbox\":{\"style\":\"light\"},\"paper_bgcolor\":\"white\",\"plot_bgcolor\":\"#E5ECF6\",\"polar\":{\"angularaxis\":{\"gridcolor\":\"white\",\"linecolor\":\"white\",\"ticks\":\"\"},\"bgcolor\":\"#E5ECF6\",\"radialaxis\":{\"gridcolor\":\"white\",\"linecolor\":\"white\",\"ticks\":\"\"}},\"scene\":{\"xaxis\":{\"backgroundcolor\":\"#E5ECF6\",\"gridcolor\":\"white\",\"gridwidth\":2,\"linecolor\":\"white\",\"showbackground\":true,\"ticks\":\"\",\"zerolinecolor\":\"white\"},\"yaxis\":{\"backgroundcolor\":\"#E5ECF6\",\"gridcolor\":\"white\",\"gridwidth\":2,\"linecolor\":\"white\",\"showbackground\":true,\"ticks\":\"\",\"zerolinecolor\":\"white\"},\"zaxis\":{\"backgroundcolor\":\"#E5ECF6\",\"gridcolor\":\"white\",\"gridwidth\":2,\"linecolor\":\"white\",\"showbackground\":true,\"ticks\":\"\",\"zerolinecolor\":\"white\"}},\"shapedefaults\":{\"line\":{\"color\":\"#2a3f5f\"}},\"ternary\":{\"aaxis\":{\"gridcolor\":\"white\",\"linecolor\":\"white\",\"ticks\":\"\"},\"baxis\":{\"gridcolor\":\"white\",\"linecolor\":\"white\",\"ticks\":\"\"},\"bgcolor\":\"#E5ECF6\",\"caxis\":{\"gridcolor\":\"white\",\"linecolor\":\"white\",\"ticks\":\"\"}},\"title\":{\"x\":0.05},\"xaxis\":{\"automargin\":true,\"gridcolor\":\"white\",\"linecolor\":\"white\",\"ticks\":\"\",\"title\":{\"standoff\":15},\"zerolinecolor\":\"white\",\"zerolinewidth\":2},\"yaxis\":{\"automargin\":true,\"gridcolor\":\"white\",\"linecolor\":\"white\",\"ticks\":\"\",\"title\":{\"standoff\":15},\"zerolinecolor\":\"white\",\"zerolinewidth\":2}}},\"legend\":{\"tracegroupgap\":0},\"margin\":{\"t\":60}},                        {\"responsive\": true}                    ).then(function(){\n",
       "                            \n",
       "var gd = document.getElementById('774ea294-3c48-45b6-ab53-2e8c372f8fec');\n",
       "var x = new MutationObserver(function (mutations, observer) {{\n",
       "        var display = window.getComputedStyle(gd).display;\n",
       "        if (!display || display === 'none') {{\n",
       "            console.log([gd, 'removed!']);\n",
       "            Plotly.purge(gd);\n",
       "            observer.disconnect();\n",
       "        }}\n",
       "}});\n",
       "\n",
       "// Listen for the removal of the full notebook cells\n",
       "var notebookContainer = gd.closest('#notebook-container');\n",
       "if (notebookContainer) {{\n",
       "    x.observe(notebookContainer, {childList: true});\n",
       "}}\n",
       "\n",
       "// Listen for the clearing of the current output cell\n",
       "var outputEl = gd.closest('.output');\n",
       "if (outputEl) {{\n",
       "    x.observe(outputEl, {childList: true});\n",
       "}}\n",
       "\n",
       "                        })                };                });            </script>        </div>"
      ]
     },
     "metadata": {},
     "output_type": "display_data"
    },
    {
     "name": "stdout",
     "output_type": "stream",
     "text": [
      "Content for United Kingdom"
     ]
    },
    {
     "data": {
      "application/vnd.plotly.v1+json": {
       "config": {
        "plotlyServerURL": "https://plot.ly"
       },
       "data": [
        {
         "branchvalues": "total",
         "customdata": [
          [
           "Older Kids",
           "Older Kids"
          ],
          [
           "Kids",
           "Kids"
          ],
          [
           "Kids",
           "Kids"
          ],
          [
           "Kids",
           "Kids"
          ],
          [
           "Older Kids",
           "Older Kids"
          ],
          [
           "(?)",
           "(?)"
          ],
          [
           "Older Kids",
           "Older Kids"
          ],
          [
           "Teens",
           "Teens"
          ],
          [
           "(?)",
           "(?)"
          ],
          [
           "Older Kids",
           "Older Kids"
          ],
          [
           "(?)",
           "(?)"
          ],
          [
           "Older Kids",
           "Older Kids"
          ],
          [
           "Teens",
           "Teens"
          ],
          [
           "Teens",
           "Teens"
          ],
          [
           "Teens",
           "Teens"
          ],
          [
           "Adults",
           "Adults"
          ],
          [
           "Adults",
           "Adults"
          ],
          [
           "Teens",
           "Teens"
          ],
          [
           "Older Kids",
           "Older Kids"
          ],
          [
           "Adults",
           "Adults"
          ],
          [
           "Adults",
           "Adults"
          ],
          [
           "Adults",
           "Adults"
          ],
          [
           "Adults",
           "Adults"
          ],
          [
           "Adults",
           "Adults"
          ],
          [
           "Adults",
           "Adults"
          ],
          [
           "Adults",
           "Adults"
          ],
          [
           "Adults",
           "Adults"
          ],
          [
           "(?)",
           "(?)"
          ],
          [
           "Adults",
           "Adults"
          ],
          [
           "Adults",
           "Adults"
          ],
          [
           "Adults",
           "Adults"
          ],
          [
           "Adults",
           "Adults"
          ],
          [
           "Adults",
           "Adults"
          ],
          [
           "(?)",
           "(?)"
          ],
          [
           "(?)",
           "(?)"
          ],
          [
           "(?)",
           "(?)"
          ],
          [
           "(?)",
           "(?)"
          ],
          [
           "(?)",
           "(?)"
          ],
          [
           "(?)",
           "(?)"
          ],
          [
           "(?)",
           "(?)"
          ],
          [
           "Teens",
           "Teens"
          ],
          [
           "Adults",
           "Adults"
          ],
          [
           "Older Kids",
           "Older Kids"
          ],
          [
           "Kids",
           "Kids"
          ],
          [
           "Adults",
           "Adults"
          ],
          [
           "Adults",
           "Adults"
          ],
          [
           "Older Kids",
           "Older Kids"
          ],
          [
           "Adults",
           "Adults"
          ],
          [
           "(?)",
           "(?)"
          ],
          [
           "Older Kids",
           "Older Kids"
          ],
          [
           "Teens",
           "Teens"
          ],
          [
           "(?)",
           "(?)"
          ],
          [
           "Adults",
           "Adults"
          ],
          [
           "Adults",
           "Adults"
          ],
          [
           "Adults",
           "Adults"
          ],
          [
           "Adults",
           "Adults"
          ],
          [
           "(?)",
           "(?)"
          ],
          [
           "Adults",
           "Adults"
          ],
          [
           "Teens",
           "Teens"
          ],
          [
           "(?)",
           "(?)"
          ],
          [
           "(?)",
           "(?)"
          ],
          [
           "Adults",
           "Adults"
          ],
          [
           "Older Kids",
           "Older Kids"
          ],
          [
           "Older Kids",
           "Older Kids"
          ],
          [
           "Older Kids",
           "Older Kids"
          ],
          [
           "Teens",
           "Teens"
          ],
          [
           "(?)",
           "(?)"
          ],
          [
           "Kids",
           "Kids"
          ],
          [
           "Adults",
           "Adults"
          ]
         ],
         "domain": {
          "x": [
           0,
           1
          ],
          "y": [
           0,
           1
          ]
         },
         "hovertemplate": "labels=%{label}<br>count=%{value}<br>parent=%{parent}<br>id=%{id}<br>target_ages=%{customdata[1]}<extra></extra>",
         "ids": [
          "United Kingdom/Movie/Sports Movies/Older Kids",
          "United Kingdom/Movie/Children & Family Movies/Kids",
          "United Kingdom/Movie/International Movies/Kids",
          "United Kingdom/TV Show/Kids' TV/Kids",
          "United Kingdom/Movie/Action & Adventure/Older Kids",
          "United Kingdom/Movie/International Movies",
          "United Kingdom/Movie/Children & Family Movies/Older Kids",
          "United Kingdom/Movie/Dramas/Teens",
          "United Kingdom/TV Show/Docuseries",
          "United Kingdom/TV Show/Docuseries/Older Kids",
          "United Kingdom/Movie/Children & Family Movies",
          "United Kingdom/TV Show/Kids' TV/Older Kids",
          "United Kingdom/TV Show/International TV Shows/Teens",
          "United Kingdom/Movie/Horror Movies/Teens",
          "United Kingdom/TV Show/British TV Shows/Teens",
          "United Kingdom/Movie/Classic Movies",
          "United Kingdom/Movie/Stand-Up Comedy/Adults",
          "United Kingdom/Movie/Documentaries/Teens",
          "United Kingdom/Movie/Sports Movies",
          "United Kingdom/TV Show/Romantic TV Shows/Adults",
          "United Kingdom/TV Show/Romantic TV Shows",
          "United Kingdom/TV Show/British TV Shows/Adults",
          "United Kingdom/Movie/Music & Musicals/Adults",
          "United Kingdom/Movie/Movies/Adults",
          "United Kingdom/TV Show/International TV Shows/Adults",
          "United Kingdom/Movie/International Movies/Adults",
          "United Kingdom/Movie/Independent Movies/Adults",
          "United Kingdom/Movie/Sci-Fi & Fantasy",
          "United Kingdom/Movie/Sci-Fi & Fantasy/Adults",
          "United Kingdom/Movie/Stand-Up Comedy",
          "United Kingdom/Movie/Documentaries/Adults",
          "United Kingdom/Movie/Thrillers",
          "United Kingdom/Movie/Comedies/Adults",
          "United Kingdom/Movie",
          "United Kingdom/TV Show/Reality TV",
          "United Kingdom/TV Show/British TV Shows",
          "United Kingdom/TV Show/International TV Shows",
          "United Kingdom/Movie/Action & Adventure",
          "United Kingdom/TV Show/Kids' TV",
          "United Kingdom",
          "United Kingdom/Movie/Comedies/Teens",
          "United Kingdom/Movie/Thrillers/Adults",
          "United Kingdom/Movie/Dramas/Older Kids",
          "United Kingdom/Movie/Documentaries/Kids",
          "United Kingdom/Movie/Classic Movies/Adults",
          "United Kingdom/TV Show/Crime TV Shows/Adults",
          "United Kingdom/TV Show/British TV Shows/Older Kids",
          "United Kingdom/TV Show/Reality TV/Adults",
          "United Kingdom/Movie/Documentaries",
          "United Kingdom/Movie/Comedies/Older Kids",
          "United Kingdom/Movie/Action & Adventure/Teens",
          "United Kingdom/Movie/Comedies",
          "United Kingdom/TV Show/Docuseries/Adults",
          "United Kingdom/Movie/Dramas/Adults",
          "United Kingdom/Movie/Horror Movies/Adults",
          "United Kingdom/Movie/Music & Musicals",
          "United Kingdom/Movie/Movies",
          "United Kingdom/Movie/Independent Movies",
          "United Kingdom/TV Show/Docuseries/Teens",
          "United Kingdom/Movie/Horror Movies",
          "United Kingdom/Movie/Dramas",
          "United Kingdom/TV Show/Crime TV Shows",
          "United Kingdom/Movie/Documentaries/Older Kids",
          "United Kingdom/Movie/Movies/Older Kids",
          "United Kingdom/TV Show/Reality TV/Older Kids",
          "United Kingdom/Movie/Sci-Fi & Fantasy/Teens",
          "United Kingdom/TV Show",
          "United Kingdom/TV Show/British TV Shows/Kids",
          "United Kingdom/Movie/Action & Adventure/Adults"
         ],
         "labels": [
          "Older Kids",
          "Kids",
          "Kids",
          "Kids",
          "Older Kids",
          "International Movies",
          "Older Kids",
          "Teens",
          "Docuseries",
          "Older Kids",
          "Children & Family Movies",
          "Older Kids",
          "Teens",
          "Teens",
          "Teens",
          "Classic Movies",
          "Adults",
          "Teens",
          "Sports Movies",
          "Adults",
          "Romantic TV Shows",
          "Adults",
          "Adults",
          "Adults",
          "Adults",
          "Adults",
          "Adults",
          "Sci-Fi & Fantasy",
          "Adults",
          "Stand-Up Comedy",
          "Adults",
          "Thrillers",
          "Adults",
          "Movie",
          "Reality TV",
          "British TV Shows",
          "International TV Shows",
          "Action & Adventure",
          "Kids' TV",
          "United Kingdom",
          "Teens",
          "Adults",
          "Older Kids",
          "Kids",
          "Adults",
          "Adults",
          "Older Kids",
          "Adults",
          "Documentaries",
          "Older Kids",
          "Teens",
          "Comedies",
          "Adults",
          "Adults",
          "Adults",
          "Music & Musicals",
          "Movies",
          "Independent Movies",
          "Teens",
          "Horror Movies",
          "Dramas",
          "Crime TV Shows",
          "Older Kids",
          "Older Kids",
          "Older Kids",
          "Teens",
          "TV Show",
          "Kids",
          "Adults"
         ],
         "marker": {
          "colors": [
           "#636efa",
           "#EF553B",
           "#EF553B",
           "#EF553B",
           "#636efa",
           "#00cc96",
           "#636efa",
           "#ab63fa",
           "#00cc96",
           "#636efa",
           "#00cc96",
           "#636efa",
           "#ab63fa",
           "#ab63fa",
           "#ab63fa",
           "#FFA15A",
           "#FFA15A",
           "#ab63fa",
           "#636efa",
           "#FFA15A",
           "#FFA15A",
           "#FFA15A",
           "#FFA15A",
           "#FFA15A",
           "#FFA15A",
           "#FFA15A",
           "#FFA15A",
           "#00cc96",
           "#FFA15A",
           "#FFA15A",
           "#FFA15A",
           "#FFA15A",
           "#FFA15A",
           "#00cc96",
           "#00cc96",
           "#00cc96",
           "#00cc96",
           "#00cc96",
           "#00cc96",
           "#00cc96",
           "#ab63fa",
           "#FFA15A",
           "#636efa",
           "#EF553B",
           "#FFA15A",
           "#FFA15A",
           "#636efa",
           "#FFA15A",
           "#00cc96",
           "#636efa",
           "#ab63fa",
           "#00cc96",
           "#FFA15A",
           "#FFA15A",
           "#FFA15A",
           "#FFA15A",
           "#00cc96",
           "#FFA15A",
           "#ab63fa",
           "#00cc96",
           "#00cc96",
           "#FFA15A",
           "#636efa",
           "#636efa",
           "#636efa",
           "#ab63fa",
           "#00cc96",
           "#EF553B",
           "#FFA15A"
          ]
         },
         "name": "",
         "parents": [
          "United Kingdom/Movie/Sports Movies",
          "United Kingdom/Movie/Children & Family Movies",
          "United Kingdom/Movie/International Movies",
          "United Kingdom/TV Show/Kids' TV",
          "United Kingdom/Movie/Action & Adventure",
          "United Kingdom/Movie",
          "United Kingdom/Movie/Children & Family Movies",
          "United Kingdom/Movie/Dramas",
          "United Kingdom/TV Show",
          "United Kingdom/TV Show/Docuseries",
          "United Kingdom/Movie",
          "United Kingdom/TV Show/Kids' TV",
          "United Kingdom/TV Show/International TV Shows",
          "United Kingdom/Movie/Horror Movies",
          "United Kingdom/TV Show/British TV Shows",
          "United Kingdom/Movie",
          "United Kingdom/Movie/Stand-Up Comedy",
          "United Kingdom/Movie/Documentaries",
          "United Kingdom/Movie",
          "United Kingdom/TV Show/Romantic TV Shows",
          "United Kingdom/TV Show",
          "United Kingdom/TV Show/British TV Shows",
          "United Kingdom/Movie/Music & Musicals",
          "United Kingdom/Movie/Movies",
          "United Kingdom/TV Show/International TV Shows",
          "United Kingdom/Movie/International Movies",
          "United Kingdom/Movie/Independent Movies",
          "United Kingdom/Movie",
          "United Kingdom/Movie/Sci-Fi & Fantasy",
          "United Kingdom/Movie",
          "United Kingdom/Movie/Documentaries",
          "United Kingdom/Movie",
          "United Kingdom/Movie/Comedies",
          "United Kingdom",
          "United Kingdom/TV Show",
          "United Kingdom/TV Show",
          "United Kingdom/TV Show",
          "United Kingdom/Movie",
          "United Kingdom/TV Show",
          "",
          "United Kingdom/Movie/Comedies",
          "United Kingdom/Movie/Thrillers",
          "United Kingdom/Movie/Dramas",
          "United Kingdom/Movie/Documentaries",
          "United Kingdom/Movie/Classic Movies",
          "United Kingdom/TV Show/Crime TV Shows",
          "United Kingdom/TV Show/British TV Shows",
          "United Kingdom/TV Show/Reality TV",
          "United Kingdom/Movie",
          "United Kingdom/Movie/Comedies",
          "United Kingdom/Movie/Action & Adventure",
          "United Kingdom/Movie",
          "United Kingdom/TV Show/Docuseries",
          "United Kingdom/Movie/Dramas",
          "United Kingdom/Movie/Horror Movies",
          "United Kingdom/Movie",
          "United Kingdom/Movie",
          "United Kingdom/Movie",
          "United Kingdom/TV Show/Docuseries",
          "United Kingdom/Movie",
          "United Kingdom/Movie",
          "United Kingdom/TV Show",
          "United Kingdom/Movie/Documentaries",
          "United Kingdom/Movie/Movies",
          "United Kingdom/TV Show/Reality TV",
          "United Kingdom/Movie/Sci-Fi & Fantasy",
          "United Kingdom",
          "United Kingdom/TV Show/British TV Shows",
          "United Kingdom/Movie/Action & Adventure"
         ],
         "type": "treemap",
         "values": [
          1,
          5,
          1,
          4,
          1,
          4,
          2,
          3,
          5,
          3,
          7,
          1,
          1,
          1,
          39,
          2,
          18,
          26,
          1,
          1,
          1,
          86,
          2,
          1,
          1,
          3,
          2,
          2,
          1,
          18,
          26,
          2,
          14,
          206,
          2,
          196,
          2,
          19,
          5,
          419,
          6,
          2,
          1,
          7,
          2,
          2,
          46,
          1,
          83,
          1,
          2,
          21,
          1,
          28,
          8,
          2,
          2,
          2,
          1,
          9,
          32,
          2,
          24,
          1,
          1,
          1,
          213,
          25,
          16
         ]
        }
       ],
       "layout": {
        "legend": {
         "tracegroupgap": 0
        },
        "margin": {
         "t": 60
        },
        "template": {
         "data": {
          "bar": [
           {
            "error_x": {
             "color": "#2a3f5f"
            },
            "error_y": {
             "color": "#2a3f5f"
            },
            "marker": {
             "line": {
              "color": "#E5ECF6",
              "width": 0.5
             },
             "pattern": {
              "fillmode": "overlay",
              "size": 10,
              "solidity": 0.2
             }
            },
            "type": "bar"
           }
          ],
          "barpolar": [
           {
            "marker": {
             "line": {
              "color": "#E5ECF6",
              "width": 0.5
             },
             "pattern": {
              "fillmode": "overlay",
              "size": 10,
              "solidity": 0.2
             }
            },
            "type": "barpolar"
           }
          ],
          "carpet": [
           {
            "aaxis": {
             "endlinecolor": "#2a3f5f",
             "gridcolor": "white",
             "linecolor": "white",
             "minorgridcolor": "white",
             "startlinecolor": "#2a3f5f"
            },
            "baxis": {
             "endlinecolor": "#2a3f5f",
             "gridcolor": "white",
             "linecolor": "white",
             "minorgridcolor": "white",
             "startlinecolor": "#2a3f5f"
            },
            "type": "carpet"
           }
          ],
          "choropleth": [
           {
            "colorbar": {
             "outlinewidth": 0,
             "ticks": ""
            },
            "type": "choropleth"
           }
          ],
          "contour": [
           {
            "colorbar": {
             "outlinewidth": 0,
             "ticks": ""
            },
            "colorscale": [
             [
              0,
              "#0d0887"
             ],
             [
              0.1111111111111111,
              "#46039f"
             ],
             [
              0.2222222222222222,
              "#7201a8"
             ],
             [
              0.3333333333333333,
              "#9c179e"
             ],
             [
              0.4444444444444444,
              "#bd3786"
             ],
             [
              0.5555555555555556,
              "#d8576b"
             ],
             [
              0.6666666666666666,
              "#ed7953"
             ],
             [
              0.7777777777777778,
              "#fb9f3a"
             ],
             [
              0.8888888888888888,
              "#fdca26"
             ],
             [
              1,
              "#f0f921"
             ]
            ],
            "type": "contour"
           }
          ],
          "contourcarpet": [
           {
            "colorbar": {
             "outlinewidth": 0,
             "ticks": ""
            },
            "type": "contourcarpet"
           }
          ],
          "heatmap": [
           {
            "colorbar": {
             "outlinewidth": 0,
             "ticks": ""
            },
            "colorscale": [
             [
              0,
              "#0d0887"
             ],
             [
              0.1111111111111111,
              "#46039f"
             ],
             [
              0.2222222222222222,
              "#7201a8"
             ],
             [
              0.3333333333333333,
              "#9c179e"
             ],
             [
              0.4444444444444444,
              "#bd3786"
             ],
             [
              0.5555555555555556,
              "#d8576b"
             ],
             [
              0.6666666666666666,
              "#ed7953"
             ],
             [
              0.7777777777777778,
              "#fb9f3a"
             ],
             [
              0.8888888888888888,
              "#fdca26"
             ],
             [
              1,
              "#f0f921"
             ]
            ],
            "type": "heatmap"
           }
          ],
          "heatmapgl": [
           {
            "colorbar": {
             "outlinewidth": 0,
             "ticks": ""
            },
            "colorscale": [
             [
              0,
              "#0d0887"
             ],
             [
              0.1111111111111111,
              "#46039f"
             ],
             [
              0.2222222222222222,
              "#7201a8"
             ],
             [
              0.3333333333333333,
              "#9c179e"
             ],
             [
              0.4444444444444444,
              "#bd3786"
             ],
             [
              0.5555555555555556,
              "#d8576b"
             ],
             [
              0.6666666666666666,
              "#ed7953"
             ],
             [
              0.7777777777777778,
              "#fb9f3a"
             ],
             [
              0.8888888888888888,
              "#fdca26"
             ],
             [
              1,
              "#f0f921"
             ]
            ],
            "type": "heatmapgl"
           }
          ],
          "histogram": [
           {
            "marker": {
             "pattern": {
              "fillmode": "overlay",
              "size": 10,
              "solidity": 0.2
             }
            },
            "type": "histogram"
           }
          ],
          "histogram2d": [
           {
            "colorbar": {
             "outlinewidth": 0,
             "ticks": ""
            },
            "colorscale": [
             [
              0,
              "#0d0887"
             ],
             [
              0.1111111111111111,
              "#46039f"
             ],
             [
              0.2222222222222222,
              "#7201a8"
             ],
             [
              0.3333333333333333,
              "#9c179e"
             ],
             [
              0.4444444444444444,
              "#bd3786"
             ],
             [
              0.5555555555555556,
              "#d8576b"
             ],
             [
              0.6666666666666666,
              "#ed7953"
             ],
             [
              0.7777777777777778,
              "#fb9f3a"
             ],
             [
              0.8888888888888888,
              "#fdca26"
             ],
             [
              1,
              "#f0f921"
             ]
            ],
            "type": "histogram2d"
           }
          ],
          "histogram2dcontour": [
           {
            "colorbar": {
             "outlinewidth": 0,
             "ticks": ""
            },
            "colorscale": [
             [
              0,
              "#0d0887"
             ],
             [
              0.1111111111111111,
              "#46039f"
             ],
             [
              0.2222222222222222,
              "#7201a8"
             ],
             [
              0.3333333333333333,
              "#9c179e"
             ],
             [
              0.4444444444444444,
              "#bd3786"
             ],
             [
              0.5555555555555556,
              "#d8576b"
             ],
             [
              0.6666666666666666,
              "#ed7953"
             ],
             [
              0.7777777777777778,
              "#fb9f3a"
             ],
             [
              0.8888888888888888,
              "#fdca26"
             ],
             [
              1,
              "#f0f921"
             ]
            ],
            "type": "histogram2dcontour"
           }
          ],
          "mesh3d": [
           {
            "colorbar": {
             "outlinewidth": 0,
             "ticks": ""
            },
            "type": "mesh3d"
           }
          ],
          "parcoords": [
           {
            "line": {
             "colorbar": {
              "outlinewidth": 0,
              "ticks": ""
             }
            },
            "type": "parcoords"
           }
          ],
          "pie": [
           {
            "automargin": true,
            "type": "pie"
           }
          ],
          "scatter": [
           {
            "marker": {
             "colorbar": {
              "outlinewidth": 0,
              "ticks": ""
             }
            },
            "type": "scatter"
           }
          ],
          "scatter3d": [
           {
            "line": {
             "colorbar": {
              "outlinewidth": 0,
              "ticks": ""
             }
            },
            "marker": {
             "colorbar": {
              "outlinewidth": 0,
              "ticks": ""
             }
            },
            "type": "scatter3d"
           }
          ],
          "scattercarpet": [
           {
            "marker": {
             "colorbar": {
              "outlinewidth": 0,
              "ticks": ""
             }
            },
            "type": "scattercarpet"
           }
          ],
          "scattergeo": [
           {
            "marker": {
             "colorbar": {
              "outlinewidth": 0,
              "ticks": ""
             }
            },
            "type": "scattergeo"
           }
          ],
          "scattergl": [
           {
            "marker": {
             "colorbar": {
              "outlinewidth": 0,
              "ticks": ""
             }
            },
            "type": "scattergl"
           }
          ],
          "scattermapbox": [
           {
            "marker": {
             "colorbar": {
              "outlinewidth": 0,
              "ticks": ""
             }
            },
            "type": "scattermapbox"
           }
          ],
          "scatterpolar": [
           {
            "marker": {
             "colorbar": {
              "outlinewidth": 0,
              "ticks": ""
             }
            },
            "type": "scatterpolar"
           }
          ],
          "scatterpolargl": [
           {
            "marker": {
             "colorbar": {
              "outlinewidth": 0,
              "ticks": ""
             }
            },
            "type": "scatterpolargl"
           }
          ],
          "scatterternary": [
           {
            "marker": {
             "colorbar": {
              "outlinewidth": 0,
              "ticks": ""
             }
            },
            "type": "scatterternary"
           }
          ],
          "surface": [
           {
            "colorbar": {
             "outlinewidth": 0,
             "ticks": ""
            },
            "colorscale": [
             [
              0,
              "#0d0887"
             ],
             [
              0.1111111111111111,
              "#46039f"
             ],
             [
              0.2222222222222222,
              "#7201a8"
             ],
             [
              0.3333333333333333,
              "#9c179e"
             ],
             [
              0.4444444444444444,
              "#bd3786"
             ],
             [
              0.5555555555555556,
              "#d8576b"
             ],
             [
              0.6666666666666666,
              "#ed7953"
             ],
             [
              0.7777777777777778,
              "#fb9f3a"
             ],
             [
              0.8888888888888888,
              "#fdca26"
             ],
             [
              1,
              "#f0f921"
             ]
            ],
            "type": "surface"
           }
          ],
          "table": [
           {
            "cells": {
             "fill": {
              "color": "#EBF0F8"
             },
             "line": {
              "color": "white"
             }
            },
            "header": {
             "fill": {
              "color": "#C8D4E3"
             },
             "line": {
              "color": "white"
             }
            },
            "type": "table"
           }
          ]
         },
         "layout": {
          "annotationdefaults": {
           "arrowcolor": "#2a3f5f",
           "arrowhead": 0,
           "arrowwidth": 1
          },
          "autotypenumbers": "strict",
          "coloraxis": {
           "colorbar": {
            "outlinewidth": 0,
            "ticks": ""
           }
          },
          "colorscale": {
           "diverging": [
            [
             0,
             "#8e0152"
            ],
            [
             0.1,
             "#c51b7d"
            ],
            [
             0.2,
             "#de77ae"
            ],
            [
             0.3,
             "#f1b6da"
            ],
            [
             0.4,
             "#fde0ef"
            ],
            [
             0.5,
             "#f7f7f7"
            ],
            [
             0.6,
             "#e6f5d0"
            ],
            [
             0.7,
             "#b8e186"
            ],
            [
             0.8,
             "#7fbc41"
            ],
            [
             0.9,
             "#4d9221"
            ],
            [
             1,
             "#276419"
            ]
           ],
           "sequential": [
            [
             0,
             "#0d0887"
            ],
            [
             0.1111111111111111,
             "#46039f"
            ],
            [
             0.2222222222222222,
             "#7201a8"
            ],
            [
             0.3333333333333333,
             "#9c179e"
            ],
            [
             0.4444444444444444,
             "#bd3786"
            ],
            [
             0.5555555555555556,
             "#d8576b"
            ],
            [
             0.6666666666666666,
             "#ed7953"
            ],
            [
             0.7777777777777778,
             "#fb9f3a"
            ],
            [
             0.8888888888888888,
             "#fdca26"
            ],
            [
             1,
             "#f0f921"
            ]
           ],
           "sequentialminus": [
            [
             0,
             "#0d0887"
            ],
            [
             0.1111111111111111,
             "#46039f"
            ],
            [
             0.2222222222222222,
             "#7201a8"
            ],
            [
             0.3333333333333333,
             "#9c179e"
            ],
            [
             0.4444444444444444,
             "#bd3786"
            ],
            [
             0.5555555555555556,
             "#d8576b"
            ],
            [
             0.6666666666666666,
             "#ed7953"
            ],
            [
             0.7777777777777778,
             "#fb9f3a"
            ],
            [
             0.8888888888888888,
             "#fdca26"
            ],
            [
             1,
             "#f0f921"
            ]
           ]
          },
          "colorway": [
           "#636efa",
           "#EF553B",
           "#00cc96",
           "#ab63fa",
           "#FFA15A",
           "#19d3f3",
           "#FF6692",
           "#B6E880",
           "#FF97FF",
           "#FECB52"
          ],
          "font": {
           "color": "#2a3f5f"
          },
          "geo": {
           "bgcolor": "white",
           "lakecolor": "white",
           "landcolor": "#E5ECF6",
           "showlakes": true,
           "showland": true,
           "subunitcolor": "white"
          },
          "hoverlabel": {
           "align": "left"
          },
          "hovermode": "closest",
          "mapbox": {
           "style": "light"
          },
          "paper_bgcolor": "white",
          "plot_bgcolor": "#E5ECF6",
          "polar": {
           "angularaxis": {
            "gridcolor": "white",
            "linecolor": "white",
            "ticks": ""
           },
           "bgcolor": "#E5ECF6",
           "radialaxis": {
            "gridcolor": "white",
            "linecolor": "white",
            "ticks": ""
           }
          },
          "scene": {
           "xaxis": {
            "backgroundcolor": "#E5ECF6",
            "gridcolor": "white",
            "gridwidth": 2,
            "linecolor": "white",
            "showbackground": true,
            "ticks": "",
            "zerolinecolor": "white"
           },
           "yaxis": {
            "backgroundcolor": "#E5ECF6",
            "gridcolor": "white",
            "gridwidth": 2,
            "linecolor": "white",
            "showbackground": true,
            "ticks": "",
            "zerolinecolor": "white"
           },
           "zaxis": {
            "backgroundcolor": "#E5ECF6",
            "gridcolor": "white",
            "gridwidth": 2,
            "linecolor": "white",
            "showbackground": true,
            "ticks": "",
            "zerolinecolor": "white"
           }
          },
          "shapedefaults": {
           "line": {
            "color": "#2a3f5f"
           }
          },
          "ternary": {
           "aaxis": {
            "gridcolor": "white",
            "linecolor": "white",
            "ticks": ""
           },
           "baxis": {
            "gridcolor": "white",
            "linecolor": "white",
            "ticks": ""
           },
           "bgcolor": "#E5ECF6",
           "caxis": {
            "gridcolor": "white",
            "linecolor": "white",
            "ticks": ""
           }
          },
          "title": {
           "x": 0.05
          },
          "xaxis": {
           "automargin": true,
           "gridcolor": "white",
           "linecolor": "white",
           "ticks": "",
           "title": {
            "standoff": 15
           },
           "zerolinecolor": "white",
           "zerolinewidth": 2
          },
          "yaxis": {
           "automargin": true,
           "gridcolor": "white",
           "linecolor": "white",
           "ticks": "",
           "title": {
            "standoff": 15
           },
           "zerolinecolor": "white",
           "zerolinewidth": 2
          }
         }
        }
       }
      },
      "text/html": [
       "<div>                            <div id=\"7eac0b12-4ef3-450d-86d9-d06b6e712fc4\" class=\"plotly-graph-div\" style=\"height:525px; width:100%;\"></div>            <script type=\"text/javascript\">                require([\"plotly\"], function(Plotly) {                    window.PLOTLYENV=window.PLOTLYENV || {};                                    if (document.getElementById(\"7eac0b12-4ef3-450d-86d9-d06b6e712fc4\")) {                    Plotly.newPlot(                        \"7eac0b12-4ef3-450d-86d9-d06b6e712fc4\",                        [{\"branchvalues\":\"total\",\"customdata\":[[\"Older Kids\",\"Older Kids\"],[\"Kids\",\"Kids\"],[\"Kids\",\"Kids\"],[\"Kids\",\"Kids\"],[\"Older Kids\",\"Older Kids\"],[\"(?)\",\"(?)\"],[\"Older Kids\",\"Older Kids\"],[\"Teens\",\"Teens\"],[\"(?)\",\"(?)\"],[\"Older Kids\",\"Older Kids\"],[\"(?)\",\"(?)\"],[\"Older Kids\",\"Older Kids\"],[\"Teens\",\"Teens\"],[\"Teens\",\"Teens\"],[\"Teens\",\"Teens\"],[\"Adults\",\"Adults\"],[\"Adults\",\"Adults\"],[\"Teens\",\"Teens\"],[\"Older Kids\",\"Older Kids\"],[\"Adults\",\"Adults\"],[\"Adults\",\"Adults\"],[\"Adults\",\"Adults\"],[\"Adults\",\"Adults\"],[\"Adults\",\"Adults\"],[\"Adults\",\"Adults\"],[\"Adults\",\"Adults\"],[\"Adults\",\"Adults\"],[\"(?)\",\"(?)\"],[\"Adults\",\"Adults\"],[\"Adults\",\"Adults\"],[\"Adults\",\"Adults\"],[\"Adults\",\"Adults\"],[\"Adults\",\"Adults\"],[\"(?)\",\"(?)\"],[\"(?)\",\"(?)\"],[\"(?)\",\"(?)\"],[\"(?)\",\"(?)\"],[\"(?)\",\"(?)\"],[\"(?)\",\"(?)\"],[\"(?)\",\"(?)\"],[\"Teens\",\"Teens\"],[\"Adults\",\"Adults\"],[\"Older Kids\",\"Older Kids\"],[\"Kids\",\"Kids\"],[\"Adults\",\"Adults\"],[\"Adults\",\"Adults\"],[\"Older Kids\",\"Older Kids\"],[\"Adults\",\"Adults\"],[\"(?)\",\"(?)\"],[\"Older Kids\",\"Older Kids\"],[\"Teens\",\"Teens\"],[\"(?)\",\"(?)\"],[\"Adults\",\"Adults\"],[\"Adults\",\"Adults\"],[\"Adults\",\"Adults\"],[\"Adults\",\"Adults\"],[\"(?)\",\"(?)\"],[\"Adults\",\"Adults\"],[\"Teens\",\"Teens\"],[\"(?)\",\"(?)\"],[\"(?)\",\"(?)\"],[\"Adults\",\"Adults\"],[\"Older Kids\",\"Older Kids\"],[\"Older Kids\",\"Older Kids\"],[\"Older Kids\",\"Older Kids\"],[\"Teens\",\"Teens\"],[\"(?)\",\"(?)\"],[\"Kids\",\"Kids\"],[\"Adults\",\"Adults\"]],\"domain\":{\"x\":[0.0,1.0],\"y\":[0.0,1.0]},\"hovertemplate\":\"labels=%{label}<br>count=%{value}<br>parent=%{parent}<br>id=%{id}<br>target_ages=%{customdata[1]}<extra></extra>\",\"ids\":[\"United Kingdom/Movie/Sports Movies/Older Kids\",\"United Kingdom/Movie/Children & Family Movies/Kids\",\"United Kingdom/Movie/International Movies/Kids\",\"United Kingdom/TV Show/Kids' TV/Kids\",\"United Kingdom/Movie/Action & Adventure/Older Kids\",\"United Kingdom/Movie/International Movies\",\"United Kingdom/Movie/Children & Family Movies/Older Kids\",\"United Kingdom/Movie/Dramas/Teens\",\"United Kingdom/TV Show/Docuseries\",\"United Kingdom/TV Show/Docuseries/Older Kids\",\"United Kingdom/Movie/Children & Family Movies\",\"United Kingdom/TV Show/Kids' TV/Older Kids\",\"United Kingdom/TV Show/International TV Shows/Teens\",\"United Kingdom/Movie/Horror Movies/Teens\",\"United Kingdom/TV Show/British TV Shows/Teens\",\"United Kingdom/Movie/Classic Movies\",\"United Kingdom/Movie/Stand-Up Comedy/Adults\",\"United Kingdom/Movie/Documentaries/Teens\",\"United Kingdom/Movie/Sports Movies\",\"United Kingdom/TV Show/Romantic TV Shows/Adults\",\"United Kingdom/TV Show/Romantic TV Shows\",\"United Kingdom/TV Show/British TV Shows/Adults\",\"United Kingdom/Movie/Music & Musicals/Adults\",\"United Kingdom/Movie/Movies/Adults\",\"United Kingdom/TV Show/International TV Shows/Adults\",\"United Kingdom/Movie/International Movies/Adults\",\"United Kingdom/Movie/Independent Movies/Adults\",\"United Kingdom/Movie/Sci-Fi & Fantasy\",\"United Kingdom/Movie/Sci-Fi & Fantasy/Adults\",\"United Kingdom/Movie/Stand-Up Comedy\",\"United Kingdom/Movie/Documentaries/Adults\",\"United Kingdom/Movie/Thrillers\",\"United Kingdom/Movie/Comedies/Adults\",\"United Kingdom/Movie\",\"United Kingdom/TV Show/Reality TV\",\"United Kingdom/TV Show/British TV Shows\",\"United Kingdom/TV Show/International TV Shows\",\"United Kingdom/Movie/Action & Adventure\",\"United Kingdom/TV Show/Kids' TV\",\"United Kingdom\",\"United Kingdom/Movie/Comedies/Teens\",\"United Kingdom/Movie/Thrillers/Adults\",\"United Kingdom/Movie/Dramas/Older Kids\",\"United Kingdom/Movie/Documentaries/Kids\",\"United Kingdom/Movie/Classic Movies/Adults\",\"United Kingdom/TV Show/Crime TV Shows/Adults\",\"United Kingdom/TV Show/British TV Shows/Older Kids\",\"United Kingdom/TV Show/Reality TV/Adults\",\"United Kingdom/Movie/Documentaries\",\"United Kingdom/Movie/Comedies/Older Kids\",\"United Kingdom/Movie/Action & Adventure/Teens\",\"United Kingdom/Movie/Comedies\",\"United Kingdom/TV Show/Docuseries/Adults\",\"United Kingdom/Movie/Dramas/Adults\",\"United Kingdom/Movie/Horror Movies/Adults\",\"United Kingdom/Movie/Music & Musicals\",\"United Kingdom/Movie/Movies\",\"United Kingdom/Movie/Independent Movies\",\"United Kingdom/TV Show/Docuseries/Teens\",\"United Kingdom/Movie/Horror Movies\",\"United Kingdom/Movie/Dramas\",\"United Kingdom/TV Show/Crime TV Shows\",\"United Kingdom/Movie/Documentaries/Older Kids\",\"United Kingdom/Movie/Movies/Older Kids\",\"United Kingdom/TV Show/Reality TV/Older Kids\",\"United Kingdom/Movie/Sci-Fi & Fantasy/Teens\",\"United Kingdom/TV Show\",\"United Kingdom/TV Show/British TV Shows/Kids\",\"United Kingdom/Movie/Action & Adventure/Adults\"],\"labels\":[\"Older Kids\",\"Kids\",\"Kids\",\"Kids\",\"Older Kids\",\"International Movies\",\"Older Kids\",\"Teens\",\"Docuseries\",\"Older Kids\",\"Children & Family Movies\",\"Older Kids\",\"Teens\",\"Teens\",\"Teens\",\"Classic Movies\",\"Adults\",\"Teens\",\"Sports Movies\",\"Adults\",\"Romantic TV Shows\",\"Adults\",\"Adults\",\"Adults\",\"Adults\",\"Adults\",\"Adults\",\"Sci-Fi & Fantasy\",\"Adults\",\"Stand-Up Comedy\",\"Adults\",\"Thrillers\",\"Adults\",\"Movie\",\"Reality TV\",\"British TV Shows\",\"International TV Shows\",\"Action & Adventure\",\"Kids' TV\",\"United Kingdom\",\"Teens\",\"Adults\",\"Older Kids\",\"Kids\",\"Adults\",\"Adults\",\"Older Kids\",\"Adults\",\"Documentaries\",\"Older Kids\",\"Teens\",\"Comedies\",\"Adults\",\"Adults\",\"Adults\",\"Music & Musicals\",\"Movies\",\"Independent Movies\",\"Teens\",\"Horror Movies\",\"Dramas\",\"Crime TV Shows\",\"Older Kids\",\"Older Kids\",\"Older Kids\",\"Teens\",\"TV Show\",\"Kids\",\"Adults\"],\"marker\":{\"colors\":[\"#636efa\",\"#EF553B\",\"#EF553B\",\"#EF553B\",\"#636efa\",\"#00cc96\",\"#636efa\",\"#ab63fa\",\"#00cc96\",\"#636efa\",\"#00cc96\",\"#636efa\",\"#ab63fa\",\"#ab63fa\",\"#ab63fa\",\"#FFA15A\",\"#FFA15A\",\"#ab63fa\",\"#636efa\",\"#FFA15A\",\"#FFA15A\",\"#FFA15A\",\"#FFA15A\",\"#FFA15A\",\"#FFA15A\",\"#FFA15A\",\"#FFA15A\",\"#00cc96\",\"#FFA15A\",\"#FFA15A\",\"#FFA15A\",\"#FFA15A\",\"#FFA15A\",\"#00cc96\",\"#00cc96\",\"#00cc96\",\"#00cc96\",\"#00cc96\",\"#00cc96\",\"#00cc96\",\"#ab63fa\",\"#FFA15A\",\"#636efa\",\"#EF553B\",\"#FFA15A\",\"#FFA15A\",\"#636efa\",\"#FFA15A\",\"#00cc96\",\"#636efa\",\"#ab63fa\",\"#00cc96\",\"#FFA15A\",\"#FFA15A\",\"#FFA15A\",\"#FFA15A\",\"#00cc96\",\"#FFA15A\",\"#ab63fa\",\"#00cc96\",\"#00cc96\",\"#FFA15A\",\"#636efa\",\"#636efa\",\"#636efa\",\"#ab63fa\",\"#00cc96\",\"#EF553B\",\"#FFA15A\"]},\"name\":\"\",\"parents\":[\"United Kingdom/Movie/Sports Movies\",\"United Kingdom/Movie/Children & Family Movies\",\"United Kingdom/Movie/International Movies\",\"United Kingdom/TV Show/Kids' TV\",\"United Kingdom/Movie/Action & Adventure\",\"United Kingdom/Movie\",\"United Kingdom/Movie/Children & Family Movies\",\"United Kingdom/Movie/Dramas\",\"United Kingdom/TV Show\",\"United Kingdom/TV Show/Docuseries\",\"United Kingdom/Movie\",\"United Kingdom/TV Show/Kids' TV\",\"United Kingdom/TV Show/International TV Shows\",\"United Kingdom/Movie/Horror Movies\",\"United Kingdom/TV Show/British TV Shows\",\"United Kingdom/Movie\",\"United Kingdom/Movie/Stand-Up Comedy\",\"United Kingdom/Movie/Documentaries\",\"United Kingdom/Movie\",\"United Kingdom/TV Show/Romantic TV Shows\",\"United Kingdom/TV Show\",\"United Kingdom/TV Show/British TV Shows\",\"United Kingdom/Movie/Music & Musicals\",\"United Kingdom/Movie/Movies\",\"United Kingdom/TV Show/International TV Shows\",\"United Kingdom/Movie/International Movies\",\"United Kingdom/Movie/Independent Movies\",\"United Kingdom/Movie\",\"United Kingdom/Movie/Sci-Fi & Fantasy\",\"United Kingdom/Movie\",\"United Kingdom/Movie/Documentaries\",\"United Kingdom/Movie\",\"United Kingdom/Movie/Comedies\",\"United Kingdom\",\"United Kingdom/TV Show\",\"United Kingdom/TV Show\",\"United Kingdom/TV Show\",\"United Kingdom/Movie\",\"United Kingdom/TV Show\",\"\",\"United Kingdom/Movie/Comedies\",\"United Kingdom/Movie/Thrillers\",\"United Kingdom/Movie/Dramas\",\"United Kingdom/Movie/Documentaries\",\"United Kingdom/Movie/Classic Movies\",\"United Kingdom/TV Show/Crime TV Shows\",\"United Kingdom/TV Show/British TV Shows\",\"United Kingdom/TV Show/Reality TV\",\"United Kingdom/Movie\",\"United Kingdom/Movie/Comedies\",\"United Kingdom/Movie/Action & Adventure\",\"United Kingdom/Movie\",\"United Kingdom/TV Show/Docuseries\",\"United Kingdom/Movie/Dramas\",\"United Kingdom/Movie/Horror Movies\",\"United Kingdom/Movie\",\"United Kingdom/Movie\",\"United Kingdom/Movie\",\"United Kingdom/TV Show/Docuseries\",\"United Kingdom/Movie\",\"United Kingdom/Movie\",\"United Kingdom/TV Show\",\"United Kingdom/Movie/Documentaries\",\"United Kingdom/Movie/Movies\",\"United Kingdom/TV Show/Reality TV\",\"United Kingdom/Movie/Sci-Fi & Fantasy\",\"United Kingdom\",\"United Kingdom/TV Show/British TV Shows\",\"United Kingdom/Movie/Action & Adventure\"],\"values\":[1,5,1,4,1,4,2,3,5,3,7,1,1,1,39,2,18,26,1,1,1,86,2,1,1,3,2,2,1,18,26,2,14,206,2,196,2,19,5,419,6,2,1,7,2,2,46,1,83,1,2,21,1,28,8,2,2,2,1,9,32,2,24,1,1,1,213,25,16],\"type\":\"treemap\"}],                        {\"template\":{\"data\":{\"bar\":[{\"error_x\":{\"color\":\"#2a3f5f\"},\"error_y\":{\"color\":\"#2a3f5f\"},\"marker\":{\"line\":{\"color\":\"#E5ECF6\",\"width\":0.5},\"pattern\":{\"fillmode\":\"overlay\",\"size\":10,\"solidity\":0.2}},\"type\":\"bar\"}],\"barpolar\":[{\"marker\":{\"line\":{\"color\":\"#E5ECF6\",\"width\":0.5},\"pattern\":{\"fillmode\":\"overlay\",\"size\":10,\"solidity\":0.2}},\"type\":\"barpolar\"}],\"carpet\":[{\"aaxis\":{\"endlinecolor\":\"#2a3f5f\",\"gridcolor\":\"white\",\"linecolor\":\"white\",\"minorgridcolor\":\"white\",\"startlinecolor\":\"#2a3f5f\"},\"baxis\":{\"endlinecolor\":\"#2a3f5f\",\"gridcolor\":\"white\",\"linecolor\":\"white\",\"minorgridcolor\":\"white\",\"startlinecolor\":\"#2a3f5f\"},\"type\":\"carpet\"}],\"choropleth\":[{\"colorbar\":{\"outlinewidth\":0,\"ticks\":\"\"},\"type\":\"choropleth\"}],\"contour\":[{\"colorbar\":{\"outlinewidth\":0,\"ticks\":\"\"},\"colorscale\":[[0.0,\"#0d0887\"],[0.1111111111111111,\"#46039f\"],[0.2222222222222222,\"#7201a8\"],[0.3333333333333333,\"#9c179e\"],[0.4444444444444444,\"#bd3786\"],[0.5555555555555556,\"#d8576b\"],[0.6666666666666666,\"#ed7953\"],[0.7777777777777778,\"#fb9f3a\"],[0.8888888888888888,\"#fdca26\"],[1.0,\"#f0f921\"]],\"type\":\"contour\"}],\"contourcarpet\":[{\"colorbar\":{\"outlinewidth\":0,\"ticks\":\"\"},\"type\":\"contourcarpet\"}],\"heatmap\":[{\"colorbar\":{\"outlinewidth\":0,\"ticks\":\"\"},\"colorscale\":[[0.0,\"#0d0887\"],[0.1111111111111111,\"#46039f\"],[0.2222222222222222,\"#7201a8\"],[0.3333333333333333,\"#9c179e\"],[0.4444444444444444,\"#bd3786\"],[0.5555555555555556,\"#d8576b\"],[0.6666666666666666,\"#ed7953\"],[0.7777777777777778,\"#fb9f3a\"],[0.8888888888888888,\"#fdca26\"],[1.0,\"#f0f921\"]],\"type\":\"heatmap\"}],\"heatmapgl\":[{\"colorbar\":{\"outlinewidth\":0,\"ticks\":\"\"},\"colorscale\":[[0.0,\"#0d0887\"],[0.1111111111111111,\"#46039f\"],[0.2222222222222222,\"#7201a8\"],[0.3333333333333333,\"#9c179e\"],[0.4444444444444444,\"#bd3786\"],[0.5555555555555556,\"#d8576b\"],[0.6666666666666666,\"#ed7953\"],[0.7777777777777778,\"#fb9f3a\"],[0.8888888888888888,\"#fdca26\"],[1.0,\"#f0f921\"]],\"type\":\"heatmapgl\"}],\"histogram\":[{\"marker\":{\"pattern\":{\"fillmode\":\"overlay\",\"size\":10,\"solidity\":0.2}},\"type\":\"histogram\"}],\"histogram2d\":[{\"colorbar\":{\"outlinewidth\":0,\"ticks\":\"\"},\"colorscale\":[[0.0,\"#0d0887\"],[0.1111111111111111,\"#46039f\"],[0.2222222222222222,\"#7201a8\"],[0.3333333333333333,\"#9c179e\"],[0.4444444444444444,\"#bd3786\"],[0.5555555555555556,\"#d8576b\"],[0.6666666666666666,\"#ed7953\"],[0.7777777777777778,\"#fb9f3a\"],[0.8888888888888888,\"#fdca26\"],[1.0,\"#f0f921\"]],\"type\":\"histogram2d\"}],\"histogram2dcontour\":[{\"colorbar\":{\"outlinewidth\":0,\"ticks\":\"\"},\"colorscale\":[[0.0,\"#0d0887\"],[0.1111111111111111,\"#46039f\"],[0.2222222222222222,\"#7201a8\"],[0.3333333333333333,\"#9c179e\"],[0.4444444444444444,\"#bd3786\"],[0.5555555555555556,\"#d8576b\"],[0.6666666666666666,\"#ed7953\"],[0.7777777777777778,\"#fb9f3a\"],[0.8888888888888888,\"#fdca26\"],[1.0,\"#f0f921\"]],\"type\":\"histogram2dcontour\"}],\"mesh3d\":[{\"colorbar\":{\"outlinewidth\":0,\"ticks\":\"\"},\"type\":\"mesh3d\"}],\"parcoords\":[{\"line\":{\"colorbar\":{\"outlinewidth\":0,\"ticks\":\"\"}},\"type\":\"parcoords\"}],\"pie\":[{\"automargin\":true,\"type\":\"pie\"}],\"scatter\":[{\"marker\":{\"colorbar\":{\"outlinewidth\":0,\"ticks\":\"\"}},\"type\":\"scatter\"}],\"scatter3d\":[{\"line\":{\"colorbar\":{\"outlinewidth\":0,\"ticks\":\"\"}},\"marker\":{\"colorbar\":{\"outlinewidth\":0,\"ticks\":\"\"}},\"type\":\"scatter3d\"}],\"scattercarpet\":[{\"marker\":{\"colorbar\":{\"outlinewidth\":0,\"ticks\":\"\"}},\"type\":\"scattercarpet\"}],\"scattergeo\":[{\"marker\":{\"colorbar\":{\"outlinewidth\":0,\"ticks\":\"\"}},\"type\":\"scattergeo\"}],\"scattergl\":[{\"marker\":{\"colorbar\":{\"outlinewidth\":0,\"ticks\":\"\"}},\"type\":\"scattergl\"}],\"scattermapbox\":[{\"marker\":{\"colorbar\":{\"outlinewidth\":0,\"ticks\":\"\"}},\"type\":\"scattermapbox\"}],\"scatterpolar\":[{\"marker\":{\"colorbar\":{\"outlinewidth\":0,\"ticks\":\"\"}},\"type\":\"scatterpolar\"}],\"scatterpolargl\":[{\"marker\":{\"colorbar\":{\"outlinewidth\":0,\"ticks\":\"\"}},\"type\":\"scatterpolargl\"}],\"scatterternary\":[{\"marker\":{\"colorbar\":{\"outlinewidth\":0,\"ticks\":\"\"}},\"type\":\"scatterternary\"}],\"surface\":[{\"colorbar\":{\"outlinewidth\":0,\"ticks\":\"\"},\"colorscale\":[[0.0,\"#0d0887\"],[0.1111111111111111,\"#46039f\"],[0.2222222222222222,\"#7201a8\"],[0.3333333333333333,\"#9c179e\"],[0.4444444444444444,\"#bd3786\"],[0.5555555555555556,\"#d8576b\"],[0.6666666666666666,\"#ed7953\"],[0.7777777777777778,\"#fb9f3a\"],[0.8888888888888888,\"#fdca26\"],[1.0,\"#f0f921\"]],\"type\":\"surface\"}],\"table\":[{\"cells\":{\"fill\":{\"color\":\"#EBF0F8\"},\"line\":{\"color\":\"white\"}},\"header\":{\"fill\":{\"color\":\"#C8D4E3\"},\"line\":{\"color\":\"white\"}},\"type\":\"table\"}]},\"layout\":{\"annotationdefaults\":{\"arrowcolor\":\"#2a3f5f\",\"arrowhead\":0,\"arrowwidth\":1},\"autotypenumbers\":\"strict\",\"coloraxis\":{\"colorbar\":{\"outlinewidth\":0,\"ticks\":\"\"}},\"colorscale\":{\"diverging\":[[0,\"#8e0152\"],[0.1,\"#c51b7d\"],[0.2,\"#de77ae\"],[0.3,\"#f1b6da\"],[0.4,\"#fde0ef\"],[0.5,\"#f7f7f7\"],[0.6,\"#e6f5d0\"],[0.7,\"#b8e186\"],[0.8,\"#7fbc41\"],[0.9,\"#4d9221\"],[1,\"#276419\"]],\"sequential\":[[0.0,\"#0d0887\"],[0.1111111111111111,\"#46039f\"],[0.2222222222222222,\"#7201a8\"],[0.3333333333333333,\"#9c179e\"],[0.4444444444444444,\"#bd3786\"],[0.5555555555555556,\"#d8576b\"],[0.6666666666666666,\"#ed7953\"],[0.7777777777777778,\"#fb9f3a\"],[0.8888888888888888,\"#fdca26\"],[1.0,\"#f0f921\"]],\"sequentialminus\":[[0.0,\"#0d0887\"],[0.1111111111111111,\"#46039f\"],[0.2222222222222222,\"#7201a8\"],[0.3333333333333333,\"#9c179e\"],[0.4444444444444444,\"#bd3786\"],[0.5555555555555556,\"#d8576b\"],[0.6666666666666666,\"#ed7953\"],[0.7777777777777778,\"#fb9f3a\"],[0.8888888888888888,\"#fdca26\"],[1.0,\"#f0f921\"]]},\"colorway\":[\"#636efa\",\"#EF553B\",\"#00cc96\",\"#ab63fa\",\"#FFA15A\",\"#19d3f3\",\"#FF6692\",\"#B6E880\",\"#FF97FF\",\"#FECB52\"],\"font\":{\"color\":\"#2a3f5f\"},\"geo\":{\"bgcolor\":\"white\",\"lakecolor\":\"white\",\"landcolor\":\"#E5ECF6\",\"showlakes\":true,\"showland\":true,\"subunitcolor\":\"white\"},\"hoverlabel\":{\"align\":\"left\"},\"hovermode\":\"closest\",\"mapbox\":{\"style\":\"light\"},\"paper_bgcolor\":\"white\",\"plot_bgcolor\":\"#E5ECF6\",\"polar\":{\"angularaxis\":{\"gridcolor\":\"white\",\"linecolor\":\"white\",\"ticks\":\"\"},\"bgcolor\":\"#E5ECF6\",\"radialaxis\":{\"gridcolor\":\"white\",\"linecolor\":\"white\",\"ticks\":\"\"}},\"scene\":{\"xaxis\":{\"backgroundcolor\":\"#E5ECF6\",\"gridcolor\":\"white\",\"gridwidth\":2,\"linecolor\":\"white\",\"showbackground\":true,\"ticks\":\"\",\"zerolinecolor\":\"white\"},\"yaxis\":{\"backgroundcolor\":\"#E5ECF6\",\"gridcolor\":\"white\",\"gridwidth\":2,\"linecolor\":\"white\",\"showbackground\":true,\"ticks\":\"\",\"zerolinecolor\":\"white\"},\"zaxis\":{\"backgroundcolor\":\"#E5ECF6\",\"gridcolor\":\"white\",\"gridwidth\":2,\"linecolor\":\"white\",\"showbackground\":true,\"ticks\":\"\",\"zerolinecolor\":\"white\"}},\"shapedefaults\":{\"line\":{\"color\":\"#2a3f5f\"}},\"ternary\":{\"aaxis\":{\"gridcolor\":\"white\",\"linecolor\":\"white\",\"ticks\":\"\"},\"baxis\":{\"gridcolor\":\"white\",\"linecolor\":\"white\",\"ticks\":\"\"},\"bgcolor\":\"#E5ECF6\",\"caxis\":{\"gridcolor\":\"white\",\"linecolor\":\"white\",\"ticks\":\"\"}},\"title\":{\"x\":0.05},\"xaxis\":{\"automargin\":true,\"gridcolor\":\"white\",\"linecolor\":\"white\",\"ticks\":\"\",\"title\":{\"standoff\":15},\"zerolinecolor\":\"white\",\"zerolinewidth\":2},\"yaxis\":{\"automargin\":true,\"gridcolor\":\"white\",\"linecolor\":\"white\",\"ticks\":\"\",\"title\":{\"standoff\":15},\"zerolinecolor\":\"white\",\"zerolinewidth\":2}}},\"legend\":{\"tracegroupgap\":0},\"margin\":{\"t\":60}},                        {\"responsive\": true}                    ).then(function(){\n",
       "                            \n",
       "var gd = document.getElementById('7eac0b12-4ef3-450d-86d9-d06b6e712fc4');\n",
       "var x = new MutationObserver(function (mutations, observer) {{\n",
       "        var display = window.getComputedStyle(gd).display;\n",
       "        if (!display || display === 'none') {{\n",
       "            console.log([gd, 'removed!']);\n",
       "            Plotly.purge(gd);\n",
       "            observer.disconnect();\n",
       "        }}\n",
       "}});\n",
       "\n",
       "// Listen for the removal of the full notebook cells\n",
       "var notebookContainer = gd.closest('#notebook-container');\n",
       "if (notebookContainer) {{\n",
       "    x.observe(notebookContainer, {childList: true});\n",
       "}}\n",
       "\n",
       "// Listen for the clearing of the current output cell\n",
       "var outputEl = gd.closest('.output');\n",
       "if (outputEl) {{\n",
       "    x.observe(outputEl, {childList: true});\n",
       "}}\n",
       "\n",
       "                        })                };                });            </script>        </div>"
      ]
     },
     "metadata": {},
     "output_type": "display_data"
    },
    {
     "name": "stdout",
     "output_type": "stream",
     "text": [
      "Content for Canada"
     ]
    },
    {
     "data": {
      "application/vnd.plotly.v1+json": {
       "config": {
        "plotlyServerURL": "https://plot.ly"
       },
       "data": [
        {
         "branchvalues": "total",
         "customdata": [
          [
           "Teens",
           "Teens"
          ],
          [
           "Older Kids",
           "Older Kids"
          ],
          [
           "(?)",
           "(?)"
          ],
          [
           "Older Kids",
           "Older Kids"
          ],
          [
           "Kids",
           "Kids"
          ],
          [
           "Teens",
           "Teens"
          ],
          [
           "Teens",
           "Teens"
          ],
          [
           "Adults",
           "Adults"
          ],
          [
           "Adults",
           "Adults"
          ],
          [
           "Adults",
           "Adults"
          ],
          [
           "Adults",
           "Adults"
          ],
          [
           "(?)",
           "(?)"
          ],
          [
           "Adults",
           "Adults"
          ],
          [
           "Adults",
           "Adults"
          ],
          [
           "(?)",
           "(?)"
          ],
          [
           "Adults",
           "Adults"
          ],
          [
           "Teens",
           "Teens"
          ],
          [
           "Adults",
           "Adults"
          ],
          [
           "Adults",
           "Adults"
          ],
          [
           "(?)",
           "(?)"
          ],
          [
           "Teens",
           "Teens"
          ],
          [
           "(?)",
           "(?)"
          ],
          [
           "Teens",
           "Teens"
          ],
          [
           "Older Kids",
           "Older Kids"
          ],
          [
           "Teens",
           "Teens"
          ],
          [
           "Adults",
           "Adults"
          ],
          [
           "Teens",
           "Teens"
          ],
          [
           "Teens",
           "Teens"
          ],
          [
           "Teens",
           "Teens"
          ],
          [
           "Older Kids",
           "Older Kids"
          ],
          [
           "Older Kids",
           "Older Kids"
          ],
          [
           "Adults",
           "Adults"
          ],
          [
           "Adults",
           "Adults"
          ],
          [
           "Older Kids",
           "Older Kids"
          ],
          [
           "Adults",
           "Adults"
          ],
          [
           "Kids",
           "Kids"
          ],
          [
           "Adults",
           "Adults"
          ],
          [
           "Kids",
           "Kids"
          ],
          [
           "(?)",
           "(?)"
          ],
          [
           "Kids",
           "Kids"
          ],
          [
           "Older Kids",
           "Older Kids"
          ],
          [
           "Kids",
           "Kids"
          ],
          [
           "(?)",
           "(?)"
          ],
          [
           "(?)",
           "(?)"
          ],
          [
           "Teens",
           "Teens"
          ],
          [
           "(?)",
           "(?)"
          ],
          [
           "(?)",
           "(?)"
          ],
          [
           "(?)",
           "(?)"
          ],
          [
           "Teens",
           "Teens"
          ],
          [
           "Adults",
           "Adults"
          ],
          [
           "Kids",
           "Kids"
          ],
          [
           "Kids",
           "Kids"
          ],
          [
           "Older Kids",
           "Older Kids"
          ],
          [
           "Older Kids",
           "Older Kids"
          ],
          [
           "Older Kids",
           "Older Kids"
          ],
          [
           "(?)",
           "(?)"
          ],
          [
           "Teens",
           "Teens"
          ],
          [
           "Older Kids",
           "Older Kids"
          ],
          [
           "(?)",
           "(?)"
          ],
          [
           "(?)",
           "(?)"
          ],
          [
           "Teens",
           "Teens"
          ],
          [
           "Adults",
           "Adults"
          ],
          [
           "Adults",
           "Adults"
          ],
          [
           "Adults",
           "Adults"
          ],
          [
           "Adults",
           "Adults"
          ],
          [
           "Teens",
           "Teens"
          ],
          [
           "Adults",
           "Adults"
          ],
          [
           "Adults",
           "Adults"
          ]
         ],
         "domain": {
          "x": [
           0,
           1
          ],
          "y": [
           0,
           1
          ]
         },
         "hovertemplate": "labels=%{label}<br>count=%{value}<br>parent=%{parent}<br>id=%{id}<br>target_ages=%{customdata[1]}<extra></extra>",
         "ids": [
          "Canada/Movie/Sci-Fi & Fantasy/Teens",
          "Canada/Movie/International Movies/Older Kids",
          "Canada/Movie/Documentaries",
          "Canada/TV Show/Reality TV",
          "Canada/Movie/Romantic Movies/Kids",
          "Canada/TV Show/Docuseries/Teens",
          "Canada/Movie/Dramas/Teens",
          "Canada/TV Show/TV Comedies",
          "Canada/TV Show/TV Horror/Adults",
          "Canada/TV Show/TV Comedies/Adults",
          "Canada/Movie/Movies",
          "Canada/TV Show/Docuseries",
          "Canada/TV Show/Classic & Cult TV",
          "Canada/Movie/Horror Movies/Adults",
          "Canada/Movie/Action & Adventure",
          "Canada/TV Show/Docuseries/Adults",
          "Canada/TV Show/TV Dramas",
          "Canada/Movie/Documentaries/Adults",
          "Canada/Movie/Comedies/Adults",
          "Canada/Movie/Children & Family Movies",
          "Canada/Movie/Stand-Up Comedy/Teens",
          "Canada/TV Show/Kids' TV",
          "Canada/Movie/Comedies/Teens",
          "Canada/Movie/International Movies",
          "Canada/TV Show/International TV Shows/Teens",
          "Canada/Movie/LGBTQ Movies",
          "Canada/Movie/Thrillers/Teens",
          "Canada/TV Show/Crime TV Shows/Teens",
          "Canada/Movie/Documentaries/Teens",
          "Canada/Movie/Documentaries/Older Kids",
          "Canada/Movie/Dramas/Older Kids",
          "Canada/TV Show/Crime TV Shows/Adults",
          "Canada/TV Show/TV Horror",
          "Canada/TV Show/International TV Shows/Older Kids",
          "Canada/Movie/Thrillers/Adults",
          "Canada/Movie/Comedies/Kids",
          "Canada/Movie/Stand-Up Comedy/Adults",
          "Canada/Movie/Dramas/Kids",
          "Canada/Movie/Stand-Up Comedy",
          "Canada/Movie/Romantic Movies",
          "Canada/TV Show/Docuseries/Older Kids",
          "Canada/TV Show/Docuseries/Kids",
          "Canada/TV Show/Crime TV Shows",
          "Canada/Movie/Dramas",
          "Canada/TV Show/TV Sci-Fi & Fantasy",
          "Canada/Movie/Thrillers",
          "Canada/Movie",
          "Canada",
          "Canada/TV Show/TV Sci-Fi & Fantasy/Teens",
          "Canada/Movie/Dramas/Adults",
          "Canada/Movie/Children & Family Movies/Kids",
          "Canada/TV Show/Kids' TV/Kids",
          "Canada/Movie/Comedies/Older Kids",
          "Canada/TV Show/Reality TV/Older Kids",
          "Canada/Movie/Children & Family Movies/Older Kids",
          "Canada/TV Show",
          "Canada/Movie/Action & Adventure/Teens",
          "Canada/TV Show/Kids' TV/Older Kids",
          "Canada/TV Show/International TV Shows",
          "Canada/Movie/Comedies",
          "Canada/Movie/Sci-Fi & Fantasy",
          "Canada/Movie/Horror Movies",
          "Canada/Movie/Movies/Adults",
          "Canada/Movie/LGBTQ Movies/Adults",
          "Canada/TV Show/International TV Shows/Adults",
          "Canada/TV Show/TV Dramas/Teens",
          "Canada/TV Show/Classic & Cult TV/Adults",
          "Canada/Movie/Action & Adventure/Adults"
         ],
         "labels": [
          "Teens",
          "Older Kids",
          "Documentaries",
          "Reality TV",
          "Kids",
          "Teens",
          "Teens",
          "TV Comedies",
          "Adults",
          "Adults",
          "Movies",
          "Docuseries",
          "Classic & Cult TV",
          "Adults",
          "Action & Adventure",
          "Adults",
          "TV Dramas",
          "Adults",
          "Adults",
          "Children & Family Movies",
          "Teens",
          "Kids' TV",
          "Teens",
          "International Movies",
          "Teens",
          "LGBTQ Movies",
          "Teens",
          "Teens",
          "Teens",
          "Older Kids",
          "Older Kids",
          "Adults",
          "TV Horror",
          "Older Kids",
          "Adults",
          "Kids",
          "Adults",
          "Kids",
          "Stand-Up Comedy",
          "Romantic Movies",
          "Older Kids",
          "Kids",
          "Crime TV Shows",
          "Dramas",
          "TV Sci-Fi & Fantasy",
          "Thrillers",
          "Movie",
          "Canada",
          "Teens",
          "Adults",
          "Kids",
          "Kids",
          "Older Kids",
          "Older Kids",
          "Older Kids",
          "TV Show",
          "Teens",
          "Older Kids",
          "International TV Shows",
          "Comedies",
          "Sci-Fi & Fantasy",
          "Horror Movies",
          "Adults",
          "Adults",
          "Adults",
          "Teens",
          "Adults",
          "Adults"
         ],
         "marker": {
          "colors": [
           "#636efa",
           "#EF553B",
           "#00cc96",
           "#EF553B",
           "#ab63fa",
           "#636efa",
           "#636efa",
           "#FFA15A",
           "#FFA15A",
           "#FFA15A",
           "#FFA15A",
           "#00cc96",
           "#FFA15A",
           "#FFA15A",
           "#00cc96",
           "#FFA15A",
           "#636efa",
           "#FFA15A",
           "#FFA15A",
           "#00cc96",
           "#636efa",
           "#00cc96",
           "#636efa",
           "#EF553B",
           "#636efa",
           "#FFA15A",
           "#636efa",
           "#636efa",
           "#636efa",
           "#EF553B",
           "#EF553B",
           "#FFA15A",
           "#FFA15A",
           "#EF553B",
           "#FFA15A",
           "#ab63fa",
           "#FFA15A",
           "#ab63fa",
           "#00cc96",
           "#ab63fa",
           "#EF553B",
           "#ab63fa",
           "#00cc96",
           "#00cc96",
           "#636efa",
           "#00cc96",
           "#00cc96",
           "#00cc96",
           "#636efa",
           "#FFA15A",
           "#ab63fa",
           "#ab63fa",
           "#EF553B",
           "#EF553B",
           "#EF553B",
           "#00cc96",
           "#636efa",
           "#EF553B",
           "#00cc96",
           "#00cc96",
           "#636efa",
           "#FFA15A",
           "#FFA15A",
           "#FFA15A",
           "#FFA15A",
           "#636efa",
           "#FFA15A",
           "#FFA15A"
          ]
         },
         "name": "",
         "parents": [
          "Canada/Movie/Sci-Fi & Fantasy",
          "Canada/Movie/International Movies",
          "Canada/Movie",
          "Canada/TV Show",
          "Canada/Movie/Romantic Movies",
          "Canada/TV Show/Docuseries",
          "Canada/Movie/Dramas",
          "Canada/TV Show",
          "Canada/TV Show/TV Horror",
          "Canada/TV Show/TV Comedies",
          "Canada/Movie",
          "Canada/TV Show",
          "Canada/TV Show",
          "Canada/Movie/Horror Movies",
          "Canada/Movie",
          "Canada/TV Show/Docuseries",
          "Canada/TV Show",
          "Canada/Movie/Documentaries",
          "Canada/Movie/Comedies",
          "Canada/Movie",
          "Canada/Movie/Stand-Up Comedy",
          "Canada/TV Show",
          "Canada/Movie/Comedies",
          "Canada/Movie",
          "Canada/TV Show/International TV Shows",
          "Canada/Movie",
          "Canada/Movie/Thrillers",
          "Canada/TV Show/Crime TV Shows",
          "Canada/Movie/Documentaries",
          "Canada/Movie/Documentaries",
          "Canada/Movie/Dramas",
          "Canada/TV Show/Crime TV Shows",
          "Canada/TV Show",
          "Canada/TV Show/International TV Shows",
          "Canada/Movie/Thrillers",
          "Canada/Movie/Comedies",
          "Canada/Movie/Stand-Up Comedy",
          "Canada/Movie/Dramas",
          "Canada/Movie",
          "Canada/Movie",
          "Canada/TV Show/Docuseries",
          "Canada/TV Show/Docuseries",
          "Canada/TV Show",
          "Canada/Movie",
          "Canada/TV Show",
          "Canada/Movie",
          "Canada",
          "",
          "Canada/TV Show/TV Sci-Fi & Fantasy",
          "Canada/Movie/Dramas",
          "Canada/Movie/Children & Family Movies",
          "Canada/TV Show/Kids' TV",
          "Canada/Movie/Comedies",
          "Canada/TV Show/Reality TV",
          "Canada/Movie/Children & Family Movies",
          "Canada",
          "Canada/Movie/Action & Adventure",
          "Canada/TV Show/Kids' TV",
          "Canada/TV Show",
          "Canada/Movie",
          "Canada/Movie",
          "Canada/Movie",
          "Canada/Movie/Movies",
          "Canada/Movie/LGBTQ Movies",
          "Canada/TV Show/International TV Shows",
          "Canada/TV Show/TV Dramas",
          "Canada/TV Show/Classic & Cult TV",
          "Canada/Movie/Action & Adventure"
         ],
         "type": "treemap",
         "values": [
          1,
          1,
          21,
          2,
          1,
          1,
          3,
          2,
          1,
          2,
          3,
          7,
          1,
          6,
          12,
          2,
          3,
          10,
          13,
          30,
          1,
          20,
          4,
          1,
          5,
          1,
          1,
          3,
          5,
          6,
          1,
          5,
          1,
          1,
          1,
          1,
          1,
          1,
          2,
          1,
          3,
          1,
          8,
          20,
          1,
          2,
          122,
          181,
          1,
          15,
          16,
          12,
          4,
          2,
          14,
          59,
          1,
          8,
          14,
          22,
          1,
          6,
          3,
          1,
          8,
          3,
          1,
          11
         ]
        }
       ],
       "layout": {
        "legend": {
         "tracegroupgap": 0
        },
        "margin": {
         "t": 60
        },
        "template": {
         "data": {
          "bar": [
           {
            "error_x": {
             "color": "#2a3f5f"
            },
            "error_y": {
             "color": "#2a3f5f"
            },
            "marker": {
             "line": {
              "color": "#E5ECF6",
              "width": 0.5
             },
             "pattern": {
              "fillmode": "overlay",
              "size": 10,
              "solidity": 0.2
             }
            },
            "type": "bar"
           }
          ],
          "barpolar": [
           {
            "marker": {
             "line": {
              "color": "#E5ECF6",
              "width": 0.5
             },
             "pattern": {
              "fillmode": "overlay",
              "size": 10,
              "solidity": 0.2
             }
            },
            "type": "barpolar"
           }
          ],
          "carpet": [
           {
            "aaxis": {
             "endlinecolor": "#2a3f5f",
             "gridcolor": "white",
             "linecolor": "white",
             "minorgridcolor": "white",
             "startlinecolor": "#2a3f5f"
            },
            "baxis": {
             "endlinecolor": "#2a3f5f",
             "gridcolor": "white",
             "linecolor": "white",
             "minorgridcolor": "white",
             "startlinecolor": "#2a3f5f"
            },
            "type": "carpet"
           }
          ],
          "choropleth": [
           {
            "colorbar": {
             "outlinewidth": 0,
             "ticks": ""
            },
            "type": "choropleth"
           }
          ],
          "contour": [
           {
            "colorbar": {
             "outlinewidth": 0,
             "ticks": ""
            },
            "colorscale": [
             [
              0,
              "#0d0887"
             ],
             [
              0.1111111111111111,
              "#46039f"
             ],
             [
              0.2222222222222222,
              "#7201a8"
             ],
             [
              0.3333333333333333,
              "#9c179e"
             ],
             [
              0.4444444444444444,
              "#bd3786"
             ],
             [
              0.5555555555555556,
              "#d8576b"
             ],
             [
              0.6666666666666666,
              "#ed7953"
             ],
             [
              0.7777777777777778,
              "#fb9f3a"
             ],
             [
              0.8888888888888888,
              "#fdca26"
             ],
             [
              1,
              "#f0f921"
             ]
            ],
            "type": "contour"
           }
          ],
          "contourcarpet": [
           {
            "colorbar": {
             "outlinewidth": 0,
             "ticks": ""
            },
            "type": "contourcarpet"
           }
          ],
          "heatmap": [
           {
            "colorbar": {
             "outlinewidth": 0,
             "ticks": ""
            },
            "colorscale": [
             [
              0,
              "#0d0887"
             ],
             [
              0.1111111111111111,
              "#46039f"
             ],
             [
              0.2222222222222222,
              "#7201a8"
             ],
             [
              0.3333333333333333,
              "#9c179e"
             ],
             [
              0.4444444444444444,
              "#bd3786"
             ],
             [
              0.5555555555555556,
              "#d8576b"
             ],
             [
              0.6666666666666666,
              "#ed7953"
             ],
             [
              0.7777777777777778,
              "#fb9f3a"
             ],
             [
              0.8888888888888888,
              "#fdca26"
             ],
             [
              1,
              "#f0f921"
             ]
            ],
            "type": "heatmap"
           }
          ],
          "heatmapgl": [
           {
            "colorbar": {
             "outlinewidth": 0,
             "ticks": ""
            },
            "colorscale": [
             [
              0,
              "#0d0887"
             ],
             [
              0.1111111111111111,
              "#46039f"
             ],
             [
              0.2222222222222222,
              "#7201a8"
             ],
             [
              0.3333333333333333,
              "#9c179e"
             ],
             [
              0.4444444444444444,
              "#bd3786"
             ],
             [
              0.5555555555555556,
              "#d8576b"
             ],
             [
              0.6666666666666666,
              "#ed7953"
             ],
             [
              0.7777777777777778,
              "#fb9f3a"
             ],
             [
              0.8888888888888888,
              "#fdca26"
             ],
             [
              1,
              "#f0f921"
             ]
            ],
            "type": "heatmapgl"
           }
          ],
          "histogram": [
           {
            "marker": {
             "pattern": {
              "fillmode": "overlay",
              "size": 10,
              "solidity": 0.2
             }
            },
            "type": "histogram"
           }
          ],
          "histogram2d": [
           {
            "colorbar": {
             "outlinewidth": 0,
             "ticks": ""
            },
            "colorscale": [
             [
              0,
              "#0d0887"
             ],
             [
              0.1111111111111111,
              "#46039f"
             ],
             [
              0.2222222222222222,
              "#7201a8"
             ],
             [
              0.3333333333333333,
              "#9c179e"
             ],
             [
              0.4444444444444444,
              "#bd3786"
             ],
             [
              0.5555555555555556,
              "#d8576b"
             ],
             [
              0.6666666666666666,
              "#ed7953"
             ],
             [
              0.7777777777777778,
              "#fb9f3a"
             ],
             [
              0.8888888888888888,
              "#fdca26"
             ],
             [
              1,
              "#f0f921"
             ]
            ],
            "type": "histogram2d"
           }
          ],
          "histogram2dcontour": [
           {
            "colorbar": {
             "outlinewidth": 0,
             "ticks": ""
            },
            "colorscale": [
             [
              0,
              "#0d0887"
             ],
             [
              0.1111111111111111,
              "#46039f"
             ],
             [
              0.2222222222222222,
              "#7201a8"
             ],
             [
              0.3333333333333333,
              "#9c179e"
             ],
             [
              0.4444444444444444,
              "#bd3786"
             ],
             [
              0.5555555555555556,
              "#d8576b"
             ],
             [
              0.6666666666666666,
              "#ed7953"
             ],
             [
              0.7777777777777778,
              "#fb9f3a"
             ],
             [
              0.8888888888888888,
              "#fdca26"
             ],
             [
              1,
              "#f0f921"
             ]
            ],
            "type": "histogram2dcontour"
           }
          ],
          "mesh3d": [
           {
            "colorbar": {
             "outlinewidth": 0,
             "ticks": ""
            },
            "type": "mesh3d"
           }
          ],
          "parcoords": [
           {
            "line": {
             "colorbar": {
              "outlinewidth": 0,
              "ticks": ""
             }
            },
            "type": "parcoords"
           }
          ],
          "pie": [
           {
            "automargin": true,
            "type": "pie"
           }
          ],
          "scatter": [
           {
            "marker": {
             "colorbar": {
              "outlinewidth": 0,
              "ticks": ""
             }
            },
            "type": "scatter"
           }
          ],
          "scatter3d": [
           {
            "line": {
             "colorbar": {
              "outlinewidth": 0,
              "ticks": ""
             }
            },
            "marker": {
             "colorbar": {
              "outlinewidth": 0,
              "ticks": ""
             }
            },
            "type": "scatter3d"
           }
          ],
          "scattercarpet": [
           {
            "marker": {
             "colorbar": {
              "outlinewidth": 0,
              "ticks": ""
             }
            },
            "type": "scattercarpet"
           }
          ],
          "scattergeo": [
           {
            "marker": {
             "colorbar": {
              "outlinewidth": 0,
              "ticks": ""
             }
            },
            "type": "scattergeo"
           }
          ],
          "scattergl": [
           {
            "marker": {
             "colorbar": {
              "outlinewidth": 0,
              "ticks": ""
             }
            },
            "type": "scattergl"
           }
          ],
          "scattermapbox": [
           {
            "marker": {
             "colorbar": {
              "outlinewidth": 0,
              "ticks": ""
             }
            },
            "type": "scattermapbox"
           }
          ],
          "scatterpolar": [
           {
            "marker": {
             "colorbar": {
              "outlinewidth": 0,
              "ticks": ""
             }
            },
            "type": "scatterpolar"
           }
          ],
          "scatterpolargl": [
           {
            "marker": {
             "colorbar": {
              "outlinewidth": 0,
              "ticks": ""
             }
            },
            "type": "scatterpolargl"
           }
          ],
          "scatterternary": [
           {
            "marker": {
             "colorbar": {
              "outlinewidth": 0,
              "ticks": ""
             }
            },
            "type": "scatterternary"
           }
          ],
          "surface": [
           {
            "colorbar": {
             "outlinewidth": 0,
             "ticks": ""
            },
            "colorscale": [
             [
              0,
              "#0d0887"
             ],
             [
              0.1111111111111111,
              "#46039f"
             ],
             [
              0.2222222222222222,
              "#7201a8"
             ],
             [
              0.3333333333333333,
              "#9c179e"
             ],
             [
              0.4444444444444444,
              "#bd3786"
             ],
             [
              0.5555555555555556,
              "#d8576b"
             ],
             [
              0.6666666666666666,
              "#ed7953"
             ],
             [
              0.7777777777777778,
              "#fb9f3a"
             ],
             [
              0.8888888888888888,
              "#fdca26"
             ],
             [
              1,
              "#f0f921"
             ]
            ],
            "type": "surface"
           }
          ],
          "table": [
           {
            "cells": {
             "fill": {
              "color": "#EBF0F8"
             },
             "line": {
              "color": "white"
             }
            },
            "header": {
             "fill": {
              "color": "#C8D4E3"
             },
             "line": {
              "color": "white"
             }
            },
            "type": "table"
           }
          ]
         },
         "layout": {
          "annotationdefaults": {
           "arrowcolor": "#2a3f5f",
           "arrowhead": 0,
           "arrowwidth": 1
          },
          "autotypenumbers": "strict",
          "coloraxis": {
           "colorbar": {
            "outlinewidth": 0,
            "ticks": ""
           }
          },
          "colorscale": {
           "diverging": [
            [
             0,
             "#8e0152"
            ],
            [
             0.1,
             "#c51b7d"
            ],
            [
             0.2,
             "#de77ae"
            ],
            [
             0.3,
             "#f1b6da"
            ],
            [
             0.4,
             "#fde0ef"
            ],
            [
             0.5,
             "#f7f7f7"
            ],
            [
             0.6,
             "#e6f5d0"
            ],
            [
             0.7,
             "#b8e186"
            ],
            [
             0.8,
             "#7fbc41"
            ],
            [
             0.9,
             "#4d9221"
            ],
            [
             1,
             "#276419"
            ]
           ],
           "sequential": [
            [
             0,
             "#0d0887"
            ],
            [
             0.1111111111111111,
             "#46039f"
            ],
            [
             0.2222222222222222,
             "#7201a8"
            ],
            [
             0.3333333333333333,
             "#9c179e"
            ],
            [
             0.4444444444444444,
             "#bd3786"
            ],
            [
             0.5555555555555556,
             "#d8576b"
            ],
            [
             0.6666666666666666,
             "#ed7953"
            ],
            [
             0.7777777777777778,
             "#fb9f3a"
            ],
            [
             0.8888888888888888,
             "#fdca26"
            ],
            [
             1,
             "#f0f921"
            ]
           ],
           "sequentialminus": [
            [
             0,
             "#0d0887"
            ],
            [
             0.1111111111111111,
             "#46039f"
            ],
            [
             0.2222222222222222,
             "#7201a8"
            ],
            [
             0.3333333333333333,
             "#9c179e"
            ],
            [
             0.4444444444444444,
             "#bd3786"
            ],
            [
             0.5555555555555556,
             "#d8576b"
            ],
            [
             0.6666666666666666,
             "#ed7953"
            ],
            [
             0.7777777777777778,
             "#fb9f3a"
            ],
            [
             0.8888888888888888,
             "#fdca26"
            ],
            [
             1,
             "#f0f921"
            ]
           ]
          },
          "colorway": [
           "#636efa",
           "#EF553B",
           "#00cc96",
           "#ab63fa",
           "#FFA15A",
           "#19d3f3",
           "#FF6692",
           "#B6E880",
           "#FF97FF",
           "#FECB52"
          ],
          "font": {
           "color": "#2a3f5f"
          },
          "geo": {
           "bgcolor": "white",
           "lakecolor": "white",
           "landcolor": "#E5ECF6",
           "showlakes": true,
           "showland": true,
           "subunitcolor": "white"
          },
          "hoverlabel": {
           "align": "left"
          },
          "hovermode": "closest",
          "mapbox": {
           "style": "light"
          },
          "paper_bgcolor": "white",
          "plot_bgcolor": "#E5ECF6",
          "polar": {
           "angularaxis": {
            "gridcolor": "white",
            "linecolor": "white",
            "ticks": ""
           },
           "bgcolor": "#E5ECF6",
           "radialaxis": {
            "gridcolor": "white",
            "linecolor": "white",
            "ticks": ""
           }
          },
          "scene": {
           "xaxis": {
            "backgroundcolor": "#E5ECF6",
            "gridcolor": "white",
            "gridwidth": 2,
            "linecolor": "white",
            "showbackground": true,
            "ticks": "",
            "zerolinecolor": "white"
           },
           "yaxis": {
            "backgroundcolor": "#E5ECF6",
            "gridcolor": "white",
            "gridwidth": 2,
            "linecolor": "white",
            "showbackground": true,
            "ticks": "",
            "zerolinecolor": "white"
           },
           "zaxis": {
            "backgroundcolor": "#E5ECF6",
            "gridcolor": "white",
            "gridwidth": 2,
            "linecolor": "white",
            "showbackground": true,
            "ticks": "",
            "zerolinecolor": "white"
           }
          },
          "shapedefaults": {
           "line": {
            "color": "#2a3f5f"
           }
          },
          "ternary": {
           "aaxis": {
            "gridcolor": "white",
            "linecolor": "white",
            "ticks": ""
           },
           "baxis": {
            "gridcolor": "white",
            "linecolor": "white",
            "ticks": ""
           },
           "bgcolor": "#E5ECF6",
           "caxis": {
            "gridcolor": "white",
            "linecolor": "white",
            "ticks": ""
           }
          },
          "title": {
           "x": 0.05
          },
          "xaxis": {
           "automargin": true,
           "gridcolor": "white",
           "linecolor": "white",
           "ticks": "",
           "title": {
            "standoff": 15
           },
           "zerolinecolor": "white",
           "zerolinewidth": 2
          },
          "yaxis": {
           "automargin": true,
           "gridcolor": "white",
           "linecolor": "white",
           "ticks": "",
           "title": {
            "standoff": 15
           },
           "zerolinecolor": "white",
           "zerolinewidth": 2
          }
         }
        }
       }
      },
      "text/html": [
       "<div>                            <div id=\"da29c639-b9ef-41e1-b7ff-2d95364c22d2\" class=\"plotly-graph-div\" style=\"height:525px; width:100%;\"></div>            <script type=\"text/javascript\">                require([\"plotly\"], function(Plotly) {                    window.PLOTLYENV=window.PLOTLYENV || {};                                    if (document.getElementById(\"da29c639-b9ef-41e1-b7ff-2d95364c22d2\")) {                    Plotly.newPlot(                        \"da29c639-b9ef-41e1-b7ff-2d95364c22d2\",                        [{\"branchvalues\":\"total\",\"customdata\":[[\"Teens\",\"Teens\"],[\"Older Kids\",\"Older Kids\"],[\"(?)\",\"(?)\"],[\"Older Kids\",\"Older Kids\"],[\"Kids\",\"Kids\"],[\"Teens\",\"Teens\"],[\"Teens\",\"Teens\"],[\"Adults\",\"Adults\"],[\"Adults\",\"Adults\"],[\"Adults\",\"Adults\"],[\"Adults\",\"Adults\"],[\"(?)\",\"(?)\"],[\"Adults\",\"Adults\"],[\"Adults\",\"Adults\"],[\"(?)\",\"(?)\"],[\"Adults\",\"Adults\"],[\"Teens\",\"Teens\"],[\"Adults\",\"Adults\"],[\"Adults\",\"Adults\"],[\"(?)\",\"(?)\"],[\"Teens\",\"Teens\"],[\"(?)\",\"(?)\"],[\"Teens\",\"Teens\"],[\"Older Kids\",\"Older Kids\"],[\"Teens\",\"Teens\"],[\"Adults\",\"Adults\"],[\"Teens\",\"Teens\"],[\"Teens\",\"Teens\"],[\"Teens\",\"Teens\"],[\"Older Kids\",\"Older Kids\"],[\"Older Kids\",\"Older Kids\"],[\"Adults\",\"Adults\"],[\"Adults\",\"Adults\"],[\"Older Kids\",\"Older Kids\"],[\"Adults\",\"Adults\"],[\"Kids\",\"Kids\"],[\"Adults\",\"Adults\"],[\"Kids\",\"Kids\"],[\"(?)\",\"(?)\"],[\"Kids\",\"Kids\"],[\"Older Kids\",\"Older Kids\"],[\"Kids\",\"Kids\"],[\"(?)\",\"(?)\"],[\"(?)\",\"(?)\"],[\"Teens\",\"Teens\"],[\"(?)\",\"(?)\"],[\"(?)\",\"(?)\"],[\"(?)\",\"(?)\"],[\"Teens\",\"Teens\"],[\"Adults\",\"Adults\"],[\"Kids\",\"Kids\"],[\"Kids\",\"Kids\"],[\"Older Kids\",\"Older Kids\"],[\"Older Kids\",\"Older Kids\"],[\"Older Kids\",\"Older Kids\"],[\"(?)\",\"(?)\"],[\"Teens\",\"Teens\"],[\"Older Kids\",\"Older Kids\"],[\"(?)\",\"(?)\"],[\"(?)\",\"(?)\"],[\"Teens\",\"Teens\"],[\"Adults\",\"Adults\"],[\"Adults\",\"Adults\"],[\"Adults\",\"Adults\"],[\"Adults\",\"Adults\"],[\"Teens\",\"Teens\"],[\"Adults\",\"Adults\"],[\"Adults\",\"Adults\"]],\"domain\":{\"x\":[0.0,1.0],\"y\":[0.0,1.0]},\"hovertemplate\":\"labels=%{label}<br>count=%{value}<br>parent=%{parent}<br>id=%{id}<br>target_ages=%{customdata[1]}<extra></extra>\",\"ids\":[\"Canada/Movie/Sci-Fi & Fantasy/Teens\",\"Canada/Movie/International Movies/Older Kids\",\"Canada/Movie/Documentaries\",\"Canada/TV Show/Reality TV\",\"Canada/Movie/Romantic Movies/Kids\",\"Canada/TV Show/Docuseries/Teens\",\"Canada/Movie/Dramas/Teens\",\"Canada/TV Show/TV Comedies\",\"Canada/TV Show/TV Horror/Adults\",\"Canada/TV Show/TV Comedies/Adults\",\"Canada/Movie/Movies\",\"Canada/TV Show/Docuseries\",\"Canada/TV Show/Classic & Cult TV\",\"Canada/Movie/Horror Movies/Adults\",\"Canada/Movie/Action & Adventure\",\"Canada/TV Show/Docuseries/Adults\",\"Canada/TV Show/TV Dramas\",\"Canada/Movie/Documentaries/Adults\",\"Canada/Movie/Comedies/Adults\",\"Canada/Movie/Children & Family Movies\",\"Canada/Movie/Stand-Up Comedy/Teens\",\"Canada/TV Show/Kids' TV\",\"Canada/Movie/Comedies/Teens\",\"Canada/Movie/International Movies\",\"Canada/TV Show/International TV Shows/Teens\",\"Canada/Movie/LGBTQ Movies\",\"Canada/Movie/Thrillers/Teens\",\"Canada/TV Show/Crime TV Shows/Teens\",\"Canada/Movie/Documentaries/Teens\",\"Canada/Movie/Documentaries/Older Kids\",\"Canada/Movie/Dramas/Older Kids\",\"Canada/TV Show/Crime TV Shows/Adults\",\"Canada/TV Show/TV Horror\",\"Canada/TV Show/International TV Shows/Older Kids\",\"Canada/Movie/Thrillers/Adults\",\"Canada/Movie/Comedies/Kids\",\"Canada/Movie/Stand-Up Comedy/Adults\",\"Canada/Movie/Dramas/Kids\",\"Canada/Movie/Stand-Up Comedy\",\"Canada/Movie/Romantic Movies\",\"Canada/TV Show/Docuseries/Older Kids\",\"Canada/TV Show/Docuseries/Kids\",\"Canada/TV Show/Crime TV Shows\",\"Canada/Movie/Dramas\",\"Canada/TV Show/TV Sci-Fi & Fantasy\",\"Canada/Movie/Thrillers\",\"Canada/Movie\",\"Canada\",\"Canada/TV Show/TV Sci-Fi & Fantasy/Teens\",\"Canada/Movie/Dramas/Adults\",\"Canada/Movie/Children & Family Movies/Kids\",\"Canada/TV Show/Kids' TV/Kids\",\"Canada/Movie/Comedies/Older Kids\",\"Canada/TV Show/Reality TV/Older Kids\",\"Canada/Movie/Children & Family Movies/Older Kids\",\"Canada/TV Show\",\"Canada/Movie/Action & Adventure/Teens\",\"Canada/TV Show/Kids' TV/Older Kids\",\"Canada/TV Show/International TV Shows\",\"Canada/Movie/Comedies\",\"Canada/Movie/Sci-Fi & Fantasy\",\"Canada/Movie/Horror Movies\",\"Canada/Movie/Movies/Adults\",\"Canada/Movie/LGBTQ Movies/Adults\",\"Canada/TV Show/International TV Shows/Adults\",\"Canada/TV Show/TV Dramas/Teens\",\"Canada/TV Show/Classic & Cult TV/Adults\",\"Canada/Movie/Action & Adventure/Adults\"],\"labels\":[\"Teens\",\"Older Kids\",\"Documentaries\",\"Reality TV\",\"Kids\",\"Teens\",\"Teens\",\"TV Comedies\",\"Adults\",\"Adults\",\"Movies\",\"Docuseries\",\"Classic & Cult TV\",\"Adults\",\"Action & Adventure\",\"Adults\",\"TV Dramas\",\"Adults\",\"Adults\",\"Children & Family Movies\",\"Teens\",\"Kids' TV\",\"Teens\",\"International Movies\",\"Teens\",\"LGBTQ Movies\",\"Teens\",\"Teens\",\"Teens\",\"Older Kids\",\"Older Kids\",\"Adults\",\"TV Horror\",\"Older Kids\",\"Adults\",\"Kids\",\"Adults\",\"Kids\",\"Stand-Up Comedy\",\"Romantic Movies\",\"Older Kids\",\"Kids\",\"Crime TV Shows\",\"Dramas\",\"TV Sci-Fi & Fantasy\",\"Thrillers\",\"Movie\",\"Canada\",\"Teens\",\"Adults\",\"Kids\",\"Kids\",\"Older Kids\",\"Older Kids\",\"Older Kids\",\"TV Show\",\"Teens\",\"Older Kids\",\"International TV Shows\",\"Comedies\",\"Sci-Fi & Fantasy\",\"Horror Movies\",\"Adults\",\"Adults\",\"Adults\",\"Teens\",\"Adults\",\"Adults\"],\"marker\":{\"colors\":[\"#636efa\",\"#EF553B\",\"#00cc96\",\"#EF553B\",\"#ab63fa\",\"#636efa\",\"#636efa\",\"#FFA15A\",\"#FFA15A\",\"#FFA15A\",\"#FFA15A\",\"#00cc96\",\"#FFA15A\",\"#FFA15A\",\"#00cc96\",\"#FFA15A\",\"#636efa\",\"#FFA15A\",\"#FFA15A\",\"#00cc96\",\"#636efa\",\"#00cc96\",\"#636efa\",\"#EF553B\",\"#636efa\",\"#FFA15A\",\"#636efa\",\"#636efa\",\"#636efa\",\"#EF553B\",\"#EF553B\",\"#FFA15A\",\"#FFA15A\",\"#EF553B\",\"#FFA15A\",\"#ab63fa\",\"#FFA15A\",\"#ab63fa\",\"#00cc96\",\"#ab63fa\",\"#EF553B\",\"#ab63fa\",\"#00cc96\",\"#00cc96\",\"#636efa\",\"#00cc96\",\"#00cc96\",\"#00cc96\",\"#636efa\",\"#FFA15A\",\"#ab63fa\",\"#ab63fa\",\"#EF553B\",\"#EF553B\",\"#EF553B\",\"#00cc96\",\"#636efa\",\"#EF553B\",\"#00cc96\",\"#00cc96\",\"#636efa\",\"#FFA15A\",\"#FFA15A\",\"#FFA15A\",\"#FFA15A\",\"#636efa\",\"#FFA15A\",\"#FFA15A\"]},\"name\":\"\",\"parents\":[\"Canada/Movie/Sci-Fi & Fantasy\",\"Canada/Movie/International Movies\",\"Canada/Movie\",\"Canada/TV Show\",\"Canada/Movie/Romantic Movies\",\"Canada/TV Show/Docuseries\",\"Canada/Movie/Dramas\",\"Canada/TV Show\",\"Canada/TV Show/TV Horror\",\"Canada/TV Show/TV Comedies\",\"Canada/Movie\",\"Canada/TV Show\",\"Canada/TV Show\",\"Canada/Movie/Horror Movies\",\"Canada/Movie\",\"Canada/TV Show/Docuseries\",\"Canada/TV Show\",\"Canada/Movie/Documentaries\",\"Canada/Movie/Comedies\",\"Canada/Movie\",\"Canada/Movie/Stand-Up Comedy\",\"Canada/TV Show\",\"Canada/Movie/Comedies\",\"Canada/Movie\",\"Canada/TV Show/International TV Shows\",\"Canada/Movie\",\"Canada/Movie/Thrillers\",\"Canada/TV Show/Crime TV Shows\",\"Canada/Movie/Documentaries\",\"Canada/Movie/Documentaries\",\"Canada/Movie/Dramas\",\"Canada/TV Show/Crime TV Shows\",\"Canada/TV Show\",\"Canada/TV Show/International TV Shows\",\"Canada/Movie/Thrillers\",\"Canada/Movie/Comedies\",\"Canada/Movie/Stand-Up Comedy\",\"Canada/Movie/Dramas\",\"Canada/Movie\",\"Canada/Movie\",\"Canada/TV Show/Docuseries\",\"Canada/TV Show/Docuseries\",\"Canada/TV Show\",\"Canada/Movie\",\"Canada/TV Show\",\"Canada/Movie\",\"Canada\",\"\",\"Canada/TV Show/TV Sci-Fi & Fantasy\",\"Canada/Movie/Dramas\",\"Canada/Movie/Children & Family Movies\",\"Canada/TV Show/Kids' TV\",\"Canada/Movie/Comedies\",\"Canada/TV Show/Reality TV\",\"Canada/Movie/Children & Family Movies\",\"Canada\",\"Canada/Movie/Action & Adventure\",\"Canada/TV Show/Kids' TV\",\"Canada/TV Show\",\"Canada/Movie\",\"Canada/Movie\",\"Canada/Movie\",\"Canada/Movie/Movies\",\"Canada/Movie/LGBTQ Movies\",\"Canada/TV Show/International TV Shows\",\"Canada/TV Show/TV Dramas\",\"Canada/TV Show/Classic & Cult TV\",\"Canada/Movie/Action & Adventure\"],\"values\":[1,1,21,2,1,1,3,2,1,2,3,7,1,6,12,2,3,10,13,30,1,20,4,1,5,1,1,3,5,6,1,5,1,1,1,1,1,1,2,1,3,1,8,20,1,2,122,181,1,15,16,12,4,2,14,59,1,8,14,22,1,6,3,1,8,3,1,11],\"type\":\"treemap\"}],                        {\"template\":{\"data\":{\"bar\":[{\"error_x\":{\"color\":\"#2a3f5f\"},\"error_y\":{\"color\":\"#2a3f5f\"},\"marker\":{\"line\":{\"color\":\"#E5ECF6\",\"width\":0.5},\"pattern\":{\"fillmode\":\"overlay\",\"size\":10,\"solidity\":0.2}},\"type\":\"bar\"}],\"barpolar\":[{\"marker\":{\"line\":{\"color\":\"#E5ECF6\",\"width\":0.5},\"pattern\":{\"fillmode\":\"overlay\",\"size\":10,\"solidity\":0.2}},\"type\":\"barpolar\"}],\"carpet\":[{\"aaxis\":{\"endlinecolor\":\"#2a3f5f\",\"gridcolor\":\"white\",\"linecolor\":\"white\",\"minorgridcolor\":\"white\",\"startlinecolor\":\"#2a3f5f\"},\"baxis\":{\"endlinecolor\":\"#2a3f5f\",\"gridcolor\":\"white\",\"linecolor\":\"white\",\"minorgridcolor\":\"white\",\"startlinecolor\":\"#2a3f5f\"},\"type\":\"carpet\"}],\"choropleth\":[{\"colorbar\":{\"outlinewidth\":0,\"ticks\":\"\"},\"type\":\"choropleth\"}],\"contour\":[{\"colorbar\":{\"outlinewidth\":0,\"ticks\":\"\"},\"colorscale\":[[0.0,\"#0d0887\"],[0.1111111111111111,\"#46039f\"],[0.2222222222222222,\"#7201a8\"],[0.3333333333333333,\"#9c179e\"],[0.4444444444444444,\"#bd3786\"],[0.5555555555555556,\"#d8576b\"],[0.6666666666666666,\"#ed7953\"],[0.7777777777777778,\"#fb9f3a\"],[0.8888888888888888,\"#fdca26\"],[1.0,\"#f0f921\"]],\"type\":\"contour\"}],\"contourcarpet\":[{\"colorbar\":{\"outlinewidth\":0,\"ticks\":\"\"},\"type\":\"contourcarpet\"}],\"heatmap\":[{\"colorbar\":{\"outlinewidth\":0,\"ticks\":\"\"},\"colorscale\":[[0.0,\"#0d0887\"],[0.1111111111111111,\"#46039f\"],[0.2222222222222222,\"#7201a8\"],[0.3333333333333333,\"#9c179e\"],[0.4444444444444444,\"#bd3786\"],[0.5555555555555556,\"#d8576b\"],[0.6666666666666666,\"#ed7953\"],[0.7777777777777778,\"#fb9f3a\"],[0.8888888888888888,\"#fdca26\"],[1.0,\"#f0f921\"]],\"type\":\"heatmap\"}],\"heatmapgl\":[{\"colorbar\":{\"outlinewidth\":0,\"ticks\":\"\"},\"colorscale\":[[0.0,\"#0d0887\"],[0.1111111111111111,\"#46039f\"],[0.2222222222222222,\"#7201a8\"],[0.3333333333333333,\"#9c179e\"],[0.4444444444444444,\"#bd3786\"],[0.5555555555555556,\"#d8576b\"],[0.6666666666666666,\"#ed7953\"],[0.7777777777777778,\"#fb9f3a\"],[0.8888888888888888,\"#fdca26\"],[1.0,\"#f0f921\"]],\"type\":\"heatmapgl\"}],\"histogram\":[{\"marker\":{\"pattern\":{\"fillmode\":\"overlay\",\"size\":10,\"solidity\":0.2}},\"type\":\"histogram\"}],\"histogram2d\":[{\"colorbar\":{\"outlinewidth\":0,\"ticks\":\"\"},\"colorscale\":[[0.0,\"#0d0887\"],[0.1111111111111111,\"#46039f\"],[0.2222222222222222,\"#7201a8\"],[0.3333333333333333,\"#9c179e\"],[0.4444444444444444,\"#bd3786\"],[0.5555555555555556,\"#d8576b\"],[0.6666666666666666,\"#ed7953\"],[0.7777777777777778,\"#fb9f3a\"],[0.8888888888888888,\"#fdca26\"],[1.0,\"#f0f921\"]],\"type\":\"histogram2d\"}],\"histogram2dcontour\":[{\"colorbar\":{\"outlinewidth\":0,\"ticks\":\"\"},\"colorscale\":[[0.0,\"#0d0887\"],[0.1111111111111111,\"#46039f\"],[0.2222222222222222,\"#7201a8\"],[0.3333333333333333,\"#9c179e\"],[0.4444444444444444,\"#bd3786\"],[0.5555555555555556,\"#d8576b\"],[0.6666666666666666,\"#ed7953\"],[0.7777777777777778,\"#fb9f3a\"],[0.8888888888888888,\"#fdca26\"],[1.0,\"#f0f921\"]],\"type\":\"histogram2dcontour\"}],\"mesh3d\":[{\"colorbar\":{\"outlinewidth\":0,\"ticks\":\"\"},\"type\":\"mesh3d\"}],\"parcoords\":[{\"line\":{\"colorbar\":{\"outlinewidth\":0,\"ticks\":\"\"}},\"type\":\"parcoords\"}],\"pie\":[{\"automargin\":true,\"type\":\"pie\"}],\"scatter\":[{\"marker\":{\"colorbar\":{\"outlinewidth\":0,\"ticks\":\"\"}},\"type\":\"scatter\"}],\"scatter3d\":[{\"line\":{\"colorbar\":{\"outlinewidth\":0,\"ticks\":\"\"}},\"marker\":{\"colorbar\":{\"outlinewidth\":0,\"ticks\":\"\"}},\"type\":\"scatter3d\"}],\"scattercarpet\":[{\"marker\":{\"colorbar\":{\"outlinewidth\":0,\"ticks\":\"\"}},\"type\":\"scattercarpet\"}],\"scattergeo\":[{\"marker\":{\"colorbar\":{\"outlinewidth\":0,\"ticks\":\"\"}},\"type\":\"scattergeo\"}],\"scattergl\":[{\"marker\":{\"colorbar\":{\"outlinewidth\":0,\"ticks\":\"\"}},\"type\":\"scattergl\"}],\"scattermapbox\":[{\"marker\":{\"colorbar\":{\"outlinewidth\":0,\"ticks\":\"\"}},\"type\":\"scattermapbox\"}],\"scatterpolar\":[{\"marker\":{\"colorbar\":{\"outlinewidth\":0,\"ticks\":\"\"}},\"type\":\"scatterpolar\"}],\"scatterpolargl\":[{\"marker\":{\"colorbar\":{\"outlinewidth\":0,\"ticks\":\"\"}},\"type\":\"scatterpolargl\"}],\"scatterternary\":[{\"marker\":{\"colorbar\":{\"outlinewidth\":0,\"ticks\":\"\"}},\"type\":\"scatterternary\"}],\"surface\":[{\"colorbar\":{\"outlinewidth\":0,\"ticks\":\"\"},\"colorscale\":[[0.0,\"#0d0887\"],[0.1111111111111111,\"#46039f\"],[0.2222222222222222,\"#7201a8\"],[0.3333333333333333,\"#9c179e\"],[0.4444444444444444,\"#bd3786\"],[0.5555555555555556,\"#d8576b\"],[0.6666666666666666,\"#ed7953\"],[0.7777777777777778,\"#fb9f3a\"],[0.8888888888888888,\"#fdca26\"],[1.0,\"#f0f921\"]],\"type\":\"surface\"}],\"table\":[{\"cells\":{\"fill\":{\"color\":\"#EBF0F8\"},\"line\":{\"color\":\"white\"}},\"header\":{\"fill\":{\"color\":\"#C8D4E3\"},\"line\":{\"color\":\"white\"}},\"type\":\"table\"}]},\"layout\":{\"annotationdefaults\":{\"arrowcolor\":\"#2a3f5f\",\"arrowhead\":0,\"arrowwidth\":1},\"autotypenumbers\":\"strict\",\"coloraxis\":{\"colorbar\":{\"outlinewidth\":0,\"ticks\":\"\"}},\"colorscale\":{\"diverging\":[[0,\"#8e0152\"],[0.1,\"#c51b7d\"],[0.2,\"#de77ae\"],[0.3,\"#f1b6da\"],[0.4,\"#fde0ef\"],[0.5,\"#f7f7f7\"],[0.6,\"#e6f5d0\"],[0.7,\"#b8e186\"],[0.8,\"#7fbc41\"],[0.9,\"#4d9221\"],[1,\"#276419\"]],\"sequential\":[[0.0,\"#0d0887\"],[0.1111111111111111,\"#46039f\"],[0.2222222222222222,\"#7201a8\"],[0.3333333333333333,\"#9c179e\"],[0.4444444444444444,\"#bd3786\"],[0.5555555555555556,\"#d8576b\"],[0.6666666666666666,\"#ed7953\"],[0.7777777777777778,\"#fb9f3a\"],[0.8888888888888888,\"#fdca26\"],[1.0,\"#f0f921\"]],\"sequentialminus\":[[0.0,\"#0d0887\"],[0.1111111111111111,\"#46039f\"],[0.2222222222222222,\"#7201a8\"],[0.3333333333333333,\"#9c179e\"],[0.4444444444444444,\"#bd3786\"],[0.5555555555555556,\"#d8576b\"],[0.6666666666666666,\"#ed7953\"],[0.7777777777777778,\"#fb9f3a\"],[0.8888888888888888,\"#fdca26\"],[1.0,\"#f0f921\"]]},\"colorway\":[\"#636efa\",\"#EF553B\",\"#00cc96\",\"#ab63fa\",\"#FFA15A\",\"#19d3f3\",\"#FF6692\",\"#B6E880\",\"#FF97FF\",\"#FECB52\"],\"font\":{\"color\":\"#2a3f5f\"},\"geo\":{\"bgcolor\":\"white\",\"lakecolor\":\"white\",\"landcolor\":\"#E5ECF6\",\"showlakes\":true,\"showland\":true,\"subunitcolor\":\"white\"},\"hoverlabel\":{\"align\":\"left\"},\"hovermode\":\"closest\",\"mapbox\":{\"style\":\"light\"},\"paper_bgcolor\":\"white\",\"plot_bgcolor\":\"#E5ECF6\",\"polar\":{\"angularaxis\":{\"gridcolor\":\"white\",\"linecolor\":\"white\",\"ticks\":\"\"},\"bgcolor\":\"#E5ECF6\",\"radialaxis\":{\"gridcolor\":\"white\",\"linecolor\":\"white\",\"ticks\":\"\"}},\"scene\":{\"xaxis\":{\"backgroundcolor\":\"#E5ECF6\",\"gridcolor\":\"white\",\"gridwidth\":2,\"linecolor\":\"white\",\"showbackground\":true,\"ticks\":\"\",\"zerolinecolor\":\"white\"},\"yaxis\":{\"backgroundcolor\":\"#E5ECF6\",\"gridcolor\":\"white\",\"gridwidth\":2,\"linecolor\":\"white\",\"showbackground\":true,\"ticks\":\"\",\"zerolinecolor\":\"white\"},\"zaxis\":{\"backgroundcolor\":\"#E5ECF6\",\"gridcolor\":\"white\",\"gridwidth\":2,\"linecolor\":\"white\",\"showbackground\":true,\"ticks\":\"\",\"zerolinecolor\":\"white\"}},\"shapedefaults\":{\"line\":{\"color\":\"#2a3f5f\"}},\"ternary\":{\"aaxis\":{\"gridcolor\":\"white\",\"linecolor\":\"white\",\"ticks\":\"\"},\"baxis\":{\"gridcolor\":\"white\",\"linecolor\":\"white\",\"ticks\":\"\"},\"bgcolor\":\"#E5ECF6\",\"caxis\":{\"gridcolor\":\"white\",\"linecolor\":\"white\",\"ticks\":\"\"}},\"title\":{\"x\":0.05},\"xaxis\":{\"automargin\":true,\"gridcolor\":\"white\",\"linecolor\":\"white\",\"ticks\":\"\",\"title\":{\"standoff\":15},\"zerolinecolor\":\"white\",\"zerolinewidth\":2},\"yaxis\":{\"automargin\":true,\"gridcolor\":\"white\",\"linecolor\":\"white\",\"ticks\":\"\",\"title\":{\"standoff\":15},\"zerolinecolor\":\"white\",\"zerolinewidth\":2}}},\"legend\":{\"tracegroupgap\":0},\"margin\":{\"t\":60}},                        {\"responsive\": true}                    ).then(function(){\n",
       "                            \n",
       "var gd = document.getElementById('da29c639-b9ef-41e1-b7ff-2d95364c22d2');\n",
       "var x = new MutationObserver(function (mutations, observer) {{\n",
       "        var display = window.getComputedStyle(gd).display;\n",
       "        if (!display || display === 'none') {{\n",
       "            console.log([gd, 'removed!']);\n",
       "            Plotly.purge(gd);\n",
       "            observer.disconnect();\n",
       "        }}\n",
       "}});\n",
       "\n",
       "// Listen for the removal of the full notebook cells\n",
       "var notebookContainer = gd.closest('#notebook-container');\n",
       "if (notebookContainer) {{\n",
       "    x.observe(notebookContainer, {childList: true});\n",
       "}}\n",
       "\n",
       "// Listen for the clearing of the current output cell\n",
       "var outputEl = gd.closest('.output');\n",
       "if (outputEl) {{\n",
       "    x.observe(outputEl, {childList: true});\n",
       "}}\n",
       "\n",
       "                        })                };                });            </script>        </div>"
      ]
     },
     "metadata": {},
     "output_type": "display_data"
    },
    {
     "name": "stdout",
     "output_type": "stream",
     "text": [
      "Content for Japan"
     ]
    },
    {
     "data": {
      "application/vnd.plotly.v1+json": {
       "config": {
        "plotlyServerURL": "https://plot.ly"
       },
       "data": [
        {
         "branchvalues": "total",
         "customdata": [
          [
           "Teens",
           "Teens"
          ],
          [
           "Older Kids",
           "Older Kids"
          ],
          [
           "(?)",
           "(?)"
          ],
          [
           "Adults",
           "Adults"
          ],
          [
           "(?)",
           "(?)"
          ],
          [
           "Older Kids",
           "Older Kids"
          ],
          [
           "(?)",
           "(?)"
          ],
          [
           "(?)",
           "(?)"
          ],
          [
           "(?)",
           "(?)"
          ],
          [
           "Teens",
           "Teens"
          ],
          [
           "Teens",
           "Teens"
          ],
          [
           "(?)",
           "(?)"
          ],
          [
           "Teens",
           "Teens"
          ],
          [
           "(?)",
           "(?)"
          ],
          [
           "Older Kids",
           "Older Kids"
          ],
          [
           "(?)",
           "(?)"
          ],
          [
           "(?)",
           "(?)"
          ],
          [
           "Teens",
           "Teens"
          ],
          [
           "(?)",
           "(?)"
          ],
          [
           "Older Kids",
           "Older Kids"
          ],
          [
           "Adults",
           "Adults"
          ],
          [
           "Adults",
           "Adults"
          ],
          [
           "Older Kids",
           "Older Kids"
          ],
          [
           "Older Kids",
           "Older Kids"
          ],
          [
           "Adults",
           "Adults"
          ],
          [
           "Kids",
           "Kids"
          ],
          [
           "Kids",
           "Kids"
          ],
          [
           "Older Kids",
           "Older Kids"
          ],
          [
           "Adults",
           "Adults"
          ],
          [
           "Adults",
           "Adults"
          ],
          [
           "Older Kids",
           "Older Kids"
          ],
          [
           "Teens",
           "Teens"
          ],
          [
           "Teens",
           "Teens"
          ],
          [
           "Teens",
           "Teens"
          ],
          [
           "Teens",
           "Teens"
          ],
          [
           "Older Kids",
           "Older Kids"
          ],
          [
           "Older Kids",
           "Older Kids"
          ],
          [
           "Older Kids",
           "Older Kids"
          ],
          [
           "Older Kids",
           "Older Kids"
          ],
          [
           "Kids",
           "Kids"
          ],
          [
           "Adults",
           "Adults"
          ]
         ],
         "domain": {
          "x": [
           0,
           1
          ],
          "y": [
           0,
           1
          ]
         },
         "hovertemplate": "labels=%{label}<br>count=%{value}<br>parent=%{parent}<br>id=%{id}<br>target_ages=%{customdata[1]}<extra></extra>",
         "ids": [
          "Japan/TV Show/Anime Series/Teens",
          "Japan/TV Show/Kids' TV",
          "Japan/Movie/International Movies",
          "Japan/Movie/Horror Movies",
          "Japan/Movie/Dramas",
          "Japan/TV Show/Docuseries",
          "Japan/TV Show/Crime TV Shows",
          "Japan/TV Show/Anime Series",
          "Japan/Movie/Action & Adventure",
          "Japan/TV Show/International TV Shows/Teens",
          "Japan/Movie/International Movies/Teens",
          "Japan/TV Show",
          "Japan/Movie/Action & Adventure/Teens",
          "Japan",
          "Japan/Movie/Dramas/Older Kids",
          "Japan/Movie/Anime Features",
          "Japan/Movie",
          "Japan/TV Show/TV Shows",
          "Japan/TV Show/International TV Shows",
          "Japan/TV Show/Anime Series/Older Kids",
          "Japan/TV Show/Crime TV Shows/Adults",
          "Japan/Movie/Dramas/Adults",
          "Japan/Movie/Anime Features/Older Kids",
          "Japan/Movie/Action & Adventure/Older Kids",
          "Japan/TV Show/International TV Shows/Adults",
          "Japan/Movie/International Movies/Kids",
          "Japan/TV Show/Anime Series/Kids",
          "Japan/Movie/Movies",
          "Japan/TV Show/Anime Series/Adults",
          "Japan/Movie/Horror Movies/Adults",
          "Japan/Movie/International Movies/Older Kids",
          "Japan/TV Show/TV Shows/Teens",
          "Japan/Movie/Dramas/Teens",
          "Japan/TV Show/Crime TV Shows/Teens",
          "Japan/Movie/Anime Features/Teens",
          "Japan/TV Show/Docuseries/Older Kids",
          "Japan/Movie/Movies/Older Kids",
          "Japan/TV Show/Kids' TV/Older Kids",
          "Japan/TV Show/International TV Shows/Older Kids",
          "Japan/TV Show/International TV Shows/Kids",
          "Japan/Movie/Action & Adventure/Adults"
         ],
         "labels": [
          "Teens",
          "Kids' TV",
          "International Movies",
          "Horror Movies",
          "Dramas",
          "Docuseries",
          "Crime TV Shows",
          "Anime Series",
          "Action & Adventure",
          "Teens",
          "Teens",
          "TV Show",
          "Teens",
          "Japan",
          "Older Kids",
          "Anime Features",
          "Movie",
          "TV Shows",
          "International TV Shows",
          "Older Kids",
          "Adults",
          "Adults",
          "Older Kids",
          "Older Kids",
          "Adults",
          "Kids",
          "Kids",
          "Movies",
          "Adults",
          "Adults",
          "Older Kids",
          "Teens",
          "Teens",
          "Teens",
          "Teens",
          "Older Kids",
          "Older Kids",
          "Older Kids",
          "Older Kids",
          "Kids",
          "Adults"
         ],
         "marker": {
          "colors": [
           "#636efa",
           "#EF553B",
           "#00cc96",
           "#ab63fa",
           "#00cc96",
           "#EF553B",
           "#00cc96",
           "#00cc96",
           "#00cc96",
           "#636efa",
           "#636efa",
           "#00cc96",
           "#636efa",
           "#00cc96",
           "#EF553B",
           "#00cc96",
           "#00cc96",
           "#636efa",
           "#00cc96",
           "#EF553B",
           "#ab63fa",
           "#ab63fa",
           "#EF553B",
           "#EF553B",
           "#ab63fa",
           "#FFA15A",
           "#FFA15A",
           "#EF553B",
           "#ab63fa",
           "#ab63fa",
           "#EF553B",
           "#636efa",
           "#636efa",
           "#636efa",
           "#636efa",
           "#EF553B",
           "#EF553B",
           "#EF553B",
           "#EF553B",
           "#FFA15A",
           "#ab63fa"
          ]
         },
         "name": "",
         "parents": [
          "Japan/TV Show/Anime Series",
          "Japan/TV Show",
          "Japan/Movie",
          "Japan/Movie",
          "Japan/Movie",
          "Japan/TV Show",
          "Japan/TV Show",
          "Japan/TV Show",
          "Japan/Movie",
          "Japan/TV Show/International TV Shows",
          "Japan/Movie/International Movies",
          "Japan",
          "Japan/Movie/Action & Adventure",
          "",
          "Japan/Movie/Dramas",
          "Japan/Movie",
          "Japan",
          "Japan/TV Show",
          "Japan/TV Show",
          "Japan/TV Show/Anime Series",
          "Japan/TV Show/Crime TV Shows",
          "Japan/Movie/Dramas",
          "Japan/Movie/Anime Features",
          "Japan/Movie/Action & Adventure",
          "Japan/TV Show/International TV Shows",
          "Japan/Movie/International Movies",
          "Japan/TV Show/Anime Series",
          "Japan/Movie",
          "Japan/TV Show/Anime Series",
          "Japan/Movie/Horror Movies",
          "Japan/Movie/International Movies",
          "Japan/TV Show/TV Shows",
          "Japan/Movie/Dramas",
          "Japan/TV Show/Crime TV Shows",
          "Japan/Movie/Anime Features",
          "Japan/TV Show/Docuseries",
          "Japan/Movie/Movies",
          "Japan/TV Show/Kids' TV",
          "Japan/TV Show/International TV Shows",
          "Japan/TV Show/International TV Shows",
          "Japan/Movie/Action & Adventure"
         ],
         "type": "treemap",
         "values": [
          61,
          1,
          3,
          1,
          10,
          1,
          4,
          131,
          46,
          8,
          1,
          169,
          17,
          245,
          2,
          15,
          76,
          1,
          31,
          25,
          3,
          7,
          11,
          13,
          17,
          1,
          1,
          1,
          44,
          1,
          1,
          1,
          1,
          1,
          4,
          1,
          1,
          1,
          5,
          1,
          16
         ]
        }
       ],
       "layout": {
        "legend": {
         "tracegroupgap": 0
        },
        "margin": {
         "t": 60
        },
        "template": {
         "data": {
          "bar": [
           {
            "error_x": {
             "color": "#2a3f5f"
            },
            "error_y": {
             "color": "#2a3f5f"
            },
            "marker": {
             "line": {
              "color": "#E5ECF6",
              "width": 0.5
             },
             "pattern": {
              "fillmode": "overlay",
              "size": 10,
              "solidity": 0.2
             }
            },
            "type": "bar"
           }
          ],
          "barpolar": [
           {
            "marker": {
             "line": {
              "color": "#E5ECF6",
              "width": 0.5
             },
             "pattern": {
              "fillmode": "overlay",
              "size": 10,
              "solidity": 0.2
             }
            },
            "type": "barpolar"
           }
          ],
          "carpet": [
           {
            "aaxis": {
             "endlinecolor": "#2a3f5f",
             "gridcolor": "white",
             "linecolor": "white",
             "minorgridcolor": "white",
             "startlinecolor": "#2a3f5f"
            },
            "baxis": {
             "endlinecolor": "#2a3f5f",
             "gridcolor": "white",
             "linecolor": "white",
             "minorgridcolor": "white",
             "startlinecolor": "#2a3f5f"
            },
            "type": "carpet"
           }
          ],
          "choropleth": [
           {
            "colorbar": {
             "outlinewidth": 0,
             "ticks": ""
            },
            "type": "choropleth"
           }
          ],
          "contour": [
           {
            "colorbar": {
             "outlinewidth": 0,
             "ticks": ""
            },
            "colorscale": [
             [
              0,
              "#0d0887"
             ],
             [
              0.1111111111111111,
              "#46039f"
             ],
             [
              0.2222222222222222,
              "#7201a8"
             ],
             [
              0.3333333333333333,
              "#9c179e"
             ],
             [
              0.4444444444444444,
              "#bd3786"
             ],
             [
              0.5555555555555556,
              "#d8576b"
             ],
             [
              0.6666666666666666,
              "#ed7953"
             ],
             [
              0.7777777777777778,
              "#fb9f3a"
             ],
             [
              0.8888888888888888,
              "#fdca26"
             ],
             [
              1,
              "#f0f921"
             ]
            ],
            "type": "contour"
           }
          ],
          "contourcarpet": [
           {
            "colorbar": {
             "outlinewidth": 0,
             "ticks": ""
            },
            "type": "contourcarpet"
           }
          ],
          "heatmap": [
           {
            "colorbar": {
             "outlinewidth": 0,
             "ticks": ""
            },
            "colorscale": [
             [
              0,
              "#0d0887"
             ],
             [
              0.1111111111111111,
              "#46039f"
             ],
             [
              0.2222222222222222,
              "#7201a8"
             ],
             [
              0.3333333333333333,
              "#9c179e"
             ],
             [
              0.4444444444444444,
              "#bd3786"
             ],
             [
              0.5555555555555556,
              "#d8576b"
             ],
             [
              0.6666666666666666,
              "#ed7953"
             ],
             [
              0.7777777777777778,
              "#fb9f3a"
             ],
             [
              0.8888888888888888,
              "#fdca26"
             ],
             [
              1,
              "#f0f921"
             ]
            ],
            "type": "heatmap"
           }
          ],
          "heatmapgl": [
           {
            "colorbar": {
             "outlinewidth": 0,
             "ticks": ""
            },
            "colorscale": [
             [
              0,
              "#0d0887"
             ],
             [
              0.1111111111111111,
              "#46039f"
             ],
             [
              0.2222222222222222,
              "#7201a8"
             ],
             [
              0.3333333333333333,
              "#9c179e"
             ],
             [
              0.4444444444444444,
              "#bd3786"
             ],
             [
              0.5555555555555556,
              "#d8576b"
             ],
             [
              0.6666666666666666,
              "#ed7953"
             ],
             [
              0.7777777777777778,
              "#fb9f3a"
             ],
             [
              0.8888888888888888,
              "#fdca26"
             ],
             [
              1,
              "#f0f921"
             ]
            ],
            "type": "heatmapgl"
           }
          ],
          "histogram": [
           {
            "marker": {
             "pattern": {
              "fillmode": "overlay",
              "size": 10,
              "solidity": 0.2
             }
            },
            "type": "histogram"
           }
          ],
          "histogram2d": [
           {
            "colorbar": {
             "outlinewidth": 0,
             "ticks": ""
            },
            "colorscale": [
             [
              0,
              "#0d0887"
             ],
             [
              0.1111111111111111,
              "#46039f"
             ],
             [
              0.2222222222222222,
              "#7201a8"
             ],
             [
              0.3333333333333333,
              "#9c179e"
             ],
             [
              0.4444444444444444,
              "#bd3786"
             ],
             [
              0.5555555555555556,
              "#d8576b"
             ],
             [
              0.6666666666666666,
              "#ed7953"
             ],
             [
              0.7777777777777778,
              "#fb9f3a"
             ],
             [
              0.8888888888888888,
              "#fdca26"
             ],
             [
              1,
              "#f0f921"
             ]
            ],
            "type": "histogram2d"
           }
          ],
          "histogram2dcontour": [
           {
            "colorbar": {
             "outlinewidth": 0,
             "ticks": ""
            },
            "colorscale": [
             [
              0,
              "#0d0887"
             ],
             [
              0.1111111111111111,
              "#46039f"
             ],
             [
              0.2222222222222222,
              "#7201a8"
             ],
             [
              0.3333333333333333,
              "#9c179e"
             ],
             [
              0.4444444444444444,
              "#bd3786"
             ],
             [
              0.5555555555555556,
              "#d8576b"
             ],
             [
              0.6666666666666666,
              "#ed7953"
             ],
             [
              0.7777777777777778,
              "#fb9f3a"
             ],
             [
              0.8888888888888888,
              "#fdca26"
             ],
             [
              1,
              "#f0f921"
             ]
            ],
            "type": "histogram2dcontour"
           }
          ],
          "mesh3d": [
           {
            "colorbar": {
             "outlinewidth": 0,
             "ticks": ""
            },
            "type": "mesh3d"
           }
          ],
          "parcoords": [
           {
            "line": {
             "colorbar": {
              "outlinewidth": 0,
              "ticks": ""
             }
            },
            "type": "parcoords"
           }
          ],
          "pie": [
           {
            "automargin": true,
            "type": "pie"
           }
          ],
          "scatter": [
           {
            "marker": {
             "colorbar": {
              "outlinewidth": 0,
              "ticks": ""
             }
            },
            "type": "scatter"
           }
          ],
          "scatter3d": [
           {
            "line": {
             "colorbar": {
              "outlinewidth": 0,
              "ticks": ""
             }
            },
            "marker": {
             "colorbar": {
              "outlinewidth": 0,
              "ticks": ""
             }
            },
            "type": "scatter3d"
           }
          ],
          "scattercarpet": [
           {
            "marker": {
             "colorbar": {
              "outlinewidth": 0,
              "ticks": ""
             }
            },
            "type": "scattercarpet"
           }
          ],
          "scattergeo": [
           {
            "marker": {
             "colorbar": {
              "outlinewidth": 0,
              "ticks": ""
             }
            },
            "type": "scattergeo"
           }
          ],
          "scattergl": [
           {
            "marker": {
             "colorbar": {
              "outlinewidth": 0,
              "ticks": ""
             }
            },
            "type": "scattergl"
           }
          ],
          "scattermapbox": [
           {
            "marker": {
             "colorbar": {
              "outlinewidth": 0,
              "ticks": ""
             }
            },
            "type": "scattermapbox"
           }
          ],
          "scatterpolar": [
           {
            "marker": {
             "colorbar": {
              "outlinewidth": 0,
              "ticks": ""
             }
            },
            "type": "scatterpolar"
           }
          ],
          "scatterpolargl": [
           {
            "marker": {
             "colorbar": {
              "outlinewidth": 0,
              "ticks": ""
             }
            },
            "type": "scatterpolargl"
           }
          ],
          "scatterternary": [
           {
            "marker": {
             "colorbar": {
              "outlinewidth": 0,
              "ticks": ""
             }
            },
            "type": "scatterternary"
           }
          ],
          "surface": [
           {
            "colorbar": {
             "outlinewidth": 0,
             "ticks": ""
            },
            "colorscale": [
             [
              0,
              "#0d0887"
             ],
             [
              0.1111111111111111,
              "#46039f"
             ],
             [
              0.2222222222222222,
              "#7201a8"
             ],
             [
              0.3333333333333333,
              "#9c179e"
             ],
             [
              0.4444444444444444,
              "#bd3786"
             ],
             [
              0.5555555555555556,
              "#d8576b"
             ],
             [
              0.6666666666666666,
              "#ed7953"
             ],
             [
              0.7777777777777778,
              "#fb9f3a"
             ],
             [
              0.8888888888888888,
              "#fdca26"
             ],
             [
              1,
              "#f0f921"
             ]
            ],
            "type": "surface"
           }
          ],
          "table": [
           {
            "cells": {
             "fill": {
              "color": "#EBF0F8"
             },
             "line": {
              "color": "white"
             }
            },
            "header": {
             "fill": {
              "color": "#C8D4E3"
             },
             "line": {
              "color": "white"
             }
            },
            "type": "table"
           }
          ]
         },
         "layout": {
          "annotationdefaults": {
           "arrowcolor": "#2a3f5f",
           "arrowhead": 0,
           "arrowwidth": 1
          },
          "autotypenumbers": "strict",
          "coloraxis": {
           "colorbar": {
            "outlinewidth": 0,
            "ticks": ""
           }
          },
          "colorscale": {
           "diverging": [
            [
             0,
             "#8e0152"
            ],
            [
             0.1,
             "#c51b7d"
            ],
            [
             0.2,
             "#de77ae"
            ],
            [
             0.3,
             "#f1b6da"
            ],
            [
             0.4,
             "#fde0ef"
            ],
            [
             0.5,
             "#f7f7f7"
            ],
            [
             0.6,
             "#e6f5d0"
            ],
            [
             0.7,
             "#b8e186"
            ],
            [
             0.8,
             "#7fbc41"
            ],
            [
             0.9,
             "#4d9221"
            ],
            [
             1,
             "#276419"
            ]
           ],
           "sequential": [
            [
             0,
             "#0d0887"
            ],
            [
             0.1111111111111111,
             "#46039f"
            ],
            [
             0.2222222222222222,
             "#7201a8"
            ],
            [
             0.3333333333333333,
             "#9c179e"
            ],
            [
             0.4444444444444444,
             "#bd3786"
            ],
            [
             0.5555555555555556,
             "#d8576b"
            ],
            [
             0.6666666666666666,
             "#ed7953"
            ],
            [
             0.7777777777777778,
             "#fb9f3a"
            ],
            [
             0.8888888888888888,
             "#fdca26"
            ],
            [
             1,
             "#f0f921"
            ]
           ],
           "sequentialminus": [
            [
             0,
             "#0d0887"
            ],
            [
             0.1111111111111111,
             "#46039f"
            ],
            [
             0.2222222222222222,
             "#7201a8"
            ],
            [
             0.3333333333333333,
             "#9c179e"
            ],
            [
             0.4444444444444444,
             "#bd3786"
            ],
            [
             0.5555555555555556,
             "#d8576b"
            ],
            [
             0.6666666666666666,
             "#ed7953"
            ],
            [
             0.7777777777777778,
             "#fb9f3a"
            ],
            [
             0.8888888888888888,
             "#fdca26"
            ],
            [
             1,
             "#f0f921"
            ]
           ]
          },
          "colorway": [
           "#636efa",
           "#EF553B",
           "#00cc96",
           "#ab63fa",
           "#FFA15A",
           "#19d3f3",
           "#FF6692",
           "#B6E880",
           "#FF97FF",
           "#FECB52"
          ],
          "font": {
           "color": "#2a3f5f"
          },
          "geo": {
           "bgcolor": "white",
           "lakecolor": "white",
           "landcolor": "#E5ECF6",
           "showlakes": true,
           "showland": true,
           "subunitcolor": "white"
          },
          "hoverlabel": {
           "align": "left"
          },
          "hovermode": "closest",
          "mapbox": {
           "style": "light"
          },
          "paper_bgcolor": "white",
          "plot_bgcolor": "#E5ECF6",
          "polar": {
           "angularaxis": {
            "gridcolor": "white",
            "linecolor": "white",
            "ticks": ""
           },
           "bgcolor": "#E5ECF6",
           "radialaxis": {
            "gridcolor": "white",
            "linecolor": "white",
            "ticks": ""
           }
          },
          "scene": {
           "xaxis": {
            "backgroundcolor": "#E5ECF6",
            "gridcolor": "white",
            "gridwidth": 2,
            "linecolor": "white",
            "showbackground": true,
            "ticks": "",
            "zerolinecolor": "white"
           },
           "yaxis": {
            "backgroundcolor": "#E5ECF6",
            "gridcolor": "white",
            "gridwidth": 2,
            "linecolor": "white",
            "showbackground": true,
            "ticks": "",
            "zerolinecolor": "white"
           },
           "zaxis": {
            "backgroundcolor": "#E5ECF6",
            "gridcolor": "white",
            "gridwidth": 2,
            "linecolor": "white",
            "showbackground": true,
            "ticks": "",
            "zerolinecolor": "white"
           }
          },
          "shapedefaults": {
           "line": {
            "color": "#2a3f5f"
           }
          },
          "ternary": {
           "aaxis": {
            "gridcolor": "white",
            "linecolor": "white",
            "ticks": ""
           },
           "baxis": {
            "gridcolor": "white",
            "linecolor": "white",
            "ticks": ""
           },
           "bgcolor": "#E5ECF6",
           "caxis": {
            "gridcolor": "white",
            "linecolor": "white",
            "ticks": ""
           }
          },
          "title": {
           "x": 0.05
          },
          "xaxis": {
           "automargin": true,
           "gridcolor": "white",
           "linecolor": "white",
           "ticks": "",
           "title": {
            "standoff": 15
           },
           "zerolinecolor": "white",
           "zerolinewidth": 2
          },
          "yaxis": {
           "automargin": true,
           "gridcolor": "white",
           "linecolor": "white",
           "ticks": "",
           "title": {
            "standoff": 15
           },
           "zerolinecolor": "white",
           "zerolinewidth": 2
          }
         }
        }
       }
      },
      "text/html": [
       "<div>                            <div id=\"3027bcc0-91c0-4e8a-bd58-806c9b30e7fe\" class=\"plotly-graph-div\" style=\"height:525px; width:100%;\"></div>            <script type=\"text/javascript\">                require([\"plotly\"], function(Plotly) {                    window.PLOTLYENV=window.PLOTLYENV || {};                                    if (document.getElementById(\"3027bcc0-91c0-4e8a-bd58-806c9b30e7fe\")) {                    Plotly.newPlot(                        \"3027bcc0-91c0-4e8a-bd58-806c9b30e7fe\",                        [{\"branchvalues\":\"total\",\"customdata\":[[\"Teens\",\"Teens\"],[\"Older Kids\",\"Older Kids\"],[\"(?)\",\"(?)\"],[\"Adults\",\"Adults\"],[\"(?)\",\"(?)\"],[\"Older Kids\",\"Older Kids\"],[\"(?)\",\"(?)\"],[\"(?)\",\"(?)\"],[\"(?)\",\"(?)\"],[\"Teens\",\"Teens\"],[\"Teens\",\"Teens\"],[\"(?)\",\"(?)\"],[\"Teens\",\"Teens\"],[\"(?)\",\"(?)\"],[\"Older Kids\",\"Older Kids\"],[\"(?)\",\"(?)\"],[\"(?)\",\"(?)\"],[\"Teens\",\"Teens\"],[\"(?)\",\"(?)\"],[\"Older Kids\",\"Older Kids\"],[\"Adults\",\"Adults\"],[\"Adults\",\"Adults\"],[\"Older Kids\",\"Older Kids\"],[\"Older Kids\",\"Older Kids\"],[\"Adults\",\"Adults\"],[\"Kids\",\"Kids\"],[\"Kids\",\"Kids\"],[\"Older Kids\",\"Older Kids\"],[\"Adults\",\"Adults\"],[\"Adults\",\"Adults\"],[\"Older Kids\",\"Older Kids\"],[\"Teens\",\"Teens\"],[\"Teens\",\"Teens\"],[\"Teens\",\"Teens\"],[\"Teens\",\"Teens\"],[\"Older Kids\",\"Older Kids\"],[\"Older Kids\",\"Older Kids\"],[\"Older Kids\",\"Older Kids\"],[\"Older Kids\",\"Older Kids\"],[\"Kids\",\"Kids\"],[\"Adults\",\"Adults\"]],\"domain\":{\"x\":[0.0,1.0],\"y\":[0.0,1.0]},\"hovertemplate\":\"labels=%{label}<br>count=%{value}<br>parent=%{parent}<br>id=%{id}<br>target_ages=%{customdata[1]}<extra></extra>\",\"ids\":[\"Japan/TV Show/Anime Series/Teens\",\"Japan/TV Show/Kids' TV\",\"Japan/Movie/International Movies\",\"Japan/Movie/Horror Movies\",\"Japan/Movie/Dramas\",\"Japan/TV Show/Docuseries\",\"Japan/TV Show/Crime TV Shows\",\"Japan/TV Show/Anime Series\",\"Japan/Movie/Action & Adventure\",\"Japan/TV Show/International TV Shows/Teens\",\"Japan/Movie/International Movies/Teens\",\"Japan/TV Show\",\"Japan/Movie/Action & Adventure/Teens\",\"Japan\",\"Japan/Movie/Dramas/Older Kids\",\"Japan/Movie/Anime Features\",\"Japan/Movie\",\"Japan/TV Show/TV Shows\",\"Japan/TV Show/International TV Shows\",\"Japan/TV Show/Anime Series/Older Kids\",\"Japan/TV Show/Crime TV Shows/Adults\",\"Japan/Movie/Dramas/Adults\",\"Japan/Movie/Anime Features/Older Kids\",\"Japan/Movie/Action & Adventure/Older Kids\",\"Japan/TV Show/International TV Shows/Adults\",\"Japan/Movie/International Movies/Kids\",\"Japan/TV Show/Anime Series/Kids\",\"Japan/Movie/Movies\",\"Japan/TV Show/Anime Series/Adults\",\"Japan/Movie/Horror Movies/Adults\",\"Japan/Movie/International Movies/Older Kids\",\"Japan/TV Show/TV Shows/Teens\",\"Japan/Movie/Dramas/Teens\",\"Japan/TV Show/Crime TV Shows/Teens\",\"Japan/Movie/Anime Features/Teens\",\"Japan/TV Show/Docuseries/Older Kids\",\"Japan/Movie/Movies/Older Kids\",\"Japan/TV Show/Kids' TV/Older Kids\",\"Japan/TV Show/International TV Shows/Older Kids\",\"Japan/TV Show/International TV Shows/Kids\",\"Japan/Movie/Action & Adventure/Adults\"],\"labels\":[\"Teens\",\"Kids' TV\",\"International Movies\",\"Horror Movies\",\"Dramas\",\"Docuseries\",\"Crime TV Shows\",\"Anime Series\",\"Action & Adventure\",\"Teens\",\"Teens\",\"TV Show\",\"Teens\",\"Japan\",\"Older Kids\",\"Anime Features\",\"Movie\",\"TV Shows\",\"International TV Shows\",\"Older Kids\",\"Adults\",\"Adults\",\"Older Kids\",\"Older Kids\",\"Adults\",\"Kids\",\"Kids\",\"Movies\",\"Adults\",\"Adults\",\"Older Kids\",\"Teens\",\"Teens\",\"Teens\",\"Teens\",\"Older Kids\",\"Older Kids\",\"Older Kids\",\"Older Kids\",\"Kids\",\"Adults\"],\"marker\":{\"colors\":[\"#636efa\",\"#EF553B\",\"#00cc96\",\"#ab63fa\",\"#00cc96\",\"#EF553B\",\"#00cc96\",\"#00cc96\",\"#00cc96\",\"#636efa\",\"#636efa\",\"#00cc96\",\"#636efa\",\"#00cc96\",\"#EF553B\",\"#00cc96\",\"#00cc96\",\"#636efa\",\"#00cc96\",\"#EF553B\",\"#ab63fa\",\"#ab63fa\",\"#EF553B\",\"#EF553B\",\"#ab63fa\",\"#FFA15A\",\"#FFA15A\",\"#EF553B\",\"#ab63fa\",\"#ab63fa\",\"#EF553B\",\"#636efa\",\"#636efa\",\"#636efa\",\"#636efa\",\"#EF553B\",\"#EF553B\",\"#EF553B\",\"#EF553B\",\"#FFA15A\",\"#ab63fa\"]},\"name\":\"\",\"parents\":[\"Japan/TV Show/Anime Series\",\"Japan/TV Show\",\"Japan/Movie\",\"Japan/Movie\",\"Japan/Movie\",\"Japan/TV Show\",\"Japan/TV Show\",\"Japan/TV Show\",\"Japan/Movie\",\"Japan/TV Show/International TV Shows\",\"Japan/Movie/International Movies\",\"Japan\",\"Japan/Movie/Action & Adventure\",\"\",\"Japan/Movie/Dramas\",\"Japan/Movie\",\"Japan\",\"Japan/TV Show\",\"Japan/TV Show\",\"Japan/TV Show/Anime Series\",\"Japan/TV Show/Crime TV Shows\",\"Japan/Movie/Dramas\",\"Japan/Movie/Anime Features\",\"Japan/Movie/Action & Adventure\",\"Japan/TV Show/International TV Shows\",\"Japan/Movie/International Movies\",\"Japan/TV Show/Anime Series\",\"Japan/Movie\",\"Japan/TV Show/Anime Series\",\"Japan/Movie/Horror Movies\",\"Japan/Movie/International Movies\",\"Japan/TV Show/TV Shows\",\"Japan/Movie/Dramas\",\"Japan/TV Show/Crime TV Shows\",\"Japan/Movie/Anime Features\",\"Japan/TV Show/Docuseries\",\"Japan/Movie/Movies\",\"Japan/TV Show/Kids' TV\",\"Japan/TV Show/International TV Shows\",\"Japan/TV Show/International TV Shows\",\"Japan/Movie/Action & Adventure\"],\"values\":[61,1,3,1,10,1,4,131,46,8,1,169,17,245,2,15,76,1,31,25,3,7,11,13,17,1,1,1,44,1,1,1,1,1,4,1,1,1,5,1,16],\"type\":\"treemap\"}],                        {\"template\":{\"data\":{\"bar\":[{\"error_x\":{\"color\":\"#2a3f5f\"},\"error_y\":{\"color\":\"#2a3f5f\"},\"marker\":{\"line\":{\"color\":\"#E5ECF6\",\"width\":0.5},\"pattern\":{\"fillmode\":\"overlay\",\"size\":10,\"solidity\":0.2}},\"type\":\"bar\"}],\"barpolar\":[{\"marker\":{\"line\":{\"color\":\"#E5ECF6\",\"width\":0.5},\"pattern\":{\"fillmode\":\"overlay\",\"size\":10,\"solidity\":0.2}},\"type\":\"barpolar\"}],\"carpet\":[{\"aaxis\":{\"endlinecolor\":\"#2a3f5f\",\"gridcolor\":\"white\",\"linecolor\":\"white\",\"minorgridcolor\":\"white\",\"startlinecolor\":\"#2a3f5f\"},\"baxis\":{\"endlinecolor\":\"#2a3f5f\",\"gridcolor\":\"white\",\"linecolor\":\"white\",\"minorgridcolor\":\"white\",\"startlinecolor\":\"#2a3f5f\"},\"type\":\"carpet\"}],\"choropleth\":[{\"colorbar\":{\"outlinewidth\":0,\"ticks\":\"\"},\"type\":\"choropleth\"}],\"contour\":[{\"colorbar\":{\"outlinewidth\":0,\"ticks\":\"\"},\"colorscale\":[[0.0,\"#0d0887\"],[0.1111111111111111,\"#46039f\"],[0.2222222222222222,\"#7201a8\"],[0.3333333333333333,\"#9c179e\"],[0.4444444444444444,\"#bd3786\"],[0.5555555555555556,\"#d8576b\"],[0.6666666666666666,\"#ed7953\"],[0.7777777777777778,\"#fb9f3a\"],[0.8888888888888888,\"#fdca26\"],[1.0,\"#f0f921\"]],\"type\":\"contour\"}],\"contourcarpet\":[{\"colorbar\":{\"outlinewidth\":0,\"ticks\":\"\"},\"type\":\"contourcarpet\"}],\"heatmap\":[{\"colorbar\":{\"outlinewidth\":0,\"ticks\":\"\"},\"colorscale\":[[0.0,\"#0d0887\"],[0.1111111111111111,\"#46039f\"],[0.2222222222222222,\"#7201a8\"],[0.3333333333333333,\"#9c179e\"],[0.4444444444444444,\"#bd3786\"],[0.5555555555555556,\"#d8576b\"],[0.6666666666666666,\"#ed7953\"],[0.7777777777777778,\"#fb9f3a\"],[0.8888888888888888,\"#fdca26\"],[1.0,\"#f0f921\"]],\"type\":\"heatmap\"}],\"heatmapgl\":[{\"colorbar\":{\"outlinewidth\":0,\"ticks\":\"\"},\"colorscale\":[[0.0,\"#0d0887\"],[0.1111111111111111,\"#46039f\"],[0.2222222222222222,\"#7201a8\"],[0.3333333333333333,\"#9c179e\"],[0.4444444444444444,\"#bd3786\"],[0.5555555555555556,\"#d8576b\"],[0.6666666666666666,\"#ed7953\"],[0.7777777777777778,\"#fb9f3a\"],[0.8888888888888888,\"#fdca26\"],[1.0,\"#f0f921\"]],\"type\":\"heatmapgl\"}],\"histogram\":[{\"marker\":{\"pattern\":{\"fillmode\":\"overlay\",\"size\":10,\"solidity\":0.2}},\"type\":\"histogram\"}],\"histogram2d\":[{\"colorbar\":{\"outlinewidth\":0,\"ticks\":\"\"},\"colorscale\":[[0.0,\"#0d0887\"],[0.1111111111111111,\"#46039f\"],[0.2222222222222222,\"#7201a8\"],[0.3333333333333333,\"#9c179e\"],[0.4444444444444444,\"#bd3786\"],[0.5555555555555556,\"#d8576b\"],[0.6666666666666666,\"#ed7953\"],[0.7777777777777778,\"#fb9f3a\"],[0.8888888888888888,\"#fdca26\"],[1.0,\"#f0f921\"]],\"type\":\"histogram2d\"}],\"histogram2dcontour\":[{\"colorbar\":{\"outlinewidth\":0,\"ticks\":\"\"},\"colorscale\":[[0.0,\"#0d0887\"],[0.1111111111111111,\"#46039f\"],[0.2222222222222222,\"#7201a8\"],[0.3333333333333333,\"#9c179e\"],[0.4444444444444444,\"#bd3786\"],[0.5555555555555556,\"#d8576b\"],[0.6666666666666666,\"#ed7953\"],[0.7777777777777778,\"#fb9f3a\"],[0.8888888888888888,\"#fdca26\"],[1.0,\"#f0f921\"]],\"type\":\"histogram2dcontour\"}],\"mesh3d\":[{\"colorbar\":{\"outlinewidth\":0,\"ticks\":\"\"},\"type\":\"mesh3d\"}],\"parcoords\":[{\"line\":{\"colorbar\":{\"outlinewidth\":0,\"ticks\":\"\"}},\"type\":\"parcoords\"}],\"pie\":[{\"automargin\":true,\"type\":\"pie\"}],\"scatter\":[{\"marker\":{\"colorbar\":{\"outlinewidth\":0,\"ticks\":\"\"}},\"type\":\"scatter\"}],\"scatter3d\":[{\"line\":{\"colorbar\":{\"outlinewidth\":0,\"ticks\":\"\"}},\"marker\":{\"colorbar\":{\"outlinewidth\":0,\"ticks\":\"\"}},\"type\":\"scatter3d\"}],\"scattercarpet\":[{\"marker\":{\"colorbar\":{\"outlinewidth\":0,\"ticks\":\"\"}},\"type\":\"scattercarpet\"}],\"scattergeo\":[{\"marker\":{\"colorbar\":{\"outlinewidth\":0,\"ticks\":\"\"}},\"type\":\"scattergeo\"}],\"scattergl\":[{\"marker\":{\"colorbar\":{\"outlinewidth\":0,\"ticks\":\"\"}},\"type\":\"scattergl\"}],\"scattermapbox\":[{\"marker\":{\"colorbar\":{\"outlinewidth\":0,\"ticks\":\"\"}},\"type\":\"scattermapbox\"}],\"scatterpolar\":[{\"marker\":{\"colorbar\":{\"outlinewidth\":0,\"ticks\":\"\"}},\"type\":\"scatterpolar\"}],\"scatterpolargl\":[{\"marker\":{\"colorbar\":{\"outlinewidth\":0,\"ticks\":\"\"}},\"type\":\"scatterpolargl\"}],\"scatterternary\":[{\"marker\":{\"colorbar\":{\"outlinewidth\":0,\"ticks\":\"\"}},\"type\":\"scatterternary\"}],\"surface\":[{\"colorbar\":{\"outlinewidth\":0,\"ticks\":\"\"},\"colorscale\":[[0.0,\"#0d0887\"],[0.1111111111111111,\"#46039f\"],[0.2222222222222222,\"#7201a8\"],[0.3333333333333333,\"#9c179e\"],[0.4444444444444444,\"#bd3786\"],[0.5555555555555556,\"#d8576b\"],[0.6666666666666666,\"#ed7953\"],[0.7777777777777778,\"#fb9f3a\"],[0.8888888888888888,\"#fdca26\"],[1.0,\"#f0f921\"]],\"type\":\"surface\"}],\"table\":[{\"cells\":{\"fill\":{\"color\":\"#EBF0F8\"},\"line\":{\"color\":\"white\"}},\"header\":{\"fill\":{\"color\":\"#C8D4E3\"},\"line\":{\"color\":\"white\"}},\"type\":\"table\"}]},\"layout\":{\"annotationdefaults\":{\"arrowcolor\":\"#2a3f5f\",\"arrowhead\":0,\"arrowwidth\":1},\"autotypenumbers\":\"strict\",\"coloraxis\":{\"colorbar\":{\"outlinewidth\":0,\"ticks\":\"\"}},\"colorscale\":{\"diverging\":[[0,\"#8e0152\"],[0.1,\"#c51b7d\"],[0.2,\"#de77ae\"],[0.3,\"#f1b6da\"],[0.4,\"#fde0ef\"],[0.5,\"#f7f7f7\"],[0.6,\"#e6f5d0\"],[0.7,\"#b8e186\"],[0.8,\"#7fbc41\"],[0.9,\"#4d9221\"],[1,\"#276419\"]],\"sequential\":[[0.0,\"#0d0887\"],[0.1111111111111111,\"#46039f\"],[0.2222222222222222,\"#7201a8\"],[0.3333333333333333,\"#9c179e\"],[0.4444444444444444,\"#bd3786\"],[0.5555555555555556,\"#d8576b\"],[0.6666666666666666,\"#ed7953\"],[0.7777777777777778,\"#fb9f3a\"],[0.8888888888888888,\"#fdca26\"],[1.0,\"#f0f921\"]],\"sequentialminus\":[[0.0,\"#0d0887\"],[0.1111111111111111,\"#46039f\"],[0.2222222222222222,\"#7201a8\"],[0.3333333333333333,\"#9c179e\"],[0.4444444444444444,\"#bd3786\"],[0.5555555555555556,\"#d8576b\"],[0.6666666666666666,\"#ed7953\"],[0.7777777777777778,\"#fb9f3a\"],[0.8888888888888888,\"#fdca26\"],[1.0,\"#f0f921\"]]},\"colorway\":[\"#636efa\",\"#EF553B\",\"#00cc96\",\"#ab63fa\",\"#FFA15A\",\"#19d3f3\",\"#FF6692\",\"#B6E880\",\"#FF97FF\",\"#FECB52\"],\"font\":{\"color\":\"#2a3f5f\"},\"geo\":{\"bgcolor\":\"white\",\"lakecolor\":\"white\",\"landcolor\":\"#E5ECF6\",\"showlakes\":true,\"showland\":true,\"subunitcolor\":\"white\"},\"hoverlabel\":{\"align\":\"left\"},\"hovermode\":\"closest\",\"mapbox\":{\"style\":\"light\"},\"paper_bgcolor\":\"white\",\"plot_bgcolor\":\"#E5ECF6\",\"polar\":{\"angularaxis\":{\"gridcolor\":\"white\",\"linecolor\":\"white\",\"ticks\":\"\"},\"bgcolor\":\"#E5ECF6\",\"radialaxis\":{\"gridcolor\":\"white\",\"linecolor\":\"white\",\"ticks\":\"\"}},\"scene\":{\"xaxis\":{\"backgroundcolor\":\"#E5ECF6\",\"gridcolor\":\"white\",\"gridwidth\":2,\"linecolor\":\"white\",\"showbackground\":true,\"ticks\":\"\",\"zerolinecolor\":\"white\"},\"yaxis\":{\"backgroundcolor\":\"#E5ECF6\",\"gridcolor\":\"white\",\"gridwidth\":2,\"linecolor\":\"white\",\"showbackground\":true,\"ticks\":\"\",\"zerolinecolor\":\"white\"},\"zaxis\":{\"backgroundcolor\":\"#E5ECF6\",\"gridcolor\":\"white\",\"gridwidth\":2,\"linecolor\":\"white\",\"showbackground\":true,\"ticks\":\"\",\"zerolinecolor\":\"white\"}},\"shapedefaults\":{\"line\":{\"color\":\"#2a3f5f\"}},\"ternary\":{\"aaxis\":{\"gridcolor\":\"white\",\"linecolor\":\"white\",\"ticks\":\"\"},\"baxis\":{\"gridcolor\":\"white\",\"linecolor\":\"white\",\"ticks\":\"\"},\"bgcolor\":\"#E5ECF6\",\"caxis\":{\"gridcolor\":\"white\",\"linecolor\":\"white\",\"ticks\":\"\"}},\"title\":{\"x\":0.05},\"xaxis\":{\"automargin\":true,\"gridcolor\":\"white\",\"linecolor\":\"white\",\"ticks\":\"\",\"title\":{\"standoff\":15},\"zerolinecolor\":\"white\",\"zerolinewidth\":2},\"yaxis\":{\"automargin\":true,\"gridcolor\":\"white\",\"linecolor\":\"white\",\"ticks\":\"\",\"title\":{\"standoff\":15},\"zerolinecolor\":\"white\",\"zerolinewidth\":2}}},\"legend\":{\"tracegroupgap\":0},\"margin\":{\"t\":60}},                        {\"responsive\": true}                    ).then(function(){\n",
       "                            \n",
       "var gd = document.getElementById('3027bcc0-91c0-4e8a-bd58-806c9b30e7fe');\n",
       "var x = new MutationObserver(function (mutations, observer) {{\n",
       "        var display = window.getComputedStyle(gd).display;\n",
       "        if (!display || display === 'none') {{\n",
       "            console.log([gd, 'removed!']);\n",
       "            Plotly.purge(gd);\n",
       "            observer.disconnect();\n",
       "        }}\n",
       "}});\n",
       "\n",
       "// Listen for the removal of the full notebook cells\n",
       "var notebookContainer = gd.closest('#notebook-container');\n",
       "if (notebookContainer) {{\n",
       "    x.observe(notebookContainer, {childList: true});\n",
       "}}\n",
       "\n",
       "// Listen for the clearing of the current output cell\n",
       "var outputEl = gd.closest('.output');\n",
       "if (outputEl) {{\n",
       "    x.observe(outputEl, {childList: true});\n",
       "}}\n",
       "\n",
       "                        })                };                });            </script>        </div>"
      ]
     },
     "metadata": {},
     "output_type": "display_data"
    }
   ],
   "source": [
    "top_con_list = ['United States', 'India', 'United Kingdom', 'Canada', 'Japan']\n",
    "\n",
    "for i in top_con_list:\n",
    "    print(\"Content for\",i,end=(''))\n",
    "    fig = px.treemap(netflix_country[netflix_country['country']==i], path=['country','type','genre_main','target_ages'],\n",
    "                      color='target_ages', hover_data=['target_ages'])\n",
    "    fig.show()\n",
    "\n"
   ]
  },
  {
   "cell_type": "code",
   "execution_count": null,
   "id": "e1a0324d",
   "metadata": {},
   "outputs": [],
   "source": []
  },
  {
   "cell_type": "code",
   "execution_count": null,
   "id": "e4af3829",
   "metadata": {},
   "outputs": [],
   "source": []
  },
  {
   "cell_type": "code",
   "execution_count": null,
   "id": "c6fbcb2d",
   "metadata": {},
   "outputs": [],
   "source": []
  },
  {
   "cell_type": "code",
   "execution_count": null,
   "id": "cdff9417",
   "metadata": {},
   "outputs": [],
   "source": []
  },
  {
   "cell_type": "code",
   "execution_count": null,
   "id": "fa64fd66",
   "metadata": {},
   "outputs": [],
   "source": []
  },
  {
   "cell_type": "code",
   "execution_count": null,
   "id": "f2fa4f84",
   "metadata": {},
   "outputs": [],
   "source": []
  },
  {
   "cell_type": "code",
   "execution_count": null,
   "id": "25a03caa",
   "metadata": {},
   "outputs": [],
   "source": []
  },
  {
   "cell_type": "code",
   "execution_count": null,
   "id": "e9ff167d",
   "metadata": {},
   "outputs": [],
   "source": []
  },
  {
   "cell_type": "code",
   "execution_count": null,
   "id": "49f9a3f4",
   "metadata": {},
   "outputs": [],
   "source": []
  },
  {
   "cell_type": "code",
   "execution_count": null,
   "id": "088c61b8",
   "metadata": {},
   "outputs": [],
   "source": []
  },
  {
   "cell_type": "code",
   "execution_count": null,
   "id": "aa935391",
   "metadata": {},
   "outputs": [],
   "source": []
  },
  {
   "cell_type": "code",
   "execution_count": null,
   "id": "366ebb61",
   "metadata": {},
   "outputs": [],
   "source": []
  },
  {
   "cell_type": "code",
   "execution_count": null,
   "id": "2574393b",
   "metadata": {},
   "outputs": [],
   "source": []
  },
  {
   "cell_type": "code",
   "execution_count": null,
   "id": "a1a0598b",
   "metadata": {},
   "outputs": [],
   "source": []
  },
  {
   "cell_type": "code",
   "execution_count": 69,
   "id": "27994fc9",
   "metadata": {
    "ExecuteTime": {
     "end_time": "2022-07-12T20:35:45.937952Z",
     "start_time": "2022-07-12T20:35:45.925950Z"
    }
   },
   "outputs": [],
   "source": [
    "# let's see how any movies and TV shows we have\n",
    "netflix_movies = netflix[netflix[\"type\"] == \"Movie\"]\n",
    "netflix_tv_shows = netflix[netflix[\"type\"] == \"TV Show\"]"
   ]
  },
  {
   "cell_type": "code",
   "execution_count": null,
   "id": "aa46dd10",
   "metadata": {},
   "outputs": [],
   "source": []
  },
  {
   "cell_type": "code",
   "execution_count": null,
   "id": "d41e902a",
   "metadata": {},
   "outputs": [],
   "source": []
  },
  {
   "cell_type": "code",
   "execution_count": null,
   "id": "02d2bd65",
   "metadata": {},
   "outputs": [],
   "source": []
  },
  {
   "cell_type": "code",
   "execution_count": null,
   "id": "9a9e2831",
   "metadata": {},
   "outputs": [],
   "source": []
  },
  {
   "cell_type": "code",
   "execution_count": null,
   "id": "ea55793b",
   "metadata": {},
   "outputs": [],
   "source": []
  },
  {
   "cell_type": "code",
   "execution_count": null,
   "id": "22e17bc2",
   "metadata": {},
   "outputs": [],
   "source": []
  },
  {
   "cell_type": "code",
   "execution_count": null,
   "id": "12ec4198",
   "metadata": {},
   "outputs": [],
   "source": []
  },
  {
   "cell_type": "code",
   "execution_count": null,
   "id": "8010b0f4",
   "metadata": {},
   "outputs": [],
   "source": []
  }
 ],
 "metadata": {
  "kernelspec": {
   "display_name": "Python 3 (ipykernel)",
   "language": "python",
   "name": "python3"
  },
  "language_info": {
   "codemirror_mode": {
    "name": "ipython",
    "version": 3
   },
   "file_extension": ".py",
   "mimetype": "text/x-python",
   "name": "python",
   "nbconvert_exporter": "python",
   "pygments_lexer": "ipython3",
   "version": "3.8.8"
  },
  "varInspector": {
   "cols": {
    "lenName": 16,
    "lenType": 16,
    "lenVar": 40
   },
   "kernels_config": {
    "python": {
     "delete_cmd_postfix": "",
     "delete_cmd_prefix": "del ",
     "library": "var_list.py",
     "varRefreshCmd": "print(var_dic_list())"
    },
    "r": {
     "delete_cmd_postfix": ") ",
     "delete_cmd_prefix": "rm(",
     "library": "var_list.r",
     "varRefreshCmd": "cat(var_dic_list()) "
    }
   },
   "types_to_exclude": [
    "module",
    "function",
    "builtin_function_or_method",
    "instance",
    "_Feature"
   ],
   "window_display": false
  }
 },
 "nbformat": 4,
 "nbformat_minor": 5
}
