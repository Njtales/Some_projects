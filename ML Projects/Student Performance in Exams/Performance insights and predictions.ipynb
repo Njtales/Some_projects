{
 "cells": [
  {
   "cell_type": "markdown",
   "id": "f9a263fb",
   "metadata": {},
   "source": [
    "# Student Performance in Exams\n",
    "\n",
    "<img src='https://c.tenor.com/Yu3V6PJCMVUAAAAd/exam-mr-bean.gif'>"
   ]
  },
  {
   "cell_type": "markdown",
   "id": "d40b85c3",
   "metadata": {
    "ExecuteTime": {
     "end_time": "2022-07-15T13:39:15.131910Z",
     "start_time": "2022-07-15T13:39:15.115909Z"
    }
   },
   "source": [
    "**Ahh, exams again.** <br>"
   ]
  },
  {
   "cell_type": "markdown",
   "id": "d9b54da9",
   "metadata": {},
   "source": [
    "## Context\n",
    "This dataset is taken form the [source](http://roycekimmons.com/tools/generated_data/exams)<br>\n",
    "This data set consists of the marks secured by the students in various subjects."
   ]
  },
  {
   "cell_type": "markdown",
   "id": "aa4fcbf4",
   "metadata": {
    "ExecuteTime": {
     "end_time": "2022-07-15T13:42:52.760036Z",
     "start_time": "2022-07-15T13:42:52.744035Z"
    }
   },
   "source": [
    "## Insights would be:<br>\n",
    "How effective is the test preparation course?<br>\n",
    "Which major factors contribute to test outcomes?<br>\n",
    "What would be the best way to improve student scores on each test?<br>"
   ]
  },
  {
   "cell_type": "markdown",
   "id": "2d543b62",
   "metadata": {},
   "source": [
    "### Let's have a look at the data"
   ]
  },
  {
   "cell_type": "code",
   "execution_count": 18,
   "id": "e4b0b9db",
   "metadata": {
    "ExecuteTime": {
     "end_time": "2022-07-15T15:47:58.026719Z",
     "start_time": "2022-07-15T15:47:58.016746Z"
    }
   },
   "outputs": [],
   "source": [
    "# import libraries\n",
    "import os\n",
    "import pandas as pd\n",
    "import numpy as np\n",
    "import seaborn as sns\n",
    "\n",
    "%matplotlib inline\n",
    "import matplotlib.pyplot as plt\n",
    "import plotly.express as px"
   ]
  },
  {
   "cell_type": "code",
   "execution_count": 19,
   "id": "d3ef0a3a",
   "metadata": {
    "ExecuteTime": {
     "end_time": "2022-07-15T15:47:58.043444Z",
     "start_time": "2022-07-15T15:47:58.027823Z"
    }
   },
   "outputs": [
    {
     "data": {
      "text/html": [
       "<div>\n",
       "<style scoped>\n",
       "    .dataframe tbody tr th:only-of-type {\n",
       "        vertical-align: middle;\n",
       "    }\n",
       "\n",
       "    .dataframe tbody tr th {\n",
       "        vertical-align: top;\n",
       "    }\n",
       "\n",
       "    .dataframe thead th {\n",
       "        text-align: right;\n",
       "    }\n",
       "</style>\n",
       "<table border=\"1\" class=\"dataframe\">\n",
       "  <thead>\n",
       "    <tr style=\"text-align: right;\">\n",
       "      <th></th>\n",
       "      <th>gender</th>\n",
       "      <th>race/ethnicity</th>\n",
       "      <th>parental level of education</th>\n",
       "      <th>lunch</th>\n",
       "      <th>test preparation course</th>\n",
       "      <th>math score</th>\n",
       "      <th>reading score</th>\n",
       "      <th>writing score</th>\n",
       "    </tr>\n",
       "  </thead>\n",
       "  <tbody>\n",
       "    <tr>\n",
       "      <th>0</th>\n",
       "      <td>female</td>\n",
       "      <td>group B</td>\n",
       "      <td>bachelor's degree</td>\n",
       "      <td>standard</td>\n",
       "      <td>none</td>\n",
       "      <td>72</td>\n",
       "      <td>72</td>\n",
       "      <td>74</td>\n",
       "    </tr>\n",
       "    <tr>\n",
       "      <th>1</th>\n",
       "      <td>female</td>\n",
       "      <td>group C</td>\n",
       "      <td>some college</td>\n",
       "      <td>standard</td>\n",
       "      <td>completed</td>\n",
       "      <td>69</td>\n",
       "      <td>90</td>\n",
       "      <td>88</td>\n",
       "    </tr>\n",
       "    <tr>\n",
       "      <th>2</th>\n",
       "      <td>female</td>\n",
       "      <td>group B</td>\n",
       "      <td>master's degree</td>\n",
       "      <td>standard</td>\n",
       "      <td>none</td>\n",
       "      <td>90</td>\n",
       "      <td>95</td>\n",
       "      <td>93</td>\n",
       "    </tr>\n",
       "    <tr>\n",
       "      <th>3</th>\n",
       "      <td>male</td>\n",
       "      <td>group A</td>\n",
       "      <td>associate's degree</td>\n",
       "      <td>free/reduced</td>\n",
       "      <td>none</td>\n",
       "      <td>47</td>\n",
       "      <td>57</td>\n",
       "      <td>44</td>\n",
       "    </tr>\n",
       "    <tr>\n",
       "      <th>4</th>\n",
       "      <td>male</td>\n",
       "      <td>group C</td>\n",
       "      <td>some college</td>\n",
       "      <td>standard</td>\n",
       "      <td>none</td>\n",
       "      <td>76</td>\n",
       "      <td>78</td>\n",
       "      <td>75</td>\n",
       "    </tr>\n",
       "  </tbody>\n",
       "</table>\n",
       "</div>"
      ],
      "text/plain": [
       "   gender race/ethnicity parental level of education         lunch  \\\n",
       "0  female        group B           bachelor's degree      standard   \n",
       "1  female        group C                some college      standard   \n",
       "2  female        group B             master's degree      standard   \n",
       "3    male        group A          associate's degree  free/reduced   \n",
       "4    male        group C                some college      standard   \n",
       "\n",
       "  test preparation course  math score  reading score  writing score  \n",
       "0                    none          72             72             74  \n",
       "1               completed          69             90             88  \n",
       "2                    none          90             95             93  \n",
       "3                    none          47             57             44  \n",
       "4                    none          76             78             75  "
      ]
     },
     "execution_count": 19,
     "metadata": {},
     "output_type": "execute_result"
    }
   ],
   "source": [
    "data = pd.read_csv('dataset/exams.csv')\n",
    "data.head()"
   ]
  },
  {
   "cell_type": "markdown",
   "id": "06cd5931",
   "metadata": {},
   "source": [
    "So, the names of column explains pretty much about the data.<br>\n",
    "Let's check for null values and overview of data.<br>"
   ]
  },
  {
   "cell_type": "code",
   "execution_count": 20,
   "id": "7107f3be",
   "metadata": {
    "ExecuteTime": {
     "end_time": "2022-07-15T15:47:58.058775Z",
     "start_time": "2022-07-15T15:47:58.044779Z"
    }
   },
   "outputs": [
    {
     "name": "stdout",
     "output_type": "stream",
     "text": [
      "We have  8  columns with  1000  rows in the dataset\n"
     ]
    }
   ],
   "source": [
    "print(\"We have \",data.shape[1],\" columns with \",data.shape[0],\" rows in the dataset\")"
   ]
  },
  {
   "cell_type": "code",
   "execution_count": 21,
   "id": "9348efd9",
   "metadata": {
    "ExecuteTime": {
     "end_time": "2022-07-15T15:47:58.074732Z",
     "start_time": "2022-07-15T15:47:58.060764Z"
    }
   },
   "outputs": [
    {
     "name": "stdout",
     "output_type": "stream",
     "text": [
      "<class 'pandas.core.frame.DataFrame'>\n",
      "RangeIndex: 1000 entries, 0 to 999\n",
      "Data columns (total 8 columns):\n",
      " #   Column                       Non-Null Count  Dtype \n",
      "---  ------                       --------------  ----- \n",
      " 0   gender                       1000 non-null   object\n",
      " 1   race/ethnicity               1000 non-null   object\n",
      " 2   parental level of education  1000 non-null   object\n",
      " 3   lunch                        1000 non-null   object\n",
      " 4   test preparation course      1000 non-null   object\n",
      " 5   math score                   1000 non-null   int64 \n",
      " 6   reading score                1000 non-null   int64 \n",
      " 7   writing score                1000 non-null   int64 \n",
      "dtypes: int64(3), object(5)\n",
      "memory usage: 62.6+ KB\n"
     ]
    }
   ],
   "source": [
    "data.info()"
   ]
  },
  {
   "cell_type": "code",
   "execution_count": 22,
   "id": "84192d5e",
   "metadata": {
    "ExecuteTime": {
     "end_time": "2022-07-15T15:47:58.090683Z",
     "start_time": "2022-07-15T15:47:58.075697Z"
    }
   },
   "outputs": [
    {
     "data": {
      "text/plain": [
       "Index(['gender', 'race/ethnicity', 'parental level of education', 'lunch'], dtype='object')"
      ]
     },
     "execution_count": 22,
     "metadata": {},
     "output_type": "execute_result"
    }
   ],
   "source": [
    "# display categorical variables in dataset\n",
    "data.columns[:4]"
   ]
  },
  {
   "cell_type": "code",
   "execution_count": 23,
   "id": "68a19605",
   "metadata": {
    "ExecuteTime": {
     "end_time": "2022-07-15T15:47:58.106613Z",
     "start_time": "2022-07-15T15:47:58.091654Z"
    }
   },
   "outputs": [
    {
     "data": {
      "text/plain": [
       "gender                         0\n",
       "race/ethnicity                 0\n",
       "parental level of education    0\n",
       "lunch                          0\n",
       "test preparation course        0\n",
       "math score                     0\n",
       "reading score                  0\n",
       "writing score                  0\n",
       "dtype: int64"
      ]
     },
     "execution_count": 23,
     "metadata": {},
     "output_type": "execute_result"
    }
   ],
   "source": [
    "# checking null values\n",
    "data.isna().sum()"
   ]
  },
  {
   "cell_type": "markdown",
   "id": "6f196ab4",
   "metadata": {},
   "source": [
    "Wow, no missing values!"
   ]
  },
  {
   "cell_type": "code",
   "execution_count": 24,
   "id": "c3d3b7fb",
   "metadata": {
    "ExecuteTime": {
     "end_time": "2022-07-15T15:47:58.170442Z",
     "start_time": "2022-07-15T15:47:58.107611Z"
    }
   },
   "outputs": [
    {
     "data": {
      "application/vnd.plotly.v1+json": {
       "config": {
        "plotlyServerURL": "https://plot.ly"
       },
       "data": [
        {
         "alignmentgroup": "True",
         "bingroup": "x",
         "hovertemplate": "gender=%{x}<br>count=%{y}<extra></extra>",
         "legendgroup": "",
         "marker": {
          "color": "#636efa",
          "pattern": {
           "shape": ""
          }
         },
         "name": "",
         "offsetgroup": "",
         "orientation": "v",
         "showlegend": false,
         "textposition": "outside",
         "texttemplate": "%{value}",
         "type": "histogram",
         "x": [
          "female",
          "female",
          "female",
          "male",
          "male",
          "female",
          "female",
          "male",
          "male",
          "female",
          "male",
          "male",
          "female",
          "male",
          "female",
          "female",
          "male",
          "female",
          "male",
          "female",
          "male",
          "female",
          "male",
          "female",
          "male",
          "male",
          "male",
          "female",
          "male",
          "female",
          "female",
          "female",
          "female",
          "male",
          "male",
          "male",
          "female",
          "female",
          "female",
          "male",
          "male",
          "female",
          "female",
          "male",
          "female",
          "male",
          "female",
          "female",
          "female",
          "male",
          "male",
          "male",
          "male",
          "male",
          "female",
          "female",
          "female",
          "male",
          "male",
          "female",
          "male",
          "male",
          "male",
          "female",
          "female",
          "male",
          "male",
          "female",
          "male",
          "female",
          "female",
          "male",
          "female",
          "male",
          "male",
          "male",
          "male",
          "male",
          "female",
          "female",
          "female",
          "male",
          "male",
          "male",
          "male",
          "female",
          "female",
          "female",
          "female",
          "female",
          "female",
          "male",
          "male",
          "male",
          "female",
          "male",
          "male",
          "female",
          "female",
          "female",
          "male",
          "male",
          "female",
          "male",
          "male",
          "female",
          "female",
          "male",
          "female",
          "female",
          "female",
          "male",
          "male",
          "female",
          "female",
          "male",
          "female",
          "female",
          "female",
          "female",
          "female",
          "male",
          "female",
          "male",
          "male",
          "female",
          "male",
          "male",
          "male",
          "female",
          "male",
          "male",
          "male",
          "female",
          "male",
          "male",
          "male",
          "male",
          "female",
          "male",
          "female",
          "female",
          "female",
          "male",
          "male",
          "female",
          "male",
          "male",
          "female",
          "male",
          "male",
          "male",
          "female",
          "male",
          "male",
          "female",
          "female",
          "male",
          "female",
          "male",
          "male",
          "female",
          "male",
          "male",
          "female",
          "female",
          "male",
          "female",
          "female",
          "female",
          "male",
          "male",
          "female",
          "female",
          "female",
          "female",
          "female",
          "female",
          "female",
          "female",
          "male",
          "female",
          "female",
          "female",
          "male",
          "male",
          "male",
          "male",
          "male",
          "female",
          "female",
          "male",
          "female",
          "male",
          "female",
          "male",
          "male",
          "male",
          "female",
          "female",
          "female",
          "female",
          "male",
          "female",
          "male",
          "male",
          "male",
          "male",
          "female",
          "female",
          "male",
          "male",
          "female",
          "male",
          "male",
          "male",
          "female",
          "female",
          "male",
          "male",
          "female",
          "male",
          "female",
          "male",
          "female",
          "female",
          "female",
          "male",
          "male",
          "female",
          "male",
          "male",
          "female",
          "male",
          "male",
          "male",
          "male",
          "female",
          "male",
          "male",
          "male",
          "female",
          "female",
          "male",
          "male",
          "male",
          "male",
          "female",
          "female",
          "male",
          "male",
          "female",
          "female",
          "male",
          "male",
          "female",
          "female",
          "male",
          "female",
          "female",
          "female",
          "male",
          "female",
          "female",
          "male",
          "male",
          "female",
          "female",
          "female",
          "female",
          "male",
          "male",
          "female",
          "female",
          "male",
          "male",
          "female",
          "female",
          "female",
          "male",
          "male",
          "male",
          "female",
          "female",
          "female",
          "male",
          "male",
          "female",
          "male",
          "male",
          "male",
          "male",
          "male",
          "female",
          "male",
          "male",
          "male",
          "male",
          "male",
          "male",
          "male",
          "male",
          "female",
          "male",
          "female",
          "male",
          "male",
          "male",
          "female",
          "female",
          "female",
          "male",
          "male",
          "female",
          "female",
          "male",
          "female",
          "male",
          "male",
          "female",
          "female",
          "female",
          "female",
          "female",
          "female",
          "female",
          "male",
          "male",
          "male",
          "female",
          "male",
          "male",
          "male",
          "male",
          "female",
          "female",
          "male",
          "male",
          "female",
          "female",
          "male",
          "female",
          "female",
          "male",
          "male",
          "female",
          "male",
          "female",
          "male",
          "male",
          "female",
          "male",
          "female",
          "female",
          "female",
          "female",
          "male",
          "female",
          "male",
          "female",
          "female",
          "male",
          "female",
          "female",
          "male",
          "male",
          "male",
          "male",
          "female",
          "female",
          "male",
          "female",
          "male",
          "female",
          "female",
          "male",
          "female",
          "female",
          "female",
          "male",
          "female",
          "male",
          "male",
          "female",
          "female",
          "female",
          "female",
          "female",
          "female",
          "male",
          "male",
          "female",
          "male",
          "male",
          "female",
          "male",
          "female",
          "female",
          "male",
          "male",
          "female",
          "male",
          "female",
          "female",
          "female",
          "female",
          "male",
          "female",
          "female",
          "male",
          "female",
          "male",
          "male",
          "male",
          "female",
          "male",
          "male",
          "male",
          "male",
          "male",
          "female",
          "female",
          "female",
          "female",
          "male",
          "female",
          "male",
          "male",
          "male",
          "male",
          "male",
          "female",
          "male",
          "female",
          "male",
          "male",
          "male",
          "male",
          "male",
          "male",
          "female",
          "female",
          "female",
          "female",
          "male",
          "female",
          "male",
          "male",
          "male",
          "male",
          "female",
          "female",
          "female",
          "male",
          "female",
          "male",
          "female",
          "male",
          "female",
          "male",
          "male",
          "male",
          "female",
          "female",
          "male",
          "female",
          "female",
          "male",
          "female",
          "male",
          "female",
          "female",
          "female",
          "female",
          "female",
          "female",
          "male",
          "male",
          "female",
          "male",
          "male",
          "female",
          "male",
          "male",
          "female",
          "male",
          "male",
          "female",
          "male",
          "male",
          "female",
          "female",
          "female",
          "female",
          "female",
          "male",
          "female",
          "female",
          "female",
          "male",
          "female",
          "female",
          "male",
          "female",
          "female",
          "female",
          "male",
          "male",
          "male",
          "female",
          "male",
          "male",
          "male",
          "female",
          "female",
          "female",
          "female",
          "female",
          "female",
          "female",
          "male",
          "female",
          "male",
          "male",
          "male",
          "male",
          "male",
          "female",
          "female",
          "female",
          "female",
          "female",
          "male",
          "female",
          "male",
          "female",
          "male",
          "female",
          "male",
          "male",
          "male",
          "male",
          "female",
          "female",
          "female",
          "male",
          "female",
          "male",
          "female",
          "male",
          "male",
          "male",
          "female",
          "male",
          "male",
          "female",
          "female",
          "male",
          "female",
          "male",
          "female",
          "female",
          "male",
          "female",
          "male",
          "male",
          "female",
          "female",
          "male",
          "male",
          "male",
          "male",
          "female",
          "female",
          "female",
          "male",
          "male",
          "female",
          "female",
          "female",
          "female",
          "female",
          "female",
          "female",
          "female",
          "female",
          "female",
          "female",
          "female",
          "female",
          "male",
          "male",
          "male",
          "female",
          "female",
          "female",
          "male",
          "male",
          "female",
          "female",
          "female",
          "female",
          "female",
          "male",
          "male",
          "male",
          "female",
          "female",
          "female",
          "female",
          "male",
          "female",
          "male",
          "female",
          "female",
          "female",
          "female",
          "male",
          "male",
          "male",
          "female",
          "male",
          "male",
          "male",
          "female",
          "male",
          "male",
          "male",
          "male",
          "female",
          "male",
          "male",
          "female",
          "female",
          "male",
          "male",
          "female",
          "female",
          "male",
          "female",
          "male",
          "female",
          "female",
          "female",
          "male",
          "female",
          "female",
          "female",
          "female",
          "female",
          "male",
          "female",
          "female",
          "female",
          "female",
          "female",
          "male",
          "male",
          "female",
          "male",
          "male",
          "male",
          "female",
          "female",
          "male",
          "female",
          "female",
          "female",
          "male",
          "male",
          "female",
          "male",
          "female",
          "female",
          "female",
          "female",
          "female",
          "female",
          "male",
          "male",
          "female",
          "male",
          "male",
          "female",
          "male",
          "female",
          "male",
          "male",
          "male",
          "male",
          "female",
          "female",
          "female",
          "female",
          "female",
          "female",
          "female",
          "female",
          "female",
          "male",
          "female",
          "female",
          "male",
          "female",
          "female",
          "male",
          "male",
          "male",
          "male",
          "female",
          "male",
          "female",
          "female",
          "male",
          "female",
          "female",
          "male",
          "female",
          "female",
          "male",
          "female",
          "male",
          "female",
          "male",
          "male",
          "male",
          "female",
          "male",
          "female",
          "male",
          "female",
          "male",
          "female",
          "male",
          "female",
          "male",
          "male",
          "female",
          "male",
          "male",
          "male",
          "female",
          "female",
          "female",
          "male",
          "male",
          "male",
          "male",
          "female",
          "male",
          "male",
          "male",
          "male",
          "female",
          "male",
          "female",
          "male",
          "male",
          "female",
          "male",
          "female",
          "female",
          "male",
          "female",
          "male",
          "female",
          "female",
          "male",
          "female",
          "male",
          "male",
          "male",
          "female",
          "female",
          "male",
          "female",
          "female",
          "female",
          "female",
          "male",
          "female",
          "female",
          "female",
          "female",
          "male",
          "female",
          "female",
          "female",
          "male",
          "female",
          "female",
          "female",
          "male",
          "male",
          "female",
          "female",
          "male",
          "female",
          "male",
          "female",
          "male",
          "male",
          "female",
          "female",
          "female",
          "male",
          "female",
          "female",
          "male",
          "male",
          "male",
          "male",
          "female",
          "male",
          "female",
          "male",
          "female",
          "male",
          "female",
          "female",
          "female",
          "female",
          "male",
          "female",
          "female",
          "male",
          "female",
          "female",
          "female",
          "male",
          "female",
          "female",
          "male",
          "female",
          "male",
          "female",
          "male",
          "female",
          "male",
          "female",
          "female",
          "male",
          "female",
          "male",
          "female",
          "male",
          "male",
          "male",
          "female",
          "male",
          "male",
          "female",
          "female",
          "male",
          "male",
          "female",
          "male",
          "female",
          "male",
          "male",
          "female",
          "female",
          "male",
          "female",
          "male",
          "male",
          "male",
          "male",
          "male",
          "male",
          "male",
          "female",
          "male",
          "male",
          "female",
          "male",
          "male",
          "male",
          "female",
          "female",
          "male",
          "female",
          "female",
          "male",
          "female",
          "female",
          "female",
          "male",
          "female",
          "male",
          "female",
          "female",
          "female",
          "male",
          "female",
          "female",
          "male",
          "female",
          "male",
          "female",
          "male",
          "female",
          "female",
          "female",
          "female",
          "male",
          "male",
          "female",
          "female",
          "male",
          "male",
          "female",
          "female",
          "female",
          "female",
          "female",
          "male",
          "female",
          "female",
          "male",
          "male",
          "female",
          "male",
          "female",
          "male",
          "male",
          "male",
          "female",
          "male",
          "female",
          "male",
          "male",
          "male",
          "male",
          "male",
          "male",
          "male",
          "female",
          "male",
          "male",
          "male",
          "female",
          "male",
          "male",
          "female",
          "female",
          "male",
          "female",
          "male",
          "female",
          "male",
          "female",
          "female",
          "male",
          "female",
          "male",
          "male",
          "female",
          "female",
          "male",
          "female",
          "female",
          "female",
          "female",
          "male",
          "female",
          "male",
          "male",
          "female",
          "female",
          "female",
          "male",
          "female",
          "female",
          "female",
          "female",
          "male",
          "male",
          "male",
          "female",
          "female",
          "male",
          "male",
          "female",
          "female",
          "male",
          "female",
          "male",
          "female",
          "female",
          "male",
          "female",
          "female",
          "female",
          "male",
          "female",
          "male",
          "female",
          "female",
          "female"
         ],
         "xaxis": "x",
         "yaxis": "y"
        }
       ],
       "layout": {
        "barmode": "relative",
        "legend": {
         "tracegroupgap": 0
        },
        "template": {
         "data": {
          "bar": [
           {
            "error_x": {
             "color": "#2a3f5f"
            },
            "error_y": {
             "color": "#2a3f5f"
            },
            "marker": {
             "line": {
              "color": "#E5ECF6",
              "width": 0.5
             },
             "pattern": {
              "fillmode": "overlay",
              "size": 10,
              "solidity": 0.2
             }
            },
            "type": "bar"
           }
          ],
          "barpolar": [
           {
            "marker": {
             "line": {
              "color": "#E5ECF6",
              "width": 0.5
             },
             "pattern": {
              "fillmode": "overlay",
              "size": 10,
              "solidity": 0.2
             }
            },
            "type": "barpolar"
           }
          ],
          "carpet": [
           {
            "aaxis": {
             "endlinecolor": "#2a3f5f",
             "gridcolor": "white",
             "linecolor": "white",
             "minorgridcolor": "white",
             "startlinecolor": "#2a3f5f"
            },
            "baxis": {
             "endlinecolor": "#2a3f5f",
             "gridcolor": "white",
             "linecolor": "white",
             "minorgridcolor": "white",
             "startlinecolor": "#2a3f5f"
            },
            "type": "carpet"
           }
          ],
          "choropleth": [
           {
            "colorbar": {
             "outlinewidth": 0,
             "ticks": ""
            },
            "type": "choropleth"
           }
          ],
          "contour": [
           {
            "colorbar": {
             "outlinewidth": 0,
             "ticks": ""
            },
            "colorscale": [
             [
              0,
              "#0d0887"
             ],
             [
              0.1111111111111111,
              "#46039f"
             ],
             [
              0.2222222222222222,
              "#7201a8"
             ],
             [
              0.3333333333333333,
              "#9c179e"
             ],
             [
              0.4444444444444444,
              "#bd3786"
             ],
             [
              0.5555555555555556,
              "#d8576b"
             ],
             [
              0.6666666666666666,
              "#ed7953"
             ],
             [
              0.7777777777777778,
              "#fb9f3a"
             ],
             [
              0.8888888888888888,
              "#fdca26"
             ],
             [
              1,
              "#f0f921"
             ]
            ],
            "type": "contour"
           }
          ],
          "contourcarpet": [
           {
            "colorbar": {
             "outlinewidth": 0,
             "ticks": ""
            },
            "type": "contourcarpet"
           }
          ],
          "heatmap": [
           {
            "colorbar": {
             "outlinewidth": 0,
             "ticks": ""
            },
            "colorscale": [
             [
              0,
              "#0d0887"
             ],
             [
              0.1111111111111111,
              "#46039f"
             ],
             [
              0.2222222222222222,
              "#7201a8"
             ],
             [
              0.3333333333333333,
              "#9c179e"
             ],
             [
              0.4444444444444444,
              "#bd3786"
             ],
             [
              0.5555555555555556,
              "#d8576b"
             ],
             [
              0.6666666666666666,
              "#ed7953"
             ],
             [
              0.7777777777777778,
              "#fb9f3a"
             ],
             [
              0.8888888888888888,
              "#fdca26"
             ],
             [
              1,
              "#f0f921"
             ]
            ],
            "type": "heatmap"
           }
          ],
          "heatmapgl": [
           {
            "colorbar": {
             "outlinewidth": 0,
             "ticks": ""
            },
            "colorscale": [
             [
              0,
              "#0d0887"
             ],
             [
              0.1111111111111111,
              "#46039f"
             ],
             [
              0.2222222222222222,
              "#7201a8"
             ],
             [
              0.3333333333333333,
              "#9c179e"
             ],
             [
              0.4444444444444444,
              "#bd3786"
             ],
             [
              0.5555555555555556,
              "#d8576b"
             ],
             [
              0.6666666666666666,
              "#ed7953"
             ],
             [
              0.7777777777777778,
              "#fb9f3a"
             ],
             [
              0.8888888888888888,
              "#fdca26"
             ],
             [
              1,
              "#f0f921"
             ]
            ],
            "type": "heatmapgl"
           }
          ],
          "histogram": [
           {
            "marker": {
             "pattern": {
              "fillmode": "overlay",
              "size": 10,
              "solidity": 0.2
             }
            },
            "type": "histogram"
           }
          ],
          "histogram2d": [
           {
            "colorbar": {
             "outlinewidth": 0,
             "ticks": ""
            },
            "colorscale": [
             [
              0,
              "#0d0887"
             ],
             [
              0.1111111111111111,
              "#46039f"
             ],
             [
              0.2222222222222222,
              "#7201a8"
             ],
             [
              0.3333333333333333,
              "#9c179e"
             ],
             [
              0.4444444444444444,
              "#bd3786"
             ],
             [
              0.5555555555555556,
              "#d8576b"
             ],
             [
              0.6666666666666666,
              "#ed7953"
             ],
             [
              0.7777777777777778,
              "#fb9f3a"
             ],
             [
              0.8888888888888888,
              "#fdca26"
             ],
             [
              1,
              "#f0f921"
             ]
            ],
            "type": "histogram2d"
           }
          ],
          "histogram2dcontour": [
           {
            "colorbar": {
             "outlinewidth": 0,
             "ticks": ""
            },
            "colorscale": [
             [
              0,
              "#0d0887"
             ],
             [
              0.1111111111111111,
              "#46039f"
             ],
             [
              0.2222222222222222,
              "#7201a8"
             ],
             [
              0.3333333333333333,
              "#9c179e"
             ],
             [
              0.4444444444444444,
              "#bd3786"
             ],
             [
              0.5555555555555556,
              "#d8576b"
             ],
             [
              0.6666666666666666,
              "#ed7953"
             ],
             [
              0.7777777777777778,
              "#fb9f3a"
             ],
             [
              0.8888888888888888,
              "#fdca26"
             ],
             [
              1,
              "#f0f921"
             ]
            ],
            "type": "histogram2dcontour"
           }
          ],
          "mesh3d": [
           {
            "colorbar": {
             "outlinewidth": 0,
             "ticks": ""
            },
            "type": "mesh3d"
           }
          ],
          "parcoords": [
           {
            "line": {
             "colorbar": {
              "outlinewidth": 0,
              "ticks": ""
             }
            },
            "type": "parcoords"
           }
          ],
          "pie": [
           {
            "automargin": true,
            "type": "pie"
           }
          ],
          "scatter": [
           {
            "marker": {
             "colorbar": {
              "outlinewidth": 0,
              "ticks": ""
             }
            },
            "type": "scatter"
           }
          ],
          "scatter3d": [
           {
            "line": {
             "colorbar": {
              "outlinewidth": 0,
              "ticks": ""
             }
            },
            "marker": {
             "colorbar": {
              "outlinewidth": 0,
              "ticks": ""
             }
            },
            "type": "scatter3d"
           }
          ],
          "scattercarpet": [
           {
            "marker": {
             "colorbar": {
              "outlinewidth": 0,
              "ticks": ""
             }
            },
            "type": "scattercarpet"
           }
          ],
          "scattergeo": [
           {
            "marker": {
             "colorbar": {
              "outlinewidth": 0,
              "ticks": ""
             }
            },
            "type": "scattergeo"
           }
          ],
          "scattergl": [
           {
            "marker": {
             "colorbar": {
              "outlinewidth": 0,
              "ticks": ""
             }
            },
            "type": "scattergl"
           }
          ],
          "scattermapbox": [
           {
            "marker": {
             "colorbar": {
              "outlinewidth": 0,
              "ticks": ""
             }
            },
            "type": "scattermapbox"
           }
          ],
          "scatterpolar": [
           {
            "marker": {
             "colorbar": {
              "outlinewidth": 0,
              "ticks": ""
             }
            },
            "type": "scatterpolar"
           }
          ],
          "scatterpolargl": [
           {
            "marker": {
             "colorbar": {
              "outlinewidth": 0,
              "ticks": ""
             }
            },
            "type": "scatterpolargl"
           }
          ],
          "scatterternary": [
           {
            "marker": {
             "colorbar": {
              "outlinewidth": 0,
              "ticks": ""
             }
            },
            "type": "scatterternary"
           }
          ],
          "surface": [
           {
            "colorbar": {
             "outlinewidth": 0,
             "ticks": ""
            },
            "colorscale": [
             [
              0,
              "#0d0887"
             ],
             [
              0.1111111111111111,
              "#46039f"
             ],
             [
              0.2222222222222222,
              "#7201a8"
             ],
             [
              0.3333333333333333,
              "#9c179e"
             ],
             [
              0.4444444444444444,
              "#bd3786"
             ],
             [
              0.5555555555555556,
              "#d8576b"
             ],
             [
              0.6666666666666666,
              "#ed7953"
             ],
             [
              0.7777777777777778,
              "#fb9f3a"
             ],
             [
              0.8888888888888888,
              "#fdca26"
             ],
             [
              1,
              "#f0f921"
             ]
            ],
            "type": "surface"
           }
          ],
          "table": [
           {
            "cells": {
             "fill": {
              "color": "#EBF0F8"
             },
             "line": {
              "color": "white"
             }
            },
            "header": {
             "fill": {
              "color": "#C8D4E3"
             },
             "line": {
              "color": "white"
             }
            },
            "type": "table"
           }
          ]
         },
         "layout": {
          "annotationdefaults": {
           "arrowcolor": "#2a3f5f",
           "arrowhead": 0,
           "arrowwidth": 1
          },
          "autotypenumbers": "strict",
          "coloraxis": {
           "colorbar": {
            "outlinewidth": 0,
            "ticks": ""
           }
          },
          "colorscale": {
           "diverging": [
            [
             0,
             "#8e0152"
            ],
            [
             0.1,
             "#c51b7d"
            ],
            [
             0.2,
             "#de77ae"
            ],
            [
             0.3,
             "#f1b6da"
            ],
            [
             0.4,
             "#fde0ef"
            ],
            [
             0.5,
             "#f7f7f7"
            ],
            [
             0.6,
             "#e6f5d0"
            ],
            [
             0.7,
             "#b8e186"
            ],
            [
             0.8,
             "#7fbc41"
            ],
            [
             0.9,
             "#4d9221"
            ],
            [
             1,
             "#276419"
            ]
           ],
           "sequential": [
            [
             0,
             "#0d0887"
            ],
            [
             0.1111111111111111,
             "#46039f"
            ],
            [
             0.2222222222222222,
             "#7201a8"
            ],
            [
             0.3333333333333333,
             "#9c179e"
            ],
            [
             0.4444444444444444,
             "#bd3786"
            ],
            [
             0.5555555555555556,
             "#d8576b"
            ],
            [
             0.6666666666666666,
             "#ed7953"
            ],
            [
             0.7777777777777778,
             "#fb9f3a"
            ],
            [
             0.8888888888888888,
             "#fdca26"
            ],
            [
             1,
             "#f0f921"
            ]
           ],
           "sequentialminus": [
            [
             0,
             "#0d0887"
            ],
            [
             0.1111111111111111,
             "#46039f"
            ],
            [
             0.2222222222222222,
             "#7201a8"
            ],
            [
             0.3333333333333333,
             "#9c179e"
            ],
            [
             0.4444444444444444,
             "#bd3786"
            ],
            [
             0.5555555555555556,
             "#d8576b"
            ],
            [
             0.6666666666666666,
             "#ed7953"
            ],
            [
             0.7777777777777778,
             "#fb9f3a"
            ],
            [
             0.8888888888888888,
             "#fdca26"
            ],
            [
             1,
             "#f0f921"
            ]
           ]
          },
          "colorway": [
           "#636efa",
           "#EF553B",
           "#00cc96",
           "#ab63fa",
           "#FFA15A",
           "#19d3f3",
           "#FF6692",
           "#B6E880",
           "#FF97FF",
           "#FECB52"
          ],
          "font": {
           "color": "#2a3f5f"
          },
          "geo": {
           "bgcolor": "white",
           "lakecolor": "white",
           "landcolor": "#E5ECF6",
           "showlakes": true,
           "showland": true,
           "subunitcolor": "white"
          },
          "hoverlabel": {
           "align": "left"
          },
          "hovermode": "closest",
          "mapbox": {
           "style": "light"
          },
          "paper_bgcolor": "white",
          "plot_bgcolor": "#E5ECF6",
          "polar": {
           "angularaxis": {
            "gridcolor": "white",
            "linecolor": "white",
            "ticks": ""
           },
           "bgcolor": "#E5ECF6",
           "radialaxis": {
            "gridcolor": "white",
            "linecolor": "white",
            "ticks": ""
           }
          },
          "scene": {
           "xaxis": {
            "backgroundcolor": "#E5ECF6",
            "gridcolor": "white",
            "gridwidth": 2,
            "linecolor": "white",
            "showbackground": true,
            "ticks": "",
            "zerolinecolor": "white"
           },
           "yaxis": {
            "backgroundcolor": "#E5ECF6",
            "gridcolor": "white",
            "gridwidth": 2,
            "linecolor": "white",
            "showbackground": true,
            "ticks": "",
            "zerolinecolor": "white"
           },
           "zaxis": {
            "backgroundcolor": "#E5ECF6",
            "gridcolor": "white",
            "gridwidth": 2,
            "linecolor": "white",
            "showbackground": true,
            "ticks": "",
            "zerolinecolor": "white"
           }
          },
          "shapedefaults": {
           "line": {
            "color": "#2a3f5f"
           }
          },
          "ternary": {
           "aaxis": {
            "gridcolor": "white",
            "linecolor": "white",
            "ticks": ""
           },
           "baxis": {
            "gridcolor": "white",
            "linecolor": "white",
            "ticks": ""
           },
           "bgcolor": "#E5ECF6",
           "caxis": {
            "gridcolor": "white",
            "linecolor": "white",
            "ticks": ""
           }
          },
          "title": {
           "x": 0.05
          },
          "xaxis": {
           "automargin": true,
           "gridcolor": "white",
           "linecolor": "white",
           "ticks": "",
           "title": {
            "standoff": 15
           },
           "zerolinecolor": "white",
           "zerolinewidth": 2
          },
          "yaxis": {
           "automargin": true,
           "gridcolor": "white",
           "linecolor": "white",
           "ticks": "",
           "title": {
            "standoff": 15
           },
           "zerolinecolor": "white",
           "zerolinewidth": 2
          }
         }
        },
        "title": {
         "text": "Histogram of Gender"
        },
        "xaxis": {
         "anchor": "y",
         "domain": [
          0,
          1
         ],
         "title": {
          "text": "gender"
         }
        },
        "yaxis": {
         "anchor": "x",
         "domain": [
          0,
          1
         ],
         "title": {
          "text": "count"
         }
        }
       }
      },
      "text/html": [
       "<div>                            <div id=\"4d8e0074-26c3-42f2-987c-88aad1d0ac78\" class=\"plotly-graph-div\" style=\"height:525px; width:100%;\"></div>            <script type=\"text/javascript\">                require([\"plotly\"], function(Plotly) {                    window.PLOTLYENV=window.PLOTLYENV || {};                                    if (document.getElementById(\"4d8e0074-26c3-42f2-987c-88aad1d0ac78\")) {                    Plotly.newPlot(                        \"4d8e0074-26c3-42f2-987c-88aad1d0ac78\",                        [{\"alignmentgroup\":\"True\",\"bingroup\":\"x\",\"hovertemplate\":\"gender=%{x}<br>count=%{y}<extra></extra>\",\"legendgroup\":\"\",\"marker\":{\"color\":\"#636efa\",\"pattern\":{\"shape\":\"\"}},\"name\":\"\",\"offsetgroup\":\"\",\"orientation\":\"v\",\"showlegend\":false,\"texttemplate\":\"%{value}\",\"x\":[\"female\",\"female\",\"female\",\"male\",\"male\",\"female\",\"female\",\"male\",\"male\",\"female\",\"male\",\"male\",\"female\",\"male\",\"female\",\"female\",\"male\",\"female\",\"male\",\"female\",\"male\",\"female\",\"male\",\"female\",\"male\",\"male\",\"male\",\"female\",\"male\",\"female\",\"female\",\"female\",\"female\",\"male\",\"male\",\"male\",\"female\",\"female\",\"female\",\"male\",\"male\",\"female\",\"female\",\"male\",\"female\",\"male\",\"female\",\"female\",\"female\",\"male\",\"male\",\"male\",\"male\",\"male\",\"female\",\"female\",\"female\",\"male\",\"male\",\"female\",\"male\",\"male\",\"male\",\"female\",\"female\",\"male\",\"male\",\"female\",\"male\",\"female\",\"female\",\"male\",\"female\",\"male\",\"male\",\"male\",\"male\",\"male\",\"female\",\"female\",\"female\",\"male\",\"male\",\"male\",\"male\",\"female\",\"female\",\"female\",\"female\",\"female\",\"female\",\"male\",\"male\",\"male\",\"female\",\"male\",\"male\",\"female\",\"female\",\"female\",\"male\",\"male\",\"female\",\"male\",\"male\",\"female\",\"female\",\"male\",\"female\",\"female\",\"female\",\"male\",\"male\",\"female\",\"female\",\"male\",\"female\",\"female\",\"female\",\"female\",\"female\",\"male\",\"female\",\"male\",\"male\",\"female\",\"male\",\"male\",\"male\",\"female\",\"male\",\"male\",\"male\",\"female\",\"male\",\"male\",\"male\",\"male\",\"female\",\"male\",\"female\",\"female\",\"female\",\"male\",\"male\",\"female\",\"male\",\"male\",\"female\",\"male\",\"male\",\"male\",\"female\",\"male\",\"male\",\"female\",\"female\",\"male\",\"female\",\"male\",\"male\",\"female\",\"male\",\"male\",\"female\",\"female\",\"male\",\"female\",\"female\",\"female\",\"male\",\"male\",\"female\",\"female\",\"female\",\"female\",\"female\",\"female\",\"female\",\"female\",\"male\",\"female\",\"female\",\"female\",\"male\",\"male\",\"male\",\"male\",\"male\",\"female\",\"female\",\"male\",\"female\",\"male\",\"female\",\"male\",\"male\",\"male\",\"female\",\"female\",\"female\",\"female\",\"male\",\"female\",\"male\",\"male\",\"male\",\"male\",\"female\",\"female\",\"male\",\"male\",\"female\",\"male\",\"male\",\"male\",\"female\",\"female\",\"male\",\"male\",\"female\",\"male\",\"female\",\"male\",\"female\",\"female\",\"female\",\"male\",\"male\",\"female\",\"male\",\"male\",\"female\",\"male\",\"male\",\"male\",\"male\",\"female\",\"male\",\"male\",\"male\",\"female\",\"female\",\"male\",\"male\",\"male\",\"male\",\"female\",\"female\",\"male\",\"male\",\"female\",\"female\",\"male\",\"male\",\"female\",\"female\",\"male\",\"female\",\"female\",\"female\",\"male\",\"female\",\"female\",\"male\",\"male\",\"female\",\"female\",\"female\",\"female\",\"male\",\"male\",\"female\",\"female\",\"male\",\"male\",\"female\",\"female\",\"female\",\"male\",\"male\",\"male\",\"female\",\"female\",\"female\",\"male\",\"male\",\"female\",\"male\",\"male\",\"male\",\"male\",\"male\",\"female\",\"male\",\"male\",\"male\",\"male\",\"male\",\"male\",\"male\",\"male\",\"female\",\"male\",\"female\",\"male\",\"male\",\"male\",\"female\",\"female\",\"female\",\"male\",\"male\",\"female\",\"female\",\"male\",\"female\",\"male\",\"male\",\"female\",\"female\",\"female\",\"female\",\"female\",\"female\",\"female\",\"male\",\"male\",\"male\",\"female\",\"male\",\"male\",\"male\",\"male\",\"female\",\"female\",\"male\",\"male\",\"female\",\"female\",\"male\",\"female\",\"female\",\"male\",\"male\",\"female\",\"male\",\"female\",\"male\",\"male\",\"female\",\"male\",\"female\",\"female\",\"female\",\"female\",\"male\",\"female\",\"male\",\"female\",\"female\",\"male\",\"female\",\"female\",\"male\",\"male\",\"male\",\"male\",\"female\",\"female\",\"male\",\"female\",\"male\",\"female\",\"female\",\"male\",\"female\",\"female\",\"female\",\"male\",\"female\",\"male\",\"male\",\"female\",\"female\",\"female\",\"female\",\"female\",\"female\",\"male\",\"male\",\"female\",\"male\",\"male\",\"female\",\"male\",\"female\",\"female\",\"male\",\"male\",\"female\",\"male\",\"female\",\"female\",\"female\",\"female\",\"male\",\"female\",\"female\",\"male\",\"female\",\"male\",\"male\",\"male\",\"female\",\"male\",\"male\",\"male\",\"male\",\"male\",\"female\",\"female\",\"female\",\"female\",\"male\",\"female\",\"male\",\"male\",\"male\",\"male\",\"male\",\"female\",\"male\",\"female\",\"male\",\"male\",\"male\",\"male\",\"male\",\"male\",\"female\",\"female\",\"female\",\"female\",\"male\",\"female\",\"male\",\"male\",\"male\",\"male\",\"female\",\"female\",\"female\",\"male\",\"female\",\"male\",\"female\",\"male\",\"female\",\"male\",\"male\",\"male\",\"female\",\"female\",\"male\",\"female\",\"female\",\"male\",\"female\",\"male\",\"female\",\"female\",\"female\",\"female\",\"female\",\"female\",\"male\",\"male\",\"female\",\"male\",\"male\",\"female\",\"male\",\"male\",\"female\",\"male\",\"male\",\"female\",\"male\",\"male\",\"female\",\"female\",\"female\",\"female\",\"female\",\"male\",\"female\",\"female\",\"female\",\"male\",\"female\",\"female\",\"male\",\"female\",\"female\",\"female\",\"male\",\"male\",\"male\",\"female\",\"male\",\"male\",\"male\",\"female\",\"female\",\"female\",\"female\",\"female\",\"female\",\"female\",\"male\",\"female\",\"male\",\"male\",\"male\",\"male\",\"male\",\"female\",\"female\",\"female\",\"female\",\"female\",\"male\",\"female\",\"male\",\"female\",\"male\",\"female\",\"male\",\"male\",\"male\",\"male\",\"female\",\"female\",\"female\",\"male\",\"female\",\"male\",\"female\",\"male\",\"male\",\"male\",\"female\",\"male\",\"male\",\"female\",\"female\",\"male\",\"female\",\"male\",\"female\",\"female\",\"male\",\"female\",\"male\",\"male\",\"female\",\"female\",\"male\",\"male\",\"male\",\"male\",\"female\",\"female\",\"female\",\"male\",\"male\",\"female\",\"female\",\"female\",\"female\",\"female\",\"female\",\"female\",\"female\",\"female\",\"female\",\"female\",\"female\",\"female\",\"male\",\"male\",\"male\",\"female\",\"female\",\"female\",\"male\",\"male\",\"female\",\"female\",\"female\",\"female\",\"female\",\"male\",\"male\",\"male\",\"female\",\"female\",\"female\",\"female\",\"male\",\"female\",\"male\",\"female\",\"female\",\"female\",\"female\",\"male\",\"male\",\"male\",\"female\",\"male\",\"male\",\"male\",\"female\",\"male\",\"male\",\"male\",\"male\",\"female\",\"male\",\"male\",\"female\",\"female\",\"male\",\"male\",\"female\",\"female\",\"male\",\"female\",\"male\",\"female\",\"female\",\"female\",\"male\",\"female\",\"female\",\"female\",\"female\",\"female\",\"male\",\"female\",\"female\",\"female\",\"female\",\"female\",\"male\",\"male\",\"female\",\"male\",\"male\",\"male\",\"female\",\"female\",\"male\",\"female\",\"female\",\"female\",\"male\",\"male\",\"female\",\"male\",\"female\",\"female\",\"female\",\"female\",\"female\",\"female\",\"male\",\"male\",\"female\",\"male\",\"male\",\"female\",\"male\",\"female\",\"male\",\"male\",\"male\",\"male\",\"female\",\"female\",\"female\",\"female\",\"female\",\"female\",\"female\",\"female\",\"female\",\"male\",\"female\",\"female\",\"male\",\"female\",\"female\",\"male\",\"male\",\"male\",\"male\",\"female\",\"male\",\"female\",\"female\",\"male\",\"female\",\"female\",\"male\",\"female\",\"female\",\"male\",\"female\",\"male\",\"female\",\"male\",\"male\",\"male\",\"female\",\"male\",\"female\",\"male\",\"female\",\"male\",\"female\",\"male\",\"female\",\"male\",\"male\",\"female\",\"male\",\"male\",\"male\",\"female\",\"female\",\"female\",\"male\",\"male\",\"male\",\"male\",\"female\",\"male\",\"male\",\"male\",\"male\",\"female\",\"male\",\"female\",\"male\",\"male\",\"female\",\"male\",\"female\",\"female\",\"male\",\"female\",\"male\",\"female\",\"female\",\"male\",\"female\",\"male\",\"male\",\"male\",\"female\",\"female\",\"male\",\"female\",\"female\",\"female\",\"female\",\"male\",\"female\",\"female\",\"female\",\"female\",\"male\",\"female\",\"female\",\"female\",\"male\",\"female\",\"female\",\"female\",\"male\",\"male\",\"female\",\"female\",\"male\",\"female\",\"male\",\"female\",\"male\",\"male\",\"female\",\"female\",\"female\",\"male\",\"female\",\"female\",\"male\",\"male\",\"male\",\"male\",\"female\",\"male\",\"female\",\"male\",\"female\",\"male\",\"female\",\"female\",\"female\",\"female\",\"male\",\"female\",\"female\",\"male\",\"female\",\"female\",\"female\",\"male\",\"female\",\"female\",\"male\",\"female\",\"male\",\"female\",\"male\",\"female\",\"male\",\"female\",\"female\",\"male\",\"female\",\"male\",\"female\",\"male\",\"male\",\"male\",\"female\",\"male\",\"male\",\"female\",\"female\",\"male\",\"male\",\"female\",\"male\",\"female\",\"male\",\"male\",\"female\",\"female\",\"male\",\"female\",\"male\",\"male\",\"male\",\"male\",\"male\",\"male\",\"male\",\"female\",\"male\",\"male\",\"female\",\"male\",\"male\",\"male\",\"female\",\"female\",\"male\",\"female\",\"female\",\"male\",\"female\",\"female\",\"female\",\"male\",\"female\",\"male\",\"female\",\"female\",\"female\",\"male\",\"female\",\"female\",\"male\",\"female\",\"male\",\"female\",\"male\",\"female\",\"female\",\"female\",\"female\",\"male\",\"male\",\"female\",\"female\",\"male\",\"male\",\"female\",\"female\",\"female\",\"female\",\"female\",\"male\",\"female\",\"female\",\"male\",\"male\",\"female\",\"male\",\"female\",\"male\",\"male\",\"male\",\"female\",\"male\",\"female\",\"male\",\"male\",\"male\",\"male\",\"male\",\"male\",\"male\",\"female\",\"male\",\"male\",\"male\",\"female\",\"male\",\"male\",\"female\",\"female\",\"male\",\"female\",\"male\",\"female\",\"male\",\"female\",\"female\",\"male\",\"female\",\"male\",\"male\",\"female\",\"female\",\"male\",\"female\",\"female\",\"female\",\"female\",\"male\",\"female\",\"male\",\"male\",\"female\",\"female\",\"female\",\"male\",\"female\",\"female\",\"female\",\"female\",\"male\",\"male\",\"male\",\"female\",\"female\",\"male\",\"male\",\"female\",\"female\",\"male\",\"female\",\"male\",\"female\",\"female\",\"male\",\"female\",\"female\",\"female\",\"male\",\"female\",\"male\",\"female\",\"female\",\"female\"],\"xaxis\":\"x\",\"yaxis\":\"y\",\"type\":\"histogram\",\"textposition\":\"outside\"}],                        {\"template\":{\"data\":{\"bar\":[{\"error_x\":{\"color\":\"#2a3f5f\"},\"error_y\":{\"color\":\"#2a3f5f\"},\"marker\":{\"line\":{\"color\":\"#E5ECF6\",\"width\":0.5},\"pattern\":{\"fillmode\":\"overlay\",\"size\":10,\"solidity\":0.2}},\"type\":\"bar\"}],\"barpolar\":[{\"marker\":{\"line\":{\"color\":\"#E5ECF6\",\"width\":0.5},\"pattern\":{\"fillmode\":\"overlay\",\"size\":10,\"solidity\":0.2}},\"type\":\"barpolar\"}],\"carpet\":[{\"aaxis\":{\"endlinecolor\":\"#2a3f5f\",\"gridcolor\":\"white\",\"linecolor\":\"white\",\"minorgridcolor\":\"white\",\"startlinecolor\":\"#2a3f5f\"},\"baxis\":{\"endlinecolor\":\"#2a3f5f\",\"gridcolor\":\"white\",\"linecolor\":\"white\",\"minorgridcolor\":\"white\",\"startlinecolor\":\"#2a3f5f\"},\"type\":\"carpet\"}],\"choropleth\":[{\"colorbar\":{\"outlinewidth\":0,\"ticks\":\"\"},\"type\":\"choropleth\"}],\"contour\":[{\"colorbar\":{\"outlinewidth\":0,\"ticks\":\"\"},\"colorscale\":[[0.0,\"#0d0887\"],[0.1111111111111111,\"#46039f\"],[0.2222222222222222,\"#7201a8\"],[0.3333333333333333,\"#9c179e\"],[0.4444444444444444,\"#bd3786\"],[0.5555555555555556,\"#d8576b\"],[0.6666666666666666,\"#ed7953\"],[0.7777777777777778,\"#fb9f3a\"],[0.8888888888888888,\"#fdca26\"],[1.0,\"#f0f921\"]],\"type\":\"contour\"}],\"contourcarpet\":[{\"colorbar\":{\"outlinewidth\":0,\"ticks\":\"\"},\"type\":\"contourcarpet\"}],\"heatmap\":[{\"colorbar\":{\"outlinewidth\":0,\"ticks\":\"\"},\"colorscale\":[[0.0,\"#0d0887\"],[0.1111111111111111,\"#46039f\"],[0.2222222222222222,\"#7201a8\"],[0.3333333333333333,\"#9c179e\"],[0.4444444444444444,\"#bd3786\"],[0.5555555555555556,\"#d8576b\"],[0.6666666666666666,\"#ed7953\"],[0.7777777777777778,\"#fb9f3a\"],[0.8888888888888888,\"#fdca26\"],[1.0,\"#f0f921\"]],\"type\":\"heatmap\"}],\"heatmapgl\":[{\"colorbar\":{\"outlinewidth\":0,\"ticks\":\"\"},\"colorscale\":[[0.0,\"#0d0887\"],[0.1111111111111111,\"#46039f\"],[0.2222222222222222,\"#7201a8\"],[0.3333333333333333,\"#9c179e\"],[0.4444444444444444,\"#bd3786\"],[0.5555555555555556,\"#d8576b\"],[0.6666666666666666,\"#ed7953\"],[0.7777777777777778,\"#fb9f3a\"],[0.8888888888888888,\"#fdca26\"],[1.0,\"#f0f921\"]],\"type\":\"heatmapgl\"}],\"histogram\":[{\"marker\":{\"pattern\":{\"fillmode\":\"overlay\",\"size\":10,\"solidity\":0.2}},\"type\":\"histogram\"}],\"histogram2d\":[{\"colorbar\":{\"outlinewidth\":0,\"ticks\":\"\"},\"colorscale\":[[0.0,\"#0d0887\"],[0.1111111111111111,\"#46039f\"],[0.2222222222222222,\"#7201a8\"],[0.3333333333333333,\"#9c179e\"],[0.4444444444444444,\"#bd3786\"],[0.5555555555555556,\"#d8576b\"],[0.6666666666666666,\"#ed7953\"],[0.7777777777777778,\"#fb9f3a\"],[0.8888888888888888,\"#fdca26\"],[1.0,\"#f0f921\"]],\"type\":\"histogram2d\"}],\"histogram2dcontour\":[{\"colorbar\":{\"outlinewidth\":0,\"ticks\":\"\"},\"colorscale\":[[0.0,\"#0d0887\"],[0.1111111111111111,\"#46039f\"],[0.2222222222222222,\"#7201a8\"],[0.3333333333333333,\"#9c179e\"],[0.4444444444444444,\"#bd3786\"],[0.5555555555555556,\"#d8576b\"],[0.6666666666666666,\"#ed7953\"],[0.7777777777777778,\"#fb9f3a\"],[0.8888888888888888,\"#fdca26\"],[1.0,\"#f0f921\"]],\"type\":\"histogram2dcontour\"}],\"mesh3d\":[{\"colorbar\":{\"outlinewidth\":0,\"ticks\":\"\"},\"type\":\"mesh3d\"}],\"parcoords\":[{\"line\":{\"colorbar\":{\"outlinewidth\":0,\"ticks\":\"\"}},\"type\":\"parcoords\"}],\"pie\":[{\"automargin\":true,\"type\":\"pie\"}],\"scatter\":[{\"marker\":{\"colorbar\":{\"outlinewidth\":0,\"ticks\":\"\"}},\"type\":\"scatter\"}],\"scatter3d\":[{\"line\":{\"colorbar\":{\"outlinewidth\":0,\"ticks\":\"\"}},\"marker\":{\"colorbar\":{\"outlinewidth\":0,\"ticks\":\"\"}},\"type\":\"scatter3d\"}],\"scattercarpet\":[{\"marker\":{\"colorbar\":{\"outlinewidth\":0,\"ticks\":\"\"}},\"type\":\"scattercarpet\"}],\"scattergeo\":[{\"marker\":{\"colorbar\":{\"outlinewidth\":0,\"ticks\":\"\"}},\"type\":\"scattergeo\"}],\"scattergl\":[{\"marker\":{\"colorbar\":{\"outlinewidth\":0,\"ticks\":\"\"}},\"type\":\"scattergl\"}],\"scattermapbox\":[{\"marker\":{\"colorbar\":{\"outlinewidth\":0,\"ticks\":\"\"}},\"type\":\"scattermapbox\"}],\"scatterpolar\":[{\"marker\":{\"colorbar\":{\"outlinewidth\":0,\"ticks\":\"\"}},\"type\":\"scatterpolar\"}],\"scatterpolargl\":[{\"marker\":{\"colorbar\":{\"outlinewidth\":0,\"ticks\":\"\"}},\"type\":\"scatterpolargl\"}],\"scatterternary\":[{\"marker\":{\"colorbar\":{\"outlinewidth\":0,\"ticks\":\"\"}},\"type\":\"scatterternary\"}],\"surface\":[{\"colorbar\":{\"outlinewidth\":0,\"ticks\":\"\"},\"colorscale\":[[0.0,\"#0d0887\"],[0.1111111111111111,\"#46039f\"],[0.2222222222222222,\"#7201a8\"],[0.3333333333333333,\"#9c179e\"],[0.4444444444444444,\"#bd3786\"],[0.5555555555555556,\"#d8576b\"],[0.6666666666666666,\"#ed7953\"],[0.7777777777777778,\"#fb9f3a\"],[0.8888888888888888,\"#fdca26\"],[1.0,\"#f0f921\"]],\"type\":\"surface\"}],\"table\":[{\"cells\":{\"fill\":{\"color\":\"#EBF0F8\"},\"line\":{\"color\":\"white\"}},\"header\":{\"fill\":{\"color\":\"#C8D4E3\"},\"line\":{\"color\":\"white\"}},\"type\":\"table\"}]},\"layout\":{\"annotationdefaults\":{\"arrowcolor\":\"#2a3f5f\",\"arrowhead\":0,\"arrowwidth\":1},\"autotypenumbers\":\"strict\",\"coloraxis\":{\"colorbar\":{\"outlinewidth\":0,\"ticks\":\"\"}},\"colorscale\":{\"diverging\":[[0,\"#8e0152\"],[0.1,\"#c51b7d\"],[0.2,\"#de77ae\"],[0.3,\"#f1b6da\"],[0.4,\"#fde0ef\"],[0.5,\"#f7f7f7\"],[0.6,\"#e6f5d0\"],[0.7,\"#b8e186\"],[0.8,\"#7fbc41\"],[0.9,\"#4d9221\"],[1,\"#276419\"]],\"sequential\":[[0.0,\"#0d0887\"],[0.1111111111111111,\"#46039f\"],[0.2222222222222222,\"#7201a8\"],[0.3333333333333333,\"#9c179e\"],[0.4444444444444444,\"#bd3786\"],[0.5555555555555556,\"#d8576b\"],[0.6666666666666666,\"#ed7953\"],[0.7777777777777778,\"#fb9f3a\"],[0.8888888888888888,\"#fdca26\"],[1.0,\"#f0f921\"]],\"sequentialminus\":[[0.0,\"#0d0887\"],[0.1111111111111111,\"#46039f\"],[0.2222222222222222,\"#7201a8\"],[0.3333333333333333,\"#9c179e\"],[0.4444444444444444,\"#bd3786\"],[0.5555555555555556,\"#d8576b\"],[0.6666666666666666,\"#ed7953\"],[0.7777777777777778,\"#fb9f3a\"],[0.8888888888888888,\"#fdca26\"],[1.0,\"#f0f921\"]]},\"colorway\":[\"#636efa\",\"#EF553B\",\"#00cc96\",\"#ab63fa\",\"#FFA15A\",\"#19d3f3\",\"#FF6692\",\"#B6E880\",\"#FF97FF\",\"#FECB52\"],\"font\":{\"color\":\"#2a3f5f\"},\"geo\":{\"bgcolor\":\"white\",\"lakecolor\":\"white\",\"landcolor\":\"#E5ECF6\",\"showlakes\":true,\"showland\":true,\"subunitcolor\":\"white\"},\"hoverlabel\":{\"align\":\"left\"},\"hovermode\":\"closest\",\"mapbox\":{\"style\":\"light\"},\"paper_bgcolor\":\"white\",\"plot_bgcolor\":\"#E5ECF6\",\"polar\":{\"angularaxis\":{\"gridcolor\":\"white\",\"linecolor\":\"white\",\"ticks\":\"\"},\"bgcolor\":\"#E5ECF6\",\"radialaxis\":{\"gridcolor\":\"white\",\"linecolor\":\"white\",\"ticks\":\"\"}},\"scene\":{\"xaxis\":{\"backgroundcolor\":\"#E5ECF6\",\"gridcolor\":\"white\",\"gridwidth\":2,\"linecolor\":\"white\",\"showbackground\":true,\"ticks\":\"\",\"zerolinecolor\":\"white\"},\"yaxis\":{\"backgroundcolor\":\"#E5ECF6\",\"gridcolor\":\"white\",\"gridwidth\":2,\"linecolor\":\"white\",\"showbackground\":true,\"ticks\":\"\",\"zerolinecolor\":\"white\"},\"zaxis\":{\"backgroundcolor\":\"#E5ECF6\",\"gridcolor\":\"white\",\"gridwidth\":2,\"linecolor\":\"white\",\"showbackground\":true,\"ticks\":\"\",\"zerolinecolor\":\"white\"}},\"shapedefaults\":{\"line\":{\"color\":\"#2a3f5f\"}},\"ternary\":{\"aaxis\":{\"gridcolor\":\"white\",\"linecolor\":\"white\",\"ticks\":\"\"},\"baxis\":{\"gridcolor\":\"white\",\"linecolor\":\"white\",\"ticks\":\"\"},\"bgcolor\":\"#E5ECF6\",\"caxis\":{\"gridcolor\":\"white\",\"linecolor\":\"white\",\"ticks\":\"\"}},\"title\":{\"x\":0.05},\"xaxis\":{\"automargin\":true,\"gridcolor\":\"white\",\"linecolor\":\"white\",\"ticks\":\"\",\"title\":{\"standoff\":15},\"zerolinecolor\":\"white\",\"zerolinewidth\":2},\"yaxis\":{\"automargin\":true,\"gridcolor\":\"white\",\"linecolor\":\"white\",\"ticks\":\"\",\"title\":{\"standoff\":15},\"zerolinecolor\":\"white\",\"zerolinewidth\":2}}},\"xaxis\":{\"anchor\":\"y\",\"domain\":[0.0,1.0],\"title\":{\"text\":\"gender\"}},\"yaxis\":{\"anchor\":\"x\",\"domain\":[0.0,1.0],\"title\":{\"text\":\"count\"}},\"legend\":{\"tracegroupgap\":0},\"title\":{\"text\":\"Histogram of Gender\"},\"barmode\":\"relative\"},                        {\"responsive\": true}                    ).then(function(){\n",
       "                            \n",
       "var gd = document.getElementById('4d8e0074-26c3-42f2-987c-88aad1d0ac78');\n",
       "var x = new MutationObserver(function (mutations, observer) {{\n",
       "        var display = window.getComputedStyle(gd).display;\n",
       "        if (!display || display === 'none') {{\n",
       "            console.log([gd, 'removed!']);\n",
       "            Plotly.purge(gd);\n",
       "            observer.disconnect();\n",
       "        }}\n",
       "}});\n",
       "\n",
       "// Listen for the removal of the full notebook cells\n",
       "var notebookContainer = gd.closest('#notebook-container');\n",
       "if (notebookContainer) {{\n",
       "    x.observe(notebookContainer, {childList: true});\n",
       "}}\n",
       "\n",
       "// Listen for the clearing of the current output cell\n",
       "var outputEl = gd.closest('.output');\n",
       "if (outputEl) {{\n",
       "    x.observe(outputEl, {childList: true});\n",
       "}}\n",
       "\n",
       "                        })                };                });            </script>        </div>"
      ]
     },
     "metadata": {},
     "output_type": "display_data"
    }
   ],
   "source": [
    "fig = px.histogram(data,\n",
    "                   x=\"gender\",\n",
    "                   title='Histogram of Gender',\n",
    "                   text_auto=True)\n",
    "fig.update_traces(textposition='outside')\n",
    "fig.show()"
   ]
  },
  {
   "cell_type": "markdown",
   "id": "3c08cc52",
   "metadata": {
    "ExecuteTime": {
     "end_time": "2022-07-15T13:59:55.017955Z",
     "start_time": "2022-07-15T13:59:54.993967Z"
    }
   },
   "source": [
    "**Apparently, there are slightly more number of female than male in this dataset.**"
   ]
  },
  {
   "cell_type": "code",
   "execution_count": 25,
   "id": "6e94d58a",
   "metadata": {
    "ExecuteTime": {
     "end_time": "2022-07-15T15:47:58.186116Z",
     "start_time": "2022-07-15T15:47:58.171440Z"
    }
   },
   "outputs": [
    {
     "data": {
      "text/html": [
       "<div>\n",
       "<style scoped>\n",
       "    .dataframe tbody tr th:only-of-type {\n",
       "        vertical-align: middle;\n",
       "    }\n",
       "\n",
       "    .dataframe tbody tr th {\n",
       "        vertical-align: top;\n",
       "    }\n",
       "\n",
       "    .dataframe thead th {\n",
       "        text-align: right;\n",
       "    }\n",
       "</style>\n",
       "<table border=\"1\" class=\"dataframe\">\n",
       "  <thead>\n",
       "    <tr style=\"text-align: right;\">\n",
       "      <th></th>\n",
       "      <th>gender</th>\n",
       "      <th>race/ethnicity</th>\n",
       "      <th>parental level of education</th>\n",
       "      <th>lunch</th>\n",
       "      <th>test preparation course</th>\n",
       "      <th>math score</th>\n",
       "      <th>reading score</th>\n",
       "      <th>writing score</th>\n",
       "    </tr>\n",
       "  </thead>\n",
       "  <tbody>\n",
       "    <tr>\n",
       "      <th>0</th>\n",
       "      <td>female</td>\n",
       "      <td>group B</td>\n",
       "      <td>bachelor's degree</td>\n",
       "      <td>standard</td>\n",
       "      <td>none</td>\n",
       "      <td>72</td>\n",
       "      <td>72</td>\n",
       "      <td>74</td>\n",
       "    </tr>\n",
       "    <tr>\n",
       "      <th>1</th>\n",
       "      <td>female</td>\n",
       "      <td>group C</td>\n",
       "      <td>some college</td>\n",
       "      <td>standard</td>\n",
       "      <td>completed</td>\n",
       "      <td>69</td>\n",
       "      <td>90</td>\n",
       "      <td>88</td>\n",
       "    </tr>\n",
       "    <tr>\n",
       "      <th>2</th>\n",
       "      <td>female</td>\n",
       "      <td>group B</td>\n",
       "      <td>master's degree</td>\n",
       "      <td>standard</td>\n",
       "      <td>none</td>\n",
       "      <td>90</td>\n",
       "      <td>95</td>\n",
       "      <td>93</td>\n",
       "    </tr>\n",
       "    <tr>\n",
       "      <th>3</th>\n",
       "      <td>male</td>\n",
       "      <td>group A</td>\n",
       "      <td>associate's degree</td>\n",
       "      <td>free/reduced</td>\n",
       "      <td>none</td>\n",
       "      <td>47</td>\n",
       "      <td>57</td>\n",
       "      <td>44</td>\n",
       "    </tr>\n",
       "    <tr>\n",
       "      <th>4</th>\n",
       "      <td>male</td>\n",
       "      <td>group C</td>\n",
       "      <td>some college</td>\n",
       "      <td>standard</td>\n",
       "      <td>none</td>\n",
       "      <td>76</td>\n",
       "      <td>78</td>\n",
       "      <td>75</td>\n",
       "    </tr>\n",
       "  </tbody>\n",
       "</table>\n",
       "</div>"
      ],
      "text/plain": [
       "   gender race/ethnicity parental level of education         lunch  \\\n",
       "0  female        group B           bachelor's degree      standard   \n",
       "1  female        group C                some college      standard   \n",
       "2  female        group B             master's degree      standard   \n",
       "3    male        group A          associate's degree  free/reduced   \n",
       "4    male        group C                some college      standard   \n",
       "\n",
       "  test preparation course  math score  reading score  writing score  \n",
       "0                    none          72             72             74  \n",
       "1               completed          69             90             88  \n",
       "2                    none          90             95             93  \n",
       "3                    none          47             57             44  \n",
       "4                    none          76             78             75  "
      ]
     },
     "execution_count": 25,
     "metadata": {},
     "output_type": "execute_result"
    }
   ],
   "source": [
    "data.head()"
   ]
  },
  {
   "cell_type": "code",
   "execution_count": 26,
   "id": "67e2e38f",
   "metadata": {
    "ExecuteTime": {
     "end_time": "2022-07-15T15:47:58.202072Z",
     "start_time": "2022-07-15T15:47:58.187114Z"
    }
   },
   "outputs": [
    {
     "data": {
      "text/plain": [
       "array(['group B', 'group C', 'group A', 'group D', 'group E'],\n",
       "      dtype=object)"
      ]
     },
     "execution_count": 26,
     "metadata": {},
     "output_type": "execute_result"
    }
   ],
   "source": [
    "data['race/ethnicity'].unique()"
   ]
  },
  {
   "cell_type": "code",
   "execution_count": 27,
   "id": "14b1a624",
   "metadata": {
    "ExecuteTime": {
     "end_time": "2022-07-15T15:47:58.265930Z",
     "start_time": "2022-07-15T15:47:58.204069Z"
    }
   },
   "outputs": [
    {
     "data": {
      "application/vnd.plotly.v1+json": {
       "config": {
        "plotlyServerURL": "https://plot.ly"
       },
       "data": [
        {
         "alignmentgroup": "True",
         "bingroup": "x",
         "hovertemplate": "gender=female<br>race/ethnicity=%{x}<br>count=%{y}<extra></extra>",
         "legendgroup": "female",
         "marker": {
          "color": "#636efa",
          "pattern": {
           "shape": ""
          }
         },
         "name": "female",
         "offsetgroup": "female",
         "orientation": "v",
         "showlegend": true,
         "textposition": "outside",
         "texttemplate": "%{value}",
         "type": "histogram",
         "x": [
          "group B",
          "group C",
          "group B",
          "group B",
          "group B",
          "group B",
          "group B",
          "group A",
          "group C",
          "group B",
          "group C",
          "group B",
          "group C",
          "group C",
          "group D",
          "group D",
          "group B",
          "group E",
          "group D",
          "group D",
          "group D",
          "group C",
          "group B",
          "group E",
          "group A",
          "group C",
          "group D",
          "group C",
          "group C",
          "group E",
          "group C",
          "group C",
          "group D",
          "group C",
          "group C",
          "group D",
          "group A",
          "group D",
          "group E",
          "group B",
          "group C",
          "group C",
          "group D",
          "group A",
          "group D",
          "group C",
          "group B",
          "group E",
          "group D",
          "group D",
          "group D",
          "group C",
          "group D",
          "group B",
          "group B",
          "group D",
          "group D",
          "group E",
          "group B",
          "group D",
          "group D",
          "group C",
          "group C",
          "group C",
          "group B",
          "group A",
          "group C",
          "group C",
          "group D",
          "group C",
          "group E",
          "group C",
          "group D",
          "group B",
          "group C",
          "group E",
          "group B",
          "group E",
          "group E",
          "group C",
          "group B",
          "group B",
          "group C",
          "group D",
          "group C",
          "group C",
          "group C",
          "group B",
          "group C",
          "group B",
          "group D",
          "group C",
          "group E",
          "group D",
          "group C",
          "group E",
          "group B",
          "group C",
          "group B",
          "group B",
          "group C",
          "group D",
          "group B",
          "group B",
          "group B",
          "group C",
          "group E",
          "group C",
          "group D",
          "group C",
          "group B",
          "group E",
          "group C",
          "group C",
          "group B",
          "group D",
          "group E",
          "group D",
          "group B",
          "group B",
          "group D",
          "group B",
          "group E",
          "group C",
          "group B",
          "group C",
          "group C",
          "group C",
          "group E",
          "group C",
          "group D",
          "group D",
          "group E",
          "group D",
          "group D",
          "group C",
          "group E",
          "group C",
          "group D",
          "group D",
          "group B",
          "group B",
          "group E",
          "group C",
          "group C",
          "group B",
          "group D",
          "group B",
          "group C",
          "group C",
          "group D",
          "group D",
          "group C",
          "group E",
          "group C",
          "group C",
          "group C",
          "group C",
          "group B",
          "group C",
          "group B",
          "group B",
          "group D",
          "group C",
          "group B",
          "group C",
          "group C",
          "group B",
          "group C",
          "group C",
          "group C",
          "group B",
          "group C",
          "group D",
          "group B",
          "group C",
          "group D",
          "group A",
          "group D",
          "group C",
          "group D",
          "group D",
          "group D",
          "group D",
          "group A",
          "group B",
          "group E",
          "group A",
          "group E",
          "group E",
          "group C",
          "group D",
          "group D",
          "group C",
          "group B",
          "group C",
          "group C",
          "group A",
          "group D",
          "group C",
          "group C",
          "group B",
          "group D",
          "group D",
          "group C",
          "group C",
          "group D",
          "group D",
          "group A",
          "group C",
          "group C",
          "group A",
          "group C",
          "group D",
          "group A",
          "group B",
          "group C",
          "group C",
          "group E",
          "group C",
          "group C",
          "group D",
          "group E",
          "group E",
          "group C",
          "group C",
          "group D",
          "group A",
          "group C",
          "group C",
          "group C",
          "group D",
          "group B",
          "group D",
          "group D",
          "group D",
          "group B",
          "group C",
          "group A",
          "group C",
          "group C",
          "group C",
          "group B",
          "group C",
          "group D",
          "group B",
          "group D",
          "group B",
          "group E",
          "group D",
          "group B",
          "group C",
          "group B",
          "group B",
          "group C",
          "group D",
          "group E",
          "group D",
          "group B",
          "group C",
          "group C",
          "group D",
          "group C",
          "group C",
          "group C",
          "group E",
          "group C",
          "group D",
          "group C",
          "group D",
          "group D",
          "group A",
          "group C",
          "group B",
          "group C",
          "group C",
          "group B",
          "group D",
          "group C",
          "group D",
          "group E",
          "group D",
          "group C",
          "group C",
          "group E",
          "group B",
          "group B",
          "group D",
          "group D",
          "group E",
          "group D",
          "group D",
          "group D",
          "group C",
          "group A",
          "group C",
          "group C",
          "group A",
          "group E",
          "group C",
          "group C",
          "group D",
          "group D",
          "group D",
          "group C",
          "group E",
          "group C",
          "group C",
          "group E",
          "group B",
          "group C",
          "group C",
          "group A",
          "group C",
          "group E",
          "group C",
          "group E",
          "group C",
          "group B",
          "group C",
          "group B",
          "group D",
          "group D",
          "group D",
          "group B",
          "group E",
          "group B",
          "group D",
          "group E",
          "group B",
          "group D",
          "group A",
          "group D",
          "group A",
          "group B",
          "group B",
          "group D",
          "group D",
          "group C",
          "group C",
          "group C",
          "group B",
          "group C",
          "group C",
          "group C",
          "group D",
          "group B",
          "group E",
          "group C",
          "group D",
          "group C",
          "group E",
          "group C",
          "group E",
          "group C",
          "group D",
          "group C",
          "group D",
          "group C",
          "group A",
          "group D",
          "group E",
          "group B",
          "group D",
          "group B",
          "group D",
          "group E",
          "group D",
          "group B",
          "group B",
          "group C",
          "group C",
          "group C",
          "group B",
          "group E",
          "group D",
          "group B",
          "group C",
          "group E",
          "group B",
          "group A",
          "group C",
          "group C",
          "group C",
          "group C",
          "group E",
          "group D",
          "group C",
          "group D",
          "group B",
          "group B",
          "group C",
          "group D",
          "group B",
          "group C",
          "group B",
          "group B",
          "group C",
          "group A",
          "group D",
          "group B",
          "group B",
          "group C",
          "group B",
          "group E",
          "group B",
          "group C",
          "group B",
          "group D",
          "group B",
          "group E",
          "group E",
          "group C",
          "group E",
          "group B",
          "group C",
          "group D",
          "group E",
          "group C",
          "group C",
          "group A",
          "group B",
          "group C",
          "group A",
          "group D",
          "group B",
          "group C",
          "group C",
          "group C",
          "group D",
          "group A",
          "group C",
          "group B",
          "group C",
          "group A",
          "group C",
          "group D",
          "group B",
          "group D",
          "group C",
          "group A",
          "group E",
          "group B",
          "group C",
          "group C",
          "group E",
          "group C",
          "group C",
          "group C",
          "group D",
          "group D",
          "group E",
          "group B",
          "group E",
          "group C",
          "group E",
          "group D",
          "group E",
          "group E",
          "group A",
          "group E",
          "group E",
          "group B",
          "group D",
          "group C",
          "group A",
          "group D",
          "group D",
          "group D",
          "group C",
          "group A",
          "group C",
          "group C",
          "group B",
          "group E",
          "group C",
          "group C",
          "group C",
          "group B",
          "group D",
          "group C",
          "group E",
          "group D",
          "group B",
          "group C",
          "group D",
          "group E",
          "group D",
          "group E",
          "group C",
          "group D",
          "group D",
          "group A",
          "group D",
          "group E",
          "group C",
          "group D",
          "group E",
          "group B",
          "group D",
          "group A",
          "group D",
          "group A",
          "group C",
          "group C",
          "group B",
          "group A",
          "group C",
          "group C",
          "group A",
          "group D",
          "group B",
          "group D",
          "group D",
          "group E",
          "group C",
          "group D",
          "group D"
         ],
         "xaxis": "x",
         "yaxis": "y"
        },
        {
         "alignmentgroup": "True",
         "bingroup": "x",
         "hovertemplate": "gender=male<br>race/ethnicity=%{x}<br>count=%{y}<extra></extra>",
         "legendgroup": "male",
         "marker": {
          "color": "#EF553B",
          "pattern": {
           "shape": ""
          }
         },
         "name": "male",
         "offsetgroup": "male",
         "orientation": "v",
         "showlegend": true,
         "textposition": "outside",
         "texttemplate": "%{value}",
         "type": "histogram",
         "x": [
          "group A",
          "group C",
          "group B",
          "group D",
          "group C",
          "group D",
          "group A",
          "group C",
          "group C",
          "group D",
          "group D",
          "group D",
          "group A",
          "group B",
          "group C",
          "group D",
          "group E",
          "group E",
          "group B",
          "group C",
          "group B",
          "group B",
          "group C",
          "group E",
          "group E",
          "group C",
          "group D",
          "group D",
          "group D",
          "group E",
          "group A",
          "group A",
          "group B",
          "group D",
          "group B",
          "group D",
          "group C",
          "group C",
          "group B",
          "group E",
          "group A",
          "group B",
          "group A",
          "group E",
          "group D",
          "group C",
          "group C",
          "group C",
          "group C",
          "group B",
          "group B",
          "group D",
          "group B",
          "group C",
          "group E",
          "group C",
          "group A",
          "group C",
          "group B",
          "group D",
          "group E",
          "group B",
          "group D",
          "group D",
          "group D",
          "group C",
          "group E",
          "group D",
          "group C",
          "group B",
          "group E",
          "group D",
          "group A",
          "group D",
          "group B",
          "group C",
          "group E",
          "group A",
          "group A",
          "group D",
          "group D",
          "group B",
          "group D",
          "group B",
          "group B",
          "group C",
          "group C",
          "group A",
          "group E",
          "group C",
          "group C",
          "group C",
          "group E",
          "group D",
          "group B",
          "group D",
          "group D",
          "group D",
          "group C",
          "group E",
          "group C",
          "group C",
          "group D",
          "group E",
          "group E",
          "group D",
          "group C",
          "group C",
          "group E",
          "group B",
          "group B",
          "group B",
          "group B",
          "group D",
          "group D",
          "group A",
          "group D",
          "group C",
          "group E",
          "group C",
          "group D",
          "group D",
          "group B",
          "group C",
          "group D",
          "group E",
          "group D",
          "group C",
          "group E",
          "group C",
          "group A",
          "group D",
          "group D",
          "group C",
          "group C",
          "group D",
          "group D",
          "group C",
          "group C",
          "group B",
          "group C",
          "group B",
          "group D",
          "group D",
          "group B",
          "group E",
          "group B",
          "group E",
          "group C",
          "group D",
          "group C",
          "group D",
          "group B",
          "group A",
          "group E",
          "group C",
          "group D",
          "group A",
          "group D",
          "group B",
          "group A",
          "group E",
          "group C",
          "group B",
          "group D",
          "group C",
          "group C",
          "group B",
          "group C",
          "group A",
          "group C",
          "group C",
          "group C",
          "group E",
          "group B",
          "group D",
          "group C",
          "group C",
          "group D",
          "group D",
          "group B",
          "group D",
          "group E",
          "group E",
          "group A",
          "group D",
          "group B",
          "group C",
          "group A",
          "group C",
          "group C",
          "group E",
          "group D",
          "group E",
          "group A",
          "group C",
          "group C",
          "group D",
          "group E",
          "group E",
          "group C",
          "group A",
          "group B",
          "group D",
          "group A",
          "group B",
          "group D",
          "group E",
          "group D",
          "group B",
          "group E",
          "group C",
          "group C",
          "group D",
          "group E",
          "group B",
          "group C",
          "group C",
          "group A",
          "group C",
          "group C",
          "group C",
          "group C",
          "group C",
          "group D",
          "group D",
          "group C",
          "group D",
          "group A",
          "group D",
          "group C",
          "group B",
          "group B",
          "group C",
          "group C",
          "group D",
          "group B",
          "group C",
          "group B",
          "group A",
          "group A",
          "group C",
          "group E",
          "group D",
          "group E",
          "group B",
          "group C",
          "group A",
          "group C",
          "group D",
          "group B",
          "group A",
          "group D",
          "group E",
          "group C",
          "group A",
          "group B",
          "group C",
          "group D",
          "group A",
          "group D",
          "group D",
          "group D",
          "group C",
          "group C",
          "group E",
          "group C",
          "group E",
          "group B",
          "group C",
          "group E",
          "group A",
          "group C",
          "group D",
          "group E",
          "group C",
          "group C",
          "group C",
          "group B",
          "group D",
          "group E",
          "group C",
          "group D",
          "group C",
          "group B",
          "group B",
          "group B",
          "group D",
          "group B",
          "group A",
          "group A",
          "group A",
          "group C",
          "group A",
          "group E",
          "group B",
          "group A",
          "group D",
          "group D",
          "group C",
          "group D",
          "group C",
          "group D",
          "group D",
          "group C",
          "group B",
          "group C",
          "group A",
          "group D",
          "group B",
          "group D",
          "group D",
          "group D",
          "group B",
          "group D",
          "group A",
          "group E",
          "group D",
          "group B",
          "group C",
          "group C",
          "group D",
          "group D",
          "group C",
          "group C",
          "group D",
          "group C",
          "group D",
          "group D",
          "group D",
          "group D",
          "group B",
          "group B",
          "group B",
          "group E",
          "group D",
          "group A",
          "group E",
          "group C",
          "group A",
          "group A",
          "group D",
          "group C",
          "group D",
          "group C",
          "group D",
          "group C",
          "group E",
          "group D",
          "group C",
          "group B",
          "group E",
          "group E",
          "group C",
          "group A",
          "group D",
          "group C",
          "group C",
          "group D",
          "group C",
          "group D",
          "group B",
          "group D",
          "group D",
          "group C",
          "group B",
          "group D",
          "group E",
          "group C",
          "group C",
          "group D",
          "group E",
          "group B",
          "group D",
          "group D",
          "group B",
          "group A",
          "group B",
          "group D",
          "group B",
          "group E",
          "group C",
          "group C",
          "group D",
          "group E",
          "group D",
          "group E",
          "group C",
          "group C",
          "group A",
          "group C",
          "group B",
          "group A",
          "group A",
          "group E",
          "group B",
          "group D",
          "group E",
          "group C",
          "group B",
          "group A",
          "group B",
          "group E",
          "group B",
          "group C",
          "group B",
          "group E",
          "group C",
          "group D",
          "group D",
          "group C",
          "group E",
          "group C",
          "group B",
          "group B",
          "group C",
          "group D",
          "group C",
          "group D",
          "group C",
          "group B",
          "group E",
          "group C",
          "group B",
          "group B",
          "group E",
          "group C",
          "group D",
          "group C",
          "group C",
          "group D",
          "group C",
          "group D",
          "group D",
          "group B",
          "group D",
          "group D",
          "group D",
          "group B",
          "group E",
          "group D",
          "group E",
          "group B",
          "group D",
          "group D",
          "group D",
          "group E",
          "group E",
          "group E",
          "group C",
          "group D",
          "group D",
          "group C",
          "group C",
          "group D",
          "group A",
          "group D",
          "group D",
          "group C",
          "group C",
          "group A",
          "group B",
          "group B",
          "group E",
          "group C",
          "group E",
          "group C",
          "group C",
          "group D",
          "group A",
          "group C",
          "group C",
          "group B",
          "group C",
          "group D",
          "group D",
          "group B",
          "group A",
          "group E",
          "group E",
          "group A",
          "group C"
         ],
         "xaxis": "x",
         "yaxis": "y"
        }
       ],
       "layout": {
        "barmode": "relative",
        "legend": {
         "title": {
          "text": "gender"
         },
         "tracegroupgap": 0
        },
        "template": {
         "data": {
          "bar": [
           {
            "error_x": {
             "color": "#2a3f5f"
            },
            "error_y": {
             "color": "#2a3f5f"
            },
            "marker": {
             "line": {
              "color": "#E5ECF6",
              "width": 0.5
             },
             "pattern": {
              "fillmode": "overlay",
              "size": 10,
              "solidity": 0.2
             }
            },
            "type": "bar"
           }
          ],
          "barpolar": [
           {
            "marker": {
             "line": {
              "color": "#E5ECF6",
              "width": 0.5
             },
             "pattern": {
              "fillmode": "overlay",
              "size": 10,
              "solidity": 0.2
             }
            },
            "type": "barpolar"
           }
          ],
          "carpet": [
           {
            "aaxis": {
             "endlinecolor": "#2a3f5f",
             "gridcolor": "white",
             "linecolor": "white",
             "minorgridcolor": "white",
             "startlinecolor": "#2a3f5f"
            },
            "baxis": {
             "endlinecolor": "#2a3f5f",
             "gridcolor": "white",
             "linecolor": "white",
             "minorgridcolor": "white",
             "startlinecolor": "#2a3f5f"
            },
            "type": "carpet"
           }
          ],
          "choropleth": [
           {
            "colorbar": {
             "outlinewidth": 0,
             "ticks": ""
            },
            "type": "choropleth"
           }
          ],
          "contour": [
           {
            "colorbar": {
             "outlinewidth": 0,
             "ticks": ""
            },
            "colorscale": [
             [
              0,
              "#0d0887"
             ],
             [
              0.1111111111111111,
              "#46039f"
             ],
             [
              0.2222222222222222,
              "#7201a8"
             ],
             [
              0.3333333333333333,
              "#9c179e"
             ],
             [
              0.4444444444444444,
              "#bd3786"
             ],
             [
              0.5555555555555556,
              "#d8576b"
             ],
             [
              0.6666666666666666,
              "#ed7953"
             ],
             [
              0.7777777777777778,
              "#fb9f3a"
             ],
             [
              0.8888888888888888,
              "#fdca26"
             ],
             [
              1,
              "#f0f921"
             ]
            ],
            "type": "contour"
           }
          ],
          "contourcarpet": [
           {
            "colorbar": {
             "outlinewidth": 0,
             "ticks": ""
            },
            "type": "contourcarpet"
           }
          ],
          "heatmap": [
           {
            "colorbar": {
             "outlinewidth": 0,
             "ticks": ""
            },
            "colorscale": [
             [
              0,
              "#0d0887"
             ],
             [
              0.1111111111111111,
              "#46039f"
             ],
             [
              0.2222222222222222,
              "#7201a8"
             ],
             [
              0.3333333333333333,
              "#9c179e"
             ],
             [
              0.4444444444444444,
              "#bd3786"
             ],
             [
              0.5555555555555556,
              "#d8576b"
             ],
             [
              0.6666666666666666,
              "#ed7953"
             ],
             [
              0.7777777777777778,
              "#fb9f3a"
             ],
             [
              0.8888888888888888,
              "#fdca26"
             ],
             [
              1,
              "#f0f921"
             ]
            ],
            "type": "heatmap"
           }
          ],
          "heatmapgl": [
           {
            "colorbar": {
             "outlinewidth": 0,
             "ticks": ""
            },
            "colorscale": [
             [
              0,
              "#0d0887"
             ],
             [
              0.1111111111111111,
              "#46039f"
             ],
             [
              0.2222222222222222,
              "#7201a8"
             ],
             [
              0.3333333333333333,
              "#9c179e"
             ],
             [
              0.4444444444444444,
              "#bd3786"
             ],
             [
              0.5555555555555556,
              "#d8576b"
             ],
             [
              0.6666666666666666,
              "#ed7953"
             ],
             [
              0.7777777777777778,
              "#fb9f3a"
             ],
             [
              0.8888888888888888,
              "#fdca26"
             ],
             [
              1,
              "#f0f921"
             ]
            ],
            "type": "heatmapgl"
           }
          ],
          "histogram": [
           {
            "marker": {
             "pattern": {
              "fillmode": "overlay",
              "size": 10,
              "solidity": 0.2
             }
            },
            "type": "histogram"
           }
          ],
          "histogram2d": [
           {
            "colorbar": {
             "outlinewidth": 0,
             "ticks": ""
            },
            "colorscale": [
             [
              0,
              "#0d0887"
             ],
             [
              0.1111111111111111,
              "#46039f"
             ],
             [
              0.2222222222222222,
              "#7201a8"
             ],
             [
              0.3333333333333333,
              "#9c179e"
             ],
             [
              0.4444444444444444,
              "#bd3786"
             ],
             [
              0.5555555555555556,
              "#d8576b"
             ],
             [
              0.6666666666666666,
              "#ed7953"
             ],
             [
              0.7777777777777778,
              "#fb9f3a"
             ],
             [
              0.8888888888888888,
              "#fdca26"
             ],
             [
              1,
              "#f0f921"
             ]
            ],
            "type": "histogram2d"
           }
          ],
          "histogram2dcontour": [
           {
            "colorbar": {
             "outlinewidth": 0,
             "ticks": ""
            },
            "colorscale": [
             [
              0,
              "#0d0887"
             ],
             [
              0.1111111111111111,
              "#46039f"
             ],
             [
              0.2222222222222222,
              "#7201a8"
             ],
             [
              0.3333333333333333,
              "#9c179e"
             ],
             [
              0.4444444444444444,
              "#bd3786"
             ],
             [
              0.5555555555555556,
              "#d8576b"
             ],
             [
              0.6666666666666666,
              "#ed7953"
             ],
             [
              0.7777777777777778,
              "#fb9f3a"
             ],
             [
              0.8888888888888888,
              "#fdca26"
             ],
             [
              1,
              "#f0f921"
             ]
            ],
            "type": "histogram2dcontour"
           }
          ],
          "mesh3d": [
           {
            "colorbar": {
             "outlinewidth": 0,
             "ticks": ""
            },
            "type": "mesh3d"
           }
          ],
          "parcoords": [
           {
            "line": {
             "colorbar": {
              "outlinewidth": 0,
              "ticks": ""
             }
            },
            "type": "parcoords"
           }
          ],
          "pie": [
           {
            "automargin": true,
            "type": "pie"
           }
          ],
          "scatter": [
           {
            "marker": {
             "colorbar": {
              "outlinewidth": 0,
              "ticks": ""
             }
            },
            "type": "scatter"
           }
          ],
          "scatter3d": [
           {
            "line": {
             "colorbar": {
              "outlinewidth": 0,
              "ticks": ""
             }
            },
            "marker": {
             "colorbar": {
              "outlinewidth": 0,
              "ticks": ""
             }
            },
            "type": "scatter3d"
           }
          ],
          "scattercarpet": [
           {
            "marker": {
             "colorbar": {
              "outlinewidth": 0,
              "ticks": ""
             }
            },
            "type": "scattercarpet"
           }
          ],
          "scattergeo": [
           {
            "marker": {
             "colorbar": {
              "outlinewidth": 0,
              "ticks": ""
             }
            },
            "type": "scattergeo"
           }
          ],
          "scattergl": [
           {
            "marker": {
             "colorbar": {
              "outlinewidth": 0,
              "ticks": ""
             }
            },
            "type": "scattergl"
           }
          ],
          "scattermapbox": [
           {
            "marker": {
             "colorbar": {
              "outlinewidth": 0,
              "ticks": ""
             }
            },
            "type": "scattermapbox"
           }
          ],
          "scatterpolar": [
           {
            "marker": {
             "colorbar": {
              "outlinewidth": 0,
              "ticks": ""
             }
            },
            "type": "scatterpolar"
           }
          ],
          "scatterpolargl": [
           {
            "marker": {
             "colorbar": {
              "outlinewidth": 0,
              "ticks": ""
             }
            },
            "type": "scatterpolargl"
           }
          ],
          "scatterternary": [
           {
            "marker": {
             "colorbar": {
              "outlinewidth": 0,
              "ticks": ""
             }
            },
            "type": "scatterternary"
           }
          ],
          "surface": [
           {
            "colorbar": {
             "outlinewidth": 0,
             "ticks": ""
            },
            "colorscale": [
             [
              0,
              "#0d0887"
             ],
             [
              0.1111111111111111,
              "#46039f"
             ],
             [
              0.2222222222222222,
              "#7201a8"
             ],
             [
              0.3333333333333333,
              "#9c179e"
             ],
             [
              0.4444444444444444,
              "#bd3786"
             ],
             [
              0.5555555555555556,
              "#d8576b"
             ],
             [
              0.6666666666666666,
              "#ed7953"
             ],
             [
              0.7777777777777778,
              "#fb9f3a"
             ],
             [
              0.8888888888888888,
              "#fdca26"
             ],
             [
              1,
              "#f0f921"
             ]
            ],
            "type": "surface"
           }
          ],
          "table": [
           {
            "cells": {
             "fill": {
              "color": "#EBF0F8"
             },
             "line": {
              "color": "white"
             }
            },
            "header": {
             "fill": {
              "color": "#C8D4E3"
             },
             "line": {
              "color": "white"
             }
            },
            "type": "table"
           }
          ]
         },
         "layout": {
          "annotationdefaults": {
           "arrowcolor": "#2a3f5f",
           "arrowhead": 0,
           "arrowwidth": 1
          },
          "autotypenumbers": "strict",
          "coloraxis": {
           "colorbar": {
            "outlinewidth": 0,
            "ticks": ""
           }
          },
          "colorscale": {
           "diverging": [
            [
             0,
             "#8e0152"
            ],
            [
             0.1,
             "#c51b7d"
            ],
            [
             0.2,
             "#de77ae"
            ],
            [
             0.3,
             "#f1b6da"
            ],
            [
             0.4,
             "#fde0ef"
            ],
            [
             0.5,
             "#f7f7f7"
            ],
            [
             0.6,
             "#e6f5d0"
            ],
            [
             0.7,
             "#b8e186"
            ],
            [
             0.8,
             "#7fbc41"
            ],
            [
             0.9,
             "#4d9221"
            ],
            [
             1,
             "#276419"
            ]
           ],
           "sequential": [
            [
             0,
             "#0d0887"
            ],
            [
             0.1111111111111111,
             "#46039f"
            ],
            [
             0.2222222222222222,
             "#7201a8"
            ],
            [
             0.3333333333333333,
             "#9c179e"
            ],
            [
             0.4444444444444444,
             "#bd3786"
            ],
            [
             0.5555555555555556,
             "#d8576b"
            ],
            [
             0.6666666666666666,
             "#ed7953"
            ],
            [
             0.7777777777777778,
             "#fb9f3a"
            ],
            [
             0.8888888888888888,
             "#fdca26"
            ],
            [
             1,
             "#f0f921"
            ]
           ],
           "sequentialminus": [
            [
             0,
             "#0d0887"
            ],
            [
             0.1111111111111111,
             "#46039f"
            ],
            [
             0.2222222222222222,
             "#7201a8"
            ],
            [
             0.3333333333333333,
             "#9c179e"
            ],
            [
             0.4444444444444444,
             "#bd3786"
            ],
            [
             0.5555555555555556,
             "#d8576b"
            ],
            [
             0.6666666666666666,
             "#ed7953"
            ],
            [
             0.7777777777777778,
             "#fb9f3a"
            ],
            [
             0.8888888888888888,
             "#fdca26"
            ],
            [
             1,
             "#f0f921"
            ]
           ]
          },
          "colorway": [
           "#636efa",
           "#EF553B",
           "#00cc96",
           "#ab63fa",
           "#FFA15A",
           "#19d3f3",
           "#FF6692",
           "#B6E880",
           "#FF97FF",
           "#FECB52"
          ],
          "font": {
           "color": "#2a3f5f"
          },
          "geo": {
           "bgcolor": "white",
           "lakecolor": "white",
           "landcolor": "#E5ECF6",
           "showlakes": true,
           "showland": true,
           "subunitcolor": "white"
          },
          "hoverlabel": {
           "align": "left"
          },
          "hovermode": "closest",
          "mapbox": {
           "style": "light"
          },
          "paper_bgcolor": "white",
          "plot_bgcolor": "#E5ECF6",
          "polar": {
           "angularaxis": {
            "gridcolor": "white",
            "linecolor": "white",
            "ticks": ""
           },
           "bgcolor": "#E5ECF6",
           "radialaxis": {
            "gridcolor": "white",
            "linecolor": "white",
            "ticks": ""
           }
          },
          "scene": {
           "xaxis": {
            "backgroundcolor": "#E5ECF6",
            "gridcolor": "white",
            "gridwidth": 2,
            "linecolor": "white",
            "showbackground": true,
            "ticks": "",
            "zerolinecolor": "white"
           },
           "yaxis": {
            "backgroundcolor": "#E5ECF6",
            "gridcolor": "white",
            "gridwidth": 2,
            "linecolor": "white",
            "showbackground": true,
            "ticks": "",
            "zerolinecolor": "white"
           },
           "zaxis": {
            "backgroundcolor": "#E5ECF6",
            "gridcolor": "white",
            "gridwidth": 2,
            "linecolor": "white",
            "showbackground": true,
            "ticks": "",
            "zerolinecolor": "white"
           }
          },
          "shapedefaults": {
           "line": {
            "color": "#2a3f5f"
           }
          },
          "ternary": {
           "aaxis": {
            "gridcolor": "white",
            "linecolor": "white",
            "ticks": ""
           },
           "baxis": {
            "gridcolor": "white",
            "linecolor": "white",
            "ticks": ""
           },
           "bgcolor": "#E5ECF6",
           "caxis": {
            "gridcolor": "white",
            "linecolor": "white",
            "ticks": ""
           }
          },
          "title": {
           "x": 0.05
          },
          "xaxis": {
           "automargin": true,
           "gridcolor": "white",
           "linecolor": "white",
           "ticks": "",
           "title": {
            "standoff": 15
           },
           "zerolinecolor": "white",
           "zerolinewidth": 2
          },
          "yaxis": {
           "automargin": true,
           "gridcolor": "white",
           "linecolor": "white",
           "ticks": "",
           "title": {
            "standoff": 15
           },
           "zerolinecolor": "white",
           "zerolinewidth": 2
          }
         }
        },
        "title": {
         "text": "Histogram of race/ethnicity according to gender"
        },
        "xaxis": {
         "anchor": "y",
         "categoryorder": "total ascending",
         "domain": [
          0,
          1
         ],
         "title": {
          "text": "race/ethnicity"
         }
        },
        "yaxis": {
         "anchor": "x",
         "domain": [
          0,
          1
         ],
         "title": {
          "text": "count"
         }
        }
       }
      },
      "text/html": [
       "<div>                            <div id=\"f22c6996-7803-4dbd-8728-f1d7a6da0d9e\" class=\"plotly-graph-div\" style=\"height:525px; width:100%;\"></div>            <script type=\"text/javascript\">                require([\"plotly\"], function(Plotly) {                    window.PLOTLYENV=window.PLOTLYENV || {};                                    if (document.getElementById(\"f22c6996-7803-4dbd-8728-f1d7a6da0d9e\")) {                    Plotly.newPlot(                        \"f22c6996-7803-4dbd-8728-f1d7a6da0d9e\",                        [{\"alignmentgroup\":\"True\",\"bingroup\":\"x\",\"hovertemplate\":\"gender=female<br>race/ethnicity=%{x}<br>count=%{y}<extra></extra>\",\"legendgroup\":\"female\",\"marker\":{\"color\":\"#636efa\",\"pattern\":{\"shape\":\"\"}},\"name\":\"female\",\"offsetgroup\":\"female\",\"orientation\":\"v\",\"showlegend\":true,\"texttemplate\":\"%{value}\",\"x\":[\"group B\",\"group C\",\"group B\",\"group B\",\"group B\",\"group B\",\"group B\",\"group A\",\"group C\",\"group B\",\"group C\",\"group B\",\"group C\",\"group C\",\"group D\",\"group D\",\"group B\",\"group E\",\"group D\",\"group D\",\"group D\",\"group C\",\"group B\",\"group E\",\"group A\",\"group C\",\"group D\",\"group C\",\"group C\",\"group E\",\"group C\",\"group C\",\"group D\",\"group C\",\"group C\",\"group D\",\"group A\",\"group D\",\"group E\",\"group B\",\"group C\",\"group C\",\"group D\",\"group A\",\"group D\",\"group C\",\"group B\",\"group E\",\"group D\",\"group D\",\"group D\",\"group C\",\"group D\",\"group B\",\"group B\",\"group D\",\"group D\",\"group E\",\"group B\",\"group D\",\"group D\",\"group C\",\"group C\",\"group C\",\"group B\",\"group A\",\"group C\",\"group C\",\"group D\",\"group C\",\"group E\",\"group C\",\"group D\",\"group B\",\"group C\",\"group E\",\"group B\",\"group E\",\"group E\",\"group C\",\"group B\",\"group B\",\"group C\",\"group D\",\"group C\",\"group C\",\"group C\",\"group B\",\"group C\",\"group B\",\"group D\",\"group C\",\"group E\",\"group D\",\"group C\",\"group E\",\"group B\",\"group C\",\"group B\",\"group B\",\"group C\",\"group D\",\"group B\",\"group B\",\"group B\",\"group C\",\"group E\",\"group C\",\"group D\",\"group C\",\"group B\",\"group E\",\"group C\",\"group C\",\"group B\",\"group D\",\"group E\",\"group D\",\"group B\",\"group B\",\"group D\",\"group B\",\"group E\",\"group C\",\"group B\",\"group C\",\"group C\",\"group C\",\"group E\",\"group C\",\"group D\",\"group D\",\"group E\",\"group D\",\"group D\",\"group C\",\"group E\",\"group C\",\"group D\",\"group D\",\"group B\",\"group B\",\"group E\",\"group C\",\"group C\",\"group B\",\"group D\",\"group B\",\"group C\",\"group C\",\"group D\",\"group D\",\"group C\",\"group E\",\"group C\",\"group C\",\"group C\",\"group C\",\"group B\",\"group C\",\"group B\",\"group B\",\"group D\",\"group C\",\"group B\",\"group C\",\"group C\",\"group B\",\"group C\",\"group C\",\"group C\",\"group B\",\"group C\",\"group D\",\"group B\",\"group C\",\"group D\",\"group A\",\"group D\",\"group C\",\"group D\",\"group D\",\"group D\",\"group D\",\"group A\",\"group B\",\"group E\",\"group A\",\"group E\",\"group E\",\"group C\",\"group D\",\"group D\",\"group C\",\"group B\",\"group C\",\"group C\",\"group A\",\"group D\",\"group C\",\"group C\",\"group B\",\"group D\",\"group D\",\"group C\",\"group C\",\"group D\",\"group D\",\"group A\",\"group C\",\"group C\",\"group A\",\"group C\",\"group D\",\"group A\",\"group B\",\"group C\",\"group C\",\"group E\",\"group C\",\"group C\",\"group D\",\"group E\",\"group E\",\"group C\",\"group C\",\"group D\",\"group A\",\"group C\",\"group C\",\"group C\",\"group D\",\"group B\",\"group D\",\"group D\",\"group D\",\"group B\",\"group C\",\"group A\",\"group C\",\"group C\",\"group C\",\"group B\",\"group C\",\"group D\",\"group B\",\"group D\",\"group B\",\"group E\",\"group D\",\"group B\",\"group C\",\"group B\",\"group B\",\"group C\",\"group D\",\"group E\",\"group D\",\"group B\",\"group C\",\"group C\",\"group D\",\"group C\",\"group C\",\"group C\",\"group E\",\"group C\",\"group D\",\"group C\",\"group D\",\"group D\",\"group A\",\"group C\",\"group B\",\"group C\",\"group C\",\"group B\",\"group D\",\"group C\",\"group D\",\"group E\",\"group D\",\"group C\",\"group C\",\"group E\",\"group B\",\"group B\",\"group D\",\"group D\",\"group E\",\"group D\",\"group D\",\"group D\",\"group C\",\"group A\",\"group C\",\"group C\",\"group A\",\"group E\",\"group C\",\"group C\",\"group D\",\"group D\",\"group D\",\"group C\",\"group E\",\"group C\",\"group C\",\"group E\",\"group B\",\"group C\",\"group C\",\"group A\",\"group C\",\"group E\",\"group C\",\"group E\",\"group C\",\"group B\",\"group C\",\"group B\",\"group D\",\"group D\",\"group D\",\"group B\",\"group E\",\"group B\",\"group D\",\"group E\",\"group B\",\"group D\",\"group A\",\"group D\",\"group A\",\"group B\",\"group B\",\"group D\",\"group D\",\"group C\",\"group C\",\"group C\",\"group B\",\"group C\",\"group C\",\"group C\",\"group D\",\"group B\",\"group E\",\"group C\",\"group D\",\"group C\",\"group E\",\"group C\",\"group E\",\"group C\",\"group D\",\"group C\",\"group D\",\"group C\",\"group A\",\"group D\",\"group E\",\"group B\",\"group D\",\"group B\",\"group D\",\"group E\",\"group D\",\"group B\",\"group B\",\"group C\",\"group C\",\"group C\",\"group B\",\"group E\",\"group D\",\"group B\",\"group C\",\"group E\",\"group B\",\"group A\",\"group C\",\"group C\",\"group C\",\"group C\",\"group E\",\"group D\",\"group C\",\"group D\",\"group B\",\"group B\",\"group C\",\"group D\",\"group B\",\"group C\",\"group B\",\"group B\",\"group C\",\"group A\",\"group D\",\"group B\",\"group B\",\"group C\",\"group B\",\"group E\",\"group B\",\"group C\",\"group B\",\"group D\",\"group B\",\"group E\",\"group E\",\"group C\",\"group E\",\"group B\",\"group C\",\"group D\",\"group E\",\"group C\",\"group C\",\"group A\",\"group B\",\"group C\",\"group A\",\"group D\",\"group B\",\"group C\",\"group C\",\"group C\",\"group D\",\"group A\",\"group C\",\"group B\",\"group C\",\"group A\",\"group C\",\"group D\",\"group B\",\"group D\",\"group C\",\"group A\",\"group E\",\"group B\",\"group C\",\"group C\",\"group E\",\"group C\",\"group C\",\"group C\",\"group D\",\"group D\",\"group E\",\"group B\",\"group E\",\"group C\",\"group E\",\"group D\",\"group E\",\"group E\",\"group A\",\"group E\",\"group E\",\"group B\",\"group D\",\"group C\",\"group A\",\"group D\",\"group D\",\"group D\",\"group C\",\"group A\",\"group C\",\"group C\",\"group B\",\"group E\",\"group C\",\"group C\",\"group C\",\"group B\",\"group D\",\"group C\",\"group E\",\"group D\",\"group B\",\"group C\",\"group D\",\"group E\",\"group D\",\"group E\",\"group C\",\"group D\",\"group D\",\"group A\",\"group D\",\"group E\",\"group C\",\"group D\",\"group E\",\"group B\",\"group D\",\"group A\",\"group D\",\"group A\",\"group C\",\"group C\",\"group B\",\"group A\",\"group C\",\"group C\",\"group A\",\"group D\",\"group B\",\"group D\",\"group D\",\"group E\",\"group C\",\"group D\",\"group D\"],\"xaxis\":\"x\",\"yaxis\":\"y\",\"type\":\"histogram\",\"textposition\":\"outside\"},{\"alignmentgroup\":\"True\",\"bingroup\":\"x\",\"hovertemplate\":\"gender=male<br>race/ethnicity=%{x}<br>count=%{y}<extra></extra>\",\"legendgroup\":\"male\",\"marker\":{\"color\":\"#EF553B\",\"pattern\":{\"shape\":\"\"}},\"name\":\"male\",\"offsetgroup\":\"male\",\"orientation\":\"v\",\"showlegend\":true,\"texttemplate\":\"%{value}\",\"x\":[\"group A\",\"group C\",\"group B\",\"group D\",\"group C\",\"group D\",\"group A\",\"group C\",\"group C\",\"group D\",\"group D\",\"group D\",\"group A\",\"group B\",\"group C\",\"group D\",\"group E\",\"group E\",\"group B\",\"group C\",\"group B\",\"group B\",\"group C\",\"group E\",\"group E\",\"group C\",\"group D\",\"group D\",\"group D\",\"group E\",\"group A\",\"group A\",\"group B\",\"group D\",\"group B\",\"group D\",\"group C\",\"group C\",\"group B\",\"group E\",\"group A\",\"group B\",\"group A\",\"group E\",\"group D\",\"group C\",\"group C\",\"group C\",\"group C\",\"group B\",\"group B\",\"group D\",\"group B\",\"group C\",\"group E\",\"group C\",\"group A\",\"group C\",\"group B\",\"group D\",\"group E\",\"group B\",\"group D\",\"group D\",\"group D\",\"group C\",\"group E\",\"group D\",\"group C\",\"group B\",\"group E\",\"group D\",\"group A\",\"group D\",\"group B\",\"group C\",\"group E\",\"group A\",\"group A\",\"group D\",\"group D\",\"group B\",\"group D\",\"group B\",\"group B\",\"group C\",\"group C\",\"group A\",\"group E\",\"group C\",\"group C\",\"group C\",\"group E\",\"group D\",\"group B\",\"group D\",\"group D\",\"group D\",\"group C\",\"group E\",\"group C\",\"group C\",\"group D\",\"group E\",\"group E\",\"group D\",\"group C\",\"group C\",\"group E\",\"group B\",\"group B\",\"group B\",\"group B\",\"group D\",\"group D\",\"group A\",\"group D\",\"group C\",\"group E\",\"group C\",\"group D\",\"group D\",\"group B\",\"group C\",\"group D\",\"group E\",\"group D\",\"group C\",\"group E\",\"group C\",\"group A\",\"group D\",\"group D\",\"group C\",\"group C\",\"group D\",\"group D\",\"group C\",\"group C\",\"group B\",\"group C\",\"group B\",\"group D\",\"group D\",\"group B\",\"group E\",\"group B\",\"group E\",\"group C\",\"group D\",\"group C\",\"group D\",\"group B\",\"group A\",\"group E\",\"group C\",\"group D\",\"group A\",\"group D\",\"group B\",\"group A\",\"group E\",\"group C\",\"group B\",\"group D\",\"group C\",\"group C\",\"group B\",\"group C\",\"group A\",\"group C\",\"group C\",\"group C\",\"group E\",\"group B\",\"group D\",\"group C\",\"group C\",\"group D\",\"group D\",\"group B\",\"group D\",\"group E\",\"group E\",\"group A\",\"group D\",\"group B\",\"group C\",\"group A\",\"group C\",\"group C\",\"group E\",\"group D\",\"group E\",\"group A\",\"group C\",\"group C\",\"group D\",\"group E\",\"group E\",\"group C\",\"group A\",\"group B\",\"group D\",\"group A\",\"group B\",\"group D\",\"group E\",\"group D\",\"group B\",\"group E\",\"group C\",\"group C\",\"group D\",\"group E\",\"group B\",\"group C\",\"group C\",\"group A\",\"group C\",\"group C\",\"group C\",\"group C\",\"group C\",\"group D\",\"group D\",\"group C\",\"group D\",\"group A\",\"group D\",\"group C\",\"group B\",\"group B\",\"group C\",\"group C\",\"group D\",\"group B\",\"group C\",\"group B\",\"group A\",\"group A\",\"group C\",\"group E\",\"group D\",\"group E\",\"group B\",\"group C\",\"group A\",\"group C\",\"group D\",\"group B\",\"group A\",\"group D\",\"group E\",\"group C\",\"group A\",\"group B\",\"group C\",\"group D\",\"group A\",\"group D\",\"group D\",\"group D\",\"group C\",\"group C\",\"group E\",\"group C\",\"group E\",\"group B\",\"group C\",\"group E\",\"group A\",\"group C\",\"group D\",\"group E\",\"group C\",\"group C\",\"group C\",\"group B\",\"group D\",\"group E\",\"group C\",\"group D\",\"group C\",\"group B\",\"group B\",\"group B\",\"group D\",\"group B\",\"group A\",\"group A\",\"group A\",\"group C\",\"group A\",\"group E\",\"group B\",\"group A\",\"group D\",\"group D\",\"group C\",\"group D\",\"group C\",\"group D\",\"group D\",\"group C\",\"group B\",\"group C\",\"group A\",\"group D\",\"group B\",\"group D\",\"group D\",\"group D\",\"group B\",\"group D\",\"group A\",\"group E\",\"group D\",\"group B\",\"group C\",\"group C\",\"group D\",\"group D\",\"group C\",\"group C\",\"group D\",\"group C\",\"group D\",\"group D\",\"group D\",\"group D\",\"group B\",\"group B\",\"group B\",\"group E\",\"group D\",\"group A\",\"group E\",\"group C\",\"group A\",\"group A\",\"group D\",\"group C\",\"group D\",\"group C\",\"group D\",\"group C\",\"group E\",\"group D\",\"group C\",\"group B\",\"group E\",\"group E\",\"group C\",\"group A\",\"group D\",\"group C\",\"group C\",\"group D\",\"group C\",\"group D\",\"group B\",\"group D\",\"group D\",\"group C\",\"group B\",\"group D\",\"group E\",\"group C\",\"group C\",\"group D\",\"group E\",\"group B\",\"group D\",\"group D\",\"group B\",\"group A\",\"group B\",\"group D\",\"group B\",\"group E\",\"group C\",\"group C\",\"group D\",\"group E\",\"group D\",\"group E\",\"group C\",\"group C\",\"group A\",\"group C\",\"group B\",\"group A\",\"group A\",\"group E\",\"group B\",\"group D\",\"group E\",\"group C\",\"group B\",\"group A\",\"group B\",\"group E\",\"group B\",\"group C\",\"group B\",\"group E\",\"group C\",\"group D\",\"group D\",\"group C\",\"group E\",\"group C\",\"group B\",\"group B\",\"group C\",\"group D\",\"group C\",\"group D\",\"group C\",\"group B\",\"group E\",\"group C\",\"group B\",\"group B\",\"group E\",\"group C\",\"group D\",\"group C\",\"group C\",\"group D\",\"group C\",\"group D\",\"group D\",\"group B\",\"group D\",\"group D\",\"group D\",\"group B\",\"group E\",\"group D\",\"group E\",\"group B\",\"group D\",\"group D\",\"group D\",\"group E\",\"group E\",\"group E\",\"group C\",\"group D\",\"group D\",\"group C\",\"group C\",\"group D\",\"group A\",\"group D\",\"group D\",\"group C\",\"group C\",\"group A\",\"group B\",\"group B\",\"group E\",\"group C\",\"group E\",\"group C\",\"group C\",\"group D\",\"group A\",\"group C\",\"group C\",\"group B\",\"group C\",\"group D\",\"group D\",\"group B\",\"group A\",\"group E\",\"group E\",\"group A\",\"group C\"],\"xaxis\":\"x\",\"yaxis\":\"y\",\"type\":\"histogram\",\"textposition\":\"outside\"}],                        {\"template\":{\"data\":{\"bar\":[{\"error_x\":{\"color\":\"#2a3f5f\"},\"error_y\":{\"color\":\"#2a3f5f\"},\"marker\":{\"line\":{\"color\":\"#E5ECF6\",\"width\":0.5},\"pattern\":{\"fillmode\":\"overlay\",\"size\":10,\"solidity\":0.2}},\"type\":\"bar\"}],\"barpolar\":[{\"marker\":{\"line\":{\"color\":\"#E5ECF6\",\"width\":0.5},\"pattern\":{\"fillmode\":\"overlay\",\"size\":10,\"solidity\":0.2}},\"type\":\"barpolar\"}],\"carpet\":[{\"aaxis\":{\"endlinecolor\":\"#2a3f5f\",\"gridcolor\":\"white\",\"linecolor\":\"white\",\"minorgridcolor\":\"white\",\"startlinecolor\":\"#2a3f5f\"},\"baxis\":{\"endlinecolor\":\"#2a3f5f\",\"gridcolor\":\"white\",\"linecolor\":\"white\",\"minorgridcolor\":\"white\",\"startlinecolor\":\"#2a3f5f\"},\"type\":\"carpet\"}],\"choropleth\":[{\"colorbar\":{\"outlinewidth\":0,\"ticks\":\"\"},\"type\":\"choropleth\"}],\"contour\":[{\"colorbar\":{\"outlinewidth\":0,\"ticks\":\"\"},\"colorscale\":[[0.0,\"#0d0887\"],[0.1111111111111111,\"#46039f\"],[0.2222222222222222,\"#7201a8\"],[0.3333333333333333,\"#9c179e\"],[0.4444444444444444,\"#bd3786\"],[0.5555555555555556,\"#d8576b\"],[0.6666666666666666,\"#ed7953\"],[0.7777777777777778,\"#fb9f3a\"],[0.8888888888888888,\"#fdca26\"],[1.0,\"#f0f921\"]],\"type\":\"contour\"}],\"contourcarpet\":[{\"colorbar\":{\"outlinewidth\":0,\"ticks\":\"\"},\"type\":\"contourcarpet\"}],\"heatmap\":[{\"colorbar\":{\"outlinewidth\":0,\"ticks\":\"\"},\"colorscale\":[[0.0,\"#0d0887\"],[0.1111111111111111,\"#46039f\"],[0.2222222222222222,\"#7201a8\"],[0.3333333333333333,\"#9c179e\"],[0.4444444444444444,\"#bd3786\"],[0.5555555555555556,\"#d8576b\"],[0.6666666666666666,\"#ed7953\"],[0.7777777777777778,\"#fb9f3a\"],[0.8888888888888888,\"#fdca26\"],[1.0,\"#f0f921\"]],\"type\":\"heatmap\"}],\"heatmapgl\":[{\"colorbar\":{\"outlinewidth\":0,\"ticks\":\"\"},\"colorscale\":[[0.0,\"#0d0887\"],[0.1111111111111111,\"#46039f\"],[0.2222222222222222,\"#7201a8\"],[0.3333333333333333,\"#9c179e\"],[0.4444444444444444,\"#bd3786\"],[0.5555555555555556,\"#d8576b\"],[0.6666666666666666,\"#ed7953\"],[0.7777777777777778,\"#fb9f3a\"],[0.8888888888888888,\"#fdca26\"],[1.0,\"#f0f921\"]],\"type\":\"heatmapgl\"}],\"histogram\":[{\"marker\":{\"pattern\":{\"fillmode\":\"overlay\",\"size\":10,\"solidity\":0.2}},\"type\":\"histogram\"}],\"histogram2d\":[{\"colorbar\":{\"outlinewidth\":0,\"ticks\":\"\"},\"colorscale\":[[0.0,\"#0d0887\"],[0.1111111111111111,\"#46039f\"],[0.2222222222222222,\"#7201a8\"],[0.3333333333333333,\"#9c179e\"],[0.4444444444444444,\"#bd3786\"],[0.5555555555555556,\"#d8576b\"],[0.6666666666666666,\"#ed7953\"],[0.7777777777777778,\"#fb9f3a\"],[0.8888888888888888,\"#fdca26\"],[1.0,\"#f0f921\"]],\"type\":\"histogram2d\"}],\"histogram2dcontour\":[{\"colorbar\":{\"outlinewidth\":0,\"ticks\":\"\"},\"colorscale\":[[0.0,\"#0d0887\"],[0.1111111111111111,\"#46039f\"],[0.2222222222222222,\"#7201a8\"],[0.3333333333333333,\"#9c179e\"],[0.4444444444444444,\"#bd3786\"],[0.5555555555555556,\"#d8576b\"],[0.6666666666666666,\"#ed7953\"],[0.7777777777777778,\"#fb9f3a\"],[0.8888888888888888,\"#fdca26\"],[1.0,\"#f0f921\"]],\"type\":\"histogram2dcontour\"}],\"mesh3d\":[{\"colorbar\":{\"outlinewidth\":0,\"ticks\":\"\"},\"type\":\"mesh3d\"}],\"parcoords\":[{\"line\":{\"colorbar\":{\"outlinewidth\":0,\"ticks\":\"\"}},\"type\":\"parcoords\"}],\"pie\":[{\"automargin\":true,\"type\":\"pie\"}],\"scatter\":[{\"marker\":{\"colorbar\":{\"outlinewidth\":0,\"ticks\":\"\"}},\"type\":\"scatter\"}],\"scatter3d\":[{\"line\":{\"colorbar\":{\"outlinewidth\":0,\"ticks\":\"\"}},\"marker\":{\"colorbar\":{\"outlinewidth\":0,\"ticks\":\"\"}},\"type\":\"scatter3d\"}],\"scattercarpet\":[{\"marker\":{\"colorbar\":{\"outlinewidth\":0,\"ticks\":\"\"}},\"type\":\"scattercarpet\"}],\"scattergeo\":[{\"marker\":{\"colorbar\":{\"outlinewidth\":0,\"ticks\":\"\"}},\"type\":\"scattergeo\"}],\"scattergl\":[{\"marker\":{\"colorbar\":{\"outlinewidth\":0,\"ticks\":\"\"}},\"type\":\"scattergl\"}],\"scattermapbox\":[{\"marker\":{\"colorbar\":{\"outlinewidth\":0,\"ticks\":\"\"}},\"type\":\"scattermapbox\"}],\"scatterpolar\":[{\"marker\":{\"colorbar\":{\"outlinewidth\":0,\"ticks\":\"\"}},\"type\":\"scatterpolar\"}],\"scatterpolargl\":[{\"marker\":{\"colorbar\":{\"outlinewidth\":0,\"ticks\":\"\"}},\"type\":\"scatterpolargl\"}],\"scatterternary\":[{\"marker\":{\"colorbar\":{\"outlinewidth\":0,\"ticks\":\"\"}},\"type\":\"scatterternary\"}],\"surface\":[{\"colorbar\":{\"outlinewidth\":0,\"ticks\":\"\"},\"colorscale\":[[0.0,\"#0d0887\"],[0.1111111111111111,\"#46039f\"],[0.2222222222222222,\"#7201a8\"],[0.3333333333333333,\"#9c179e\"],[0.4444444444444444,\"#bd3786\"],[0.5555555555555556,\"#d8576b\"],[0.6666666666666666,\"#ed7953\"],[0.7777777777777778,\"#fb9f3a\"],[0.8888888888888888,\"#fdca26\"],[1.0,\"#f0f921\"]],\"type\":\"surface\"}],\"table\":[{\"cells\":{\"fill\":{\"color\":\"#EBF0F8\"},\"line\":{\"color\":\"white\"}},\"header\":{\"fill\":{\"color\":\"#C8D4E3\"},\"line\":{\"color\":\"white\"}},\"type\":\"table\"}]},\"layout\":{\"annotationdefaults\":{\"arrowcolor\":\"#2a3f5f\",\"arrowhead\":0,\"arrowwidth\":1},\"autotypenumbers\":\"strict\",\"coloraxis\":{\"colorbar\":{\"outlinewidth\":0,\"ticks\":\"\"}},\"colorscale\":{\"diverging\":[[0,\"#8e0152\"],[0.1,\"#c51b7d\"],[0.2,\"#de77ae\"],[0.3,\"#f1b6da\"],[0.4,\"#fde0ef\"],[0.5,\"#f7f7f7\"],[0.6,\"#e6f5d0\"],[0.7,\"#b8e186\"],[0.8,\"#7fbc41\"],[0.9,\"#4d9221\"],[1,\"#276419\"]],\"sequential\":[[0.0,\"#0d0887\"],[0.1111111111111111,\"#46039f\"],[0.2222222222222222,\"#7201a8\"],[0.3333333333333333,\"#9c179e\"],[0.4444444444444444,\"#bd3786\"],[0.5555555555555556,\"#d8576b\"],[0.6666666666666666,\"#ed7953\"],[0.7777777777777778,\"#fb9f3a\"],[0.8888888888888888,\"#fdca26\"],[1.0,\"#f0f921\"]],\"sequentialminus\":[[0.0,\"#0d0887\"],[0.1111111111111111,\"#46039f\"],[0.2222222222222222,\"#7201a8\"],[0.3333333333333333,\"#9c179e\"],[0.4444444444444444,\"#bd3786\"],[0.5555555555555556,\"#d8576b\"],[0.6666666666666666,\"#ed7953\"],[0.7777777777777778,\"#fb9f3a\"],[0.8888888888888888,\"#fdca26\"],[1.0,\"#f0f921\"]]},\"colorway\":[\"#636efa\",\"#EF553B\",\"#00cc96\",\"#ab63fa\",\"#FFA15A\",\"#19d3f3\",\"#FF6692\",\"#B6E880\",\"#FF97FF\",\"#FECB52\"],\"font\":{\"color\":\"#2a3f5f\"},\"geo\":{\"bgcolor\":\"white\",\"lakecolor\":\"white\",\"landcolor\":\"#E5ECF6\",\"showlakes\":true,\"showland\":true,\"subunitcolor\":\"white\"},\"hoverlabel\":{\"align\":\"left\"},\"hovermode\":\"closest\",\"mapbox\":{\"style\":\"light\"},\"paper_bgcolor\":\"white\",\"plot_bgcolor\":\"#E5ECF6\",\"polar\":{\"angularaxis\":{\"gridcolor\":\"white\",\"linecolor\":\"white\",\"ticks\":\"\"},\"bgcolor\":\"#E5ECF6\",\"radialaxis\":{\"gridcolor\":\"white\",\"linecolor\":\"white\",\"ticks\":\"\"}},\"scene\":{\"xaxis\":{\"backgroundcolor\":\"#E5ECF6\",\"gridcolor\":\"white\",\"gridwidth\":2,\"linecolor\":\"white\",\"showbackground\":true,\"ticks\":\"\",\"zerolinecolor\":\"white\"},\"yaxis\":{\"backgroundcolor\":\"#E5ECF6\",\"gridcolor\":\"white\",\"gridwidth\":2,\"linecolor\":\"white\",\"showbackground\":true,\"ticks\":\"\",\"zerolinecolor\":\"white\"},\"zaxis\":{\"backgroundcolor\":\"#E5ECF6\",\"gridcolor\":\"white\",\"gridwidth\":2,\"linecolor\":\"white\",\"showbackground\":true,\"ticks\":\"\",\"zerolinecolor\":\"white\"}},\"shapedefaults\":{\"line\":{\"color\":\"#2a3f5f\"}},\"ternary\":{\"aaxis\":{\"gridcolor\":\"white\",\"linecolor\":\"white\",\"ticks\":\"\"},\"baxis\":{\"gridcolor\":\"white\",\"linecolor\":\"white\",\"ticks\":\"\"},\"bgcolor\":\"#E5ECF6\",\"caxis\":{\"gridcolor\":\"white\",\"linecolor\":\"white\",\"ticks\":\"\"}},\"title\":{\"x\":0.05},\"xaxis\":{\"automargin\":true,\"gridcolor\":\"white\",\"linecolor\":\"white\",\"ticks\":\"\",\"title\":{\"standoff\":15},\"zerolinecolor\":\"white\",\"zerolinewidth\":2},\"yaxis\":{\"automargin\":true,\"gridcolor\":\"white\",\"linecolor\":\"white\",\"ticks\":\"\",\"title\":{\"standoff\":15},\"zerolinecolor\":\"white\",\"zerolinewidth\":2}}},\"xaxis\":{\"anchor\":\"y\",\"domain\":[0.0,1.0],\"title\":{\"text\":\"race/ethnicity\"},\"categoryorder\":\"total ascending\"},\"yaxis\":{\"anchor\":\"x\",\"domain\":[0.0,1.0],\"title\":{\"text\":\"count\"}},\"legend\":{\"title\":{\"text\":\"gender\"},\"tracegroupgap\":0},\"title\":{\"text\":\"Histogram of race/ethnicity according to gender\"},\"barmode\":\"relative\"},                        {\"responsive\": true}                    ).then(function(){\n",
       "                            \n",
       "var gd = document.getElementById('f22c6996-7803-4dbd-8728-f1d7a6da0d9e');\n",
       "var x = new MutationObserver(function (mutations, observer) {{\n",
       "        var display = window.getComputedStyle(gd).display;\n",
       "        if (!display || display === 'none') {{\n",
       "            console.log([gd, 'removed!']);\n",
       "            Plotly.purge(gd);\n",
       "            observer.disconnect();\n",
       "        }}\n",
       "}});\n",
       "\n",
       "// Listen for the removal of the full notebook cells\n",
       "var notebookContainer = gd.closest('#notebook-container');\n",
       "if (notebookContainer) {{\n",
       "    x.observe(notebookContainer, {childList: true});\n",
       "}}\n",
       "\n",
       "// Listen for the clearing of the current output cell\n",
       "var outputEl = gd.closest('.output');\n",
       "if (outputEl) {{\n",
       "    x.observe(outputEl, {childList: true});\n",
       "}}\n",
       "\n",
       "                        })                };                });            </script>        </div>"
      ]
     },
     "metadata": {},
     "output_type": "display_data"
    }
   ],
   "source": [
    "# checking race/ethnicity with gender\n",
    "fig = px.histogram(data,\n",
    "                   x=\"race/ethnicity\",\n",
    "                   title='Histogram of race/ethnicity according to gender',\n",
    "                   color='gender',          \n",
    "                   text_auto=True)\n",
    "fig.update_traces(textposition='outside')\n",
    "fig.update_xaxes(categoryorder='total ascending')"
   ]
  },
  {
   "cell_type": "markdown",
   "id": "704aacd1",
   "metadata": {},
   "source": [
    "**We can say, there are more females in  Group B and Group C.**"
   ]
  },
  {
   "cell_type": "code",
   "execution_count": 28,
   "id": "bb9fa005",
   "metadata": {
    "ExecuteTime": {
     "end_time": "2022-07-15T15:47:58.329731Z",
     "start_time": "2022-07-15T15:47:58.266900Z"
    }
   },
   "outputs": [
    {
     "data": {
      "application/vnd.plotly.v1+json": {
       "config": {
        "plotlyServerURL": "https://plot.ly"
       },
       "data": [
        {
         "alignmentgroup": "True",
         "hovertemplate": "gender=female<br>lunch=%{x}<br>math score=%{y}<extra></extra>",
         "legendgroup": "female",
         "marker": {
          "color": "#636efa"
         },
         "name": "female",
         "notched": false,
         "offsetgroup": "female",
         "orientation": "v",
         "showlegend": true,
         "type": "box",
         "x": [
          "standard",
          "standard",
          "standard",
          "standard",
          "standard",
          "free/reduced",
          "standard",
          "standard",
          "standard",
          "free/reduced",
          "free/reduced",
          "free/reduced",
          "standard",
          "standard",
          "standard",
          "standard",
          "standard",
          "free/reduced",
          "standard",
          "free/reduced",
          "free/reduced",
          "standard",
          "standard",
          "free/reduced",
          "standard",
          "standard",
          "free/reduced",
          "free/reduced",
          "free/reduced",
          "standard",
          "free/reduced",
          "standard",
          "standard",
          "standard",
          "standard",
          "free/reduced",
          "free/reduced",
          "standard",
          "standard",
          "standard",
          "standard",
          "free/reduced",
          "standard",
          "standard",
          "standard",
          "standard",
          "standard",
          "standard",
          "free/reduced",
          "standard",
          "standard",
          "standard",
          "standard",
          "free/reduced",
          "standard",
          "free/reduced",
          "standard",
          "standard",
          "free/reduced",
          "standard",
          "standard",
          "standard",
          "standard",
          "standard",
          "standard",
          "standard",
          "standard",
          "standard",
          "standard",
          "free/reduced",
          "free/reduced",
          "free/reduced",
          "standard",
          "standard",
          "standard",
          "free/reduced",
          "standard",
          "free/reduced",
          "standard",
          "standard",
          "free/reduced",
          "standard",
          "free/reduced",
          "standard",
          "standard",
          "free/reduced",
          "standard",
          "free/reduced",
          "standard",
          "free/reduced",
          "standard",
          "free/reduced",
          "standard",
          "standard",
          "standard",
          "standard",
          "standard",
          "standard",
          "free/reduced",
          "free/reduced",
          "standard",
          "free/reduced",
          "standard",
          "free/reduced",
          "free/reduced",
          "free/reduced",
          "free/reduced",
          "free/reduced",
          "standard",
          "free/reduced",
          "standard",
          "free/reduced",
          "standard",
          "standard",
          "standard",
          "standard",
          "standard",
          "standard",
          "standard",
          "standard",
          "free/reduced",
          "standard",
          "standard",
          "free/reduced",
          "standard",
          "free/reduced",
          "free/reduced",
          "free/reduced",
          "standard",
          "standard",
          "standard",
          "standard",
          "free/reduced",
          "free/reduced",
          "standard",
          "standard",
          "standard",
          "free/reduced",
          "free/reduced",
          "free/reduced",
          "standard",
          "standard",
          "standard",
          "standard",
          "standard",
          "free/reduced",
          "free/reduced",
          "standard",
          "free/reduced",
          "standard",
          "standard",
          "free/reduced",
          "free/reduced",
          "standard",
          "standard",
          "free/reduced",
          "free/reduced",
          "standard",
          "standard",
          "standard",
          "free/reduced",
          "free/reduced",
          "free/reduced",
          "standard",
          "standard",
          "standard",
          "standard",
          "standard",
          "standard",
          "standard",
          "standard",
          "standard",
          "free/reduced",
          "standard",
          "standard",
          "standard",
          "free/reduced",
          "free/reduced",
          "standard",
          "free/reduced",
          "standard",
          "standard",
          "standard",
          "free/reduced",
          "standard",
          "standard",
          "free/reduced",
          "free/reduced",
          "standard",
          "standard",
          "free/reduced",
          "standard",
          "standard",
          "standard",
          "free/reduced",
          "standard",
          "standard",
          "free/reduced",
          "standard",
          "standard",
          "standard",
          "standard",
          "free/reduced",
          "standard",
          "free/reduced",
          "free/reduced",
          "standard",
          "free/reduced",
          "standard",
          "free/reduced",
          "standard",
          "free/reduced",
          "standard",
          "standard",
          "free/reduced",
          "standard",
          "standard",
          "free/reduced",
          "standard",
          "free/reduced",
          "free/reduced",
          "standard",
          "standard",
          "standard",
          "free/reduced",
          "standard",
          "free/reduced",
          "free/reduced",
          "standard",
          "standard",
          "standard",
          "standard",
          "standard",
          "standard",
          "standard",
          "free/reduced",
          "standard",
          "free/reduced",
          "free/reduced",
          "standard",
          "standard",
          "standard",
          "standard",
          "standard",
          "free/reduced",
          "standard",
          "standard",
          "standard",
          "standard",
          "free/reduced",
          "standard",
          "standard",
          "standard",
          "free/reduced",
          "standard",
          "standard",
          "standard",
          "standard",
          "free/reduced",
          "standard",
          "free/reduced",
          "free/reduced",
          "standard",
          "standard",
          "standard",
          "standard",
          "free/reduced",
          "standard",
          "standard",
          "standard",
          "standard",
          "standard",
          "free/reduced",
          "standard",
          "free/reduced",
          "standard",
          "free/reduced",
          "standard",
          "standard",
          "free/reduced",
          "free/reduced",
          "free/reduced",
          "standard",
          "free/reduced",
          "standard",
          "standard",
          "free/reduced",
          "standard",
          "standard",
          "standard",
          "free/reduced",
          "standard",
          "standard",
          "standard",
          "standard",
          "free/reduced",
          "standard",
          "standard",
          "standard",
          "standard",
          "standard",
          "standard",
          "standard",
          "standard",
          "standard",
          "standard",
          "standard",
          "free/reduced",
          "standard",
          "standard",
          "standard",
          "standard",
          "standard",
          "standard",
          "standard",
          "free/reduced",
          "free/reduced",
          "standard",
          "standard",
          "standard",
          "free/reduced",
          "standard",
          "standard",
          "free/reduced",
          "free/reduced",
          "standard",
          "standard",
          "standard",
          "free/reduced",
          "standard",
          "standard",
          "standard",
          "standard",
          "standard",
          "standard",
          "standard",
          "free/reduced",
          "free/reduced",
          "standard",
          "free/reduced",
          "free/reduced",
          "free/reduced",
          "free/reduced",
          "standard",
          "standard",
          "standard",
          "standard",
          "standard",
          "standard",
          "standard",
          "free/reduced",
          "standard",
          "standard",
          "free/reduced",
          "free/reduced",
          "standard",
          "standard",
          "free/reduced",
          "standard",
          "standard",
          "standard",
          "standard",
          "standard",
          "standard",
          "free/reduced",
          "free/reduced",
          "standard",
          "standard",
          "standard",
          "free/reduced",
          "standard",
          "standard",
          "free/reduced",
          "free/reduced",
          "standard",
          "free/reduced",
          "free/reduced",
          "standard",
          "free/reduced",
          "free/reduced",
          "free/reduced",
          "standard",
          "standard",
          "free/reduced",
          "standard",
          "standard",
          "free/reduced",
          "free/reduced",
          "standard",
          "standard",
          "standard",
          "standard",
          "standard",
          "free/reduced",
          "free/reduced",
          "free/reduced",
          "standard",
          "free/reduced",
          "standard",
          "free/reduced",
          "standard",
          "free/reduced",
          "standard",
          "standard",
          "free/reduced",
          "standard",
          "free/reduced",
          "standard",
          "free/reduced",
          "standard",
          "free/reduced",
          "free/reduced",
          "standard",
          "standard",
          "standard",
          "standard",
          "free/reduced",
          "free/reduced",
          "standard",
          "standard",
          "standard",
          "free/reduced",
          "standard",
          "standard",
          "free/reduced",
          "free/reduced",
          "free/reduced",
          "free/reduced",
          "standard",
          "free/reduced",
          "free/reduced",
          "free/reduced",
          "standard",
          "standard",
          "standard",
          "standard",
          "free/reduced",
          "free/reduced",
          "free/reduced",
          "standard",
          "standard",
          "standard",
          "standard",
          "standard",
          "standard",
          "free/reduced",
          "standard",
          "standard",
          "free/reduced",
          "standard",
          "standard",
          "standard",
          "free/reduced",
          "standard",
          "standard",
          "standard",
          "free/reduced",
          "standard",
          "standard",
          "free/reduced",
          "standard",
          "free/reduced",
          "free/reduced",
          "standard",
          "standard",
          "free/reduced",
          "free/reduced",
          "free/reduced",
          "standard",
          "free/reduced",
          "standard",
          "standard",
          "free/reduced",
          "free/reduced",
          "standard",
          "standard",
          "standard",
          "free/reduced",
          "free/reduced",
          "free/reduced",
          "free/reduced",
          "free/reduced",
          "standard",
          "standard",
          "standard",
          "free/reduced",
          "free/reduced",
          "standard",
          "free/reduced",
          "standard",
          "standard",
          "standard",
          "standard",
          "free/reduced",
          "standard",
          "free/reduced",
          "standard",
          "standard",
          "standard",
          "standard",
          "free/reduced",
          "free/reduced",
          "standard",
          "standard",
          "standard",
          "free/reduced",
          "standard",
          "standard",
          "standard",
          "free/reduced",
          "free/reduced",
          "standard",
          "free/reduced",
          "free/reduced",
          "standard",
          "free/reduced",
          "standard",
          "free/reduced"
         ],
         "x0": " ",
         "xaxis": "x",
         "y": [
          72,
          69,
          90,
          71,
          88,
          38,
          65,
          50,
          69,
          18,
          54,
          65,
          69,
          67,
          62,
          69,
          63,
          56,
          74,
          50,
          75,
          58,
          53,
          50,
          55,
          66,
          57,
          71,
          33,
          82,
          0,
          69,
          59,
          60,
          39,
          58,
          41,
          61,
          62,
          47,
          73,
          76,
          71,
          58,
          73,
          65,
          79,
          63,
          58,
          65,
          85,
          58,
          87,
          52,
          70,
          77,
          51,
          99,
          75,
          78,
          51,
          55,
          79,
          88,
          87,
          51,
          75,
          59,
          76,
          59,
          42,
          22,
          68,
          59,
          70,
          66,
          61,
          75,
          81,
          96,
          58,
          68,
          67,
          79,
          63,
          43,
          81,
          46,
          71,
          52,
          97,
          46,
          50,
          65,
          77,
          66,
          62,
          69,
          45,
          78,
          67,
          65,
          57,
          74,
          58,
          42,
          83,
          34,
          56,
          55,
          52,
          45,
          72,
          88,
          67,
          64,
          80,
          56,
          58,
          65,
          71,
          60,
          62,
          64,
          70,
          65,
          64,
          44,
          99,
          63,
          69,
          88,
          71,
          47,
          65,
          85,
          59,
          65,
          73,
          70,
          37,
          67,
          65,
          67,
          74,
          53,
          49,
          73,
          68,
          59,
          77,
          56,
          67,
          75,
          71,
          43,
          41,
          82,
          41,
          83,
          61,
          24,
          35,
          61,
          69,
          72,
          77,
          52,
          63,
          46,
          59,
          61,
          42,
          80,
          58,
          52,
          27,
          44,
          73,
          45,
          82,
          59,
          80,
          85,
          71,
          80,
          38,
          38,
          67,
          64,
          57,
          62,
          77,
          65,
          50,
          85,
          59,
          49,
          88,
          54,
          63,
          82,
          52,
          70,
          51,
          82,
          57,
          47,
          59,
          62,
          61,
          47,
          67,
          78,
          59,
          73,
          67,
          64,
          100,
          65,
          53,
          79,
          100,
          71,
          77,
          84,
          26,
          77,
          83,
          63,
          68,
          59,
          90,
          71,
          55,
          52,
          49,
          60,
          65,
          64,
          83,
          81,
          54,
          54,
          59,
          66,
          74,
          94,
          95,
          40,
          82,
          86,
          54,
          77,
          76,
          74,
          66,
          66,
          67,
          91,
          36,
          29,
          62,
          68,
          47,
          79,
          66,
          51,
          81,
          82,
          64,
          92,
          62,
          40,
          32,
          55,
          53,
          74,
          63,
          63,
          92,
          61,
          53,
          50,
          74,
          81,
          48,
          53,
          81,
          77,
          63,
          73,
          69,
          65,
          55,
          44,
          54,
          48,
          74,
          92,
          56,
          69,
          65,
          54,
          29,
          76,
          85,
          40,
          61,
          58,
          58,
          65,
          82,
          60,
          37,
          35,
          61,
          44,
          66,
          75,
          67,
          80,
          76,
          74,
          72,
          74,
          65,
          59,
          64,
          50,
          69,
          68,
          85,
          65,
          73,
          62,
          43,
          55,
          65,
          50,
          63,
          77,
          66,
          69,
          65,
          69,
          50,
          73,
          70,
          67,
          29,
          94,
          49,
          73,
          66,
          77,
          49,
          79,
          75,
          59,
          57,
          79,
          57,
          63,
          59,
          42,
          80,
          98,
          60,
          76,
          96,
          76,
          62,
          74,
          65,
          73,
          68,
          87,
          53,
          53,
          37,
          81,
          59,
          50,
          77,
          84,
          52,
          53,
          48,
          62,
          74,
          58,
          68,
          52,
          62,
          49,
          66,
          35,
          72,
          46,
          77,
          76,
          52,
          32,
          72,
          19,
          52,
          48,
          60,
          42,
          57,
          70,
          52,
          87,
          82,
          73,
          64,
          41,
          54,
          72,
          45,
          60,
          77,
          85,
          78,
          71,
          48,
          56,
          65,
          69,
          61,
          74,
          77,
          60,
          75,
          66,
          39,
          23,
          40,
          59,
          61,
          87,
          97,
          65,
          53,
          81,
          71,
          70,
          43,
          59,
          64,
          71,
          64,
          51,
          62,
          93,
          69,
          86,
          85,
          50,
          59,
          32,
          63,
          65,
          73,
          34,
          93,
          67,
          79,
          67,
          69,
          52,
          47,
          46,
          68,
          44,
          57,
          35,
          54,
          65,
          48,
          57,
          78,
          58,
          54,
          49,
          57,
          75,
          74,
          62,
          92,
          45,
          56,
          48,
          100,
          65,
          62,
          68,
          75,
          89,
          53,
          49,
          54,
          64,
          91,
          8,
          78,
          74,
          40,
          44,
          67,
          65,
          55,
          62,
          88,
          59,
          68,
          77
         ],
         "y0": " ",
         "yaxis": "y"
        },
        {
         "alignmentgroup": "True",
         "hovertemplate": "gender=male<br>lunch=%{x}<br>math score=%{y}<extra></extra>",
         "legendgroup": "male",
         "marker": {
          "color": "#EF553B"
         },
         "name": "male",
         "notched": false,
         "offsetgroup": "male",
         "orientation": "v",
         "showlegend": true,
         "type": "box",
         "x": [
          "free/reduced",
          "standard",
          "free/reduced",
          "free/reduced",
          "standard",
          "standard",
          "standard",
          "standard",
          "free/reduced",
          "standard",
          "standard",
          "free/reduced",
          "free/reduced",
          "standard",
          "standard",
          "standard",
          "standard",
          "standard",
          "free/reduced",
          "free/reduced",
          "free/reduced",
          "standard",
          "standard",
          "standard",
          "free/reduced",
          "standard",
          "standard",
          "standard",
          "standard",
          "free/reduced",
          "free/reduced",
          "free/reduced",
          "standard",
          "free/reduced",
          "free/reduced",
          "standard",
          "free/reduced",
          "standard",
          "free/reduced",
          "standard",
          "standard",
          "free/reduced",
          "free/reduced",
          "standard",
          "free/reduced",
          "free/reduced",
          "standard",
          "free/reduced",
          "free/reduced",
          "standard",
          "standard",
          "standard",
          "standard",
          "standard",
          "standard",
          "standard",
          "standard",
          "standard",
          "standard",
          "free/reduced",
          "standard",
          "standard",
          "standard",
          "standard",
          "standard",
          "free/reduced",
          "free/reduced",
          "free/reduced",
          "standard",
          "standard",
          "standard",
          "standard",
          "standard",
          "standard",
          "standard",
          "free/reduced",
          "free/reduced",
          "standard",
          "standard",
          "standard",
          "standard",
          "free/reduced",
          "free/reduced",
          "free/reduced",
          "free/reduced",
          "standard",
          "free/reduced",
          "standard",
          "standard",
          "free/reduced",
          "free/reduced",
          "free/reduced",
          "standard",
          "standard",
          "free/reduced",
          "standard",
          "standard",
          "standard",
          "free/reduced",
          "free/reduced",
          "standard",
          "standard",
          "standard",
          "standard",
          "standard",
          "free/reduced",
          "free/reduced",
          "free/reduced",
          "standard",
          "standard",
          "free/reduced",
          "standard",
          "standard",
          "standard",
          "standard",
          "free/reduced",
          "standard",
          "standard",
          "standard",
          "standard",
          "standard",
          "free/reduced",
          "standard",
          "standard",
          "free/reduced",
          "standard",
          "standard",
          "standard",
          "standard",
          "standard",
          "standard",
          "standard",
          "standard",
          "standard",
          "standard",
          "standard",
          "free/reduced",
          "standard",
          "standard",
          "standard",
          "standard",
          "free/reduced",
          "standard",
          "standard",
          "standard",
          "standard",
          "free/reduced",
          "standard",
          "standard",
          "standard",
          "standard",
          "free/reduced",
          "free/reduced",
          "standard",
          "standard",
          "free/reduced",
          "free/reduced",
          "free/reduced",
          "free/reduced",
          "standard",
          "standard",
          "standard",
          "standard",
          "standard",
          "standard",
          "standard",
          "standard",
          "standard",
          "standard",
          "free/reduced",
          "standard",
          "standard",
          "standard",
          "standard",
          "standard",
          "standard",
          "standard",
          "free/reduced",
          "standard",
          "standard",
          "standard",
          "free/reduced",
          "standard",
          "standard",
          "standard",
          "free/reduced",
          "standard",
          "standard",
          "free/reduced",
          "standard",
          "free/reduced",
          "standard",
          "standard",
          "free/reduced",
          "standard",
          "standard",
          "free/reduced",
          "standard",
          "free/reduced",
          "standard",
          "standard",
          "free/reduced",
          "standard",
          "standard",
          "standard",
          "standard",
          "standard",
          "standard",
          "standard",
          "standard",
          "standard",
          "standard",
          "standard",
          "standard",
          "free/reduced",
          "free/reduced",
          "standard",
          "free/reduced",
          "free/reduced",
          "free/reduced",
          "free/reduced",
          "standard",
          "standard",
          "free/reduced",
          "standard",
          "free/reduced",
          "standard",
          "standard",
          "free/reduced",
          "free/reduced",
          "standard",
          "standard",
          "standard",
          "free/reduced",
          "free/reduced",
          "free/reduced",
          "standard",
          "free/reduced",
          "free/reduced",
          "standard",
          "free/reduced",
          "standard",
          "standard",
          "standard",
          "standard",
          "standard",
          "free/reduced",
          "standard",
          "standard",
          "free/reduced",
          "standard",
          "free/reduced",
          "standard",
          "standard",
          "free/reduced",
          "standard",
          "free/reduced",
          "standard",
          "standard",
          "standard",
          "free/reduced",
          "standard",
          "standard",
          "free/reduced",
          "standard",
          "standard",
          "free/reduced",
          "standard",
          "standard",
          "standard",
          "standard",
          "standard",
          "standard",
          "free/reduced",
          "free/reduced",
          "standard",
          "standard",
          "free/reduced",
          "free/reduced",
          "free/reduced",
          "standard",
          "free/reduced",
          "standard",
          "standard",
          "free/reduced",
          "standard",
          "free/reduced",
          "free/reduced",
          "standard",
          "standard",
          "free/reduced",
          "standard",
          "free/reduced",
          "standard",
          "standard",
          "free/reduced",
          "standard",
          "free/reduced",
          "free/reduced",
          "standard",
          "free/reduced",
          "standard",
          "standard",
          "standard",
          "free/reduced",
          "free/reduced",
          "free/reduced",
          "standard",
          "standard",
          "free/reduced",
          "standard",
          "free/reduced",
          "standard",
          "standard",
          "standard",
          "standard",
          "standard",
          "standard",
          "standard",
          "free/reduced",
          "free/reduced",
          "standard",
          "standard",
          "free/reduced",
          "standard",
          "standard",
          "standard",
          "standard",
          "free/reduced",
          "free/reduced",
          "free/reduced",
          "standard",
          "standard",
          "standard",
          "standard",
          "free/reduced",
          "free/reduced",
          "free/reduced",
          "free/reduced",
          "standard",
          "free/reduced",
          "standard",
          "standard",
          "standard",
          "standard",
          "standard",
          "standard",
          "free/reduced",
          "free/reduced",
          "standard",
          "standard",
          "standard",
          "standard",
          "standard",
          "free/reduced",
          "standard",
          "standard",
          "standard",
          "standard",
          "free/reduced",
          "standard",
          "free/reduced",
          "standard",
          "standard",
          "standard",
          "standard",
          "standard",
          "standard",
          "free/reduced",
          "free/reduced",
          "standard",
          "free/reduced",
          "standard",
          "standard",
          "standard",
          "standard",
          "free/reduced",
          "standard",
          "standard",
          "standard",
          "standard",
          "standard",
          "free/reduced",
          "free/reduced",
          "standard",
          "standard",
          "standard",
          "standard",
          "standard",
          "free/reduced",
          "standard",
          "standard",
          "standard",
          "free/reduced",
          "standard",
          "standard",
          "free/reduced",
          "free/reduced",
          "standard",
          "standard",
          "standard",
          "standard",
          "standard",
          "free/reduced",
          "standard",
          "free/reduced",
          "standard",
          "standard",
          "standard",
          "standard",
          "standard",
          "standard",
          "standard",
          "free/reduced",
          "standard",
          "free/reduced",
          "free/reduced",
          "standard",
          "standard",
          "free/reduced",
          "standard",
          "free/reduced",
          "free/reduced",
          "standard",
          "standard",
          "free/reduced",
          "free/reduced",
          "standard",
          "standard",
          "standard",
          "free/reduced",
          "free/reduced",
          "free/reduced",
          "standard",
          "free/reduced",
          "standard",
          "standard",
          "standard",
          "standard",
          "standard",
          "free/reduced",
          "standard",
          "standard",
          "free/reduced",
          "standard",
          "free/reduced",
          "standard",
          "free/reduced",
          "free/reduced",
          "free/reduced",
          "free/reduced",
          "free/reduced",
          "free/reduced",
          "standard",
          "free/reduced",
          "standard",
          "standard",
          "standard",
          "free/reduced",
          "standard",
          "free/reduced",
          "standard",
          "free/reduced",
          "standard",
          "standard",
          "standard",
          "standard",
          "standard",
          "standard",
          "standard",
          "standard",
          "standard",
          "free/reduced",
          "standard",
          "standard",
          "standard",
          "standard",
          "standard",
          "standard",
          "free/reduced",
          "standard",
          "free/reduced"
         ],
         "x0": " ",
         "xaxis": "x",
         "y": [
          47,
          76,
          40,
          64,
          58,
          40,
          78,
          88,
          46,
          66,
          44,
          74,
          73,
          69,
          70,
          40,
          97,
          81,
          57,
          55,
          59,
          65,
          82,
          53,
          77,
          53,
          88,
          52,
          58,
          79,
          39,
          62,
          67,
          45,
          61,
          63,
          61,
          49,
          44,
          30,
          80,
          49,
          50,
          72,
          42,
          27,
          71,
          43,
          78,
          65,
          79,
          68,
          60,
          98,
          66,
          62,
          54,
          84,
          91,
          63,
          83,
          72,
          65,
          82,
          89,
          53,
          87,
          74,
          58,
          51,
          70,
          71,
          57,
          88,
          88,
          73,
          100,
          62,
          77,
          54,
          62,
          60,
          66,
          82,
          49,
          52,
          53,
          72,
          94,
          62,
          45,
          65,
          80,
          62,
          48,
          76,
          77,
          61,
          59,
          55,
          69,
          59,
          74,
          82,
          81,
          80,
          35,
          60,
          87,
          84,
          66,
          61,
          87,
          86,
          57,
          68,
          76,
          46,
          92,
          83,
          80,
          63,
          54,
          84,
          73,
          59,
          75,
          85,
          89,
          68,
          47,
          80,
          54,
          78,
          79,
          76,
          59,
          69,
          58,
          88,
          83,
          73,
          53,
          45,
          81,
          97,
          88,
          77,
          76,
          86,
          63,
          78,
          67,
          46,
          71,
          40,
          90,
          81,
          56,
          80,
          69,
          99,
          51,
          66,
          67,
          71,
          83,
          63,
          61,
          28,
          82,
          71,
          47,
          62,
          90,
          76,
          49,
          58,
          67,
          79,
          62,
          75,
          87,
          66,
          63,
          59,
          85,
          59,
          49,
          69,
          61,
          84,
          74,
          46,
          66,
          87,
          79,
          73,
          73,
          76,
          57,
          48,
          74,
          60,
          53,
          65,
          87,
          84,
          71,
          63,
          84,
          71,
          74,
          68,
          57,
          41,
          86,
          69,
          65,
          68,
          64,
          61,
          73,
          50,
          75,
          75,
          70,
          89,
          79,
          69,
          86,
          47,
          81,
          65,
          37,
          53,
          72,
          53,
          54,
          75,
          72,
          91,
          76,
          80,
          76,
          73,
          68,
          59,
          70,
          61,
          64,
          79,
          68,
          76,
          63,
          68,
          55,
          79,
          76,
          64,
          62,
          71,
          69,
          54,
          53,
          68,
          56,
          62,
          73,
          51,
          85,
          97,
          75,
          79,
          78,
          72,
          79,
          79,
          87,
          77,
          53,
          61,
          73,
          96,
          48,
          48,
          63,
          68,
          71,
          91,
          40,
          61,
          58,
          71,
          68,
          30,
          53,
          60,
          84,
          75,
          69,
          94,
          88,
          95,
          65,
          62,
          58,
          100,
          100,
          69,
          61,
          49,
          67,
          79,
          84,
          71,
          86,
          41,
          70,
          51,
          77,
          69,
          90,
          74,
          73,
          80,
          73,
          81,
          52,
          81,
          63,
          60,
          62,
          62,
          85,
          77,
          53,
          93,
          66,
          87,
          62,
          46,
          66,
          89,
          93,
          81,
          73,
          91,
          55,
          50,
          47,
          81,
          68,
          53,
          55,
          55,
          67,
          92,
          81,
          61,
          80,
          55,
          72,
          69,
          69,
          87,
          71,
          68,
          79,
          58,
          55,
          70,
          69,
          78,
          60,
          76,
          58,
          52,
          75,
          66,
          94,
          91,
          68,
          66,
          89,
          70,
          69,
          67,
          76,
          75,
          90,
          59,
          51,
          45,
          87,
          94,
          61,
          49,
          62,
          68,
          64,
          58,
          73,
          58,
          64,
          74,
          90,
          91,
          64,
          80,
          71,
          82,
          62,
          75,
          52,
          87,
          39,
          97,
          82,
          59,
          61,
          78,
          49,
          59,
          82,
          90,
          80,
          81,
          57,
          63,
          55,
          54,
          44,
          88,
          36,
          67,
          85,
          88,
          57,
          70,
          50,
          100,
          91,
          69,
          72,
          74,
          74,
          64,
          46,
          67,
          62,
          61,
          70,
          98,
          70,
          67,
          85,
          77,
          72,
          81,
          61,
          82,
          49,
          94,
          58,
          72,
          84,
          75,
          72,
          66,
          63,
          78,
          60,
          62,
          55,
          81,
          79,
          57,
          81,
          86,
          63,
          62
         ],
         "y0": " ",
         "yaxis": "y"
        }
       ],
       "layout": {
        "boxmode": "group",
        "legend": {
         "title": {
          "text": "gender"
         },
         "tracegroupgap": 0
        },
        "margin": {
         "t": 60
        },
        "template": {
         "data": {
          "bar": [
           {
            "error_x": {
             "color": "#2a3f5f"
            },
            "error_y": {
             "color": "#2a3f5f"
            },
            "marker": {
             "line": {
              "color": "#E5ECF6",
              "width": 0.5
             },
             "pattern": {
              "fillmode": "overlay",
              "size": 10,
              "solidity": 0.2
             }
            },
            "type": "bar"
           }
          ],
          "barpolar": [
           {
            "marker": {
             "line": {
              "color": "#E5ECF6",
              "width": 0.5
             },
             "pattern": {
              "fillmode": "overlay",
              "size": 10,
              "solidity": 0.2
             }
            },
            "type": "barpolar"
           }
          ],
          "carpet": [
           {
            "aaxis": {
             "endlinecolor": "#2a3f5f",
             "gridcolor": "white",
             "linecolor": "white",
             "minorgridcolor": "white",
             "startlinecolor": "#2a3f5f"
            },
            "baxis": {
             "endlinecolor": "#2a3f5f",
             "gridcolor": "white",
             "linecolor": "white",
             "minorgridcolor": "white",
             "startlinecolor": "#2a3f5f"
            },
            "type": "carpet"
           }
          ],
          "choropleth": [
           {
            "colorbar": {
             "outlinewidth": 0,
             "ticks": ""
            },
            "type": "choropleth"
           }
          ],
          "contour": [
           {
            "colorbar": {
             "outlinewidth": 0,
             "ticks": ""
            },
            "colorscale": [
             [
              0,
              "#0d0887"
             ],
             [
              0.1111111111111111,
              "#46039f"
             ],
             [
              0.2222222222222222,
              "#7201a8"
             ],
             [
              0.3333333333333333,
              "#9c179e"
             ],
             [
              0.4444444444444444,
              "#bd3786"
             ],
             [
              0.5555555555555556,
              "#d8576b"
             ],
             [
              0.6666666666666666,
              "#ed7953"
             ],
             [
              0.7777777777777778,
              "#fb9f3a"
             ],
             [
              0.8888888888888888,
              "#fdca26"
             ],
             [
              1,
              "#f0f921"
             ]
            ],
            "type": "contour"
           }
          ],
          "contourcarpet": [
           {
            "colorbar": {
             "outlinewidth": 0,
             "ticks": ""
            },
            "type": "contourcarpet"
           }
          ],
          "heatmap": [
           {
            "colorbar": {
             "outlinewidth": 0,
             "ticks": ""
            },
            "colorscale": [
             [
              0,
              "#0d0887"
             ],
             [
              0.1111111111111111,
              "#46039f"
             ],
             [
              0.2222222222222222,
              "#7201a8"
             ],
             [
              0.3333333333333333,
              "#9c179e"
             ],
             [
              0.4444444444444444,
              "#bd3786"
             ],
             [
              0.5555555555555556,
              "#d8576b"
             ],
             [
              0.6666666666666666,
              "#ed7953"
             ],
             [
              0.7777777777777778,
              "#fb9f3a"
             ],
             [
              0.8888888888888888,
              "#fdca26"
             ],
             [
              1,
              "#f0f921"
             ]
            ],
            "type": "heatmap"
           }
          ],
          "heatmapgl": [
           {
            "colorbar": {
             "outlinewidth": 0,
             "ticks": ""
            },
            "colorscale": [
             [
              0,
              "#0d0887"
             ],
             [
              0.1111111111111111,
              "#46039f"
             ],
             [
              0.2222222222222222,
              "#7201a8"
             ],
             [
              0.3333333333333333,
              "#9c179e"
             ],
             [
              0.4444444444444444,
              "#bd3786"
             ],
             [
              0.5555555555555556,
              "#d8576b"
             ],
             [
              0.6666666666666666,
              "#ed7953"
             ],
             [
              0.7777777777777778,
              "#fb9f3a"
             ],
             [
              0.8888888888888888,
              "#fdca26"
             ],
             [
              1,
              "#f0f921"
             ]
            ],
            "type": "heatmapgl"
           }
          ],
          "histogram": [
           {
            "marker": {
             "pattern": {
              "fillmode": "overlay",
              "size": 10,
              "solidity": 0.2
             }
            },
            "type": "histogram"
           }
          ],
          "histogram2d": [
           {
            "colorbar": {
             "outlinewidth": 0,
             "ticks": ""
            },
            "colorscale": [
             [
              0,
              "#0d0887"
             ],
             [
              0.1111111111111111,
              "#46039f"
             ],
             [
              0.2222222222222222,
              "#7201a8"
             ],
             [
              0.3333333333333333,
              "#9c179e"
             ],
             [
              0.4444444444444444,
              "#bd3786"
             ],
             [
              0.5555555555555556,
              "#d8576b"
             ],
             [
              0.6666666666666666,
              "#ed7953"
             ],
             [
              0.7777777777777778,
              "#fb9f3a"
             ],
             [
              0.8888888888888888,
              "#fdca26"
             ],
             [
              1,
              "#f0f921"
             ]
            ],
            "type": "histogram2d"
           }
          ],
          "histogram2dcontour": [
           {
            "colorbar": {
             "outlinewidth": 0,
             "ticks": ""
            },
            "colorscale": [
             [
              0,
              "#0d0887"
             ],
             [
              0.1111111111111111,
              "#46039f"
             ],
             [
              0.2222222222222222,
              "#7201a8"
             ],
             [
              0.3333333333333333,
              "#9c179e"
             ],
             [
              0.4444444444444444,
              "#bd3786"
             ],
             [
              0.5555555555555556,
              "#d8576b"
             ],
             [
              0.6666666666666666,
              "#ed7953"
             ],
             [
              0.7777777777777778,
              "#fb9f3a"
             ],
             [
              0.8888888888888888,
              "#fdca26"
             ],
             [
              1,
              "#f0f921"
             ]
            ],
            "type": "histogram2dcontour"
           }
          ],
          "mesh3d": [
           {
            "colorbar": {
             "outlinewidth": 0,
             "ticks": ""
            },
            "type": "mesh3d"
           }
          ],
          "parcoords": [
           {
            "line": {
             "colorbar": {
              "outlinewidth": 0,
              "ticks": ""
             }
            },
            "type": "parcoords"
           }
          ],
          "pie": [
           {
            "automargin": true,
            "type": "pie"
           }
          ],
          "scatter": [
           {
            "marker": {
             "colorbar": {
              "outlinewidth": 0,
              "ticks": ""
             }
            },
            "type": "scatter"
           }
          ],
          "scatter3d": [
           {
            "line": {
             "colorbar": {
              "outlinewidth": 0,
              "ticks": ""
             }
            },
            "marker": {
             "colorbar": {
              "outlinewidth": 0,
              "ticks": ""
             }
            },
            "type": "scatter3d"
           }
          ],
          "scattercarpet": [
           {
            "marker": {
             "colorbar": {
              "outlinewidth": 0,
              "ticks": ""
             }
            },
            "type": "scattercarpet"
           }
          ],
          "scattergeo": [
           {
            "marker": {
             "colorbar": {
              "outlinewidth": 0,
              "ticks": ""
             }
            },
            "type": "scattergeo"
           }
          ],
          "scattergl": [
           {
            "marker": {
             "colorbar": {
              "outlinewidth": 0,
              "ticks": ""
             }
            },
            "type": "scattergl"
           }
          ],
          "scattermapbox": [
           {
            "marker": {
             "colorbar": {
              "outlinewidth": 0,
              "ticks": ""
             }
            },
            "type": "scattermapbox"
           }
          ],
          "scatterpolar": [
           {
            "marker": {
             "colorbar": {
              "outlinewidth": 0,
              "ticks": ""
             }
            },
            "type": "scatterpolar"
           }
          ],
          "scatterpolargl": [
           {
            "marker": {
             "colorbar": {
              "outlinewidth": 0,
              "ticks": ""
             }
            },
            "type": "scatterpolargl"
           }
          ],
          "scatterternary": [
           {
            "marker": {
             "colorbar": {
              "outlinewidth": 0,
              "ticks": ""
             }
            },
            "type": "scatterternary"
           }
          ],
          "surface": [
           {
            "colorbar": {
             "outlinewidth": 0,
             "ticks": ""
            },
            "colorscale": [
             [
              0,
              "#0d0887"
             ],
             [
              0.1111111111111111,
              "#46039f"
             ],
             [
              0.2222222222222222,
              "#7201a8"
             ],
             [
              0.3333333333333333,
              "#9c179e"
             ],
             [
              0.4444444444444444,
              "#bd3786"
             ],
             [
              0.5555555555555556,
              "#d8576b"
             ],
             [
              0.6666666666666666,
              "#ed7953"
             ],
             [
              0.7777777777777778,
              "#fb9f3a"
             ],
             [
              0.8888888888888888,
              "#fdca26"
             ],
             [
              1,
              "#f0f921"
             ]
            ],
            "type": "surface"
           }
          ],
          "table": [
           {
            "cells": {
             "fill": {
              "color": "#EBF0F8"
             },
             "line": {
              "color": "white"
             }
            },
            "header": {
             "fill": {
              "color": "#C8D4E3"
             },
             "line": {
              "color": "white"
             }
            },
            "type": "table"
           }
          ]
         },
         "layout": {
          "annotationdefaults": {
           "arrowcolor": "#2a3f5f",
           "arrowhead": 0,
           "arrowwidth": 1
          },
          "autotypenumbers": "strict",
          "coloraxis": {
           "colorbar": {
            "outlinewidth": 0,
            "ticks": ""
           }
          },
          "colorscale": {
           "diverging": [
            [
             0,
             "#8e0152"
            ],
            [
             0.1,
             "#c51b7d"
            ],
            [
             0.2,
             "#de77ae"
            ],
            [
             0.3,
             "#f1b6da"
            ],
            [
             0.4,
             "#fde0ef"
            ],
            [
             0.5,
             "#f7f7f7"
            ],
            [
             0.6,
             "#e6f5d0"
            ],
            [
             0.7,
             "#b8e186"
            ],
            [
             0.8,
             "#7fbc41"
            ],
            [
             0.9,
             "#4d9221"
            ],
            [
             1,
             "#276419"
            ]
           ],
           "sequential": [
            [
             0,
             "#0d0887"
            ],
            [
             0.1111111111111111,
             "#46039f"
            ],
            [
             0.2222222222222222,
             "#7201a8"
            ],
            [
             0.3333333333333333,
             "#9c179e"
            ],
            [
             0.4444444444444444,
             "#bd3786"
            ],
            [
             0.5555555555555556,
             "#d8576b"
            ],
            [
             0.6666666666666666,
             "#ed7953"
            ],
            [
             0.7777777777777778,
             "#fb9f3a"
            ],
            [
             0.8888888888888888,
             "#fdca26"
            ],
            [
             1,
             "#f0f921"
            ]
           ],
           "sequentialminus": [
            [
             0,
             "#0d0887"
            ],
            [
             0.1111111111111111,
             "#46039f"
            ],
            [
             0.2222222222222222,
             "#7201a8"
            ],
            [
             0.3333333333333333,
             "#9c179e"
            ],
            [
             0.4444444444444444,
             "#bd3786"
            ],
            [
             0.5555555555555556,
             "#d8576b"
            ],
            [
             0.6666666666666666,
             "#ed7953"
            ],
            [
             0.7777777777777778,
             "#fb9f3a"
            ],
            [
             0.8888888888888888,
             "#fdca26"
            ],
            [
             1,
             "#f0f921"
            ]
           ]
          },
          "colorway": [
           "#636efa",
           "#EF553B",
           "#00cc96",
           "#ab63fa",
           "#FFA15A",
           "#19d3f3",
           "#FF6692",
           "#B6E880",
           "#FF97FF",
           "#FECB52"
          ],
          "font": {
           "color": "#2a3f5f"
          },
          "geo": {
           "bgcolor": "white",
           "lakecolor": "white",
           "landcolor": "#E5ECF6",
           "showlakes": true,
           "showland": true,
           "subunitcolor": "white"
          },
          "hoverlabel": {
           "align": "left"
          },
          "hovermode": "closest",
          "mapbox": {
           "style": "light"
          },
          "paper_bgcolor": "white",
          "plot_bgcolor": "#E5ECF6",
          "polar": {
           "angularaxis": {
            "gridcolor": "white",
            "linecolor": "white",
            "ticks": ""
           },
           "bgcolor": "#E5ECF6",
           "radialaxis": {
            "gridcolor": "white",
            "linecolor": "white",
            "ticks": ""
           }
          },
          "scene": {
           "xaxis": {
            "backgroundcolor": "#E5ECF6",
            "gridcolor": "white",
            "gridwidth": 2,
            "linecolor": "white",
            "showbackground": true,
            "ticks": "",
            "zerolinecolor": "white"
           },
           "yaxis": {
            "backgroundcolor": "#E5ECF6",
            "gridcolor": "white",
            "gridwidth": 2,
            "linecolor": "white",
            "showbackground": true,
            "ticks": "",
            "zerolinecolor": "white"
           },
           "zaxis": {
            "backgroundcolor": "#E5ECF6",
            "gridcolor": "white",
            "gridwidth": 2,
            "linecolor": "white",
            "showbackground": true,
            "ticks": "",
            "zerolinecolor": "white"
           }
          },
          "shapedefaults": {
           "line": {
            "color": "#2a3f5f"
           }
          },
          "ternary": {
           "aaxis": {
            "gridcolor": "white",
            "linecolor": "white",
            "ticks": ""
           },
           "baxis": {
            "gridcolor": "white",
            "linecolor": "white",
            "ticks": ""
           },
           "bgcolor": "#E5ECF6",
           "caxis": {
            "gridcolor": "white",
            "linecolor": "white",
            "ticks": ""
           }
          },
          "title": {
           "x": 0.05
          },
          "xaxis": {
           "automargin": true,
           "gridcolor": "white",
           "linecolor": "white",
           "ticks": "",
           "title": {
            "standoff": 15
           },
           "zerolinecolor": "white",
           "zerolinewidth": 2
          },
          "yaxis": {
           "automargin": true,
           "gridcolor": "white",
           "linecolor": "white",
           "ticks": "",
           "title": {
            "standoff": 15
           },
           "zerolinecolor": "white",
           "zerolinewidth": 2
          }
         }
        },
        "xaxis": {
         "anchor": "y",
         "domain": [
          0,
          1
         ],
         "title": {
          "text": "lunch"
         }
        },
        "yaxis": {
         "anchor": "x",
         "domain": [
          0,
          1
         ],
         "title": {
          "text": "math score"
         }
        }
       }
      },
      "text/html": [
       "<div>                            <div id=\"b66c0274-65b3-40d2-8b8e-ac7b5f18eaa1\" class=\"plotly-graph-div\" style=\"height:525px; width:100%;\"></div>            <script type=\"text/javascript\">                require([\"plotly\"], function(Plotly) {                    window.PLOTLYENV=window.PLOTLYENV || {};                                    if (document.getElementById(\"b66c0274-65b3-40d2-8b8e-ac7b5f18eaa1\")) {                    Plotly.newPlot(                        \"b66c0274-65b3-40d2-8b8e-ac7b5f18eaa1\",                        [{\"alignmentgroup\":\"True\",\"hovertemplate\":\"gender=female<br>lunch=%{x}<br>math score=%{y}<extra></extra>\",\"legendgroup\":\"female\",\"marker\":{\"color\":\"#636efa\"},\"name\":\"female\",\"notched\":false,\"offsetgroup\":\"female\",\"orientation\":\"v\",\"showlegend\":true,\"x\":[\"standard\",\"standard\",\"standard\",\"standard\",\"standard\",\"free/reduced\",\"standard\",\"standard\",\"standard\",\"free/reduced\",\"free/reduced\",\"free/reduced\",\"standard\",\"standard\",\"standard\",\"standard\",\"standard\",\"free/reduced\",\"standard\",\"free/reduced\",\"free/reduced\",\"standard\",\"standard\",\"free/reduced\",\"standard\",\"standard\",\"free/reduced\",\"free/reduced\",\"free/reduced\",\"standard\",\"free/reduced\",\"standard\",\"standard\",\"standard\",\"standard\",\"free/reduced\",\"free/reduced\",\"standard\",\"standard\",\"standard\",\"standard\",\"free/reduced\",\"standard\",\"standard\",\"standard\",\"standard\",\"standard\",\"standard\",\"free/reduced\",\"standard\",\"standard\",\"standard\",\"standard\",\"free/reduced\",\"standard\",\"free/reduced\",\"standard\",\"standard\",\"free/reduced\",\"standard\",\"standard\",\"standard\",\"standard\",\"standard\",\"standard\",\"standard\",\"standard\",\"standard\",\"standard\",\"free/reduced\",\"free/reduced\",\"free/reduced\",\"standard\",\"standard\",\"standard\",\"free/reduced\",\"standard\",\"free/reduced\",\"standard\",\"standard\",\"free/reduced\",\"standard\",\"free/reduced\",\"standard\",\"standard\",\"free/reduced\",\"standard\",\"free/reduced\",\"standard\",\"free/reduced\",\"standard\",\"free/reduced\",\"standard\",\"standard\",\"standard\",\"standard\",\"standard\",\"standard\",\"free/reduced\",\"free/reduced\",\"standard\",\"free/reduced\",\"standard\",\"free/reduced\",\"free/reduced\",\"free/reduced\",\"free/reduced\",\"free/reduced\",\"standard\",\"free/reduced\",\"standard\",\"free/reduced\",\"standard\",\"standard\",\"standard\",\"standard\",\"standard\",\"standard\",\"standard\",\"standard\",\"free/reduced\",\"standard\",\"standard\",\"free/reduced\",\"standard\",\"free/reduced\",\"free/reduced\",\"free/reduced\",\"standard\",\"standard\",\"standard\",\"standard\",\"free/reduced\",\"free/reduced\",\"standard\",\"standard\",\"standard\",\"free/reduced\",\"free/reduced\",\"free/reduced\",\"standard\",\"standard\",\"standard\",\"standard\",\"standard\",\"free/reduced\",\"free/reduced\",\"standard\",\"free/reduced\",\"standard\",\"standard\",\"free/reduced\",\"free/reduced\",\"standard\",\"standard\",\"free/reduced\",\"free/reduced\",\"standard\",\"standard\",\"standard\",\"free/reduced\",\"free/reduced\",\"free/reduced\",\"standard\",\"standard\",\"standard\",\"standard\",\"standard\",\"standard\",\"standard\",\"standard\",\"standard\",\"free/reduced\",\"standard\",\"standard\",\"standard\",\"free/reduced\",\"free/reduced\",\"standard\",\"free/reduced\",\"standard\",\"standard\",\"standard\",\"free/reduced\",\"standard\",\"standard\",\"free/reduced\",\"free/reduced\",\"standard\",\"standard\",\"free/reduced\",\"standard\",\"standard\",\"standard\",\"free/reduced\",\"standard\",\"standard\",\"free/reduced\",\"standard\",\"standard\",\"standard\",\"standard\",\"free/reduced\",\"standard\",\"free/reduced\",\"free/reduced\",\"standard\",\"free/reduced\",\"standard\",\"free/reduced\",\"standard\",\"free/reduced\",\"standard\",\"standard\",\"free/reduced\",\"standard\",\"standard\",\"free/reduced\",\"standard\",\"free/reduced\",\"free/reduced\",\"standard\",\"standard\",\"standard\",\"free/reduced\",\"standard\",\"free/reduced\",\"free/reduced\",\"standard\",\"standard\",\"standard\",\"standard\",\"standard\",\"standard\",\"standard\",\"free/reduced\",\"standard\",\"free/reduced\",\"free/reduced\",\"standard\",\"standard\",\"standard\",\"standard\",\"standard\",\"free/reduced\",\"standard\",\"standard\",\"standard\",\"standard\",\"free/reduced\",\"standard\",\"standard\",\"standard\",\"free/reduced\",\"standard\",\"standard\",\"standard\",\"standard\",\"free/reduced\",\"standard\",\"free/reduced\",\"free/reduced\",\"standard\",\"standard\",\"standard\",\"standard\",\"free/reduced\",\"standard\",\"standard\",\"standard\",\"standard\",\"standard\",\"free/reduced\",\"standard\",\"free/reduced\",\"standard\",\"free/reduced\",\"standard\",\"standard\",\"free/reduced\",\"free/reduced\",\"free/reduced\",\"standard\",\"free/reduced\",\"standard\",\"standard\",\"free/reduced\",\"standard\",\"standard\",\"standard\",\"free/reduced\",\"standard\",\"standard\",\"standard\",\"standard\",\"free/reduced\",\"standard\",\"standard\",\"standard\",\"standard\",\"standard\",\"standard\",\"standard\",\"standard\",\"standard\",\"standard\",\"standard\",\"free/reduced\",\"standard\",\"standard\",\"standard\",\"standard\",\"standard\",\"standard\",\"standard\",\"free/reduced\",\"free/reduced\",\"standard\",\"standard\",\"standard\",\"free/reduced\",\"standard\",\"standard\",\"free/reduced\",\"free/reduced\",\"standard\",\"standard\",\"standard\",\"free/reduced\",\"standard\",\"standard\",\"standard\",\"standard\",\"standard\",\"standard\",\"standard\",\"free/reduced\",\"free/reduced\",\"standard\",\"free/reduced\",\"free/reduced\",\"free/reduced\",\"free/reduced\",\"standard\",\"standard\",\"standard\",\"standard\",\"standard\",\"standard\",\"standard\",\"free/reduced\",\"standard\",\"standard\",\"free/reduced\",\"free/reduced\",\"standard\",\"standard\",\"free/reduced\",\"standard\",\"standard\",\"standard\",\"standard\",\"standard\",\"standard\",\"free/reduced\",\"free/reduced\",\"standard\",\"standard\",\"standard\",\"free/reduced\",\"standard\",\"standard\",\"free/reduced\",\"free/reduced\",\"standard\",\"free/reduced\",\"free/reduced\",\"standard\",\"free/reduced\",\"free/reduced\",\"free/reduced\",\"standard\",\"standard\",\"free/reduced\",\"standard\",\"standard\",\"free/reduced\",\"free/reduced\",\"standard\",\"standard\",\"standard\",\"standard\",\"standard\",\"free/reduced\",\"free/reduced\",\"free/reduced\",\"standard\",\"free/reduced\",\"standard\",\"free/reduced\",\"standard\",\"free/reduced\",\"standard\",\"standard\",\"free/reduced\",\"standard\",\"free/reduced\",\"standard\",\"free/reduced\",\"standard\",\"free/reduced\",\"free/reduced\",\"standard\",\"standard\",\"standard\",\"standard\",\"free/reduced\",\"free/reduced\",\"standard\",\"standard\",\"standard\",\"free/reduced\",\"standard\",\"standard\",\"free/reduced\",\"free/reduced\",\"free/reduced\",\"free/reduced\",\"standard\",\"free/reduced\",\"free/reduced\",\"free/reduced\",\"standard\",\"standard\",\"standard\",\"standard\",\"free/reduced\",\"free/reduced\",\"free/reduced\",\"standard\",\"standard\",\"standard\",\"standard\",\"standard\",\"standard\",\"free/reduced\",\"standard\",\"standard\",\"free/reduced\",\"standard\",\"standard\",\"standard\",\"free/reduced\",\"standard\",\"standard\",\"standard\",\"free/reduced\",\"standard\",\"standard\",\"free/reduced\",\"standard\",\"free/reduced\",\"free/reduced\",\"standard\",\"standard\",\"free/reduced\",\"free/reduced\",\"free/reduced\",\"standard\",\"free/reduced\",\"standard\",\"standard\",\"free/reduced\",\"free/reduced\",\"standard\",\"standard\",\"standard\",\"free/reduced\",\"free/reduced\",\"free/reduced\",\"free/reduced\",\"free/reduced\",\"standard\",\"standard\",\"standard\",\"free/reduced\",\"free/reduced\",\"standard\",\"free/reduced\",\"standard\",\"standard\",\"standard\",\"standard\",\"free/reduced\",\"standard\",\"free/reduced\",\"standard\",\"standard\",\"standard\",\"standard\",\"free/reduced\",\"free/reduced\",\"standard\",\"standard\",\"standard\",\"free/reduced\",\"standard\",\"standard\",\"standard\",\"free/reduced\",\"free/reduced\",\"standard\",\"free/reduced\",\"free/reduced\",\"standard\",\"free/reduced\",\"standard\",\"free/reduced\"],\"x0\":\" \",\"xaxis\":\"x\",\"y\":[72,69,90,71,88,38,65,50,69,18,54,65,69,67,62,69,63,56,74,50,75,58,53,50,55,66,57,71,33,82,0,69,59,60,39,58,41,61,62,47,73,76,71,58,73,65,79,63,58,65,85,58,87,52,70,77,51,99,75,78,51,55,79,88,87,51,75,59,76,59,42,22,68,59,70,66,61,75,81,96,58,68,67,79,63,43,81,46,71,52,97,46,50,65,77,66,62,69,45,78,67,65,57,74,58,42,83,34,56,55,52,45,72,88,67,64,80,56,58,65,71,60,62,64,70,65,64,44,99,63,69,88,71,47,65,85,59,65,73,70,37,67,65,67,74,53,49,73,68,59,77,56,67,75,71,43,41,82,41,83,61,24,35,61,69,72,77,52,63,46,59,61,42,80,58,52,27,44,73,45,82,59,80,85,71,80,38,38,67,64,57,62,77,65,50,85,59,49,88,54,63,82,52,70,51,82,57,47,59,62,61,47,67,78,59,73,67,64,100,65,53,79,100,71,77,84,26,77,83,63,68,59,90,71,55,52,49,60,65,64,83,81,54,54,59,66,74,94,95,40,82,86,54,77,76,74,66,66,67,91,36,29,62,68,47,79,66,51,81,82,64,92,62,40,32,55,53,74,63,63,92,61,53,50,74,81,48,53,81,77,63,73,69,65,55,44,54,48,74,92,56,69,65,54,29,76,85,40,61,58,58,65,82,60,37,35,61,44,66,75,67,80,76,74,72,74,65,59,64,50,69,68,85,65,73,62,43,55,65,50,63,77,66,69,65,69,50,73,70,67,29,94,49,73,66,77,49,79,75,59,57,79,57,63,59,42,80,98,60,76,96,76,62,74,65,73,68,87,53,53,37,81,59,50,77,84,52,53,48,62,74,58,68,52,62,49,66,35,72,46,77,76,52,32,72,19,52,48,60,42,57,70,52,87,82,73,64,41,54,72,45,60,77,85,78,71,48,56,65,69,61,74,77,60,75,66,39,23,40,59,61,87,97,65,53,81,71,70,43,59,64,71,64,51,62,93,69,86,85,50,59,32,63,65,73,34,93,67,79,67,69,52,47,46,68,44,57,35,54,65,48,57,78,58,54,49,57,75,74,62,92,45,56,48,100,65,62,68,75,89,53,49,54,64,91,8,78,74,40,44,67,65,55,62,88,59,68,77],\"y0\":\" \",\"yaxis\":\"y\",\"type\":\"box\"},{\"alignmentgroup\":\"True\",\"hovertemplate\":\"gender=male<br>lunch=%{x}<br>math score=%{y}<extra></extra>\",\"legendgroup\":\"male\",\"marker\":{\"color\":\"#EF553B\"},\"name\":\"male\",\"notched\":false,\"offsetgroup\":\"male\",\"orientation\":\"v\",\"showlegend\":true,\"x\":[\"free/reduced\",\"standard\",\"free/reduced\",\"free/reduced\",\"standard\",\"standard\",\"standard\",\"standard\",\"free/reduced\",\"standard\",\"standard\",\"free/reduced\",\"free/reduced\",\"standard\",\"standard\",\"standard\",\"standard\",\"standard\",\"free/reduced\",\"free/reduced\",\"free/reduced\",\"standard\",\"standard\",\"standard\",\"free/reduced\",\"standard\",\"standard\",\"standard\",\"standard\",\"free/reduced\",\"free/reduced\",\"free/reduced\",\"standard\",\"free/reduced\",\"free/reduced\",\"standard\",\"free/reduced\",\"standard\",\"free/reduced\",\"standard\",\"standard\",\"free/reduced\",\"free/reduced\",\"standard\",\"free/reduced\",\"free/reduced\",\"standard\",\"free/reduced\",\"free/reduced\",\"standard\",\"standard\",\"standard\",\"standard\",\"standard\",\"standard\",\"standard\",\"standard\",\"standard\",\"standard\",\"free/reduced\",\"standard\",\"standard\",\"standard\",\"standard\",\"standard\",\"free/reduced\",\"free/reduced\",\"free/reduced\",\"standard\",\"standard\",\"standard\",\"standard\",\"standard\",\"standard\",\"standard\",\"free/reduced\",\"free/reduced\",\"standard\",\"standard\",\"standard\",\"standard\",\"free/reduced\",\"free/reduced\",\"free/reduced\",\"free/reduced\",\"standard\",\"free/reduced\",\"standard\",\"standard\",\"free/reduced\",\"free/reduced\",\"free/reduced\",\"standard\",\"standard\",\"free/reduced\",\"standard\",\"standard\",\"standard\",\"free/reduced\",\"free/reduced\",\"standard\",\"standard\",\"standard\",\"standard\",\"standard\",\"free/reduced\",\"free/reduced\",\"free/reduced\",\"standard\",\"standard\",\"free/reduced\",\"standard\",\"standard\",\"standard\",\"standard\",\"free/reduced\",\"standard\",\"standard\",\"standard\",\"standard\",\"standard\",\"free/reduced\",\"standard\",\"standard\",\"free/reduced\",\"standard\",\"standard\",\"standard\",\"standard\",\"standard\",\"standard\",\"standard\",\"standard\",\"standard\",\"standard\",\"standard\",\"free/reduced\",\"standard\",\"standard\",\"standard\",\"standard\",\"free/reduced\",\"standard\",\"standard\",\"standard\",\"standard\",\"free/reduced\",\"standard\",\"standard\",\"standard\",\"standard\",\"free/reduced\",\"free/reduced\",\"standard\",\"standard\",\"free/reduced\",\"free/reduced\",\"free/reduced\",\"free/reduced\",\"standard\",\"standard\",\"standard\",\"standard\",\"standard\",\"standard\",\"standard\",\"standard\",\"standard\",\"standard\",\"free/reduced\",\"standard\",\"standard\",\"standard\",\"standard\",\"standard\",\"standard\",\"standard\",\"free/reduced\",\"standard\",\"standard\",\"standard\",\"free/reduced\",\"standard\",\"standard\",\"standard\",\"free/reduced\",\"standard\",\"standard\",\"free/reduced\",\"standard\",\"free/reduced\",\"standard\",\"standard\",\"free/reduced\",\"standard\",\"standard\",\"free/reduced\",\"standard\",\"free/reduced\",\"standard\",\"standard\",\"free/reduced\",\"standard\",\"standard\",\"standard\",\"standard\",\"standard\",\"standard\",\"standard\",\"standard\",\"standard\",\"standard\",\"standard\",\"standard\",\"free/reduced\",\"free/reduced\",\"standard\",\"free/reduced\",\"free/reduced\",\"free/reduced\",\"free/reduced\",\"standard\",\"standard\",\"free/reduced\",\"standard\",\"free/reduced\",\"standard\",\"standard\",\"free/reduced\",\"free/reduced\",\"standard\",\"standard\",\"standard\",\"free/reduced\",\"free/reduced\",\"free/reduced\",\"standard\",\"free/reduced\",\"free/reduced\",\"standard\",\"free/reduced\",\"standard\",\"standard\",\"standard\",\"standard\",\"standard\",\"free/reduced\",\"standard\",\"standard\",\"free/reduced\",\"standard\",\"free/reduced\",\"standard\",\"standard\",\"free/reduced\",\"standard\",\"free/reduced\",\"standard\",\"standard\",\"standard\",\"free/reduced\",\"standard\",\"standard\",\"free/reduced\",\"standard\",\"standard\",\"free/reduced\",\"standard\",\"standard\",\"standard\",\"standard\",\"standard\",\"standard\",\"free/reduced\",\"free/reduced\",\"standard\",\"standard\",\"free/reduced\",\"free/reduced\",\"free/reduced\",\"standard\",\"free/reduced\",\"standard\",\"standard\",\"free/reduced\",\"standard\",\"free/reduced\",\"free/reduced\",\"standard\",\"standard\",\"free/reduced\",\"standard\",\"free/reduced\",\"standard\",\"standard\",\"free/reduced\",\"standard\",\"free/reduced\",\"free/reduced\",\"standard\",\"free/reduced\",\"standard\",\"standard\",\"standard\",\"free/reduced\",\"free/reduced\",\"free/reduced\",\"standard\",\"standard\",\"free/reduced\",\"standard\",\"free/reduced\",\"standard\",\"standard\",\"standard\",\"standard\",\"standard\",\"standard\",\"standard\",\"free/reduced\",\"free/reduced\",\"standard\",\"standard\",\"free/reduced\",\"standard\",\"standard\",\"standard\",\"standard\",\"free/reduced\",\"free/reduced\",\"free/reduced\",\"standard\",\"standard\",\"standard\",\"standard\",\"free/reduced\",\"free/reduced\",\"free/reduced\",\"free/reduced\",\"standard\",\"free/reduced\",\"standard\",\"standard\",\"standard\",\"standard\",\"standard\",\"standard\",\"free/reduced\",\"free/reduced\",\"standard\",\"standard\",\"standard\",\"standard\",\"standard\",\"free/reduced\",\"standard\",\"standard\",\"standard\",\"standard\",\"free/reduced\",\"standard\",\"free/reduced\",\"standard\",\"standard\",\"standard\",\"standard\",\"standard\",\"standard\",\"free/reduced\",\"free/reduced\",\"standard\",\"free/reduced\",\"standard\",\"standard\",\"standard\",\"standard\",\"free/reduced\",\"standard\",\"standard\",\"standard\",\"standard\",\"standard\",\"free/reduced\",\"free/reduced\",\"standard\",\"standard\",\"standard\",\"standard\",\"standard\",\"free/reduced\",\"standard\",\"standard\",\"standard\",\"free/reduced\",\"standard\",\"standard\",\"free/reduced\",\"free/reduced\",\"standard\",\"standard\",\"standard\",\"standard\",\"standard\",\"free/reduced\",\"standard\",\"free/reduced\",\"standard\",\"standard\",\"standard\",\"standard\",\"standard\",\"standard\",\"standard\",\"free/reduced\",\"standard\",\"free/reduced\",\"free/reduced\",\"standard\",\"standard\",\"free/reduced\",\"standard\",\"free/reduced\",\"free/reduced\",\"standard\",\"standard\",\"free/reduced\",\"free/reduced\",\"standard\",\"standard\",\"standard\",\"free/reduced\",\"free/reduced\",\"free/reduced\",\"standard\",\"free/reduced\",\"standard\",\"standard\",\"standard\",\"standard\",\"standard\",\"free/reduced\",\"standard\",\"standard\",\"free/reduced\",\"standard\",\"free/reduced\",\"standard\",\"free/reduced\",\"free/reduced\",\"free/reduced\",\"free/reduced\",\"free/reduced\",\"free/reduced\",\"standard\",\"free/reduced\",\"standard\",\"standard\",\"standard\",\"free/reduced\",\"standard\",\"free/reduced\",\"standard\",\"free/reduced\",\"standard\",\"standard\",\"standard\",\"standard\",\"standard\",\"standard\",\"standard\",\"standard\",\"standard\",\"free/reduced\",\"standard\",\"standard\",\"standard\",\"standard\",\"standard\",\"standard\",\"free/reduced\",\"standard\",\"free/reduced\"],\"x0\":\" \",\"xaxis\":\"x\",\"y\":[47,76,40,64,58,40,78,88,46,66,44,74,73,69,70,40,97,81,57,55,59,65,82,53,77,53,88,52,58,79,39,62,67,45,61,63,61,49,44,30,80,49,50,72,42,27,71,43,78,65,79,68,60,98,66,62,54,84,91,63,83,72,65,82,89,53,87,74,58,51,70,71,57,88,88,73,100,62,77,54,62,60,66,82,49,52,53,72,94,62,45,65,80,62,48,76,77,61,59,55,69,59,74,82,81,80,35,60,87,84,66,61,87,86,57,68,76,46,92,83,80,63,54,84,73,59,75,85,89,68,47,80,54,78,79,76,59,69,58,88,83,73,53,45,81,97,88,77,76,86,63,78,67,46,71,40,90,81,56,80,69,99,51,66,67,71,83,63,61,28,82,71,47,62,90,76,49,58,67,79,62,75,87,66,63,59,85,59,49,69,61,84,74,46,66,87,79,73,73,76,57,48,74,60,53,65,87,84,71,63,84,71,74,68,57,41,86,69,65,68,64,61,73,50,75,75,70,89,79,69,86,47,81,65,37,53,72,53,54,75,72,91,76,80,76,73,68,59,70,61,64,79,68,76,63,68,55,79,76,64,62,71,69,54,53,68,56,62,73,51,85,97,75,79,78,72,79,79,87,77,53,61,73,96,48,48,63,68,71,91,40,61,58,71,68,30,53,60,84,75,69,94,88,95,65,62,58,100,100,69,61,49,67,79,84,71,86,41,70,51,77,69,90,74,73,80,73,81,52,81,63,60,62,62,85,77,53,93,66,87,62,46,66,89,93,81,73,91,55,50,47,81,68,53,55,55,67,92,81,61,80,55,72,69,69,87,71,68,79,58,55,70,69,78,60,76,58,52,75,66,94,91,68,66,89,70,69,67,76,75,90,59,51,45,87,94,61,49,62,68,64,58,73,58,64,74,90,91,64,80,71,82,62,75,52,87,39,97,82,59,61,78,49,59,82,90,80,81,57,63,55,54,44,88,36,67,85,88,57,70,50,100,91,69,72,74,74,64,46,67,62,61,70,98,70,67,85,77,72,81,61,82,49,94,58,72,84,75,72,66,63,78,60,62,55,81,79,57,81,86,63,62],\"y0\":\" \",\"yaxis\":\"y\",\"type\":\"box\"}],                        {\"template\":{\"data\":{\"bar\":[{\"error_x\":{\"color\":\"#2a3f5f\"},\"error_y\":{\"color\":\"#2a3f5f\"},\"marker\":{\"line\":{\"color\":\"#E5ECF6\",\"width\":0.5},\"pattern\":{\"fillmode\":\"overlay\",\"size\":10,\"solidity\":0.2}},\"type\":\"bar\"}],\"barpolar\":[{\"marker\":{\"line\":{\"color\":\"#E5ECF6\",\"width\":0.5},\"pattern\":{\"fillmode\":\"overlay\",\"size\":10,\"solidity\":0.2}},\"type\":\"barpolar\"}],\"carpet\":[{\"aaxis\":{\"endlinecolor\":\"#2a3f5f\",\"gridcolor\":\"white\",\"linecolor\":\"white\",\"minorgridcolor\":\"white\",\"startlinecolor\":\"#2a3f5f\"},\"baxis\":{\"endlinecolor\":\"#2a3f5f\",\"gridcolor\":\"white\",\"linecolor\":\"white\",\"minorgridcolor\":\"white\",\"startlinecolor\":\"#2a3f5f\"},\"type\":\"carpet\"}],\"choropleth\":[{\"colorbar\":{\"outlinewidth\":0,\"ticks\":\"\"},\"type\":\"choropleth\"}],\"contour\":[{\"colorbar\":{\"outlinewidth\":0,\"ticks\":\"\"},\"colorscale\":[[0.0,\"#0d0887\"],[0.1111111111111111,\"#46039f\"],[0.2222222222222222,\"#7201a8\"],[0.3333333333333333,\"#9c179e\"],[0.4444444444444444,\"#bd3786\"],[0.5555555555555556,\"#d8576b\"],[0.6666666666666666,\"#ed7953\"],[0.7777777777777778,\"#fb9f3a\"],[0.8888888888888888,\"#fdca26\"],[1.0,\"#f0f921\"]],\"type\":\"contour\"}],\"contourcarpet\":[{\"colorbar\":{\"outlinewidth\":0,\"ticks\":\"\"},\"type\":\"contourcarpet\"}],\"heatmap\":[{\"colorbar\":{\"outlinewidth\":0,\"ticks\":\"\"},\"colorscale\":[[0.0,\"#0d0887\"],[0.1111111111111111,\"#46039f\"],[0.2222222222222222,\"#7201a8\"],[0.3333333333333333,\"#9c179e\"],[0.4444444444444444,\"#bd3786\"],[0.5555555555555556,\"#d8576b\"],[0.6666666666666666,\"#ed7953\"],[0.7777777777777778,\"#fb9f3a\"],[0.8888888888888888,\"#fdca26\"],[1.0,\"#f0f921\"]],\"type\":\"heatmap\"}],\"heatmapgl\":[{\"colorbar\":{\"outlinewidth\":0,\"ticks\":\"\"},\"colorscale\":[[0.0,\"#0d0887\"],[0.1111111111111111,\"#46039f\"],[0.2222222222222222,\"#7201a8\"],[0.3333333333333333,\"#9c179e\"],[0.4444444444444444,\"#bd3786\"],[0.5555555555555556,\"#d8576b\"],[0.6666666666666666,\"#ed7953\"],[0.7777777777777778,\"#fb9f3a\"],[0.8888888888888888,\"#fdca26\"],[1.0,\"#f0f921\"]],\"type\":\"heatmapgl\"}],\"histogram\":[{\"marker\":{\"pattern\":{\"fillmode\":\"overlay\",\"size\":10,\"solidity\":0.2}},\"type\":\"histogram\"}],\"histogram2d\":[{\"colorbar\":{\"outlinewidth\":0,\"ticks\":\"\"},\"colorscale\":[[0.0,\"#0d0887\"],[0.1111111111111111,\"#46039f\"],[0.2222222222222222,\"#7201a8\"],[0.3333333333333333,\"#9c179e\"],[0.4444444444444444,\"#bd3786\"],[0.5555555555555556,\"#d8576b\"],[0.6666666666666666,\"#ed7953\"],[0.7777777777777778,\"#fb9f3a\"],[0.8888888888888888,\"#fdca26\"],[1.0,\"#f0f921\"]],\"type\":\"histogram2d\"}],\"histogram2dcontour\":[{\"colorbar\":{\"outlinewidth\":0,\"ticks\":\"\"},\"colorscale\":[[0.0,\"#0d0887\"],[0.1111111111111111,\"#46039f\"],[0.2222222222222222,\"#7201a8\"],[0.3333333333333333,\"#9c179e\"],[0.4444444444444444,\"#bd3786\"],[0.5555555555555556,\"#d8576b\"],[0.6666666666666666,\"#ed7953\"],[0.7777777777777778,\"#fb9f3a\"],[0.8888888888888888,\"#fdca26\"],[1.0,\"#f0f921\"]],\"type\":\"histogram2dcontour\"}],\"mesh3d\":[{\"colorbar\":{\"outlinewidth\":0,\"ticks\":\"\"},\"type\":\"mesh3d\"}],\"parcoords\":[{\"line\":{\"colorbar\":{\"outlinewidth\":0,\"ticks\":\"\"}},\"type\":\"parcoords\"}],\"pie\":[{\"automargin\":true,\"type\":\"pie\"}],\"scatter\":[{\"marker\":{\"colorbar\":{\"outlinewidth\":0,\"ticks\":\"\"}},\"type\":\"scatter\"}],\"scatter3d\":[{\"line\":{\"colorbar\":{\"outlinewidth\":0,\"ticks\":\"\"}},\"marker\":{\"colorbar\":{\"outlinewidth\":0,\"ticks\":\"\"}},\"type\":\"scatter3d\"}],\"scattercarpet\":[{\"marker\":{\"colorbar\":{\"outlinewidth\":0,\"ticks\":\"\"}},\"type\":\"scattercarpet\"}],\"scattergeo\":[{\"marker\":{\"colorbar\":{\"outlinewidth\":0,\"ticks\":\"\"}},\"type\":\"scattergeo\"}],\"scattergl\":[{\"marker\":{\"colorbar\":{\"outlinewidth\":0,\"ticks\":\"\"}},\"type\":\"scattergl\"}],\"scattermapbox\":[{\"marker\":{\"colorbar\":{\"outlinewidth\":0,\"ticks\":\"\"}},\"type\":\"scattermapbox\"}],\"scatterpolar\":[{\"marker\":{\"colorbar\":{\"outlinewidth\":0,\"ticks\":\"\"}},\"type\":\"scatterpolar\"}],\"scatterpolargl\":[{\"marker\":{\"colorbar\":{\"outlinewidth\":0,\"ticks\":\"\"}},\"type\":\"scatterpolargl\"}],\"scatterternary\":[{\"marker\":{\"colorbar\":{\"outlinewidth\":0,\"ticks\":\"\"}},\"type\":\"scatterternary\"}],\"surface\":[{\"colorbar\":{\"outlinewidth\":0,\"ticks\":\"\"},\"colorscale\":[[0.0,\"#0d0887\"],[0.1111111111111111,\"#46039f\"],[0.2222222222222222,\"#7201a8\"],[0.3333333333333333,\"#9c179e\"],[0.4444444444444444,\"#bd3786\"],[0.5555555555555556,\"#d8576b\"],[0.6666666666666666,\"#ed7953\"],[0.7777777777777778,\"#fb9f3a\"],[0.8888888888888888,\"#fdca26\"],[1.0,\"#f0f921\"]],\"type\":\"surface\"}],\"table\":[{\"cells\":{\"fill\":{\"color\":\"#EBF0F8\"},\"line\":{\"color\":\"white\"}},\"header\":{\"fill\":{\"color\":\"#C8D4E3\"},\"line\":{\"color\":\"white\"}},\"type\":\"table\"}]},\"layout\":{\"annotationdefaults\":{\"arrowcolor\":\"#2a3f5f\",\"arrowhead\":0,\"arrowwidth\":1},\"autotypenumbers\":\"strict\",\"coloraxis\":{\"colorbar\":{\"outlinewidth\":0,\"ticks\":\"\"}},\"colorscale\":{\"diverging\":[[0,\"#8e0152\"],[0.1,\"#c51b7d\"],[0.2,\"#de77ae\"],[0.3,\"#f1b6da\"],[0.4,\"#fde0ef\"],[0.5,\"#f7f7f7\"],[0.6,\"#e6f5d0\"],[0.7,\"#b8e186\"],[0.8,\"#7fbc41\"],[0.9,\"#4d9221\"],[1,\"#276419\"]],\"sequential\":[[0.0,\"#0d0887\"],[0.1111111111111111,\"#46039f\"],[0.2222222222222222,\"#7201a8\"],[0.3333333333333333,\"#9c179e\"],[0.4444444444444444,\"#bd3786\"],[0.5555555555555556,\"#d8576b\"],[0.6666666666666666,\"#ed7953\"],[0.7777777777777778,\"#fb9f3a\"],[0.8888888888888888,\"#fdca26\"],[1.0,\"#f0f921\"]],\"sequentialminus\":[[0.0,\"#0d0887\"],[0.1111111111111111,\"#46039f\"],[0.2222222222222222,\"#7201a8\"],[0.3333333333333333,\"#9c179e\"],[0.4444444444444444,\"#bd3786\"],[0.5555555555555556,\"#d8576b\"],[0.6666666666666666,\"#ed7953\"],[0.7777777777777778,\"#fb9f3a\"],[0.8888888888888888,\"#fdca26\"],[1.0,\"#f0f921\"]]},\"colorway\":[\"#636efa\",\"#EF553B\",\"#00cc96\",\"#ab63fa\",\"#FFA15A\",\"#19d3f3\",\"#FF6692\",\"#B6E880\",\"#FF97FF\",\"#FECB52\"],\"font\":{\"color\":\"#2a3f5f\"},\"geo\":{\"bgcolor\":\"white\",\"lakecolor\":\"white\",\"landcolor\":\"#E5ECF6\",\"showlakes\":true,\"showland\":true,\"subunitcolor\":\"white\"},\"hoverlabel\":{\"align\":\"left\"},\"hovermode\":\"closest\",\"mapbox\":{\"style\":\"light\"},\"paper_bgcolor\":\"white\",\"plot_bgcolor\":\"#E5ECF6\",\"polar\":{\"angularaxis\":{\"gridcolor\":\"white\",\"linecolor\":\"white\",\"ticks\":\"\"},\"bgcolor\":\"#E5ECF6\",\"radialaxis\":{\"gridcolor\":\"white\",\"linecolor\":\"white\",\"ticks\":\"\"}},\"scene\":{\"xaxis\":{\"backgroundcolor\":\"#E5ECF6\",\"gridcolor\":\"white\",\"gridwidth\":2,\"linecolor\":\"white\",\"showbackground\":true,\"ticks\":\"\",\"zerolinecolor\":\"white\"},\"yaxis\":{\"backgroundcolor\":\"#E5ECF6\",\"gridcolor\":\"white\",\"gridwidth\":2,\"linecolor\":\"white\",\"showbackground\":true,\"ticks\":\"\",\"zerolinecolor\":\"white\"},\"zaxis\":{\"backgroundcolor\":\"#E5ECF6\",\"gridcolor\":\"white\",\"gridwidth\":2,\"linecolor\":\"white\",\"showbackground\":true,\"ticks\":\"\",\"zerolinecolor\":\"white\"}},\"shapedefaults\":{\"line\":{\"color\":\"#2a3f5f\"}},\"ternary\":{\"aaxis\":{\"gridcolor\":\"white\",\"linecolor\":\"white\",\"ticks\":\"\"},\"baxis\":{\"gridcolor\":\"white\",\"linecolor\":\"white\",\"ticks\":\"\"},\"bgcolor\":\"#E5ECF6\",\"caxis\":{\"gridcolor\":\"white\",\"linecolor\":\"white\",\"ticks\":\"\"}},\"title\":{\"x\":0.05},\"xaxis\":{\"automargin\":true,\"gridcolor\":\"white\",\"linecolor\":\"white\",\"ticks\":\"\",\"title\":{\"standoff\":15},\"zerolinecolor\":\"white\",\"zerolinewidth\":2},\"yaxis\":{\"automargin\":true,\"gridcolor\":\"white\",\"linecolor\":\"white\",\"ticks\":\"\",\"title\":{\"standoff\":15},\"zerolinecolor\":\"white\",\"zerolinewidth\":2}}},\"xaxis\":{\"anchor\":\"y\",\"domain\":[0.0,1.0],\"title\":{\"text\":\"lunch\"}},\"yaxis\":{\"anchor\":\"x\",\"domain\":[0.0,1.0],\"title\":{\"text\":\"math score\"}},\"legend\":{\"title\":{\"text\":\"gender\"},\"tracegroupgap\":0},\"margin\":{\"t\":60},\"boxmode\":\"group\"},                        {\"responsive\": true}                    ).then(function(){\n",
       "                            \n",
       "var gd = document.getElementById('b66c0274-65b3-40d2-8b8e-ac7b5f18eaa1');\n",
       "var x = new MutationObserver(function (mutations, observer) {{\n",
       "        var display = window.getComputedStyle(gd).display;\n",
       "        if (!display || display === 'none') {{\n",
       "            console.log([gd, 'removed!']);\n",
       "            Plotly.purge(gd);\n",
       "            observer.disconnect();\n",
       "        }}\n",
       "}});\n",
       "\n",
       "// Listen for the removal of the full notebook cells\n",
       "var notebookContainer = gd.closest('#notebook-container');\n",
       "if (notebookContainer) {{\n",
       "    x.observe(notebookContainer, {childList: true});\n",
       "}}\n",
       "\n",
       "// Listen for the clearing of the current output cell\n",
       "var outputEl = gd.closest('.output');\n",
       "if (outputEl) {{\n",
       "    x.observe(outputEl, {childList: true});\n",
       "}}\n",
       "\n",
       "                        })                };                });            </script>        </div>"
      ]
     },
     "metadata": {},
     "output_type": "display_data"
    }
   ],
   "source": [
    "# Let's check if Lunch affect student math score\n",
    "\n",
    "fig = px.box(data, x=\"lunch\", y='math score', color=\"gender\")\n",
    "fig.show()"
   ]
  },
  {
   "cell_type": "code",
   "execution_count": 29,
   "id": "b78c1b23",
   "metadata": {
    "ExecuteTime": {
     "end_time": "2022-07-15T15:47:58.393560Z",
     "start_time": "2022-07-15T15:47:58.330737Z"
    }
   },
   "outputs": [
    {
     "data": {
      "application/vnd.plotly.v1+json": {
       "config": {
        "plotlyServerURL": "https://plot.ly"
       },
       "data": [
        {
         "alignmentgroup": "True",
         "hovertemplate": "gender=female<br>lunch=%{x}<br>reading score=%{y}<extra></extra>",
         "legendgroup": "female",
         "marker": {
          "color": "#636efa"
         },
         "name": "female",
         "notched": false,
         "offsetgroup": "female",
         "orientation": "v",
         "showlegend": true,
         "type": "box",
         "x": [
          "standard",
          "standard",
          "standard",
          "standard",
          "standard",
          "free/reduced",
          "standard",
          "standard",
          "standard",
          "free/reduced",
          "free/reduced",
          "free/reduced",
          "standard",
          "standard",
          "standard",
          "standard",
          "standard",
          "free/reduced",
          "standard",
          "free/reduced",
          "free/reduced",
          "standard",
          "standard",
          "free/reduced",
          "standard",
          "standard",
          "free/reduced",
          "free/reduced",
          "free/reduced",
          "standard",
          "free/reduced",
          "standard",
          "standard",
          "standard",
          "standard",
          "free/reduced",
          "free/reduced",
          "standard",
          "standard",
          "standard",
          "standard",
          "free/reduced",
          "standard",
          "standard",
          "standard",
          "standard",
          "standard",
          "standard",
          "free/reduced",
          "standard",
          "standard",
          "standard",
          "standard",
          "free/reduced",
          "standard",
          "free/reduced",
          "standard",
          "standard",
          "free/reduced",
          "standard",
          "standard",
          "standard",
          "standard",
          "standard",
          "standard",
          "standard",
          "standard",
          "standard",
          "standard",
          "free/reduced",
          "free/reduced",
          "free/reduced",
          "standard",
          "standard",
          "standard",
          "free/reduced",
          "standard",
          "free/reduced",
          "standard",
          "standard",
          "free/reduced",
          "standard",
          "free/reduced",
          "standard",
          "standard",
          "free/reduced",
          "standard",
          "free/reduced",
          "standard",
          "free/reduced",
          "standard",
          "free/reduced",
          "standard",
          "standard",
          "standard",
          "standard",
          "standard",
          "standard",
          "free/reduced",
          "free/reduced",
          "standard",
          "free/reduced",
          "standard",
          "free/reduced",
          "free/reduced",
          "free/reduced",
          "free/reduced",
          "free/reduced",
          "standard",
          "free/reduced",
          "standard",
          "free/reduced",
          "standard",
          "standard",
          "standard",
          "standard",
          "standard",
          "standard",
          "standard",
          "standard",
          "free/reduced",
          "standard",
          "standard",
          "free/reduced",
          "standard",
          "free/reduced",
          "free/reduced",
          "free/reduced",
          "standard",
          "standard",
          "standard",
          "standard",
          "free/reduced",
          "free/reduced",
          "standard",
          "standard",
          "standard",
          "free/reduced",
          "free/reduced",
          "free/reduced",
          "standard",
          "standard",
          "standard",
          "standard",
          "standard",
          "free/reduced",
          "free/reduced",
          "standard",
          "free/reduced",
          "standard",
          "standard",
          "free/reduced",
          "free/reduced",
          "standard",
          "standard",
          "free/reduced",
          "free/reduced",
          "standard",
          "standard",
          "standard",
          "free/reduced",
          "free/reduced",
          "free/reduced",
          "standard",
          "standard",
          "standard",
          "standard",
          "standard",
          "standard",
          "standard",
          "standard",
          "standard",
          "free/reduced",
          "standard",
          "standard",
          "standard",
          "free/reduced",
          "free/reduced",
          "standard",
          "free/reduced",
          "standard",
          "standard",
          "standard",
          "free/reduced",
          "standard",
          "standard",
          "free/reduced",
          "free/reduced",
          "standard",
          "standard",
          "free/reduced",
          "standard",
          "standard",
          "standard",
          "free/reduced",
          "standard",
          "standard",
          "free/reduced",
          "standard",
          "standard",
          "standard",
          "standard",
          "free/reduced",
          "standard",
          "free/reduced",
          "free/reduced",
          "standard",
          "free/reduced",
          "standard",
          "free/reduced",
          "standard",
          "free/reduced",
          "standard",
          "standard",
          "free/reduced",
          "standard",
          "standard",
          "free/reduced",
          "standard",
          "free/reduced",
          "free/reduced",
          "standard",
          "standard",
          "standard",
          "free/reduced",
          "standard",
          "free/reduced",
          "free/reduced",
          "standard",
          "standard",
          "standard",
          "standard",
          "standard",
          "standard",
          "standard",
          "free/reduced",
          "standard",
          "free/reduced",
          "free/reduced",
          "standard",
          "standard",
          "standard",
          "standard",
          "standard",
          "free/reduced",
          "standard",
          "standard",
          "standard",
          "standard",
          "free/reduced",
          "standard",
          "standard",
          "standard",
          "free/reduced",
          "standard",
          "standard",
          "standard",
          "standard",
          "free/reduced",
          "standard",
          "free/reduced",
          "free/reduced",
          "standard",
          "standard",
          "standard",
          "standard",
          "free/reduced",
          "standard",
          "standard",
          "standard",
          "standard",
          "standard",
          "free/reduced",
          "standard",
          "free/reduced",
          "standard",
          "free/reduced",
          "standard",
          "standard",
          "free/reduced",
          "free/reduced",
          "free/reduced",
          "standard",
          "free/reduced",
          "standard",
          "standard",
          "free/reduced",
          "standard",
          "standard",
          "standard",
          "free/reduced",
          "standard",
          "standard",
          "standard",
          "standard",
          "free/reduced",
          "standard",
          "standard",
          "standard",
          "standard",
          "standard",
          "standard",
          "standard",
          "standard",
          "standard",
          "standard",
          "standard",
          "free/reduced",
          "standard",
          "standard",
          "standard",
          "standard",
          "standard",
          "standard",
          "standard",
          "free/reduced",
          "free/reduced",
          "standard",
          "standard",
          "standard",
          "free/reduced",
          "standard",
          "standard",
          "free/reduced",
          "free/reduced",
          "standard",
          "standard",
          "standard",
          "free/reduced",
          "standard",
          "standard",
          "standard",
          "standard",
          "standard",
          "standard",
          "standard",
          "free/reduced",
          "free/reduced",
          "standard",
          "free/reduced",
          "free/reduced",
          "free/reduced",
          "free/reduced",
          "standard",
          "standard",
          "standard",
          "standard",
          "standard",
          "standard",
          "standard",
          "free/reduced",
          "standard",
          "standard",
          "free/reduced",
          "free/reduced",
          "standard",
          "standard",
          "free/reduced",
          "standard",
          "standard",
          "standard",
          "standard",
          "standard",
          "standard",
          "free/reduced",
          "free/reduced",
          "standard",
          "standard",
          "standard",
          "free/reduced",
          "standard",
          "standard",
          "free/reduced",
          "free/reduced",
          "standard",
          "free/reduced",
          "free/reduced",
          "standard",
          "free/reduced",
          "free/reduced",
          "free/reduced",
          "standard",
          "standard",
          "free/reduced",
          "standard",
          "standard",
          "free/reduced",
          "free/reduced",
          "standard",
          "standard",
          "standard",
          "standard",
          "standard",
          "free/reduced",
          "free/reduced",
          "free/reduced",
          "standard",
          "free/reduced",
          "standard",
          "free/reduced",
          "standard",
          "free/reduced",
          "standard",
          "standard",
          "free/reduced",
          "standard",
          "free/reduced",
          "standard",
          "free/reduced",
          "standard",
          "free/reduced",
          "free/reduced",
          "standard",
          "standard",
          "standard",
          "standard",
          "free/reduced",
          "free/reduced",
          "standard",
          "standard",
          "standard",
          "free/reduced",
          "standard",
          "standard",
          "free/reduced",
          "free/reduced",
          "free/reduced",
          "free/reduced",
          "standard",
          "free/reduced",
          "free/reduced",
          "free/reduced",
          "standard",
          "standard",
          "standard",
          "standard",
          "free/reduced",
          "free/reduced",
          "free/reduced",
          "standard",
          "standard",
          "standard",
          "standard",
          "standard",
          "standard",
          "free/reduced",
          "standard",
          "standard",
          "free/reduced",
          "standard",
          "standard",
          "standard",
          "free/reduced",
          "standard",
          "standard",
          "standard",
          "free/reduced",
          "standard",
          "standard",
          "free/reduced",
          "standard",
          "free/reduced",
          "free/reduced",
          "standard",
          "standard",
          "free/reduced",
          "free/reduced",
          "free/reduced",
          "standard",
          "free/reduced",
          "standard",
          "standard",
          "free/reduced",
          "free/reduced",
          "standard",
          "standard",
          "standard",
          "free/reduced",
          "free/reduced",
          "free/reduced",
          "free/reduced",
          "free/reduced",
          "standard",
          "standard",
          "standard",
          "free/reduced",
          "free/reduced",
          "standard",
          "free/reduced",
          "standard",
          "standard",
          "standard",
          "standard",
          "free/reduced",
          "standard",
          "free/reduced",
          "standard",
          "standard",
          "standard",
          "standard",
          "free/reduced",
          "free/reduced",
          "standard",
          "standard",
          "standard",
          "free/reduced",
          "standard",
          "standard",
          "standard",
          "free/reduced",
          "free/reduced",
          "standard",
          "free/reduced",
          "free/reduced",
          "standard",
          "free/reduced",
          "standard",
          "free/reduced"
         ],
         "x0": " ",
         "xaxis": "x",
         "y": [
          72,
          90,
          95,
          83,
          95,
          60,
          81,
          53,
          75,
          32,
          58,
          75,
          73,
          69,
          70,
          74,
          65,
          72,
          81,
          64,
          90,
          73,
          58,
          56,
          65,
          71,
          74,
          84,
          41,
          85,
          17,
          80,
          58,
          72,
          64,
          63,
          51,
          74,
          68,
          49,
          80,
          83,
          71,
          70,
          86,
          72,
          86,
          72,
          67,
          67,
          91,
          67,
          100,
          76,
          64,
          89,
          58,
          100,
          85,
          82,
          63,
          69,
          92,
          93,
          95,
          49,
          81,
          66,
          72,
          62,
          55,
          39,
          75,
          70,
          89,
          74,
          86,
          88,
          92,
          100,
          76,
          83,
          75,
          86,
          67,
          51,
          91,
          54,
          77,
          70,
          100,
          64,
          50,
          69,
          88,
          65,
          64,
          84,
          53,
          79,
          84,
          81,
          69,
          81,
          61,
          62,
          86,
          42,
          68,
          65,
          66,
          56,
          72,
          95,
          86,
          60,
          83,
          52,
          70,
          64,
          83,
          70,
          73,
          73,
          75,
          81,
          79,
          50,
          93,
          75,
          72,
          92,
          76,
          53,
          70,
          92,
          63,
          86,
          79,
          78,
          46,
          89,
          73,
          84,
          75,
          71,
          57,
          76,
          67,
          64,
          82,
          65,
          79,
          86,
          81,
          53,
          46,
          90,
          55,
          93,
          68,
          38,
          55,
          73,
          76,
          80,
          94,
          65,
          78,
          58,
          71,
          72,
          66,
          90,
          62,
          58,
          34,
          64,
          84,
          73,
          97,
          70,
          90,
          95,
          83,
          86,
          49,
          43,
          76,
          73,
          78,
          64,
          68,
          74,
          67,
          89,
          54,
          65,
          99,
          59,
          73,
          80,
          57,
          71,
          72,
          93,
          58,
          58,
          85,
          67,
          72,
          59,
          81,
          81,
          73,
          83,
          74,
          85,
          92,
          77,
          61,
          89,
          100,
          70,
          90,
          87,
          31,
          88,
          85,
          69,
          86,
          67,
          90,
          76,
          64,
          59,
          52,
          75,
          85,
          64,
          83,
          88,
          64,
          48,
          78,
          69,
          79,
          87,
          89,
          59,
          82,
          92,
          61,
          97,
          87,
          89,
          74,
          78,
          78,
          86,
          53,
          41,
          74,
          67,
          54,
          88,
          83,
          66,
          77,
          95,
          63,
          100,
          67,
          48,
          39,
          72,
          70,
          75,
          74,
          80,
          100,
          71,
          62,
          66,
          81,
          91,
          56,
          61,
          97,
          79,
          73,
          75,
          77,
          76,
          73,
          63,
          64,
          66,
          76,
          100,
          79,
          77,
          82,
          60,
          29,
          78,
          84,
          58,
          64,
          63,
          59,
          77,
          93,
          68,
          45,
          61,
          58,
          51,
          74,
          88,
          80,
          92,
          74,
          88,
          81,
          79,
          81,
          70,
          62,
          53,
          79,
          80,
          86,
          70,
          79,
          67,
          60,
          71,
          69,
          60,
          73,
          85,
          76,
          78,
          84,
          77,
          64,
          78,
          82,
          72,
          40,
          99,
          53,
          76,
          74,
          77,
          63,
          89,
          82,
          72,
          78,
          81,
          67,
          64,
          63,
          61,
          85,
          100,
          70,
          94,
          96,
          76,
          72,
          90,
          75,
          92,
          77,
          89,
          58,
          66,
          57,
          84,
          73,
          60,
          90,
          95,
          59,
          72,
          58,
          62,
          72,
          75,
          71,
          67,
          78,
          58,
          72,
          44,
          79,
          56,
          90,
          85,
          59,
          51,
          79,
          38,
          65,
          62,
          66,
          52,
          68,
          84,
          55,
          94,
          85,
          76,
          74,
          45,
          64,
          80,
          59,
          72,
          91,
          90,
          90,
          87,
          58,
          68,
          69,
          86,
          60,
          86,
          82,
          64,
          82,
          77,
          52,
          44,
          65,
          72,
          68,
          85,
          97,
          79,
          62,
          86,
          71,
          72,
          62,
          72,
          76,
          70,
          73,
          51,
          76,
          100,
          65,
          85,
          92,
          67,
          62,
          34,
          78,
          78,
          78,
          48,
          100,
          84,
          84,
          75,
          84,
          61,
          62,
          61,
          70,
          61,
          77,
          53,
          65,
          61,
          56,
          58,
          91,
          68,
          61,
          58,
          75,
          77,
          74,
          69,
          100,
          63,
          58,
          54,
          100,
          76,
          70,
          76,
          84,
          100,
          50,
          65,
          63,
          82,
          95,
          24,
          87,
          75,
          59,
          45,
          86,
          82,
          76,
          72,
          99,
          71,
          78,
          86
         ],
         "y0": " ",
         "yaxis": "y"
        },
        {
         "alignmentgroup": "True",
         "hovertemplate": "gender=male<br>lunch=%{x}<br>reading score=%{y}<extra></extra>",
         "legendgroup": "male",
         "marker": {
          "color": "#EF553B"
         },
         "name": "male",
         "notched": false,
         "offsetgroup": "male",
         "orientation": "v",
         "showlegend": true,
         "type": "box",
         "x": [
          "free/reduced",
          "standard",
          "free/reduced",
          "free/reduced",
          "standard",
          "standard",
          "standard",
          "standard",
          "free/reduced",
          "standard",
          "standard",
          "free/reduced",
          "free/reduced",
          "standard",
          "standard",
          "standard",
          "standard",
          "standard",
          "free/reduced",
          "free/reduced",
          "free/reduced",
          "standard",
          "standard",
          "standard",
          "free/reduced",
          "standard",
          "standard",
          "standard",
          "standard",
          "free/reduced",
          "free/reduced",
          "free/reduced",
          "standard",
          "free/reduced",
          "free/reduced",
          "standard",
          "free/reduced",
          "standard",
          "free/reduced",
          "standard",
          "standard",
          "free/reduced",
          "free/reduced",
          "standard",
          "free/reduced",
          "free/reduced",
          "standard",
          "free/reduced",
          "free/reduced",
          "standard",
          "standard",
          "standard",
          "standard",
          "standard",
          "standard",
          "standard",
          "standard",
          "standard",
          "standard",
          "free/reduced",
          "standard",
          "standard",
          "standard",
          "standard",
          "standard",
          "free/reduced",
          "free/reduced",
          "free/reduced",
          "standard",
          "standard",
          "standard",
          "standard",
          "standard",
          "standard",
          "standard",
          "free/reduced",
          "free/reduced",
          "standard",
          "standard",
          "standard",
          "standard",
          "free/reduced",
          "free/reduced",
          "free/reduced",
          "free/reduced",
          "standard",
          "free/reduced",
          "standard",
          "standard",
          "free/reduced",
          "free/reduced",
          "free/reduced",
          "standard",
          "standard",
          "free/reduced",
          "standard",
          "standard",
          "standard",
          "free/reduced",
          "free/reduced",
          "standard",
          "standard",
          "standard",
          "standard",
          "standard",
          "free/reduced",
          "free/reduced",
          "free/reduced",
          "standard",
          "standard",
          "free/reduced",
          "standard",
          "standard",
          "standard",
          "standard",
          "free/reduced",
          "standard",
          "standard",
          "standard",
          "standard",
          "standard",
          "free/reduced",
          "standard",
          "standard",
          "free/reduced",
          "standard",
          "standard",
          "standard",
          "standard",
          "standard",
          "standard",
          "standard",
          "standard",
          "standard",
          "standard",
          "standard",
          "free/reduced",
          "standard",
          "standard",
          "standard",
          "standard",
          "free/reduced",
          "standard",
          "standard",
          "standard",
          "standard",
          "free/reduced",
          "standard",
          "standard",
          "standard",
          "standard",
          "free/reduced",
          "free/reduced",
          "standard",
          "standard",
          "free/reduced",
          "free/reduced",
          "free/reduced",
          "free/reduced",
          "standard",
          "standard",
          "standard",
          "standard",
          "standard",
          "standard",
          "standard",
          "standard",
          "standard",
          "standard",
          "free/reduced",
          "standard",
          "standard",
          "standard",
          "standard",
          "standard",
          "standard",
          "standard",
          "free/reduced",
          "standard",
          "standard",
          "standard",
          "free/reduced",
          "standard",
          "standard",
          "standard",
          "free/reduced",
          "standard",
          "standard",
          "free/reduced",
          "standard",
          "free/reduced",
          "standard",
          "standard",
          "free/reduced",
          "standard",
          "standard",
          "free/reduced",
          "standard",
          "free/reduced",
          "standard",
          "standard",
          "free/reduced",
          "standard",
          "standard",
          "standard",
          "standard",
          "standard",
          "standard",
          "standard",
          "standard",
          "standard",
          "standard",
          "standard",
          "standard",
          "free/reduced",
          "free/reduced",
          "standard",
          "free/reduced",
          "free/reduced",
          "free/reduced",
          "free/reduced",
          "standard",
          "standard",
          "free/reduced",
          "standard",
          "free/reduced",
          "standard",
          "standard",
          "free/reduced",
          "free/reduced",
          "standard",
          "standard",
          "standard",
          "free/reduced",
          "free/reduced",
          "free/reduced",
          "standard",
          "free/reduced",
          "free/reduced",
          "standard",
          "free/reduced",
          "standard",
          "standard",
          "standard",
          "standard",
          "standard",
          "free/reduced",
          "standard",
          "standard",
          "free/reduced",
          "standard",
          "free/reduced",
          "standard",
          "standard",
          "free/reduced",
          "standard",
          "free/reduced",
          "standard",
          "standard",
          "standard",
          "free/reduced",
          "standard",
          "standard",
          "free/reduced",
          "standard",
          "standard",
          "free/reduced",
          "standard",
          "standard",
          "standard",
          "standard",
          "standard",
          "standard",
          "free/reduced",
          "free/reduced",
          "standard",
          "standard",
          "free/reduced",
          "free/reduced",
          "free/reduced",
          "standard",
          "free/reduced",
          "standard",
          "standard",
          "free/reduced",
          "standard",
          "free/reduced",
          "free/reduced",
          "standard",
          "standard",
          "free/reduced",
          "standard",
          "free/reduced",
          "standard",
          "standard",
          "free/reduced",
          "standard",
          "free/reduced",
          "free/reduced",
          "standard",
          "free/reduced",
          "standard",
          "standard",
          "standard",
          "free/reduced",
          "free/reduced",
          "free/reduced",
          "standard",
          "standard",
          "free/reduced",
          "standard",
          "free/reduced",
          "standard",
          "standard",
          "standard",
          "standard",
          "standard",
          "standard",
          "standard",
          "free/reduced",
          "free/reduced",
          "standard",
          "standard",
          "free/reduced",
          "standard",
          "standard",
          "standard",
          "standard",
          "free/reduced",
          "free/reduced",
          "free/reduced",
          "standard",
          "standard",
          "standard",
          "standard",
          "free/reduced",
          "free/reduced",
          "free/reduced",
          "free/reduced",
          "standard",
          "free/reduced",
          "standard",
          "standard",
          "standard",
          "standard",
          "standard",
          "standard",
          "free/reduced",
          "free/reduced",
          "standard",
          "standard",
          "standard",
          "standard",
          "standard",
          "free/reduced",
          "standard",
          "standard",
          "standard",
          "standard",
          "free/reduced",
          "standard",
          "free/reduced",
          "standard",
          "standard",
          "standard",
          "standard",
          "standard",
          "standard",
          "free/reduced",
          "free/reduced",
          "standard",
          "free/reduced",
          "standard",
          "standard",
          "standard",
          "standard",
          "free/reduced",
          "standard",
          "standard",
          "standard",
          "standard",
          "standard",
          "free/reduced",
          "free/reduced",
          "standard",
          "standard",
          "standard",
          "standard",
          "standard",
          "free/reduced",
          "standard",
          "standard",
          "standard",
          "free/reduced",
          "standard",
          "standard",
          "free/reduced",
          "free/reduced",
          "standard",
          "standard",
          "standard",
          "standard",
          "standard",
          "free/reduced",
          "standard",
          "free/reduced",
          "standard",
          "standard",
          "standard",
          "standard",
          "standard",
          "standard",
          "standard",
          "free/reduced",
          "standard",
          "free/reduced",
          "free/reduced",
          "standard",
          "standard",
          "free/reduced",
          "standard",
          "free/reduced",
          "free/reduced",
          "standard",
          "standard",
          "free/reduced",
          "free/reduced",
          "standard",
          "standard",
          "standard",
          "free/reduced",
          "free/reduced",
          "free/reduced",
          "standard",
          "free/reduced",
          "standard",
          "standard",
          "standard",
          "standard",
          "standard",
          "free/reduced",
          "standard",
          "standard",
          "free/reduced",
          "standard",
          "free/reduced",
          "standard",
          "free/reduced",
          "free/reduced",
          "free/reduced",
          "free/reduced",
          "free/reduced",
          "free/reduced",
          "standard",
          "free/reduced",
          "standard",
          "standard",
          "standard",
          "free/reduced",
          "standard",
          "free/reduced",
          "standard",
          "free/reduced",
          "standard",
          "standard",
          "standard",
          "standard",
          "standard",
          "standard",
          "standard",
          "standard",
          "standard",
          "free/reduced",
          "standard",
          "standard",
          "standard",
          "standard",
          "standard",
          "standard",
          "free/reduced",
          "standard",
          "free/reduced"
         ],
         "x0": " ",
         "xaxis": "x",
         "y": [
          57,
          78,
          43,
          64,
          54,
          52,
          72,
          89,
          42,
          69,
          54,
          71,
          74,
          54,
          70,
          42,
          87,
          81,
          56,
          61,
          65,
          54,
          84,
          55,
          69,
          44,
          78,
          55,
          59,
          74,
          39,
          61,
          64,
          37,
          58,
          55,
          57,
          49,
          41,
          26,
          78,
          45,
          47,
          64,
          39,
          34,
          79,
          45,
          81,
          66,
          67,
          74,
          44,
          86,
          63,
          55,
          53,
          77,
          89,
          57,
          80,
          68,
          77,
          82,
          84,
          37,
          74,
          79,
          55,
          54,
          55,
          61,
          43,
          73,
          84,
          68,
          100,
          67,
          67,
          49,
          67,
          60,
          62,
          78,
          53,
          53,
          51,
          73,
          88,
          68,
          52,
          67,
          76,
          66,
          52,
          83,
          62,
          55,
          69,
          56,
          77,
          41,
          71,
          62,
          80,
          79,
          28,
          51,
          91,
          83,
          77,
          56,
          85,
          80,
          50,
          72,
          64,
          43,
          87,
          82,
          75,
          66,
          52,
          80,
          68,
          51,
          74,
          76,
          76,
          60,
          49,
          80,
          52,
          77,
          79,
          73,
          42,
          63,
          49,
          85,
          78,
          56,
          52,
          48,
          82,
          82,
          75,
          76,
          70,
          73,
          60,
          77,
          62,
          41,
          74,
          46,
          87,
          78,
          54,
          76,
          67,
          87,
          52,
          60,
          61,
          66,
          72,
          71,
          61,
          23,
          75,
          60,
          37,
          56,
          78,
          70,
          51,
          61,
          72,
          73,
          61,
          74,
          74,
          57,
          61,
          62,
          84,
          60,
          58,
          58,
          66,
          77,
          74,
          43,
          64,
          100,
          81,
          70,
          67,
          67,
          54,
          45,
          63,
          59,
          43,
          65,
          84,
          83,
          66,
          67,
          73,
          74,
          73,
          59,
          56,
          39,
          83,
          71,
          59,
          63,
          66,
          56,
          66,
          48,
          68,
          66,
          56,
          88,
          82,
          66,
          81,
          46,
          73,
          58,
          56,
          54,
          65,
          58,
          54,
          58,
          67,
          74,
          62,
          68,
          71,
          71,
          68,
          52,
          74,
          47,
          53,
          82,
          64,
          71,
          61,
          70,
          59,
          78,
          71,
          50,
          49,
          49,
          58,
          59,
          52,
          60,
          61,
          61,
          69,
          60,
          66,
          92,
          69,
          82,
          83,
          67,
          72,
          76,
          90,
          62,
          45,
          67,
          66,
          90,
          51,
          43,
          48,
          68,
          75,
          96,
          55,
          51,
          57,
          62,
          68,
          24,
          54,
          57,
          89,
          72,
          60,
          90,
          78,
          81,
          73,
          63,
          51,
          96,
          97,
          70,
          48,
          57,
          64,
          60,
          84,
          74,
          76,
          52,
          65,
          56,
          67,
          66,
          87,
          77,
          66,
          63,
          74,
          72,
          57,
          75,
          61,
          68,
          55,
          66,
          75,
          78,
          58,
          90,
          66,
          84,
          72,
          34,
          59,
          87,
          84,
          81,
          78,
          73,
          59,
          48,
          43,
          74,
          51,
          39,
          46,
          47,
          57,
          79,
          71,
          60,
          73,
          55,
          79,
          75,
          64,
          84,
          69,
          72,
          77,
          55,
          58,
          68,
          77,
          81,
          63,
          62,
          60,
          48,
          73,
          65,
          85,
          81,
          65,
          74,
          84,
          70,
          60,
          73,
          80,
          81,
          75,
          54,
          31,
          47,
          84,
          86,
          70,
          52,
          67,
          54,
          60,
          50,
          64,
          57,
          58,
          77,
          85,
          85,
          54,
          75,
          67,
          67,
          64,
          68,
          49,
          73,
          42,
          93,
          82,
          53,
          42,
          74,
          51,
          58,
          84,
          90,
          64,
          82,
          61,
          64,
          46,
          72,
          51,
          74,
          29,
          54,
          84,
          77,
          48,
          64,
          42,
          100,
          96,
          70,
          66,
          70,
          64,
          56,
          43,
          74,
          57,
          71,
          75,
          87,
          63,
          57,
          81,
          68,
          66,
          66,
          62,
          82,
          50,
          73,
          52,
          57,
          87,
          81,
          57,
          68,
          63,
          72,
          62,
          65,
          41,
          78,
          85,
          51,
          75,
          81,
          63,
          55
         ],
         "y0": " ",
         "yaxis": "y"
        }
       ],
       "layout": {
        "boxmode": "group",
        "legend": {
         "title": {
          "text": "gender"
         },
         "tracegroupgap": 0
        },
        "margin": {
         "t": 60
        },
        "template": {
         "data": {
          "bar": [
           {
            "error_x": {
             "color": "#2a3f5f"
            },
            "error_y": {
             "color": "#2a3f5f"
            },
            "marker": {
             "line": {
              "color": "#E5ECF6",
              "width": 0.5
             },
             "pattern": {
              "fillmode": "overlay",
              "size": 10,
              "solidity": 0.2
             }
            },
            "type": "bar"
           }
          ],
          "barpolar": [
           {
            "marker": {
             "line": {
              "color": "#E5ECF6",
              "width": 0.5
             },
             "pattern": {
              "fillmode": "overlay",
              "size": 10,
              "solidity": 0.2
             }
            },
            "type": "barpolar"
           }
          ],
          "carpet": [
           {
            "aaxis": {
             "endlinecolor": "#2a3f5f",
             "gridcolor": "white",
             "linecolor": "white",
             "minorgridcolor": "white",
             "startlinecolor": "#2a3f5f"
            },
            "baxis": {
             "endlinecolor": "#2a3f5f",
             "gridcolor": "white",
             "linecolor": "white",
             "minorgridcolor": "white",
             "startlinecolor": "#2a3f5f"
            },
            "type": "carpet"
           }
          ],
          "choropleth": [
           {
            "colorbar": {
             "outlinewidth": 0,
             "ticks": ""
            },
            "type": "choropleth"
           }
          ],
          "contour": [
           {
            "colorbar": {
             "outlinewidth": 0,
             "ticks": ""
            },
            "colorscale": [
             [
              0,
              "#0d0887"
             ],
             [
              0.1111111111111111,
              "#46039f"
             ],
             [
              0.2222222222222222,
              "#7201a8"
             ],
             [
              0.3333333333333333,
              "#9c179e"
             ],
             [
              0.4444444444444444,
              "#bd3786"
             ],
             [
              0.5555555555555556,
              "#d8576b"
             ],
             [
              0.6666666666666666,
              "#ed7953"
             ],
             [
              0.7777777777777778,
              "#fb9f3a"
             ],
             [
              0.8888888888888888,
              "#fdca26"
             ],
             [
              1,
              "#f0f921"
             ]
            ],
            "type": "contour"
           }
          ],
          "contourcarpet": [
           {
            "colorbar": {
             "outlinewidth": 0,
             "ticks": ""
            },
            "type": "contourcarpet"
           }
          ],
          "heatmap": [
           {
            "colorbar": {
             "outlinewidth": 0,
             "ticks": ""
            },
            "colorscale": [
             [
              0,
              "#0d0887"
             ],
             [
              0.1111111111111111,
              "#46039f"
             ],
             [
              0.2222222222222222,
              "#7201a8"
             ],
             [
              0.3333333333333333,
              "#9c179e"
             ],
             [
              0.4444444444444444,
              "#bd3786"
             ],
             [
              0.5555555555555556,
              "#d8576b"
             ],
             [
              0.6666666666666666,
              "#ed7953"
             ],
             [
              0.7777777777777778,
              "#fb9f3a"
             ],
             [
              0.8888888888888888,
              "#fdca26"
             ],
             [
              1,
              "#f0f921"
             ]
            ],
            "type": "heatmap"
           }
          ],
          "heatmapgl": [
           {
            "colorbar": {
             "outlinewidth": 0,
             "ticks": ""
            },
            "colorscale": [
             [
              0,
              "#0d0887"
             ],
             [
              0.1111111111111111,
              "#46039f"
             ],
             [
              0.2222222222222222,
              "#7201a8"
             ],
             [
              0.3333333333333333,
              "#9c179e"
             ],
             [
              0.4444444444444444,
              "#bd3786"
             ],
             [
              0.5555555555555556,
              "#d8576b"
             ],
             [
              0.6666666666666666,
              "#ed7953"
             ],
             [
              0.7777777777777778,
              "#fb9f3a"
             ],
             [
              0.8888888888888888,
              "#fdca26"
             ],
             [
              1,
              "#f0f921"
             ]
            ],
            "type": "heatmapgl"
           }
          ],
          "histogram": [
           {
            "marker": {
             "pattern": {
              "fillmode": "overlay",
              "size": 10,
              "solidity": 0.2
             }
            },
            "type": "histogram"
           }
          ],
          "histogram2d": [
           {
            "colorbar": {
             "outlinewidth": 0,
             "ticks": ""
            },
            "colorscale": [
             [
              0,
              "#0d0887"
             ],
             [
              0.1111111111111111,
              "#46039f"
             ],
             [
              0.2222222222222222,
              "#7201a8"
             ],
             [
              0.3333333333333333,
              "#9c179e"
             ],
             [
              0.4444444444444444,
              "#bd3786"
             ],
             [
              0.5555555555555556,
              "#d8576b"
             ],
             [
              0.6666666666666666,
              "#ed7953"
             ],
             [
              0.7777777777777778,
              "#fb9f3a"
             ],
             [
              0.8888888888888888,
              "#fdca26"
             ],
             [
              1,
              "#f0f921"
             ]
            ],
            "type": "histogram2d"
           }
          ],
          "histogram2dcontour": [
           {
            "colorbar": {
             "outlinewidth": 0,
             "ticks": ""
            },
            "colorscale": [
             [
              0,
              "#0d0887"
             ],
             [
              0.1111111111111111,
              "#46039f"
             ],
             [
              0.2222222222222222,
              "#7201a8"
             ],
             [
              0.3333333333333333,
              "#9c179e"
             ],
             [
              0.4444444444444444,
              "#bd3786"
             ],
             [
              0.5555555555555556,
              "#d8576b"
             ],
             [
              0.6666666666666666,
              "#ed7953"
             ],
             [
              0.7777777777777778,
              "#fb9f3a"
             ],
             [
              0.8888888888888888,
              "#fdca26"
             ],
             [
              1,
              "#f0f921"
             ]
            ],
            "type": "histogram2dcontour"
           }
          ],
          "mesh3d": [
           {
            "colorbar": {
             "outlinewidth": 0,
             "ticks": ""
            },
            "type": "mesh3d"
           }
          ],
          "parcoords": [
           {
            "line": {
             "colorbar": {
              "outlinewidth": 0,
              "ticks": ""
             }
            },
            "type": "parcoords"
           }
          ],
          "pie": [
           {
            "automargin": true,
            "type": "pie"
           }
          ],
          "scatter": [
           {
            "marker": {
             "colorbar": {
              "outlinewidth": 0,
              "ticks": ""
             }
            },
            "type": "scatter"
           }
          ],
          "scatter3d": [
           {
            "line": {
             "colorbar": {
              "outlinewidth": 0,
              "ticks": ""
             }
            },
            "marker": {
             "colorbar": {
              "outlinewidth": 0,
              "ticks": ""
             }
            },
            "type": "scatter3d"
           }
          ],
          "scattercarpet": [
           {
            "marker": {
             "colorbar": {
              "outlinewidth": 0,
              "ticks": ""
             }
            },
            "type": "scattercarpet"
           }
          ],
          "scattergeo": [
           {
            "marker": {
             "colorbar": {
              "outlinewidth": 0,
              "ticks": ""
             }
            },
            "type": "scattergeo"
           }
          ],
          "scattergl": [
           {
            "marker": {
             "colorbar": {
              "outlinewidth": 0,
              "ticks": ""
             }
            },
            "type": "scattergl"
           }
          ],
          "scattermapbox": [
           {
            "marker": {
             "colorbar": {
              "outlinewidth": 0,
              "ticks": ""
             }
            },
            "type": "scattermapbox"
           }
          ],
          "scatterpolar": [
           {
            "marker": {
             "colorbar": {
              "outlinewidth": 0,
              "ticks": ""
             }
            },
            "type": "scatterpolar"
           }
          ],
          "scatterpolargl": [
           {
            "marker": {
             "colorbar": {
              "outlinewidth": 0,
              "ticks": ""
             }
            },
            "type": "scatterpolargl"
           }
          ],
          "scatterternary": [
           {
            "marker": {
             "colorbar": {
              "outlinewidth": 0,
              "ticks": ""
             }
            },
            "type": "scatterternary"
           }
          ],
          "surface": [
           {
            "colorbar": {
             "outlinewidth": 0,
             "ticks": ""
            },
            "colorscale": [
             [
              0,
              "#0d0887"
             ],
             [
              0.1111111111111111,
              "#46039f"
             ],
             [
              0.2222222222222222,
              "#7201a8"
             ],
             [
              0.3333333333333333,
              "#9c179e"
             ],
             [
              0.4444444444444444,
              "#bd3786"
             ],
             [
              0.5555555555555556,
              "#d8576b"
             ],
             [
              0.6666666666666666,
              "#ed7953"
             ],
             [
              0.7777777777777778,
              "#fb9f3a"
             ],
             [
              0.8888888888888888,
              "#fdca26"
             ],
             [
              1,
              "#f0f921"
             ]
            ],
            "type": "surface"
           }
          ],
          "table": [
           {
            "cells": {
             "fill": {
              "color": "#EBF0F8"
             },
             "line": {
              "color": "white"
             }
            },
            "header": {
             "fill": {
              "color": "#C8D4E3"
             },
             "line": {
              "color": "white"
             }
            },
            "type": "table"
           }
          ]
         },
         "layout": {
          "annotationdefaults": {
           "arrowcolor": "#2a3f5f",
           "arrowhead": 0,
           "arrowwidth": 1
          },
          "autotypenumbers": "strict",
          "coloraxis": {
           "colorbar": {
            "outlinewidth": 0,
            "ticks": ""
           }
          },
          "colorscale": {
           "diverging": [
            [
             0,
             "#8e0152"
            ],
            [
             0.1,
             "#c51b7d"
            ],
            [
             0.2,
             "#de77ae"
            ],
            [
             0.3,
             "#f1b6da"
            ],
            [
             0.4,
             "#fde0ef"
            ],
            [
             0.5,
             "#f7f7f7"
            ],
            [
             0.6,
             "#e6f5d0"
            ],
            [
             0.7,
             "#b8e186"
            ],
            [
             0.8,
             "#7fbc41"
            ],
            [
             0.9,
             "#4d9221"
            ],
            [
             1,
             "#276419"
            ]
           ],
           "sequential": [
            [
             0,
             "#0d0887"
            ],
            [
             0.1111111111111111,
             "#46039f"
            ],
            [
             0.2222222222222222,
             "#7201a8"
            ],
            [
             0.3333333333333333,
             "#9c179e"
            ],
            [
             0.4444444444444444,
             "#bd3786"
            ],
            [
             0.5555555555555556,
             "#d8576b"
            ],
            [
             0.6666666666666666,
             "#ed7953"
            ],
            [
             0.7777777777777778,
             "#fb9f3a"
            ],
            [
             0.8888888888888888,
             "#fdca26"
            ],
            [
             1,
             "#f0f921"
            ]
           ],
           "sequentialminus": [
            [
             0,
             "#0d0887"
            ],
            [
             0.1111111111111111,
             "#46039f"
            ],
            [
             0.2222222222222222,
             "#7201a8"
            ],
            [
             0.3333333333333333,
             "#9c179e"
            ],
            [
             0.4444444444444444,
             "#bd3786"
            ],
            [
             0.5555555555555556,
             "#d8576b"
            ],
            [
             0.6666666666666666,
             "#ed7953"
            ],
            [
             0.7777777777777778,
             "#fb9f3a"
            ],
            [
             0.8888888888888888,
             "#fdca26"
            ],
            [
             1,
             "#f0f921"
            ]
           ]
          },
          "colorway": [
           "#636efa",
           "#EF553B",
           "#00cc96",
           "#ab63fa",
           "#FFA15A",
           "#19d3f3",
           "#FF6692",
           "#B6E880",
           "#FF97FF",
           "#FECB52"
          ],
          "font": {
           "color": "#2a3f5f"
          },
          "geo": {
           "bgcolor": "white",
           "lakecolor": "white",
           "landcolor": "#E5ECF6",
           "showlakes": true,
           "showland": true,
           "subunitcolor": "white"
          },
          "hoverlabel": {
           "align": "left"
          },
          "hovermode": "closest",
          "mapbox": {
           "style": "light"
          },
          "paper_bgcolor": "white",
          "plot_bgcolor": "#E5ECF6",
          "polar": {
           "angularaxis": {
            "gridcolor": "white",
            "linecolor": "white",
            "ticks": ""
           },
           "bgcolor": "#E5ECF6",
           "radialaxis": {
            "gridcolor": "white",
            "linecolor": "white",
            "ticks": ""
           }
          },
          "scene": {
           "xaxis": {
            "backgroundcolor": "#E5ECF6",
            "gridcolor": "white",
            "gridwidth": 2,
            "linecolor": "white",
            "showbackground": true,
            "ticks": "",
            "zerolinecolor": "white"
           },
           "yaxis": {
            "backgroundcolor": "#E5ECF6",
            "gridcolor": "white",
            "gridwidth": 2,
            "linecolor": "white",
            "showbackground": true,
            "ticks": "",
            "zerolinecolor": "white"
           },
           "zaxis": {
            "backgroundcolor": "#E5ECF6",
            "gridcolor": "white",
            "gridwidth": 2,
            "linecolor": "white",
            "showbackground": true,
            "ticks": "",
            "zerolinecolor": "white"
           }
          },
          "shapedefaults": {
           "line": {
            "color": "#2a3f5f"
           }
          },
          "ternary": {
           "aaxis": {
            "gridcolor": "white",
            "linecolor": "white",
            "ticks": ""
           },
           "baxis": {
            "gridcolor": "white",
            "linecolor": "white",
            "ticks": ""
           },
           "bgcolor": "#E5ECF6",
           "caxis": {
            "gridcolor": "white",
            "linecolor": "white",
            "ticks": ""
           }
          },
          "title": {
           "x": 0.05
          },
          "xaxis": {
           "automargin": true,
           "gridcolor": "white",
           "linecolor": "white",
           "ticks": "",
           "title": {
            "standoff": 15
           },
           "zerolinecolor": "white",
           "zerolinewidth": 2
          },
          "yaxis": {
           "automargin": true,
           "gridcolor": "white",
           "linecolor": "white",
           "ticks": "",
           "title": {
            "standoff": 15
           },
           "zerolinecolor": "white",
           "zerolinewidth": 2
          }
         }
        },
        "xaxis": {
         "anchor": "y",
         "domain": [
          0,
          1
         ],
         "title": {
          "text": "lunch"
         }
        },
        "yaxis": {
         "anchor": "x",
         "domain": [
          0,
          1
         ],
         "title": {
          "text": "reading score"
         }
        }
       }
      },
      "text/html": [
       "<div>                            <div id=\"94855636-f1fc-45ac-89ab-71d273ea79a6\" class=\"plotly-graph-div\" style=\"height:525px; width:100%;\"></div>            <script type=\"text/javascript\">                require([\"plotly\"], function(Plotly) {                    window.PLOTLYENV=window.PLOTLYENV || {};                                    if (document.getElementById(\"94855636-f1fc-45ac-89ab-71d273ea79a6\")) {                    Plotly.newPlot(                        \"94855636-f1fc-45ac-89ab-71d273ea79a6\",                        [{\"alignmentgroup\":\"True\",\"hovertemplate\":\"gender=female<br>lunch=%{x}<br>reading score=%{y}<extra></extra>\",\"legendgroup\":\"female\",\"marker\":{\"color\":\"#636efa\"},\"name\":\"female\",\"notched\":false,\"offsetgroup\":\"female\",\"orientation\":\"v\",\"showlegend\":true,\"x\":[\"standard\",\"standard\",\"standard\",\"standard\",\"standard\",\"free/reduced\",\"standard\",\"standard\",\"standard\",\"free/reduced\",\"free/reduced\",\"free/reduced\",\"standard\",\"standard\",\"standard\",\"standard\",\"standard\",\"free/reduced\",\"standard\",\"free/reduced\",\"free/reduced\",\"standard\",\"standard\",\"free/reduced\",\"standard\",\"standard\",\"free/reduced\",\"free/reduced\",\"free/reduced\",\"standard\",\"free/reduced\",\"standard\",\"standard\",\"standard\",\"standard\",\"free/reduced\",\"free/reduced\",\"standard\",\"standard\",\"standard\",\"standard\",\"free/reduced\",\"standard\",\"standard\",\"standard\",\"standard\",\"standard\",\"standard\",\"free/reduced\",\"standard\",\"standard\",\"standard\",\"standard\",\"free/reduced\",\"standard\",\"free/reduced\",\"standard\",\"standard\",\"free/reduced\",\"standard\",\"standard\",\"standard\",\"standard\",\"standard\",\"standard\",\"standard\",\"standard\",\"standard\",\"standard\",\"free/reduced\",\"free/reduced\",\"free/reduced\",\"standard\",\"standard\",\"standard\",\"free/reduced\",\"standard\",\"free/reduced\",\"standard\",\"standard\",\"free/reduced\",\"standard\",\"free/reduced\",\"standard\",\"standard\",\"free/reduced\",\"standard\",\"free/reduced\",\"standard\",\"free/reduced\",\"standard\",\"free/reduced\",\"standard\",\"standard\",\"standard\",\"standard\",\"standard\",\"standard\",\"free/reduced\",\"free/reduced\",\"standard\",\"free/reduced\",\"standard\",\"free/reduced\",\"free/reduced\",\"free/reduced\",\"free/reduced\",\"free/reduced\",\"standard\",\"free/reduced\",\"standard\",\"free/reduced\",\"standard\",\"standard\",\"standard\",\"standard\",\"standard\",\"standard\",\"standard\",\"standard\",\"free/reduced\",\"standard\",\"standard\",\"free/reduced\",\"standard\",\"free/reduced\",\"free/reduced\",\"free/reduced\",\"standard\",\"standard\",\"standard\",\"standard\",\"free/reduced\",\"free/reduced\",\"standard\",\"standard\",\"standard\",\"free/reduced\",\"free/reduced\",\"free/reduced\",\"standard\",\"standard\",\"standard\",\"standard\",\"standard\",\"free/reduced\",\"free/reduced\",\"standard\",\"free/reduced\",\"standard\",\"standard\",\"free/reduced\",\"free/reduced\",\"standard\",\"standard\",\"free/reduced\",\"free/reduced\",\"standard\",\"standard\",\"standard\",\"free/reduced\",\"free/reduced\",\"free/reduced\",\"standard\",\"standard\",\"standard\",\"standard\",\"standard\",\"standard\",\"standard\",\"standard\",\"standard\",\"free/reduced\",\"standard\",\"standard\",\"standard\",\"free/reduced\",\"free/reduced\",\"standard\",\"free/reduced\",\"standard\",\"standard\",\"standard\",\"free/reduced\",\"standard\",\"standard\",\"free/reduced\",\"free/reduced\",\"standard\",\"standard\",\"free/reduced\",\"standard\",\"standard\",\"standard\",\"free/reduced\",\"standard\",\"standard\",\"free/reduced\",\"standard\",\"standard\",\"standard\",\"standard\",\"free/reduced\",\"standard\",\"free/reduced\",\"free/reduced\",\"standard\",\"free/reduced\",\"standard\",\"free/reduced\",\"standard\",\"free/reduced\",\"standard\",\"standard\",\"free/reduced\",\"standard\",\"standard\",\"free/reduced\",\"standard\",\"free/reduced\",\"free/reduced\",\"standard\",\"standard\",\"standard\",\"free/reduced\",\"standard\",\"free/reduced\",\"free/reduced\",\"standard\",\"standard\",\"standard\",\"standard\",\"standard\",\"standard\",\"standard\",\"free/reduced\",\"standard\",\"free/reduced\",\"free/reduced\",\"standard\",\"standard\",\"standard\",\"standard\",\"standard\",\"free/reduced\",\"standard\",\"standard\",\"standard\",\"standard\",\"free/reduced\",\"standard\",\"standard\",\"standard\",\"free/reduced\",\"standard\",\"standard\",\"standard\",\"standard\",\"free/reduced\",\"standard\",\"free/reduced\",\"free/reduced\",\"standard\",\"standard\",\"standard\",\"standard\",\"free/reduced\",\"standard\",\"standard\",\"standard\",\"standard\",\"standard\",\"free/reduced\",\"standard\",\"free/reduced\",\"standard\",\"free/reduced\",\"standard\",\"standard\",\"free/reduced\",\"free/reduced\",\"free/reduced\",\"standard\",\"free/reduced\",\"standard\",\"standard\",\"free/reduced\",\"standard\",\"standard\",\"standard\",\"free/reduced\",\"standard\",\"standard\",\"standard\",\"standard\",\"free/reduced\",\"standard\",\"standard\",\"standard\",\"standard\",\"standard\",\"standard\",\"standard\",\"standard\",\"standard\",\"standard\",\"standard\",\"free/reduced\",\"standard\",\"standard\",\"standard\",\"standard\",\"standard\",\"standard\",\"standard\",\"free/reduced\",\"free/reduced\",\"standard\",\"standard\",\"standard\",\"free/reduced\",\"standard\",\"standard\",\"free/reduced\",\"free/reduced\",\"standard\",\"standard\",\"standard\",\"free/reduced\",\"standard\",\"standard\",\"standard\",\"standard\",\"standard\",\"standard\",\"standard\",\"free/reduced\",\"free/reduced\",\"standard\",\"free/reduced\",\"free/reduced\",\"free/reduced\",\"free/reduced\",\"standard\",\"standard\",\"standard\",\"standard\",\"standard\",\"standard\",\"standard\",\"free/reduced\",\"standard\",\"standard\",\"free/reduced\",\"free/reduced\",\"standard\",\"standard\",\"free/reduced\",\"standard\",\"standard\",\"standard\",\"standard\",\"standard\",\"standard\",\"free/reduced\",\"free/reduced\",\"standard\",\"standard\",\"standard\",\"free/reduced\",\"standard\",\"standard\",\"free/reduced\",\"free/reduced\",\"standard\",\"free/reduced\",\"free/reduced\",\"standard\",\"free/reduced\",\"free/reduced\",\"free/reduced\",\"standard\",\"standard\",\"free/reduced\",\"standard\",\"standard\",\"free/reduced\",\"free/reduced\",\"standard\",\"standard\",\"standard\",\"standard\",\"standard\",\"free/reduced\",\"free/reduced\",\"free/reduced\",\"standard\",\"free/reduced\",\"standard\",\"free/reduced\",\"standard\",\"free/reduced\",\"standard\",\"standard\",\"free/reduced\",\"standard\",\"free/reduced\",\"standard\",\"free/reduced\",\"standard\",\"free/reduced\",\"free/reduced\",\"standard\",\"standard\",\"standard\",\"standard\",\"free/reduced\",\"free/reduced\",\"standard\",\"standard\",\"standard\",\"free/reduced\",\"standard\",\"standard\",\"free/reduced\",\"free/reduced\",\"free/reduced\",\"free/reduced\",\"standard\",\"free/reduced\",\"free/reduced\",\"free/reduced\",\"standard\",\"standard\",\"standard\",\"standard\",\"free/reduced\",\"free/reduced\",\"free/reduced\",\"standard\",\"standard\",\"standard\",\"standard\",\"standard\",\"standard\",\"free/reduced\",\"standard\",\"standard\",\"free/reduced\",\"standard\",\"standard\",\"standard\",\"free/reduced\",\"standard\",\"standard\",\"standard\",\"free/reduced\",\"standard\",\"standard\",\"free/reduced\",\"standard\",\"free/reduced\",\"free/reduced\",\"standard\",\"standard\",\"free/reduced\",\"free/reduced\",\"free/reduced\",\"standard\",\"free/reduced\",\"standard\",\"standard\",\"free/reduced\",\"free/reduced\",\"standard\",\"standard\",\"standard\",\"free/reduced\",\"free/reduced\",\"free/reduced\",\"free/reduced\",\"free/reduced\",\"standard\",\"standard\",\"standard\",\"free/reduced\",\"free/reduced\",\"standard\",\"free/reduced\",\"standard\",\"standard\",\"standard\",\"standard\",\"free/reduced\",\"standard\",\"free/reduced\",\"standard\",\"standard\",\"standard\",\"standard\",\"free/reduced\",\"free/reduced\",\"standard\",\"standard\",\"standard\",\"free/reduced\",\"standard\",\"standard\",\"standard\",\"free/reduced\",\"free/reduced\",\"standard\",\"free/reduced\",\"free/reduced\",\"standard\",\"free/reduced\",\"standard\",\"free/reduced\"],\"x0\":\" \",\"xaxis\":\"x\",\"y\":[72,90,95,83,95,60,81,53,75,32,58,75,73,69,70,74,65,72,81,64,90,73,58,56,65,71,74,84,41,85,17,80,58,72,64,63,51,74,68,49,80,83,71,70,86,72,86,72,67,67,91,67,100,76,64,89,58,100,85,82,63,69,92,93,95,49,81,66,72,62,55,39,75,70,89,74,86,88,92,100,76,83,75,86,67,51,91,54,77,70,100,64,50,69,88,65,64,84,53,79,84,81,69,81,61,62,86,42,68,65,66,56,72,95,86,60,83,52,70,64,83,70,73,73,75,81,79,50,93,75,72,92,76,53,70,92,63,86,79,78,46,89,73,84,75,71,57,76,67,64,82,65,79,86,81,53,46,90,55,93,68,38,55,73,76,80,94,65,78,58,71,72,66,90,62,58,34,64,84,73,97,70,90,95,83,86,49,43,76,73,78,64,68,74,67,89,54,65,99,59,73,80,57,71,72,93,58,58,85,67,72,59,81,81,73,83,74,85,92,77,61,89,100,70,90,87,31,88,85,69,86,67,90,76,64,59,52,75,85,64,83,88,64,48,78,69,79,87,89,59,82,92,61,97,87,89,74,78,78,86,53,41,74,67,54,88,83,66,77,95,63,100,67,48,39,72,70,75,74,80,100,71,62,66,81,91,56,61,97,79,73,75,77,76,73,63,64,66,76,100,79,77,82,60,29,78,84,58,64,63,59,77,93,68,45,61,58,51,74,88,80,92,74,88,81,79,81,70,62,53,79,80,86,70,79,67,60,71,69,60,73,85,76,78,84,77,64,78,82,72,40,99,53,76,74,77,63,89,82,72,78,81,67,64,63,61,85,100,70,94,96,76,72,90,75,92,77,89,58,66,57,84,73,60,90,95,59,72,58,62,72,75,71,67,78,58,72,44,79,56,90,85,59,51,79,38,65,62,66,52,68,84,55,94,85,76,74,45,64,80,59,72,91,90,90,87,58,68,69,86,60,86,82,64,82,77,52,44,65,72,68,85,97,79,62,86,71,72,62,72,76,70,73,51,76,100,65,85,92,67,62,34,78,78,78,48,100,84,84,75,84,61,62,61,70,61,77,53,65,61,56,58,91,68,61,58,75,77,74,69,100,63,58,54,100,76,70,76,84,100,50,65,63,82,95,24,87,75,59,45,86,82,76,72,99,71,78,86],\"y0\":\" \",\"yaxis\":\"y\",\"type\":\"box\"},{\"alignmentgroup\":\"True\",\"hovertemplate\":\"gender=male<br>lunch=%{x}<br>reading score=%{y}<extra></extra>\",\"legendgroup\":\"male\",\"marker\":{\"color\":\"#EF553B\"},\"name\":\"male\",\"notched\":false,\"offsetgroup\":\"male\",\"orientation\":\"v\",\"showlegend\":true,\"x\":[\"free/reduced\",\"standard\",\"free/reduced\",\"free/reduced\",\"standard\",\"standard\",\"standard\",\"standard\",\"free/reduced\",\"standard\",\"standard\",\"free/reduced\",\"free/reduced\",\"standard\",\"standard\",\"standard\",\"standard\",\"standard\",\"free/reduced\",\"free/reduced\",\"free/reduced\",\"standard\",\"standard\",\"standard\",\"free/reduced\",\"standard\",\"standard\",\"standard\",\"standard\",\"free/reduced\",\"free/reduced\",\"free/reduced\",\"standard\",\"free/reduced\",\"free/reduced\",\"standard\",\"free/reduced\",\"standard\",\"free/reduced\",\"standard\",\"standard\",\"free/reduced\",\"free/reduced\",\"standard\",\"free/reduced\",\"free/reduced\",\"standard\",\"free/reduced\",\"free/reduced\",\"standard\",\"standard\",\"standard\",\"standard\",\"standard\",\"standard\",\"standard\",\"standard\",\"standard\",\"standard\",\"free/reduced\",\"standard\",\"standard\",\"standard\",\"standard\",\"standard\",\"free/reduced\",\"free/reduced\",\"free/reduced\",\"standard\",\"standard\",\"standard\",\"standard\",\"standard\",\"standard\",\"standard\",\"free/reduced\",\"free/reduced\",\"standard\",\"standard\",\"standard\",\"standard\",\"free/reduced\",\"free/reduced\",\"free/reduced\",\"free/reduced\",\"standard\",\"free/reduced\",\"standard\",\"standard\",\"free/reduced\",\"free/reduced\",\"free/reduced\",\"standard\",\"standard\",\"free/reduced\",\"standard\",\"standard\",\"standard\",\"free/reduced\",\"free/reduced\",\"standard\",\"standard\",\"standard\",\"standard\",\"standard\",\"free/reduced\",\"free/reduced\",\"free/reduced\",\"standard\",\"standard\",\"free/reduced\",\"standard\",\"standard\",\"standard\",\"standard\",\"free/reduced\",\"standard\",\"standard\",\"standard\",\"standard\",\"standard\",\"free/reduced\",\"standard\",\"standard\",\"free/reduced\",\"standard\",\"standard\",\"standard\",\"standard\",\"standard\",\"standard\",\"standard\",\"standard\",\"standard\",\"standard\",\"standard\",\"free/reduced\",\"standard\",\"standard\",\"standard\",\"standard\",\"free/reduced\",\"standard\",\"standard\",\"standard\",\"standard\",\"free/reduced\",\"standard\",\"standard\",\"standard\",\"standard\",\"free/reduced\",\"free/reduced\",\"standard\",\"standard\",\"free/reduced\",\"free/reduced\",\"free/reduced\",\"free/reduced\",\"standard\",\"standard\",\"standard\",\"standard\",\"standard\",\"standard\",\"standard\",\"standard\",\"standard\",\"standard\",\"free/reduced\",\"standard\",\"standard\",\"standard\",\"standard\",\"standard\",\"standard\",\"standard\",\"free/reduced\",\"standard\",\"standard\",\"standard\",\"free/reduced\",\"standard\",\"standard\",\"standard\",\"free/reduced\",\"standard\",\"standard\",\"free/reduced\",\"standard\",\"free/reduced\",\"standard\",\"standard\",\"free/reduced\",\"standard\",\"standard\",\"free/reduced\",\"standard\",\"free/reduced\",\"standard\",\"standard\",\"free/reduced\",\"standard\",\"standard\",\"standard\",\"standard\",\"standard\",\"standard\",\"standard\",\"standard\",\"standard\",\"standard\",\"standard\",\"standard\",\"free/reduced\",\"free/reduced\",\"standard\",\"free/reduced\",\"free/reduced\",\"free/reduced\",\"free/reduced\",\"standard\",\"standard\",\"free/reduced\",\"standard\",\"free/reduced\",\"standard\",\"standard\",\"free/reduced\",\"free/reduced\",\"standard\",\"standard\",\"standard\",\"free/reduced\",\"free/reduced\",\"free/reduced\",\"standard\",\"free/reduced\",\"free/reduced\",\"standard\",\"free/reduced\",\"standard\",\"standard\",\"standard\",\"standard\",\"standard\",\"free/reduced\",\"standard\",\"standard\",\"free/reduced\",\"standard\",\"free/reduced\",\"standard\",\"standard\",\"free/reduced\",\"standard\",\"free/reduced\",\"standard\",\"standard\",\"standard\",\"free/reduced\",\"standard\",\"standard\",\"free/reduced\",\"standard\",\"standard\",\"free/reduced\",\"standard\",\"standard\",\"standard\",\"standard\",\"standard\",\"standard\",\"free/reduced\",\"free/reduced\",\"standard\",\"standard\",\"free/reduced\",\"free/reduced\",\"free/reduced\",\"standard\",\"free/reduced\",\"standard\",\"standard\",\"free/reduced\",\"standard\",\"free/reduced\",\"free/reduced\",\"standard\",\"standard\",\"free/reduced\",\"standard\",\"free/reduced\",\"standard\",\"standard\",\"free/reduced\",\"standard\",\"free/reduced\",\"free/reduced\",\"standard\",\"free/reduced\",\"standard\",\"standard\",\"standard\",\"free/reduced\",\"free/reduced\",\"free/reduced\",\"standard\",\"standard\",\"free/reduced\",\"standard\",\"free/reduced\",\"standard\",\"standard\",\"standard\",\"standard\",\"standard\",\"standard\",\"standard\",\"free/reduced\",\"free/reduced\",\"standard\",\"standard\",\"free/reduced\",\"standard\",\"standard\",\"standard\",\"standard\",\"free/reduced\",\"free/reduced\",\"free/reduced\",\"standard\",\"standard\",\"standard\",\"standard\",\"free/reduced\",\"free/reduced\",\"free/reduced\",\"free/reduced\",\"standard\",\"free/reduced\",\"standard\",\"standard\",\"standard\",\"standard\",\"standard\",\"standard\",\"free/reduced\",\"free/reduced\",\"standard\",\"standard\",\"standard\",\"standard\",\"standard\",\"free/reduced\",\"standard\",\"standard\",\"standard\",\"standard\",\"free/reduced\",\"standard\",\"free/reduced\",\"standard\",\"standard\",\"standard\",\"standard\",\"standard\",\"standard\",\"free/reduced\",\"free/reduced\",\"standard\",\"free/reduced\",\"standard\",\"standard\",\"standard\",\"standard\",\"free/reduced\",\"standard\",\"standard\",\"standard\",\"standard\",\"standard\",\"free/reduced\",\"free/reduced\",\"standard\",\"standard\",\"standard\",\"standard\",\"standard\",\"free/reduced\",\"standard\",\"standard\",\"standard\",\"free/reduced\",\"standard\",\"standard\",\"free/reduced\",\"free/reduced\",\"standard\",\"standard\",\"standard\",\"standard\",\"standard\",\"free/reduced\",\"standard\",\"free/reduced\",\"standard\",\"standard\",\"standard\",\"standard\",\"standard\",\"standard\",\"standard\",\"free/reduced\",\"standard\",\"free/reduced\",\"free/reduced\",\"standard\",\"standard\",\"free/reduced\",\"standard\",\"free/reduced\",\"free/reduced\",\"standard\",\"standard\",\"free/reduced\",\"free/reduced\",\"standard\",\"standard\",\"standard\",\"free/reduced\",\"free/reduced\",\"free/reduced\",\"standard\",\"free/reduced\",\"standard\",\"standard\",\"standard\",\"standard\",\"standard\",\"free/reduced\",\"standard\",\"standard\",\"free/reduced\",\"standard\",\"free/reduced\",\"standard\",\"free/reduced\",\"free/reduced\",\"free/reduced\",\"free/reduced\",\"free/reduced\",\"free/reduced\",\"standard\",\"free/reduced\",\"standard\",\"standard\",\"standard\",\"free/reduced\",\"standard\",\"free/reduced\",\"standard\",\"free/reduced\",\"standard\",\"standard\",\"standard\",\"standard\",\"standard\",\"standard\",\"standard\",\"standard\",\"standard\",\"free/reduced\",\"standard\",\"standard\",\"standard\",\"standard\",\"standard\",\"standard\",\"free/reduced\",\"standard\",\"free/reduced\"],\"x0\":\" \",\"xaxis\":\"x\",\"y\":[57,78,43,64,54,52,72,89,42,69,54,71,74,54,70,42,87,81,56,61,65,54,84,55,69,44,78,55,59,74,39,61,64,37,58,55,57,49,41,26,78,45,47,64,39,34,79,45,81,66,67,74,44,86,63,55,53,77,89,57,80,68,77,82,84,37,74,79,55,54,55,61,43,73,84,68,100,67,67,49,67,60,62,78,53,53,51,73,88,68,52,67,76,66,52,83,62,55,69,56,77,41,71,62,80,79,28,51,91,83,77,56,85,80,50,72,64,43,87,82,75,66,52,80,68,51,74,76,76,60,49,80,52,77,79,73,42,63,49,85,78,56,52,48,82,82,75,76,70,73,60,77,62,41,74,46,87,78,54,76,67,87,52,60,61,66,72,71,61,23,75,60,37,56,78,70,51,61,72,73,61,74,74,57,61,62,84,60,58,58,66,77,74,43,64,100,81,70,67,67,54,45,63,59,43,65,84,83,66,67,73,74,73,59,56,39,83,71,59,63,66,56,66,48,68,66,56,88,82,66,81,46,73,58,56,54,65,58,54,58,67,74,62,68,71,71,68,52,74,47,53,82,64,71,61,70,59,78,71,50,49,49,58,59,52,60,61,61,69,60,66,92,69,82,83,67,72,76,90,62,45,67,66,90,51,43,48,68,75,96,55,51,57,62,68,24,54,57,89,72,60,90,78,81,73,63,51,96,97,70,48,57,64,60,84,74,76,52,65,56,67,66,87,77,66,63,74,72,57,75,61,68,55,66,75,78,58,90,66,84,72,34,59,87,84,81,78,73,59,48,43,74,51,39,46,47,57,79,71,60,73,55,79,75,64,84,69,72,77,55,58,68,77,81,63,62,60,48,73,65,85,81,65,74,84,70,60,73,80,81,75,54,31,47,84,86,70,52,67,54,60,50,64,57,58,77,85,85,54,75,67,67,64,68,49,73,42,93,82,53,42,74,51,58,84,90,64,82,61,64,46,72,51,74,29,54,84,77,48,64,42,100,96,70,66,70,64,56,43,74,57,71,75,87,63,57,81,68,66,66,62,82,50,73,52,57,87,81,57,68,63,72,62,65,41,78,85,51,75,81,63,55],\"y0\":\" \",\"yaxis\":\"y\",\"type\":\"box\"}],                        {\"template\":{\"data\":{\"bar\":[{\"error_x\":{\"color\":\"#2a3f5f\"},\"error_y\":{\"color\":\"#2a3f5f\"},\"marker\":{\"line\":{\"color\":\"#E5ECF6\",\"width\":0.5},\"pattern\":{\"fillmode\":\"overlay\",\"size\":10,\"solidity\":0.2}},\"type\":\"bar\"}],\"barpolar\":[{\"marker\":{\"line\":{\"color\":\"#E5ECF6\",\"width\":0.5},\"pattern\":{\"fillmode\":\"overlay\",\"size\":10,\"solidity\":0.2}},\"type\":\"barpolar\"}],\"carpet\":[{\"aaxis\":{\"endlinecolor\":\"#2a3f5f\",\"gridcolor\":\"white\",\"linecolor\":\"white\",\"minorgridcolor\":\"white\",\"startlinecolor\":\"#2a3f5f\"},\"baxis\":{\"endlinecolor\":\"#2a3f5f\",\"gridcolor\":\"white\",\"linecolor\":\"white\",\"minorgridcolor\":\"white\",\"startlinecolor\":\"#2a3f5f\"},\"type\":\"carpet\"}],\"choropleth\":[{\"colorbar\":{\"outlinewidth\":0,\"ticks\":\"\"},\"type\":\"choropleth\"}],\"contour\":[{\"colorbar\":{\"outlinewidth\":0,\"ticks\":\"\"},\"colorscale\":[[0.0,\"#0d0887\"],[0.1111111111111111,\"#46039f\"],[0.2222222222222222,\"#7201a8\"],[0.3333333333333333,\"#9c179e\"],[0.4444444444444444,\"#bd3786\"],[0.5555555555555556,\"#d8576b\"],[0.6666666666666666,\"#ed7953\"],[0.7777777777777778,\"#fb9f3a\"],[0.8888888888888888,\"#fdca26\"],[1.0,\"#f0f921\"]],\"type\":\"contour\"}],\"contourcarpet\":[{\"colorbar\":{\"outlinewidth\":0,\"ticks\":\"\"},\"type\":\"contourcarpet\"}],\"heatmap\":[{\"colorbar\":{\"outlinewidth\":0,\"ticks\":\"\"},\"colorscale\":[[0.0,\"#0d0887\"],[0.1111111111111111,\"#46039f\"],[0.2222222222222222,\"#7201a8\"],[0.3333333333333333,\"#9c179e\"],[0.4444444444444444,\"#bd3786\"],[0.5555555555555556,\"#d8576b\"],[0.6666666666666666,\"#ed7953\"],[0.7777777777777778,\"#fb9f3a\"],[0.8888888888888888,\"#fdca26\"],[1.0,\"#f0f921\"]],\"type\":\"heatmap\"}],\"heatmapgl\":[{\"colorbar\":{\"outlinewidth\":0,\"ticks\":\"\"},\"colorscale\":[[0.0,\"#0d0887\"],[0.1111111111111111,\"#46039f\"],[0.2222222222222222,\"#7201a8\"],[0.3333333333333333,\"#9c179e\"],[0.4444444444444444,\"#bd3786\"],[0.5555555555555556,\"#d8576b\"],[0.6666666666666666,\"#ed7953\"],[0.7777777777777778,\"#fb9f3a\"],[0.8888888888888888,\"#fdca26\"],[1.0,\"#f0f921\"]],\"type\":\"heatmapgl\"}],\"histogram\":[{\"marker\":{\"pattern\":{\"fillmode\":\"overlay\",\"size\":10,\"solidity\":0.2}},\"type\":\"histogram\"}],\"histogram2d\":[{\"colorbar\":{\"outlinewidth\":0,\"ticks\":\"\"},\"colorscale\":[[0.0,\"#0d0887\"],[0.1111111111111111,\"#46039f\"],[0.2222222222222222,\"#7201a8\"],[0.3333333333333333,\"#9c179e\"],[0.4444444444444444,\"#bd3786\"],[0.5555555555555556,\"#d8576b\"],[0.6666666666666666,\"#ed7953\"],[0.7777777777777778,\"#fb9f3a\"],[0.8888888888888888,\"#fdca26\"],[1.0,\"#f0f921\"]],\"type\":\"histogram2d\"}],\"histogram2dcontour\":[{\"colorbar\":{\"outlinewidth\":0,\"ticks\":\"\"},\"colorscale\":[[0.0,\"#0d0887\"],[0.1111111111111111,\"#46039f\"],[0.2222222222222222,\"#7201a8\"],[0.3333333333333333,\"#9c179e\"],[0.4444444444444444,\"#bd3786\"],[0.5555555555555556,\"#d8576b\"],[0.6666666666666666,\"#ed7953\"],[0.7777777777777778,\"#fb9f3a\"],[0.8888888888888888,\"#fdca26\"],[1.0,\"#f0f921\"]],\"type\":\"histogram2dcontour\"}],\"mesh3d\":[{\"colorbar\":{\"outlinewidth\":0,\"ticks\":\"\"},\"type\":\"mesh3d\"}],\"parcoords\":[{\"line\":{\"colorbar\":{\"outlinewidth\":0,\"ticks\":\"\"}},\"type\":\"parcoords\"}],\"pie\":[{\"automargin\":true,\"type\":\"pie\"}],\"scatter\":[{\"marker\":{\"colorbar\":{\"outlinewidth\":0,\"ticks\":\"\"}},\"type\":\"scatter\"}],\"scatter3d\":[{\"line\":{\"colorbar\":{\"outlinewidth\":0,\"ticks\":\"\"}},\"marker\":{\"colorbar\":{\"outlinewidth\":0,\"ticks\":\"\"}},\"type\":\"scatter3d\"}],\"scattercarpet\":[{\"marker\":{\"colorbar\":{\"outlinewidth\":0,\"ticks\":\"\"}},\"type\":\"scattercarpet\"}],\"scattergeo\":[{\"marker\":{\"colorbar\":{\"outlinewidth\":0,\"ticks\":\"\"}},\"type\":\"scattergeo\"}],\"scattergl\":[{\"marker\":{\"colorbar\":{\"outlinewidth\":0,\"ticks\":\"\"}},\"type\":\"scattergl\"}],\"scattermapbox\":[{\"marker\":{\"colorbar\":{\"outlinewidth\":0,\"ticks\":\"\"}},\"type\":\"scattermapbox\"}],\"scatterpolar\":[{\"marker\":{\"colorbar\":{\"outlinewidth\":0,\"ticks\":\"\"}},\"type\":\"scatterpolar\"}],\"scatterpolargl\":[{\"marker\":{\"colorbar\":{\"outlinewidth\":0,\"ticks\":\"\"}},\"type\":\"scatterpolargl\"}],\"scatterternary\":[{\"marker\":{\"colorbar\":{\"outlinewidth\":0,\"ticks\":\"\"}},\"type\":\"scatterternary\"}],\"surface\":[{\"colorbar\":{\"outlinewidth\":0,\"ticks\":\"\"},\"colorscale\":[[0.0,\"#0d0887\"],[0.1111111111111111,\"#46039f\"],[0.2222222222222222,\"#7201a8\"],[0.3333333333333333,\"#9c179e\"],[0.4444444444444444,\"#bd3786\"],[0.5555555555555556,\"#d8576b\"],[0.6666666666666666,\"#ed7953\"],[0.7777777777777778,\"#fb9f3a\"],[0.8888888888888888,\"#fdca26\"],[1.0,\"#f0f921\"]],\"type\":\"surface\"}],\"table\":[{\"cells\":{\"fill\":{\"color\":\"#EBF0F8\"},\"line\":{\"color\":\"white\"}},\"header\":{\"fill\":{\"color\":\"#C8D4E3\"},\"line\":{\"color\":\"white\"}},\"type\":\"table\"}]},\"layout\":{\"annotationdefaults\":{\"arrowcolor\":\"#2a3f5f\",\"arrowhead\":0,\"arrowwidth\":1},\"autotypenumbers\":\"strict\",\"coloraxis\":{\"colorbar\":{\"outlinewidth\":0,\"ticks\":\"\"}},\"colorscale\":{\"diverging\":[[0,\"#8e0152\"],[0.1,\"#c51b7d\"],[0.2,\"#de77ae\"],[0.3,\"#f1b6da\"],[0.4,\"#fde0ef\"],[0.5,\"#f7f7f7\"],[0.6,\"#e6f5d0\"],[0.7,\"#b8e186\"],[0.8,\"#7fbc41\"],[0.9,\"#4d9221\"],[1,\"#276419\"]],\"sequential\":[[0.0,\"#0d0887\"],[0.1111111111111111,\"#46039f\"],[0.2222222222222222,\"#7201a8\"],[0.3333333333333333,\"#9c179e\"],[0.4444444444444444,\"#bd3786\"],[0.5555555555555556,\"#d8576b\"],[0.6666666666666666,\"#ed7953\"],[0.7777777777777778,\"#fb9f3a\"],[0.8888888888888888,\"#fdca26\"],[1.0,\"#f0f921\"]],\"sequentialminus\":[[0.0,\"#0d0887\"],[0.1111111111111111,\"#46039f\"],[0.2222222222222222,\"#7201a8\"],[0.3333333333333333,\"#9c179e\"],[0.4444444444444444,\"#bd3786\"],[0.5555555555555556,\"#d8576b\"],[0.6666666666666666,\"#ed7953\"],[0.7777777777777778,\"#fb9f3a\"],[0.8888888888888888,\"#fdca26\"],[1.0,\"#f0f921\"]]},\"colorway\":[\"#636efa\",\"#EF553B\",\"#00cc96\",\"#ab63fa\",\"#FFA15A\",\"#19d3f3\",\"#FF6692\",\"#B6E880\",\"#FF97FF\",\"#FECB52\"],\"font\":{\"color\":\"#2a3f5f\"},\"geo\":{\"bgcolor\":\"white\",\"lakecolor\":\"white\",\"landcolor\":\"#E5ECF6\",\"showlakes\":true,\"showland\":true,\"subunitcolor\":\"white\"},\"hoverlabel\":{\"align\":\"left\"},\"hovermode\":\"closest\",\"mapbox\":{\"style\":\"light\"},\"paper_bgcolor\":\"white\",\"plot_bgcolor\":\"#E5ECF6\",\"polar\":{\"angularaxis\":{\"gridcolor\":\"white\",\"linecolor\":\"white\",\"ticks\":\"\"},\"bgcolor\":\"#E5ECF6\",\"radialaxis\":{\"gridcolor\":\"white\",\"linecolor\":\"white\",\"ticks\":\"\"}},\"scene\":{\"xaxis\":{\"backgroundcolor\":\"#E5ECF6\",\"gridcolor\":\"white\",\"gridwidth\":2,\"linecolor\":\"white\",\"showbackground\":true,\"ticks\":\"\",\"zerolinecolor\":\"white\"},\"yaxis\":{\"backgroundcolor\":\"#E5ECF6\",\"gridcolor\":\"white\",\"gridwidth\":2,\"linecolor\":\"white\",\"showbackground\":true,\"ticks\":\"\",\"zerolinecolor\":\"white\"},\"zaxis\":{\"backgroundcolor\":\"#E5ECF6\",\"gridcolor\":\"white\",\"gridwidth\":2,\"linecolor\":\"white\",\"showbackground\":true,\"ticks\":\"\",\"zerolinecolor\":\"white\"}},\"shapedefaults\":{\"line\":{\"color\":\"#2a3f5f\"}},\"ternary\":{\"aaxis\":{\"gridcolor\":\"white\",\"linecolor\":\"white\",\"ticks\":\"\"},\"baxis\":{\"gridcolor\":\"white\",\"linecolor\":\"white\",\"ticks\":\"\"},\"bgcolor\":\"#E5ECF6\",\"caxis\":{\"gridcolor\":\"white\",\"linecolor\":\"white\",\"ticks\":\"\"}},\"title\":{\"x\":0.05},\"xaxis\":{\"automargin\":true,\"gridcolor\":\"white\",\"linecolor\":\"white\",\"ticks\":\"\",\"title\":{\"standoff\":15},\"zerolinecolor\":\"white\",\"zerolinewidth\":2},\"yaxis\":{\"automargin\":true,\"gridcolor\":\"white\",\"linecolor\":\"white\",\"ticks\":\"\",\"title\":{\"standoff\":15},\"zerolinecolor\":\"white\",\"zerolinewidth\":2}}},\"xaxis\":{\"anchor\":\"y\",\"domain\":[0.0,1.0],\"title\":{\"text\":\"lunch\"}},\"yaxis\":{\"anchor\":\"x\",\"domain\":[0.0,1.0],\"title\":{\"text\":\"reading score\"}},\"legend\":{\"title\":{\"text\":\"gender\"},\"tracegroupgap\":0},\"margin\":{\"t\":60},\"boxmode\":\"group\"},                        {\"responsive\": true}                    ).then(function(){\n",
       "                            \n",
       "var gd = document.getElementById('94855636-f1fc-45ac-89ab-71d273ea79a6');\n",
       "var x = new MutationObserver(function (mutations, observer) {{\n",
       "        var display = window.getComputedStyle(gd).display;\n",
       "        if (!display || display === 'none') {{\n",
       "            console.log([gd, 'removed!']);\n",
       "            Plotly.purge(gd);\n",
       "            observer.disconnect();\n",
       "        }}\n",
       "}});\n",
       "\n",
       "// Listen for the removal of the full notebook cells\n",
       "var notebookContainer = gd.closest('#notebook-container');\n",
       "if (notebookContainer) {{\n",
       "    x.observe(notebookContainer, {childList: true});\n",
       "}}\n",
       "\n",
       "// Listen for the clearing of the current output cell\n",
       "var outputEl = gd.closest('.output');\n",
       "if (outputEl) {{\n",
       "    x.observe(outputEl, {childList: true});\n",
       "}}\n",
       "\n",
       "                        })                };                });            </script>        </div>"
      ]
     },
     "metadata": {},
     "output_type": "display_data"
    }
   ],
   "source": [
    "# Let's check if Lunch affect student reading score\n",
    "\n",
    "fig = px.box(data, x=\"lunch\", y='reading score', color=\"gender\")\n",
    "fig.show()"
   ]
  },
  {
   "cell_type": "code",
   "execution_count": 30,
   "id": "0162bf45",
   "metadata": {
    "ExecuteTime": {
     "end_time": "2022-07-15T15:47:58.456428Z",
     "start_time": "2022-07-15T15:47:58.394559Z"
    }
   },
   "outputs": [
    {
     "data": {
      "application/vnd.plotly.v1+json": {
       "config": {
        "plotlyServerURL": "https://plot.ly"
       },
       "data": [
        {
         "alignmentgroup": "True",
         "hovertemplate": "gender=female<br>lunch=%{x}<br>writing score=%{y}<extra></extra>",
         "legendgroup": "female",
         "marker": {
          "color": "#636efa"
         },
         "name": "female",
         "notched": false,
         "offsetgroup": "female",
         "orientation": "v",
         "showlegend": true,
         "type": "box",
         "x": [
          "standard",
          "standard",
          "standard",
          "standard",
          "standard",
          "free/reduced",
          "standard",
          "standard",
          "standard",
          "free/reduced",
          "free/reduced",
          "free/reduced",
          "standard",
          "standard",
          "standard",
          "standard",
          "standard",
          "free/reduced",
          "standard",
          "free/reduced",
          "free/reduced",
          "standard",
          "standard",
          "free/reduced",
          "standard",
          "standard",
          "free/reduced",
          "free/reduced",
          "free/reduced",
          "standard",
          "free/reduced",
          "standard",
          "standard",
          "standard",
          "standard",
          "free/reduced",
          "free/reduced",
          "standard",
          "standard",
          "standard",
          "standard",
          "free/reduced",
          "standard",
          "standard",
          "standard",
          "standard",
          "standard",
          "standard",
          "free/reduced",
          "standard",
          "standard",
          "standard",
          "standard",
          "free/reduced",
          "standard",
          "free/reduced",
          "standard",
          "standard",
          "free/reduced",
          "standard",
          "standard",
          "standard",
          "standard",
          "standard",
          "standard",
          "standard",
          "standard",
          "standard",
          "standard",
          "free/reduced",
          "free/reduced",
          "free/reduced",
          "standard",
          "standard",
          "standard",
          "free/reduced",
          "standard",
          "free/reduced",
          "standard",
          "standard",
          "free/reduced",
          "standard",
          "free/reduced",
          "standard",
          "standard",
          "free/reduced",
          "standard",
          "free/reduced",
          "standard",
          "free/reduced",
          "standard",
          "free/reduced",
          "standard",
          "standard",
          "standard",
          "standard",
          "standard",
          "standard",
          "free/reduced",
          "free/reduced",
          "standard",
          "free/reduced",
          "standard",
          "free/reduced",
          "free/reduced",
          "free/reduced",
          "free/reduced",
          "free/reduced",
          "standard",
          "free/reduced",
          "standard",
          "free/reduced",
          "standard",
          "standard",
          "standard",
          "standard",
          "standard",
          "standard",
          "standard",
          "standard",
          "free/reduced",
          "standard",
          "standard",
          "free/reduced",
          "standard",
          "free/reduced",
          "free/reduced",
          "free/reduced",
          "standard",
          "standard",
          "standard",
          "standard",
          "free/reduced",
          "free/reduced",
          "standard",
          "standard",
          "standard",
          "free/reduced",
          "free/reduced",
          "free/reduced",
          "standard",
          "standard",
          "standard",
          "standard",
          "standard",
          "free/reduced",
          "free/reduced",
          "standard",
          "free/reduced",
          "standard",
          "standard",
          "free/reduced",
          "free/reduced",
          "standard",
          "standard",
          "free/reduced",
          "free/reduced",
          "standard",
          "standard",
          "standard",
          "free/reduced",
          "free/reduced",
          "free/reduced",
          "standard",
          "standard",
          "standard",
          "standard",
          "standard",
          "standard",
          "standard",
          "standard",
          "standard",
          "free/reduced",
          "standard",
          "standard",
          "standard",
          "free/reduced",
          "free/reduced",
          "standard",
          "free/reduced",
          "standard",
          "standard",
          "standard",
          "free/reduced",
          "standard",
          "standard",
          "free/reduced",
          "free/reduced",
          "standard",
          "standard",
          "free/reduced",
          "standard",
          "standard",
          "standard",
          "free/reduced",
          "standard",
          "standard",
          "free/reduced",
          "standard",
          "standard",
          "standard",
          "standard",
          "free/reduced",
          "standard",
          "free/reduced",
          "free/reduced",
          "standard",
          "free/reduced",
          "standard",
          "free/reduced",
          "standard",
          "free/reduced",
          "standard",
          "standard",
          "free/reduced",
          "standard",
          "standard",
          "free/reduced",
          "standard",
          "free/reduced",
          "free/reduced",
          "standard",
          "standard",
          "standard",
          "free/reduced",
          "standard",
          "free/reduced",
          "free/reduced",
          "standard",
          "standard",
          "standard",
          "standard",
          "standard",
          "standard",
          "standard",
          "free/reduced",
          "standard",
          "free/reduced",
          "free/reduced",
          "standard",
          "standard",
          "standard",
          "standard",
          "standard",
          "free/reduced",
          "standard",
          "standard",
          "standard",
          "standard",
          "free/reduced",
          "standard",
          "standard",
          "standard",
          "free/reduced",
          "standard",
          "standard",
          "standard",
          "standard",
          "free/reduced",
          "standard",
          "free/reduced",
          "free/reduced",
          "standard",
          "standard",
          "standard",
          "standard",
          "free/reduced",
          "standard",
          "standard",
          "standard",
          "standard",
          "standard",
          "free/reduced",
          "standard",
          "free/reduced",
          "standard",
          "free/reduced",
          "standard",
          "standard",
          "free/reduced",
          "free/reduced",
          "free/reduced",
          "standard",
          "free/reduced",
          "standard",
          "standard",
          "free/reduced",
          "standard",
          "standard",
          "standard",
          "free/reduced",
          "standard",
          "standard",
          "standard",
          "standard",
          "free/reduced",
          "standard",
          "standard",
          "standard",
          "standard",
          "standard",
          "standard",
          "standard",
          "standard",
          "standard",
          "standard",
          "standard",
          "free/reduced",
          "standard",
          "standard",
          "standard",
          "standard",
          "standard",
          "standard",
          "standard",
          "free/reduced",
          "free/reduced",
          "standard",
          "standard",
          "standard",
          "free/reduced",
          "standard",
          "standard",
          "free/reduced",
          "free/reduced",
          "standard",
          "standard",
          "standard",
          "free/reduced",
          "standard",
          "standard",
          "standard",
          "standard",
          "standard",
          "standard",
          "standard",
          "free/reduced",
          "free/reduced",
          "standard",
          "free/reduced",
          "free/reduced",
          "free/reduced",
          "free/reduced",
          "standard",
          "standard",
          "standard",
          "standard",
          "standard",
          "standard",
          "standard",
          "free/reduced",
          "standard",
          "standard",
          "free/reduced",
          "free/reduced",
          "standard",
          "standard",
          "free/reduced",
          "standard",
          "standard",
          "standard",
          "standard",
          "standard",
          "standard",
          "free/reduced",
          "free/reduced",
          "standard",
          "standard",
          "standard",
          "free/reduced",
          "standard",
          "standard",
          "free/reduced",
          "free/reduced",
          "standard",
          "free/reduced",
          "free/reduced",
          "standard",
          "free/reduced",
          "free/reduced",
          "free/reduced",
          "standard",
          "standard",
          "free/reduced",
          "standard",
          "standard",
          "free/reduced",
          "free/reduced",
          "standard",
          "standard",
          "standard",
          "standard",
          "standard",
          "free/reduced",
          "free/reduced",
          "free/reduced",
          "standard",
          "free/reduced",
          "standard",
          "free/reduced",
          "standard",
          "free/reduced",
          "standard",
          "standard",
          "free/reduced",
          "standard",
          "free/reduced",
          "standard",
          "free/reduced",
          "standard",
          "free/reduced",
          "free/reduced",
          "standard",
          "standard",
          "standard",
          "standard",
          "free/reduced",
          "free/reduced",
          "standard",
          "standard",
          "standard",
          "free/reduced",
          "standard",
          "standard",
          "free/reduced",
          "free/reduced",
          "free/reduced",
          "free/reduced",
          "standard",
          "free/reduced",
          "free/reduced",
          "free/reduced",
          "standard",
          "standard",
          "standard",
          "standard",
          "free/reduced",
          "free/reduced",
          "free/reduced",
          "standard",
          "standard",
          "standard",
          "standard",
          "standard",
          "standard",
          "free/reduced",
          "standard",
          "standard",
          "free/reduced",
          "standard",
          "standard",
          "standard",
          "free/reduced",
          "standard",
          "standard",
          "standard",
          "free/reduced",
          "standard",
          "standard",
          "free/reduced",
          "standard",
          "free/reduced",
          "free/reduced",
          "standard",
          "standard",
          "free/reduced",
          "free/reduced",
          "free/reduced",
          "standard",
          "free/reduced",
          "standard",
          "standard",
          "free/reduced",
          "free/reduced",
          "standard",
          "standard",
          "standard",
          "free/reduced",
          "free/reduced",
          "free/reduced",
          "free/reduced",
          "free/reduced",
          "standard",
          "standard",
          "standard",
          "free/reduced",
          "free/reduced",
          "standard",
          "free/reduced",
          "standard",
          "standard",
          "standard",
          "standard",
          "free/reduced",
          "standard",
          "free/reduced",
          "standard",
          "standard",
          "standard",
          "standard",
          "free/reduced",
          "free/reduced",
          "standard",
          "standard",
          "standard",
          "free/reduced",
          "standard",
          "standard",
          "standard",
          "free/reduced",
          "free/reduced",
          "standard",
          "free/reduced",
          "free/reduced",
          "standard",
          "free/reduced",
          "standard",
          "free/reduced"
         ],
         "x0": " ",
         "xaxis": "x",
         "y": [
          74,
          88,
          93,
          78,
          92,
          50,
          73,
          58,
          78,
          28,
          61,
          70,
          73,
          75,
          75,
          74,
          61,
          65,
          83,
          59,
          88,
          68,
          65,
          54,
          62,
          76,
          76,
          87,
          43,
          86,
          10,
          71,
          59,
          74,
          57,
          73,
          48,
          72,
          68,
          50,
          82,
          88,
          74,
          67,
          82,
          74,
          92,
          70,
          62,
          62,
          89,
          72,
          100,
          70,
          72,
          98,
          54,
          100,
          82,
          79,
          61,
          65,
          89,
          93,
          86,
          51,
          84,
          67,
          71,
          64,
          54,
          33,
          81,
          66,
          88,
          78,
          87,
          85,
          91,
          100,
          78,
          78,
          70,
          81,
          70,
          54,
          87,
          58,
          77,
          62,
          100,
          66,
          47,
          70,
          87,
          69,
          66,
          85,
          55,
          76,
          86,
          77,
          68,
          76,
          66,
          60,
          88,
          39,
          74,
          62,
          73,
          54,
          71,
          94,
          83,
          74,
          83,
          55,
          68,
          62,
          83,
          70,
          70,
          68,
          78,
          81,
          77,
          51,
          90,
          81,
          77,
          95,
          70,
          58,
          71,
          93,
          75,
          80,
          84,
          78,
          46,
          82,
          75,
          81,
          83,
          67,
          52,
          80,
          69,
          75,
          91,
          63,
          84,
          79,
          80,
          53,
          43,
          94,
          51,
          95,
          66,
          27,
          60,
          63,
          74,
          75,
          95,
          69,
          80,
          57,
          70,
          70,
          69,
          89,
          59,
          58,
          32,
          58,
          85,
          70,
          96,
          73,
          82,
          100,
          77,
          83,
          45,
          43,
          75,
          70,
          67,
          64,
          77,
          77,
          63,
          95,
          67,
          55,
          100,
          62,
          68,
          77,
          56,
          74,
          79,
          93,
          64,
          67,
          80,
          62,
          70,
          50,
          79,
          80,
          69,
          76,
          77,
          85,
          97,
          74,
          62,
          89,
          100,
          76,
          91,
          91,
          38,
          85,
          90,
          74,
          84,
          61,
          91,
          83,
          70,
          56,
          54,
          74,
          76,
          70,
          90,
          90,
          68,
          52,
          76,
          68,
          82,
          92,
          92,
          54,
          80,
          87,
          62,
          94,
          85,
          84,
          73,
          78,
          79,
          84,
          43,
          47,
          70,
          73,
          53,
          94,
          83,
          62,
          79,
          89,
          66,
          97,
          64,
          50,
          33,
          79,
          70,
          79,
          74,
          80,
          100,
          78,
          56,
          64,
          71,
          89,
          58,
          68,
          96,
          80,
          78,
          80,
          77,
          76,
          73,
          62,
          65,
          65,
          73,
          99,
          72,
          73,
          81,
          63,
          30,
          80,
          82,
          54,
          62,
          65,
          66,
          74,
          93,
          72,
          38,
          54,
          62,
          55,
          81,
          85,
          81,
          88,
          73,
          90,
          79,
          80,
          81,
          65,
          68,
          55,
          81,
          76,
          98,
          74,
          79,
          67,
          58,
          69,
          67,
          60,
          71,
          87,
          68,
          76,
          84,
          78,
          66,
          76,
          76,
          74,
          44,
          100,
          53,
          78,
          81,
          73,
          56,
          86,
          90,
          70,
          79,
          82,
          72,
          67,
          64,
          58,
          85,
          99,
          74,
          87,
          99,
          74,
          70,
          88,
          77,
          84,
          80,
          94,
          57,
          73,
          56,
          82,
          72,
          59,
          85,
          92,
          65,
          64,
          54,
          63,
          72,
          77,
          75,
          72,
          79,
          55,
          70,
          43,
          82,
          57,
          84,
          82,
          62,
          44,
          77,
          32,
          61,
          60,
          70,
          51,
          73,
          81,
          57,
          95,
          87,
          78,
          75,
          40,
          67,
          83,
          64,
          68,
          88,
          92,
          93,
          82,
          52,
          70,
          76,
          81,
          57,
          89,
          89,
          74,
          79,
          73,
          46,
          36,
          64,
          68,
          63,
          93,
          96,
          81,
          53,
          87,
          80,
          76,
          61,
          80,
          74,
          70,
          71,
          54,
          80,
          95,
          74,
          91,
          85,
          73,
          69,
          38,
          79,
          82,
          74,
          41,
          100,
          84,
          91,
          72,
          82,
          66,
          66,
          55,
          66,
          52,
          80,
          46,
          65,
          71,
          51,
          57,
          96,
          61,
          58,
          60,
          73,
          83,
          72,
          69,
          100,
          59,
          64,
          53,
          100,
          75,
          72,
          67,
          80,
          100,
          60,
          61,
          67,
          77,
          94,
          23,
          91,
          82,
          51,
          45,
          83,
          78,
          76,
          74,
          95,
          65,
          77,
          86
         ],
         "y0": " ",
         "yaxis": "y"
        },
        {
         "alignmentgroup": "True",
         "hovertemplate": "gender=male<br>lunch=%{x}<br>writing score=%{y}<extra></extra>",
         "legendgroup": "male",
         "marker": {
          "color": "#EF553B"
         },
         "name": "male",
         "notched": false,
         "offsetgroup": "male",
         "orientation": "v",
         "showlegend": true,
         "type": "box",
         "x": [
          "free/reduced",
          "standard",
          "free/reduced",
          "free/reduced",
          "standard",
          "standard",
          "standard",
          "standard",
          "free/reduced",
          "standard",
          "standard",
          "free/reduced",
          "free/reduced",
          "standard",
          "standard",
          "standard",
          "standard",
          "standard",
          "free/reduced",
          "free/reduced",
          "free/reduced",
          "standard",
          "standard",
          "standard",
          "free/reduced",
          "standard",
          "standard",
          "standard",
          "standard",
          "free/reduced",
          "free/reduced",
          "free/reduced",
          "standard",
          "free/reduced",
          "free/reduced",
          "standard",
          "free/reduced",
          "standard",
          "free/reduced",
          "standard",
          "standard",
          "free/reduced",
          "free/reduced",
          "standard",
          "free/reduced",
          "free/reduced",
          "standard",
          "free/reduced",
          "free/reduced",
          "standard",
          "standard",
          "standard",
          "standard",
          "standard",
          "standard",
          "standard",
          "standard",
          "standard",
          "standard",
          "free/reduced",
          "standard",
          "standard",
          "standard",
          "standard",
          "standard",
          "free/reduced",
          "free/reduced",
          "free/reduced",
          "standard",
          "standard",
          "standard",
          "standard",
          "standard",
          "standard",
          "standard",
          "free/reduced",
          "free/reduced",
          "standard",
          "standard",
          "standard",
          "standard",
          "free/reduced",
          "free/reduced",
          "free/reduced",
          "free/reduced",
          "standard",
          "free/reduced",
          "standard",
          "standard",
          "free/reduced",
          "free/reduced",
          "free/reduced",
          "standard",
          "standard",
          "free/reduced",
          "standard",
          "standard",
          "standard",
          "free/reduced",
          "free/reduced",
          "standard",
          "standard",
          "standard",
          "standard",
          "standard",
          "free/reduced",
          "free/reduced",
          "free/reduced",
          "standard",
          "standard",
          "free/reduced",
          "standard",
          "standard",
          "standard",
          "standard",
          "free/reduced",
          "standard",
          "standard",
          "standard",
          "standard",
          "standard",
          "free/reduced",
          "standard",
          "standard",
          "free/reduced",
          "standard",
          "standard",
          "standard",
          "standard",
          "standard",
          "standard",
          "standard",
          "standard",
          "standard",
          "standard",
          "standard",
          "free/reduced",
          "standard",
          "standard",
          "standard",
          "standard",
          "free/reduced",
          "standard",
          "standard",
          "standard",
          "standard",
          "free/reduced",
          "standard",
          "standard",
          "standard",
          "standard",
          "free/reduced",
          "free/reduced",
          "standard",
          "standard",
          "free/reduced",
          "free/reduced",
          "free/reduced",
          "free/reduced",
          "standard",
          "standard",
          "standard",
          "standard",
          "standard",
          "standard",
          "standard",
          "standard",
          "standard",
          "standard",
          "free/reduced",
          "standard",
          "standard",
          "standard",
          "standard",
          "standard",
          "standard",
          "standard",
          "free/reduced",
          "standard",
          "standard",
          "standard",
          "free/reduced",
          "standard",
          "standard",
          "standard",
          "free/reduced",
          "standard",
          "standard",
          "free/reduced",
          "standard",
          "free/reduced",
          "standard",
          "standard",
          "free/reduced",
          "standard",
          "standard",
          "free/reduced",
          "standard",
          "free/reduced",
          "standard",
          "standard",
          "free/reduced",
          "standard",
          "standard",
          "standard",
          "standard",
          "standard",
          "standard",
          "standard",
          "standard",
          "standard",
          "standard",
          "standard",
          "standard",
          "free/reduced",
          "free/reduced",
          "standard",
          "free/reduced",
          "free/reduced",
          "free/reduced",
          "free/reduced",
          "standard",
          "standard",
          "free/reduced",
          "standard",
          "free/reduced",
          "standard",
          "standard",
          "free/reduced",
          "free/reduced",
          "standard",
          "standard",
          "standard",
          "free/reduced",
          "free/reduced",
          "free/reduced",
          "standard",
          "free/reduced",
          "free/reduced",
          "standard",
          "free/reduced",
          "standard",
          "standard",
          "standard",
          "standard",
          "standard",
          "free/reduced",
          "standard",
          "standard",
          "free/reduced",
          "standard",
          "free/reduced",
          "standard",
          "standard",
          "free/reduced",
          "standard",
          "free/reduced",
          "standard",
          "standard",
          "standard",
          "free/reduced",
          "standard",
          "standard",
          "free/reduced",
          "standard",
          "standard",
          "free/reduced",
          "standard",
          "standard",
          "standard",
          "standard",
          "standard",
          "standard",
          "free/reduced",
          "free/reduced",
          "standard",
          "standard",
          "free/reduced",
          "free/reduced",
          "free/reduced",
          "standard",
          "free/reduced",
          "standard",
          "standard",
          "free/reduced",
          "standard",
          "free/reduced",
          "free/reduced",
          "standard",
          "standard",
          "free/reduced",
          "standard",
          "free/reduced",
          "standard",
          "standard",
          "free/reduced",
          "standard",
          "free/reduced",
          "free/reduced",
          "standard",
          "free/reduced",
          "standard",
          "standard",
          "standard",
          "free/reduced",
          "free/reduced",
          "free/reduced",
          "standard",
          "standard",
          "free/reduced",
          "standard",
          "free/reduced",
          "standard",
          "standard",
          "standard",
          "standard",
          "standard",
          "standard",
          "standard",
          "free/reduced",
          "free/reduced",
          "standard",
          "standard",
          "free/reduced",
          "standard",
          "standard",
          "standard",
          "standard",
          "free/reduced",
          "free/reduced",
          "free/reduced",
          "standard",
          "standard",
          "standard",
          "standard",
          "free/reduced",
          "free/reduced",
          "free/reduced",
          "free/reduced",
          "standard",
          "free/reduced",
          "standard",
          "standard",
          "standard",
          "standard",
          "standard",
          "standard",
          "free/reduced",
          "free/reduced",
          "standard",
          "standard",
          "standard",
          "standard",
          "standard",
          "free/reduced",
          "standard",
          "standard",
          "standard",
          "standard",
          "free/reduced",
          "standard",
          "free/reduced",
          "standard",
          "standard",
          "standard",
          "standard",
          "standard",
          "standard",
          "free/reduced",
          "free/reduced",
          "standard",
          "free/reduced",
          "standard",
          "standard",
          "standard",
          "standard",
          "free/reduced",
          "standard",
          "standard",
          "standard",
          "standard",
          "standard",
          "free/reduced",
          "free/reduced",
          "standard",
          "standard",
          "standard",
          "standard",
          "standard",
          "free/reduced",
          "standard",
          "standard",
          "standard",
          "free/reduced",
          "standard",
          "standard",
          "free/reduced",
          "free/reduced",
          "standard",
          "standard",
          "standard",
          "standard",
          "standard",
          "free/reduced",
          "standard",
          "free/reduced",
          "standard",
          "standard",
          "standard",
          "standard",
          "standard",
          "standard",
          "standard",
          "free/reduced",
          "standard",
          "free/reduced",
          "free/reduced",
          "standard",
          "standard",
          "free/reduced",
          "standard",
          "free/reduced",
          "free/reduced",
          "standard",
          "standard",
          "free/reduced",
          "free/reduced",
          "standard",
          "standard",
          "standard",
          "free/reduced",
          "free/reduced",
          "free/reduced",
          "standard",
          "free/reduced",
          "standard",
          "standard",
          "standard",
          "standard",
          "standard",
          "free/reduced",
          "standard",
          "standard",
          "free/reduced",
          "standard",
          "free/reduced",
          "standard",
          "free/reduced",
          "free/reduced",
          "free/reduced",
          "free/reduced",
          "free/reduced",
          "free/reduced",
          "standard",
          "free/reduced",
          "standard",
          "standard",
          "standard",
          "free/reduced",
          "standard",
          "free/reduced",
          "standard",
          "free/reduced",
          "standard",
          "standard",
          "standard",
          "standard",
          "standard",
          "standard",
          "standard",
          "standard",
          "standard",
          "free/reduced",
          "standard",
          "standard",
          "standard",
          "standard",
          "standard",
          "standard",
          "free/reduced",
          "standard",
          "free/reduced"
         ],
         "x0": " ",
         "xaxis": "x",
         "y": [
          44,
          75,
          39,
          67,
          52,
          43,
          70,
          86,
          46,
          63,
          53,
          80,
          72,
          55,
          65,
          38,
          82,
          79,
          57,
          54,
          66,
          57,
          82,
          48,
          68,
          42,
          75,
          49,
          58,
          72,
          34,
          55,
          61,
          37,
          56,
          63,
          56,
          41,
          38,
          22,
          81,
          45,
          54,
          63,
          34,
          36,
          71,
          50,
          82,
          62,
          67,
          74,
          47,
          90,
          64,
          49,
          47,
          74,
          92,
          56,
          73,
          67,
          74,
          74,
          82,
          40,
          70,
          75,
          48,
          41,
          56,
          69,
          47,
          78,
          75,
          66,
          93,
          69,
          68,
          47,
          61,
          60,
          64,
          74,
          52,
          49,
          51,
          74,
          78,
          75,
          49,
          65,
          65,
          68,
          45,
          79,
          62,
          52,
          65,
          51,
          69,
          42,
          78,
          62,
          76,
          79,
          27,
          56,
          81,
          75,
          70,
          56,
          73,
          75,
          54,
          64,
          66,
          42,
          78,
          84,
          77,
          67,
          51,
          80,
          66,
          43,
          69,
          71,
          74,
          53,
          49,
          72,
          52,
          77,
          78,
          68,
          41,
          61,
          42,
          76,
          73,
          57,
          42,
          46,
          82,
          88,
          76,
          77,
          68,
          70,
          57,
          80,
          60,
          43,
          68,
          50,
          75,
          81,
          52,
          64,
          69,
          81,
          44,
          57,
          68,
          65,
          78,
          69,
          62,
          19,
          77,
          61,
          35,
          53,
          81,
          69,
          43,
          52,
          67,
          67,
          57,
          66,
          76,
          52,
          61,
          61,
          78,
          58,
          60,
          53,
          61,
          71,
          72,
          41,
          62,
          95,
          71,
          75,
          59,
          67,
          56,
          41,
          57,
          54,
          43,
          63,
          85,
          78,
          60,
          67,
          69,
          68,
          67,
          62,
          54,
          34,
          86,
          65,
          53,
          54,
          59,
          55,
          66,
          53,
          64,
          73,
          51,
          82,
          73,
          60,
          80,
          42,
          72,
          49,
          47,
          48,
          68,
          55,
          45,
          62,
          65,
          76,
          66,
          72,
          67,
          68,
          61,
          46,
          71,
          56,
          57,
          82,
          66,
          72,
          54,
          66,
          54,
          77,
          73,
          43,
          52,
          52,
          57,
          50,
          49,
          59,
          60,
          58,
          68,
          58,
          71,
          86,
          68,
          80,
          80,
          64,
          69,
          65,
          88,
          64,
          40,
          66,
          62,
          92,
          46,
          45,
          47,
          67,
          70,
          92,
          53,
          52,
          54,
          50,
          64,
          15,
          48,
          51,
          90,
          62,
          63,
          91,
          83,
          84,
          68,
          56,
          52,
          86,
          99,
          63,
          46,
          46,
          70,
          65,
          80,
          64,
          74,
          51,
          60,
          53,
          64,
          61,
          85,
          73,
          63,
          63,
          61,
          77,
          50,
          78,
          60,
          60,
          54,
          68,
          68,
          73,
          44,
          83,
          59,
          87,
          65,
          36,
          52,
          79,
          90,
          84,
          72,
          80,
          59,
          42,
          41,
          71,
          57,
          37,
          43,
          44,
          59,
          84,
          73,
          55,
          72,
          47,
          74,
          71,
          68,
          86,
          68,
          65,
          75,
          53,
          52,
          72,
          77,
          86,
          59,
          60,
          57,
          49,
          74,
          60,
          82,
          79,
          61,
          69,
          77,
          70,
          54,
          68,
          73,
          74,
          69,
          51,
          36,
          49,
          76,
          87,
          76,
          51,
          58,
          53,
          58,
          45,
          57,
          53,
          51,
          76,
          84,
          85,
          50,
          69,
          67,
          61,
          55,
          65,
          46,
          72,
          38,
          91,
          88,
          52,
          41,
          72,
          51,
          47,
          78,
          82,
          66,
          84,
          54,
          66,
          44,
          59,
          48,
          75,
          27,
          63,
          89,
          77,
          51,
          70,
          48,
          100,
          91,
          67,
          66,
          69,
          60,
          52,
          44,
          70,
          62,
          73,
          74,
          90,
          58,
          53,
          85,
          69,
          72,
          64,
          61,
          80,
          52,
          71,
          54,
          62,
          81,
          71,
          58,
          64,
          60,
          69,
          60,
          58,
          48,
          78,
          86,
          54,
          76,
          75,
          62,
          55
         ],
         "y0": " ",
         "yaxis": "y"
        }
       ],
       "layout": {
        "boxmode": "group",
        "legend": {
         "title": {
          "text": "gender"
         },
         "tracegroupgap": 0
        },
        "margin": {
         "t": 60
        },
        "template": {
         "data": {
          "bar": [
           {
            "error_x": {
             "color": "#2a3f5f"
            },
            "error_y": {
             "color": "#2a3f5f"
            },
            "marker": {
             "line": {
              "color": "#E5ECF6",
              "width": 0.5
             },
             "pattern": {
              "fillmode": "overlay",
              "size": 10,
              "solidity": 0.2
             }
            },
            "type": "bar"
           }
          ],
          "barpolar": [
           {
            "marker": {
             "line": {
              "color": "#E5ECF6",
              "width": 0.5
             },
             "pattern": {
              "fillmode": "overlay",
              "size": 10,
              "solidity": 0.2
             }
            },
            "type": "barpolar"
           }
          ],
          "carpet": [
           {
            "aaxis": {
             "endlinecolor": "#2a3f5f",
             "gridcolor": "white",
             "linecolor": "white",
             "minorgridcolor": "white",
             "startlinecolor": "#2a3f5f"
            },
            "baxis": {
             "endlinecolor": "#2a3f5f",
             "gridcolor": "white",
             "linecolor": "white",
             "minorgridcolor": "white",
             "startlinecolor": "#2a3f5f"
            },
            "type": "carpet"
           }
          ],
          "choropleth": [
           {
            "colorbar": {
             "outlinewidth": 0,
             "ticks": ""
            },
            "type": "choropleth"
           }
          ],
          "contour": [
           {
            "colorbar": {
             "outlinewidth": 0,
             "ticks": ""
            },
            "colorscale": [
             [
              0,
              "#0d0887"
             ],
             [
              0.1111111111111111,
              "#46039f"
             ],
             [
              0.2222222222222222,
              "#7201a8"
             ],
             [
              0.3333333333333333,
              "#9c179e"
             ],
             [
              0.4444444444444444,
              "#bd3786"
             ],
             [
              0.5555555555555556,
              "#d8576b"
             ],
             [
              0.6666666666666666,
              "#ed7953"
             ],
             [
              0.7777777777777778,
              "#fb9f3a"
             ],
             [
              0.8888888888888888,
              "#fdca26"
             ],
             [
              1,
              "#f0f921"
             ]
            ],
            "type": "contour"
           }
          ],
          "contourcarpet": [
           {
            "colorbar": {
             "outlinewidth": 0,
             "ticks": ""
            },
            "type": "contourcarpet"
           }
          ],
          "heatmap": [
           {
            "colorbar": {
             "outlinewidth": 0,
             "ticks": ""
            },
            "colorscale": [
             [
              0,
              "#0d0887"
             ],
             [
              0.1111111111111111,
              "#46039f"
             ],
             [
              0.2222222222222222,
              "#7201a8"
             ],
             [
              0.3333333333333333,
              "#9c179e"
             ],
             [
              0.4444444444444444,
              "#bd3786"
             ],
             [
              0.5555555555555556,
              "#d8576b"
             ],
             [
              0.6666666666666666,
              "#ed7953"
             ],
             [
              0.7777777777777778,
              "#fb9f3a"
             ],
             [
              0.8888888888888888,
              "#fdca26"
             ],
             [
              1,
              "#f0f921"
             ]
            ],
            "type": "heatmap"
           }
          ],
          "heatmapgl": [
           {
            "colorbar": {
             "outlinewidth": 0,
             "ticks": ""
            },
            "colorscale": [
             [
              0,
              "#0d0887"
             ],
             [
              0.1111111111111111,
              "#46039f"
             ],
             [
              0.2222222222222222,
              "#7201a8"
             ],
             [
              0.3333333333333333,
              "#9c179e"
             ],
             [
              0.4444444444444444,
              "#bd3786"
             ],
             [
              0.5555555555555556,
              "#d8576b"
             ],
             [
              0.6666666666666666,
              "#ed7953"
             ],
             [
              0.7777777777777778,
              "#fb9f3a"
             ],
             [
              0.8888888888888888,
              "#fdca26"
             ],
             [
              1,
              "#f0f921"
             ]
            ],
            "type": "heatmapgl"
           }
          ],
          "histogram": [
           {
            "marker": {
             "pattern": {
              "fillmode": "overlay",
              "size": 10,
              "solidity": 0.2
             }
            },
            "type": "histogram"
           }
          ],
          "histogram2d": [
           {
            "colorbar": {
             "outlinewidth": 0,
             "ticks": ""
            },
            "colorscale": [
             [
              0,
              "#0d0887"
             ],
             [
              0.1111111111111111,
              "#46039f"
             ],
             [
              0.2222222222222222,
              "#7201a8"
             ],
             [
              0.3333333333333333,
              "#9c179e"
             ],
             [
              0.4444444444444444,
              "#bd3786"
             ],
             [
              0.5555555555555556,
              "#d8576b"
             ],
             [
              0.6666666666666666,
              "#ed7953"
             ],
             [
              0.7777777777777778,
              "#fb9f3a"
             ],
             [
              0.8888888888888888,
              "#fdca26"
             ],
             [
              1,
              "#f0f921"
             ]
            ],
            "type": "histogram2d"
           }
          ],
          "histogram2dcontour": [
           {
            "colorbar": {
             "outlinewidth": 0,
             "ticks": ""
            },
            "colorscale": [
             [
              0,
              "#0d0887"
             ],
             [
              0.1111111111111111,
              "#46039f"
             ],
             [
              0.2222222222222222,
              "#7201a8"
             ],
             [
              0.3333333333333333,
              "#9c179e"
             ],
             [
              0.4444444444444444,
              "#bd3786"
             ],
             [
              0.5555555555555556,
              "#d8576b"
             ],
             [
              0.6666666666666666,
              "#ed7953"
             ],
             [
              0.7777777777777778,
              "#fb9f3a"
             ],
             [
              0.8888888888888888,
              "#fdca26"
             ],
             [
              1,
              "#f0f921"
             ]
            ],
            "type": "histogram2dcontour"
           }
          ],
          "mesh3d": [
           {
            "colorbar": {
             "outlinewidth": 0,
             "ticks": ""
            },
            "type": "mesh3d"
           }
          ],
          "parcoords": [
           {
            "line": {
             "colorbar": {
              "outlinewidth": 0,
              "ticks": ""
             }
            },
            "type": "parcoords"
           }
          ],
          "pie": [
           {
            "automargin": true,
            "type": "pie"
           }
          ],
          "scatter": [
           {
            "marker": {
             "colorbar": {
              "outlinewidth": 0,
              "ticks": ""
             }
            },
            "type": "scatter"
           }
          ],
          "scatter3d": [
           {
            "line": {
             "colorbar": {
              "outlinewidth": 0,
              "ticks": ""
             }
            },
            "marker": {
             "colorbar": {
              "outlinewidth": 0,
              "ticks": ""
             }
            },
            "type": "scatter3d"
           }
          ],
          "scattercarpet": [
           {
            "marker": {
             "colorbar": {
              "outlinewidth": 0,
              "ticks": ""
             }
            },
            "type": "scattercarpet"
           }
          ],
          "scattergeo": [
           {
            "marker": {
             "colorbar": {
              "outlinewidth": 0,
              "ticks": ""
             }
            },
            "type": "scattergeo"
           }
          ],
          "scattergl": [
           {
            "marker": {
             "colorbar": {
              "outlinewidth": 0,
              "ticks": ""
             }
            },
            "type": "scattergl"
           }
          ],
          "scattermapbox": [
           {
            "marker": {
             "colorbar": {
              "outlinewidth": 0,
              "ticks": ""
             }
            },
            "type": "scattermapbox"
           }
          ],
          "scatterpolar": [
           {
            "marker": {
             "colorbar": {
              "outlinewidth": 0,
              "ticks": ""
             }
            },
            "type": "scatterpolar"
           }
          ],
          "scatterpolargl": [
           {
            "marker": {
             "colorbar": {
              "outlinewidth": 0,
              "ticks": ""
             }
            },
            "type": "scatterpolargl"
           }
          ],
          "scatterternary": [
           {
            "marker": {
             "colorbar": {
              "outlinewidth": 0,
              "ticks": ""
             }
            },
            "type": "scatterternary"
           }
          ],
          "surface": [
           {
            "colorbar": {
             "outlinewidth": 0,
             "ticks": ""
            },
            "colorscale": [
             [
              0,
              "#0d0887"
             ],
             [
              0.1111111111111111,
              "#46039f"
             ],
             [
              0.2222222222222222,
              "#7201a8"
             ],
             [
              0.3333333333333333,
              "#9c179e"
             ],
             [
              0.4444444444444444,
              "#bd3786"
             ],
             [
              0.5555555555555556,
              "#d8576b"
             ],
             [
              0.6666666666666666,
              "#ed7953"
             ],
             [
              0.7777777777777778,
              "#fb9f3a"
             ],
             [
              0.8888888888888888,
              "#fdca26"
             ],
             [
              1,
              "#f0f921"
             ]
            ],
            "type": "surface"
           }
          ],
          "table": [
           {
            "cells": {
             "fill": {
              "color": "#EBF0F8"
             },
             "line": {
              "color": "white"
             }
            },
            "header": {
             "fill": {
              "color": "#C8D4E3"
             },
             "line": {
              "color": "white"
             }
            },
            "type": "table"
           }
          ]
         },
         "layout": {
          "annotationdefaults": {
           "arrowcolor": "#2a3f5f",
           "arrowhead": 0,
           "arrowwidth": 1
          },
          "autotypenumbers": "strict",
          "coloraxis": {
           "colorbar": {
            "outlinewidth": 0,
            "ticks": ""
           }
          },
          "colorscale": {
           "diverging": [
            [
             0,
             "#8e0152"
            ],
            [
             0.1,
             "#c51b7d"
            ],
            [
             0.2,
             "#de77ae"
            ],
            [
             0.3,
             "#f1b6da"
            ],
            [
             0.4,
             "#fde0ef"
            ],
            [
             0.5,
             "#f7f7f7"
            ],
            [
             0.6,
             "#e6f5d0"
            ],
            [
             0.7,
             "#b8e186"
            ],
            [
             0.8,
             "#7fbc41"
            ],
            [
             0.9,
             "#4d9221"
            ],
            [
             1,
             "#276419"
            ]
           ],
           "sequential": [
            [
             0,
             "#0d0887"
            ],
            [
             0.1111111111111111,
             "#46039f"
            ],
            [
             0.2222222222222222,
             "#7201a8"
            ],
            [
             0.3333333333333333,
             "#9c179e"
            ],
            [
             0.4444444444444444,
             "#bd3786"
            ],
            [
             0.5555555555555556,
             "#d8576b"
            ],
            [
             0.6666666666666666,
             "#ed7953"
            ],
            [
             0.7777777777777778,
             "#fb9f3a"
            ],
            [
             0.8888888888888888,
             "#fdca26"
            ],
            [
             1,
             "#f0f921"
            ]
           ],
           "sequentialminus": [
            [
             0,
             "#0d0887"
            ],
            [
             0.1111111111111111,
             "#46039f"
            ],
            [
             0.2222222222222222,
             "#7201a8"
            ],
            [
             0.3333333333333333,
             "#9c179e"
            ],
            [
             0.4444444444444444,
             "#bd3786"
            ],
            [
             0.5555555555555556,
             "#d8576b"
            ],
            [
             0.6666666666666666,
             "#ed7953"
            ],
            [
             0.7777777777777778,
             "#fb9f3a"
            ],
            [
             0.8888888888888888,
             "#fdca26"
            ],
            [
             1,
             "#f0f921"
            ]
           ]
          },
          "colorway": [
           "#636efa",
           "#EF553B",
           "#00cc96",
           "#ab63fa",
           "#FFA15A",
           "#19d3f3",
           "#FF6692",
           "#B6E880",
           "#FF97FF",
           "#FECB52"
          ],
          "font": {
           "color": "#2a3f5f"
          },
          "geo": {
           "bgcolor": "white",
           "lakecolor": "white",
           "landcolor": "#E5ECF6",
           "showlakes": true,
           "showland": true,
           "subunitcolor": "white"
          },
          "hoverlabel": {
           "align": "left"
          },
          "hovermode": "closest",
          "mapbox": {
           "style": "light"
          },
          "paper_bgcolor": "white",
          "plot_bgcolor": "#E5ECF6",
          "polar": {
           "angularaxis": {
            "gridcolor": "white",
            "linecolor": "white",
            "ticks": ""
           },
           "bgcolor": "#E5ECF6",
           "radialaxis": {
            "gridcolor": "white",
            "linecolor": "white",
            "ticks": ""
           }
          },
          "scene": {
           "xaxis": {
            "backgroundcolor": "#E5ECF6",
            "gridcolor": "white",
            "gridwidth": 2,
            "linecolor": "white",
            "showbackground": true,
            "ticks": "",
            "zerolinecolor": "white"
           },
           "yaxis": {
            "backgroundcolor": "#E5ECF6",
            "gridcolor": "white",
            "gridwidth": 2,
            "linecolor": "white",
            "showbackground": true,
            "ticks": "",
            "zerolinecolor": "white"
           },
           "zaxis": {
            "backgroundcolor": "#E5ECF6",
            "gridcolor": "white",
            "gridwidth": 2,
            "linecolor": "white",
            "showbackground": true,
            "ticks": "",
            "zerolinecolor": "white"
           }
          },
          "shapedefaults": {
           "line": {
            "color": "#2a3f5f"
           }
          },
          "ternary": {
           "aaxis": {
            "gridcolor": "white",
            "linecolor": "white",
            "ticks": ""
           },
           "baxis": {
            "gridcolor": "white",
            "linecolor": "white",
            "ticks": ""
           },
           "bgcolor": "#E5ECF6",
           "caxis": {
            "gridcolor": "white",
            "linecolor": "white",
            "ticks": ""
           }
          },
          "title": {
           "x": 0.05
          },
          "xaxis": {
           "automargin": true,
           "gridcolor": "white",
           "linecolor": "white",
           "ticks": "",
           "title": {
            "standoff": 15
           },
           "zerolinecolor": "white",
           "zerolinewidth": 2
          },
          "yaxis": {
           "automargin": true,
           "gridcolor": "white",
           "linecolor": "white",
           "ticks": "",
           "title": {
            "standoff": 15
           },
           "zerolinecolor": "white",
           "zerolinewidth": 2
          }
         }
        },
        "xaxis": {
         "anchor": "y",
         "domain": [
          0,
          1
         ],
         "title": {
          "text": "lunch"
         }
        },
        "yaxis": {
         "anchor": "x",
         "domain": [
          0,
          1
         ],
         "title": {
          "text": "writing score"
         }
        }
       }
      },
      "text/html": [
       "<div>                            <div id=\"4d76c180-8f85-4ace-b396-06fa89ab37ce\" class=\"plotly-graph-div\" style=\"height:525px; width:100%;\"></div>            <script type=\"text/javascript\">                require([\"plotly\"], function(Plotly) {                    window.PLOTLYENV=window.PLOTLYENV || {};                                    if (document.getElementById(\"4d76c180-8f85-4ace-b396-06fa89ab37ce\")) {                    Plotly.newPlot(                        \"4d76c180-8f85-4ace-b396-06fa89ab37ce\",                        [{\"alignmentgroup\":\"True\",\"hovertemplate\":\"gender=female<br>lunch=%{x}<br>writing score=%{y}<extra></extra>\",\"legendgroup\":\"female\",\"marker\":{\"color\":\"#636efa\"},\"name\":\"female\",\"notched\":false,\"offsetgroup\":\"female\",\"orientation\":\"v\",\"showlegend\":true,\"x\":[\"standard\",\"standard\",\"standard\",\"standard\",\"standard\",\"free/reduced\",\"standard\",\"standard\",\"standard\",\"free/reduced\",\"free/reduced\",\"free/reduced\",\"standard\",\"standard\",\"standard\",\"standard\",\"standard\",\"free/reduced\",\"standard\",\"free/reduced\",\"free/reduced\",\"standard\",\"standard\",\"free/reduced\",\"standard\",\"standard\",\"free/reduced\",\"free/reduced\",\"free/reduced\",\"standard\",\"free/reduced\",\"standard\",\"standard\",\"standard\",\"standard\",\"free/reduced\",\"free/reduced\",\"standard\",\"standard\",\"standard\",\"standard\",\"free/reduced\",\"standard\",\"standard\",\"standard\",\"standard\",\"standard\",\"standard\",\"free/reduced\",\"standard\",\"standard\",\"standard\",\"standard\",\"free/reduced\",\"standard\",\"free/reduced\",\"standard\",\"standard\",\"free/reduced\",\"standard\",\"standard\",\"standard\",\"standard\",\"standard\",\"standard\",\"standard\",\"standard\",\"standard\",\"standard\",\"free/reduced\",\"free/reduced\",\"free/reduced\",\"standard\",\"standard\",\"standard\",\"free/reduced\",\"standard\",\"free/reduced\",\"standard\",\"standard\",\"free/reduced\",\"standard\",\"free/reduced\",\"standard\",\"standard\",\"free/reduced\",\"standard\",\"free/reduced\",\"standard\",\"free/reduced\",\"standard\",\"free/reduced\",\"standard\",\"standard\",\"standard\",\"standard\",\"standard\",\"standard\",\"free/reduced\",\"free/reduced\",\"standard\",\"free/reduced\",\"standard\",\"free/reduced\",\"free/reduced\",\"free/reduced\",\"free/reduced\",\"free/reduced\",\"standard\",\"free/reduced\",\"standard\",\"free/reduced\",\"standard\",\"standard\",\"standard\",\"standard\",\"standard\",\"standard\",\"standard\",\"standard\",\"free/reduced\",\"standard\",\"standard\",\"free/reduced\",\"standard\",\"free/reduced\",\"free/reduced\",\"free/reduced\",\"standard\",\"standard\",\"standard\",\"standard\",\"free/reduced\",\"free/reduced\",\"standard\",\"standard\",\"standard\",\"free/reduced\",\"free/reduced\",\"free/reduced\",\"standard\",\"standard\",\"standard\",\"standard\",\"standard\",\"free/reduced\",\"free/reduced\",\"standard\",\"free/reduced\",\"standard\",\"standard\",\"free/reduced\",\"free/reduced\",\"standard\",\"standard\",\"free/reduced\",\"free/reduced\",\"standard\",\"standard\",\"standard\",\"free/reduced\",\"free/reduced\",\"free/reduced\",\"standard\",\"standard\",\"standard\",\"standard\",\"standard\",\"standard\",\"standard\",\"standard\",\"standard\",\"free/reduced\",\"standard\",\"standard\",\"standard\",\"free/reduced\",\"free/reduced\",\"standard\",\"free/reduced\",\"standard\",\"standard\",\"standard\",\"free/reduced\",\"standard\",\"standard\",\"free/reduced\",\"free/reduced\",\"standard\",\"standard\",\"free/reduced\",\"standard\",\"standard\",\"standard\",\"free/reduced\",\"standard\",\"standard\",\"free/reduced\",\"standard\",\"standard\",\"standard\",\"standard\",\"free/reduced\",\"standard\",\"free/reduced\",\"free/reduced\",\"standard\",\"free/reduced\",\"standard\",\"free/reduced\",\"standard\",\"free/reduced\",\"standard\",\"standard\",\"free/reduced\",\"standard\",\"standard\",\"free/reduced\",\"standard\",\"free/reduced\",\"free/reduced\",\"standard\",\"standard\",\"standard\",\"free/reduced\",\"standard\",\"free/reduced\",\"free/reduced\",\"standard\",\"standard\",\"standard\",\"standard\",\"standard\",\"standard\",\"standard\",\"free/reduced\",\"standard\",\"free/reduced\",\"free/reduced\",\"standard\",\"standard\",\"standard\",\"standard\",\"standard\",\"free/reduced\",\"standard\",\"standard\",\"standard\",\"standard\",\"free/reduced\",\"standard\",\"standard\",\"standard\",\"free/reduced\",\"standard\",\"standard\",\"standard\",\"standard\",\"free/reduced\",\"standard\",\"free/reduced\",\"free/reduced\",\"standard\",\"standard\",\"standard\",\"standard\",\"free/reduced\",\"standard\",\"standard\",\"standard\",\"standard\",\"standard\",\"free/reduced\",\"standard\",\"free/reduced\",\"standard\",\"free/reduced\",\"standard\",\"standard\",\"free/reduced\",\"free/reduced\",\"free/reduced\",\"standard\",\"free/reduced\",\"standard\",\"standard\",\"free/reduced\",\"standard\",\"standard\",\"standard\",\"free/reduced\",\"standard\",\"standard\",\"standard\",\"standard\",\"free/reduced\",\"standard\",\"standard\",\"standard\",\"standard\",\"standard\",\"standard\",\"standard\",\"standard\",\"standard\",\"standard\",\"standard\",\"free/reduced\",\"standard\",\"standard\",\"standard\",\"standard\",\"standard\",\"standard\",\"standard\",\"free/reduced\",\"free/reduced\",\"standard\",\"standard\",\"standard\",\"free/reduced\",\"standard\",\"standard\",\"free/reduced\",\"free/reduced\",\"standard\",\"standard\",\"standard\",\"free/reduced\",\"standard\",\"standard\",\"standard\",\"standard\",\"standard\",\"standard\",\"standard\",\"free/reduced\",\"free/reduced\",\"standard\",\"free/reduced\",\"free/reduced\",\"free/reduced\",\"free/reduced\",\"standard\",\"standard\",\"standard\",\"standard\",\"standard\",\"standard\",\"standard\",\"free/reduced\",\"standard\",\"standard\",\"free/reduced\",\"free/reduced\",\"standard\",\"standard\",\"free/reduced\",\"standard\",\"standard\",\"standard\",\"standard\",\"standard\",\"standard\",\"free/reduced\",\"free/reduced\",\"standard\",\"standard\",\"standard\",\"free/reduced\",\"standard\",\"standard\",\"free/reduced\",\"free/reduced\",\"standard\",\"free/reduced\",\"free/reduced\",\"standard\",\"free/reduced\",\"free/reduced\",\"free/reduced\",\"standard\",\"standard\",\"free/reduced\",\"standard\",\"standard\",\"free/reduced\",\"free/reduced\",\"standard\",\"standard\",\"standard\",\"standard\",\"standard\",\"free/reduced\",\"free/reduced\",\"free/reduced\",\"standard\",\"free/reduced\",\"standard\",\"free/reduced\",\"standard\",\"free/reduced\",\"standard\",\"standard\",\"free/reduced\",\"standard\",\"free/reduced\",\"standard\",\"free/reduced\",\"standard\",\"free/reduced\",\"free/reduced\",\"standard\",\"standard\",\"standard\",\"standard\",\"free/reduced\",\"free/reduced\",\"standard\",\"standard\",\"standard\",\"free/reduced\",\"standard\",\"standard\",\"free/reduced\",\"free/reduced\",\"free/reduced\",\"free/reduced\",\"standard\",\"free/reduced\",\"free/reduced\",\"free/reduced\",\"standard\",\"standard\",\"standard\",\"standard\",\"free/reduced\",\"free/reduced\",\"free/reduced\",\"standard\",\"standard\",\"standard\",\"standard\",\"standard\",\"standard\",\"free/reduced\",\"standard\",\"standard\",\"free/reduced\",\"standard\",\"standard\",\"standard\",\"free/reduced\",\"standard\",\"standard\",\"standard\",\"free/reduced\",\"standard\",\"standard\",\"free/reduced\",\"standard\",\"free/reduced\",\"free/reduced\",\"standard\",\"standard\",\"free/reduced\",\"free/reduced\",\"free/reduced\",\"standard\",\"free/reduced\",\"standard\",\"standard\",\"free/reduced\",\"free/reduced\",\"standard\",\"standard\",\"standard\",\"free/reduced\",\"free/reduced\",\"free/reduced\",\"free/reduced\",\"free/reduced\",\"standard\",\"standard\",\"standard\",\"free/reduced\",\"free/reduced\",\"standard\",\"free/reduced\",\"standard\",\"standard\",\"standard\",\"standard\",\"free/reduced\",\"standard\",\"free/reduced\",\"standard\",\"standard\",\"standard\",\"standard\",\"free/reduced\",\"free/reduced\",\"standard\",\"standard\",\"standard\",\"free/reduced\",\"standard\",\"standard\",\"standard\",\"free/reduced\",\"free/reduced\",\"standard\",\"free/reduced\",\"free/reduced\",\"standard\",\"free/reduced\",\"standard\",\"free/reduced\"],\"x0\":\" \",\"xaxis\":\"x\",\"y\":[74,88,93,78,92,50,73,58,78,28,61,70,73,75,75,74,61,65,83,59,88,68,65,54,62,76,76,87,43,86,10,71,59,74,57,73,48,72,68,50,82,88,74,67,82,74,92,70,62,62,89,72,100,70,72,98,54,100,82,79,61,65,89,93,86,51,84,67,71,64,54,33,81,66,88,78,87,85,91,100,78,78,70,81,70,54,87,58,77,62,100,66,47,70,87,69,66,85,55,76,86,77,68,76,66,60,88,39,74,62,73,54,71,94,83,74,83,55,68,62,83,70,70,68,78,81,77,51,90,81,77,95,70,58,71,93,75,80,84,78,46,82,75,81,83,67,52,80,69,75,91,63,84,79,80,53,43,94,51,95,66,27,60,63,74,75,95,69,80,57,70,70,69,89,59,58,32,58,85,70,96,73,82,100,77,83,45,43,75,70,67,64,77,77,63,95,67,55,100,62,68,77,56,74,79,93,64,67,80,62,70,50,79,80,69,76,77,85,97,74,62,89,100,76,91,91,38,85,90,74,84,61,91,83,70,56,54,74,76,70,90,90,68,52,76,68,82,92,92,54,80,87,62,94,85,84,73,78,79,84,43,47,70,73,53,94,83,62,79,89,66,97,64,50,33,79,70,79,74,80,100,78,56,64,71,89,58,68,96,80,78,80,77,76,73,62,65,65,73,99,72,73,81,63,30,80,82,54,62,65,66,74,93,72,38,54,62,55,81,85,81,88,73,90,79,80,81,65,68,55,81,76,98,74,79,67,58,69,67,60,71,87,68,76,84,78,66,76,76,74,44,100,53,78,81,73,56,86,90,70,79,82,72,67,64,58,85,99,74,87,99,74,70,88,77,84,80,94,57,73,56,82,72,59,85,92,65,64,54,63,72,77,75,72,79,55,70,43,82,57,84,82,62,44,77,32,61,60,70,51,73,81,57,95,87,78,75,40,67,83,64,68,88,92,93,82,52,70,76,81,57,89,89,74,79,73,46,36,64,68,63,93,96,81,53,87,80,76,61,80,74,70,71,54,80,95,74,91,85,73,69,38,79,82,74,41,100,84,91,72,82,66,66,55,66,52,80,46,65,71,51,57,96,61,58,60,73,83,72,69,100,59,64,53,100,75,72,67,80,100,60,61,67,77,94,23,91,82,51,45,83,78,76,74,95,65,77,86],\"y0\":\" \",\"yaxis\":\"y\",\"type\":\"box\"},{\"alignmentgroup\":\"True\",\"hovertemplate\":\"gender=male<br>lunch=%{x}<br>writing score=%{y}<extra></extra>\",\"legendgroup\":\"male\",\"marker\":{\"color\":\"#EF553B\"},\"name\":\"male\",\"notched\":false,\"offsetgroup\":\"male\",\"orientation\":\"v\",\"showlegend\":true,\"x\":[\"free/reduced\",\"standard\",\"free/reduced\",\"free/reduced\",\"standard\",\"standard\",\"standard\",\"standard\",\"free/reduced\",\"standard\",\"standard\",\"free/reduced\",\"free/reduced\",\"standard\",\"standard\",\"standard\",\"standard\",\"standard\",\"free/reduced\",\"free/reduced\",\"free/reduced\",\"standard\",\"standard\",\"standard\",\"free/reduced\",\"standard\",\"standard\",\"standard\",\"standard\",\"free/reduced\",\"free/reduced\",\"free/reduced\",\"standard\",\"free/reduced\",\"free/reduced\",\"standard\",\"free/reduced\",\"standard\",\"free/reduced\",\"standard\",\"standard\",\"free/reduced\",\"free/reduced\",\"standard\",\"free/reduced\",\"free/reduced\",\"standard\",\"free/reduced\",\"free/reduced\",\"standard\",\"standard\",\"standard\",\"standard\",\"standard\",\"standard\",\"standard\",\"standard\",\"standard\",\"standard\",\"free/reduced\",\"standard\",\"standard\",\"standard\",\"standard\",\"standard\",\"free/reduced\",\"free/reduced\",\"free/reduced\",\"standard\",\"standard\",\"standard\",\"standard\",\"standard\",\"standard\",\"standard\",\"free/reduced\",\"free/reduced\",\"standard\",\"standard\",\"standard\",\"standard\",\"free/reduced\",\"free/reduced\",\"free/reduced\",\"free/reduced\",\"standard\",\"free/reduced\",\"standard\",\"standard\",\"free/reduced\",\"free/reduced\",\"free/reduced\",\"standard\",\"standard\",\"free/reduced\",\"standard\",\"standard\",\"standard\",\"free/reduced\",\"free/reduced\",\"standard\",\"standard\",\"standard\",\"standard\",\"standard\",\"free/reduced\",\"free/reduced\",\"free/reduced\",\"standard\",\"standard\",\"free/reduced\",\"standard\",\"standard\",\"standard\",\"standard\",\"free/reduced\",\"standard\",\"standard\",\"standard\",\"standard\",\"standard\",\"free/reduced\",\"standard\",\"standard\",\"free/reduced\",\"standard\",\"standard\",\"standard\",\"standard\",\"standard\",\"standard\",\"standard\",\"standard\",\"standard\",\"standard\",\"standard\",\"free/reduced\",\"standard\",\"standard\",\"standard\",\"standard\",\"free/reduced\",\"standard\",\"standard\",\"standard\",\"standard\",\"free/reduced\",\"standard\",\"standard\",\"standard\",\"standard\",\"free/reduced\",\"free/reduced\",\"standard\",\"standard\",\"free/reduced\",\"free/reduced\",\"free/reduced\",\"free/reduced\",\"standard\",\"standard\",\"standard\",\"standard\",\"standard\",\"standard\",\"standard\",\"standard\",\"standard\",\"standard\",\"free/reduced\",\"standard\",\"standard\",\"standard\",\"standard\",\"standard\",\"standard\",\"standard\",\"free/reduced\",\"standard\",\"standard\",\"standard\",\"free/reduced\",\"standard\",\"standard\",\"standard\",\"free/reduced\",\"standard\",\"standard\",\"free/reduced\",\"standard\",\"free/reduced\",\"standard\",\"standard\",\"free/reduced\",\"standard\",\"standard\",\"free/reduced\",\"standard\",\"free/reduced\",\"standard\",\"standard\",\"free/reduced\",\"standard\",\"standard\",\"standard\",\"standard\",\"standard\",\"standard\",\"standard\",\"standard\",\"standard\",\"standard\",\"standard\",\"standard\",\"free/reduced\",\"free/reduced\",\"standard\",\"free/reduced\",\"free/reduced\",\"free/reduced\",\"free/reduced\",\"standard\",\"standard\",\"free/reduced\",\"standard\",\"free/reduced\",\"standard\",\"standard\",\"free/reduced\",\"free/reduced\",\"standard\",\"standard\",\"standard\",\"free/reduced\",\"free/reduced\",\"free/reduced\",\"standard\",\"free/reduced\",\"free/reduced\",\"standard\",\"free/reduced\",\"standard\",\"standard\",\"standard\",\"standard\",\"standard\",\"free/reduced\",\"standard\",\"standard\",\"free/reduced\",\"standard\",\"free/reduced\",\"standard\",\"standard\",\"free/reduced\",\"standard\",\"free/reduced\",\"standard\",\"standard\",\"standard\",\"free/reduced\",\"standard\",\"standard\",\"free/reduced\",\"standard\",\"standard\",\"free/reduced\",\"standard\",\"standard\",\"standard\",\"standard\",\"standard\",\"standard\",\"free/reduced\",\"free/reduced\",\"standard\",\"standard\",\"free/reduced\",\"free/reduced\",\"free/reduced\",\"standard\",\"free/reduced\",\"standard\",\"standard\",\"free/reduced\",\"standard\",\"free/reduced\",\"free/reduced\",\"standard\",\"standard\",\"free/reduced\",\"standard\",\"free/reduced\",\"standard\",\"standard\",\"free/reduced\",\"standard\",\"free/reduced\",\"free/reduced\",\"standard\",\"free/reduced\",\"standard\",\"standard\",\"standard\",\"free/reduced\",\"free/reduced\",\"free/reduced\",\"standard\",\"standard\",\"free/reduced\",\"standard\",\"free/reduced\",\"standard\",\"standard\",\"standard\",\"standard\",\"standard\",\"standard\",\"standard\",\"free/reduced\",\"free/reduced\",\"standard\",\"standard\",\"free/reduced\",\"standard\",\"standard\",\"standard\",\"standard\",\"free/reduced\",\"free/reduced\",\"free/reduced\",\"standard\",\"standard\",\"standard\",\"standard\",\"free/reduced\",\"free/reduced\",\"free/reduced\",\"free/reduced\",\"standard\",\"free/reduced\",\"standard\",\"standard\",\"standard\",\"standard\",\"standard\",\"standard\",\"free/reduced\",\"free/reduced\",\"standard\",\"standard\",\"standard\",\"standard\",\"standard\",\"free/reduced\",\"standard\",\"standard\",\"standard\",\"standard\",\"free/reduced\",\"standard\",\"free/reduced\",\"standard\",\"standard\",\"standard\",\"standard\",\"standard\",\"standard\",\"free/reduced\",\"free/reduced\",\"standard\",\"free/reduced\",\"standard\",\"standard\",\"standard\",\"standard\",\"free/reduced\",\"standard\",\"standard\",\"standard\",\"standard\",\"standard\",\"free/reduced\",\"free/reduced\",\"standard\",\"standard\",\"standard\",\"standard\",\"standard\",\"free/reduced\",\"standard\",\"standard\",\"standard\",\"free/reduced\",\"standard\",\"standard\",\"free/reduced\",\"free/reduced\",\"standard\",\"standard\",\"standard\",\"standard\",\"standard\",\"free/reduced\",\"standard\",\"free/reduced\",\"standard\",\"standard\",\"standard\",\"standard\",\"standard\",\"standard\",\"standard\",\"free/reduced\",\"standard\",\"free/reduced\",\"free/reduced\",\"standard\",\"standard\",\"free/reduced\",\"standard\",\"free/reduced\",\"free/reduced\",\"standard\",\"standard\",\"free/reduced\",\"free/reduced\",\"standard\",\"standard\",\"standard\",\"free/reduced\",\"free/reduced\",\"free/reduced\",\"standard\",\"free/reduced\",\"standard\",\"standard\",\"standard\",\"standard\",\"standard\",\"free/reduced\",\"standard\",\"standard\",\"free/reduced\",\"standard\",\"free/reduced\",\"standard\",\"free/reduced\",\"free/reduced\",\"free/reduced\",\"free/reduced\",\"free/reduced\",\"free/reduced\",\"standard\",\"free/reduced\",\"standard\",\"standard\",\"standard\",\"free/reduced\",\"standard\",\"free/reduced\",\"standard\",\"free/reduced\",\"standard\",\"standard\",\"standard\",\"standard\",\"standard\",\"standard\",\"standard\",\"standard\",\"standard\",\"free/reduced\",\"standard\",\"standard\",\"standard\",\"standard\",\"standard\",\"standard\",\"free/reduced\",\"standard\",\"free/reduced\"],\"x0\":\" \",\"xaxis\":\"x\",\"y\":[44,75,39,67,52,43,70,86,46,63,53,80,72,55,65,38,82,79,57,54,66,57,82,48,68,42,75,49,58,72,34,55,61,37,56,63,56,41,38,22,81,45,54,63,34,36,71,50,82,62,67,74,47,90,64,49,47,74,92,56,73,67,74,74,82,40,70,75,48,41,56,69,47,78,75,66,93,69,68,47,61,60,64,74,52,49,51,74,78,75,49,65,65,68,45,79,62,52,65,51,69,42,78,62,76,79,27,56,81,75,70,56,73,75,54,64,66,42,78,84,77,67,51,80,66,43,69,71,74,53,49,72,52,77,78,68,41,61,42,76,73,57,42,46,82,88,76,77,68,70,57,80,60,43,68,50,75,81,52,64,69,81,44,57,68,65,78,69,62,19,77,61,35,53,81,69,43,52,67,67,57,66,76,52,61,61,78,58,60,53,61,71,72,41,62,95,71,75,59,67,56,41,57,54,43,63,85,78,60,67,69,68,67,62,54,34,86,65,53,54,59,55,66,53,64,73,51,82,73,60,80,42,72,49,47,48,68,55,45,62,65,76,66,72,67,68,61,46,71,56,57,82,66,72,54,66,54,77,73,43,52,52,57,50,49,59,60,58,68,58,71,86,68,80,80,64,69,65,88,64,40,66,62,92,46,45,47,67,70,92,53,52,54,50,64,15,48,51,90,62,63,91,83,84,68,56,52,86,99,63,46,46,70,65,80,64,74,51,60,53,64,61,85,73,63,63,61,77,50,78,60,60,54,68,68,73,44,83,59,87,65,36,52,79,90,84,72,80,59,42,41,71,57,37,43,44,59,84,73,55,72,47,74,71,68,86,68,65,75,53,52,72,77,86,59,60,57,49,74,60,82,79,61,69,77,70,54,68,73,74,69,51,36,49,76,87,76,51,58,53,58,45,57,53,51,76,84,85,50,69,67,61,55,65,46,72,38,91,88,52,41,72,51,47,78,82,66,84,54,66,44,59,48,75,27,63,89,77,51,70,48,100,91,67,66,69,60,52,44,70,62,73,74,90,58,53,85,69,72,64,61,80,52,71,54,62,81,71,58,64,60,69,60,58,48,78,86,54,76,75,62,55],\"y0\":\" \",\"yaxis\":\"y\",\"type\":\"box\"}],                        {\"template\":{\"data\":{\"bar\":[{\"error_x\":{\"color\":\"#2a3f5f\"},\"error_y\":{\"color\":\"#2a3f5f\"},\"marker\":{\"line\":{\"color\":\"#E5ECF6\",\"width\":0.5},\"pattern\":{\"fillmode\":\"overlay\",\"size\":10,\"solidity\":0.2}},\"type\":\"bar\"}],\"barpolar\":[{\"marker\":{\"line\":{\"color\":\"#E5ECF6\",\"width\":0.5},\"pattern\":{\"fillmode\":\"overlay\",\"size\":10,\"solidity\":0.2}},\"type\":\"barpolar\"}],\"carpet\":[{\"aaxis\":{\"endlinecolor\":\"#2a3f5f\",\"gridcolor\":\"white\",\"linecolor\":\"white\",\"minorgridcolor\":\"white\",\"startlinecolor\":\"#2a3f5f\"},\"baxis\":{\"endlinecolor\":\"#2a3f5f\",\"gridcolor\":\"white\",\"linecolor\":\"white\",\"minorgridcolor\":\"white\",\"startlinecolor\":\"#2a3f5f\"},\"type\":\"carpet\"}],\"choropleth\":[{\"colorbar\":{\"outlinewidth\":0,\"ticks\":\"\"},\"type\":\"choropleth\"}],\"contour\":[{\"colorbar\":{\"outlinewidth\":0,\"ticks\":\"\"},\"colorscale\":[[0.0,\"#0d0887\"],[0.1111111111111111,\"#46039f\"],[0.2222222222222222,\"#7201a8\"],[0.3333333333333333,\"#9c179e\"],[0.4444444444444444,\"#bd3786\"],[0.5555555555555556,\"#d8576b\"],[0.6666666666666666,\"#ed7953\"],[0.7777777777777778,\"#fb9f3a\"],[0.8888888888888888,\"#fdca26\"],[1.0,\"#f0f921\"]],\"type\":\"contour\"}],\"contourcarpet\":[{\"colorbar\":{\"outlinewidth\":0,\"ticks\":\"\"},\"type\":\"contourcarpet\"}],\"heatmap\":[{\"colorbar\":{\"outlinewidth\":0,\"ticks\":\"\"},\"colorscale\":[[0.0,\"#0d0887\"],[0.1111111111111111,\"#46039f\"],[0.2222222222222222,\"#7201a8\"],[0.3333333333333333,\"#9c179e\"],[0.4444444444444444,\"#bd3786\"],[0.5555555555555556,\"#d8576b\"],[0.6666666666666666,\"#ed7953\"],[0.7777777777777778,\"#fb9f3a\"],[0.8888888888888888,\"#fdca26\"],[1.0,\"#f0f921\"]],\"type\":\"heatmap\"}],\"heatmapgl\":[{\"colorbar\":{\"outlinewidth\":0,\"ticks\":\"\"},\"colorscale\":[[0.0,\"#0d0887\"],[0.1111111111111111,\"#46039f\"],[0.2222222222222222,\"#7201a8\"],[0.3333333333333333,\"#9c179e\"],[0.4444444444444444,\"#bd3786\"],[0.5555555555555556,\"#d8576b\"],[0.6666666666666666,\"#ed7953\"],[0.7777777777777778,\"#fb9f3a\"],[0.8888888888888888,\"#fdca26\"],[1.0,\"#f0f921\"]],\"type\":\"heatmapgl\"}],\"histogram\":[{\"marker\":{\"pattern\":{\"fillmode\":\"overlay\",\"size\":10,\"solidity\":0.2}},\"type\":\"histogram\"}],\"histogram2d\":[{\"colorbar\":{\"outlinewidth\":0,\"ticks\":\"\"},\"colorscale\":[[0.0,\"#0d0887\"],[0.1111111111111111,\"#46039f\"],[0.2222222222222222,\"#7201a8\"],[0.3333333333333333,\"#9c179e\"],[0.4444444444444444,\"#bd3786\"],[0.5555555555555556,\"#d8576b\"],[0.6666666666666666,\"#ed7953\"],[0.7777777777777778,\"#fb9f3a\"],[0.8888888888888888,\"#fdca26\"],[1.0,\"#f0f921\"]],\"type\":\"histogram2d\"}],\"histogram2dcontour\":[{\"colorbar\":{\"outlinewidth\":0,\"ticks\":\"\"},\"colorscale\":[[0.0,\"#0d0887\"],[0.1111111111111111,\"#46039f\"],[0.2222222222222222,\"#7201a8\"],[0.3333333333333333,\"#9c179e\"],[0.4444444444444444,\"#bd3786\"],[0.5555555555555556,\"#d8576b\"],[0.6666666666666666,\"#ed7953\"],[0.7777777777777778,\"#fb9f3a\"],[0.8888888888888888,\"#fdca26\"],[1.0,\"#f0f921\"]],\"type\":\"histogram2dcontour\"}],\"mesh3d\":[{\"colorbar\":{\"outlinewidth\":0,\"ticks\":\"\"},\"type\":\"mesh3d\"}],\"parcoords\":[{\"line\":{\"colorbar\":{\"outlinewidth\":0,\"ticks\":\"\"}},\"type\":\"parcoords\"}],\"pie\":[{\"automargin\":true,\"type\":\"pie\"}],\"scatter\":[{\"marker\":{\"colorbar\":{\"outlinewidth\":0,\"ticks\":\"\"}},\"type\":\"scatter\"}],\"scatter3d\":[{\"line\":{\"colorbar\":{\"outlinewidth\":0,\"ticks\":\"\"}},\"marker\":{\"colorbar\":{\"outlinewidth\":0,\"ticks\":\"\"}},\"type\":\"scatter3d\"}],\"scattercarpet\":[{\"marker\":{\"colorbar\":{\"outlinewidth\":0,\"ticks\":\"\"}},\"type\":\"scattercarpet\"}],\"scattergeo\":[{\"marker\":{\"colorbar\":{\"outlinewidth\":0,\"ticks\":\"\"}},\"type\":\"scattergeo\"}],\"scattergl\":[{\"marker\":{\"colorbar\":{\"outlinewidth\":0,\"ticks\":\"\"}},\"type\":\"scattergl\"}],\"scattermapbox\":[{\"marker\":{\"colorbar\":{\"outlinewidth\":0,\"ticks\":\"\"}},\"type\":\"scattermapbox\"}],\"scatterpolar\":[{\"marker\":{\"colorbar\":{\"outlinewidth\":0,\"ticks\":\"\"}},\"type\":\"scatterpolar\"}],\"scatterpolargl\":[{\"marker\":{\"colorbar\":{\"outlinewidth\":0,\"ticks\":\"\"}},\"type\":\"scatterpolargl\"}],\"scatterternary\":[{\"marker\":{\"colorbar\":{\"outlinewidth\":0,\"ticks\":\"\"}},\"type\":\"scatterternary\"}],\"surface\":[{\"colorbar\":{\"outlinewidth\":0,\"ticks\":\"\"},\"colorscale\":[[0.0,\"#0d0887\"],[0.1111111111111111,\"#46039f\"],[0.2222222222222222,\"#7201a8\"],[0.3333333333333333,\"#9c179e\"],[0.4444444444444444,\"#bd3786\"],[0.5555555555555556,\"#d8576b\"],[0.6666666666666666,\"#ed7953\"],[0.7777777777777778,\"#fb9f3a\"],[0.8888888888888888,\"#fdca26\"],[1.0,\"#f0f921\"]],\"type\":\"surface\"}],\"table\":[{\"cells\":{\"fill\":{\"color\":\"#EBF0F8\"},\"line\":{\"color\":\"white\"}},\"header\":{\"fill\":{\"color\":\"#C8D4E3\"},\"line\":{\"color\":\"white\"}},\"type\":\"table\"}]},\"layout\":{\"annotationdefaults\":{\"arrowcolor\":\"#2a3f5f\",\"arrowhead\":0,\"arrowwidth\":1},\"autotypenumbers\":\"strict\",\"coloraxis\":{\"colorbar\":{\"outlinewidth\":0,\"ticks\":\"\"}},\"colorscale\":{\"diverging\":[[0,\"#8e0152\"],[0.1,\"#c51b7d\"],[0.2,\"#de77ae\"],[0.3,\"#f1b6da\"],[0.4,\"#fde0ef\"],[0.5,\"#f7f7f7\"],[0.6,\"#e6f5d0\"],[0.7,\"#b8e186\"],[0.8,\"#7fbc41\"],[0.9,\"#4d9221\"],[1,\"#276419\"]],\"sequential\":[[0.0,\"#0d0887\"],[0.1111111111111111,\"#46039f\"],[0.2222222222222222,\"#7201a8\"],[0.3333333333333333,\"#9c179e\"],[0.4444444444444444,\"#bd3786\"],[0.5555555555555556,\"#d8576b\"],[0.6666666666666666,\"#ed7953\"],[0.7777777777777778,\"#fb9f3a\"],[0.8888888888888888,\"#fdca26\"],[1.0,\"#f0f921\"]],\"sequentialminus\":[[0.0,\"#0d0887\"],[0.1111111111111111,\"#46039f\"],[0.2222222222222222,\"#7201a8\"],[0.3333333333333333,\"#9c179e\"],[0.4444444444444444,\"#bd3786\"],[0.5555555555555556,\"#d8576b\"],[0.6666666666666666,\"#ed7953\"],[0.7777777777777778,\"#fb9f3a\"],[0.8888888888888888,\"#fdca26\"],[1.0,\"#f0f921\"]]},\"colorway\":[\"#636efa\",\"#EF553B\",\"#00cc96\",\"#ab63fa\",\"#FFA15A\",\"#19d3f3\",\"#FF6692\",\"#B6E880\",\"#FF97FF\",\"#FECB52\"],\"font\":{\"color\":\"#2a3f5f\"},\"geo\":{\"bgcolor\":\"white\",\"lakecolor\":\"white\",\"landcolor\":\"#E5ECF6\",\"showlakes\":true,\"showland\":true,\"subunitcolor\":\"white\"},\"hoverlabel\":{\"align\":\"left\"},\"hovermode\":\"closest\",\"mapbox\":{\"style\":\"light\"},\"paper_bgcolor\":\"white\",\"plot_bgcolor\":\"#E5ECF6\",\"polar\":{\"angularaxis\":{\"gridcolor\":\"white\",\"linecolor\":\"white\",\"ticks\":\"\"},\"bgcolor\":\"#E5ECF6\",\"radialaxis\":{\"gridcolor\":\"white\",\"linecolor\":\"white\",\"ticks\":\"\"}},\"scene\":{\"xaxis\":{\"backgroundcolor\":\"#E5ECF6\",\"gridcolor\":\"white\",\"gridwidth\":2,\"linecolor\":\"white\",\"showbackground\":true,\"ticks\":\"\",\"zerolinecolor\":\"white\"},\"yaxis\":{\"backgroundcolor\":\"#E5ECF6\",\"gridcolor\":\"white\",\"gridwidth\":2,\"linecolor\":\"white\",\"showbackground\":true,\"ticks\":\"\",\"zerolinecolor\":\"white\"},\"zaxis\":{\"backgroundcolor\":\"#E5ECF6\",\"gridcolor\":\"white\",\"gridwidth\":2,\"linecolor\":\"white\",\"showbackground\":true,\"ticks\":\"\",\"zerolinecolor\":\"white\"}},\"shapedefaults\":{\"line\":{\"color\":\"#2a3f5f\"}},\"ternary\":{\"aaxis\":{\"gridcolor\":\"white\",\"linecolor\":\"white\",\"ticks\":\"\"},\"baxis\":{\"gridcolor\":\"white\",\"linecolor\":\"white\",\"ticks\":\"\"},\"bgcolor\":\"#E5ECF6\",\"caxis\":{\"gridcolor\":\"white\",\"linecolor\":\"white\",\"ticks\":\"\"}},\"title\":{\"x\":0.05},\"xaxis\":{\"automargin\":true,\"gridcolor\":\"white\",\"linecolor\":\"white\",\"ticks\":\"\",\"title\":{\"standoff\":15},\"zerolinecolor\":\"white\",\"zerolinewidth\":2},\"yaxis\":{\"automargin\":true,\"gridcolor\":\"white\",\"linecolor\":\"white\",\"ticks\":\"\",\"title\":{\"standoff\":15},\"zerolinecolor\":\"white\",\"zerolinewidth\":2}}},\"xaxis\":{\"anchor\":\"y\",\"domain\":[0.0,1.0],\"title\":{\"text\":\"lunch\"}},\"yaxis\":{\"anchor\":\"x\",\"domain\":[0.0,1.0],\"title\":{\"text\":\"writing score\"}},\"legend\":{\"title\":{\"text\":\"gender\"},\"tracegroupgap\":0},\"margin\":{\"t\":60},\"boxmode\":\"group\"},                        {\"responsive\": true}                    ).then(function(){\n",
       "                            \n",
       "var gd = document.getElementById('4d76c180-8f85-4ace-b396-06fa89ab37ce');\n",
       "var x = new MutationObserver(function (mutations, observer) {{\n",
       "        var display = window.getComputedStyle(gd).display;\n",
       "        if (!display || display === 'none') {{\n",
       "            console.log([gd, 'removed!']);\n",
       "            Plotly.purge(gd);\n",
       "            observer.disconnect();\n",
       "        }}\n",
       "}});\n",
       "\n",
       "// Listen for the removal of the full notebook cells\n",
       "var notebookContainer = gd.closest('#notebook-container');\n",
       "if (notebookContainer) {{\n",
       "    x.observe(notebookContainer, {childList: true});\n",
       "}}\n",
       "\n",
       "// Listen for the clearing of the current output cell\n",
       "var outputEl = gd.closest('.output');\n",
       "if (outputEl) {{\n",
       "    x.observe(outputEl, {childList: true});\n",
       "}}\n",
       "\n",
       "                        })                };                });            </script>        </div>"
      ]
     },
     "metadata": {},
     "output_type": "display_data"
    }
   ],
   "source": [
    "# Let's check if Lunch affect student writing score\n",
    "\n",
    "fig = px.box(data, x=\"lunch\", y='writing score', color=\"gender\")\n",
    "fig.show()"
   ]
  },
  {
   "cell_type": "markdown",
   "id": "5ae25f35",
   "metadata": {},
   "source": [
    "**So, clearly lunch is effective way to have a good score. Of course good nutrients will help. ;)**"
   ]
  },
  {
   "cell_type": "code",
   "execution_count": 31,
   "id": "1c5b8b85",
   "metadata": {
    "ExecuteTime": {
     "end_time": "2022-07-15T15:47:58.472373Z",
     "start_time": "2022-07-15T15:47:58.457389Z"
    }
   },
   "outputs": [],
   "source": [
    "# Let's consider minimum passing marks to for score analysis.\n",
    "min_passmarks = 40"
   ]
  },
  {
   "cell_type": "code",
   "execution_count": 32,
   "id": "014d767b",
   "metadata": {
    "ExecuteTime": {
     "end_time": "2022-07-15T15:47:58.630958Z",
     "start_time": "2022-07-15T15:47:58.473387Z"
    }
   },
   "outputs": [
    {
     "data": {
      "application/vnd.plotly.v1+json": {
       "config": {
        "plotlyServerURL": "https://plot.ly"
       },
       "data": [
        {
         "alignmentgroup": "True",
         "bingroup": "x",
         "hovertemplate": "test preparation course=%{x}<br>count=%{y}<extra></extra>",
         "legendgroup": "none",
         "marker": {
          "color": "#636efa",
          "pattern": {
           "shape": ""
          }
         },
         "name": "none",
         "offsetgroup": "none",
         "orientation": "v",
         "showlegend": true,
         "textposition": "outside",
         "texttemplate": "%{value}",
         "type": "histogram",
         "x": [
          "none",
          "none",
          "none",
          "none",
          "none",
          "none",
          "none",
          "none",
          "none",
          "none",
          "none",
          "none",
          "none",
          "none",
          "none",
          "none",
          "none",
          "none",
          "none",
          "none",
          "none",
          "none",
          "none",
          "none",
          "none",
          "none",
          "none",
          "none",
          "none",
          "none",
          "none",
          "none",
          "none",
          "none",
          "none",
          "none",
          "none",
          "none",
          "none",
          "none",
          "none",
          "none",
          "none",
          "none",
          "none",
          "none",
          "none",
          "none",
          "none",
          "none",
          "none",
          "none",
          "none",
          "none",
          "none",
          "none",
          "none",
          "none",
          "none",
          "none",
          "none",
          "none",
          "none",
          "none",
          "none",
          "none",
          "none",
          "none",
          "none",
          "none",
          "none",
          "none",
          "none",
          "none",
          "none",
          "none",
          "none",
          "none",
          "none",
          "none",
          "none",
          "none",
          "none",
          "none",
          "none",
          "none",
          "none",
          "none",
          "none",
          "none",
          "none",
          "none",
          "none",
          "none",
          "none",
          "none",
          "none",
          "none",
          "none",
          "none",
          "none",
          "none",
          "none",
          "none",
          "none",
          "none",
          "none",
          "none",
          "none",
          "none",
          "none",
          "none",
          "none",
          "none",
          "none",
          "none",
          "none",
          "none",
          "none",
          "none",
          "none",
          "none",
          "none",
          "none",
          "none",
          "none",
          "none",
          "none",
          "none",
          "none",
          "none",
          "none",
          "none",
          "none",
          "none",
          "none",
          "none",
          "none",
          "none",
          "none",
          "none",
          "none",
          "none",
          "none",
          "none",
          "none",
          "none",
          "none",
          "none",
          "none",
          "none",
          "none",
          "none",
          "none",
          "none",
          "none",
          "none",
          "none",
          "none",
          "none",
          "none",
          "none",
          "none",
          "none",
          "none",
          "none",
          "none",
          "none",
          "none",
          "none",
          "none",
          "none",
          "none",
          "none",
          "none",
          "none",
          "none",
          "none",
          "none",
          "none",
          "none",
          "none",
          "none",
          "none",
          "none",
          "none",
          "none",
          "none",
          "none",
          "none",
          "none",
          "none",
          "none",
          "none",
          "none",
          "none",
          "none",
          "none",
          "none",
          "none",
          "none",
          "none",
          "none",
          "none",
          "none",
          "none",
          "none",
          "none",
          "none",
          "none",
          "none",
          "none",
          "none",
          "none",
          "none",
          "none",
          "none",
          "none",
          "none",
          "none",
          "none",
          "none",
          "none",
          "none",
          "none",
          "none",
          "none",
          "none",
          "none",
          "none",
          "none",
          "none",
          "none",
          "none",
          "none",
          "none",
          "none",
          "none",
          "none",
          "none",
          "none",
          "none",
          "none",
          "none",
          "none",
          "none",
          "none",
          "none",
          "none",
          "none",
          "none",
          "none",
          "none",
          "none",
          "none",
          "none",
          "none",
          "none",
          "none",
          "none",
          "none",
          "none",
          "none",
          "none",
          "none",
          "none",
          "none",
          "none",
          "none",
          "none",
          "none",
          "none",
          "none",
          "none",
          "none",
          "none",
          "none",
          "none",
          "none",
          "none",
          "none",
          "none",
          "none",
          "none",
          "none",
          "none",
          "none",
          "none",
          "none",
          "none",
          "none",
          "none",
          "none",
          "none",
          "none",
          "none",
          "none",
          "none",
          "none",
          "none",
          "none",
          "none",
          "none",
          "none",
          "none",
          "none",
          "none",
          "none",
          "none",
          "none",
          "none",
          "none",
          "none",
          "none",
          "none",
          "none",
          "none",
          "none",
          "none",
          "none",
          "none",
          "none",
          "none",
          "none",
          "none",
          "none",
          "none",
          "none",
          "none",
          "none",
          "none",
          "none",
          "none",
          "none",
          "none",
          "none",
          "none",
          "none",
          "none",
          "none",
          "none",
          "none",
          "none",
          "none",
          "none",
          "none",
          "none",
          "none",
          "none",
          "none",
          "none",
          "none",
          "none",
          "none",
          "none",
          "none",
          "none",
          "none",
          "none",
          "none",
          "none",
          "none",
          "none",
          "none",
          "none",
          "none",
          "none",
          "none",
          "none",
          "none",
          "none",
          "none",
          "none",
          "none",
          "none",
          "none",
          "none",
          "none",
          "none",
          "none",
          "none",
          "none",
          "none",
          "none",
          "none",
          "none",
          "none",
          "none",
          "none",
          "none",
          "none",
          "none",
          "none",
          "none",
          "none",
          "none",
          "none",
          "none",
          "none",
          "none",
          "none",
          "none",
          "none",
          "none",
          "none",
          "none",
          "none",
          "none",
          "none",
          "none",
          "none",
          "none",
          "none",
          "none",
          "none",
          "none",
          "none",
          "none",
          "none",
          "none",
          "none",
          "none",
          "none",
          "none",
          "none",
          "none",
          "none",
          "none",
          "none",
          "none",
          "none",
          "none",
          "none",
          "none",
          "none",
          "none",
          "none",
          "none",
          "none",
          "none",
          "none",
          "none",
          "none",
          "none",
          "none",
          "none",
          "none",
          "none",
          "none",
          "none",
          "none",
          "none",
          "none",
          "none",
          "none",
          "none",
          "none",
          "none",
          "none",
          "none",
          "none",
          "none",
          "none",
          "none",
          "none",
          "none",
          "none",
          "none",
          "none",
          "none",
          "none",
          "none",
          "none",
          "none",
          "none",
          "none",
          "none",
          "none",
          "none",
          "none",
          "none",
          "none",
          "none",
          "none",
          "none",
          "none",
          "none",
          "none",
          "none",
          "none",
          "none",
          "none",
          "none",
          "none",
          "none",
          "none",
          "none",
          "none",
          "none",
          "none",
          "none",
          "none",
          "none",
          "none",
          "none",
          "none",
          "none",
          "none",
          "none",
          "none",
          "none",
          "none",
          "none",
          "none",
          "none",
          "none",
          "none",
          "none",
          "none",
          "none",
          "none",
          "none",
          "none",
          "none",
          "none",
          "none",
          "none",
          "none",
          "none",
          "none",
          "none",
          "none",
          "none",
          "none",
          "none",
          "none",
          "none",
          "none",
          "none",
          "none",
          "none",
          "none",
          "none",
          "none",
          "none",
          "none",
          "none",
          "none",
          "none",
          "none",
          "none",
          "none",
          "none",
          "none",
          "none",
          "none",
          "none",
          "none",
          "none",
          "none",
          "none",
          "none",
          "none",
          "none",
          "none",
          "none",
          "none",
          "none",
          "none",
          "none",
          "none",
          "none",
          "none",
          "none",
          "none",
          "none",
          "none",
          "none",
          "none",
          "none",
          "none",
          "none",
          "none",
          "none",
          "none",
          "none",
          "none",
          "none",
          "none",
          "none",
          "none",
          "none",
          "none",
          "none",
          "none",
          "none",
          "none",
          "none",
          "none",
          "none",
          "none",
          "none",
          "none",
          "none",
          "none",
          "none",
          "none",
          "none",
          "none",
          "none",
          "none",
          "none",
          "none",
          "none",
          "none",
          "none",
          "none",
          "none",
          "none",
          "none",
          "none",
          "none",
          "none",
          "none",
          "none",
          "none",
          "none",
          "none",
          "none",
          "none",
          "none",
          "none",
          "none",
          "none",
          "none",
          "none",
          "none",
          "none",
          "none",
          "none",
          "none",
          "none"
         ],
         "xaxis": "x",
         "yaxis": "y"
        },
        {
         "alignmentgroup": "True",
         "bingroup": "x",
         "hovertemplate": "test preparation course=%{x}<br>count=%{y}<extra></extra>",
         "legendgroup": "completed",
         "marker": {
          "color": "#EF553B",
          "pattern": {
           "shape": ""
          }
         },
         "name": "completed",
         "offsetgroup": "completed",
         "orientation": "v",
         "showlegend": true,
         "textposition": "outside",
         "texttemplate": "%{value}",
         "type": "histogram",
         "x": [
          "completed",
          "completed",
          "completed",
          "completed",
          "completed",
          "completed",
          "completed",
          "completed",
          "completed",
          "completed",
          "completed",
          "completed",
          "completed",
          "completed",
          "completed",
          "completed",
          "completed",
          "completed",
          "completed",
          "completed",
          "completed",
          "completed",
          "completed",
          "completed",
          "completed",
          "completed",
          "completed",
          "completed",
          "completed",
          "completed",
          "completed",
          "completed",
          "completed",
          "completed",
          "completed",
          "completed",
          "completed",
          "completed",
          "completed",
          "completed",
          "completed",
          "completed",
          "completed",
          "completed",
          "completed",
          "completed",
          "completed",
          "completed",
          "completed",
          "completed",
          "completed",
          "completed",
          "completed",
          "completed",
          "completed",
          "completed",
          "completed",
          "completed",
          "completed",
          "completed",
          "completed",
          "completed",
          "completed",
          "completed",
          "completed",
          "completed",
          "completed",
          "completed",
          "completed",
          "completed",
          "completed",
          "completed",
          "completed",
          "completed",
          "completed",
          "completed",
          "completed",
          "completed",
          "completed",
          "completed",
          "completed",
          "completed",
          "completed",
          "completed",
          "completed",
          "completed",
          "completed",
          "completed",
          "completed",
          "completed",
          "completed",
          "completed",
          "completed",
          "completed",
          "completed",
          "completed",
          "completed",
          "completed",
          "completed",
          "completed",
          "completed",
          "completed",
          "completed",
          "completed",
          "completed",
          "completed",
          "completed",
          "completed",
          "completed",
          "completed",
          "completed",
          "completed",
          "completed",
          "completed",
          "completed",
          "completed",
          "completed",
          "completed",
          "completed",
          "completed",
          "completed",
          "completed",
          "completed",
          "completed",
          "completed",
          "completed",
          "completed",
          "completed",
          "completed",
          "completed",
          "completed",
          "completed",
          "completed",
          "completed",
          "completed",
          "completed",
          "completed",
          "completed",
          "completed",
          "completed",
          "completed",
          "completed",
          "completed",
          "completed",
          "completed",
          "completed",
          "completed",
          "completed",
          "completed",
          "completed",
          "completed",
          "completed",
          "completed",
          "completed",
          "completed",
          "completed",
          "completed",
          "completed",
          "completed",
          "completed",
          "completed",
          "completed",
          "completed",
          "completed",
          "completed",
          "completed",
          "completed",
          "completed",
          "completed",
          "completed",
          "completed",
          "completed",
          "completed",
          "completed",
          "completed",
          "completed",
          "completed",
          "completed",
          "completed",
          "completed",
          "completed",
          "completed",
          "completed",
          "completed",
          "completed",
          "completed",
          "completed",
          "completed",
          "completed",
          "completed",
          "completed",
          "completed",
          "completed",
          "completed",
          "completed",
          "completed",
          "completed",
          "completed",
          "completed",
          "completed",
          "completed",
          "completed",
          "completed",
          "completed",
          "completed",
          "completed",
          "completed",
          "completed",
          "completed",
          "completed",
          "completed",
          "completed",
          "completed",
          "completed",
          "completed",
          "completed",
          "completed",
          "completed",
          "completed",
          "completed",
          "completed",
          "completed",
          "completed",
          "completed",
          "completed",
          "completed",
          "completed",
          "completed",
          "completed",
          "completed",
          "completed",
          "completed",
          "completed",
          "completed",
          "completed",
          "completed",
          "completed",
          "completed",
          "completed",
          "completed",
          "completed",
          "completed",
          "completed",
          "completed",
          "completed",
          "completed",
          "completed",
          "completed",
          "completed",
          "completed",
          "completed",
          "completed",
          "completed",
          "completed",
          "completed",
          "completed",
          "completed",
          "completed",
          "completed",
          "completed",
          "completed",
          "completed",
          "completed",
          "completed",
          "completed",
          "completed",
          "completed",
          "completed",
          "completed",
          "completed",
          "completed",
          "completed",
          "completed",
          "completed",
          "completed",
          "completed",
          "completed",
          "completed",
          "completed",
          "completed",
          "completed",
          "completed",
          "completed",
          "completed",
          "completed",
          "completed",
          "completed",
          "completed",
          "completed",
          "completed",
          "completed",
          "completed",
          "completed",
          "completed",
          "completed",
          "completed",
          "completed",
          "completed",
          "completed",
          "completed",
          "completed",
          "completed",
          "completed",
          "completed",
          "completed",
          "completed",
          "completed",
          "completed",
          "completed",
          "completed",
          "completed",
          "completed",
          "completed",
          "completed",
          "completed",
          "completed",
          "completed",
          "completed",
          "completed",
          "completed",
          "completed",
          "completed",
          "completed",
          "completed",
          "completed",
          "completed",
          "completed",
          "completed",
          "completed",
          "completed",
          "completed",
          "completed",
          "completed",
          "completed",
          "completed",
          "completed",
          "completed",
          "completed",
          "completed",
          "completed",
          "completed",
          "completed",
          "completed",
          "completed",
          "completed",
          "completed",
          "completed",
          "completed",
          "completed",
          "completed",
          "completed",
          "completed",
          "completed",
          "completed",
          "completed",
          "completed",
          "completed",
          "completed"
         ],
         "xaxis": "x",
         "yaxis": "y"
        }
       ],
       "layout": {
        "barmode": "relative",
        "legend": {
         "title": {
          "text": "test preparation course"
         },
         "tracegroupgap": 0
        },
        "template": {
         "data": {
          "bar": [
           {
            "error_x": {
             "color": "#2a3f5f"
            },
            "error_y": {
             "color": "#2a3f5f"
            },
            "marker": {
             "line": {
              "color": "#E5ECF6",
              "width": 0.5
             },
             "pattern": {
              "fillmode": "overlay",
              "size": 10,
              "solidity": 0.2
             }
            },
            "type": "bar"
           }
          ],
          "barpolar": [
           {
            "marker": {
             "line": {
              "color": "#E5ECF6",
              "width": 0.5
             },
             "pattern": {
              "fillmode": "overlay",
              "size": 10,
              "solidity": 0.2
             }
            },
            "type": "barpolar"
           }
          ],
          "carpet": [
           {
            "aaxis": {
             "endlinecolor": "#2a3f5f",
             "gridcolor": "white",
             "linecolor": "white",
             "minorgridcolor": "white",
             "startlinecolor": "#2a3f5f"
            },
            "baxis": {
             "endlinecolor": "#2a3f5f",
             "gridcolor": "white",
             "linecolor": "white",
             "minorgridcolor": "white",
             "startlinecolor": "#2a3f5f"
            },
            "type": "carpet"
           }
          ],
          "choropleth": [
           {
            "colorbar": {
             "outlinewidth": 0,
             "ticks": ""
            },
            "type": "choropleth"
           }
          ],
          "contour": [
           {
            "colorbar": {
             "outlinewidth": 0,
             "ticks": ""
            },
            "colorscale": [
             [
              0,
              "#0d0887"
             ],
             [
              0.1111111111111111,
              "#46039f"
             ],
             [
              0.2222222222222222,
              "#7201a8"
             ],
             [
              0.3333333333333333,
              "#9c179e"
             ],
             [
              0.4444444444444444,
              "#bd3786"
             ],
             [
              0.5555555555555556,
              "#d8576b"
             ],
             [
              0.6666666666666666,
              "#ed7953"
             ],
             [
              0.7777777777777778,
              "#fb9f3a"
             ],
             [
              0.8888888888888888,
              "#fdca26"
             ],
             [
              1,
              "#f0f921"
             ]
            ],
            "type": "contour"
           }
          ],
          "contourcarpet": [
           {
            "colorbar": {
             "outlinewidth": 0,
             "ticks": ""
            },
            "type": "contourcarpet"
           }
          ],
          "heatmap": [
           {
            "colorbar": {
             "outlinewidth": 0,
             "ticks": ""
            },
            "colorscale": [
             [
              0,
              "#0d0887"
             ],
             [
              0.1111111111111111,
              "#46039f"
             ],
             [
              0.2222222222222222,
              "#7201a8"
             ],
             [
              0.3333333333333333,
              "#9c179e"
             ],
             [
              0.4444444444444444,
              "#bd3786"
             ],
             [
              0.5555555555555556,
              "#d8576b"
             ],
             [
              0.6666666666666666,
              "#ed7953"
             ],
             [
              0.7777777777777778,
              "#fb9f3a"
             ],
             [
              0.8888888888888888,
              "#fdca26"
             ],
             [
              1,
              "#f0f921"
             ]
            ],
            "type": "heatmap"
           }
          ],
          "heatmapgl": [
           {
            "colorbar": {
             "outlinewidth": 0,
             "ticks": ""
            },
            "colorscale": [
             [
              0,
              "#0d0887"
             ],
             [
              0.1111111111111111,
              "#46039f"
             ],
             [
              0.2222222222222222,
              "#7201a8"
             ],
             [
              0.3333333333333333,
              "#9c179e"
             ],
             [
              0.4444444444444444,
              "#bd3786"
             ],
             [
              0.5555555555555556,
              "#d8576b"
             ],
             [
              0.6666666666666666,
              "#ed7953"
             ],
             [
              0.7777777777777778,
              "#fb9f3a"
             ],
             [
              0.8888888888888888,
              "#fdca26"
             ],
             [
              1,
              "#f0f921"
             ]
            ],
            "type": "heatmapgl"
           }
          ],
          "histogram": [
           {
            "marker": {
             "pattern": {
              "fillmode": "overlay",
              "size": 10,
              "solidity": 0.2
             }
            },
            "type": "histogram"
           }
          ],
          "histogram2d": [
           {
            "colorbar": {
             "outlinewidth": 0,
             "ticks": ""
            },
            "colorscale": [
             [
              0,
              "#0d0887"
             ],
             [
              0.1111111111111111,
              "#46039f"
             ],
             [
              0.2222222222222222,
              "#7201a8"
             ],
             [
              0.3333333333333333,
              "#9c179e"
             ],
             [
              0.4444444444444444,
              "#bd3786"
             ],
             [
              0.5555555555555556,
              "#d8576b"
             ],
             [
              0.6666666666666666,
              "#ed7953"
             ],
             [
              0.7777777777777778,
              "#fb9f3a"
             ],
             [
              0.8888888888888888,
              "#fdca26"
             ],
             [
              1,
              "#f0f921"
             ]
            ],
            "type": "histogram2d"
           }
          ],
          "histogram2dcontour": [
           {
            "colorbar": {
             "outlinewidth": 0,
             "ticks": ""
            },
            "colorscale": [
             [
              0,
              "#0d0887"
             ],
             [
              0.1111111111111111,
              "#46039f"
             ],
             [
              0.2222222222222222,
              "#7201a8"
             ],
             [
              0.3333333333333333,
              "#9c179e"
             ],
             [
              0.4444444444444444,
              "#bd3786"
             ],
             [
              0.5555555555555556,
              "#d8576b"
             ],
             [
              0.6666666666666666,
              "#ed7953"
             ],
             [
              0.7777777777777778,
              "#fb9f3a"
             ],
             [
              0.8888888888888888,
              "#fdca26"
             ],
             [
              1,
              "#f0f921"
             ]
            ],
            "type": "histogram2dcontour"
           }
          ],
          "mesh3d": [
           {
            "colorbar": {
             "outlinewidth": 0,
             "ticks": ""
            },
            "type": "mesh3d"
           }
          ],
          "parcoords": [
           {
            "line": {
             "colorbar": {
              "outlinewidth": 0,
              "ticks": ""
             }
            },
            "type": "parcoords"
           }
          ],
          "pie": [
           {
            "automargin": true,
            "type": "pie"
           }
          ],
          "scatter": [
           {
            "marker": {
             "colorbar": {
              "outlinewidth": 0,
              "ticks": ""
             }
            },
            "type": "scatter"
           }
          ],
          "scatter3d": [
           {
            "line": {
             "colorbar": {
              "outlinewidth": 0,
              "ticks": ""
             }
            },
            "marker": {
             "colorbar": {
              "outlinewidth": 0,
              "ticks": ""
             }
            },
            "type": "scatter3d"
           }
          ],
          "scattercarpet": [
           {
            "marker": {
             "colorbar": {
              "outlinewidth": 0,
              "ticks": ""
             }
            },
            "type": "scattercarpet"
           }
          ],
          "scattergeo": [
           {
            "marker": {
             "colorbar": {
              "outlinewidth": 0,
              "ticks": ""
             }
            },
            "type": "scattergeo"
           }
          ],
          "scattergl": [
           {
            "marker": {
             "colorbar": {
              "outlinewidth": 0,
              "ticks": ""
             }
            },
            "type": "scattergl"
           }
          ],
          "scattermapbox": [
           {
            "marker": {
             "colorbar": {
              "outlinewidth": 0,
              "ticks": ""
             }
            },
            "type": "scattermapbox"
           }
          ],
          "scatterpolar": [
           {
            "marker": {
             "colorbar": {
              "outlinewidth": 0,
              "ticks": ""
             }
            },
            "type": "scatterpolar"
           }
          ],
          "scatterpolargl": [
           {
            "marker": {
             "colorbar": {
              "outlinewidth": 0,
              "ticks": ""
             }
            },
            "type": "scatterpolargl"
           }
          ],
          "scatterternary": [
           {
            "marker": {
             "colorbar": {
              "outlinewidth": 0,
              "ticks": ""
             }
            },
            "type": "scatterternary"
           }
          ],
          "surface": [
           {
            "colorbar": {
             "outlinewidth": 0,
             "ticks": ""
            },
            "colorscale": [
             [
              0,
              "#0d0887"
             ],
             [
              0.1111111111111111,
              "#46039f"
             ],
             [
              0.2222222222222222,
              "#7201a8"
             ],
             [
              0.3333333333333333,
              "#9c179e"
             ],
             [
              0.4444444444444444,
              "#bd3786"
             ],
             [
              0.5555555555555556,
              "#d8576b"
             ],
             [
              0.6666666666666666,
              "#ed7953"
             ],
             [
              0.7777777777777778,
              "#fb9f3a"
             ],
             [
              0.8888888888888888,
              "#fdca26"
             ],
             [
              1,
              "#f0f921"
             ]
            ],
            "type": "surface"
           }
          ],
          "table": [
           {
            "cells": {
             "fill": {
              "color": "#EBF0F8"
             },
             "line": {
              "color": "white"
             }
            },
            "header": {
             "fill": {
              "color": "#C8D4E3"
             },
             "line": {
              "color": "white"
             }
            },
            "type": "table"
           }
          ]
         },
         "layout": {
          "annotationdefaults": {
           "arrowcolor": "#2a3f5f",
           "arrowhead": 0,
           "arrowwidth": 1
          },
          "autotypenumbers": "strict",
          "coloraxis": {
           "colorbar": {
            "outlinewidth": 0,
            "ticks": ""
           }
          },
          "colorscale": {
           "diverging": [
            [
             0,
             "#8e0152"
            ],
            [
             0.1,
             "#c51b7d"
            ],
            [
             0.2,
             "#de77ae"
            ],
            [
             0.3,
             "#f1b6da"
            ],
            [
             0.4,
             "#fde0ef"
            ],
            [
             0.5,
             "#f7f7f7"
            ],
            [
             0.6,
             "#e6f5d0"
            ],
            [
             0.7,
             "#b8e186"
            ],
            [
             0.8,
             "#7fbc41"
            ],
            [
             0.9,
             "#4d9221"
            ],
            [
             1,
             "#276419"
            ]
           ],
           "sequential": [
            [
             0,
             "#0d0887"
            ],
            [
             0.1111111111111111,
             "#46039f"
            ],
            [
             0.2222222222222222,
             "#7201a8"
            ],
            [
             0.3333333333333333,
             "#9c179e"
            ],
            [
             0.4444444444444444,
             "#bd3786"
            ],
            [
             0.5555555555555556,
             "#d8576b"
            ],
            [
             0.6666666666666666,
             "#ed7953"
            ],
            [
             0.7777777777777778,
             "#fb9f3a"
            ],
            [
             0.8888888888888888,
             "#fdca26"
            ],
            [
             1,
             "#f0f921"
            ]
           ],
           "sequentialminus": [
            [
             0,
             "#0d0887"
            ],
            [
             0.1111111111111111,
             "#46039f"
            ],
            [
             0.2222222222222222,
             "#7201a8"
            ],
            [
             0.3333333333333333,
             "#9c179e"
            ],
            [
             0.4444444444444444,
             "#bd3786"
            ],
            [
             0.5555555555555556,
             "#d8576b"
            ],
            [
             0.6666666666666666,
             "#ed7953"
            ],
            [
             0.7777777777777778,
             "#fb9f3a"
            ],
            [
             0.8888888888888888,
             "#fdca26"
            ],
            [
             1,
             "#f0f921"
            ]
           ]
          },
          "colorway": [
           "#636efa",
           "#EF553B",
           "#00cc96",
           "#ab63fa",
           "#FFA15A",
           "#19d3f3",
           "#FF6692",
           "#B6E880",
           "#FF97FF",
           "#FECB52"
          ],
          "font": {
           "color": "#2a3f5f"
          },
          "geo": {
           "bgcolor": "white",
           "lakecolor": "white",
           "landcolor": "#E5ECF6",
           "showlakes": true,
           "showland": true,
           "subunitcolor": "white"
          },
          "hoverlabel": {
           "align": "left"
          },
          "hovermode": "closest",
          "mapbox": {
           "style": "light"
          },
          "paper_bgcolor": "white",
          "plot_bgcolor": "#E5ECF6",
          "polar": {
           "angularaxis": {
            "gridcolor": "white",
            "linecolor": "white",
            "ticks": ""
           },
           "bgcolor": "#E5ECF6",
           "radialaxis": {
            "gridcolor": "white",
            "linecolor": "white",
            "ticks": ""
           }
          },
          "scene": {
           "xaxis": {
            "backgroundcolor": "#E5ECF6",
            "gridcolor": "white",
            "gridwidth": 2,
            "linecolor": "white",
            "showbackground": true,
            "ticks": "",
            "zerolinecolor": "white"
           },
           "yaxis": {
            "backgroundcolor": "#E5ECF6",
            "gridcolor": "white",
            "gridwidth": 2,
            "linecolor": "white",
            "showbackground": true,
            "ticks": "",
            "zerolinecolor": "white"
           },
           "zaxis": {
            "backgroundcolor": "#E5ECF6",
            "gridcolor": "white",
            "gridwidth": 2,
            "linecolor": "white",
            "showbackground": true,
            "ticks": "",
            "zerolinecolor": "white"
           }
          },
          "shapedefaults": {
           "line": {
            "color": "#2a3f5f"
           }
          },
          "ternary": {
           "aaxis": {
            "gridcolor": "white",
            "linecolor": "white",
            "ticks": ""
           },
           "baxis": {
            "gridcolor": "white",
            "linecolor": "white",
            "ticks": ""
           },
           "bgcolor": "#E5ECF6",
           "caxis": {
            "gridcolor": "white",
            "linecolor": "white",
            "ticks": ""
           }
          },
          "title": {
           "x": 0.05
          },
          "xaxis": {
           "automargin": true,
           "gridcolor": "white",
           "linecolor": "white",
           "ticks": "",
           "title": {
            "standoff": 15
           },
           "zerolinecolor": "white",
           "zerolinewidth": 2
          },
          "yaxis": {
           "automargin": true,
           "gridcolor": "white",
           "linecolor": "white",
           "ticks": "",
           "title": {
            "standoff": 15
           },
           "zerolinecolor": "white",
           "zerolinewidth": 2
          }
         }
        },
        "title": {
         "text": "Count of test preparation course"
        },
        "xaxis": {
         "anchor": "y",
         "categoryarray": [
          "none",
          "completed"
         ],
         "categoryorder": "total ascending",
         "domain": [
          0,
          1
         ],
         "title": {
          "text": "test preparation course"
         }
        },
        "yaxis": {
         "anchor": "x",
         "domain": [
          0,
          1
         ],
         "title": {
          "text": "count"
         }
        }
       }
      },
      "text/html": [
       "<div>                            <div id=\"128ac669-cab0-4c89-93a9-96bf45f55c3b\" class=\"plotly-graph-div\" style=\"height:525px; width:100%;\"></div>            <script type=\"text/javascript\">                require([\"plotly\"], function(Plotly) {                    window.PLOTLYENV=window.PLOTLYENV || {};                                    if (document.getElementById(\"128ac669-cab0-4c89-93a9-96bf45f55c3b\")) {                    Plotly.newPlot(                        \"128ac669-cab0-4c89-93a9-96bf45f55c3b\",                        [{\"alignmentgroup\":\"True\",\"bingroup\":\"x\",\"hovertemplate\":\"test preparation course=%{x}<br>count=%{y}<extra></extra>\",\"legendgroup\":\"none\",\"marker\":{\"color\":\"#636efa\",\"pattern\":{\"shape\":\"\"}},\"name\":\"none\",\"offsetgroup\":\"none\",\"orientation\":\"v\",\"showlegend\":true,\"texttemplate\":\"%{value}\",\"x\":[\"none\",\"none\",\"none\",\"none\",\"none\",\"none\",\"none\",\"none\",\"none\",\"none\",\"none\",\"none\",\"none\",\"none\",\"none\",\"none\",\"none\",\"none\",\"none\",\"none\",\"none\",\"none\",\"none\",\"none\",\"none\",\"none\",\"none\",\"none\",\"none\",\"none\",\"none\",\"none\",\"none\",\"none\",\"none\",\"none\",\"none\",\"none\",\"none\",\"none\",\"none\",\"none\",\"none\",\"none\",\"none\",\"none\",\"none\",\"none\",\"none\",\"none\",\"none\",\"none\",\"none\",\"none\",\"none\",\"none\",\"none\",\"none\",\"none\",\"none\",\"none\",\"none\",\"none\",\"none\",\"none\",\"none\",\"none\",\"none\",\"none\",\"none\",\"none\",\"none\",\"none\",\"none\",\"none\",\"none\",\"none\",\"none\",\"none\",\"none\",\"none\",\"none\",\"none\",\"none\",\"none\",\"none\",\"none\",\"none\",\"none\",\"none\",\"none\",\"none\",\"none\",\"none\",\"none\",\"none\",\"none\",\"none\",\"none\",\"none\",\"none\",\"none\",\"none\",\"none\",\"none\",\"none\",\"none\",\"none\",\"none\",\"none\",\"none\",\"none\",\"none\",\"none\",\"none\",\"none\",\"none\",\"none\",\"none\",\"none\",\"none\",\"none\",\"none\",\"none\",\"none\",\"none\",\"none\",\"none\",\"none\",\"none\",\"none\",\"none\",\"none\",\"none\",\"none\",\"none\",\"none\",\"none\",\"none\",\"none\",\"none\",\"none\",\"none\",\"none\",\"none\",\"none\",\"none\",\"none\",\"none\",\"none\",\"none\",\"none\",\"none\",\"none\",\"none\",\"none\",\"none\",\"none\",\"none\",\"none\",\"none\",\"none\",\"none\",\"none\",\"none\",\"none\",\"none\",\"none\",\"none\",\"none\",\"none\",\"none\",\"none\",\"none\",\"none\",\"none\",\"none\",\"none\",\"none\",\"none\",\"none\",\"none\",\"none\",\"none\",\"none\",\"none\",\"none\",\"none\",\"none\",\"none\",\"none\",\"none\",\"none\",\"none\",\"none\",\"none\",\"none\",\"none\",\"none\",\"none\",\"none\",\"none\",\"none\",\"none\",\"none\",\"none\",\"none\",\"none\",\"none\",\"none\",\"none\",\"none\",\"none\",\"none\",\"none\",\"none\",\"none\",\"none\",\"none\",\"none\",\"none\",\"none\",\"none\",\"none\",\"none\",\"none\",\"none\",\"none\",\"none\",\"none\",\"none\",\"none\",\"none\",\"none\",\"none\",\"none\",\"none\",\"none\",\"none\",\"none\",\"none\",\"none\",\"none\",\"none\",\"none\",\"none\",\"none\",\"none\",\"none\",\"none\",\"none\",\"none\",\"none\",\"none\",\"none\",\"none\",\"none\",\"none\",\"none\",\"none\",\"none\",\"none\",\"none\",\"none\",\"none\",\"none\",\"none\",\"none\",\"none\",\"none\",\"none\",\"none\",\"none\",\"none\",\"none\",\"none\",\"none\",\"none\",\"none\",\"none\",\"none\",\"none\",\"none\",\"none\",\"none\",\"none\",\"none\",\"none\",\"none\",\"none\",\"none\",\"none\",\"none\",\"none\",\"none\",\"none\",\"none\",\"none\",\"none\",\"none\",\"none\",\"none\",\"none\",\"none\",\"none\",\"none\",\"none\",\"none\",\"none\",\"none\",\"none\",\"none\",\"none\",\"none\",\"none\",\"none\",\"none\",\"none\",\"none\",\"none\",\"none\",\"none\",\"none\",\"none\",\"none\",\"none\",\"none\",\"none\",\"none\",\"none\",\"none\",\"none\",\"none\",\"none\",\"none\",\"none\",\"none\",\"none\",\"none\",\"none\",\"none\",\"none\",\"none\",\"none\",\"none\",\"none\",\"none\",\"none\",\"none\",\"none\",\"none\",\"none\",\"none\",\"none\",\"none\",\"none\",\"none\",\"none\",\"none\",\"none\",\"none\",\"none\",\"none\",\"none\",\"none\",\"none\",\"none\",\"none\",\"none\",\"none\",\"none\",\"none\",\"none\",\"none\",\"none\",\"none\",\"none\",\"none\",\"none\",\"none\",\"none\",\"none\",\"none\",\"none\",\"none\",\"none\",\"none\",\"none\",\"none\",\"none\",\"none\",\"none\",\"none\",\"none\",\"none\",\"none\",\"none\",\"none\",\"none\",\"none\",\"none\",\"none\",\"none\",\"none\",\"none\",\"none\",\"none\",\"none\",\"none\",\"none\",\"none\",\"none\",\"none\",\"none\",\"none\",\"none\",\"none\",\"none\",\"none\",\"none\",\"none\",\"none\",\"none\",\"none\",\"none\",\"none\",\"none\",\"none\",\"none\",\"none\",\"none\",\"none\",\"none\",\"none\",\"none\",\"none\",\"none\",\"none\",\"none\",\"none\",\"none\",\"none\",\"none\",\"none\",\"none\",\"none\",\"none\",\"none\",\"none\",\"none\",\"none\",\"none\",\"none\",\"none\",\"none\",\"none\",\"none\",\"none\",\"none\",\"none\",\"none\",\"none\",\"none\",\"none\",\"none\",\"none\",\"none\",\"none\",\"none\",\"none\",\"none\",\"none\",\"none\",\"none\",\"none\",\"none\",\"none\",\"none\",\"none\",\"none\",\"none\",\"none\",\"none\",\"none\",\"none\",\"none\",\"none\",\"none\",\"none\",\"none\",\"none\",\"none\",\"none\",\"none\",\"none\",\"none\",\"none\",\"none\",\"none\",\"none\",\"none\",\"none\",\"none\",\"none\",\"none\",\"none\",\"none\",\"none\",\"none\",\"none\",\"none\",\"none\",\"none\",\"none\",\"none\",\"none\",\"none\",\"none\",\"none\",\"none\",\"none\",\"none\",\"none\",\"none\",\"none\",\"none\",\"none\",\"none\",\"none\",\"none\",\"none\",\"none\",\"none\",\"none\",\"none\",\"none\",\"none\",\"none\",\"none\",\"none\",\"none\",\"none\",\"none\",\"none\",\"none\",\"none\",\"none\",\"none\",\"none\",\"none\",\"none\",\"none\",\"none\",\"none\",\"none\",\"none\",\"none\",\"none\",\"none\",\"none\",\"none\",\"none\",\"none\",\"none\",\"none\",\"none\",\"none\",\"none\",\"none\",\"none\",\"none\",\"none\",\"none\",\"none\",\"none\",\"none\",\"none\",\"none\",\"none\",\"none\",\"none\",\"none\",\"none\",\"none\",\"none\",\"none\",\"none\",\"none\",\"none\",\"none\",\"none\",\"none\",\"none\",\"none\",\"none\",\"none\",\"none\",\"none\",\"none\",\"none\",\"none\",\"none\",\"none\",\"none\",\"none\",\"none\",\"none\",\"none\",\"none\",\"none\",\"none\",\"none\",\"none\",\"none\",\"none\",\"none\",\"none\",\"none\",\"none\",\"none\",\"none\",\"none\",\"none\",\"none\",\"none\",\"none\",\"none\",\"none\",\"none\",\"none\",\"none\",\"none\",\"none\",\"none\",\"none\",\"none\",\"none\",\"none\",\"none\",\"none\",\"none\",\"none\"],\"xaxis\":\"x\",\"yaxis\":\"y\",\"type\":\"histogram\",\"textposition\":\"outside\"},{\"alignmentgroup\":\"True\",\"bingroup\":\"x\",\"hovertemplate\":\"test preparation course=%{x}<br>count=%{y}<extra></extra>\",\"legendgroup\":\"completed\",\"marker\":{\"color\":\"#EF553B\",\"pattern\":{\"shape\":\"\"}},\"name\":\"completed\",\"offsetgroup\":\"completed\",\"orientation\":\"v\",\"showlegend\":true,\"texttemplate\":\"%{value}\",\"x\":[\"completed\",\"completed\",\"completed\",\"completed\",\"completed\",\"completed\",\"completed\",\"completed\",\"completed\",\"completed\",\"completed\",\"completed\",\"completed\",\"completed\",\"completed\",\"completed\",\"completed\",\"completed\",\"completed\",\"completed\",\"completed\",\"completed\",\"completed\",\"completed\",\"completed\",\"completed\",\"completed\",\"completed\",\"completed\",\"completed\",\"completed\",\"completed\",\"completed\",\"completed\",\"completed\",\"completed\",\"completed\",\"completed\",\"completed\",\"completed\",\"completed\",\"completed\",\"completed\",\"completed\",\"completed\",\"completed\",\"completed\",\"completed\",\"completed\",\"completed\",\"completed\",\"completed\",\"completed\",\"completed\",\"completed\",\"completed\",\"completed\",\"completed\",\"completed\",\"completed\",\"completed\",\"completed\",\"completed\",\"completed\",\"completed\",\"completed\",\"completed\",\"completed\",\"completed\",\"completed\",\"completed\",\"completed\",\"completed\",\"completed\",\"completed\",\"completed\",\"completed\",\"completed\",\"completed\",\"completed\",\"completed\",\"completed\",\"completed\",\"completed\",\"completed\",\"completed\",\"completed\",\"completed\",\"completed\",\"completed\",\"completed\",\"completed\",\"completed\",\"completed\",\"completed\",\"completed\",\"completed\",\"completed\",\"completed\",\"completed\",\"completed\",\"completed\",\"completed\",\"completed\",\"completed\",\"completed\",\"completed\",\"completed\",\"completed\",\"completed\",\"completed\",\"completed\",\"completed\",\"completed\",\"completed\",\"completed\",\"completed\",\"completed\",\"completed\",\"completed\",\"completed\",\"completed\",\"completed\",\"completed\",\"completed\",\"completed\",\"completed\",\"completed\",\"completed\",\"completed\",\"completed\",\"completed\",\"completed\",\"completed\",\"completed\",\"completed\",\"completed\",\"completed\",\"completed\",\"completed\",\"completed\",\"completed\",\"completed\",\"completed\",\"completed\",\"completed\",\"completed\",\"completed\",\"completed\",\"completed\",\"completed\",\"completed\",\"completed\",\"completed\",\"completed\",\"completed\",\"completed\",\"completed\",\"completed\",\"completed\",\"completed\",\"completed\",\"completed\",\"completed\",\"completed\",\"completed\",\"completed\",\"completed\",\"completed\",\"completed\",\"completed\",\"completed\",\"completed\",\"completed\",\"completed\",\"completed\",\"completed\",\"completed\",\"completed\",\"completed\",\"completed\",\"completed\",\"completed\",\"completed\",\"completed\",\"completed\",\"completed\",\"completed\",\"completed\",\"completed\",\"completed\",\"completed\",\"completed\",\"completed\",\"completed\",\"completed\",\"completed\",\"completed\",\"completed\",\"completed\",\"completed\",\"completed\",\"completed\",\"completed\",\"completed\",\"completed\",\"completed\",\"completed\",\"completed\",\"completed\",\"completed\",\"completed\",\"completed\",\"completed\",\"completed\",\"completed\",\"completed\",\"completed\",\"completed\",\"completed\",\"completed\",\"completed\",\"completed\",\"completed\",\"completed\",\"completed\",\"completed\",\"completed\",\"completed\",\"completed\",\"completed\",\"completed\",\"completed\",\"completed\",\"completed\",\"completed\",\"completed\",\"completed\",\"completed\",\"completed\",\"completed\",\"completed\",\"completed\",\"completed\",\"completed\",\"completed\",\"completed\",\"completed\",\"completed\",\"completed\",\"completed\",\"completed\",\"completed\",\"completed\",\"completed\",\"completed\",\"completed\",\"completed\",\"completed\",\"completed\",\"completed\",\"completed\",\"completed\",\"completed\",\"completed\",\"completed\",\"completed\",\"completed\",\"completed\",\"completed\",\"completed\",\"completed\",\"completed\",\"completed\",\"completed\",\"completed\",\"completed\",\"completed\",\"completed\",\"completed\",\"completed\",\"completed\",\"completed\",\"completed\",\"completed\",\"completed\",\"completed\",\"completed\",\"completed\",\"completed\",\"completed\",\"completed\",\"completed\",\"completed\",\"completed\",\"completed\",\"completed\",\"completed\",\"completed\",\"completed\",\"completed\",\"completed\",\"completed\",\"completed\",\"completed\",\"completed\",\"completed\",\"completed\",\"completed\",\"completed\",\"completed\",\"completed\",\"completed\",\"completed\",\"completed\",\"completed\",\"completed\",\"completed\",\"completed\",\"completed\",\"completed\",\"completed\",\"completed\",\"completed\",\"completed\",\"completed\",\"completed\",\"completed\",\"completed\",\"completed\",\"completed\",\"completed\",\"completed\",\"completed\",\"completed\",\"completed\",\"completed\",\"completed\",\"completed\",\"completed\",\"completed\",\"completed\",\"completed\",\"completed\",\"completed\",\"completed\",\"completed\",\"completed\",\"completed\",\"completed\",\"completed\",\"completed\",\"completed\",\"completed\",\"completed\",\"completed\",\"completed\",\"completed\"],\"xaxis\":\"x\",\"yaxis\":\"y\",\"type\":\"histogram\",\"textposition\":\"outside\"}],                        {\"template\":{\"data\":{\"bar\":[{\"error_x\":{\"color\":\"#2a3f5f\"},\"error_y\":{\"color\":\"#2a3f5f\"},\"marker\":{\"line\":{\"color\":\"#E5ECF6\",\"width\":0.5},\"pattern\":{\"fillmode\":\"overlay\",\"size\":10,\"solidity\":0.2}},\"type\":\"bar\"}],\"barpolar\":[{\"marker\":{\"line\":{\"color\":\"#E5ECF6\",\"width\":0.5},\"pattern\":{\"fillmode\":\"overlay\",\"size\":10,\"solidity\":0.2}},\"type\":\"barpolar\"}],\"carpet\":[{\"aaxis\":{\"endlinecolor\":\"#2a3f5f\",\"gridcolor\":\"white\",\"linecolor\":\"white\",\"minorgridcolor\":\"white\",\"startlinecolor\":\"#2a3f5f\"},\"baxis\":{\"endlinecolor\":\"#2a3f5f\",\"gridcolor\":\"white\",\"linecolor\":\"white\",\"minorgridcolor\":\"white\",\"startlinecolor\":\"#2a3f5f\"},\"type\":\"carpet\"}],\"choropleth\":[{\"colorbar\":{\"outlinewidth\":0,\"ticks\":\"\"},\"type\":\"choropleth\"}],\"contour\":[{\"colorbar\":{\"outlinewidth\":0,\"ticks\":\"\"},\"colorscale\":[[0.0,\"#0d0887\"],[0.1111111111111111,\"#46039f\"],[0.2222222222222222,\"#7201a8\"],[0.3333333333333333,\"#9c179e\"],[0.4444444444444444,\"#bd3786\"],[0.5555555555555556,\"#d8576b\"],[0.6666666666666666,\"#ed7953\"],[0.7777777777777778,\"#fb9f3a\"],[0.8888888888888888,\"#fdca26\"],[1.0,\"#f0f921\"]],\"type\":\"contour\"}],\"contourcarpet\":[{\"colorbar\":{\"outlinewidth\":0,\"ticks\":\"\"},\"type\":\"contourcarpet\"}],\"heatmap\":[{\"colorbar\":{\"outlinewidth\":0,\"ticks\":\"\"},\"colorscale\":[[0.0,\"#0d0887\"],[0.1111111111111111,\"#46039f\"],[0.2222222222222222,\"#7201a8\"],[0.3333333333333333,\"#9c179e\"],[0.4444444444444444,\"#bd3786\"],[0.5555555555555556,\"#d8576b\"],[0.6666666666666666,\"#ed7953\"],[0.7777777777777778,\"#fb9f3a\"],[0.8888888888888888,\"#fdca26\"],[1.0,\"#f0f921\"]],\"type\":\"heatmap\"}],\"heatmapgl\":[{\"colorbar\":{\"outlinewidth\":0,\"ticks\":\"\"},\"colorscale\":[[0.0,\"#0d0887\"],[0.1111111111111111,\"#46039f\"],[0.2222222222222222,\"#7201a8\"],[0.3333333333333333,\"#9c179e\"],[0.4444444444444444,\"#bd3786\"],[0.5555555555555556,\"#d8576b\"],[0.6666666666666666,\"#ed7953\"],[0.7777777777777778,\"#fb9f3a\"],[0.8888888888888888,\"#fdca26\"],[1.0,\"#f0f921\"]],\"type\":\"heatmapgl\"}],\"histogram\":[{\"marker\":{\"pattern\":{\"fillmode\":\"overlay\",\"size\":10,\"solidity\":0.2}},\"type\":\"histogram\"}],\"histogram2d\":[{\"colorbar\":{\"outlinewidth\":0,\"ticks\":\"\"},\"colorscale\":[[0.0,\"#0d0887\"],[0.1111111111111111,\"#46039f\"],[0.2222222222222222,\"#7201a8\"],[0.3333333333333333,\"#9c179e\"],[0.4444444444444444,\"#bd3786\"],[0.5555555555555556,\"#d8576b\"],[0.6666666666666666,\"#ed7953\"],[0.7777777777777778,\"#fb9f3a\"],[0.8888888888888888,\"#fdca26\"],[1.0,\"#f0f921\"]],\"type\":\"histogram2d\"}],\"histogram2dcontour\":[{\"colorbar\":{\"outlinewidth\":0,\"ticks\":\"\"},\"colorscale\":[[0.0,\"#0d0887\"],[0.1111111111111111,\"#46039f\"],[0.2222222222222222,\"#7201a8\"],[0.3333333333333333,\"#9c179e\"],[0.4444444444444444,\"#bd3786\"],[0.5555555555555556,\"#d8576b\"],[0.6666666666666666,\"#ed7953\"],[0.7777777777777778,\"#fb9f3a\"],[0.8888888888888888,\"#fdca26\"],[1.0,\"#f0f921\"]],\"type\":\"histogram2dcontour\"}],\"mesh3d\":[{\"colorbar\":{\"outlinewidth\":0,\"ticks\":\"\"},\"type\":\"mesh3d\"}],\"parcoords\":[{\"line\":{\"colorbar\":{\"outlinewidth\":0,\"ticks\":\"\"}},\"type\":\"parcoords\"}],\"pie\":[{\"automargin\":true,\"type\":\"pie\"}],\"scatter\":[{\"marker\":{\"colorbar\":{\"outlinewidth\":0,\"ticks\":\"\"}},\"type\":\"scatter\"}],\"scatter3d\":[{\"line\":{\"colorbar\":{\"outlinewidth\":0,\"ticks\":\"\"}},\"marker\":{\"colorbar\":{\"outlinewidth\":0,\"ticks\":\"\"}},\"type\":\"scatter3d\"}],\"scattercarpet\":[{\"marker\":{\"colorbar\":{\"outlinewidth\":0,\"ticks\":\"\"}},\"type\":\"scattercarpet\"}],\"scattergeo\":[{\"marker\":{\"colorbar\":{\"outlinewidth\":0,\"ticks\":\"\"}},\"type\":\"scattergeo\"}],\"scattergl\":[{\"marker\":{\"colorbar\":{\"outlinewidth\":0,\"ticks\":\"\"}},\"type\":\"scattergl\"}],\"scattermapbox\":[{\"marker\":{\"colorbar\":{\"outlinewidth\":0,\"ticks\":\"\"}},\"type\":\"scattermapbox\"}],\"scatterpolar\":[{\"marker\":{\"colorbar\":{\"outlinewidth\":0,\"ticks\":\"\"}},\"type\":\"scatterpolar\"}],\"scatterpolargl\":[{\"marker\":{\"colorbar\":{\"outlinewidth\":0,\"ticks\":\"\"}},\"type\":\"scatterpolargl\"}],\"scatterternary\":[{\"marker\":{\"colorbar\":{\"outlinewidth\":0,\"ticks\":\"\"}},\"type\":\"scatterternary\"}],\"surface\":[{\"colorbar\":{\"outlinewidth\":0,\"ticks\":\"\"},\"colorscale\":[[0.0,\"#0d0887\"],[0.1111111111111111,\"#46039f\"],[0.2222222222222222,\"#7201a8\"],[0.3333333333333333,\"#9c179e\"],[0.4444444444444444,\"#bd3786\"],[0.5555555555555556,\"#d8576b\"],[0.6666666666666666,\"#ed7953\"],[0.7777777777777778,\"#fb9f3a\"],[0.8888888888888888,\"#fdca26\"],[1.0,\"#f0f921\"]],\"type\":\"surface\"}],\"table\":[{\"cells\":{\"fill\":{\"color\":\"#EBF0F8\"},\"line\":{\"color\":\"white\"}},\"header\":{\"fill\":{\"color\":\"#C8D4E3\"},\"line\":{\"color\":\"white\"}},\"type\":\"table\"}]},\"layout\":{\"annotationdefaults\":{\"arrowcolor\":\"#2a3f5f\",\"arrowhead\":0,\"arrowwidth\":1},\"autotypenumbers\":\"strict\",\"coloraxis\":{\"colorbar\":{\"outlinewidth\":0,\"ticks\":\"\"}},\"colorscale\":{\"diverging\":[[0,\"#8e0152\"],[0.1,\"#c51b7d\"],[0.2,\"#de77ae\"],[0.3,\"#f1b6da\"],[0.4,\"#fde0ef\"],[0.5,\"#f7f7f7\"],[0.6,\"#e6f5d0\"],[0.7,\"#b8e186\"],[0.8,\"#7fbc41\"],[0.9,\"#4d9221\"],[1,\"#276419\"]],\"sequential\":[[0.0,\"#0d0887\"],[0.1111111111111111,\"#46039f\"],[0.2222222222222222,\"#7201a8\"],[0.3333333333333333,\"#9c179e\"],[0.4444444444444444,\"#bd3786\"],[0.5555555555555556,\"#d8576b\"],[0.6666666666666666,\"#ed7953\"],[0.7777777777777778,\"#fb9f3a\"],[0.8888888888888888,\"#fdca26\"],[1.0,\"#f0f921\"]],\"sequentialminus\":[[0.0,\"#0d0887\"],[0.1111111111111111,\"#46039f\"],[0.2222222222222222,\"#7201a8\"],[0.3333333333333333,\"#9c179e\"],[0.4444444444444444,\"#bd3786\"],[0.5555555555555556,\"#d8576b\"],[0.6666666666666666,\"#ed7953\"],[0.7777777777777778,\"#fb9f3a\"],[0.8888888888888888,\"#fdca26\"],[1.0,\"#f0f921\"]]},\"colorway\":[\"#636efa\",\"#EF553B\",\"#00cc96\",\"#ab63fa\",\"#FFA15A\",\"#19d3f3\",\"#FF6692\",\"#B6E880\",\"#FF97FF\",\"#FECB52\"],\"font\":{\"color\":\"#2a3f5f\"},\"geo\":{\"bgcolor\":\"white\",\"lakecolor\":\"white\",\"landcolor\":\"#E5ECF6\",\"showlakes\":true,\"showland\":true,\"subunitcolor\":\"white\"},\"hoverlabel\":{\"align\":\"left\"},\"hovermode\":\"closest\",\"mapbox\":{\"style\":\"light\"},\"paper_bgcolor\":\"white\",\"plot_bgcolor\":\"#E5ECF6\",\"polar\":{\"angularaxis\":{\"gridcolor\":\"white\",\"linecolor\":\"white\",\"ticks\":\"\"},\"bgcolor\":\"#E5ECF6\",\"radialaxis\":{\"gridcolor\":\"white\",\"linecolor\":\"white\",\"ticks\":\"\"}},\"scene\":{\"xaxis\":{\"backgroundcolor\":\"#E5ECF6\",\"gridcolor\":\"white\",\"gridwidth\":2,\"linecolor\":\"white\",\"showbackground\":true,\"ticks\":\"\",\"zerolinecolor\":\"white\"},\"yaxis\":{\"backgroundcolor\":\"#E5ECF6\",\"gridcolor\":\"white\",\"gridwidth\":2,\"linecolor\":\"white\",\"showbackground\":true,\"ticks\":\"\",\"zerolinecolor\":\"white\"},\"zaxis\":{\"backgroundcolor\":\"#E5ECF6\",\"gridcolor\":\"white\",\"gridwidth\":2,\"linecolor\":\"white\",\"showbackground\":true,\"ticks\":\"\",\"zerolinecolor\":\"white\"}},\"shapedefaults\":{\"line\":{\"color\":\"#2a3f5f\"}},\"ternary\":{\"aaxis\":{\"gridcolor\":\"white\",\"linecolor\":\"white\",\"ticks\":\"\"},\"baxis\":{\"gridcolor\":\"white\",\"linecolor\":\"white\",\"ticks\":\"\"},\"bgcolor\":\"#E5ECF6\",\"caxis\":{\"gridcolor\":\"white\",\"linecolor\":\"white\",\"ticks\":\"\"}},\"title\":{\"x\":0.05},\"xaxis\":{\"automargin\":true,\"gridcolor\":\"white\",\"linecolor\":\"white\",\"ticks\":\"\",\"title\":{\"standoff\":15},\"zerolinecolor\":\"white\",\"zerolinewidth\":2},\"yaxis\":{\"automargin\":true,\"gridcolor\":\"white\",\"linecolor\":\"white\",\"ticks\":\"\",\"title\":{\"standoff\":15},\"zerolinecolor\":\"white\",\"zerolinewidth\":2}}},\"xaxis\":{\"anchor\":\"y\",\"domain\":[0.0,1.0],\"title\":{\"text\":\"test preparation course\"},\"categoryorder\":\"total ascending\",\"categoryarray\":[\"none\",\"completed\"]},\"yaxis\":{\"anchor\":\"x\",\"domain\":[0.0,1.0],\"title\":{\"text\":\"count\"}},\"legend\":{\"title\":{\"text\":\"test preparation course\"},\"tracegroupgap\":0},\"title\":{\"text\":\"Count of test preparation course\"},\"barmode\":\"relative\"},                        {\"responsive\": true}                    ).then(function(){\n",
       "                            \n",
       "var gd = document.getElementById('128ac669-cab0-4c89-93a9-96bf45f55c3b');\n",
       "var x = new MutationObserver(function (mutations, observer) {{\n",
       "        var display = window.getComputedStyle(gd).display;\n",
       "        if (!display || display === 'none') {{\n",
       "            console.log([gd, 'removed!']);\n",
       "            Plotly.purge(gd);\n",
       "            observer.disconnect();\n",
       "        }}\n",
       "}});\n",
       "\n",
       "// Listen for the removal of the full notebook cells\n",
       "var notebookContainer = gd.closest('#notebook-container');\n",
       "if (notebookContainer) {{\n",
       "    x.observe(notebookContainer, {childList: true});\n",
       "}}\n",
       "\n",
       "// Listen for the clearing of the current output cell\n",
       "var outputEl = gd.closest('.output');\n",
       "if (outputEl) {{\n",
       "    x.observe(outputEl, {childList: true});\n",
       "}}\n",
       "\n",
       "                        })                };                });            </script>        </div>"
      ]
     },
     "metadata": {},
     "output_type": "display_data"
    }
   ],
   "source": [
    "fig = px.histogram(data,\n",
    "                   x=\"test preparation course\",\n",
    "                   title='Count of test preparation course',\n",
    "                   color='test preparation course',\n",
    "                   text_auto=True)\n",
    "fig.update_traces(textposition='outside')\n",
    "fig.update_xaxes(categoryorder='total ascending')"
   ]
  },
  {
   "cell_type": "markdown",
   "id": "29be1e9f",
   "metadata": {
    "ExecuteTime": {
     "end_time": "2022-07-15T14:30:24.242465Z",
     "start_time": "2022-07-15T14:30:24.226430Z"
    }
   },
   "source": [
    "Hence, about 65% students didn't complete the test preparation course. <br>\n",
    "Let's check the pattern with each score. <br>"
   ]
  },
  {
   "cell_type": "code",
   "execution_count": 33,
   "id": "668b255e",
   "metadata": {
    "ExecuteTime": {
     "end_time": "2022-07-15T15:47:58.646884Z",
     "start_time": "2022-07-15T15:47:58.631924Z"
    },
    "scrolled": true
   },
   "outputs": [
    {
     "data": {
      "text/plain": [
       "P    960\n",
       "F     40\n",
       "Name: Math_PassStatus, dtype: int64"
      ]
     },
     "execution_count": 33,
     "metadata": {},
     "output_type": "execute_result"
    }
   ],
   "source": [
    "data['Math_PassStatus'] = np.where(data['math score'] < min_passmarks, 'F', 'P')\n",
    "data.Math_PassStatus.value_counts()"
   ]
  },
  {
   "cell_type": "markdown",
   "id": "fdb4882a",
   "metadata": {},
   "source": [
    "4% student failed in Match"
   ]
  },
  {
   "cell_type": "code",
   "execution_count": 34,
   "id": "649fb33f",
   "metadata": {
    "ExecuteTime": {
     "end_time": "2022-07-15T15:47:58.709747Z",
     "start_time": "2022-07-15T15:47:58.647881Z"
    }
   },
   "outputs": [
    {
     "data": {
      "application/vnd.plotly.v1+json": {
       "config": {
        "plotlyServerURL": "https://plot.ly"
       },
       "data": [
        {
         "alignmentgroup": "True",
         "hovertemplate": "gender=female<br>test preparation course=%{x}<br>math score=%{y}<extra></extra>",
         "legendgroup": "female",
         "marker": {
          "color": "#636efa"
         },
         "name": "female",
         "notched": false,
         "offsetgroup": "female",
         "orientation": "v",
         "showlegend": true,
         "type": "box",
         "x": [
          "none",
          "completed",
          "none",
          "none",
          "completed",
          "none",
          "none",
          "none",
          "none",
          "none",
          "none",
          "completed",
          "none",
          "none",
          "none",
          "none",
          "none",
          "none",
          "none",
          "none",
          "completed",
          "none",
          "none",
          "none",
          "completed",
          "none",
          "completed",
          "completed",
          "none",
          "completed",
          "none",
          "none",
          "none",
          "none",
          "none",
          "completed",
          "none",
          "completed",
          "none",
          "none",
          "none",
          "none",
          "none",
          "none",
          "none",
          "none",
          "none",
          "completed",
          "none",
          "none",
          "none",
          "none",
          "none",
          "none",
          "none",
          "completed",
          "none",
          "completed",
          "none",
          "none",
          "none",
          "none",
          "completed",
          "completed",
          "none",
          "none",
          "completed",
          "none",
          "none",
          "none",
          "completed",
          "none",
          "completed",
          "completed",
          "completed",
          "completed",
          "completed",
          "completed",
          "none",
          "completed",
          "completed",
          "completed",
          "completed",
          "none",
          "none",
          "completed",
          "completed",
          "completed",
          "completed",
          "completed",
          "completed",
          "none",
          "none",
          "none",
          "none",
          "none",
          "none",
          "completed",
          "none",
          "none",
          "completed",
          "none",
          "none",
          "none",
          "none",
          "none",
          "completed",
          "none",
          "completed",
          "none",
          "completed",
          "none",
          "none",
          "completed",
          "none",
          "completed",
          "none",
          "none",
          "completed",
          "none",
          "none",
          "completed",
          "none",
          "none",
          "none",
          "completed",
          "completed",
          "none",
          "none",
          "none",
          "none",
          "completed",
          "none",
          "none",
          "none",
          "completed",
          "completed",
          "none",
          "none",
          "completed",
          "none",
          "none",
          "none",
          "completed",
          "completed",
          "none",
          "none",
          "none",
          "completed",
          "completed",
          "completed",
          "none",
          "completed",
          "none",
          "none",
          "none",
          "none",
          "none",
          "none",
          "none",
          "none",
          "none",
          "completed",
          "none",
          "completed",
          "none",
          "completed",
          "none",
          "completed",
          "none",
          "none",
          "none",
          "completed",
          "none",
          "none",
          "none",
          "none",
          "none",
          "none",
          "completed",
          "completed",
          "none",
          "none",
          "completed",
          "none",
          "none",
          "none",
          "none",
          "none",
          "none",
          "none",
          "none",
          "none",
          "completed",
          "none",
          "none",
          "completed",
          "none",
          "completed",
          "none",
          "none",
          "none",
          "completed",
          "completed",
          "completed",
          "completed",
          "completed",
          "completed",
          "completed",
          "none",
          "none",
          "none",
          "completed",
          "none",
          "none",
          "none",
          "completed",
          "completed",
          "none",
          "none",
          "none",
          "none",
          "none",
          "none",
          "none",
          "none",
          "none",
          "completed",
          "completed",
          "none",
          "completed",
          "none",
          "completed",
          "completed",
          "none",
          "none",
          "none",
          "none",
          "none",
          "none",
          "none",
          "none",
          "none",
          "none",
          "completed",
          "none",
          "none",
          "completed",
          "completed",
          "none",
          "none",
          "none",
          "completed",
          "completed",
          "completed",
          "none",
          "completed",
          "completed",
          "completed",
          "none",
          "none",
          "none",
          "none",
          "completed",
          "none",
          "completed",
          "completed",
          "none",
          "none",
          "none",
          "none",
          "completed",
          "none",
          "none",
          "none",
          "completed",
          "none",
          "completed",
          "none",
          "completed",
          "completed",
          "completed",
          "none",
          "completed",
          "none",
          "none",
          "completed",
          "none",
          "none",
          "none",
          "none",
          "completed",
          "none",
          "none",
          "none",
          "none",
          "none",
          "none",
          "none",
          "completed",
          "completed",
          "none",
          "none",
          "none",
          "none",
          "none",
          "none",
          "none",
          "none",
          "none",
          "none",
          "none",
          "none",
          "none",
          "none",
          "none",
          "none",
          "completed",
          "completed",
          "none",
          "completed",
          "completed",
          "none",
          "completed",
          "none",
          "completed",
          "completed",
          "none",
          "none",
          "none",
          "completed",
          "completed",
          "completed",
          "completed",
          "none",
          "none",
          "none",
          "none",
          "none",
          "completed",
          "completed",
          "none",
          "none",
          "none",
          "completed",
          "completed",
          "completed",
          "completed",
          "completed",
          "none",
          "completed",
          "completed",
          "none",
          "none",
          "completed",
          "none",
          "none",
          "none",
          "completed",
          "none",
          "completed",
          "completed",
          "none",
          "none",
          "completed",
          "completed",
          "completed",
          "none",
          "completed",
          "completed",
          "completed",
          "none",
          "none",
          "completed",
          "completed",
          "none",
          "completed",
          "completed",
          "none",
          "completed",
          "none",
          "none",
          "completed",
          "none",
          "completed",
          "none",
          "completed",
          "none",
          "none",
          "none",
          "none",
          "completed",
          "none",
          "completed",
          "none",
          "none",
          "none",
          "none",
          "completed",
          "none",
          "none",
          "completed",
          "completed",
          "completed",
          "none",
          "none",
          "none",
          "none",
          "none",
          "none",
          "completed",
          "none",
          "none",
          "none",
          "none",
          "none",
          "none",
          "none",
          "completed",
          "none",
          "none",
          "none",
          "none",
          "completed",
          "none",
          "none",
          "none",
          "completed",
          "none",
          "completed",
          "none",
          "completed",
          "completed",
          "completed",
          "completed",
          "none",
          "none",
          "completed",
          "completed",
          "none",
          "none",
          "none",
          "none",
          "none",
          "none",
          "none",
          "completed",
          "completed",
          "none",
          "none",
          "none",
          "completed",
          "none",
          "none",
          "completed",
          "completed",
          "none",
          "completed",
          "none",
          "none",
          "none",
          "none",
          "completed",
          "completed",
          "none",
          "completed",
          "completed",
          "none",
          "completed",
          "none",
          "none",
          "completed",
          "completed",
          "none",
          "none",
          "none",
          "completed",
          "none",
          "none",
          "completed",
          "none",
          "none",
          "none",
          "none",
          "none",
          "none",
          "completed",
          "completed",
          "none",
          "none",
          "none",
          "none",
          "none",
          "none",
          "none",
          "completed",
          "none",
          "none",
          "none",
          "none",
          "completed",
          "none",
          "none",
          "completed",
          "none",
          "none",
          "completed",
          "none",
          "none",
          "none",
          "completed",
          "completed",
          "none",
          "none",
          "completed",
          "completed",
          "completed",
          "none"
         ],
         "x0": " ",
         "xaxis": "x",
         "y": [
          72,
          69,
          90,
          71,
          88,
          38,
          65,
          50,
          69,
          18,
          54,
          65,
          69,
          67,
          62,
          69,
          63,
          56,
          74,
          50,
          75,
          58,
          53,
          50,
          55,
          66,
          57,
          71,
          33,
          82,
          0,
          69,
          59,
          60,
          39,
          58,
          41,
          61,
          62,
          47,
          73,
          76,
          71,
          58,
          73,
          65,
          79,
          63,
          58,
          65,
          85,
          58,
          87,
          52,
          70,
          77,
          51,
          99,
          75,
          78,
          51,
          55,
          79,
          88,
          87,
          51,
          75,
          59,
          76,
          59,
          42,
          22,
          68,
          59,
          70,
          66,
          61,
          75,
          81,
          96,
          58,
          68,
          67,
          79,
          63,
          43,
          81,
          46,
          71,
          52,
          97,
          46,
          50,
          65,
          77,
          66,
          62,
          69,
          45,
          78,
          67,
          65,
          57,
          74,
          58,
          42,
          83,
          34,
          56,
          55,
          52,
          45,
          72,
          88,
          67,
          64,
          80,
          56,
          58,
          65,
          71,
          60,
          62,
          64,
          70,
          65,
          64,
          44,
          99,
          63,
          69,
          88,
          71,
          47,
          65,
          85,
          59,
          65,
          73,
          70,
          37,
          67,
          65,
          67,
          74,
          53,
          49,
          73,
          68,
          59,
          77,
          56,
          67,
          75,
          71,
          43,
          41,
          82,
          41,
          83,
          61,
          24,
          35,
          61,
          69,
          72,
          77,
          52,
          63,
          46,
          59,
          61,
          42,
          80,
          58,
          52,
          27,
          44,
          73,
          45,
          82,
          59,
          80,
          85,
          71,
          80,
          38,
          38,
          67,
          64,
          57,
          62,
          77,
          65,
          50,
          85,
          59,
          49,
          88,
          54,
          63,
          82,
          52,
          70,
          51,
          82,
          57,
          47,
          59,
          62,
          61,
          47,
          67,
          78,
          59,
          73,
          67,
          64,
          100,
          65,
          53,
          79,
          100,
          71,
          77,
          84,
          26,
          77,
          83,
          63,
          68,
          59,
          90,
          71,
          55,
          52,
          49,
          60,
          65,
          64,
          83,
          81,
          54,
          54,
          59,
          66,
          74,
          94,
          95,
          40,
          82,
          86,
          54,
          77,
          76,
          74,
          66,
          66,
          67,
          91,
          36,
          29,
          62,
          68,
          47,
          79,
          66,
          51,
          81,
          82,
          64,
          92,
          62,
          40,
          32,
          55,
          53,
          74,
          63,
          63,
          92,
          61,
          53,
          50,
          74,
          81,
          48,
          53,
          81,
          77,
          63,
          73,
          69,
          65,
          55,
          44,
          54,
          48,
          74,
          92,
          56,
          69,
          65,
          54,
          29,
          76,
          85,
          40,
          61,
          58,
          58,
          65,
          82,
          60,
          37,
          35,
          61,
          44,
          66,
          75,
          67,
          80,
          76,
          74,
          72,
          74,
          65,
          59,
          64,
          50,
          69,
          68,
          85,
          65,
          73,
          62,
          43,
          55,
          65,
          50,
          63,
          77,
          66,
          69,
          65,
          69,
          50,
          73,
          70,
          67,
          29,
          94,
          49,
          73,
          66,
          77,
          49,
          79,
          75,
          59,
          57,
          79,
          57,
          63,
          59,
          42,
          80,
          98,
          60,
          76,
          96,
          76,
          62,
          74,
          65,
          73,
          68,
          87,
          53,
          53,
          37,
          81,
          59,
          50,
          77,
          84,
          52,
          53,
          48,
          62,
          74,
          58,
          68,
          52,
          62,
          49,
          66,
          35,
          72,
          46,
          77,
          76,
          52,
          32,
          72,
          19,
          52,
          48,
          60,
          42,
          57,
          70,
          52,
          87,
          82,
          73,
          64,
          41,
          54,
          72,
          45,
          60,
          77,
          85,
          78,
          71,
          48,
          56,
          65,
          69,
          61,
          74,
          77,
          60,
          75,
          66,
          39,
          23,
          40,
          59,
          61,
          87,
          97,
          65,
          53,
          81,
          71,
          70,
          43,
          59,
          64,
          71,
          64,
          51,
          62,
          93,
          69,
          86,
          85,
          50,
          59,
          32,
          63,
          65,
          73,
          34,
          93,
          67,
          79,
          67,
          69,
          52,
          47,
          46,
          68,
          44,
          57,
          35,
          54,
          65,
          48,
          57,
          78,
          58,
          54,
          49,
          57,
          75,
          74,
          62,
          92,
          45,
          56,
          48,
          100,
          65,
          62,
          68,
          75,
          89,
          53,
          49,
          54,
          64,
          91,
          8,
          78,
          74,
          40,
          44,
          67,
          65,
          55,
          62,
          88,
          59,
          68,
          77
         ],
         "y0": " ",
         "yaxis": "y"
        },
        {
         "alignmentgroup": "True",
         "hovertemplate": "gender=male<br>test preparation course=%{x}<br>math score=%{y}<extra></extra>",
         "legendgroup": "male",
         "marker": {
          "color": "#EF553B"
         },
         "name": "male",
         "notched": false,
         "offsetgroup": "male",
         "orientation": "v",
         "showlegend": true,
         "type": "box",
         "x": [
          "none",
          "none",
          "none",
          "completed",
          "none",
          "none",
          "completed",
          "none",
          "completed",
          "none",
          "none",
          "completed",
          "none",
          "none",
          "none",
          "none",
          "none",
          "completed",
          "none",
          "none",
          "completed",
          "none",
          "completed",
          "none",
          "completed",
          "none",
          "none",
          "none",
          "completed",
          "completed",
          "none",
          "none",
          "none",
          "none",
          "none",
          "completed",
          "none",
          "none",
          "none",
          "none",
          "completed",
          "none",
          "completed",
          "none",
          "none",
          "none",
          "none",
          "completed",
          "completed",
          "completed",
          "none",
          "completed",
          "completed",
          "completed",
          "completed",
          "none",
          "none",
          "none",
          "completed",
          "none",
          "none",
          "none",
          "completed",
          "none",
          "none",
          "completed",
          "completed",
          "completed",
          "none",
          "completed",
          "none",
          "completed",
          "none",
          "none",
          "none",
          "none",
          "completed",
          "completed",
          "none",
          "none",
          "none",
          "none",
          "none",
          "completed",
          "none",
          "none",
          "completed",
          "completed",
          "none",
          "completed",
          "completed",
          "completed",
          "none",
          "completed",
          "none",
          "completed",
          "completed",
          "none",
          "completed",
          "none",
          "none",
          "none",
          "completed",
          "none",
          "completed",
          "completed",
          "none",
          "completed",
          "completed",
          "completed",
          "none",
          "completed",
          "none",
          "none",
          "none",
          "none",
          "none",
          "none",
          "none",
          "completed",
          "none",
          "none",
          "none",
          "none",
          "completed",
          "none",
          "none",
          "none",
          "none",
          "none",
          "completed",
          "none",
          "none",
          "completed",
          "completed",
          "none",
          "none",
          "none",
          "none",
          "completed",
          "none",
          "none",
          "none",
          "none",
          "completed",
          "completed",
          "none",
          "completed",
          "none",
          "none",
          "completed",
          "completed",
          "none",
          "completed",
          "completed",
          "completed",
          "none",
          "completed",
          "none",
          "none",
          "none",
          "completed",
          "none",
          "none",
          "completed",
          "none",
          "none",
          "none",
          "none",
          "none",
          "completed",
          "none",
          "none",
          "completed",
          "none",
          "completed",
          "none",
          "none",
          "completed",
          "none",
          "none",
          "none",
          "none",
          "none",
          "none",
          "none",
          "completed",
          "none",
          "completed",
          "completed",
          "none",
          "none",
          "none",
          "none",
          "none",
          "completed",
          "none",
          "none",
          "completed",
          "none",
          "completed",
          "none",
          "none",
          "none",
          "none",
          "completed",
          "completed",
          "completed",
          "none",
          "completed",
          "none",
          "completed",
          "none",
          "none",
          "completed",
          "none",
          "none",
          "none",
          "none",
          "none",
          "none",
          "none",
          "none",
          "completed",
          "none",
          "none",
          "none",
          "completed",
          "none",
          "none",
          "completed",
          "none",
          "none",
          "none",
          "none",
          "none",
          "completed",
          "none",
          "none",
          "completed",
          "completed",
          "none",
          "completed",
          "none",
          "none",
          "completed",
          "none",
          "none",
          "none",
          "none",
          "completed",
          "completed",
          "completed",
          "none",
          "none",
          "none",
          "none",
          "none",
          "none",
          "none",
          "none",
          "none",
          "none",
          "none",
          "completed",
          "none",
          "completed",
          "completed",
          "completed",
          "completed",
          "completed",
          "completed",
          "completed",
          "completed",
          "completed",
          "completed",
          "none",
          "none",
          "completed",
          "none",
          "none",
          "none",
          "none",
          "completed",
          "none",
          "none",
          "none",
          "none",
          "completed",
          "none",
          "completed",
          "completed",
          "none",
          "none",
          "none",
          "none",
          "none",
          "none",
          "completed",
          "none",
          "completed",
          "completed",
          "none",
          "none",
          "completed",
          "none",
          "completed",
          "completed",
          "completed",
          "completed",
          "none",
          "none",
          "none",
          "none",
          "none",
          "none",
          "none",
          "none",
          "none",
          "completed",
          "none",
          "none",
          "none",
          "none",
          "none",
          "none",
          "none",
          "completed",
          "none",
          "none",
          "none",
          "none",
          "none",
          "completed",
          "completed",
          "none",
          "none",
          "none",
          "none",
          "completed",
          "none",
          "none",
          "none",
          "none",
          "completed",
          "none",
          "completed",
          "completed",
          "completed",
          "none",
          "none",
          "completed",
          "completed",
          "none",
          "none",
          "none",
          "none",
          "none",
          "none",
          "none",
          "none",
          "none",
          "none",
          "none",
          "none",
          "completed",
          "completed",
          "none",
          "completed",
          "none",
          "none",
          "completed",
          "completed",
          "completed",
          "none",
          "completed",
          "none",
          "none",
          "none",
          "none",
          "completed",
          "completed",
          "none",
          "none",
          "completed",
          "none",
          "none",
          "completed",
          "completed",
          "none",
          "none",
          "none",
          "none",
          "none",
          "completed",
          "completed",
          "completed",
          "completed",
          "none",
          "none",
          "none",
          "none",
          "none",
          "completed",
          "none",
          "completed",
          "none",
          "completed",
          "none",
          "none",
          "none",
          "none",
          "none",
          "none",
          "completed",
          "none",
          "completed",
          "none",
          "completed",
          "none",
          "none",
          "completed",
          "none",
          "none",
          "completed",
          "none",
          "none",
          "none",
          "none",
          "completed",
          "none",
          "none",
          "none",
          "completed",
          "none",
          "completed",
          "none",
          "none",
          "none",
          "completed",
          "none",
          "completed",
          "completed",
          "none",
          "none",
          "none",
          "completed",
          "none",
          "completed",
          "completed",
          "none",
          "completed",
          "completed",
          "completed",
          "none",
          "none",
          "completed",
          "completed",
          "completed",
          "none",
          "completed",
          "none",
          "completed",
          "none",
          "completed",
          "none",
          "none",
          "none",
          "none",
          "completed",
          "none",
          "completed",
          "completed",
          "none",
          "completed",
          "none",
          "completed",
          "none",
          "completed",
          "completed",
          "none",
          "none"
         ],
         "x0": " ",
         "xaxis": "x",
         "y": [
          47,
          76,
          40,
          64,
          58,
          40,
          78,
          88,
          46,
          66,
          44,
          74,
          73,
          69,
          70,
          40,
          97,
          81,
          57,
          55,
          59,
          65,
          82,
          53,
          77,
          53,
          88,
          52,
          58,
          79,
          39,
          62,
          67,
          45,
          61,
          63,
          61,
          49,
          44,
          30,
          80,
          49,
          50,
          72,
          42,
          27,
          71,
          43,
          78,
          65,
          79,
          68,
          60,
          98,
          66,
          62,
          54,
          84,
          91,
          63,
          83,
          72,
          65,
          82,
          89,
          53,
          87,
          74,
          58,
          51,
          70,
          71,
          57,
          88,
          88,
          73,
          100,
          62,
          77,
          54,
          62,
          60,
          66,
          82,
          49,
          52,
          53,
          72,
          94,
          62,
          45,
          65,
          80,
          62,
          48,
          76,
          77,
          61,
          59,
          55,
          69,
          59,
          74,
          82,
          81,
          80,
          35,
          60,
          87,
          84,
          66,
          61,
          87,
          86,
          57,
          68,
          76,
          46,
          92,
          83,
          80,
          63,
          54,
          84,
          73,
          59,
          75,
          85,
          89,
          68,
          47,
          80,
          54,
          78,
          79,
          76,
          59,
          69,
          58,
          88,
          83,
          73,
          53,
          45,
          81,
          97,
          88,
          77,
          76,
          86,
          63,
          78,
          67,
          46,
          71,
          40,
          90,
          81,
          56,
          80,
          69,
          99,
          51,
          66,
          67,
          71,
          83,
          63,
          61,
          28,
          82,
          71,
          47,
          62,
          90,
          76,
          49,
          58,
          67,
          79,
          62,
          75,
          87,
          66,
          63,
          59,
          85,
          59,
          49,
          69,
          61,
          84,
          74,
          46,
          66,
          87,
          79,
          73,
          73,
          76,
          57,
          48,
          74,
          60,
          53,
          65,
          87,
          84,
          71,
          63,
          84,
          71,
          74,
          68,
          57,
          41,
          86,
          69,
          65,
          68,
          64,
          61,
          73,
          50,
          75,
          75,
          70,
          89,
          79,
          69,
          86,
          47,
          81,
          65,
          37,
          53,
          72,
          53,
          54,
          75,
          72,
          91,
          76,
          80,
          76,
          73,
          68,
          59,
          70,
          61,
          64,
          79,
          68,
          76,
          63,
          68,
          55,
          79,
          76,
          64,
          62,
          71,
          69,
          54,
          53,
          68,
          56,
          62,
          73,
          51,
          85,
          97,
          75,
          79,
          78,
          72,
          79,
          79,
          87,
          77,
          53,
          61,
          73,
          96,
          48,
          48,
          63,
          68,
          71,
          91,
          40,
          61,
          58,
          71,
          68,
          30,
          53,
          60,
          84,
          75,
          69,
          94,
          88,
          95,
          65,
          62,
          58,
          100,
          100,
          69,
          61,
          49,
          67,
          79,
          84,
          71,
          86,
          41,
          70,
          51,
          77,
          69,
          90,
          74,
          73,
          80,
          73,
          81,
          52,
          81,
          63,
          60,
          62,
          62,
          85,
          77,
          53,
          93,
          66,
          87,
          62,
          46,
          66,
          89,
          93,
          81,
          73,
          91,
          55,
          50,
          47,
          81,
          68,
          53,
          55,
          55,
          67,
          92,
          81,
          61,
          80,
          55,
          72,
          69,
          69,
          87,
          71,
          68,
          79,
          58,
          55,
          70,
          69,
          78,
          60,
          76,
          58,
          52,
          75,
          66,
          94,
          91,
          68,
          66,
          89,
          70,
          69,
          67,
          76,
          75,
          90,
          59,
          51,
          45,
          87,
          94,
          61,
          49,
          62,
          68,
          64,
          58,
          73,
          58,
          64,
          74,
          90,
          91,
          64,
          80,
          71,
          82,
          62,
          75,
          52,
          87,
          39,
          97,
          82,
          59,
          61,
          78,
          49,
          59,
          82,
          90,
          80,
          81,
          57,
          63,
          55,
          54,
          44,
          88,
          36,
          67,
          85,
          88,
          57,
          70,
          50,
          100,
          91,
          69,
          72,
          74,
          74,
          64,
          46,
          67,
          62,
          61,
          70,
          98,
          70,
          67,
          85,
          77,
          72,
          81,
          61,
          82,
          49,
          94,
          58,
          72,
          84,
          75,
          72,
          66,
          63,
          78,
          60,
          62,
          55,
          81,
          79,
          57,
          81,
          86,
          63,
          62
         ],
         "y0": " ",
         "yaxis": "y"
        }
       ],
       "layout": {
        "boxmode": "group",
        "legend": {
         "title": {
          "text": "gender"
         },
         "tracegroupgap": 0
        },
        "margin": {
         "t": 60
        },
        "template": {
         "data": {
          "bar": [
           {
            "error_x": {
             "color": "#2a3f5f"
            },
            "error_y": {
             "color": "#2a3f5f"
            },
            "marker": {
             "line": {
              "color": "#E5ECF6",
              "width": 0.5
             },
             "pattern": {
              "fillmode": "overlay",
              "size": 10,
              "solidity": 0.2
             }
            },
            "type": "bar"
           }
          ],
          "barpolar": [
           {
            "marker": {
             "line": {
              "color": "#E5ECF6",
              "width": 0.5
             },
             "pattern": {
              "fillmode": "overlay",
              "size": 10,
              "solidity": 0.2
             }
            },
            "type": "barpolar"
           }
          ],
          "carpet": [
           {
            "aaxis": {
             "endlinecolor": "#2a3f5f",
             "gridcolor": "white",
             "linecolor": "white",
             "minorgridcolor": "white",
             "startlinecolor": "#2a3f5f"
            },
            "baxis": {
             "endlinecolor": "#2a3f5f",
             "gridcolor": "white",
             "linecolor": "white",
             "minorgridcolor": "white",
             "startlinecolor": "#2a3f5f"
            },
            "type": "carpet"
           }
          ],
          "choropleth": [
           {
            "colorbar": {
             "outlinewidth": 0,
             "ticks": ""
            },
            "type": "choropleth"
           }
          ],
          "contour": [
           {
            "colorbar": {
             "outlinewidth": 0,
             "ticks": ""
            },
            "colorscale": [
             [
              0,
              "#0d0887"
             ],
             [
              0.1111111111111111,
              "#46039f"
             ],
             [
              0.2222222222222222,
              "#7201a8"
             ],
             [
              0.3333333333333333,
              "#9c179e"
             ],
             [
              0.4444444444444444,
              "#bd3786"
             ],
             [
              0.5555555555555556,
              "#d8576b"
             ],
             [
              0.6666666666666666,
              "#ed7953"
             ],
             [
              0.7777777777777778,
              "#fb9f3a"
             ],
             [
              0.8888888888888888,
              "#fdca26"
             ],
             [
              1,
              "#f0f921"
             ]
            ],
            "type": "contour"
           }
          ],
          "contourcarpet": [
           {
            "colorbar": {
             "outlinewidth": 0,
             "ticks": ""
            },
            "type": "contourcarpet"
           }
          ],
          "heatmap": [
           {
            "colorbar": {
             "outlinewidth": 0,
             "ticks": ""
            },
            "colorscale": [
             [
              0,
              "#0d0887"
             ],
             [
              0.1111111111111111,
              "#46039f"
             ],
             [
              0.2222222222222222,
              "#7201a8"
             ],
             [
              0.3333333333333333,
              "#9c179e"
             ],
             [
              0.4444444444444444,
              "#bd3786"
             ],
             [
              0.5555555555555556,
              "#d8576b"
             ],
             [
              0.6666666666666666,
              "#ed7953"
             ],
             [
              0.7777777777777778,
              "#fb9f3a"
             ],
             [
              0.8888888888888888,
              "#fdca26"
             ],
             [
              1,
              "#f0f921"
             ]
            ],
            "type": "heatmap"
           }
          ],
          "heatmapgl": [
           {
            "colorbar": {
             "outlinewidth": 0,
             "ticks": ""
            },
            "colorscale": [
             [
              0,
              "#0d0887"
             ],
             [
              0.1111111111111111,
              "#46039f"
             ],
             [
              0.2222222222222222,
              "#7201a8"
             ],
             [
              0.3333333333333333,
              "#9c179e"
             ],
             [
              0.4444444444444444,
              "#bd3786"
             ],
             [
              0.5555555555555556,
              "#d8576b"
             ],
             [
              0.6666666666666666,
              "#ed7953"
             ],
             [
              0.7777777777777778,
              "#fb9f3a"
             ],
             [
              0.8888888888888888,
              "#fdca26"
             ],
             [
              1,
              "#f0f921"
             ]
            ],
            "type": "heatmapgl"
           }
          ],
          "histogram": [
           {
            "marker": {
             "pattern": {
              "fillmode": "overlay",
              "size": 10,
              "solidity": 0.2
             }
            },
            "type": "histogram"
           }
          ],
          "histogram2d": [
           {
            "colorbar": {
             "outlinewidth": 0,
             "ticks": ""
            },
            "colorscale": [
             [
              0,
              "#0d0887"
             ],
             [
              0.1111111111111111,
              "#46039f"
             ],
             [
              0.2222222222222222,
              "#7201a8"
             ],
             [
              0.3333333333333333,
              "#9c179e"
             ],
             [
              0.4444444444444444,
              "#bd3786"
             ],
             [
              0.5555555555555556,
              "#d8576b"
             ],
             [
              0.6666666666666666,
              "#ed7953"
             ],
             [
              0.7777777777777778,
              "#fb9f3a"
             ],
             [
              0.8888888888888888,
              "#fdca26"
             ],
             [
              1,
              "#f0f921"
             ]
            ],
            "type": "histogram2d"
           }
          ],
          "histogram2dcontour": [
           {
            "colorbar": {
             "outlinewidth": 0,
             "ticks": ""
            },
            "colorscale": [
             [
              0,
              "#0d0887"
             ],
             [
              0.1111111111111111,
              "#46039f"
             ],
             [
              0.2222222222222222,
              "#7201a8"
             ],
             [
              0.3333333333333333,
              "#9c179e"
             ],
             [
              0.4444444444444444,
              "#bd3786"
             ],
             [
              0.5555555555555556,
              "#d8576b"
             ],
             [
              0.6666666666666666,
              "#ed7953"
             ],
             [
              0.7777777777777778,
              "#fb9f3a"
             ],
             [
              0.8888888888888888,
              "#fdca26"
             ],
             [
              1,
              "#f0f921"
             ]
            ],
            "type": "histogram2dcontour"
           }
          ],
          "mesh3d": [
           {
            "colorbar": {
             "outlinewidth": 0,
             "ticks": ""
            },
            "type": "mesh3d"
           }
          ],
          "parcoords": [
           {
            "line": {
             "colorbar": {
              "outlinewidth": 0,
              "ticks": ""
             }
            },
            "type": "parcoords"
           }
          ],
          "pie": [
           {
            "automargin": true,
            "type": "pie"
           }
          ],
          "scatter": [
           {
            "marker": {
             "colorbar": {
              "outlinewidth": 0,
              "ticks": ""
             }
            },
            "type": "scatter"
           }
          ],
          "scatter3d": [
           {
            "line": {
             "colorbar": {
              "outlinewidth": 0,
              "ticks": ""
             }
            },
            "marker": {
             "colorbar": {
              "outlinewidth": 0,
              "ticks": ""
             }
            },
            "type": "scatter3d"
           }
          ],
          "scattercarpet": [
           {
            "marker": {
             "colorbar": {
              "outlinewidth": 0,
              "ticks": ""
             }
            },
            "type": "scattercarpet"
           }
          ],
          "scattergeo": [
           {
            "marker": {
             "colorbar": {
              "outlinewidth": 0,
              "ticks": ""
             }
            },
            "type": "scattergeo"
           }
          ],
          "scattergl": [
           {
            "marker": {
             "colorbar": {
              "outlinewidth": 0,
              "ticks": ""
             }
            },
            "type": "scattergl"
           }
          ],
          "scattermapbox": [
           {
            "marker": {
             "colorbar": {
              "outlinewidth": 0,
              "ticks": ""
             }
            },
            "type": "scattermapbox"
           }
          ],
          "scatterpolar": [
           {
            "marker": {
             "colorbar": {
              "outlinewidth": 0,
              "ticks": ""
             }
            },
            "type": "scatterpolar"
           }
          ],
          "scatterpolargl": [
           {
            "marker": {
             "colorbar": {
              "outlinewidth": 0,
              "ticks": ""
             }
            },
            "type": "scatterpolargl"
           }
          ],
          "scatterternary": [
           {
            "marker": {
             "colorbar": {
              "outlinewidth": 0,
              "ticks": ""
             }
            },
            "type": "scatterternary"
           }
          ],
          "surface": [
           {
            "colorbar": {
             "outlinewidth": 0,
             "ticks": ""
            },
            "colorscale": [
             [
              0,
              "#0d0887"
             ],
             [
              0.1111111111111111,
              "#46039f"
             ],
             [
              0.2222222222222222,
              "#7201a8"
             ],
             [
              0.3333333333333333,
              "#9c179e"
             ],
             [
              0.4444444444444444,
              "#bd3786"
             ],
             [
              0.5555555555555556,
              "#d8576b"
             ],
             [
              0.6666666666666666,
              "#ed7953"
             ],
             [
              0.7777777777777778,
              "#fb9f3a"
             ],
             [
              0.8888888888888888,
              "#fdca26"
             ],
             [
              1,
              "#f0f921"
             ]
            ],
            "type": "surface"
           }
          ],
          "table": [
           {
            "cells": {
             "fill": {
              "color": "#EBF0F8"
             },
             "line": {
              "color": "white"
             }
            },
            "header": {
             "fill": {
              "color": "#C8D4E3"
             },
             "line": {
              "color": "white"
             }
            },
            "type": "table"
           }
          ]
         },
         "layout": {
          "annotationdefaults": {
           "arrowcolor": "#2a3f5f",
           "arrowhead": 0,
           "arrowwidth": 1
          },
          "autotypenumbers": "strict",
          "coloraxis": {
           "colorbar": {
            "outlinewidth": 0,
            "ticks": ""
           }
          },
          "colorscale": {
           "diverging": [
            [
             0,
             "#8e0152"
            ],
            [
             0.1,
             "#c51b7d"
            ],
            [
             0.2,
             "#de77ae"
            ],
            [
             0.3,
             "#f1b6da"
            ],
            [
             0.4,
             "#fde0ef"
            ],
            [
             0.5,
             "#f7f7f7"
            ],
            [
             0.6,
             "#e6f5d0"
            ],
            [
             0.7,
             "#b8e186"
            ],
            [
             0.8,
             "#7fbc41"
            ],
            [
             0.9,
             "#4d9221"
            ],
            [
             1,
             "#276419"
            ]
           ],
           "sequential": [
            [
             0,
             "#0d0887"
            ],
            [
             0.1111111111111111,
             "#46039f"
            ],
            [
             0.2222222222222222,
             "#7201a8"
            ],
            [
             0.3333333333333333,
             "#9c179e"
            ],
            [
             0.4444444444444444,
             "#bd3786"
            ],
            [
             0.5555555555555556,
             "#d8576b"
            ],
            [
             0.6666666666666666,
             "#ed7953"
            ],
            [
             0.7777777777777778,
             "#fb9f3a"
            ],
            [
             0.8888888888888888,
             "#fdca26"
            ],
            [
             1,
             "#f0f921"
            ]
           ],
           "sequentialminus": [
            [
             0,
             "#0d0887"
            ],
            [
             0.1111111111111111,
             "#46039f"
            ],
            [
             0.2222222222222222,
             "#7201a8"
            ],
            [
             0.3333333333333333,
             "#9c179e"
            ],
            [
             0.4444444444444444,
             "#bd3786"
            ],
            [
             0.5555555555555556,
             "#d8576b"
            ],
            [
             0.6666666666666666,
             "#ed7953"
            ],
            [
             0.7777777777777778,
             "#fb9f3a"
            ],
            [
             0.8888888888888888,
             "#fdca26"
            ],
            [
             1,
             "#f0f921"
            ]
           ]
          },
          "colorway": [
           "#636efa",
           "#EF553B",
           "#00cc96",
           "#ab63fa",
           "#FFA15A",
           "#19d3f3",
           "#FF6692",
           "#B6E880",
           "#FF97FF",
           "#FECB52"
          ],
          "font": {
           "color": "#2a3f5f"
          },
          "geo": {
           "bgcolor": "white",
           "lakecolor": "white",
           "landcolor": "#E5ECF6",
           "showlakes": true,
           "showland": true,
           "subunitcolor": "white"
          },
          "hoverlabel": {
           "align": "left"
          },
          "hovermode": "closest",
          "mapbox": {
           "style": "light"
          },
          "paper_bgcolor": "white",
          "plot_bgcolor": "#E5ECF6",
          "polar": {
           "angularaxis": {
            "gridcolor": "white",
            "linecolor": "white",
            "ticks": ""
           },
           "bgcolor": "#E5ECF6",
           "radialaxis": {
            "gridcolor": "white",
            "linecolor": "white",
            "ticks": ""
           }
          },
          "scene": {
           "xaxis": {
            "backgroundcolor": "#E5ECF6",
            "gridcolor": "white",
            "gridwidth": 2,
            "linecolor": "white",
            "showbackground": true,
            "ticks": "",
            "zerolinecolor": "white"
           },
           "yaxis": {
            "backgroundcolor": "#E5ECF6",
            "gridcolor": "white",
            "gridwidth": 2,
            "linecolor": "white",
            "showbackground": true,
            "ticks": "",
            "zerolinecolor": "white"
           },
           "zaxis": {
            "backgroundcolor": "#E5ECF6",
            "gridcolor": "white",
            "gridwidth": 2,
            "linecolor": "white",
            "showbackground": true,
            "ticks": "",
            "zerolinecolor": "white"
           }
          },
          "shapedefaults": {
           "line": {
            "color": "#2a3f5f"
           }
          },
          "ternary": {
           "aaxis": {
            "gridcolor": "white",
            "linecolor": "white",
            "ticks": ""
           },
           "baxis": {
            "gridcolor": "white",
            "linecolor": "white",
            "ticks": ""
           },
           "bgcolor": "#E5ECF6",
           "caxis": {
            "gridcolor": "white",
            "linecolor": "white",
            "ticks": ""
           }
          },
          "title": {
           "x": 0.05
          },
          "xaxis": {
           "automargin": true,
           "gridcolor": "white",
           "linecolor": "white",
           "ticks": "",
           "title": {
            "standoff": 15
           },
           "zerolinecolor": "white",
           "zerolinewidth": 2
          },
          "yaxis": {
           "automargin": true,
           "gridcolor": "white",
           "linecolor": "white",
           "ticks": "",
           "title": {
            "standoff": 15
           },
           "zerolinecolor": "white",
           "zerolinewidth": 2
          }
         }
        },
        "xaxis": {
         "anchor": "y",
         "domain": [
          0,
          1
         ],
         "title": {
          "text": "test preparation course"
         }
        },
        "yaxis": {
         "anchor": "x",
         "domain": [
          0,
          1
         ],
         "title": {
          "text": "math score"
         }
        }
       }
      },
      "text/html": [
       "<div>                            <div id=\"f72e0a73-b4a9-4fb3-959b-f38d2469eb84\" class=\"plotly-graph-div\" style=\"height:525px; width:100%;\"></div>            <script type=\"text/javascript\">                require([\"plotly\"], function(Plotly) {                    window.PLOTLYENV=window.PLOTLYENV || {};                                    if (document.getElementById(\"f72e0a73-b4a9-4fb3-959b-f38d2469eb84\")) {                    Plotly.newPlot(                        \"f72e0a73-b4a9-4fb3-959b-f38d2469eb84\",                        [{\"alignmentgroup\":\"True\",\"hovertemplate\":\"gender=female<br>test preparation course=%{x}<br>math score=%{y}<extra></extra>\",\"legendgroup\":\"female\",\"marker\":{\"color\":\"#636efa\"},\"name\":\"female\",\"notched\":false,\"offsetgroup\":\"female\",\"orientation\":\"v\",\"showlegend\":true,\"x\":[\"none\",\"completed\",\"none\",\"none\",\"completed\",\"none\",\"none\",\"none\",\"none\",\"none\",\"none\",\"completed\",\"none\",\"none\",\"none\",\"none\",\"none\",\"none\",\"none\",\"none\",\"completed\",\"none\",\"none\",\"none\",\"completed\",\"none\",\"completed\",\"completed\",\"none\",\"completed\",\"none\",\"none\",\"none\",\"none\",\"none\",\"completed\",\"none\",\"completed\",\"none\",\"none\",\"none\",\"none\",\"none\",\"none\",\"none\",\"none\",\"none\",\"completed\",\"none\",\"none\",\"none\",\"none\",\"none\",\"none\",\"none\",\"completed\",\"none\",\"completed\",\"none\",\"none\",\"none\",\"none\",\"completed\",\"completed\",\"none\",\"none\",\"completed\",\"none\",\"none\",\"none\",\"completed\",\"none\",\"completed\",\"completed\",\"completed\",\"completed\",\"completed\",\"completed\",\"none\",\"completed\",\"completed\",\"completed\",\"completed\",\"none\",\"none\",\"completed\",\"completed\",\"completed\",\"completed\",\"completed\",\"completed\",\"none\",\"none\",\"none\",\"none\",\"none\",\"none\",\"completed\",\"none\",\"none\",\"completed\",\"none\",\"none\",\"none\",\"none\",\"none\",\"completed\",\"none\",\"completed\",\"none\",\"completed\",\"none\",\"none\",\"completed\",\"none\",\"completed\",\"none\",\"none\",\"completed\",\"none\",\"none\",\"completed\",\"none\",\"none\",\"none\",\"completed\",\"completed\",\"none\",\"none\",\"none\",\"none\",\"completed\",\"none\",\"none\",\"none\",\"completed\",\"completed\",\"none\",\"none\",\"completed\",\"none\",\"none\",\"none\",\"completed\",\"completed\",\"none\",\"none\",\"none\",\"completed\",\"completed\",\"completed\",\"none\",\"completed\",\"none\",\"none\",\"none\",\"none\",\"none\",\"none\",\"none\",\"none\",\"none\",\"completed\",\"none\",\"completed\",\"none\",\"completed\",\"none\",\"completed\",\"none\",\"none\",\"none\",\"completed\",\"none\",\"none\",\"none\",\"none\",\"none\",\"none\",\"completed\",\"completed\",\"none\",\"none\",\"completed\",\"none\",\"none\",\"none\",\"none\",\"none\",\"none\",\"none\",\"none\",\"none\",\"completed\",\"none\",\"none\",\"completed\",\"none\",\"completed\",\"none\",\"none\",\"none\",\"completed\",\"completed\",\"completed\",\"completed\",\"completed\",\"completed\",\"completed\",\"none\",\"none\",\"none\",\"completed\",\"none\",\"none\",\"none\",\"completed\",\"completed\",\"none\",\"none\",\"none\",\"none\",\"none\",\"none\",\"none\",\"none\",\"none\",\"completed\",\"completed\",\"none\",\"completed\",\"none\",\"completed\",\"completed\",\"none\",\"none\",\"none\",\"none\",\"none\",\"none\",\"none\",\"none\",\"none\",\"none\",\"completed\",\"none\",\"none\",\"completed\",\"completed\",\"none\",\"none\",\"none\",\"completed\",\"completed\",\"completed\",\"none\",\"completed\",\"completed\",\"completed\",\"none\",\"none\",\"none\",\"none\",\"completed\",\"none\",\"completed\",\"completed\",\"none\",\"none\",\"none\",\"none\",\"completed\",\"none\",\"none\",\"none\",\"completed\",\"none\",\"completed\",\"none\",\"completed\",\"completed\",\"completed\",\"none\",\"completed\",\"none\",\"none\",\"completed\",\"none\",\"none\",\"none\",\"none\",\"completed\",\"none\",\"none\",\"none\",\"none\",\"none\",\"none\",\"none\",\"completed\",\"completed\",\"none\",\"none\",\"none\",\"none\",\"none\",\"none\",\"none\",\"none\",\"none\",\"none\",\"none\",\"none\",\"none\",\"none\",\"none\",\"none\",\"completed\",\"completed\",\"none\",\"completed\",\"completed\",\"none\",\"completed\",\"none\",\"completed\",\"completed\",\"none\",\"none\",\"none\",\"completed\",\"completed\",\"completed\",\"completed\",\"none\",\"none\",\"none\",\"none\",\"none\",\"completed\",\"completed\",\"none\",\"none\",\"none\",\"completed\",\"completed\",\"completed\",\"completed\",\"completed\",\"none\",\"completed\",\"completed\",\"none\",\"none\",\"completed\",\"none\",\"none\",\"none\",\"completed\",\"none\",\"completed\",\"completed\",\"none\",\"none\",\"completed\",\"completed\",\"completed\",\"none\",\"completed\",\"completed\",\"completed\",\"none\",\"none\",\"completed\",\"completed\",\"none\",\"completed\",\"completed\",\"none\",\"completed\",\"none\",\"none\",\"completed\",\"none\",\"completed\",\"none\",\"completed\",\"none\",\"none\",\"none\",\"none\",\"completed\",\"none\",\"completed\",\"none\",\"none\",\"none\",\"none\",\"completed\",\"none\",\"none\",\"completed\",\"completed\",\"completed\",\"none\",\"none\",\"none\",\"none\",\"none\",\"none\",\"completed\",\"none\",\"none\",\"none\",\"none\",\"none\",\"none\",\"none\",\"completed\",\"none\",\"none\",\"none\",\"none\",\"completed\",\"none\",\"none\",\"none\",\"completed\",\"none\",\"completed\",\"none\",\"completed\",\"completed\",\"completed\",\"completed\",\"none\",\"none\",\"completed\",\"completed\",\"none\",\"none\",\"none\",\"none\",\"none\",\"none\",\"none\",\"completed\",\"completed\",\"none\",\"none\",\"none\",\"completed\",\"none\",\"none\",\"completed\",\"completed\",\"none\",\"completed\",\"none\",\"none\",\"none\",\"none\",\"completed\",\"completed\",\"none\",\"completed\",\"completed\",\"none\",\"completed\",\"none\",\"none\",\"completed\",\"completed\",\"none\",\"none\",\"none\",\"completed\",\"none\",\"none\",\"completed\",\"none\",\"none\",\"none\",\"none\",\"none\",\"none\",\"completed\",\"completed\",\"none\",\"none\",\"none\",\"none\",\"none\",\"none\",\"none\",\"completed\",\"none\",\"none\",\"none\",\"none\",\"completed\",\"none\",\"none\",\"completed\",\"none\",\"none\",\"completed\",\"none\",\"none\",\"none\",\"completed\",\"completed\",\"none\",\"none\",\"completed\",\"completed\",\"completed\",\"none\"],\"x0\":\" \",\"xaxis\":\"x\",\"y\":[72,69,90,71,88,38,65,50,69,18,54,65,69,67,62,69,63,56,74,50,75,58,53,50,55,66,57,71,33,82,0,69,59,60,39,58,41,61,62,47,73,76,71,58,73,65,79,63,58,65,85,58,87,52,70,77,51,99,75,78,51,55,79,88,87,51,75,59,76,59,42,22,68,59,70,66,61,75,81,96,58,68,67,79,63,43,81,46,71,52,97,46,50,65,77,66,62,69,45,78,67,65,57,74,58,42,83,34,56,55,52,45,72,88,67,64,80,56,58,65,71,60,62,64,70,65,64,44,99,63,69,88,71,47,65,85,59,65,73,70,37,67,65,67,74,53,49,73,68,59,77,56,67,75,71,43,41,82,41,83,61,24,35,61,69,72,77,52,63,46,59,61,42,80,58,52,27,44,73,45,82,59,80,85,71,80,38,38,67,64,57,62,77,65,50,85,59,49,88,54,63,82,52,70,51,82,57,47,59,62,61,47,67,78,59,73,67,64,100,65,53,79,100,71,77,84,26,77,83,63,68,59,90,71,55,52,49,60,65,64,83,81,54,54,59,66,74,94,95,40,82,86,54,77,76,74,66,66,67,91,36,29,62,68,47,79,66,51,81,82,64,92,62,40,32,55,53,74,63,63,92,61,53,50,74,81,48,53,81,77,63,73,69,65,55,44,54,48,74,92,56,69,65,54,29,76,85,40,61,58,58,65,82,60,37,35,61,44,66,75,67,80,76,74,72,74,65,59,64,50,69,68,85,65,73,62,43,55,65,50,63,77,66,69,65,69,50,73,70,67,29,94,49,73,66,77,49,79,75,59,57,79,57,63,59,42,80,98,60,76,96,76,62,74,65,73,68,87,53,53,37,81,59,50,77,84,52,53,48,62,74,58,68,52,62,49,66,35,72,46,77,76,52,32,72,19,52,48,60,42,57,70,52,87,82,73,64,41,54,72,45,60,77,85,78,71,48,56,65,69,61,74,77,60,75,66,39,23,40,59,61,87,97,65,53,81,71,70,43,59,64,71,64,51,62,93,69,86,85,50,59,32,63,65,73,34,93,67,79,67,69,52,47,46,68,44,57,35,54,65,48,57,78,58,54,49,57,75,74,62,92,45,56,48,100,65,62,68,75,89,53,49,54,64,91,8,78,74,40,44,67,65,55,62,88,59,68,77],\"y0\":\" \",\"yaxis\":\"y\",\"type\":\"box\"},{\"alignmentgroup\":\"True\",\"hovertemplate\":\"gender=male<br>test preparation course=%{x}<br>math score=%{y}<extra></extra>\",\"legendgroup\":\"male\",\"marker\":{\"color\":\"#EF553B\"},\"name\":\"male\",\"notched\":false,\"offsetgroup\":\"male\",\"orientation\":\"v\",\"showlegend\":true,\"x\":[\"none\",\"none\",\"none\",\"completed\",\"none\",\"none\",\"completed\",\"none\",\"completed\",\"none\",\"none\",\"completed\",\"none\",\"none\",\"none\",\"none\",\"none\",\"completed\",\"none\",\"none\",\"completed\",\"none\",\"completed\",\"none\",\"completed\",\"none\",\"none\",\"none\",\"completed\",\"completed\",\"none\",\"none\",\"none\",\"none\",\"none\",\"completed\",\"none\",\"none\",\"none\",\"none\",\"completed\",\"none\",\"completed\",\"none\",\"none\",\"none\",\"none\",\"completed\",\"completed\",\"completed\",\"none\",\"completed\",\"completed\",\"completed\",\"completed\",\"none\",\"none\",\"none\",\"completed\",\"none\",\"none\",\"none\",\"completed\",\"none\",\"none\",\"completed\",\"completed\",\"completed\",\"none\",\"completed\",\"none\",\"completed\",\"none\",\"none\",\"none\",\"none\",\"completed\",\"completed\",\"none\",\"none\",\"none\",\"none\",\"none\",\"completed\",\"none\",\"none\",\"completed\",\"completed\",\"none\",\"completed\",\"completed\",\"completed\",\"none\",\"completed\",\"none\",\"completed\",\"completed\",\"none\",\"completed\",\"none\",\"none\",\"none\",\"completed\",\"none\",\"completed\",\"completed\",\"none\",\"completed\",\"completed\",\"completed\",\"none\",\"completed\",\"none\",\"none\",\"none\",\"none\",\"none\",\"none\",\"none\",\"completed\",\"none\",\"none\",\"none\",\"none\",\"completed\",\"none\",\"none\",\"none\",\"none\",\"none\",\"completed\",\"none\",\"none\",\"completed\",\"completed\",\"none\",\"none\",\"none\",\"none\",\"completed\",\"none\",\"none\",\"none\",\"none\",\"completed\",\"completed\",\"none\",\"completed\",\"none\",\"none\",\"completed\",\"completed\",\"none\",\"completed\",\"completed\",\"completed\",\"none\",\"completed\",\"none\",\"none\",\"none\",\"completed\",\"none\",\"none\",\"completed\",\"none\",\"none\",\"none\",\"none\",\"none\",\"completed\",\"none\",\"none\",\"completed\",\"none\",\"completed\",\"none\",\"none\",\"completed\",\"none\",\"none\",\"none\",\"none\",\"none\",\"none\",\"none\",\"completed\",\"none\",\"completed\",\"completed\",\"none\",\"none\",\"none\",\"none\",\"none\",\"completed\",\"none\",\"none\",\"completed\",\"none\",\"completed\",\"none\",\"none\",\"none\",\"none\",\"completed\",\"completed\",\"completed\",\"none\",\"completed\",\"none\",\"completed\",\"none\",\"none\",\"completed\",\"none\",\"none\",\"none\",\"none\",\"none\",\"none\",\"none\",\"none\",\"completed\",\"none\",\"none\",\"none\",\"completed\",\"none\",\"none\",\"completed\",\"none\",\"none\",\"none\",\"none\",\"none\",\"completed\",\"none\",\"none\",\"completed\",\"completed\",\"none\",\"completed\",\"none\",\"none\",\"completed\",\"none\",\"none\",\"none\",\"none\",\"completed\",\"completed\",\"completed\",\"none\",\"none\",\"none\",\"none\",\"none\",\"none\",\"none\",\"none\",\"none\",\"none\",\"none\",\"completed\",\"none\",\"completed\",\"completed\",\"completed\",\"completed\",\"completed\",\"completed\",\"completed\",\"completed\",\"completed\",\"completed\",\"none\",\"none\",\"completed\",\"none\",\"none\",\"none\",\"none\",\"completed\",\"none\",\"none\",\"none\",\"none\",\"completed\",\"none\",\"completed\",\"completed\",\"none\",\"none\",\"none\",\"none\",\"none\",\"none\",\"completed\",\"none\",\"completed\",\"completed\",\"none\",\"none\",\"completed\",\"none\",\"completed\",\"completed\",\"completed\",\"completed\",\"none\",\"none\",\"none\",\"none\",\"none\",\"none\",\"none\",\"none\",\"none\",\"completed\",\"none\",\"none\",\"none\",\"none\",\"none\",\"none\",\"none\",\"completed\",\"none\",\"none\",\"none\",\"none\",\"none\",\"completed\",\"completed\",\"none\",\"none\",\"none\",\"none\",\"completed\",\"none\",\"none\",\"none\",\"none\",\"completed\",\"none\",\"completed\",\"completed\",\"completed\",\"none\",\"none\",\"completed\",\"completed\",\"none\",\"none\",\"none\",\"none\",\"none\",\"none\",\"none\",\"none\",\"none\",\"none\",\"none\",\"none\",\"completed\",\"completed\",\"none\",\"completed\",\"none\",\"none\",\"completed\",\"completed\",\"completed\",\"none\",\"completed\",\"none\",\"none\",\"none\",\"none\",\"completed\",\"completed\",\"none\",\"none\",\"completed\",\"none\",\"none\",\"completed\",\"completed\",\"none\",\"none\",\"none\",\"none\",\"none\",\"completed\",\"completed\",\"completed\",\"completed\",\"none\",\"none\",\"none\",\"none\",\"none\",\"completed\",\"none\",\"completed\",\"none\",\"completed\",\"none\",\"none\",\"none\",\"none\",\"none\",\"none\",\"completed\",\"none\",\"completed\",\"none\",\"completed\",\"none\",\"none\",\"completed\",\"none\",\"none\",\"completed\",\"none\",\"none\",\"none\",\"none\",\"completed\",\"none\",\"none\",\"none\",\"completed\",\"none\",\"completed\",\"none\",\"none\",\"none\",\"completed\",\"none\",\"completed\",\"completed\",\"none\",\"none\",\"none\",\"completed\",\"none\",\"completed\",\"completed\",\"none\",\"completed\",\"completed\",\"completed\",\"none\",\"none\",\"completed\",\"completed\",\"completed\",\"none\",\"completed\",\"none\",\"completed\",\"none\",\"completed\",\"none\",\"none\",\"none\",\"none\",\"completed\",\"none\",\"completed\",\"completed\",\"none\",\"completed\",\"none\",\"completed\",\"none\",\"completed\",\"completed\",\"none\",\"none\"],\"x0\":\" \",\"xaxis\":\"x\",\"y\":[47,76,40,64,58,40,78,88,46,66,44,74,73,69,70,40,97,81,57,55,59,65,82,53,77,53,88,52,58,79,39,62,67,45,61,63,61,49,44,30,80,49,50,72,42,27,71,43,78,65,79,68,60,98,66,62,54,84,91,63,83,72,65,82,89,53,87,74,58,51,70,71,57,88,88,73,100,62,77,54,62,60,66,82,49,52,53,72,94,62,45,65,80,62,48,76,77,61,59,55,69,59,74,82,81,80,35,60,87,84,66,61,87,86,57,68,76,46,92,83,80,63,54,84,73,59,75,85,89,68,47,80,54,78,79,76,59,69,58,88,83,73,53,45,81,97,88,77,76,86,63,78,67,46,71,40,90,81,56,80,69,99,51,66,67,71,83,63,61,28,82,71,47,62,90,76,49,58,67,79,62,75,87,66,63,59,85,59,49,69,61,84,74,46,66,87,79,73,73,76,57,48,74,60,53,65,87,84,71,63,84,71,74,68,57,41,86,69,65,68,64,61,73,50,75,75,70,89,79,69,86,47,81,65,37,53,72,53,54,75,72,91,76,80,76,73,68,59,70,61,64,79,68,76,63,68,55,79,76,64,62,71,69,54,53,68,56,62,73,51,85,97,75,79,78,72,79,79,87,77,53,61,73,96,48,48,63,68,71,91,40,61,58,71,68,30,53,60,84,75,69,94,88,95,65,62,58,100,100,69,61,49,67,79,84,71,86,41,70,51,77,69,90,74,73,80,73,81,52,81,63,60,62,62,85,77,53,93,66,87,62,46,66,89,93,81,73,91,55,50,47,81,68,53,55,55,67,92,81,61,80,55,72,69,69,87,71,68,79,58,55,70,69,78,60,76,58,52,75,66,94,91,68,66,89,70,69,67,76,75,90,59,51,45,87,94,61,49,62,68,64,58,73,58,64,74,90,91,64,80,71,82,62,75,52,87,39,97,82,59,61,78,49,59,82,90,80,81,57,63,55,54,44,88,36,67,85,88,57,70,50,100,91,69,72,74,74,64,46,67,62,61,70,98,70,67,85,77,72,81,61,82,49,94,58,72,84,75,72,66,63,78,60,62,55,81,79,57,81,86,63,62],\"y0\":\" \",\"yaxis\":\"y\",\"type\":\"box\"}],                        {\"template\":{\"data\":{\"bar\":[{\"error_x\":{\"color\":\"#2a3f5f\"},\"error_y\":{\"color\":\"#2a3f5f\"},\"marker\":{\"line\":{\"color\":\"#E5ECF6\",\"width\":0.5},\"pattern\":{\"fillmode\":\"overlay\",\"size\":10,\"solidity\":0.2}},\"type\":\"bar\"}],\"barpolar\":[{\"marker\":{\"line\":{\"color\":\"#E5ECF6\",\"width\":0.5},\"pattern\":{\"fillmode\":\"overlay\",\"size\":10,\"solidity\":0.2}},\"type\":\"barpolar\"}],\"carpet\":[{\"aaxis\":{\"endlinecolor\":\"#2a3f5f\",\"gridcolor\":\"white\",\"linecolor\":\"white\",\"minorgridcolor\":\"white\",\"startlinecolor\":\"#2a3f5f\"},\"baxis\":{\"endlinecolor\":\"#2a3f5f\",\"gridcolor\":\"white\",\"linecolor\":\"white\",\"minorgridcolor\":\"white\",\"startlinecolor\":\"#2a3f5f\"},\"type\":\"carpet\"}],\"choropleth\":[{\"colorbar\":{\"outlinewidth\":0,\"ticks\":\"\"},\"type\":\"choropleth\"}],\"contour\":[{\"colorbar\":{\"outlinewidth\":0,\"ticks\":\"\"},\"colorscale\":[[0.0,\"#0d0887\"],[0.1111111111111111,\"#46039f\"],[0.2222222222222222,\"#7201a8\"],[0.3333333333333333,\"#9c179e\"],[0.4444444444444444,\"#bd3786\"],[0.5555555555555556,\"#d8576b\"],[0.6666666666666666,\"#ed7953\"],[0.7777777777777778,\"#fb9f3a\"],[0.8888888888888888,\"#fdca26\"],[1.0,\"#f0f921\"]],\"type\":\"contour\"}],\"contourcarpet\":[{\"colorbar\":{\"outlinewidth\":0,\"ticks\":\"\"},\"type\":\"contourcarpet\"}],\"heatmap\":[{\"colorbar\":{\"outlinewidth\":0,\"ticks\":\"\"},\"colorscale\":[[0.0,\"#0d0887\"],[0.1111111111111111,\"#46039f\"],[0.2222222222222222,\"#7201a8\"],[0.3333333333333333,\"#9c179e\"],[0.4444444444444444,\"#bd3786\"],[0.5555555555555556,\"#d8576b\"],[0.6666666666666666,\"#ed7953\"],[0.7777777777777778,\"#fb9f3a\"],[0.8888888888888888,\"#fdca26\"],[1.0,\"#f0f921\"]],\"type\":\"heatmap\"}],\"heatmapgl\":[{\"colorbar\":{\"outlinewidth\":0,\"ticks\":\"\"},\"colorscale\":[[0.0,\"#0d0887\"],[0.1111111111111111,\"#46039f\"],[0.2222222222222222,\"#7201a8\"],[0.3333333333333333,\"#9c179e\"],[0.4444444444444444,\"#bd3786\"],[0.5555555555555556,\"#d8576b\"],[0.6666666666666666,\"#ed7953\"],[0.7777777777777778,\"#fb9f3a\"],[0.8888888888888888,\"#fdca26\"],[1.0,\"#f0f921\"]],\"type\":\"heatmapgl\"}],\"histogram\":[{\"marker\":{\"pattern\":{\"fillmode\":\"overlay\",\"size\":10,\"solidity\":0.2}},\"type\":\"histogram\"}],\"histogram2d\":[{\"colorbar\":{\"outlinewidth\":0,\"ticks\":\"\"},\"colorscale\":[[0.0,\"#0d0887\"],[0.1111111111111111,\"#46039f\"],[0.2222222222222222,\"#7201a8\"],[0.3333333333333333,\"#9c179e\"],[0.4444444444444444,\"#bd3786\"],[0.5555555555555556,\"#d8576b\"],[0.6666666666666666,\"#ed7953\"],[0.7777777777777778,\"#fb9f3a\"],[0.8888888888888888,\"#fdca26\"],[1.0,\"#f0f921\"]],\"type\":\"histogram2d\"}],\"histogram2dcontour\":[{\"colorbar\":{\"outlinewidth\":0,\"ticks\":\"\"},\"colorscale\":[[0.0,\"#0d0887\"],[0.1111111111111111,\"#46039f\"],[0.2222222222222222,\"#7201a8\"],[0.3333333333333333,\"#9c179e\"],[0.4444444444444444,\"#bd3786\"],[0.5555555555555556,\"#d8576b\"],[0.6666666666666666,\"#ed7953\"],[0.7777777777777778,\"#fb9f3a\"],[0.8888888888888888,\"#fdca26\"],[1.0,\"#f0f921\"]],\"type\":\"histogram2dcontour\"}],\"mesh3d\":[{\"colorbar\":{\"outlinewidth\":0,\"ticks\":\"\"},\"type\":\"mesh3d\"}],\"parcoords\":[{\"line\":{\"colorbar\":{\"outlinewidth\":0,\"ticks\":\"\"}},\"type\":\"parcoords\"}],\"pie\":[{\"automargin\":true,\"type\":\"pie\"}],\"scatter\":[{\"marker\":{\"colorbar\":{\"outlinewidth\":0,\"ticks\":\"\"}},\"type\":\"scatter\"}],\"scatter3d\":[{\"line\":{\"colorbar\":{\"outlinewidth\":0,\"ticks\":\"\"}},\"marker\":{\"colorbar\":{\"outlinewidth\":0,\"ticks\":\"\"}},\"type\":\"scatter3d\"}],\"scattercarpet\":[{\"marker\":{\"colorbar\":{\"outlinewidth\":0,\"ticks\":\"\"}},\"type\":\"scattercarpet\"}],\"scattergeo\":[{\"marker\":{\"colorbar\":{\"outlinewidth\":0,\"ticks\":\"\"}},\"type\":\"scattergeo\"}],\"scattergl\":[{\"marker\":{\"colorbar\":{\"outlinewidth\":0,\"ticks\":\"\"}},\"type\":\"scattergl\"}],\"scattermapbox\":[{\"marker\":{\"colorbar\":{\"outlinewidth\":0,\"ticks\":\"\"}},\"type\":\"scattermapbox\"}],\"scatterpolar\":[{\"marker\":{\"colorbar\":{\"outlinewidth\":0,\"ticks\":\"\"}},\"type\":\"scatterpolar\"}],\"scatterpolargl\":[{\"marker\":{\"colorbar\":{\"outlinewidth\":0,\"ticks\":\"\"}},\"type\":\"scatterpolargl\"}],\"scatterternary\":[{\"marker\":{\"colorbar\":{\"outlinewidth\":0,\"ticks\":\"\"}},\"type\":\"scatterternary\"}],\"surface\":[{\"colorbar\":{\"outlinewidth\":0,\"ticks\":\"\"},\"colorscale\":[[0.0,\"#0d0887\"],[0.1111111111111111,\"#46039f\"],[0.2222222222222222,\"#7201a8\"],[0.3333333333333333,\"#9c179e\"],[0.4444444444444444,\"#bd3786\"],[0.5555555555555556,\"#d8576b\"],[0.6666666666666666,\"#ed7953\"],[0.7777777777777778,\"#fb9f3a\"],[0.8888888888888888,\"#fdca26\"],[1.0,\"#f0f921\"]],\"type\":\"surface\"}],\"table\":[{\"cells\":{\"fill\":{\"color\":\"#EBF0F8\"},\"line\":{\"color\":\"white\"}},\"header\":{\"fill\":{\"color\":\"#C8D4E3\"},\"line\":{\"color\":\"white\"}},\"type\":\"table\"}]},\"layout\":{\"annotationdefaults\":{\"arrowcolor\":\"#2a3f5f\",\"arrowhead\":0,\"arrowwidth\":1},\"autotypenumbers\":\"strict\",\"coloraxis\":{\"colorbar\":{\"outlinewidth\":0,\"ticks\":\"\"}},\"colorscale\":{\"diverging\":[[0,\"#8e0152\"],[0.1,\"#c51b7d\"],[0.2,\"#de77ae\"],[0.3,\"#f1b6da\"],[0.4,\"#fde0ef\"],[0.5,\"#f7f7f7\"],[0.6,\"#e6f5d0\"],[0.7,\"#b8e186\"],[0.8,\"#7fbc41\"],[0.9,\"#4d9221\"],[1,\"#276419\"]],\"sequential\":[[0.0,\"#0d0887\"],[0.1111111111111111,\"#46039f\"],[0.2222222222222222,\"#7201a8\"],[0.3333333333333333,\"#9c179e\"],[0.4444444444444444,\"#bd3786\"],[0.5555555555555556,\"#d8576b\"],[0.6666666666666666,\"#ed7953\"],[0.7777777777777778,\"#fb9f3a\"],[0.8888888888888888,\"#fdca26\"],[1.0,\"#f0f921\"]],\"sequentialminus\":[[0.0,\"#0d0887\"],[0.1111111111111111,\"#46039f\"],[0.2222222222222222,\"#7201a8\"],[0.3333333333333333,\"#9c179e\"],[0.4444444444444444,\"#bd3786\"],[0.5555555555555556,\"#d8576b\"],[0.6666666666666666,\"#ed7953\"],[0.7777777777777778,\"#fb9f3a\"],[0.8888888888888888,\"#fdca26\"],[1.0,\"#f0f921\"]]},\"colorway\":[\"#636efa\",\"#EF553B\",\"#00cc96\",\"#ab63fa\",\"#FFA15A\",\"#19d3f3\",\"#FF6692\",\"#B6E880\",\"#FF97FF\",\"#FECB52\"],\"font\":{\"color\":\"#2a3f5f\"},\"geo\":{\"bgcolor\":\"white\",\"lakecolor\":\"white\",\"landcolor\":\"#E5ECF6\",\"showlakes\":true,\"showland\":true,\"subunitcolor\":\"white\"},\"hoverlabel\":{\"align\":\"left\"},\"hovermode\":\"closest\",\"mapbox\":{\"style\":\"light\"},\"paper_bgcolor\":\"white\",\"plot_bgcolor\":\"#E5ECF6\",\"polar\":{\"angularaxis\":{\"gridcolor\":\"white\",\"linecolor\":\"white\",\"ticks\":\"\"},\"bgcolor\":\"#E5ECF6\",\"radialaxis\":{\"gridcolor\":\"white\",\"linecolor\":\"white\",\"ticks\":\"\"}},\"scene\":{\"xaxis\":{\"backgroundcolor\":\"#E5ECF6\",\"gridcolor\":\"white\",\"gridwidth\":2,\"linecolor\":\"white\",\"showbackground\":true,\"ticks\":\"\",\"zerolinecolor\":\"white\"},\"yaxis\":{\"backgroundcolor\":\"#E5ECF6\",\"gridcolor\":\"white\",\"gridwidth\":2,\"linecolor\":\"white\",\"showbackground\":true,\"ticks\":\"\",\"zerolinecolor\":\"white\"},\"zaxis\":{\"backgroundcolor\":\"#E5ECF6\",\"gridcolor\":\"white\",\"gridwidth\":2,\"linecolor\":\"white\",\"showbackground\":true,\"ticks\":\"\",\"zerolinecolor\":\"white\"}},\"shapedefaults\":{\"line\":{\"color\":\"#2a3f5f\"}},\"ternary\":{\"aaxis\":{\"gridcolor\":\"white\",\"linecolor\":\"white\",\"ticks\":\"\"},\"baxis\":{\"gridcolor\":\"white\",\"linecolor\":\"white\",\"ticks\":\"\"},\"bgcolor\":\"#E5ECF6\",\"caxis\":{\"gridcolor\":\"white\",\"linecolor\":\"white\",\"ticks\":\"\"}},\"title\":{\"x\":0.05},\"xaxis\":{\"automargin\":true,\"gridcolor\":\"white\",\"linecolor\":\"white\",\"ticks\":\"\",\"title\":{\"standoff\":15},\"zerolinecolor\":\"white\",\"zerolinewidth\":2},\"yaxis\":{\"automargin\":true,\"gridcolor\":\"white\",\"linecolor\":\"white\",\"ticks\":\"\",\"title\":{\"standoff\":15},\"zerolinecolor\":\"white\",\"zerolinewidth\":2}}},\"xaxis\":{\"anchor\":\"y\",\"domain\":[0.0,1.0],\"title\":{\"text\":\"test preparation course\"}},\"yaxis\":{\"anchor\":\"x\",\"domain\":[0.0,1.0],\"title\":{\"text\":\"math score\"}},\"legend\":{\"title\":{\"text\":\"gender\"},\"tracegroupgap\":0},\"margin\":{\"t\":60},\"boxmode\":\"group\"},                        {\"responsive\": true}                    ).then(function(){\n",
       "                            \n",
       "var gd = document.getElementById('f72e0a73-b4a9-4fb3-959b-f38d2469eb84');\n",
       "var x = new MutationObserver(function (mutations, observer) {{\n",
       "        var display = window.getComputedStyle(gd).display;\n",
       "        if (!display || display === 'none') {{\n",
       "            console.log([gd, 'removed!']);\n",
       "            Plotly.purge(gd);\n",
       "            observer.disconnect();\n",
       "        }}\n",
       "}});\n",
       "\n",
       "// Listen for the removal of the full notebook cells\n",
       "var notebookContainer = gd.closest('#notebook-container');\n",
       "if (notebookContainer) {{\n",
       "    x.observe(notebookContainer, {childList: true});\n",
       "}}\n",
       "\n",
       "// Listen for the clearing of the current output cell\n",
       "var outputEl = gd.closest('.output');\n",
       "if (outputEl) {{\n",
       "    x.observe(outputEl, {childList: true});\n",
       "}}\n",
       "\n",
       "                        })                };                });            </script>        </div>"
      ]
     },
     "metadata": {},
     "output_type": "display_data"
    }
   ],
   "source": [
    "fig = px.box(data, x=\"test preparation course\", y=\"math score\", color=\"gender\")\n",
    "fig.show()"
   ]
  },
  {
   "cell_type": "markdown",
   "id": "533ed316",
   "metadata": {
    "ExecuteTime": {
     "end_time": "2022-07-15T14:31:45.319172Z",
     "start_time": "2022-07-15T14:31:45.303171Z"
    }
   },
   "source": [
    "**The students who completed test preparation couse are likely to score more than students who don't in Math.**"
   ]
  },
  {
   "cell_type": "code",
   "execution_count": 35,
   "id": "38c7be8f",
   "metadata": {
    "ExecuteTime": {
     "end_time": "2022-07-15T15:47:59.336406Z",
     "start_time": "2022-07-15T15:47:58.710745Z"
    }
   },
   "outputs": [
    {
     "data": {
      "image/png": "[encoded data removed]",
      "text/plain": [
       "<Figure size 1080x576 with 1 Axes>"
      ]
     },
     "metadata": {
      "needs_background": "light"
     },
     "output_type": "display_data"
    }
   ],
   "source": [
    "fig = plt.figure(figsize=(15,8))\n",
    "ax = sns.countplot(x=\"math score\", data = data, palette='muted')\n",
    "sns.set_style('whitegrid')\n",
    "\n",
    "ax.set_xticklabels(ax.get_xticklabels(),rotation = 90)\n",
    "plt.show()"
   ]
  },
  {
   "cell_type": "markdown",
   "id": "361b57b9",
   "metadata": {
    "ExecuteTime": {
     "end_time": "2022-07-15T14:53:32.169717Z",
     "start_time": "2022-07-15T14:53:32.145717Z"
    }
   },
   "source": [
    "**So, maximum student count is 37 who scored 66 marks.**"
   ]
  },
  {
   "cell_type": "markdown",
   "id": "7761bdc5",
   "metadata": {},
   "source": [
    "Let's check for reading"
   ]
  },
  {
   "cell_type": "code",
   "execution_count": 36,
   "id": "617c4c1b",
   "metadata": {
    "ExecuteTime": {
     "end_time": "2022-07-15T15:47:59.352363Z",
     "start_time": "2022-07-15T15:47:59.338370Z"
    }
   },
   "outputs": [
    {
     "data": {
      "text/plain": [
       "P    974\n",
       "F     26\n",
       "Name: Read_PassStatus, dtype: int64"
      ]
     },
     "execution_count": 36,
     "metadata": {},
     "output_type": "execute_result"
    }
   ],
   "source": [
    "data['Read_PassStatus'] = np.where(data['reading score'] < min_passmarks, 'F', 'P')\n",
    "data.Read_PassStatus.value_counts()"
   ]
  },
  {
   "cell_type": "markdown",
   "id": "2cef46f4",
   "metadata": {},
   "source": [
    "- That's good, very few students failed in reading"
   ]
  },
  {
   "cell_type": "code",
   "execution_count": 37,
   "id": "f2920957",
   "metadata": {
    "ExecuteTime": {
     "end_time": "2022-07-15T15:47:59.416362Z",
     "start_time": "2022-07-15T15:47:59.354328Z"
    }
   },
   "outputs": [
    {
     "data": {
      "application/vnd.plotly.v1+json": {
       "config": {
        "plotlyServerURL": "https://plot.ly"
       },
       "data": [
        {
         "alignmentgroup": "True",
         "hovertemplate": "gender=female<br>test preparation course=%{x}<br>reading score=%{y}<extra></extra>",
         "legendgroup": "female",
         "marker": {
          "color": "#636efa"
         },
         "name": "female",
         "notched": false,
         "offsetgroup": "female",
         "orientation": "v",
         "showlegend": true,
         "type": "box",
         "x": [
          "none",
          "completed",
          "none",
          "none",
          "completed",
          "none",
          "none",
          "none",
          "none",
          "none",
          "none",
          "completed",
          "none",
          "none",
          "none",
          "none",
          "none",
          "none",
          "none",
          "none",
          "completed",
          "none",
          "none",
          "none",
          "completed",
          "none",
          "completed",
          "completed",
          "none",
          "completed",
          "none",
          "none",
          "none",
          "none",
          "none",
          "completed",
          "none",
          "completed",
          "none",
          "none",
          "none",
          "none",
          "none",
          "none",
          "none",
          "none",
          "none",
          "completed",
          "none",
          "none",
          "none",
          "none",
          "none",
          "none",
          "none",
          "completed",
          "none",
          "completed",
          "none",
          "none",
          "none",
          "none",
          "completed",
          "completed",
          "none",
          "none",
          "completed",
          "none",
          "none",
          "none",
          "completed",
          "none",
          "completed",
          "completed",
          "completed",
          "completed",
          "completed",
          "completed",
          "none",
          "completed",
          "completed",
          "completed",
          "completed",
          "none",
          "none",
          "completed",
          "completed",
          "completed",
          "completed",
          "completed",
          "completed",
          "none",
          "none",
          "none",
          "none",
          "none",
          "none",
          "completed",
          "none",
          "none",
          "completed",
          "none",
          "none",
          "none",
          "none",
          "none",
          "completed",
          "none",
          "completed",
          "none",
          "completed",
          "none",
          "none",
          "completed",
          "none",
          "completed",
          "none",
          "none",
          "completed",
          "none",
          "none",
          "completed",
          "none",
          "none",
          "none",
          "completed",
          "completed",
          "none",
          "none",
          "none",
          "none",
          "completed",
          "none",
          "none",
          "none",
          "completed",
          "completed",
          "none",
          "none",
          "completed",
          "none",
          "none",
          "none",
          "completed",
          "completed",
          "none",
          "none",
          "none",
          "completed",
          "completed",
          "completed",
          "none",
          "completed",
          "none",
          "none",
          "none",
          "none",
          "none",
          "none",
          "none",
          "none",
          "none",
          "completed",
          "none",
          "completed",
          "none",
          "completed",
          "none",
          "completed",
          "none",
          "none",
          "none",
          "completed",
          "none",
          "none",
          "none",
          "none",
          "none",
          "none",
          "completed",
          "completed",
          "none",
          "none",
          "completed",
          "none",
          "none",
          "none",
          "none",
          "none",
          "none",
          "none",
          "none",
          "none",
          "completed",
          "none",
          "none",
          "completed",
          "none",
          "completed",
          "none",
          "none",
          "none",
          "completed",
          "completed",
          "completed",
          "completed",
          "completed",
          "completed",
          "completed",
          "none",
          "none",
          "none",
          "completed",
          "none",
          "none",
          "none",
          "completed",
          "completed",
          "none",
          "none",
          "none",
          "none",
          "none",
          "none",
          "none",
          "none",
          "none",
          "completed",
          "completed",
          "none",
          "completed",
          "none",
          "completed",
          "completed",
          "none",
          "none",
          "none",
          "none",
          "none",
          "none",
          "none",
          "none",
          "none",
          "none",
          "completed",
          "none",
          "none",
          "completed",
          "completed",
          "none",
          "none",
          "none",
          "completed",
          "completed",
          "completed",
          "none",
          "completed",
          "completed",
          "completed",
          "none",
          "none",
          "none",
          "none",
          "completed",
          "none",
          "completed",
          "completed",
          "none",
          "none",
          "none",
          "none",
          "completed",
          "none",
          "none",
          "none",
          "completed",
          "none",
          "completed",
          "none",
          "completed",
          "completed",
          "completed",
          "none",
          "completed",
          "none",
          "none",
          "completed",
          "none",
          "none",
          "none",
          "none",
          "completed",
          "none",
          "none",
          "none",
          "none",
          "none",
          "none",
          "none",
          "completed",
          "completed",
          "none",
          "none",
          "none",
          "none",
          "none",
          "none",
          "none",
          "none",
          "none",
          "none",
          "none",
          "none",
          "none",
          "none",
          "none",
          "none",
          "completed",
          "completed",
          "none",
          "completed",
          "completed",
          "none",
          "completed",
          "none",
          "completed",
          "completed",
          "none",
          "none",
          "none",
          "completed",
          "completed",
          "completed",
          "completed",
          "none",
          "none",
          "none",
          "none",
          "none",
          "completed",
          "completed",
          "none",
          "none",
          "none",
          "completed",
          "completed",
          "completed",
          "completed",
          "completed",
          "none",
          "completed",
          "completed",
          "none",
          "none",
          "completed",
          "none",
          "none",
          "none",
          "completed",
          "none",
          "completed",
          "completed",
          "none",
          "none",
          "completed",
          "completed",
          "completed",
          "none",
          "completed",
          "completed",
          "completed",
          "none",
          "none",
          "completed",
          "completed",
          "none",
          "completed",
          "completed",
          "none",
          "completed",
          "none",
          "none",
          "completed",
          "none",
          "completed",
          "none",
          "completed",
          "none",
          "none",
          "none",
          "none",
          "completed",
          "none",
          "completed",
          "none",
          "none",
          "none",
          "none",
          "completed",
          "none",
          "none",
          "completed",
          "completed",
          "completed",
          "none",
          "none",
          "none",
          "none",
          "none",
          "none",
          "completed",
          "none",
          "none",
          "none",
          "none",
          "none",
          "none",
          "none",
          "completed",
          "none",
          "none",
          "none",
          "none",
          "completed",
          "none",
          "none",
          "none",
          "completed",
          "none",
          "completed",
          "none",
          "completed",
          "completed",
          "completed",
          "completed",
          "none",
          "none",
          "completed",
          "completed",
          "none",
          "none",
          "none",
          "none",
          "none",
          "none",
          "none",
          "completed",
          "completed",
          "none",
          "none",
          "none",
          "completed",
          "none",
          "none",
          "completed",
          "completed",
          "none",
          "completed",
          "none",
          "none",
          "none",
          "none",
          "completed",
          "completed",
          "none",
          "completed",
          "completed",
          "none",
          "completed",
          "none",
          "none",
          "completed",
          "completed",
          "none",
          "none",
          "none",
          "completed",
          "none",
          "none",
          "completed",
          "none",
          "none",
          "none",
          "none",
          "none",
          "none",
          "completed",
          "completed",
          "none",
          "none",
          "none",
          "none",
          "none",
          "none",
          "none",
          "completed",
          "none",
          "none",
          "none",
          "none",
          "completed",
          "none",
          "none",
          "completed",
          "none",
          "none",
          "completed",
          "none",
          "none",
          "none",
          "completed",
          "completed",
          "none",
          "none",
          "completed",
          "completed",
          "completed",
          "none"
         ],
         "x0": " ",
         "xaxis": "x",
         "y": [
          72,
          90,
          95,
          83,
          95,
          60,
          81,
          53,
          75,
          32,
          58,
          75,
          73,
          69,
          70,
          74,
          65,
          72,
          81,
          64,
          90,
          73,
          58,
          56,
          65,
          71,
          74,
          84,
          41,
          85,
          17,
          80,
          58,
          72,
          64,
          63,
          51,
          74,
          68,
          49,
          80,
          83,
          71,
          70,
          86,
          72,
          86,
          72,
          67,
          67,
          91,
          67,
          100,
          76,
          64,
          89,
          58,
          100,
          85,
          82,
          63,
          69,
          92,
          93,
          95,
          49,
          81,
          66,
          72,
          62,
          55,
          39,
          75,
          70,
          89,
          74,
          86,
          88,
          92,
          100,
          76,
          83,
          75,
          86,
          67,
          51,
          91,
          54,
          77,
          70,
          100,
          64,
          50,
          69,
          88,
          65,
          64,
          84,
          53,
          79,
          84,
          81,
          69,
          81,
          61,
          62,
          86,
          42,
          68,
          65,
          66,
          56,
          72,
          95,
          86,
          60,
          83,
          52,
          70,
          64,
          83,
          70,
          73,
          73,
          75,
          81,
          79,
          50,
          93,
          75,
          72,
          92,
          76,
          53,
          70,
          92,
          63,
          86,
          79,
          78,
          46,
          89,
          73,
          84,
          75,
          71,
          57,
          76,
          67,
          64,
          82,
          65,
          79,
          86,
          81,
          53,
          46,
          90,
          55,
          93,
          68,
          38,
          55,
          73,
          76,
          80,
          94,
          65,
          78,
          58,
          71,
          72,
          66,
          90,
          62,
          58,
          34,
          64,
          84,
          73,
          97,
          70,
          90,
          95,
          83,
          86,
          49,
          43,
          76,
          73,
          78,
          64,
          68,
          74,
          67,
          89,
          54,
          65,
          99,
          59,
          73,
          80,
          57,
          71,
          72,
          93,
          58,
          58,
          85,
          67,
          72,
          59,
          81,
          81,
          73,
          83,
          74,
          85,
          92,
          77,
          61,
          89,
          100,
          70,
          90,
          87,
          31,
          88,
          85,
          69,
          86,
          67,
          90,
          76,
          64,
          59,
          52,
          75,
          85,
          64,
          83,
          88,
          64,
          48,
          78,
          69,
          79,
          87,
          89,
          59,
          82,
          92,
          61,
          97,
          87,
          89,
          74,
          78,
          78,
          86,
          53,
          41,
          74,
          67,
          54,
          88,
          83,
          66,
          77,
          95,
          63,
          100,
          67,
          48,
          39,
          72,
          70,
          75,
          74,
          80,
          100,
          71,
          62,
          66,
          81,
          91,
          56,
          61,
          97,
          79,
          73,
          75,
          77,
          76,
          73,
          63,
          64,
          66,
          76,
          100,
          79,
          77,
          82,
          60,
          29,
          78,
          84,
          58,
          64,
          63,
          59,
          77,
          93,
          68,
          45,
          61,
          58,
          51,
          74,
          88,
          80,
          92,
          74,
          88,
          81,
          79,
          81,
          70,
          62,
          53,
          79,
          80,
          86,
          70,
          79,
          67,
          60,
          71,
          69,
          60,
          73,
          85,
          76,
          78,
          84,
          77,
          64,
          78,
          82,
          72,
          40,
          99,
          53,
          76,
          74,
          77,
          63,
          89,
          82,
          72,
          78,
          81,
          67,
          64,
          63,
          61,
          85,
          100,
          70,
          94,
          96,
          76,
          72,
          90,
          75,
          92,
          77,
          89,
          58,
          66,
          57,
          84,
          73,
          60,
          90,
          95,
          59,
          72,
          58,
          62,
          72,
          75,
          71,
          67,
          78,
          58,
          72,
          44,
          79,
          56,
          90,
          85,
          59,
          51,
          79,
          38,
          65,
          62,
          66,
          52,
          68,
          84,
          55,
          94,
          85,
          76,
          74,
          45,
          64,
          80,
          59,
          72,
          91,
          90,
          90,
          87,
          58,
          68,
          69,
          86,
          60,
          86,
          82,
          64,
          82,
          77,
          52,
          44,
          65,
          72,
          68,
          85,
          97,
          79,
          62,
          86,
          71,
          72,
          62,
          72,
          76,
          70,
          73,
          51,
          76,
          100,
          65,
          85,
          92,
          67,
          62,
          34,
          78,
          78,
          78,
          48,
          100,
          84,
          84,
          75,
          84,
          61,
          62,
          61,
          70,
          61,
          77,
          53,
          65,
          61,
          56,
          58,
          91,
          68,
          61,
          58,
          75,
          77,
          74,
          69,
          100,
          63,
          58,
          54,
          100,
          76,
          70,
          76,
          84,
          100,
          50,
          65,
          63,
          82,
          95,
          24,
          87,
          75,
          59,
          45,
          86,
          82,
          76,
          72,
          99,
          71,
          78,
          86
         ],
         "y0": " ",
         "yaxis": "y"
        },
        {
         "alignmentgroup": "True",
         "hovertemplate": "gender=male<br>test preparation course=%{x}<br>reading score=%{y}<extra></extra>",
         "legendgroup": "male",
         "marker": {
          "color": "#EF553B"
         },
         "name": "male",
         "notched": false,
         "offsetgroup": "male",
         "orientation": "v",
         "showlegend": true,
         "type": "box",
         "x": [
          "none",
          "none",
          "none",
          "completed",
          "none",
          "none",
          "completed",
          "none",
          "completed",
          "none",
          "none",
          "completed",
          "none",
          "none",
          "none",
          "none",
          "none",
          "completed",
          "none",
          "none",
          "completed",
          "none",
          "completed",
          "none",
          "completed",
          "none",
          "none",
          "none",
          "completed",
          "completed",
          "none",
          "none",
          "none",
          "none",
          "none",
          "completed",
          "none",
          "none",
          "none",
          "none",
          "completed",
          "none",
          "completed",
          "none",
          "none",
          "none",
          "none",
          "completed",
          "completed",
          "completed",
          "none",
          "completed",
          "completed",
          "completed",
          "completed",
          "none",
          "none",
          "none",
          "completed",
          "none",
          "none",
          "none",
          "completed",
          "none",
          "none",
          "completed",
          "completed",
          "completed",
          "none",
          "completed",
          "none",
          "completed",
          "none",
          "none",
          "none",
          "none",
          "completed",
          "completed",
          "none",
          "none",
          "none",
          "none",
          "none",
          "completed",
          "none",
          "none",
          "completed",
          "completed",
          "none",
          "completed",
          "completed",
          "completed",
          "none",
          "completed",
          "none",
          "completed",
          "completed",
          "none",
          "completed",
          "none",
          "none",
          "none",
          "completed",
          "none",
          "completed",
          "completed",
          "none",
          "completed",
          "completed",
          "completed",
          "none",
          "completed",
          "none",
          "none",
          "none",
          "none",
          "none",
          "none",
          "none",
          "completed",
          "none",
          "none",
          "none",
          "none",
          "completed",
          "none",
          "none",
          "none",
          "none",
          "none",
          "completed",
          "none",
          "none",
          "completed",
          "completed",
          "none",
          "none",
          "none",
          "none",
          "completed",
          "none",
          "none",
          "none",
          "none",
          "completed",
          "completed",
          "none",
          "completed",
          "none",
          "none",
          "completed",
          "completed",
          "none",
          "completed",
          "completed",
          "completed",
          "none",
          "completed",
          "none",
          "none",
          "none",
          "completed",
          "none",
          "none",
          "completed",
          "none",
          "none",
          "none",
          "none",
          "none",
          "completed",
          "none",
          "none",
          "completed",
          "none",
          "completed",
          "none",
          "none",
          "completed",
          "none",
          "none",
          "none",
          "none",
          "none",
          "none",
          "none",
          "completed",
          "none",
          "completed",
          "completed",
          "none",
          "none",
          "none",
          "none",
          "none",
          "completed",
          "none",
          "none",
          "completed",
          "none",
          "completed",
          "none",
          "none",
          "none",
          "none",
          "completed",
          "completed",
          "completed",
          "none",
          "completed",
          "none",
          "completed",
          "none",
          "none",
          "completed",
          "none",
          "none",
          "none",
          "none",
          "none",
          "none",
          "none",
          "none",
          "completed",
          "none",
          "none",
          "none",
          "completed",
          "none",
          "none",
          "completed",
          "none",
          "none",
          "none",
          "none",
          "none",
          "completed",
          "none",
          "none",
          "completed",
          "completed",
          "none",
          "completed",
          "none",
          "none",
          "completed",
          "none",
          "none",
          "none",
          "none",
          "completed",
          "completed",
          "completed",
          "none",
          "none",
          "none",
          "none",
          "none",
          "none",
          "none",
          "none",
          "none",
          "none",
          "none",
          "completed",
          "none",
          "completed",
          "completed",
          "completed",
          "completed",
          "completed",
          "completed",
          "completed",
          "completed",
          "completed",
          "completed",
          "none",
          "none",
          "completed",
          "none",
          "none",
          "none",
          "none",
          "completed",
          "none",
          "none",
          "none",
          "none",
          "completed",
          "none",
          "completed",
          "completed",
          "none",
          "none",
          "none",
          "none",
          "none",
          "none",
          "completed",
          "none",
          "completed",
          "completed",
          "none",
          "none",
          "completed",
          "none",
          "completed",
          "completed",
          "completed",
          "completed",
          "none",
          "none",
          "none",
          "none",
          "none",
          "none",
          "none",
          "none",
          "none",
          "completed",
          "none",
          "none",
          "none",
          "none",
          "none",
          "none",
          "none",
          "completed",
          "none",
          "none",
          "none",
          "none",
          "none",
          "completed",
          "completed",
          "none",
          "none",
          "none",
          "none",
          "completed",
          "none",
          "none",
          "none",
          "none",
          "completed",
          "none",
          "completed",
          "completed",
          "completed",
          "none",
          "none",
          "completed",
          "completed",
          "none",
          "none",
          "none",
          "none",
          "none",
          "none",
          "none",
          "none",
          "none",
          "none",
          "none",
          "none",
          "completed",
          "completed",
          "none",
          "completed",
          "none",
          "none",
          "completed",
          "completed",
          "completed",
          "none",
          "completed",
          "none",
          "none",
          "none",
          "none",
          "completed",
          "completed",
          "none",
          "none",
          "completed",
          "none",
          "none",
          "completed",
          "completed",
          "none",
          "none",
          "none",
          "none",
          "none",
          "completed",
          "completed",
          "completed",
          "completed",
          "none",
          "none",
          "none",
          "none",
          "none",
          "completed",
          "none",
          "completed",
          "none",
          "completed",
          "none",
          "none",
          "none",
          "none",
          "none",
          "none",
          "completed",
          "none",
          "completed",
          "none",
          "completed",
          "none",
          "none",
          "completed",
          "none",
          "none",
          "completed",
          "none",
          "none",
          "none",
          "none",
          "completed",
          "none",
          "none",
          "none",
          "completed",
          "none",
          "completed",
          "none",
          "none",
          "none",
          "completed",
          "none",
          "completed",
          "completed",
          "none",
          "none",
          "none",
          "completed",
          "none",
          "completed",
          "completed",
          "none",
          "completed",
          "completed",
          "completed",
          "none",
          "none",
          "completed",
          "completed",
          "completed",
          "none",
          "completed",
          "none",
          "completed",
          "none",
          "completed",
          "none",
          "none",
          "none",
          "none",
          "completed",
          "none",
          "completed",
          "completed",
          "none",
          "completed",
          "none",
          "completed",
          "none",
          "completed",
          "completed",
          "none",
          "none"
         ],
         "x0": " ",
         "xaxis": "x",
         "y": [
          57,
          78,
          43,
          64,
          54,
          52,
          72,
          89,
          42,
          69,
          54,
          71,
          74,
          54,
          70,
          42,
          87,
          81,
          56,
          61,
          65,
          54,
          84,
          55,
          69,
          44,
          78,
          55,
          59,
          74,
          39,
          61,
          64,
          37,
          58,
          55,
          57,
          49,
          41,
          26,
          78,
          45,
          47,
          64,
          39,
          34,
          79,
          45,
          81,
          66,
          67,
          74,
          44,
          86,
          63,
          55,
          53,
          77,
          89,
          57,
          80,
          68,
          77,
          82,
          84,
          37,
          74,
          79,
          55,
          54,
          55,
          61,
          43,
          73,
          84,
          68,
          100,
          67,
          67,
          49,
          67,
          60,
          62,
          78,
          53,
          53,
          51,
          73,
          88,
          68,
          52,
          67,
          76,
          66,
          52,
          83,
          62,
          55,
          69,
          56,
          77,
          41,
          71,
          62,
          80,
          79,
          28,
          51,
          91,
          83,
          77,
          56,
          85,
          80,
          50,
          72,
          64,
          43,
          87,
          82,
          75,
          66,
          52,
          80,
          68,
          51,
          74,
          76,
          76,
          60,
          49,
          80,
          52,
          77,
          79,
          73,
          42,
          63,
          49,
          85,
          78,
          56,
          52,
          48,
          82,
          82,
          75,
          76,
          70,
          73,
          60,
          77,
          62,
          41,
          74,
          46,
          87,
          78,
          54,
          76,
          67,
          87,
          52,
          60,
          61,
          66,
          72,
          71,
          61,
          23,
          75,
          60,
          37,
          56,
          78,
          70,
          51,
          61,
          72,
          73,
          61,
          74,
          74,
          57,
          61,
          62,
          84,
          60,
          58,
          58,
          66,
          77,
          74,
          43,
          64,
          100,
          81,
          70,
          67,
          67,
          54,
          45,
          63,
          59,
          43,
          65,
          84,
          83,
          66,
          67,
          73,
          74,
          73,
          59,
          56,
          39,
          83,
          71,
          59,
          63,
          66,
          56,
          66,
          48,
          68,
          66,
          56,
          88,
          82,
          66,
          81,
          46,
          73,
          58,
          56,
          54,
          65,
          58,
          54,
          58,
          67,
          74,
          62,
          68,
          71,
          71,
          68,
          52,
          74,
          47,
          53,
          82,
          64,
          71,
          61,
          70,
          59,
          78,
          71,
          50,
          49,
          49,
          58,
          59,
          52,
          60,
          61,
          61,
          69,
          60,
          66,
          92,
          69,
          82,
          83,
          67,
          72,
          76,
          90,
          62,
          45,
          67,
          66,
          90,
          51,
          43,
          48,
          68,
          75,
          96,
          55,
          51,
          57,
          62,
          68,
          24,
          54,
          57,
          89,
          72,
          60,
          90,
          78,
          81,
          73,
          63,
          51,
          96,
          97,
          70,
          48,
          57,
          64,
          60,
          84,
          74,
          76,
          52,
          65,
          56,
          67,
          66,
          87,
          77,
          66,
          63,
          74,
          72,
          57,
          75,
          61,
          68,
          55,
          66,
          75,
          78,
          58,
          90,
          66,
          84,
          72,
          34,
          59,
          87,
          84,
          81,
          78,
          73,
          59,
          48,
          43,
          74,
          51,
          39,
          46,
          47,
          57,
          79,
          71,
          60,
          73,
          55,
          79,
          75,
          64,
          84,
          69,
          72,
          77,
          55,
          58,
          68,
          77,
          81,
          63,
          62,
          60,
          48,
          73,
          65,
          85,
          81,
          65,
          74,
          84,
          70,
          60,
          73,
          80,
          81,
          75,
          54,
          31,
          47,
          84,
          86,
          70,
          52,
          67,
          54,
          60,
          50,
          64,
          57,
          58,
          77,
          85,
          85,
          54,
          75,
          67,
          67,
          64,
          68,
          49,
          73,
          42,
          93,
          82,
          53,
          42,
          74,
          51,
          58,
          84,
          90,
          64,
          82,
          61,
          64,
          46,
          72,
          51,
          74,
          29,
          54,
          84,
          77,
          48,
          64,
          42,
          100,
          96,
          70,
          66,
          70,
          64,
          56,
          43,
          74,
          57,
          71,
          75,
          87,
          63,
          57,
          81,
          68,
          66,
          66,
          62,
          82,
          50,
          73,
          52,
          57,
          87,
          81,
          57,
          68,
          63,
          72,
          62,
          65,
          41,
          78,
          85,
          51,
          75,
          81,
          63,
          55
         ],
         "y0": " ",
         "yaxis": "y"
        }
       ],
       "layout": {
        "boxmode": "group",
        "legend": {
         "title": {
          "text": "gender"
         },
         "tracegroupgap": 0
        },
        "margin": {
         "t": 60
        },
        "template": {
         "data": {
          "bar": [
           {
            "error_x": {
             "color": "#2a3f5f"
            },
            "error_y": {
             "color": "#2a3f5f"
            },
            "marker": {
             "line": {
              "color": "#E5ECF6",
              "width": 0.5
             },
             "pattern": {
              "fillmode": "overlay",
              "size": 10,
              "solidity": 0.2
             }
            },
            "type": "bar"
           }
          ],
          "barpolar": [
           {
            "marker": {
             "line": {
              "color": "#E5ECF6",
              "width": 0.5
             },
             "pattern": {
              "fillmode": "overlay",
              "size": 10,
              "solidity": 0.2
             }
            },
            "type": "barpolar"
           }
          ],
          "carpet": [
           {
            "aaxis": {
             "endlinecolor": "#2a3f5f",
             "gridcolor": "white",
             "linecolor": "white",
             "minorgridcolor": "white",
             "startlinecolor": "#2a3f5f"
            },
            "baxis": {
             "endlinecolor": "#2a3f5f",
             "gridcolor": "white",
             "linecolor": "white",
             "minorgridcolor": "white",
             "startlinecolor": "#2a3f5f"
            },
            "type": "carpet"
           }
          ],
          "choropleth": [
           {
            "colorbar": {
             "outlinewidth": 0,
             "ticks": ""
            },
            "type": "choropleth"
           }
          ],
          "contour": [
           {
            "colorbar": {
             "outlinewidth": 0,
             "ticks": ""
            },
            "colorscale": [
             [
              0,
              "#0d0887"
             ],
             [
              0.1111111111111111,
              "#46039f"
             ],
             [
              0.2222222222222222,
              "#7201a8"
             ],
             [
              0.3333333333333333,
              "#9c179e"
             ],
             [
              0.4444444444444444,
              "#bd3786"
             ],
             [
              0.5555555555555556,
              "#d8576b"
             ],
             [
              0.6666666666666666,
              "#ed7953"
             ],
             [
              0.7777777777777778,
              "#fb9f3a"
             ],
             [
              0.8888888888888888,
              "#fdca26"
             ],
             [
              1,
              "#f0f921"
             ]
            ],
            "type": "contour"
           }
          ],
          "contourcarpet": [
           {
            "colorbar": {
             "outlinewidth": 0,
             "ticks": ""
            },
            "type": "contourcarpet"
           }
          ],
          "heatmap": [
           {
            "colorbar": {
             "outlinewidth": 0,
             "ticks": ""
            },
            "colorscale": [
             [
              0,
              "#0d0887"
             ],
             [
              0.1111111111111111,
              "#46039f"
             ],
             [
              0.2222222222222222,
              "#7201a8"
             ],
             [
              0.3333333333333333,
              "#9c179e"
             ],
             [
              0.4444444444444444,
              "#bd3786"
             ],
             [
              0.5555555555555556,
              "#d8576b"
             ],
             [
              0.6666666666666666,
              "#ed7953"
             ],
             [
              0.7777777777777778,
              "#fb9f3a"
             ],
             [
              0.8888888888888888,
              "#fdca26"
             ],
             [
              1,
              "#f0f921"
             ]
            ],
            "type": "heatmap"
           }
          ],
          "heatmapgl": [
           {
            "colorbar": {
             "outlinewidth": 0,
             "ticks": ""
            },
            "colorscale": [
             [
              0,
              "#0d0887"
             ],
             [
              0.1111111111111111,
              "#46039f"
             ],
             [
              0.2222222222222222,
              "#7201a8"
             ],
             [
              0.3333333333333333,
              "#9c179e"
             ],
             [
              0.4444444444444444,
              "#bd3786"
             ],
             [
              0.5555555555555556,
              "#d8576b"
             ],
             [
              0.6666666666666666,
              "#ed7953"
             ],
             [
              0.7777777777777778,
              "#fb9f3a"
             ],
             [
              0.8888888888888888,
              "#fdca26"
             ],
             [
              1,
              "#f0f921"
             ]
            ],
            "type": "heatmapgl"
           }
          ],
          "histogram": [
           {
            "marker": {
             "pattern": {
              "fillmode": "overlay",
              "size": 10,
              "solidity": 0.2
             }
            },
            "type": "histogram"
           }
          ],
          "histogram2d": [
           {
            "colorbar": {
             "outlinewidth": 0,
             "ticks": ""
            },
            "colorscale": [
             [
              0,
              "#0d0887"
             ],
             [
              0.1111111111111111,
              "#46039f"
             ],
             [
              0.2222222222222222,
              "#7201a8"
             ],
             [
              0.3333333333333333,
              "#9c179e"
             ],
             [
              0.4444444444444444,
              "#bd3786"
             ],
             [
              0.5555555555555556,
              "#d8576b"
             ],
             [
              0.6666666666666666,
              "#ed7953"
             ],
             [
              0.7777777777777778,
              "#fb9f3a"
             ],
             [
              0.8888888888888888,
              "#fdca26"
             ],
             [
              1,
              "#f0f921"
             ]
            ],
            "type": "histogram2d"
           }
          ],
          "histogram2dcontour": [
           {
            "colorbar": {
             "outlinewidth": 0,
             "ticks": ""
            },
            "colorscale": [
             [
              0,
              "#0d0887"
             ],
             [
              0.1111111111111111,
              "#46039f"
             ],
             [
              0.2222222222222222,
              "#7201a8"
             ],
             [
              0.3333333333333333,
              "#9c179e"
             ],
             [
              0.4444444444444444,
              "#bd3786"
             ],
             [
              0.5555555555555556,
              "#d8576b"
             ],
             [
              0.6666666666666666,
              "#ed7953"
             ],
             [
              0.7777777777777778,
              "#fb9f3a"
             ],
             [
              0.8888888888888888,
              "#fdca26"
             ],
             [
              1,
              "#f0f921"
             ]
            ],
            "type": "histogram2dcontour"
           }
          ],
          "mesh3d": [
           {
            "colorbar": {
             "outlinewidth": 0,
             "ticks": ""
            },
            "type": "mesh3d"
           }
          ],
          "parcoords": [
           {
            "line": {
             "colorbar": {
              "outlinewidth": 0,
              "ticks": ""
             }
            },
            "type": "parcoords"
           }
          ],
          "pie": [
           {
            "automargin": true,
            "type": "pie"
           }
          ],
          "scatter": [
           {
            "marker": {
             "colorbar": {
              "outlinewidth": 0,
              "ticks": ""
             }
            },
            "type": "scatter"
           }
          ],
          "scatter3d": [
           {
            "line": {
             "colorbar": {
              "outlinewidth": 0,
              "ticks": ""
             }
            },
            "marker": {
             "colorbar": {
              "outlinewidth": 0,
              "ticks": ""
             }
            },
            "type": "scatter3d"
           }
          ],
          "scattercarpet": [
           {
            "marker": {
             "colorbar": {
              "outlinewidth": 0,
              "ticks": ""
             }
            },
            "type": "scattercarpet"
           }
          ],
          "scattergeo": [
           {
            "marker": {
             "colorbar": {
              "outlinewidth": 0,
              "ticks": ""
             }
            },
            "type": "scattergeo"
           }
          ],
          "scattergl": [
           {
            "marker": {
             "colorbar": {
              "outlinewidth": 0,
              "ticks": ""
             }
            },
            "type": "scattergl"
           }
          ],
          "scattermapbox": [
           {
            "marker": {
             "colorbar": {
              "outlinewidth": 0,
              "ticks": ""
             }
            },
            "type": "scattermapbox"
           }
          ],
          "scatterpolar": [
           {
            "marker": {
             "colorbar": {
              "outlinewidth": 0,
              "ticks": ""
             }
            },
            "type": "scatterpolar"
           }
          ],
          "scatterpolargl": [
           {
            "marker": {
             "colorbar": {
              "outlinewidth": 0,
              "ticks": ""
             }
            },
            "type": "scatterpolargl"
           }
          ],
          "scatterternary": [
           {
            "marker": {
             "colorbar": {
              "outlinewidth": 0,
              "ticks": ""
             }
            },
            "type": "scatterternary"
           }
          ],
          "surface": [
           {
            "colorbar": {
             "outlinewidth": 0,
             "ticks": ""
            },
            "colorscale": [
             [
              0,
              "#0d0887"
             ],
             [
              0.1111111111111111,
              "#46039f"
             ],
             [
              0.2222222222222222,
              "#7201a8"
             ],
             [
              0.3333333333333333,
              "#9c179e"
             ],
             [
              0.4444444444444444,
              "#bd3786"
             ],
             [
              0.5555555555555556,
              "#d8576b"
             ],
             [
              0.6666666666666666,
              "#ed7953"
             ],
             [
              0.7777777777777778,
              "#fb9f3a"
             ],
             [
              0.8888888888888888,
              "#fdca26"
             ],
             [
              1,
              "#f0f921"
             ]
            ],
            "type": "surface"
           }
          ],
          "table": [
           {
            "cells": {
             "fill": {
              "color": "#EBF0F8"
             },
             "line": {
              "color": "white"
             }
            },
            "header": {
             "fill": {
              "color": "#C8D4E3"
             },
             "line": {
              "color": "white"
             }
            },
            "type": "table"
           }
          ]
         },
         "layout": {
          "annotationdefaults": {
           "arrowcolor": "#2a3f5f",
           "arrowhead": 0,
           "arrowwidth": 1
          },
          "autotypenumbers": "strict",
          "coloraxis": {
           "colorbar": {
            "outlinewidth": 0,
            "ticks": ""
           }
          },
          "colorscale": {
           "diverging": [
            [
             0,
             "#8e0152"
            ],
            [
             0.1,
             "#c51b7d"
            ],
            [
             0.2,
             "#de77ae"
            ],
            [
             0.3,
             "#f1b6da"
            ],
            [
             0.4,
             "#fde0ef"
            ],
            [
             0.5,
             "#f7f7f7"
            ],
            [
             0.6,
             "#e6f5d0"
            ],
            [
             0.7,
             "#b8e186"
            ],
            [
             0.8,
             "#7fbc41"
            ],
            [
             0.9,
             "#4d9221"
            ],
            [
             1,
             "#276419"
            ]
           ],
           "sequential": [
            [
             0,
             "#0d0887"
            ],
            [
             0.1111111111111111,
             "#46039f"
            ],
            [
             0.2222222222222222,
             "#7201a8"
            ],
            [
             0.3333333333333333,
             "#9c179e"
            ],
            [
             0.4444444444444444,
             "#bd3786"
            ],
            [
             0.5555555555555556,
             "#d8576b"
            ],
            [
             0.6666666666666666,
             "#ed7953"
            ],
            [
             0.7777777777777778,
             "#fb9f3a"
            ],
            [
             0.8888888888888888,
             "#fdca26"
            ],
            [
             1,
             "#f0f921"
            ]
           ],
           "sequentialminus": [
            [
             0,
             "#0d0887"
            ],
            [
             0.1111111111111111,
             "#46039f"
            ],
            [
             0.2222222222222222,
             "#7201a8"
            ],
            [
             0.3333333333333333,
             "#9c179e"
            ],
            [
             0.4444444444444444,
             "#bd3786"
            ],
            [
             0.5555555555555556,
             "#d8576b"
            ],
            [
             0.6666666666666666,
             "#ed7953"
            ],
            [
             0.7777777777777778,
             "#fb9f3a"
            ],
            [
             0.8888888888888888,
             "#fdca26"
            ],
            [
             1,
             "#f0f921"
            ]
           ]
          },
          "colorway": [
           "#636efa",
           "#EF553B",
           "#00cc96",
           "#ab63fa",
           "#FFA15A",
           "#19d3f3",
           "#FF6692",
           "#B6E880",
           "#FF97FF",
           "#FECB52"
          ],
          "font": {
           "color": "#2a3f5f"
          },
          "geo": {
           "bgcolor": "white",
           "lakecolor": "white",
           "landcolor": "#E5ECF6",
           "showlakes": true,
           "showland": true,
           "subunitcolor": "white"
          },
          "hoverlabel": {
           "align": "left"
          },
          "hovermode": "closest",
          "mapbox": {
           "style": "light"
          },
          "paper_bgcolor": "white",
          "plot_bgcolor": "#E5ECF6",
          "polar": {
           "angularaxis": {
            "gridcolor": "white",
            "linecolor": "white",
            "ticks": ""
           },
           "bgcolor": "#E5ECF6",
           "radialaxis": {
            "gridcolor": "white",
            "linecolor": "white",
            "ticks": ""
           }
          },
          "scene": {
           "xaxis": {
            "backgroundcolor": "#E5ECF6",
            "gridcolor": "white",
            "gridwidth": 2,
            "linecolor": "white",
            "showbackground": true,
            "ticks": "",
            "zerolinecolor": "white"
           },
           "yaxis": {
            "backgroundcolor": "#E5ECF6",
            "gridcolor": "white",
            "gridwidth": 2,
            "linecolor": "white",
            "showbackground": true,
            "ticks": "",
            "zerolinecolor": "white"
           },
           "zaxis": {
            "backgroundcolor": "#E5ECF6",
            "gridcolor": "white",
            "gridwidth": 2,
            "linecolor": "white",
            "showbackground": true,
            "ticks": "",
            "zerolinecolor": "white"
           }
          },
          "shapedefaults": {
           "line": {
            "color": "#2a3f5f"
           }
          },
          "ternary": {
           "aaxis": {
            "gridcolor": "white",
            "linecolor": "white",
            "ticks": ""
           },
           "baxis": {
            "gridcolor": "white",
            "linecolor": "white",
            "ticks": ""
           },
           "bgcolor": "#E5ECF6",
           "caxis": {
            "gridcolor": "white",
            "linecolor": "white",
            "ticks": ""
           }
          },
          "title": {
           "x": 0.05
          },
          "xaxis": {
           "automargin": true,
           "gridcolor": "white",
           "linecolor": "white",
           "ticks": "",
           "title": {
            "standoff": 15
           },
           "zerolinecolor": "white",
           "zerolinewidth": 2
          },
          "yaxis": {
           "automargin": true,
           "gridcolor": "white",
           "linecolor": "white",
           "ticks": "",
           "title": {
            "standoff": 15
           },
           "zerolinecolor": "white",
           "zerolinewidth": 2
          }
         }
        },
        "xaxis": {
         "anchor": "y",
         "domain": [
          0,
          1
         ],
         "title": {
          "text": "test preparation course"
         }
        },
        "yaxis": {
         "anchor": "x",
         "domain": [
          0,
          1
         ],
         "title": {
          "text": "reading score"
         }
        }
       }
      },
      "text/html": [
       "<div>                            <div id=\"2f36e651-f4e9-4da5-958d-cd43c7e00a09\" class=\"plotly-graph-div\" style=\"height:525px; width:100%;\"></div>            <script type=\"text/javascript\">                require([\"plotly\"], function(Plotly) {                    window.PLOTLYENV=window.PLOTLYENV || {};                                    if (document.getElementById(\"2f36e651-f4e9-4da5-958d-cd43c7e00a09\")) {                    Plotly.newPlot(                        \"2f36e651-f4e9-4da5-958d-cd43c7e00a09\",                        [{\"alignmentgroup\":\"True\",\"hovertemplate\":\"gender=female<br>test preparation course=%{x}<br>reading score=%{y}<extra></extra>\",\"legendgroup\":\"female\",\"marker\":{\"color\":\"#636efa\"},\"name\":\"female\",\"notched\":false,\"offsetgroup\":\"female\",\"orientation\":\"v\",\"showlegend\":true,\"x\":[\"none\",\"completed\",\"none\",\"none\",\"completed\",\"none\",\"none\",\"none\",\"none\",\"none\",\"none\",\"completed\",\"none\",\"none\",\"none\",\"none\",\"none\",\"none\",\"none\",\"none\",\"completed\",\"none\",\"none\",\"none\",\"completed\",\"none\",\"completed\",\"completed\",\"none\",\"completed\",\"none\",\"none\",\"none\",\"none\",\"none\",\"completed\",\"none\",\"completed\",\"none\",\"none\",\"none\",\"none\",\"none\",\"none\",\"none\",\"none\",\"none\",\"completed\",\"none\",\"none\",\"none\",\"none\",\"none\",\"none\",\"none\",\"completed\",\"none\",\"completed\",\"none\",\"none\",\"none\",\"none\",\"completed\",\"completed\",\"none\",\"none\",\"completed\",\"none\",\"none\",\"none\",\"completed\",\"none\",\"completed\",\"completed\",\"completed\",\"completed\",\"completed\",\"completed\",\"none\",\"completed\",\"completed\",\"completed\",\"completed\",\"none\",\"none\",\"completed\",\"completed\",\"completed\",\"completed\",\"completed\",\"completed\",\"none\",\"none\",\"none\",\"none\",\"none\",\"none\",\"completed\",\"none\",\"none\",\"completed\",\"none\",\"none\",\"none\",\"none\",\"none\",\"completed\",\"none\",\"completed\",\"none\",\"completed\",\"none\",\"none\",\"completed\",\"none\",\"completed\",\"none\",\"none\",\"completed\",\"none\",\"none\",\"completed\",\"none\",\"none\",\"none\",\"completed\",\"completed\",\"none\",\"none\",\"none\",\"none\",\"completed\",\"none\",\"none\",\"none\",\"completed\",\"completed\",\"none\",\"none\",\"completed\",\"none\",\"none\",\"none\",\"completed\",\"completed\",\"none\",\"none\",\"none\",\"completed\",\"completed\",\"completed\",\"none\",\"completed\",\"none\",\"none\",\"none\",\"none\",\"none\",\"none\",\"none\",\"none\",\"none\",\"completed\",\"none\",\"completed\",\"none\",\"completed\",\"none\",\"completed\",\"none\",\"none\",\"none\",\"completed\",\"none\",\"none\",\"none\",\"none\",\"none\",\"none\",\"completed\",\"completed\",\"none\",\"none\",\"completed\",\"none\",\"none\",\"none\",\"none\",\"none\",\"none\",\"none\",\"none\",\"none\",\"completed\",\"none\",\"none\",\"completed\",\"none\",\"completed\",\"none\",\"none\",\"none\",\"completed\",\"completed\",\"completed\",\"completed\",\"completed\",\"completed\",\"completed\",\"none\",\"none\",\"none\",\"completed\",\"none\",\"none\",\"none\",\"completed\",\"completed\",\"none\",\"none\",\"none\",\"none\",\"none\",\"none\",\"none\",\"none\",\"none\",\"completed\",\"completed\",\"none\",\"completed\",\"none\",\"completed\",\"completed\",\"none\",\"none\",\"none\",\"none\",\"none\",\"none\",\"none\",\"none\",\"none\",\"none\",\"completed\",\"none\",\"none\",\"completed\",\"completed\",\"none\",\"none\",\"none\",\"completed\",\"completed\",\"completed\",\"none\",\"completed\",\"completed\",\"completed\",\"none\",\"none\",\"none\",\"none\",\"completed\",\"none\",\"completed\",\"completed\",\"none\",\"none\",\"none\",\"none\",\"completed\",\"none\",\"none\",\"none\",\"completed\",\"none\",\"completed\",\"none\",\"completed\",\"completed\",\"completed\",\"none\",\"completed\",\"none\",\"none\",\"completed\",\"none\",\"none\",\"none\",\"none\",\"completed\",\"none\",\"none\",\"none\",\"none\",\"none\",\"none\",\"none\",\"completed\",\"completed\",\"none\",\"none\",\"none\",\"none\",\"none\",\"none\",\"none\",\"none\",\"none\",\"none\",\"none\",\"none\",\"none\",\"none\",\"none\",\"none\",\"completed\",\"completed\",\"none\",\"completed\",\"completed\",\"none\",\"completed\",\"none\",\"completed\",\"completed\",\"none\",\"none\",\"none\",\"completed\",\"completed\",\"completed\",\"completed\",\"none\",\"none\",\"none\",\"none\",\"none\",\"completed\",\"completed\",\"none\",\"none\",\"none\",\"completed\",\"completed\",\"completed\",\"completed\",\"completed\",\"none\",\"completed\",\"completed\",\"none\",\"none\",\"completed\",\"none\",\"none\",\"none\",\"completed\",\"none\",\"completed\",\"completed\",\"none\",\"none\",\"completed\",\"completed\",\"completed\",\"none\",\"completed\",\"completed\",\"completed\",\"none\",\"none\",\"completed\",\"completed\",\"none\",\"completed\",\"completed\",\"none\",\"completed\",\"none\",\"none\",\"completed\",\"none\",\"completed\",\"none\",\"completed\",\"none\",\"none\",\"none\",\"none\",\"completed\",\"none\",\"completed\",\"none\",\"none\",\"none\",\"none\",\"completed\",\"none\",\"none\",\"completed\",\"completed\",\"completed\",\"none\",\"none\",\"none\",\"none\",\"none\",\"none\",\"completed\",\"none\",\"none\",\"none\",\"none\",\"none\",\"none\",\"none\",\"completed\",\"none\",\"none\",\"none\",\"none\",\"completed\",\"none\",\"none\",\"none\",\"completed\",\"none\",\"completed\",\"none\",\"completed\",\"completed\",\"completed\",\"completed\",\"none\",\"none\",\"completed\",\"completed\",\"none\",\"none\",\"none\",\"none\",\"none\",\"none\",\"none\",\"completed\",\"completed\",\"none\",\"none\",\"none\",\"completed\",\"none\",\"none\",\"completed\",\"completed\",\"none\",\"completed\",\"none\",\"none\",\"none\",\"none\",\"completed\",\"completed\",\"none\",\"completed\",\"completed\",\"none\",\"completed\",\"none\",\"none\",\"completed\",\"completed\",\"none\",\"none\",\"none\",\"completed\",\"none\",\"none\",\"completed\",\"none\",\"none\",\"none\",\"none\",\"none\",\"none\",\"completed\",\"completed\",\"none\",\"none\",\"none\",\"none\",\"none\",\"none\",\"none\",\"completed\",\"none\",\"none\",\"none\",\"none\",\"completed\",\"none\",\"none\",\"completed\",\"none\",\"none\",\"completed\",\"none\",\"none\",\"none\",\"completed\",\"completed\",\"none\",\"none\",\"completed\",\"completed\",\"completed\",\"none\"],\"x0\":\" \",\"xaxis\":\"x\",\"y\":[72,90,95,83,95,60,81,53,75,32,58,75,73,69,70,74,65,72,81,64,90,73,58,56,65,71,74,84,41,85,17,80,58,72,64,63,51,74,68,49,80,83,71,70,86,72,86,72,67,67,91,67,100,76,64,89,58,100,85,82,63,69,92,93,95,49,81,66,72,62,55,39,75,70,89,74,86,88,92,100,76,83,75,86,67,51,91,54,77,70,100,64,50,69,88,65,64,84,53,79,84,81,69,81,61,62,86,42,68,65,66,56,72,95,86,60,83,52,70,64,83,70,73,73,75,81,79,50,93,75,72,92,76,53,70,92,63,86,79,78,46,89,73,84,75,71,57,76,67,64,82,65,79,86,81,53,46,90,55,93,68,38,55,73,76,80,94,65,78,58,71,72,66,90,62,58,34,64,84,73,97,70,90,95,83,86,49,43,76,73,78,64,68,74,67,89,54,65,99,59,73,80,57,71,72,93,58,58,85,67,72,59,81,81,73,83,74,85,92,77,61,89,100,70,90,87,31,88,85,69,86,67,90,76,64,59,52,75,85,64,83,88,64,48,78,69,79,87,89,59,82,92,61,97,87,89,74,78,78,86,53,41,74,67,54,88,83,66,77,95,63,100,67,48,39,72,70,75,74,80,100,71,62,66,81,91,56,61,97,79,73,75,77,76,73,63,64,66,76,100,79,77,82,60,29,78,84,58,64,63,59,77,93,68,45,61,58,51,74,88,80,92,74,88,81,79,81,70,62,53,79,80,86,70,79,67,60,71,69,60,73,85,76,78,84,77,64,78,82,72,40,99,53,76,74,77,63,89,82,72,78,81,67,64,63,61,85,100,70,94,96,76,72,90,75,92,77,89,58,66,57,84,73,60,90,95,59,72,58,62,72,75,71,67,78,58,72,44,79,56,90,85,59,51,79,38,65,62,66,52,68,84,55,94,85,76,74,45,64,80,59,72,91,90,90,87,58,68,69,86,60,86,82,64,82,77,52,44,65,72,68,85,97,79,62,86,71,72,62,72,76,70,73,51,76,100,65,85,92,67,62,34,78,78,78,48,100,84,84,75,84,61,62,61,70,61,77,53,65,61,56,58,91,68,61,58,75,77,74,69,100,63,58,54,100,76,70,76,84,100,50,65,63,82,95,24,87,75,59,45,86,82,76,72,99,71,78,86],\"y0\":\" \",\"yaxis\":\"y\",\"type\":\"box\"},{\"alignmentgroup\":\"True\",\"hovertemplate\":\"gender=male<br>test preparation course=%{x}<br>reading score=%{y}<extra></extra>\",\"legendgroup\":\"male\",\"marker\":{\"color\":\"#EF553B\"},\"name\":\"male\",\"notched\":false,\"offsetgroup\":\"male\",\"orientation\":\"v\",\"showlegend\":true,\"x\":[\"none\",\"none\",\"none\",\"completed\",\"none\",\"none\",\"completed\",\"none\",\"completed\",\"none\",\"none\",\"completed\",\"none\",\"none\",\"none\",\"none\",\"none\",\"completed\",\"none\",\"none\",\"completed\",\"none\",\"completed\",\"none\",\"completed\",\"none\",\"none\",\"none\",\"completed\",\"completed\",\"none\",\"none\",\"none\",\"none\",\"none\",\"completed\",\"none\",\"none\",\"none\",\"none\",\"completed\",\"none\",\"completed\",\"none\",\"none\",\"none\",\"none\",\"completed\",\"completed\",\"completed\",\"none\",\"completed\",\"completed\",\"completed\",\"completed\",\"none\",\"none\",\"none\",\"completed\",\"none\",\"none\",\"none\",\"completed\",\"none\",\"none\",\"completed\",\"completed\",\"completed\",\"none\",\"completed\",\"none\",\"completed\",\"none\",\"none\",\"none\",\"none\",\"completed\",\"completed\",\"none\",\"none\",\"none\",\"none\",\"none\",\"completed\",\"none\",\"none\",\"completed\",\"completed\",\"none\",\"completed\",\"completed\",\"completed\",\"none\",\"completed\",\"none\",\"completed\",\"completed\",\"none\",\"completed\",\"none\",\"none\",\"none\",\"completed\",\"none\",\"completed\",\"completed\",\"none\",\"completed\",\"completed\",\"completed\",\"none\",\"completed\",\"none\",\"none\",\"none\",\"none\",\"none\",\"none\",\"none\",\"completed\",\"none\",\"none\",\"none\",\"none\",\"completed\",\"none\",\"none\",\"none\",\"none\",\"none\",\"completed\",\"none\",\"none\",\"completed\",\"completed\",\"none\",\"none\",\"none\",\"none\",\"completed\",\"none\",\"none\",\"none\",\"none\",\"completed\",\"completed\",\"none\",\"completed\",\"none\",\"none\",\"completed\",\"completed\",\"none\",\"completed\",\"completed\",\"completed\",\"none\",\"completed\",\"none\",\"none\",\"none\",\"completed\",\"none\",\"none\",\"completed\",\"none\",\"none\",\"none\",\"none\",\"none\",\"completed\",\"none\",\"none\",\"completed\",\"none\",\"completed\",\"none\",\"none\",\"completed\",\"none\",\"none\",\"none\",\"none\",\"none\",\"none\",\"none\",\"completed\",\"none\",\"completed\",\"completed\",\"none\",\"none\",\"none\",\"none\",\"none\",\"completed\",\"none\",\"none\",\"completed\",\"none\",\"completed\",\"none\",\"none\",\"none\",\"none\",\"completed\",\"completed\",\"completed\",\"none\",\"completed\",\"none\",\"completed\",\"none\",\"none\",\"completed\",\"none\",\"none\",\"none\",\"none\",\"none\",\"none\",\"none\",\"none\",\"completed\",\"none\",\"none\",\"none\",\"completed\",\"none\",\"none\",\"completed\",\"none\",\"none\",\"none\",\"none\",\"none\",\"completed\",\"none\",\"none\",\"completed\",\"completed\",\"none\",\"completed\",\"none\",\"none\",\"completed\",\"none\",\"none\",\"none\",\"none\",\"completed\",\"completed\",\"completed\",\"none\",\"none\",\"none\",\"none\",\"none\",\"none\",\"none\",\"none\",\"none\",\"none\",\"none\",\"completed\",\"none\",\"completed\",\"completed\",\"completed\",\"completed\",\"completed\",\"completed\",\"completed\",\"completed\",\"completed\",\"completed\",\"none\",\"none\",\"completed\",\"none\",\"none\",\"none\",\"none\",\"completed\",\"none\",\"none\",\"none\",\"none\",\"completed\",\"none\",\"completed\",\"completed\",\"none\",\"none\",\"none\",\"none\",\"none\",\"none\",\"completed\",\"none\",\"completed\",\"completed\",\"none\",\"none\",\"completed\",\"none\",\"completed\",\"completed\",\"completed\",\"completed\",\"none\",\"none\",\"none\",\"none\",\"none\",\"none\",\"none\",\"none\",\"none\",\"completed\",\"none\",\"none\",\"none\",\"none\",\"none\",\"none\",\"none\",\"completed\",\"none\",\"none\",\"none\",\"none\",\"none\",\"completed\",\"completed\",\"none\",\"none\",\"none\",\"none\",\"completed\",\"none\",\"none\",\"none\",\"none\",\"completed\",\"none\",\"completed\",\"completed\",\"completed\",\"none\",\"none\",\"completed\",\"completed\",\"none\",\"none\",\"none\",\"none\",\"none\",\"none\",\"none\",\"none\",\"none\",\"none\",\"none\",\"none\",\"completed\",\"completed\",\"none\",\"completed\",\"none\",\"none\",\"completed\",\"completed\",\"completed\",\"none\",\"completed\",\"none\",\"none\",\"none\",\"none\",\"completed\",\"completed\",\"none\",\"none\",\"completed\",\"none\",\"none\",\"completed\",\"completed\",\"none\",\"none\",\"none\",\"none\",\"none\",\"completed\",\"completed\",\"completed\",\"completed\",\"none\",\"none\",\"none\",\"none\",\"none\",\"completed\",\"none\",\"completed\",\"none\",\"completed\",\"none\",\"none\",\"none\",\"none\",\"none\",\"none\",\"completed\",\"none\",\"completed\",\"none\",\"completed\",\"none\",\"none\",\"completed\",\"none\",\"none\",\"completed\",\"none\",\"none\",\"none\",\"none\",\"completed\",\"none\",\"none\",\"none\",\"completed\",\"none\",\"completed\",\"none\",\"none\",\"none\",\"completed\",\"none\",\"completed\",\"completed\",\"none\",\"none\",\"none\",\"completed\",\"none\",\"completed\",\"completed\",\"none\",\"completed\",\"completed\",\"completed\",\"none\",\"none\",\"completed\",\"completed\",\"completed\",\"none\",\"completed\",\"none\",\"completed\",\"none\",\"completed\",\"none\",\"none\",\"none\",\"none\",\"completed\",\"none\",\"completed\",\"completed\",\"none\",\"completed\",\"none\",\"completed\",\"none\",\"completed\",\"completed\",\"none\",\"none\"],\"x0\":\" \",\"xaxis\":\"x\",\"y\":[57,78,43,64,54,52,72,89,42,69,54,71,74,54,70,42,87,81,56,61,65,54,84,55,69,44,78,55,59,74,39,61,64,37,58,55,57,49,41,26,78,45,47,64,39,34,79,45,81,66,67,74,44,86,63,55,53,77,89,57,80,68,77,82,84,37,74,79,55,54,55,61,43,73,84,68,100,67,67,49,67,60,62,78,53,53,51,73,88,68,52,67,76,66,52,83,62,55,69,56,77,41,71,62,80,79,28,51,91,83,77,56,85,80,50,72,64,43,87,82,75,66,52,80,68,51,74,76,76,60,49,80,52,77,79,73,42,63,49,85,78,56,52,48,82,82,75,76,70,73,60,77,62,41,74,46,87,78,54,76,67,87,52,60,61,66,72,71,61,23,75,60,37,56,78,70,51,61,72,73,61,74,74,57,61,62,84,60,58,58,66,77,74,43,64,100,81,70,67,67,54,45,63,59,43,65,84,83,66,67,73,74,73,59,56,39,83,71,59,63,66,56,66,48,68,66,56,88,82,66,81,46,73,58,56,54,65,58,54,58,67,74,62,68,71,71,68,52,74,47,53,82,64,71,61,70,59,78,71,50,49,49,58,59,52,60,61,61,69,60,66,92,69,82,83,67,72,76,90,62,45,67,66,90,51,43,48,68,75,96,55,51,57,62,68,24,54,57,89,72,60,90,78,81,73,63,51,96,97,70,48,57,64,60,84,74,76,52,65,56,67,66,87,77,66,63,74,72,57,75,61,68,55,66,75,78,58,90,66,84,72,34,59,87,84,81,78,73,59,48,43,74,51,39,46,47,57,79,71,60,73,55,79,75,64,84,69,72,77,55,58,68,77,81,63,62,60,48,73,65,85,81,65,74,84,70,60,73,80,81,75,54,31,47,84,86,70,52,67,54,60,50,64,57,58,77,85,85,54,75,67,67,64,68,49,73,42,93,82,53,42,74,51,58,84,90,64,82,61,64,46,72,51,74,29,54,84,77,48,64,42,100,96,70,66,70,64,56,43,74,57,71,75,87,63,57,81,68,66,66,62,82,50,73,52,57,87,81,57,68,63,72,62,65,41,78,85,51,75,81,63,55],\"y0\":\" \",\"yaxis\":\"y\",\"type\":\"box\"}],                        {\"template\":{\"data\":{\"bar\":[{\"error_x\":{\"color\":\"#2a3f5f\"},\"error_y\":{\"color\":\"#2a3f5f\"},\"marker\":{\"line\":{\"color\":\"#E5ECF6\",\"width\":0.5},\"pattern\":{\"fillmode\":\"overlay\",\"size\":10,\"solidity\":0.2}},\"type\":\"bar\"}],\"barpolar\":[{\"marker\":{\"line\":{\"color\":\"#E5ECF6\",\"width\":0.5},\"pattern\":{\"fillmode\":\"overlay\",\"size\":10,\"solidity\":0.2}},\"type\":\"barpolar\"}],\"carpet\":[{\"aaxis\":{\"endlinecolor\":\"#2a3f5f\",\"gridcolor\":\"white\",\"linecolor\":\"white\",\"minorgridcolor\":\"white\",\"startlinecolor\":\"#2a3f5f\"},\"baxis\":{\"endlinecolor\":\"#2a3f5f\",\"gridcolor\":\"white\",\"linecolor\":\"white\",\"minorgridcolor\":\"white\",\"startlinecolor\":\"#2a3f5f\"},\"type\":\"carpet\"}],\"choropleth\":[{\"colorbar\":{\"outlinewidth\":0,\"ticks\":\"\"},\"type\":\"choropleth\"}],\"contour\":[{\"colorbar\":{\"outlinewidth\":0,\"ticks\":\"\"},\"colorscale\":[[0.0,\"#0d0887\"],[0.1111111111111111,\"#46039f\"],[0.2222222222222222,\"#7201a8\"],[0.3333333333333333,\"#9c179e\"],[0.4444444444444444,\"#bd3786\"],[0.5555555555555556,\"#d8576b\"],[0.6666666666666666,\"#ed7953\"],[0.7777777777777778,\"#fb9f3a\"],[0.8888888888888888,\"#fdca26\"],[1.0,\"#f0f921\"]],\"type\":\"contour\"}],\"contourcarpet\":[{\"colorbar\":{\"outlinewidth\":0,\"ticks\":\"\"},\"type\":\"contourcarpet\"}],\"heatmap\":[{\"colorbar\":{\"outlinewidth\":0,\"ticks\":\"\"},\"colorscale\":[[0.0,\"#0d0887\"],[0.1111111111111111,\"#46039f\"],[0.2222222222222222,\"#7201a8\"],[0.3333333333333333,\"#9c179e\"],[0.4444444444444444,\"#bd3786\"],[0.5555555555555556,\"#d8576b\"],[0.6666666666666666,\"#ed7953\"],[0.7777777777777778,\"#fb9f3a\"],[0.8888888888888888,\"#fdca26\"],[1.0,\"#f0f921\"]],\"type\":\"heatmap\"}],\"heatmapgl\":[{\"colorbar\":{\"outlinewidth\":0,\"ticks\":\"\"},\"colorscale\":[[0.0,\"#0d0887\"],[0.1111111111111111,\"#46039f\"],[0.2222222222222222,\"#7201a8\"],[0.3333333333333333,\"#9c179e\"],[0.4444444444444444,\"#bd3786\"],[0.5555555555555556,\"#d8576b\"],[0.6666666666666666,\"#ed7953\"],[0.7777777777777778,\"#fb9f3a\"],[0.8888888888888888,\"#fdca26\"],[1.0,\"#f0f921\"]],\"type\":\"heatmapgl\"}],\"histogram\":[{\"marker\":{\"pattern\":{\"fillmode\":\"overlay\",\"size\":10,\"solidity\":0.2}},\"type\":\"histogram\"}],\"histogram2d\":[{\"colorbar\":{\"outlinewidth\":0,\"ticks\":\"\"},\"colorscale\":[[0.0,\"#0d0887\"],[0.1111111111111111,\"#46039f\"],[0.2222222222222222,\"#7201a8\"],[0.3333333333333333,\"#9c179e\"],[0.4444444444444444,\"#bd3786\"],[0.5555555555555556,\"#d8576b\"],[0.6666666666666666,\"#ed7953\"],[0.7777777777777778,\"#fb9f3a\"],[0.8888888888888888,\"#fdca26\"],[1.0,\"#f0f921\"]],\"type\":\"histogram2d\"}],\"histogram2dcontour\":[{\"colorbar\":{\"outlinewidth\":0,\"ticks\":\"\"},\"colorscale\":[[0.0,\"#0d0887\"],[0.1111111111111111,\"#46039f\"],[0.2222222222222222,\"#7201a8\"],[0.3333333333333333,\"#9c179e\"],[0.4444444444444444,\"#bd3786\"],[0.5555555555555556,\"#d8576b\"],[0.6666666666666666,\"#ed7953\"],[0.7777777777777778,\"#fb9f3a\"],[0.8888888888888888,\"#fdca26\"],[1.0,\"#f0f921\"]],\"type\":\"histogram2dcontour\"}],\"mesh3d\":[{\"colorbar\":{\"outlinewidth\":0,\"ticks\":\"\"},\"type\":\"mesh3d\"}],\"parcoords\":[{\"line\":{\"colorbar\":{\"outlinewidth\":0,\"ticks\":\"\"}},\"type\":\"parcoords\"}],\"pie\":[{\"automargin\":true,\"type\":\"pie\"}],\"scatter\":[{\"marker\":{\"colorbar\":{\"outlinewidth\":0,\"ticks\":\"\"}},\"type\":\"scatter\"}],\"scatter3d\":[{\"line\":{\"colorbar\":{\"outlinewidth\":0,\"ticks\":\"\"}},\"marker\":{\"colorbar\":{\"outlinewidth\":0,\"ticks\":\"\"}},\"type\":\"scatter3d\"}],\"scattercarpet\":[{\"marker\":{\"colorbar\":{\"outlinewidth\":0,\"ticks\":\"\"}},\"type\":\"scattercarpet\"}],\"scattergeo\":[{\"marker\":{\"colorbar\":{\"outlinewidth\":0,\"ticks\":\"\"}},\"type\":\"scattergeo\"}],\"scattergl\":[{\"marker\":{\"colorbar\":{\"outlinewidth\":0,\"ticks\":\"\"}},\"type\":\"scattergl\"}],\"scattermapbox\":[{\"marker\":{\"colorbar\":{\"outlinewidth\":0,\"ticks\":\"\"}},\"type\":\"scattermapbox\"}],\"scatterpolar\":[{\"marker\":{\"colorbar\":{\"outlinewidth\":0,\"ticks\":\"\"}},\"type\":\"scatterpolar\"}],\"scatterpolargl\":[{\"marker\":{\"colorbar\":{\"outlinewidth\":0,\"ticks\":\"\"}},\"type\":\"scatterpolargl\"}],\"scatterternary\":[{\"marker\":{\"colorbar\":{\"outlinewidth\":0,\"ticks\":\"\"}},\"type\":\"scatterternary\"}],\"surface\":[{\"colorbar\":{\"outlinewidth\":0,\"ticks\":\"\"},\"colorscale\":[[0.0,\"#0d0887\"],[0.1111111111111111,\"#46039f\"],[0.2222222222222222,\"#7201a8\"],[0.3333333333333333,\"#9c179e\"],[0.4444444444444444,\"#bd3786\"],[0.5555555555555556,\"#d8576b\"],[0.6666666666666666,\"#ed7953\"],[0.7777777777777778,\"#fb9f3a\"],[0.8888888888888888,\"#fdca26\"],[1.0,\"#f0f921\"]],\"type\":\"surface\"}],\"table\":[{\"cells\":{\"fill\":{\"color\":\"#EBF0F8\"},\"line\":{\"color\":\"white\"}},\"header\":{\"fill\":{\"color\":\"#C8D4E3\"},\"line\":{\"color\":\"white\"}},\"type\":\"table\"}]},\"layout\":{\"annotationdefaults\":{\"arrowcolor\":\"#2a3f5f\",\"arrowhead\":0,\"arrowwidth\":1},\"autotypenumbers\":\"strict\",\"coloraxis\":{\"colorbar\":{\"outlinewidth\":0,\"ticks\":\"\"}},\"colorscale\":{\"diverging\":[[0,\"#8e0152\"],[0.1,\"#c51b7d\"],[0.2,\"#de77ae\"],[0.3,\"#f1b6da\"],[0.4,\"#fde0ef\"],[0.5,\"#f7f7f7\"],[0.6,\"#e6f5d0\"],[0.7,\"#b8e186\"],[0.8,\"#7fbc41\"],[0.9,\"#4d9221\"],[1,\"#276419\"]],\"sequential\":[[0.0,\"#0d0887\"],[0.1111111111111111,\"#46039f\"],[0.2222222222222222,\"#7201a8\"],[0.3333333333333333,\"#9c179e\"],[0.4444444444444444,\"#bd3786\"],[0.5555555555555556,\"#d8576b\"],[0.6666666666666666,\"#ed7953\"],[0.7777777777777778,\"#fb9f3a\"],[0.8888888888888888,\"#fdca26\"],[1.0,\"#f0f921\"]],\"sequentialminus\":[[0.0,\"#0d0887\"],[0.1111111111111111,\"#46039f\"],[0.2222222222222222,\"#7201a8\"],[0.3333333333333333,\"#9c179e\"],[0.4444444444444444,\"#bd3786\"],[0.5555555555555556,\"#d8576b\"],[0.6666666666666666,\"#ed7953\"],[0.7777777777777778,\"#fb9f3a\"],[0.8888888888888888,\"#fdca26\"],[1.0,\"#f0f921\"]]},\"colorway\":[\"#636efa\",\"#EF553B\",\"#00cc96\",\"#ab63fa\",\"#FFA15A\",\"#19d3f3\",\"#FF6692\",\"#B6E880\",\"#FF97FF\",\"#FECB52\"],\"font\":{\"color\":\"#2a3f5f\"},\"geo\":{\"bgcolor\":\"white\",\"lakecolor\":\"white\",\"landcolor\":\"#E5ECF6\",\"showlakes\":true,\"showland\":true,\"subunitcolor\":\"white\"},\"hoverlabel\":{\"align\":\"left\"},\"hovermode\":\"closest\",\"mapbox\":{\"style\":\"light\"},\"paper_bgcolor\":\"white\",\"plot_bgcolor\":\"#E5ECF6\",\"polar\":{\"angularaxis\":{\"gridcolor\":\"white\",\"linecolor\":\"white\",\"ticks\":\"\"},\"bgcolor\":\"#E5ECF6\",\"radialaxis\":{\"gridcolor\":\"white\",\"linecolor\":\"white\",\"ticks\":\"\"}},\"scene\":{\"xaxis\":{\"backgroundcolor\":\"#E5ECF6\",\"gridcolor\":\"white\",\"gridwidth\":2,\"linecolor\":\"white\",\"showbackground\":true,\"ticks\":\"\",\"zerolinecolor\":\"white\"},\"yaxis\":{\"backgroundcolor\":\"#E5ECF6\",\"gridcolor\":\"white\",\"gridwidth\":2,\"linecolor\":\"white\",\"showbackground\":true,\"ticks\":\"\",\"zerolinecolor\":\"white\"},\"zaxis\":{\"backgroundcolor\":\"#E5ECF6\",\"gridcolor\":\"white\",\"gridwidth\":2,\"linecolor\":\"white\",\"showbackground\":true,\"ticks\":\"\",\"zerolinecolor\":\"white\"}},\"shapedefaults\":{\"line\":{\"color\":\"#2a3f5f\"}},\"ternary\":{\"aaxis\":{\"gridcolor\":\"white\",\"linecolor\":\"white\",\"ticks\":\"\"},\"baxis\":{\"gridcolor\":\"white\",\"linecolor\":\"white\",\"ticks\":\"\"},\"bgcolor\":\"#E5ECF6\",\"caxis\":{\"gridcolor\":\"white\",\"linecolor\":\"white\",\"ticks\":\"\"}},\"title\":{\"x\":0.05},\"xaxis\":{\"automargin\":true,\"gridcolor\":\"white\",\"linecolor\":\"white\",\"ticks\":\"\",\"title\":{\"standoff\":15},\"zerolinecolor\":\"white\",\"zerolinewidth\":2},\"yaxis\":{\"automargin\":true,\"gridcolor\":\"white\",\"linecolor\":\"white\",\"ticks\":\"\",\"title\":{\"standoff\":15},\"zerolinecolor\":\"white\",\"zerolinewidth\":2}}},\"xaxis\":{\"anchor\":\"y\",\"domain\":[0.0,1.0],\"title\":{\"text\":\"test preparation course\"}},\"yaxis\":{\"anchor\":\"x\",\"domain\":[0.0,1.0],\"title\":{\"text\":\"reading score\"}},\"legend\":{\"title\":{\"text\":\"gender\"},\"tracegroupgap\":0},\"margin\":{\"t\":60},\"boxmode\":\"group\"},                        {\"responsive\": true}                    ).then(function(){\n",
       "                            \n",
       "var gd = document.getElementById('2f36e651-f4e9-4da5-958d-cd43c7e00a09');\n",
       "var x = new MutationObserver(function (mutations, observer) {{\n",
       "        var display = window.getComputedStyle(gd).display;\n",
       "        if (!display || display === 'none') {{\n",
       "            console.log([gd, 'removed!']);\n",
       "            Plotly.purge(gd);\n",
       "            observer.disconnect();\n",
       "        }}\n",
       "}});\n",
       "\n",
       "// Listen for the removal of the full notebook cells\n",
       "var notebookContainer = gd.closest('#notebook-container');\n",
       "if (notebookContainer) {{\n",
       "    x.observe(notebookContainer, {childList: true});\n",
       "}}\n",
       "\n",
       "// Listen for the clearing of the current output cell\n",
       "var outputEl = gd.closest('.output');\n",
       "if (outputEl) {{\n",
       "    x.observe(outputEl, {childList: true});\n",
       "}}\n",
       "\n",
       "                        })                };                });            </script>        </div>"
      ]
     },
     "metadata": {},
     "output_type": "display_data"
    }
   ],
   "source": [
    "fig = px.box(data, x=\"test preparation course\", y=\"reading score\", color=\"gender\")\n",
    "fig.show()"
   ]
  },
  {
   "cell_type": "markdown",
   "id": "35f72161",
   "metadata": {},
   "source": [
    "**Students who completed test preparation course are more likely to score 80 and above marks in Reading.**"
   ]
  },
  {
   "cell_type": "code",
   "execution_count": 38,
   "id": "0850cb88",
   "metadata": {
    "ExecuteTime": {
     "end_time": "2022-07-15T15:48:00.542304Z",
     "start_time": "2022-07-15T15:47:59.418325Z"
    }
   },
   "outputs": [
    {
     "data": {
      "image/png": "[encoded data removed]",
      "text/plain": [
       "<Figure size 1080x576 with 1 Axes>"
      ]
     },
     "metadata": {},
     "output_type": "display_data"
    }
   ],
   "source": [
    "fig = plt.figure(figsize=(15,8))\n",
    "ax = sns.countplot(x=\"reading score\", data = data, palette='muted')\n",
    "sns.set_style('whitegrid')\n",
    "\n",
    "ax.set_xticklabels(ax.get_xticklabels(),rotation = 90)\n",
    "plt.show()"
   ]
  },
  {
   "cell_type": "markdown",
   "id": "5db80dfc",
   "metadata": {},
   "source": [
    "**Similar to maths, the highest score most students (about 34) got is 72 marks.**"
   ]
  },
  {
   "cell_type": "code",
   "execution_count": 39,
   "id": "8209cbb6",
   "metadata": {
    "ExecuteTime": {
     "end_time": "2022-07-15T15:48:00.557230Z",
     "start_time": "2022-07-15T15:48:00.543267Z"
    }
   },
   "outputs": [
    {
     "data": {
      "text/plain": [
       "P    968\n",
       "F     32\n",
       "Name: Write_PassStatus, dtype: int64"
      ]
     },
     "execution_count": 39,
     "metadata": {},
     "output_type": "execute_result"
    }
   ],
   "source": [
    "data['Write_PassStatus'] = np.where(data['writing score'] < min_passmarks, 'F', 'P')\n",
    "data.Write_PassStatus.value_counts()"
   ]
  },
  {
   "cell_type": "markdown",
   "id": "225dac3b",
   "metadata": {
    "ExecuteTime": {
     "end_time": "2022-07-15T15:00:13.293744Z",
     "start_time": "2022-07-15T15:00:13.269733Z"
    }
   },
   "source": [
    "- About 3% students failed in Writing"
   ]
  },
  {
   "cell_type": "code",
   "execution_count": 40,
   "id": "6f0d48df",
   "metadata": {
    "ExecuteTime": {
     "end_time": "2022-07-15T15:48:00.621093Z",
     "start_time": "2022-07-15T15:48:00.558228Z"
    }
   },
   "outputs": [
    {
     "data": {
      "application/vnd.plotly.v1+json": {
       "config": {
        "plotlyServerURL": "https://plot.ly"
       },
       "data": [
        {
         "alignmentgroup": "True",
         "hovertemplate": "gender=female<br>test preparation course=%{x}<br>writing score=%{y}<extra></extra>",
         "legendgroup": "female",
         "marker": {
          "color": "#636efa"
         },
         "name": "female",
         "notched": false,
         "offsetgroup": "female",
         "orientation": "v",
         "showlegend": true,
         "type": "box",
         "x": [
          "none",
          "completed",
          "none",
          "none",
          "completed",
          "none",
          "none",
          "none",
          "none",
          "none",
          "none",
          "completed",
          "none",
          "none",
          "none",
          "none",
          "none",
          "none",
          "none",
          "none",
          "completed",
          "none",
          "none",
          "none",
          "completed",
          "none",
          "completed",
          "completed",
          "none",
          "completed",
          "none",
          "none",
          "none",
          "none",
          "none",
          "completed",
          "none",
          "completed",
          "none",
          "none",
          "none",
          "none",
          "none",
          "none",
          "none",
          "none",
          "none",
          "completed",
          "none",
          "none",
          "none",
          "none",
          "none",
          "none",
          "none",
          "completed",
          "none",
          "completed",
          "none",
          "none",
          "none",
          "none",
          "completed",
          "completed",
          "none",
          "none",
          "completed",
          "none",
          "none",
          "none",
          "completed",
          "none",
          "completed",
          "completed",
          "completed",
          "completed",
          "completed",
          "completed",
          "none",
          "completed",
          "completed",
          "completed",
          "completed",
          "none",
          "none",
          "completed",
          "completed",
          "completed",
          "completed",
          "completed",
          "completed",
          "none",
          "none",
          "none",
          "none",
          "none",
          "none",
          "completed",
          "none",
          "none",
          "completed",
          "none",
          "none",
          "none",
          "none",
          "none",
          "completed",
          "none",
          "completed",
          "none",
          "completed",
          "none",
          "none",
          "completed",
          "none",
          "completed",
          "none",
          "none",
          "completed",
          "none",
          "none",
          "completed",
          "none",
          "none",
          "none",
          "completed",
          "completed",
          "none",
          "none",
          "none",
          "none",
          "completed",
          "none",
          "none",
          "none",
          "completed",
          "completed",
          "none",
          "none",
          "completed",
          "none",
          "none",
          "none",
          "completed",
          "completed",
          "none",
          "none",
          "none",
          "completed",
          "completed",
          "completed",
          "none",
          "completed",
          "none",
          "none",
          "none",
          "none",
          "none",
          "none",
          "none",
          "none",
          "none",
          "completed",
          "none",
          "completed",
          "none",
          "completed",
          "none",
          "completed",
          "none",
          "none",
          "none",
          "completed",
          "none",
          "none",
          "none",
          "none",
          "none",
          "none",
          "completed",
          "completed",
          "none",
          "none",
          "completed",
          "none",
          "none",
          "none",
          "none",
          "none",
          "none",
          "none",
          "none",
          "none",
          "completed",
          "none",
          "none",
          "completed",
          "none",
          "completed",
          "none",
          "none",
          "none",
          "completed",
          "completed",
          "completed",
          "completed",
          "completed",
          "completed",
          "completed",
          "none",
          "none",
          "none",
          "completed",
          "none",
          "none",
          "none",
          "completed",
          "completed",
          "none",
          "none",
          "none",
          "none",
          "none",
          "none",
          "none",
          "none",
          "none",
          "completed",
          "completed",
          "none",
          "completed",
          "none",
          "completed",
          "completed",
          "none",
          "none",
          "none",
          "none",
          "none",
          "none",
          "none",
          "none",
          "none",
          "none",
          "completed",
          "none",
          "none",
          "completed",
          "completed",
          "none",
          "none",
          "none",
          "completed",
          "completed",
          "completed",
          "none",
          "completed",
          "completed",
          "completed",
          "none",
          "none",
          "none",
          "none",
          "completed",
          "none",
          "completed",
          "completed",
          "none",
          "none",
          "none",
          "none",
          "completed",
          "none",
          "none",
          "none",
          "completed",
          "none",
          "completed",
          "none",
          "completed",
          "completed",
          "completed",
          "none",
          "completed",
          "none",
          "none",
          "completed",
          "none",
          "none",
          "none",
          "none",
          "completed",
          "none",
          "none",
          "none",
          "none",
          "none",
          "none",
          "none",
          "completed",
          "completed",
          "none",
          "none",
          "none",
          "none",
          "none",
          "none",
          "none",
          "none",
          "none",
          "none",
          "none",
          "none",
          "none",
          "none",
          "none",
          "none",
          "completed",
          "completed",
          "none",
          "completed",
          "completed",
          "none",
          "completed",
          "none",
          "completed",
          "completed",
          "none",
          "none",
          "none",
          "completed",
          "completed",
          "completed",
          "completed",
          "none",
          "none",
          "none",
          "none",
          "none",
          "completed",
          "completed",
          "none",
          "none",
          "none",
          "completed",
          "completed",
          "completed",
          "completed",
          "completed",
          "none",
          "completed",
          "completed",
          "none",
          "none",
          "completed",
          "none",
          "none",
          "none",
          "completed",
          "none",
          "completed",
          "completed",
          "none",
          "none",
          "completed",
          "completed",
          "completed",
          "none",
          "completed",
          "completed",
          "completed",
          "none",
          "none",
          "completed",
          "completed",
          "none",
          "completed",
          "completed",
          "none",
          "completed",
          "none",
          "none",
          "completed",
          "none",
          "completed",
          "none",
          "completed",
          "none",
          "none",
          "none",
          "none",
          "completed",
          "none",
          "completed",
          "none",
          "none",
          "none",
          "none",
          "completed",
          "none",
          "none",
          "completed",
          "completed",
          "completed",
          "none",
          "none",
          "none",
          "none",
          "none",
          "none",
          "completed",
          "none",
          "none",
          "none",
          "none",
          "none",
          "none",
          "none",
          "completed",
          "none",
          "none",
          "none",
          "none",
          "completed",
          "none",
          "none",
          "none",
          "completed",
          "none",
          "completed",
          "none",
          "completed",
          "completed",
          "completed",
          "completed",
          "none",
          "none",
          "completed",
          "completed",
          "none",
          "none",
          "none",
          "none",
          "none",
          "none",
          "none",
          "completed",
          "completed",
          "none",
          "none",
          "none",
          "completed",
          "none",
          "none",
          "completed",
          "completed",
          "none",
          "completed",
          "none",
          "none",
          "none",
          "none",
          "completed",
          "completed",
          "none",
          "completed",
          "completed",
          "none",
          "completed",
          "none",
          "none",
          "completed",
          "completed",
          "none",
          "none",
          "none",
          "completed",
          "none",
          "none",
          "completed",
          "none",
          "none",
          "none",
          "none",
          "none",
          "none",
          "completed",
          "completed",
          "none",
          "none",
          "none",
          "none",
          "none",
          "none",
          "none",
          "completed",
          "none",
          "none",
          "none",
          "none",
          "completed",
          "none",
          "none",
          "completed",
          "none",
          "none",
          "completed",
          "none",
          "none",
          "none",
          "completed",
          "completed",
          "none",
          "none",
          "completed",
          "completed",
          "completed",
          "none"
         ],
         "x0": " ",
         "xaxis": "x",
         "y": [
          74,
          88,
          93,
          78,
          92,
          50,
          73,
          58,
          78,
          28,
          61,
          70,
          73,
          75,
          75,
          74,
          61,
          65,
          83,
          59,
          88,
          68,
          65,
          54,
          62,
          76,
          76,
          87,
          43,
          86,
          10,
          71,
          59,
          74,
          57,
          73,
          48,
          72,
          68,
          50,
          82,
          88,
          74,
          67,
          82,
          74,
          92,
          70,
          62,
          62,
          89,
          72,
          100,
          70,
          72,
          98,
          54,
          100,
          82,
          79,
          61,
          65,
          89,
          93,
          86,
          51,
          84,
          67,
          71,
          64,
          54,
          33,
          81,
          66,
          88,
          78,
          87,
          85,
          91,
          100,
          78,
          78,
          70,
          81,
          70,
          54,
          87,
          58,
          77,
          62,
          100,
          66,
          47,
          70,
          87,
          69,
          66,
          85,
          55,
          76,
          86,
          77,
          68,
          76,
          66,
          60,
          88,
          39,
          74,
          62,
          73,
          54,
          71,
          94,
          83,
          74,
          83,
          55,
          68,
          62,
          83,
          70,
          70,
          68,
          78,
          81,
          77,
          51,
          90,
          81,
          77,
          95,
          70,
          58,
          71,
          93,
          75,
          80,
          84,
          78,
          46,
          82,
          75,
          81,
          83,
          67,
          52,
          80,
          69,
          75,
          91,
          63,
          84,
          79,
          80,
          53,
          43,
          94,
          51,
          95,
          66,
          27,
          60,
          63,
          74,
          75,
          95,
          69,
          80,
          57,
          70,
          70,
          69,
          89,
          59,
          58,
          32,
          58,
          85,
          70,
          96,
          73,
          82,
          100,
          77,
          83,
          45,
          43,
          75,
          70,
          67,
          64,
          77,
          77,
          63,
          95,
          67,
          55,
          100,
          62,
          68,
          77,
          56,
          74,
          79,
          93,
          64,
          67,
          80,
          62,
          70,
          50,
          79,
          80,
          69,
          76,
          77,
          85,
          97,
          74,
          62,
          89,
          100,
          76,
          91,
          91,
          38,
          85,
          90,
          74,
          84,
          61,
          91,
          83,
          70,
          56,
          54,
          74,
          76,
          70,
          90,
          90,
          68,
          52,
          76,
          68,
          82,
          92,
          92,
          54,
          80,
          87,
          62,
          94,
          85,
          84,
          73,
          78,
          79,
          84,
          43,
          47,
          70,
          73,
          53,
          94,
          83,
          62,
          79,
          89,
          66,
          97,
          64,
          50,
          33,
          79,
          70,
          79,
          74,
          80,
          100,
          78,
          56,
          64,
          71,
          89,
          58,
          68,
          96,
          80,
          78,
          80,
          77,
          76,
          73,
          62,
          65,
          65,
          73,
          99,
          72,
          73,
          81,
          63,
          30,
          80,
          82,
          54,
          62,
          65,
          66,
          74,
          93,
          72,
          38,
          54,
          62,
          55,
          81,
          85,
          81,
          88,
          73,
          90,
          79,
          80,
          81,
          65,
          68,
          55,
          81,
          76,
          98,
          74,
          79,
          67,
          58,
          69,
          67,
          60,
          71,
          87,
          68,
          76,
          84,
          78,
          66,
          76,
          76,
          74,
          44,
          100,
          53,
          78,
          81,
          73,
          56,
          86,
          90,
          70,
          79,
          82,
          72,
          67,
          64,
          58,
          85,
          99,
          74,
          87,
          99,
          74,
          70,
          88,
          77,
          84,
          80,
          94,
          57,
          73,
          56,
          82,
          72,
          59,
          85,
          92,
          65,
          64,
          54,
          63,
          72,
          77,
          75,
          72,
          79,
          55,
          70,
          43,
          82,
          57,
          84,
          82,
          62,
          44,
          77,
          32,
          61,
          60,
          70,
          51,
          73,
          81,
          57,
          95,
          87,
          78,
          75,
          40,
          67,
          83,
          64,
          68,
          88,
          92,
          93,
          82,
          52,
          70,
          76,
          81,
          57,
          89,
          89,
          74,
          79,
          73,
          46,
          36,
          64,
          68,
          63,
          93,
          96,
          81,
          53,
          87,
          80,
          76,
          61,
          80,
          74,
          70,
          71,
          54,
          80,
          95,
          74,
          91,
          85,
          73,
          69,
          38,
          79,
          82,
          74,
          41,
          100,
          84,
          91,
          72,
          82,
          66,
          66,
          55,
          66,
          52,
          80,
          46,
          65,
          71,
          51,
          57,
          96,
          61,
          58,
          60,
          73,
          83,
          72,
          69,
          100,
          59,
          64,
          53,
          100,
          75,
          72,
          67,
          80,
          100,
          60,
          61,
          67,
          77,
          94,
          23,
          91,
          82,
          51,
          45,
          83,
          78,
          76,
          74,
          95,
          65,
          77,
          86
         ],
         "y0": " ",
         "yaxis": "y"
        },
        {
         "alignmentgroup": "True",
         "hovertemplate": "gender=male<br>test preparation course=%{x}<br>writing score=%{y}<extra></extra>",
         "legendgroup": "male",
         "marker": {
          "color": "#EF553B"
         },
         "name": "male",
         "notched": false,
         "offsetgroup": "male",
         "orientation": "v",
         "showlegend": true,
         "type": "box",
         "x": [
          "none",
          "none",
          "none",
          "completed",
          "none",
          "none",
          "completed",
          "none",
          "completed",
          "none",
          "none",
          "completed",
          "none",
          "none",
          "none",
          "none",
          "none",
          "completed",
          "none",
          "none",
          "completed",
          "none",
          "completed",
          "none",
          "completed",
          "none",
          "none",
          "none",
          "completed",
          "completed",
          "none",
          "none",
          "none",
          "none",
          "none",
          "completed",
          "none",
          "none",
          "none",
          "none",
          "completed",
          "none",
          "completed",
          "none",
          "none",
          "none",
          "none",
          "completed",
          "completed",
          "completed",
          "none",
          "completed",
          "completed",
          "completed",
          "completed",
          "none",
          "none",
          "none",
          "completed",
          "none",
          "none",
          "none",
          "completed",
          "none",
          "none",
          "completed",
          "completed",
          "completed",
          "none",
          "completed",
          "none",
          "completed",
          "none",
          "none",
          "none",
          "none",
          "completed",
          "completed",
          "none",
          "none",
          "none",
          "none",
          "none",
          "completed",
          "none",
          "none",
          "completed",
          "completed",
          "none",
          "completed",
          "completed",
          "completed",
          "none",
          "completed",
          "none",
          "completed",
          "completed",
          "none",
          "completed",
          "none",
          "none",
          "none",
          "completed",
          "none",
          "completed",
          "completed",
          "none",
          "completed",
          "completed",
          "completed",
          "none",
          "completed",
          "none",
          "none",
          "none",
          "none",
          "none",
          "none",
          "none",
          "completed",
          "none",
          "none",
          "none",
          "none",
          "completed",
          "none",
          "none",
          "none",
          "none",
          "none",
          "completed",
          "none",
          "none",
          "completed",
          "completed",
          "none",
          "none",
          "none",
          "none",
          "completed",
          "none",
          "none",
          "none",
          "none",
          "completed",
          "completed",
          "none",
          "completed",
          "none",
          "none",
          "completed",
          "completed",
          "none",
          "completed",
          "completed",
          "completed",
          "none",
          "completed",
          "none",
          "none",
          "none",
          "completed",
          "none",
          "none",
          "completed",
          "none",
          "none",
          "none",
          "none",
          "none",
          "completed",
          "none",
          "none",
          "completed",
          "none",
          "completed",
          "none",
          "none",
          "completed",
          "none",
          "none",
          "none",
          "none",
          "none",
          "none",
          "none",
          "completed",
          "none",
          "completed",
          "completed",
          "none",
          "none",
          "none",
          "none",
          "none",
          "completed",
          "none",
          "none",
          "completed",
          "none",
          "completed",
          "none",
          "none",
          "none",
          "none",
          "completed",
          "completed",
          "completed",
          "none",
          "completed",
          "none",
          "completed",
          "none",
          "none",
          "completed",
          "none",
          "none",
          "none",
          "none",
          "none",
          "none",
          "none",
          "none",
          "completed",
          "none",
          "none",
          "none",
          "completed",
          "none",
          "none",
          "completed",
          "none",
          "none",
          "none",
          "none",
          "none",
          "completed",
          "none",
          "none",
          "completed",
          "completed",
          "none",
          "completed",
          "none",
          "none",
          "completed",
          "none",
          "none",
          "none",
          "none",
          "completed",
          "completed",
          "completed",
          "none",
          "none",
          "none",
          "none",
          "none",
          "none",
          "none",
          "none",
          "none",
          "none",
          "none",
          "completed",
          "none",
          "completed",
          "completed",
          "completed",
          "completed",
          "completed",
          "completed",
          "completed",
          "completed",
          "completed",
          "completed",
          "none",
          "none",
          "completed",
          "none",
          "none",
          "none",
          "none",
          "completed",
          "none",
          "none",
          "none",
          "none",
          "completed",
          "none",
          "completed",
          "completed",
          "none",
          "none",
          "none",
          "none",
          "none",
          "none",
          "completed",
          "none",
          "completed",
          "completed",
          "none",
          "none",
          "completed",
          "none",
          "completed",
          "completed",
          "completed",
          "completed",
          "none",
          "none",
          "none",
          "none",
          "none",
          "none",
          "none",
          "none",
          "none",
          "completed",
          "none",
          "none",
          "none",
          "none",
          "none",
          "none",
          "none",
          "completed",
          "none",
          "none",
          "none",
          "none",
          "none",
          "completed",
          "completed",
          "none",
          "none",
          "none",
          "none",
          "completed",
          "none",
          "none",
          "none",
          "none",
          "completed",
          "none",
          "completed",
          "completed",
          "completed",
          "none",
          "none",
          "completed",
          "completed",
          "none",
          "none",
          "none",
          "none",
          "none",
          "none",
          "none",
          "none",
          "none",
          "none",
          "none",
          "none",
          "completed",
          "completed",
          "none",
          "completed",
          "none",
          "none",
          "completed",
          "completed",
          "completed",
          "none",
          "completed",
          "none",
          "none",
          "none",
          "none",
          "completed",
          "completed",
          "none",
          "none",
          "completed",
          "none",
          "none",
          "completed",
          "completed",
          "none",
          "none",
          "none",
          "none",
          "none",
          "completed",
          "completed",
          "completed",
          "completed",
          "none",
          "none",
          "none",
          "none",
          "none",
          "completed",
          "none",
          "completed",
          "none",
          "completed",
          "none",
          "none",
          "none",
          "none",
          "none",
          "none",
          "completed",
          "none",
          "completed",
          "none",
          "completed",
          "none",
          "none",
          "completed",
          "none",
          "none",
          "completed",
          "none",
          "none",
          "none",
          "none",
          "completed",
          "none",
          "none",
          "none",
          "completed",
          "none",
          "completed",
          "none",
          "none",
          "none",
          "completed",
          "none",
          "completed",
          "completed",
          "none",
          "none",
          "none",
          "completed",
          "none",
          "completed",
          "completed",
          "none",
          "completed",
          "completed",
          "completed",
          "none",
          "none",
          "completed",
          "completed",
          "completed",
          "none",
          "completed",
          "none",
          "completed",
          "none",
          "completed",
          "none",
          "none",
          "none",
          "none",
          "completed",
          "none",
          "completed",
          "completed",
          "none",
          "completed",
          "none",
          "completed",
          "none",
          "completed",
          "completed",
          "none",
          "none"
         ],
         "x0": " ",
         "xaxis": "x",
         "y": [
          44,
          75,
          39,
          67,
          52,
          43,
          70,
          86,
          46,
          63,
          53,
          80,
          72,
          55,
          65,
          38,
          82,
          79,
          57,
          54,
          66,
          57,
          82,
          48,
          68,
          42,
          75,
          49,
          58,
          72,
          34,
          55,
          61,
          37,
          56,
          63,
          56,
          41,
          38,
          22,
          81,
          45,
          54,
          63,
          34,
          36,
          71,
          50,
          82,
          62,
          67,
          74,
          47,
          90,
          64,
          49,
          47,
          74,
          92,
          56,
          73,
          67,
          74,
          74,
          82,
          40,
          70,
          75,
          48,
          41,
          56,
          69,
          47,
          78,
          75,
          66,
          93,
          69,
          68,
          47,
          61,
          60,
          64,
          74,
          52,
          49,
          51,
          74,
          78,
          75,
          49,
          65,
          65,
          68,
          45,
          79,
          62,
          52,
          65,
          51,
          69,
          42,
          78,
          62,
          76,
          79,
          27,
          56,
          81,
          75,
          70,
          56,
          73,
          75,
          54,
          64,
          66,
          42,
          78,
          84,
          77,
          67,
          51,
          80,
          66,
          43,
          69,
          71,
          74,
          53,
          49,
          72,
          52,
          77,
          78,
          68,
          41,
          61,
          42,
          76,
          73,
          57,
          42,
          46,
          82,
          88,
          76,
          77,
          68,
          70,
          57,
          80,
          60,
          43,
          68,
          50,
          75,
          81,
          52,
          64,
          69,
          81,
          44,
          57,
          68,
          65,
          78,
          69,
          62,
          19,
          77,
          61,
          35,
          53,
          81,
          69,
          43,
          52,
          67,
          67,
          57,
          66,
          76,
          52,
          61,
          61,
          78,
          58,
          60,
          53,
          61,
          71,
          72,
          41,
          62,
          95,
          71,
          75,
          59,
          67,
          56,
          41,
          57,
          54,
          43,
          63,
          85,
          78,
          60,
          67,
          69,
          68,
          67,
          62,
          54,
          34,
          86,
          65,
          53,
          54,
          59,
          55,
          66,
          53,
          64,
          73,
          51,
          82,
          73,
          60,
          80,
          42,
          72,
          49,
          47,
          48,
          68,
          55,
          45,
          62,
          65,
          76,
          66,
          72,
          67,
          68,
          61,
          46,
          71,
          56,
          57,
          82,
          66,
          72,
          54,
          66,
          54,
          77,
          73,
          43,
          52,
          52,
          57,
          50,
          49,
          59,
          60,
          58,
          68,
          58,
          71,
          86,
          68,
          80,
          80,
          64,
          69,
          65,
          88,
          64,
          40,
          66,
          62,
          92,
          46,
          45,
          47,
          67,
          70,
          92,
          53,
          52,
          54,
          50,
          64,
          15,
          48,
          51,
          90,
          62,
          63,
          91,
          83,
          84,
          68,
          56,
          52,
          86,
          99,
          63,
          46,
          46,
          70,
          65,
          80,
          64,
          74,
          51,
          60,
          53,
          64,
          61,
          85,
          73,
          63,
          63,
          61,
          77,
          50,
          78,
          60,
          60,
          54,
          68,
          68,
          73,
          44,
          83,
          59,
          87,
          65,
          36,
          52,
          79,
          90,
          84,
          72,
          80,
          59,
          42,
          41,
          71,
          57,
          37,
          43,
          44,
          59,
          84,
          73,
          55,
          72,
          47,
          74,
          71,
          68,
          86,
          68,
          65,
          75,
          53,
          52,
          72,
          77,
          86,
          59,
          60,
          57,
          49,
          74,
          60,
          82,
          79,
          61,
          69,
          77,
          70,
          54,
          68,
          73,
          74,
          69,
          51,
          36,
          49,
          76,
          87,
          76,
          51,
          58,
          53,
          58,
          45,
          57,
          53,
          51,
          76,
          84,
          85,
          50,
          69,
          67,
          61,
          55,
          65,
          46,
          72,
          38,
          91,
          88,
          52,
          41,
          72,
          51,
          47,
          78,
          82,
          66,
          84,
          54,
          66,
          44,
          59,
          48,
          75,
          27,
          63,
          89,
          77,
          51,
          70,
          48,
          100,
          91,
          67,
          66,
          69,
          60,
          52,
          44,
          70,
          62,
          73,
          74,
          90,
          58,
          53,
          85,
          69,
          72,
          64,
          61,
          80,
          52,
          71,
          54,
          62,
          81,
          71,
          58,
          64,
          60,
          69,
          60,
          58,
          48,
          78,
          86,
          54,
          76,
          75,
          62,
          55
         ],
         "y0": " ",
         "yaxis": "y"
        }
       ],
       "layout": {
        "boxmode": "group",
        "legend": {
         "title": {
          "text": "gender"
         },
         "tracegroupgap": 0
        },
        "margin": {
         "t": 60
        },
        "template": {
         "data": {
          "bar": [
           {
            "error_x": {
             "color": "#2a3f5f"
            },
            "error_y": {
             "color": "#2a3f5f"
            },
            "marker": {
             "line": {
              "color": "#E5ECF6",
              "width": 0.5
             },
             "pattern": {
              "fillmode": "overlay",
              "size": 10,
              "solidity": 0.2
             }
            },
            "type": "bar"
           }
          ],
          "barpolar": [
           {
            "marker": {
             "line": {
              "color": "#E5ECF6",
              "width": 0.5
             },
             "pattern": {
              "fillmode": "overlay",
              "size": 10,
              "solidity": 0.2
             }
            },
            "type": "barpolar"
           }
          ],
          "carpet": [
           {
            "aaxis": {
             "endlinecolor": "#2a3f5f",
             "gridcolor": "white",
             "linecolor": "white",
             "minorgridcolor": "white",
             "startlinecolor": "#2a3f5f"
            },
            "baxis": {
             "endlinecolor": "#2a3f5f",
             "gridcolor": "white",
             "linecolor": "white",
             "minorgridcolor": "white",
             "startlinecolor": "#2a3f5f"
            },
            "type": "carpet"
           }
          ],
          "choropleth": [
           {
            "colorbar": {
             "outlinewidth": 0,
             "ticks": ""
            },
            "type": "choropleth"
           }
          ],
          "contour": [
           {
            "colorbar": {
             "outlinewidth": 0,
             "ticks": ""
            },
            "colorscale": [
             [
              0,
              "#0d0887"
             ],
             [
              0.1111111111111111,
              "#46039f"
             ],
             [
              0.2222222222222222,
              "#7201a8"
             ],
             [
              0.3333333333333333,
              "#9c179e"
             ],
             [
              0.4444444444444444,
              "#bd3786"
             ],
             [
              0.5555555555555556,
              "#d8576b"
             ],
             [
              0.6666666666666666,
              "#ed7953"
             ],
             [
              0.7777777777777778,
              "#fb9f3a"
             ],
             [
              0.8888888888888888,
              "#fdca26"
             ],
             [
              1,
              "#f0f921"
             ]
            ],
            "type": "contour"
           }
          ],
          "contourcarpet": [
           {
            "colorbar": {
             "outlinewidth": 0,
             "ticks": ""
            },
            "type": "contourcarpet"
           }
          ],
          "heatmap": [
           {
            "colorbar": {
             "outlinewidth": 0,
             "ticks": ""
            },
            "colorscale": [
             [
              0,
              "#0d0887"
             ],
             [
              0.1111111111111111,
              "#46039f"
             ],
             [
              0.2222222222222222,
              "#7201a8"
             ],
             [
              0.3333333333333333,
              "#9c179e"
             ],
             [
              0.4444444444444444,
              "#bd3786"
             ],
             [
              0.5555555555555556,
              "#d8576b"
             ],
             [
              0.6666666666666666,
              "#ed7953"
             ],
             [
              0.7777777777777778,
              "#fb9f3a"
             ],
             [
              0.8888888888888888,
              "#fdca26"
             ],
             [
              1,
              "#f0f921"
             ]
            ],
            "type": "heatmap"
           }
          ],
          "heatmapgl": [
           {
            "colorbar": {
             "outlinewidth": 0,
             "ticks": ""
            },
            "colorscale": [
             [
              0,
              "#0d0887"
             ],
             [
              0.1111111111111111,
              "#46039f"
             ],
             [
              0.2222222222222222,
              "#7201a8"
             ],
             [
              0.3333333333333333,
              "#9c179e"
             ],
             [
              0.4444444444444444,
              "#bd3786"
             ],
             [
              0.5555555555555556,
              "#d8576b"
             ],
             [
              0.6666666666666666,
              "#ed7953"
             ],
             [
              0.7777777777777778,
              "#fb9f3a"
             ],
             [
              0.8888888888888888,
              "#fdca26"
             ],
             [
              1,
              "#f0f921"
             ]
            ],
            "type": "heatmapgl"
           }
          ],
          "histogram": [
           {
            "marker": {
             "pattern": {
              "fillmode": "overlay",
              "size": 10,
              "solidity": 0.2
             }
            },
            "type": "histogram"
           }
          ],
          "histogram2d": [
           {
            "colorbar": {
             "outlinewidth": 0,
             "ticks": ""
            },
            "colorscale": [
             [
              0,
              "#0d0887"
             ],
             [
              0.1111111111111111,
              "#46039f"
             ],
             [
              0.2222222222222222,
              "#7201a8"
             ],
             [
              0.3333333333333333,
              "#9c179e"
             ],
             [
              0.4444444444444444,
              "#bd3786"
             ],
             [
              0.5555555555555556,
              "#d8576b"
             ],
             [
              0.6666666666666666,
              "#ed7953"
             ],
             [
              0.7777777777777778,
              "#fb9f3a"
             ],
             [
              0.8888888888888888,
              "#fdca26"
             ],
             [
              1,
              "#f0f921"
             ]
            ],
            "type": "histogram2d"
           }
          ],
          "histogram2dcontour": [
           {
            "colorbar": {
             "outlinewidth": 0,
             "ticks": ""
            },
            "colorscale": [
             [
              0,
              "#0d0887"
             ],
             [
              0.1111111111111111,
              "#46039f"
             ],
             [
              0.2222222222222222,
              "#7201a8"
             ],
             [
              0.3333333333333333,
              "#9c179e"
             ],
             [
              0.4444444444444444,
              "#bd3786"
             ],
             [
              0.5555555555555556,
              "#d8576b"
             ],
             [
              0.6666666666666666,
              "#ed7953"
             ],
             [
              0.7777777777777778,
              "#fb9f3a"
             ],
             [
              0.8888888888888888,
              "#fdca26"
             ],
             [
              1,
              "#f0f921"
             ]
            ],
            "type": "histogram2dcontour"
           }
          ],
          "mesh3d": [
           {
            "colorbar": {
             "outlinewidth": 0,
             "ticks": ""
            },
            "type": "mesh3d"
           }
          ],
          "parcoords": [
           {
            "line": {
             "colorbar": {
              "outlinewidth": 0,
              "ticks": ""
             }
            },
            "type": "parcoords"
           }
          ],
          "pie": [
           {
            "automargin": true,
            "type": "pie"
           }
          ],
          "scatter": [
           {
            "marker": {
             "colorbar": {
              "outlinewidth": 0,
              "ticks": ""
             }
            },
            "type": "scatter"
           }
          ],
          "scatter3d": [
           {
            "line": {
             "colorbar": {
              "outlinewidth": 0,
              "ticks": ""
             }
            },
            "marker": {
             "colorbar": {
              "outlinewidth": 0,
              "ticks": ""
             }
            },
            "type": "scatter3d"
           }
          ],
          "scattercarpet": [
           {
            "marker": {
             "colorbar": {
              "outlinewidth": 0,
              "ticks": ""
             }
            },
            "type": "scattercarpet"
           }
          ],
          "scattergeo": [
           {
            "marker": {
             "colorbar": {
              "outlinewidth": 0,
              "ticks": ""
             }
            },
            "type": "scattergeo"
           }
          ],
          "scattergl": [
           {
            "marker": {
             "colorbar": {
              "outlinewidth": 0,
              "ticks": ""
             }
            },
            "type": "scattergl"
           }
          ],
          "scattermapbox": [
           {
            "marker": {
             "colorbar": {
              "outlinewidth": 0,
              "ticks": ""
             }
            },
            "type": "scattermapbox"
           }
          ],
          "scatterpolar": [
           {
            "marker": {
             "colorbar": {
              "outlinewidth": 0,
              "ticks": ""
             }
            },
            "type": "scatterpolar"
           }
          ],
          "scatterpolargl": [
           {
            "marker": {
             "colorbar": {
              "outlinewidth": 0,
              "ticks": ""
             }
            },
            "type": "scatterpolargl"
           }
          ],
          "scatterternary": [
           {
            "marker": {
             "colorbar": {
              "outlinewidth": 0,
              "ticks": ""
             }
            },
            "type": "scatterternary"
           }
          ],
          "surface": [
           {
            "colorbar": {
             "outlinewidth": 0,
             "ticks": ""
            },
            "colorscale": [
             [
              0,
              "#0d0887"
             ],
             [
              0.1111111111111111,
              "#46039f"
             ],
             [
              0.2222222222222222,
              "#7201a8"
             ],
             [
              0.3333333333333333,
              "#9c179e"
             ],
             [
              0.4444444444444444,
              "#bd3786"
             ],
             [
              0.5555555555555556,
              "#d8576b"
             ],
             [
              0.6666666666666666,
              "#ed7953"
             ],
             [
              0.7777777777777778,
              "#fb9f3a"
             ],
             [
              0.8888888888888888,
              "#fdca26"
             ],
             [
              1,
              "#f0f921"
             ]
            ],
            "type": "surface"
           }
          ],
          "table": [
           {
            "cells": {
             "fill": {
              "color": "#EBF0F8"
             },
             "line": {
              "color": "white"
             }
            },
            "header": {
             "fill": {
              "color": "#C8D4E3"
             },
             "line": {
              "color": "white"
             }
            },
            "type": "table"
           }
          ]
         },
         "layout": {
          "annotationdefaults": {
           "arrowcolor": "#2a3f5f",
           "arrowhead": 0,
           "arrowwidth": 1
          },
          "autotypenumbers": "strict",
          "coloraxis": {
           "colorbar": {
            "outlinewidth": 0,
            "ticks": ""
           }
          },
          "colorscale": {
           "diverging": [
            [
             0,
             "#8e0152"
            ],
            [
             0.1,
             "#c51b7d"
            ],
            [
             0.2,
             "#de77ae"
            ],
            [
             0.3,
             "#f1b6da"
            ],
            [
             0.4,
             "#fde0ef"
            ],
            [
             0.5,
             "#f7f7f7"
            ],
            [
             0.6,
             "#e6f5d0"
            ],
            [
             0.7,
             "#b8e186"
            ],
            [
             0.8,
             "#7fbc41"
            ],
            [
             0.9,
             "#4d9221"
            ],
            [
             1,
             "#276419"
            ]
           ],
           "sequential": [
            [
             0,
             "#0d0887"
            ],
            [
             0.1111111111111111,
             "#46039f"
            ],
            [
             0.2222222222222222,
             "#7201a8"
            ],
            [
             0.3333333333333333,
             "#9c179e"
            ],
            [
             0.4444444444444444,
             "#bd3786"
            ],
            [
             0.5555555555555556,
             "#d8576b"
            ],
            [
             0.6666666666666666,
             "#ed7953"
            ],
            [
             0.7777777777777778,
             "#fb9f3a"
            ],
            [
             0.8888888888888888,
             "#fdca26"
            ],
            [
             1,
             "#f0f921"
            ]
           ],
           "sequentialminus": [
            [
             0,
             "#0d0887"
            ],
            [
             0.1111111111111111,
             "#46039f"
            ],
            [
             0.2222222222222222,
             "#7201a8"
            ],
            [
             0.3333333333333333,
             "#9c179e"
            ],
            [
             0.4444444444444444,
             "#bd3786"
            ],
            [
             0.5555555555555556,
             "#d8576b"
            ],
            [
             0.6666666666666666,
             "#ed7953"
            ],
            [
             0.7777777777777778,
             "#fb9f3a"
            ],
            [
             0.8888888888888888,
             "#fdca26"
            ],
            [
             1,
             "#f0f921"
            ]
           ]
          },
          "colorway": [
           "#636efa",
           "#EF553B",
           "#00cc96",
           "#ab63fa",
           "#FFA15A",
           "#19d3f3",
           "#FF6692",
           "#B6E880",
           "#FF97FF",
           "#FECB52"
          ],
          "font": {
           "color": "#2a3f5f"
          },
          "geo": {
           "bgcolor": "white",
           "lakecolor": "white",
           "landcolor": "#E5ECF6",
           "showlakes": true,
           "showland": true,
           "subunitcolor": "white"
          },
          "hoverlabel": {
           "align": "left"
          },
          "hovermode": "closest",
          "mapbox": {
           "style": "light"
          },
          "paper_bgcolor": "white",
          "plot_bgcolor": "#E5ECF6",
          "polar": {
           "angularaxis": {
            "gridcolor": "white",
            "linecolor": "white",
            "ticks": ""
           },
           "bgcolor": "#E5ECF6",
           "radialaxis": {
            "gridcolor": "white",
            "linecolor": "white",
            "ticks": ""
           }
          },
          "scene": {
           "xaxis": {
            "backgroundcolor": "#E5ECF6",
            "gridcolor": "white",
            "gridwidth": 2,
            "linecolor": "white",
            "showbackground": true,
            "ticks": "",
            "zerolinecolor": "white"
           },
           "yaxis": {
            "backgroundcolor": "#E5ECF6",
            "gridcolor": "white",
            "gridwidth": 2,
            "linecolor": "white",
            "showbackground": true,
            "ticks": "",
            "zerolinecolor": "white"
           },
           "zaxis": {
            "backgroundcolor": "#E5ECF6",
            "gridcolor": "white",
            "gridwidth": 2,
            "linecolor": "white",
            "showbackground": true,
            "ticks": "",
            "zerolinecolor": "white"
           }
          },
          "shapedefaults": {
           "line": {
            "color": "#2a3f5f"
           }
          },
          "ternary": {
           "aaxis": {
            "gridcolor": "white",
            "linecolor": "white",
            "ticks": ""
           },
           "baxis": {
            "gridcolor": "white",
            "linecolor": "white",
            "ticks": ""
           },
           "bgcolor": "#E5ECF6",
           "caxis": {
            "gridcolor": "white",
            "linecolor": "white",
            "ticks": ""
           }
          },
          "title": {
           "x": 0.05
          },
          "xaxis": {
           "automargin": true,
           "gridcolor": "white",
           "linecolor": "white",
           "ticks": "",
           "title": {
            "standoff": 15
           },
           "zerolinecolor": "white",
           "zerolinewidth": 2
          },
          "yaxis": {
           "automargin": true,
           "gridcolor": "white",
           "linecolor": "white",
           "ticks": "",
           "title": {
            "standoff": 15
           },
           "zerolinecolor": "white",
           "zerolinewidth": 2
          }
         }
        },
        "xaxis": {
         "anchor": "y",
         "domain": [
          0,
          1
         ],
         "title": {
          "text": "test preparation course"
         }
        },
        "yaxis": {
         "anchor": "x",
         "domain": [
          0,
          1
         ],
         "title": {
          "text": "writing score"
         }
        }
       }
      },
      "text/html": [
       "<div>                            <div id=\"5b37b315-949d-4fdb-a804-7458f9c2feba\" class=\"plotly-graph-div\" style=\"height:525px; width:100%;\"></div>            <script type=\"text/javascript\">                require([\"plotly\"], function(Plotly) {                    window.PLOTLYENV=window.PLOTLYENV || {};                                    if (document.getElementById(\"5b37b315-949d-4fdb-a804-7458f9c2feba\")) {                    Plotly.newPlot(                        \"5b37b315-949d-4fdb-a804-7458f9c2feba\",                        [{\"alignmentgroup\":\"True\",\"hovertemplate\":\"gender=female<br>test preparation course=%{x}<br>writing score=%{y}<extra></extra>\",\"legendgroup\":\"female\",\"marker\":{\"color\":\"#636efa\"},\"name\":\"female\",\"notched\":false,\"offsetgroup\":\"female\",\"orientation\":\"v\",\"showlegend\":true,\"x\":[\"none\",\"completed\",\"none\",\"none\",\"completed\",\"none\",\"none\",\"none\",\"none\",\"none\",\"none\",\"completed\",\"none\",\"none\",\"none\",\"none\",\"none\",\"none\",\"none\",\"none\",\"completed\",\"none\",\"none\",\"none\",\"completed\",\"none\",\"completed\",\"completed\",\"none\",\"completed\",\"none\",\"none\",\"none\",\"none\",\"none\",\"completed\",\"none\",\"completed\",\"none\",\"none\",\"none\",\"none\",\"none\",\"none\",\"none\",\"none\",\"none\",\"completed\",\"none\",\"none\",\"none\",\"none\",\"none\",\"none\",\"none\",\"completed\",\"none\",\"completed\",\"none\",\"none\",\"none\",\"none\",\"completed\",\"completed\",\"none\",\"none\",\"completed\",\"none\",\"none\",\"none\",\"completed\",\"none\",\"completed\",\"completed\",\"completed\",\"completed\",\"completed\",\"completed\",\"none\",\"completed\",\"completed\",\"completed\",\"completed\",\"none\",\"none\",\"completed\",\"completed\",\"completed\",\"completed\",\"completed\",\"completed\",\"none\",\"none\",\"none\",\"none\",\"none\",\"none\",\"completed\",\"none\",\"none\",\"completed\",\"none\",\"none\",\"none\",\"none\",\"none\",\"completed\",\"none\",\"completed\",\"none\",\"completed\",\"none\",\"none\",\"completed\",\"none\",\"completed\",\"none\",\"none\",\"completed\",\"none\",\"none\",\"completed\",\"none\",\"none\",\"none\",\"completed\",\"completed\",\"none\",\"none\",\"none\",\"none\",\"completed\",\"none\",\"none\",\"none\",\"completed\",\"completed\",\"none\",\"none\",\"completed\",\"none\",\"none\",\"none\",\"completed\",\"completed\",\"none\",\"none\",\"none\",\"completed\",\"completed\",\"completed\",\"none\",\"completed\",\"none\",\"none\",\"none\",\"none\",\"none\",\"none\",\"none\",\"none\",\"none\",\"completed\",\"none\",\"completed\",\"none\",\"completed\",\"none\",\"completed\",\"none\",\"none\",\"none\",\"completed\",\"none\",\"none\",\"none\",\"none\",\"none\",\"none\",\"completed\",\"completed\",\"none\",\"none\",\"completed\",\"none\",\"none\",\"none\",\"none\",\"none\",\"none\",\"none\",\"none\",\"none\",\"completed\",\"none\",\"none\",\"completed\",\"none\",\"completed\",\"none\",\"none\",\"none\",\"completed\",\"completed\",\"completed\",\"completed\",\"completed\",\"completed\",\"completed\",\"none\",\"none\",\"none\",\"completed\",\"none\",\"none\",\"none\",\"completed\",\"completed\",\"none\",\"none\",\"none\",\"none\",\"none\",\"none\",\"none\",\"none\",\"none\",\"completed\",\"completed\",\"none\",\"completed\",\"none\",\"completed\",\"completed\",\"none\",\"none\",\"none\",\"none\",\"none\",\"none\",\"none\",\"none\",\"none\",\"none\",\"completed\",\"none\",\"none\",\"completed\",\"completed\",\"none\",\"none\",\"none\",\"completed\",\"completed\",\"completed\",\"none\",\"completed\",\"completed\",\"completed\",\"none\",\"none\",\"none\",\"none\",\"completed\",\"none\",\"completed\",\"completed\",\"none\",\"none\",\"none\",\"none\",\"completed\",\"none\",\"none\",\"none\",\"completed\",\"none\",\"completed\",\"none\",\"completed\",\"completed\",\"completed\",\"none\",\"completed\",\"none\",\"none\",\"completed\",\"none\",\"none\",\"none\",\"none\",\"completed\",\"none\",\"none\",\"none\",\"none\",\"none\",\"none\",\"none\",\"completed\",\"completed\",\"none\",\"none\",\"none\",\"none\",\"none\",\"none\",\"none\",\"none\",\"none\",\"none\",\"none\",\"none\",\"none\",\"none\",\"none\",\"none\",\"completed\",\"completed\",\"none\",\"completed\",\"completed\",\"none\",\"completed\",\"none\",\"completed\",\"completed\",\"none\",\"none\",\"none\",\"completed\",\"completed\",\"completed\",\"completed\",\"none\",\"none\",\"none\",\"none\",\"none\",\"completed\",\"completed\",\"none\",\"none\",\"none\",\"completed\",\"completed\",\"completed\",\"completed\",\"completed\",\"none\",\"completed\",\"completed\",\"none\",\"none\",\"completed\",\"none\",\"none\",\"none\",\"completed\",\"none\",\"completed\",\"completed\",\"none\",\"none\",\"completed\",\"completed\",\"completed\",\"none\",\"completed\",\"completed\",\"completed\",\"none\",\"none\",\"completed\",\"completed\",\"none\",\"completed\",\"completed\",\"none\",\"completed\",\"none\",\"none\",\"completed\",\"none\",\"completed\",\"none\",\"completed\",\"none\",\"none\",\"none\",\"none\",\"completed\",\"none\",\"completed\",\"none\",\"none\",\"none\",\"none\",\"completed\",\"none\",\"none\",\"completed\",\"completed\",\"completed\",\"none\",\"none\",\"none\",\"none\",\"none\",\"none\",\"completed\",\"none\",\"none\",\"none\",\"none\",\"none\",\"none\",\"none\",\"completed\",\"none\",\"none\",\"none\",\"none\",\"completed\",\"none\",\"none\",\"none\",\"completed\",\"none\",\"completed\",\"none\",\"completed\",\"completed\",\"completed\",\"completed\",\"none\",\"none\",\"completed\",\"completed\",\"none\",\"none\",\"none\",\"none\",\"none\",\"none\",\"none\",\"completed\",\"completed\",\"none\",\"none\",\"none\",\"completed\",\"none\",\"none\",\"completed\",\"completed\",\"none\",\"completed\",\"none\",\"none\",\"none\",\"none\",\"completed\",\"completed\",\"none\",\"completed\",\"completed\",\"none\",\"completed\",\"none\",\"none\",\"completed\",\"completed\",\"none\",\"none\",\"none\",\"completed\",\"none\",\"none\",\"completed\",\"none\",\"none\",\"none\",\"none\",\"none\",\"none\",\"completed\",\"completed\",\"none\",\"none\",\"none\",\"none\",\"none\",\"none\",\"none\",\"completed\",\"none\",\"none\",\"none\",\"none\",\"completed\",\"none\",\"none\",\"completed\",\"none\",\"none\",\"completed\",\"none\",\"none\",\"none\",\"completed\",\"completed\",\"none\",\"none\",\"completed\",\"completed\",\"completed\",\"none\"],\"x0\":\" \",\"xaxis\":\"x\",\"y\":[74,88,93,78,92,50,73,58,78,28,61,70,73,75,75,74,61,65,83,59,88,68,65,54,62,76,76,87,43,86,10,71,59,74,57,73,48,72,68,50,82,88,74,67,82,74,92,70,62,62,89,72,100,70,72,98,54,100,82,79,61,65,89,93,86,51,84,67,71,64,54,33,81,66,88,78,87,85,91,100,78,78,70,81,70,54,87,58,77,62,100,66,47,70,87,69,66,85,55,76,86,77,68,76,66,60,88,39,74,62,73,54,71,94,83,74,83,55,68,62,83,70,70,68,78,81,77,51,90,81,77,95,70,58,71,93,75,80,84,78,46,82,75,81,83,67,52,80,69,75,91,63,84,79,80,53,43,94,51,95,66,27,60,63,74,75,95,69,80,57,70,70,69,89,59,58,32,58,85,70,96,73,82,100,77,83,45,43,75,70,67,64,77,77,63,95,67,55,100,62,68,77,56,74,79,93,64,67,80,62,70,50,79,80,69,76,77,85,97,74,62,89,100,76,91,91,38,85,90,74,84,61,91,83,70,56,54,74,76,70,90,90,68,52,76,68,82,92,92,54,80,87,62,94,85,84,73,78,79,84,43,47,70,73,53,94,83,62,79,89,66,97,64,50,33,79,70,79,74,80,100,78,56,64,71,89,58,68,96,80,78,80,77,76,73,62,65,65,73,99,72,73,81,63,30,80,82,54,62,65,66,74,93,72,38,54,62,55,81,85,81,88,73,90,79,80,81,65,68,55,81,76,98,74,79,67,58,69,67,60,71,87,68,76,84,78,66,76,76,74,44,100,53,78,81,73,56,86,90,70,79,82,72,67,64,58,85,99,74,87,99,74,70,88,77,84,80,94,57,73,56,82,72,59,85,92,65,64,54,63,72,77,75,72,79,55,70,43,82,57,84,82,62,44,77,32,61,60,70,51,73,81,57,95,87,78,75,40,67,83,64,68,88,92,93,82,52,70,76,81,57,89,89,74,79,73,46,36,64,68,63,93,96,81,53,87,80,76,61,80,74,70,71,54,80,95,74,91,85,73,69,38,79,82,74,41,100,84,91,72,82,66,66,55,66,52,80,46,65,71,51,57,96,61,58,60,73,83,72,69,100,59,64,53,100,75,72,67,80,100,60,61,67,77,94,23,91,82,51,45,83,78,76,74,95,65,77,86],\"y0\":\" \",\"yaxis\":\"y\",\"type\":\"box\"},{\"alignmentgroup\":\"True\",\"hovertemplate\":\"gender=male<br>test preparation course=%{x}<br>writing score=%{y}<extra></extra>\",\"legendgroup\":\"male\",\"marker\":{\"color\":\"#EF553B\"},\"name\":\"male\",\"notched\":false,\"offsetgroup\":\"male\",\"orientation\":\"v\",\"showlegend\":true,\"x\":[\"none\",\"none\",\"none\",\"completed\",\"none\",\"none\",\"completed\",\"none\",\"completed\",\"none\",\"none\",\"completed\",\"none\",\"none\",\"none\",\"none\",\"none\",\"completed\",\"none\",\"none\",\"completed\",\"none\",\"completed\",\"none\",\"completed\",\"none\",\"none\",\"none\",\"completed\",\"completed\",\"none\",\"none\",\"none\",\"none\",\"none\",\"completed\",\"none\",\"none\",\"none\",\"none\",\"completed\",\"none\",\"completed\",\"none\",\"none\",\"none\",\"none\",\"completed\",\"completed\",\"completed\",\"none\",\"completed\",\"completed\",\"completed\",\"completed\",\"none\",\"none\",\"none\",\"completed\",\"none\",\"none\",\"none\",\"completed\",\"none\",\"none\",\"completed\",\"completed\",\"completed\",\"none\",\"completed\",\"none\",\"completed\",\"none\",\"none\",\"none\",\"none\",\"completed\",\"completed\",\"none\",\"none\",\"none\",\"none\",\"none\",\"completed\",\"none\",\"none\",\"completed\",\"completed\",\"none\",\"completed\",\"completed\",\"completed\",\"none\",\"completed\",\"none\",\"completed\",\"completed\",\"none\",\"completed\",\"none\",\"none\",\"none\",\"completed\",\"none\",\"completed\",\"completed\",\"none\",\"completed\",\"completed\",\"completed\",\"none\",\"completed\",\"none\",\"none\",\"none\",\"none\",\"none\",\"none\",\"none\",\"completed\",\"none\",\"none\",\"none\",\"none\",\"completed\",\"none\",\"none\",\"none\",\"none\",\"none\",\"completed\",\"none\",\"none\",\"completed\",\"completed\",\"none\",\"none\",\"none\",\"none\",\"completed\",\"none\",\"none\",\"none\",\"none\",\"completed\",\"completed\",\"none\",\"completed\",\"none\",\"none\",\"completed\",\"completed\",\"none\",\"completed\",\"completed\",\"completed\",\"none\",\"completed\",\"none\",\"none\",\"none\",\"completed\",\"none\",\"none\",\"completed\",\"none\",\"none\",\"none\",\"none\",\"none\",\"completed\",\"none\",\"none\",\"completed\",\"none\",\"completed\",\"none\",\"none\",\"completed\",\"none\",\"none\",\"none\",\"none\",\"none\",\"none\",\"none\",\"completed\",\"none\",\"completed\",\"completed\",\"none\",\"none\",\"none\",\"none\",\"none\",\"completed\",\"none\",\"none\",\"completed\",\"none\",\"completed\",\"none\",\"none\",\"none\",\"none\",\"completed\",\"completed\",\"completed\",\"none\",\"completed\",\"none\",\"completed\",\"none\",\"none\",\"completed\",\"none\",\"none\",\"none\",\"none\",\"none\",\"none\",\"none\",\"none\",\"completed\",\"none\",\"none\",\"none\",\"completed\",\"none\",\"none\",\"completed\",\"none\",\"none\",\"none\",\"none\",\"none\",\"completed\",\"none\",\"none\",\"completed\",\"completed\",\"none\",\"completed\",\"none\",\"none\",\"completed\",\"none\",\"none\",\"none\",\"none\",\"completed\",\"completed\",\"completed\",\"none\",\"none\",\"none\",\"none\",\"none\",\"none\",\"none\",\"none\",\"none\",\"none\",\"none\",\"completed\",\"none\",\"completed\",\"completed\",\"completed\",\"completed\",\"completed\",\"completed\",\"completed\",\"completed\",\"completed\",\"completed\",\"none\",\"none\",\"completed\",\"none\",\"none\",\"none\",\"none\",\"completed\",\"none\",\"none\",\"none\",\"none\",\"completed\",\"none\",\"completed\",\"completed\",\"none\",\"none\",\"none\",\"none\",\"none\",\"none\",\"completed\",\"none\",\"completed\",\"completed\",\"none\",\"none\",\"completed\",\"none\",\"completed\",\"completed\",\"completed\",\"completed\",\"none\",\"none\",\"none\",\"none\",\"none\",\"none\",\"none\",\"none\",\"none\",\"completed\",\"none\",\"none\",\"none\",\"none\",\"none\",\"none\",\"none\",\"completed\",\"none\",\"none\",\"none\",\"none\",\"none\",\"completed\",\"completed\",\"none\",\"none\",\"none\",\"none\",\"completed\",\"none\",\"none\",\"none\",\"none\",\"completed\",\"none\",\"completed\",\"completed\",\"completed\",\"none\",\"none\",\"completed\",\"completed\",\"none\",\"none\",\"none\",\"none\",\"none\",\"none\",\"none\",\"none\",\"none\",\"none\",\"none\",\"none\",\"completed\",\"completed\",\"none\",\"completed\",\"none\",\"none\",\"completed\",\"completed\",\"completed\",\"none\",\"completed\",\"none\",\"none\",\"none\",\"none\",\"completed\",\"completed\",\"none\",\"none\",\"completed\",\"none\",\"none\",\"completed\",\"completed\",\"none\",\"none\",\"none\",\"none\",\"none\",\"completed\",\"completed\",\"completed\",\"completed\",\"none\",\"none\",\"none\",\"none\",\"none\",\"completed\",\"none\",\"completed\",\"none\",\"completed\",\"none\",\"none\",\"none\",\"none\",\"none\",\"none\",\"completed\",\"none\",\"completed\",\"none\",\"completed\",\"none\",\"none\",\"completed\",\"none\",\"none\",\"completed\",\"none\",\"none\",\"none\",\"none\",\"completed\",\"none\",\"none\",\"none\",\"completed\",\"none\",\"completed\",\"none\",\"none\",\"none\",\"completed\",\"none\",\"completed\",\"completed\",\"none\",\"none\",\"none\",\"completed\",\"none\",\"completed\",\"completed\",\"none\",\"completed\",\"completed\",\"completed\",\"none\",\"none\",\"completed\",\"completed\",\"completed\",\"none\",\"completed\",\"none\",\"completed\",\"none\",\"completed\",\"none\",\"none\",\"none\",\"none\",\"completed\",\"none\",\"completed\",\"completed\",\"none\",\"completed\",\"none\",\"completed\",\"none\",\"completed\",\"completed\",\"none\",\"none\"],\"x0\":\" \",\"xaxis\":\"x\",\"y\":[44,75,39,67,52,43,70,86,46,63,53,80,72,55,65,38,82,79,57,54,66,57,82,48,68,42,75,49,58,72,34,55,61,37,56,63,56,41,38,22,81,45,54,63,34,36,71,50,82,62,67,74,47,90,64,49,47,74,92,56,73,67,74,74,82,40,70,75,48,41,56,69,47,78,75,66,93,69,68,47,61,60,64,74,52,49,51,74,78,75,49,65,65,68,45,79,62,52,65,51,69,42,78,62,76,79,27,56,81,75,70,56,73,75,54,64,66,42,78,84,77,67,51,80,66,43,69,71,74,53,49,72,52,77,78,68,41,61,42,76,73,57,42,46,82,88,76,77,68,70,57,80,60,43,68,50,75,81,52,64,69,81,44,57,68,65,78,69,62,19,77,61,35,53,81,69,43,52,67,67,57,66,76,52,61,61,78,58,60,53,61,71,72,41,62,95,71,75,59,67,56,41,57,54,43,63,85,78,60,67,69,68,67,62,54,34,86,65,53,54,59,55,66,53,64,73,51,82,73,60,80,42,72,49,47,48,68,55,45,62,65,76,66,72,67,68,61,46,71,56,57,82,66,72,54,66,54,77,73,43,52,52,57,50,49,59,60,58,68,58,71,86,68,80,80,64,69,65,88,64,40,66,62,92,46,45,47,67,70,92,53,52,54,50,64,15,48,51,90,62,63,91,83,84,68,56,52,86,99,63,46,46,70,65,80,64,74,51,60,53,64,61,85,73,63,63,61,77,50,78,60,60,54,68,68,73,44,83,59,87,65,36,52,79,90,84,72,80,59,42,41,71,57,37,43,44,59,84,73,55,72,47,74,71,68,86,68,65,75,53,52,72,77,86,59,60,57,49,74,60,82,79,61,69,77,70,54,68,73,74,69,51,36,49,76,87,76,51,58,53,58,45,57,53,51,76,84,85,50,69,67,61,55,65,46,72,38,91,88,52,41,72,51,47,78,82,66,84,54,66,44,59,48,75,27,63,89,77,51,70,48,100,91,67,66,69,60,52,44,70,62,73,74,90,58,53,85,69,72,64,61,80,52,71,54,62,81,71,58,64,60,69,60,58,48,78,86,54,76,75,62,55],\"y0\":\" \",\"yaxis\":\"y\",\"type\":\"box\"}],                        {\"template\":{\"data\":{\"bar\":[{\"error_x\":{\"color\":\"#2a3f5f\"},\"error_y\":{\"color\":\"#2a3f5f\"},\"marker\":{\"line\":{\"color\":\"#E5ECF6\",\"width\":0.5},\"pattern\":{\"fillmode\":\"overlay\",\"size\":10,\"solidity\":0.2}},\"type\":\"bar\"}],\"barpolar\":[{\"marker\":{\"line\":{\"color\":\"#E5ECF6\",\"width\":0.5},\"pattern\":{\"fillmode\":\"overlay\",\"size\":10,\"solidity\":0.2}},\"type\":\"barpolar\"}],\"carpet\":[{\"aaxis\":{\"endlinecolor\":\"#2a3f5f\",\"gridcolor\":\"white\",\"linecolor\":\"white\",\"minorgridcolor\":\"white\",\"startlinecolor\":\"#2a3f5f\"},\"baxis\":{\"endlinecolor\":\"#2a3f5f\",\"gridcolor\":\"white\",\"linecolor\":\"white\",\"minorgridcolor\":\"white\",\"startlinecolor\":\"#2a3f5f\"},\"type\":\"carpet\"}],\"choropleth\":[{\"colorbar\":{\"outlinewidth\":0,\"ticks\":\"\"},\"type\":\"choropleth\"}],\"contour\":[{\"colorbar\":{\"outlinewidth\":0,\"ticks\":\"\"},\"colorscale\":[[0.0,\"#0d0887\"],[0.1111111111111111,\"#46039f\"],[0.2222222222222222,\"#7201a8\"],[0.3333333333333333,\"#9c179e\"],[0.4444444444444444,\"#bd3786\"],[0.5555555555555556,\"#d8576b\"],[0.6666666666666666,\"#ed7953\"],[0.7777777777777778,\"#fb9f3a\"],[0.8888888888888888,\"#fdca26\"],[1.0,\"#f0f921\"]],\"type\":\"contour\"}],\"contourcarpet\":[{\"colorbar\":{\"outlinewidth\":0,\"ticks\":\"\"},\"type\":\"contourcarpet\"}],\"heatmap\":[{\"colorbar\":{\"outlinewidth\":0,\"ticks\":\"\"},\"colorscale\":[[0.0,\"#0d0887\"],[0.1111111111111111,\"#46039f\"],[0.2222222222222222,\"#7201a8\"],[0.3333333333333333,\"#9c179e\"],[0.4444444444444444,\"#bd3786\"],[0.5555555555555556,\"#d8576b\"],[0.6666666666666666,\"#ed7953\"],[0.7777777777777778,\"#fb9f3a\"],[0.8888888888888888,\"#fdca26\"],[1.0,\"#f0f921\"]],\"type\":\"heatmap\"}],\"heatmapgl\":[{\"colorbar\":{\"outlinewidth\":0,\"ticks\":\"\"},\"colorscale\":[[0.0,\"#0d0887\"],[0.1111111111111111,\"#46039f\"],[0.2222222222222222,\"#7201a8\"],[0.3333333333333333,\"#9c179e\"],[0.4444444444444444,\"#bd3786\"],[0.5555555555555556,\"#d8576b\"],[0.6666666666666666,\"#ed7953\"],[0.7777777777777778,\"#fb9f3a\"],[0.8888888888888888,\"#fdca26\"],[1.0,\"#f0f921\"]],\"type\":\"heatmapgl\"}],\"histogram\":[{\"marker\":{\"pattern\":{\"fillmode\":\"overlay\",\"size\":10,\"solidity\":0.2}},\"type\":\"histogram\"}],\"histogram2d\":[{\"colorbar\":{\"outlinewidth\":0,\"ticks\":\"\"},\"colorscale\":[[0.0,\"#0d0887\"],[0.1111111111111111,\"#46039f\"],[0.2222222222222222,\"#7201a8\"],[0.3333333333333333,\"#9c179e\"],[0.4444444444444444,\"#bd3786\"],[0.5555555555555556,\"#d8576b\"],[0.6666666666666666,\"#ed7953\"],[0.7777777777777778,\"#fb9f3a\"],[0.8888888888888888,\"#fdca26\"],[1.0,\"#f0f921\"]],\"type\":\"histogram2d\"}],\"histogram2dcontour\":[{\"colorbar\":{\"outlinewidth\":0,\"ticks\":\"\"},\"colorscale\":[[0.0,\"#0d0887\"],[0.1111111111111111,\"#46039f\"],[0.2222222222222222,\"#7201a8\"],[0.3333333333333333,\"#9c179e\"],[0.4444444444444444,\"#bd3786\"],[0.5555555555555556,\"#d8576b\"],[0.6666666666666666,\"#ed7953\"],[0.7777777777777778,\"#fb9f3a\"],[0.8888888888888888,\"#fdca26\"],[1.0,\"#f0f921\"]],\"type\":\"histogram2dcontour\"}],\"mesh3d\":[{\"colorbar\":{\"outlinewidth\":0,\"ticks\":\"\"},\"type\":\"mesh3d\"}],\"parcoords\":[{\"line\":{\"colorbar\":{\"outlinewidth\":0,\"ticks\":\"\"}},\"type\":\"parcoords\"}],\"pie\":[{\"automargin\":true,\"type\":\"pie\"}],\"scatter\":[{\"marker\":{\"colorbar\":{\"outlinewidth\":0,\"ticks\":\"\"}},\"type\":\"scatter\"}],\"scatter3d\":[{\"line\":{\"colorbar\":{\"outlinewidth\":0,\"ticks\":\"\"}},\"marker\":{\"colorbar\":{\"outlinewidth\":0,\"ticks\":\"\"}},\"type\":\"scatter3d\"}],\"scattercarpet\":[{\"marker\":{\"colorbar\":{\"outlinewidth\":0,\"ticks\":\"\"}},\"type\":\"scattercarpet\"}],\"scattergeo\":[{\"marker\":{\"colorbar\":{\"outlinewidth\":0,\"ticks\":\"\"}},\"type\":\"scattergeo\"}],\"scattergl\":[{\"marker\":{\"colorbar\":{\"outlinewidth\":0,\"ticks\":\"\"}},\"type\":\"scattergl\"}],\"scattermapbox\":[{\"marker\":{\"colorbar\":{\"outlinewidth\":0,\"ticks\":\"\"}},\"type\":\"scattermapbox\"}],\"scatterpolar\":[{\"marker\":{\"colorbar\":{\"outlinewidth\":0,\"ticks\":\"\"}},\"type\":\"scatterpolar\"}],\"scatterpolargl\":[{\"marker\":{\"colorbar\":{\"outlinewidth\":0,\"ticks\":\"\"}},\"type\":\"scatterpolargl\"}],\"scatterternary\":[{\"marker\":{\"colorbar\":{\"outlinewidth\":0,\"ticks\":\"\"}},\"type\":\"scatterternary\"}],\"surface\":[{\"colorbar\":{\"outlinewidth\":0,\"ticks\":\"\"},\"colorscale\":[[0.0,\"#0d0887\"],[0.1111111111111111,\"#46039f\"],[0.2222222222222222,\"#7201a8\"],[0.3333333333333333,\"#9c179e\"],[0.4444444444444444,\"#bd3786\"],[0.5555555555555556,\"#d8576b\"],[0.6666666666666666,\"#ed7953\"],[0.7777777777777778,\"#fb9f3a\"],[0.8888888888888888,\"#fdca26\"],[1.0,\"#f0f921\"]],\"type\":\"surface\"}],\"table\":[{\"cells\":{\"fill\":{\"color\":\"#EBF0F8\"},\"line\":{\"color\":\"white\"}},\"header\":{\"fill\":{\"color\":\"#C8D4E3\"},\"line\":{\"color\":\"white\"}},\"type\":\"table\"}]},\"layout\":{\"annotationdefaults\":{\"arrowcolor\":\"#2a3f5f\",\"arrowhead\":0,\"arrowwidth\":1},\"autotypenumbers\":\"strict\",\"coloraxis\":{\"colorbar\":{\"outlinewidth\":0,\"ticks\":\"\"}},\"colorscale\":{\"diverging\":[[0,\"#8e0152\"],[0.1,\"#c51b7d\"],[0.2,\"#de77ae\"],[0.3,\"#f1b6da\"],[0.4,\"#fde0ef\"],[0.5,\"#f7f7f7\"],[0.6,\"#e6f5d0\"],[0.7,\"#b8e186\"],[0.8,\"#7fbc41\"],[0.9,\"#4d9221\"],[1,\"#276419\"]],\"sequential\":[[0.0,\"#0d0887\"],[0.1111111111111111,\"#46039f\"],[0.2222222222222222,\"#7201a8\"],[0.3333333333333333,\"#9c179e\"],[0.4444444444444444,\"#bd3786\"],[0.5555555555555556,\"#d8576b\"],[0.6666666666666666,\"#ed7953\"],[0.7777777777777778,\"#fb9f3a\"],[0.8888888888888888,\"#fdca26\"],[1.0,\"#f0f921\"]],\"sequentialminus\":[[0.0,\"#0d0887\"],[0.1111111111111111,\"#46039f\"],[0.2222222222222222,\"#7201a8\"],[0.3333333333333333,\"#9c179e\"],[0.4444444444444444,\"#bd3786\"],[0.5555555555555556,\"#d8576b\"],[0.6666666666666666,\"#ed7953\"],[0.7777777777777778,\"#fb9f3a\"],[0.8888888888888888,\"#fdca26\"],[1.0,\"#f0f921\"]]},\"colorway\":[\"#636efa\",\"#EF553B\",\"#00cc96\",\"#ab63fa\",\"#FFA15A\",\"#19d3f3\",\"#FF6692\",\"#B6E880\",\"#FF97FF\",\"#FECB52\"],\"font\":{\"color\":\"#2a3f5f\"},\"geo\":{\"bgcolor\":\"white\",\"lakecolor\":\"white\",\"landcolor\":\"#E5ECF6\",\"showlakes\":true,\"showland\":true,\"subunitcolor\":\"white\"},\"hoverlabel\":{\"align\":\"left\"},\"hovermode\":\"closest\",\"mapbox\":{\"style\":\"light\"},\"paper_bgcolor\":\"white\",\"plot_bgcolor\":\"#E5ECF6\",\"polar\":{\"angularaxis\":{\"gridcolor\":\"white\",\"linecolor\":\"white\",\"ticks\":\"\"},\"bgcolor\":\"#E5ECF6\",\"radialaxis\":{\"gridcolor\":\"white\",\"linecolor\":\"white\",\"ticks\":\"\"}},\"scene\":{\"xaxis\":{\"backgroundcolor\":\"#E5ECF6\",\"gridcolor\":\"white\",\"gridwidth\":2,\"linecolor\":\"white\",\"showbackground\":true,\"ticks\":\"\",\"zerolinecolor\":\"white\"},\"yaxis\":{\"backgroundcolor\":\"#E5ECF6\",\"gridcolor\":\"white\",\"gridwidth\":2,\"linecolor\":\"white\",\"showbackground\":true,\"ticks\":\"\",\"zerolinecolor\":\"white\"},\"zaxis\":{\"backgroundcolor\":\"#E5ECF6\",\"gridcolor\":\"white\",\"gridwidth\":2,\"linecolor\":\"white\",\"showbackground\":true,\"ticks\":\"\",\"zerolinecolor\":\"white\"}},\"shapedefaults\":{\"line\":{\"color\":\"#2a3f5f\"}},\"ternary\":{\"aaxis\":{\"gridcolor\":\"white\",\"linecolor\":\"white\",\"ticks\":\"\"},\"baxis\":{\"gridcolor\":\"white\",\"linecolor\":\"white\",\"ticks\":\"\"},\"bgcolor\":\"#E5ECF6\",\"caxis\":{\"gridcolor\":\"white\",\"linecolor\":\"white\",\"ticks\":\"\"}},\"title\":{\"x\":0.05},\"xaxis\":{\"automargin\":true,\"gridcolor\":\"white\",\"linecolor\":\"white\",\"ticks\":\"\",\"title\":{\"standoff\":15},\"zerolinecolor\":\"white\",\"zerolinewidth\":2},\"yaxis\":{\"automargin\":true,\"gridcolor\":\"white\",\"linecolor\":\"white\",\"ticks\":\"\",\"title\":{\"standoff\":15},\"zerolinecolor\":\"white\",\"zerolinewidth\":2}}},\"xaxis\":{\"anchor\":\"y\",\"domain\":[0.0,1.0],\"title\":{\"text\":\"test preparation course\"}},\"yaxis\":{\"anchor\":\"x\",\"domain\":[0.0,1.0],\"title\":{\"text\":\"writing score\"}},\"legend\":{\"title\":{\"text\":\"gender\"},\"tracegroupgap\":0},\"margin\":{\"t\":60},\"boxmode\":\"group\"},                        {\"responsive\": true}                    ).then(function(){\n",
       "                            \n",
       "var gd = document.getElementById('5b37b315-949d-4fdb-a804-7458f9c2feba');\n",
       "var x = new MutationObserver(function (mutations, observer) {{\n",
       "        var display = window.getComputedStyle(gd).display;\n",
       "        if (!display || display === 'none') {{\n",
       "            console.log([gd, 'removed!']);\n",
       "            Plotly.purge(gd);\n",
       "            observer.disconnect();\n",
       "        }}\n",
       "}});\n",
       "\n",
       "// Listen for the removal of the full notebook cells\n",
       "var notebookContainer = gd.closest('#notebook-container');\n",
       "if (notebookContainer) {{\n",
       "    x.observe(notebookContainer, {childList: true});\n",
       "}}\n",
       "\n",
       "// Listen for the clearing of the current output cell\n",
       "var outputEl = gd.closest('.output');\n",
       "if (outputEl) {{\n",
       "    x.observe(outputEl, {childList: true});\n",
       "}}\n",
       "\n",
       "                        })                };                });            </script>        </div>"
      ]
     },
     "metadata": {},
     "output_type": "display_data"
    }
   ],
   "source": [
    "fig = px.box(data, x=\"test preparation course\", y=\"writing score\", color=\"gender\")\n",
    "fig.show()"
   ]
  },
  {
   "cell_type": "markdown",
   "id": "de6f993e",
   "metadata": {
    "ExecuteTime": {
     "end_time": "2022-07-15T15:01:23.475312Z",
     "start_time": "2022-07-15T15:01:23.459272Z"
    }
   },
   "source": [
    "**Students who completed test preparation course are more likely to score 79 and above marks in Writing.**"
   ]
  },
  {
   "cell_type": "code",
   "execution_count": 41,
   "id": "1d6f172e",
   "metadata": {
    "ExecuteTime": {
     "end_time": "2022-07-15T15:48:01.777406Z",
     "start_time": "2022-07-15T15:48:00.625050Z"
    }
   },
   "outputs": [
    {
     "data": {
      "image/png": "[encoded data removed]",
      "text/plain": [
       "<Figure size 1080x576 with 1 Axes>"
      ]
     },
     "metadata": {},
     "output_type": "display_data"
    }
   ],
   "source": [
    "fig = plt.figure(figsize=(15,8))\n",
    "ax = sns.countplot(x=\"writing score\", data = data, palette='muted')\n",
    "sns.set_style('whitegrid')\n",
    "\n",
    "ax.set_xticklabels(ax.get_xticklabels(),rotation = 90)\n",
    "plt.show()"
   ]
  },
  {
   "cell_type": "markdown",
   "id": "202bb8d8",
   "metadata": {
    "ExecuteTime": {
     "end_time": "2022-07-15T15:03:11.566067Z",
     "start_time": "2022-07-15T15:03:11.550446Z"
    }
   },
   "source": [
    "**35 students scored most common score of 74 marks in Writing**"
   ]
  },
  {
   "cell_type": "markdown",
   "id": "0400aefe",
   "metadata": {
    "ExecuteTime": {
     "end_time": "2022-07-15T15:04:30.024361Z",
     "start_time": "2022-07-15T15:04:30.000329Z"
    }
   },
   "source": [
    "- How many students passed in all the subjects ?"
   ]
  },
  {
   "cell_type": "code",
   "execution_count": 42,
   "id": "d688823b",
   "metadata": {
    "ExecuteTime": {
     "end_time": "2022-07-15T15:48:01.808885Z",
     "start_time": "2022-07-15T15:48:01.777406Z"
    }
   },
   "outputs": [
    {
     "data": {
      "text/plain": [
       "P    949\n",
       "F     51\n",
       "Name: grade_status, dtype: int64"
      ]
     },
     "execution_count": 42,
     "metadata": {},
     "output_type": "execute_result"
    }
   ],
   "source": [
    "data['grade_status'] = data.apply(lambda x : 'F' if x['Math_PassStatus'] == 'F' or\n",
    "                                      x['Read_PassStatus'] == 'F' or \n",
    "                                      x['Write_PassStatus'] == 'F' else 'P', axis =1)\n",
    "\n",
    "data.grade_status.value_counts()"
   ]
  },
  {
   "cell_type": "code",
   "execution_count": 43,
   "id": "3b8edc53",
   "metadata": {
    "ExecuteTime": {
     "end_time": "2022-07-15T15:48:01.824167Z",
     "start_time": "2022-07-15T15:48:01.809915Z"
    }
   },
   "outputs": [],
   "source": [
    "data['Total_Marks'] = data['math score'] + data['reading score'] + data['writing score']\n",
    "data['percent'] = data['Total_Marks'] / 3"
   ]
  },
  {
   "cell_type": "code",
   "execution_count": 44,
   "id": "9558fd23",
   "metadata": {
    "ExecuteTime": {
     "end_time": "2022-07-15T15:48:06.456834Z",
     "start_time": "2022-07-15T15:48:01.824564Z"
    }
   },
   "outputs": [
    {
     "data": {
      "image/png": "[encoded data removed]",
      "text/plain": [
       "<Figure size 1080x576 with 1 Axes>"
      ]
     },
     "metadata": {},
     "output_type": "display_data"
    }
   ],
   "source": [
    "fig = plt.figure(figsize=(15,8))\n",
    "ax = sns.countplot(x=\"percent\", data = data, palette='muted')\n",
    "sns.set_style('whitegrid')\n",
    "\n",
    "ax.set_xticklabels(ax.get_xticklabels(),rotation = 90)\n",
    "plt.show()"
   ]
  },
  {
   "cell_type": "markdown",
   "id": "96ffe8cb",
   "metadata": {},
   "source": [
    "Can't really see, let's assign students grades, according to their marks"
   ]
  },
  {
   "cell_type": "markdown",
   "id": "0aedab2a",
   "metadata": {},
   "source": [
    "**above 80 = A Grade<br>\n",
    "70 to 80 = B Grade<br>\n",
    "60 to 70 = C Grade<br>\n",
    "50 to 60 = D Grade<br>\n",
    "40 to 50 = E Grade<br>\n",
    "below 40 = F Grade ( means Fail )<br>**"
   ]
  },
  {
   "cell_type": "code",
   "execution_count": 45,
   "id": "5eb77bef",
   "metadata": {
    "ExecuteTime": {
     "end_time": "2022-07-15T15:48:06.488875Z",
     "start_time": "2022-07-15T15:48:06.462721Z"
    }
   },
   "outputs": [
    {
     "data": {
      "text/plain": [
       "B    261\n",
       "C    256\n",
       "A    198\n",
       "D    178\n",
       "E     56\n",
       "F     51\n",
       "Name: Grade, dtype: int64"
      ]
     },
     "execution_count": 45,
     "metadata": {},
     "output_type": "execute_result"
    }
   ],
   "source": [
    "def grade(percent, grade_status):\n",
    "    if (grade_status == 'F'):\n",
    "        return 'F'    \n",
    "    if (percent >= 80 ):\n",
    "        return 'A'\n",
    "    if (percent >= 70):\n",
    "        return 'B'\n",
    "    if (percent >= 60):\n",
    "        return 'C'\n",
    "    if (percent >= 50):\n",
    "        return 'D'\n",
    "    if (percent >= 40):\n",
    "        return 'E'\n",
    "    else: \n",
    "        return 'F'\n",
    "\n",
    "data['Grade'] = data.apply(lambda x : grade(x['percent'], x['grade_status']), axis=1)\n",
    "\n",
    "data.Grade.value_counts()"
   ]
  },
  {
   "cell_type": "code",
   "execution_count": 46,
   "id": "0dc42b48",
   "metadata": {
    "ExecuteTime": {
     "end_time": "2022-07-15T15:48:06.600631Z",
     "start_time": "2022-07-15T15:48:06.489916Z"
    }
   },
   "outputs": [
    {
     "data": {
      "image/png": "[encoded data removed]",
      "text/plain": [
       "<Figure size 720x576 with 1 Axes>"
      ]
     },
     "metadata": {},
     "output_type": "display_data"
    }
   ],
   "source": [
    "fig = plt.figure(figsize=(10,8))\n",
    "ax = sns.countplot(x=\"Grade\", data = data, order=['A','B','C','D','E','F'],  palette=\"muted\")\n",
    "plt.show()"
   ]
  },
  {
   "cell_type": "code",
   "execution_count": 47,
   "id": "b349ab93",
   "metadata": {
    "ExecuteTime": {
     "end_time": "2022-07-15T15:48:06.808113Z",
     "start_time": "2022-07-15T15:48:06.602603Z"
    }
   },
   "outputs": [
    {
     "data": {
      "image/png": "[encoded data removed]",
      "text/plain": [
       "<Figure size 1008x576 with 1 Axes>"
      ]
     },
     "metadata": {},
     "output_type": "display_data"
    }
   ],
   "source": [
    "fig = plt.figure(figsize=(14,8))\n",
    "p = sns.countplot(x='parental level of education', \n",
    "                  data = data, \n",
    "                  order=[\"some high school\", \"high school\", \n",
    "                         \"some college\", \"bachelor's degree\",\n",
    "                         \"associate's degree\",\"master's degree\"], \n",
    "                  \n",
    "                  hue='Grade', \n",
    "                  palette='bright')\n",
    "\n",
    "# _ = plt.setp(p.get_xticklabels(), rotation=90) "
   ]
  },
  {
   "cell_type": "markdown",
   "id": "d6facf6b",
   "metadata": {},
   "source": [
    "## Conclusion\n",
    "\n",
    "**Few inferences can be- <br>**\n",
    "\n",
    "Gender has no correlation with the score. <br>\n",
    "Finishing preparation course is benefitial. <br>\n",
    "Having lunch is important to students, and it is also the most significant one. <br>\n",
    "Parents' education level may affect the performance of students, but not the important one. <br>\n",
    "\n",
    "So, students should have enough nutrient and make efforts and complete test preparation, if they want to have good performance,  . <br>"
   ]
  }
 ],
 "metadata": {
  "kernelspec": {
   "display_name": "Python 3 (ipykernel)",
   "language": "python",
   "name": "python3"
  },
  "language_info": {
   "codemirror_mode": {
    "name": "ipython",
    "version": 3
   },
   "file_extension": ".py",
   "mimetype": "text/x-python",
   "name": "python",
   "nbconvert_exporter": "python",
   "pygments_lexer": "ipython3",
   "version": "3.8.8"
  },
  "varInspector": {
   "cols": {
    "lenName": 16,
    "lenType": 16,
    "lenVar": 40
   },
   "kernels_config": {
    "python": {
     "delete_cmd_postfix": "",
     "delete_cmd_prefix": "del ",
     "library": "var_list.py",
     "varRefreshCmd": "print(var_dic_list())"
    },
    "r": {
     "delete_cmd_postfix": ") ",
     "delete_cmd_prefix": "rm(",
     "library": "var_list.r",
     "varRefreshCmd": "cat(var_dic_list()) "
    }
   },
   "types_to_exclude": [
    "module",
    "function",
    "builtin_function_or_method",
    "instance",
    "_Feature"
   ],
   "window_display": false
  }
 },
 "nbformat": 4,
 "nbformat_minor": 5
}
