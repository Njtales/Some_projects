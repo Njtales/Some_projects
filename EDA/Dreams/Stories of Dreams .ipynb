{
 "cells": [
  {
   "cell_type": "markdown",
   "id": "76dd4b1e",
   "metadata": {},
   "source": [
    "# Stories Of Dreams"
   ]
  },
  {
   "cell_type": "code",
   "execution_count": 1,
   "id": "79fefd5b",
   "metadata": {
    "ExecuteTime": {
     "end_time": "2022-07-15T21:03:59.088835Z",
     "start_time": "2022-07-15T21:03:59.068845Z"
    }
   },
   "outputs": [
    {
     "name": "stdout",
     "output_type": "stream",
     "text": [
      "keep check\n"
     ]
    }
   ],
   "source": [
    "print(\"keep check\")"
   ]
  },
  {
   "cell_type": "code",
   "execution_count": null,
   "id": "86c1ac70",
   "metadata": {},
   "outputs": [],
   "source": []
  }
 ],
 "metadata": {
  "kernelspec": {
   "display_name": "Python 3 (ipykernel)",
   "language": "python",
   "name": "python3"
  },
  "language_info": {
   "codemirror_mode": {
    "name": "ipython",
    "version": 3
   },
   "file_extension": ".py",
   "mimetype": "text/x-python",
   "name": "python",
   "nbconvert_exporter": "python",
   "pygments_lexer": "ipython3",
   "version": "3.8.8"
  },
  "varInspector": {
   "cols": {
    "lenName": 16,
    "lenType": 16,
    "lenVar": 40
   },
   "kernels_config": {
    "python": {
     "delete_cmd_postfix": "",
     "delete_cmd_prefix": "del ",
     "library": "var_list.py",
     "varRefreshCmd": "print(var_dic_list())"
    },
    "r": {
     "delete_cmd_postfix": ") ",
     "delete_cmd_prefix": "rm(",
     "library": "var_list.r",
     "varRefreshCmd": "cat(var_dic_list()) "
    }
   },
   "types_to_exclude": [
    "module",
    "function",
    "builtin_function_or_method",
    "instance",
    "_Feature"
   ],
   "window_display": false
  }
 },
 "nbformat": 4,
 "nbformat_minor": 5
}
