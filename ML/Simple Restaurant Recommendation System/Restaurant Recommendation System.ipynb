{
 "cells": [
  {
   "cell_type": "markdown",
   "id": "947869c9",
   "metadata": {},
   "source": [
    "# Restaurant Recommendation System"
   ]
  },
  {
   "cell_type": "markdown",
   "id": "6f223631",
   "metadata": {},
   "source": [
    "Data has been taken from [kaggle](https://www.kaggle.com/datasets/siddharthmandgi/tripadvisor-restaurant-recommendation-data-usa)"
   ]
  },
  {
   "cell_type": "code",
   "execution_count": 1,
   "id": "f4a1856e",
   "metadata": {
    "ExecuteTime": {
     "end_time": "2022-08-26T12:42:57.428921Z",
     "start_time": "2022-08-26T12:42:46.788516Z"
    }
   },
   "outputs": [],
   "source": [
    "import numpy as np\n",
    "import pandas as pd\n",
    "from sklearn.feature_extraction import text\n",
    "from sklearn.metrics.pairwise import cosine_similarity"
   ]
  },
  {
   "cell_type": "code",
   "execution_count": 3,
   "id": "86ce4154",
   "metadata": {
    "ExecuteTime": {
     "end_time": "2022-08-26T12:44:36.862410Z",
     "start_time": "2022-08-26T12:44:36.755607Z"
    },
    "scrolled": false
   },
   "outputs": [
    {
     "data": {
      "text/html": [
       "<div>\n",
       "<style scoped>\n",
       "    .dataframe tbody tr th:only-of-type {\n",
       "        vertical-align: middle;\n",
       "    }\n",
       "\n",
       "    .dataframe tbody tr th {\n",
       "        vertical-align: top;\n",
       "    }\n",
       "\n",
       "    .dataframe thead th {\n",
       "        text-align: right;\n",
       "    }\n",
       "</style>\n",
       "<table border=\"1\" class=\"dataframe\">\n",
       "  <thead>\n",
       "    <tr style=\"text-align: right;\">\n",
       "      <th></th>\n",
       "      <th>Name</th>\n",
       "      <th>Street Address</th>\n",
       "      <th>Location</th>\n",
       "      <th>Type</th>\n",
       "      <th>Reviews</th>\n",
       "      <th>No of Reviews</th>\n",
       "      <th>Comments</th>\n",
       "      <th>Contact Number</th>\n",
       "      <th>Trip_advisor Url</th>\n",
       "      <th>Menu</th>\n",
       "      <th>Price_Range</th>\n",
       "    </tr>\n",
       "  </thead>\n",
       "  <tbody>\n",
       "    <tr>\n",
       "      <th>0</th>\n",
       "      <td>Betty Lou's Seafood and Grill</td>\n",
       "      <td>318 Columbus Ave</td>\n",
       "      <td>San Francisco, CA 94133-3908</td>\n",
       "      <td>Seafood, Vegetarian Friendly, Vegan Options</td>\n",
       "      <td>4.5 of 5 bubbles</td>\n",
       "      <td>243 reviews</td>\n",
       "      <td>NaN</td>\n",
       "      <td>+1 415-757-0569</td>\n",
       "      <td>https://www.tripadvisor.com//Restaurant_Review...</td>\n",
       "      <td>Check The Website for a Menu</td>\n",
       "      <td>$$ - $$$</td>\n",
       "    </tr>\n",
       "    <tr>\n",
       "      <th>1</th>\n",
       "      <td>Coach House Diner</td>\n",
       "      <td>55 State Rt 4</td>\n",
       "      <td>Hackensack, NJ 07601-6337</td>\n",
       "      <td>Diner, American, Vegetarian Friendly</td>\n",
       "      <td>4 of 5 bubbles</td>\n",
       "      <td>84 reviews</td>\n",
       "      <td>Both times we were there very late, after 11 P...</td>\n",
       "      <td>+1 201-488-4999</td>\n",
       "      <td>https://www.tripadvisor.com//Restaurant_Review...</td>\n",
       "      <td>Check The Website for a Menu</td>\n",
       "      <td>$$ - $$$</td>\n",
       "    </tr>\n",
       "    <tr>\n",
       "      <th>2</th>\n",
       "      <td>Table Talk Diner</td>\n",
       "      <td>2521 South Rd Ste C</td>\n",
       "      <td>Poughkeepsie, NY 12601-5476</td>\n",
       "      <td>American, Diner, Vegetarian Friendly</td>\n",
       "      <td>4 of 5 bubbles</td>\n",
       "      <td>256 reviews</td>\n",
       "      <td>Waitress was very friendly but a little pricey...</td>\n",
       "      <td>+1 845-849-2839</td>\n",
       "      <td>https://www.tripadvisor.com//Restaurant_Review...</td>\n",
       "      <td>http://tabletalkdiner.com/menu/breakfast/</td>\n",
       "      <td>$$ - $$$</td>\n",
       "    </tr>\n",
       "    <tr>\n",
       "      <th>3</th>\n",
       "      <td>Sixty Vines</td>\n",
       "      <td>3701 Dallas Pkwy</td>\n",
       "      <td>Plano, TX 75093-7777</td>\n",
       "      <td>American, Wine Bar, Vegetarian Friendly</td>\n",
       "      <td>4.5 of 5 bubbles</td>\n",
       "      <td>235 reviews</td>\n",
       "      <td>Not sure why I went there for the second time....</td>\n",
       "      <td>+1 469-620-8463</td>\n",
       "      <td>https://www.tripadvisor.com//Restaurant_Review...</td>\n",
       "      <td>https://sixtyvines.com/menu/plano-tx/</td>\n",
       "      <td>$$ - $$$</td>\n",
       "    </tr>\n",
       "    <tr>\n",
       "      <th>4</th>\n",
       "      <td>The Clam Bar</td>\n",
       "      <td>3914 Brewerton Rd</td>\n",
       "      <td>Syracuse, NY 13212</td>\n",
       "      <td>American, Bar, Seafood</td>\n",
       "      <td>4 of 5 bubbles</td>\n",
       "      <td>285 reviews</td>\n",
       "      <td>Doesn't look like much from the outside but wa...</td>\n",
       "      <td>+1 315-458-1662</td>\n",
       "      <td>https://www.tripadvisor.com//Restaurant_Review...</td>\n",
       "      <td>Check The Website for a Menu</td>\n",
       "      <td>$$ - $$$</td>\n",
       "    </tr>\n",
       "  </tbody>\n",
       "</table>\n",
       "</div>"
      ],
      "text/plain": [
       "                            Name       Street Address  \\\n",
       "0  Betty Lou's Seafood and Grill     318 Columbus Ave   \n",
       "1              Coach House Diner        55 State Rt 4   \n",
       "2               Table Talk Diner  2521 South Rd Ste C   \n",
       "3                    Sixty Vines     3701 Dallas Pkwy   \n",
       "4                   The Clam Bar    3914 Brewerton Rd   \n",
       "\n",
       "                       Location                                          Type  \\\n",
       "0  San Francisco, CA 94133-3908   Seafood, Vegetarian Friendly, Vegan Options   \n",
       "1     Hackensack, NJ 07601-6337          Diner, American, Vegetarian Friendly   \n",
       "2   Poughkeepsie, NY 12601-5476          American, Diner, Vegetarian Friendly   \n",
       "3          Plano, TX 75093-7777       American, Wine Bar, Vegetarian Friendly   \n",
       "4            Syracuse, NY 13212                        American, Bar, Seafood   \n",
       "\n",
       "            Reviews No of Reviews  \\\n",
       "0  4.5 of 5 bubbles   243 reviews   \n",
       "1    4 of 5 bubbles    84 reviews   \n",
       "2    4 of 5 bubbles   256 reviews   \n",
       "3  4.5 of 5 bubbles   235 reviews   \n",
       "4    4 of 5 bubbles   285 reviews   \n",
       "\n",
       "                                            Comments   Contact Number  \\\n",
       "0                                                NaN  +1 415-757-0569   \n",
       "1  Both times we were there very late, after 11 P...  +1 201-488-4999   \n",
       "2  Waitress was very friendly but a little pricey...  +1 845-849-2839   \n",
       "3  Not sure why I went there for the second time....  +1 469-620-8463   \n",
       "4  Doesn't look like much from the outside but wa...  +1 315-458-1662   \n",
       "\n",
       "                                    Trip_advisor Url  \\\n",
       "0  https://www.tripadvisor.com//Restaurant_Review...   \n",
       "1  https://www.tripadvisor.com//Restaurant_Review...   \n",
       "2  https://www.tripadvisor.com//Restaurant_Review...   \n",
       "3  https://www.tripadvisor.com//Restaurant_Review...   \n",
       "4  https://www.tripadvisor.com//Restaurant_Review...   \n",
       "\n",
       "                                        Menu Price_Range  \n",
       "0               Check The Website for a Menu    $$ - $$$  \n",
       "1               Check The Website for a Menu    $$ - $$$  \n",
       "2  http://tabletalkdiner.com/menu/breakfast/    $$ - $$$  \n",
       "3      https://sixtyvines.com/menu/plano-tx/    $$ - $$$  \n",
       "4               Check The Website for a Menu    $$ - $$$  "
      ]
     },
     "execution_count": 3,
     "metadata": {},
     "output_type": "execute_result"
    }
   ],
   "source": [
    "data = pd.read_csv(\"TripAdvisor_RestauarantRecommendation.csv\")\n",
    "data.head()"
   ]
  },
  {
   "cell_type": "code",
   "execution_count": 4,
   "id": "d61b2e52",
   "metadata": {
    "ExecuteTime": {
     "end_time": "2022-08-26T12:44:49.815709Z",
     "start_time": "2022-08-26T12:44:49.683685Z"
    }
   },
   "outputs": [
    {
     "data": {
      "text/html": [
       "<div>\n",
       "<style scoped>\n",
       "    .dataframe tbody tr th:only-of-type {\n",
       "        vertical-align: middle;\n",
       "    }\n",
       "\n",
       "    .dataframe tbody tr th {\n",
       "        vertical-align: top;\n",
       "    }\n",
       "\n",
       "    .dataframe thead th {\n",
       "        text-align: right;\n",
       "    }\n",
       "</style>\n",
       "<table border=\"1\" class=\"dataframe\">\n",
       "  <thead>\n",
       "    <tr style=\"text-align: right;\">\n",
       "      <th></th>\n",
       "      <th>Name</th>\n",
       "      <th>Type</th>\n",
       "    </tr>\n",
       "  </thead>\n",
       "  <tbody>\n",
       "    <tr>\n",
       "      <th>0</th>\n",
       "      <td>Betty Lou's Seafood and Grill</td>\n",
       "      <td>Seafood, Vegetarian Friendly, Vegan Options</td>\n",
       "    </tr>\n",
       "    <tr>\n",
       "      <th>1</th>\n",
       "      <td>Coach House Diner</td>\n",
       "      <td>Diner, American, Vegetarian Friendly</td>\n",
       "    </tr>\n",
       "    <tr>\n",
       "      <th>2</th>\n",
       "      <td>Table Talk Diner</td>\n",
       "      <td>American, Diner, Vegetarian Friendly</td>\n",
       "    </tr>\n",
       "    <tr>\n",
       "      <th>3</th>\n",
       "      <td>Sixty Vines</td>\n",
       "      <td>American, Wine Bar, Vegetarian Friendly</td>\n",
       "    </tr>\n",
       "    <tr>\n",
       "      <th>4</th>\n",
       "      <td>The Clam Bar</td>\n",
       "      <td>American, Bar, Seafood</td>\n",
       "    </tr>\n",
       "  </tbody>\n",
       "</table>\n",
       "</div>"
      ],
      "text/plain": [
       "                            Name                                          Type\n",
       "0  Betty Lou's Seafood and Grill   Seafood, Vegetarian Friendly, Vegan Options\n",
       "1              Coach House Diner          Diner, American, Vegetarian Friendly\n",
       "2               Table Talk Diner          American, Diner, Vegetarian Friendly\n",
       "3                    Sixty Vines       American, Wine Bar, Vegetarian Friendly\n",
       "4                   The Clam Bar                        American, Bar, Seafood"
      ]
     },
     "execution_count": 4,
     "metadata": {},
     "output_type": "execute_result"
    }
   ],
   "source": [
    "data = data[[\"Name\", \"Type\"]]\n",
    "data.head()"
   ]
  },
  {
   "cell_type": "code",
   "execution_count": null,
   "id": "ebf7e229",
   "metadata": {},
   "outputs": [],
   "source": []
  }
 ],
 "metadata": {
  "kernelspec": {
   "display_name": "Python 3 (ipykernel)",
   "language": "python",
   "name": "python3"
  },
  "language_info": {
   "codemirror_mode": {
    "name": "ipython",
    "version": 3
   },
   "file_extension": ".py",
   "mimetype": "text/x-python",
   "name": "python",
   "nbconvert_exporter": "python",
   "pygments_lexer": "ipython3",
   "version": "3.10.3"
  },
  "toc": {
   "base_numbering": 1,
   "nav_menu": {},
   "number_sections": true,
   "sideBar": true,
   "skip_h1_title": false,
   "title_cell": "Table of Contents",
   "title_sidebar": "Contents",
   "toc_cell": false,
   "toc_position": {},
   "toc_section_display": true,
   "toc_window_display": false
  },
  "varInspector": {
   "cols": {
    "lenName": 16,
    "lenType": 16,
    "lenVar": 40
   },
   "kernels_config": {
    "python": {
     "delete_cmd_postfix": "",
     "delete_cmd_prefix": "del ",
     "library": "var_list.py",
     "varRefreshCmd": "print(var_dic_list())"
    },
    "r": {
     "delete_cmd_postfix": ") ",
     "delete_cmd_prefix": "rm(",
     "library": "var_list.r",
     "varRefreshCmd": "cat(var_dic_list()) "
    }
   },
   "types_to_exclude": [
    "module",
    "function",
    "builtin_function_or_method",
    "instance",
    "_Feature"
   ],
   "window_display": false
  }
 },
 "nbformat": 4,
 "nbformat_minor": 5
}
