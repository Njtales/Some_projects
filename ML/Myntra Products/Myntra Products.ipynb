{
 "cells": [
  {
   "cell_type": "markdown",
   "id": "20be3989",
   "metadata": {},
   "source": [
    "# Myntra Fashion Products"
   ]
  },
  {
   "cell_type": "code",
   "execution_count": 1,
   "id": "a2dc4fee",
   "metadata": {
    "ExecuteTime": {
     "end_time": "2022-07-25T13:20:45.603112Z",
     "start_time": "2022-07-25T13:20:39.092703Z"
    }
   },
   "outputs": [],
   "source": [
    "import pandas as pd\n",
    "import numpy as np\n",
    "import matplotlib.pyplot as plt"
   ]
  },
  {
   "cell_type": "code",
   "execution_count": 2,
   "id": "092866b9",
   "metadata": {
    "ExecuteTime": {
     "end_time": "2022-07-25T13:20:51.059189Z",
     "start_time": "2022-07-25T13:20:50.169965Z"
    }
   },
   "outputs": [],
   "source": [
    "data = pd.read_csv('Myntra_fashion_products.csv')"
   ]
  },
  {
   "cell_type": "code",
   "execution_count": 3,
   "id": "b63b8c3d",
   "metadata": {
    "ExecuteTime": {
     "end_time": "2022-07-25T13:21:00.827979Z",
     "start_time": "2022-07-25T13:21:00.799430Z"
    }
   },
   "outputs": [
    {
     "data": {
      "text/html": [
       "<div>\n",
       "<style scoped>\n",
       "    .dataframe tbody tr th:only-of-type {\n",
       "        vertical-align: middle;\n",
       "    }\n",
       "\n",
       "    .dataframe tbody tr th {\n",
       "        vertical-align: top;\n",
       "    }\n",
       "\n",
       "    .dataframe thead th {\n",
       "        text-align: right;\n",
       "    }\n",
       "</style>\n",
       "<table border=\"1\" class=\"dataframe\">\n",
       "  <thead>\n",
       "    <tr style=\"text-align: right;\">\n",
       "      <th></th>\n",
       "      <th>name</th>\n",
       "      <th>sku</th>\n",
       "      <th>mpn</th>\n",
       "      <th>price</th>\n",
       "      <th>in_stock</th>\n",
       "      <th>currency</th>\n",
       "      <th>brand</th>\n",
       "      <th>description</th>\n",
       "      <th>images</th>\n",
       "      <th>gender</th>\n",
       "    </tr>\n",
       "  </thead>\n",
       "  <tbody>\n",
       "    <tr>\n",
       "      <th>0</th>\n",
       "      <td>DKNY Unisex Black &amp; Grey Printed Medium Trolle...</td>\n",
       "      <td>10017413</td>\n",
       "      <td>10017413</td>\n",
       "      <td>11745</td>\n",
       "      <td>True</td>\n",
       "      <td>INR</td>\n",
       "      <td>DKNY</td>\n",
       "      <td>Black and grey printed medium trolley bag, sec...</td>\n",
       "      <td>http://assets.myntassets.com/assets/images/100...</td>\n",
       "      <td>Unisex</td>\n",
       "    </tr>\n",
       "    <tr>\n",
       "      <th>1</th>\n",
       "      <td>EthnoVogue Women Beige &amp; Grey Made to Measure ...</td>\n",
       "      <td>10016283</td>\n",
       "      <td>10016283</td>\n",
       "      <td>5810</td>\n",
       "      <td>True</td>\n",
       "      <td>INR</td>\n",
       "      <td>EthnoVogue</td>\n",
       "      <td>Beige &amp; Grey made to measure kurta with churid...</td>\n",
       "      <td>http://assets.myntassets.com/assets/images/100...</td>\n",
       "      <td>Women</td>\n",
       "    </tr>\n",
       "    <tr>\n",
       "      <th>2</th>\n",
       "      <td>SPYKAR Women Pink Alexa Super Skinny Fit High-...</td>\n",
       "      <td>10009781</td>\n",
       "      <td>10009781</td>\n",
       "      <td>899</td>\n",
       "      <td>True</td>\n",
       "      <td>INR</td>\n",
       "      <td>SPYKAR</td>\n",
       "      <td>Pink coloured wash 5-pocket high-rise cropped ...</td>\n",
       "      <td>http://assets.myntassets.com/assets/images/100...</td>\n",
       "      <td>Women</td>\n",
       "    </tr>\n",
       "    <tr>\n",
       "      <th>3</th>\n",
       "      <td>Raymond Men Blue Self-Design Single-Breasted B...</td>\n",
       "      <td>10015921</td>\n",
       "      <td>10015921</td>\n",
       "      <td>5599</td>\n",
       "      <td>True</td>\n",
       "      <td>INR</td>\n",
       "      <td>Raymond</td>\n",
       "      <td>Blue self-design bandhgala suitBlue self-desig...</td>\n",
       "      <td>http://assets.myntassets.com/assets/images/pro...</td>\n",
       "      <td>Men</td>\n",
       "    </tr>\n",
       "    <tr>\n",
       "      <th>4</th>\n",
       "      <td>Parx Men Brown &amp; Off-White Slim Fit Printed Ca...</td>\n",
       "      <td>10017833</td>\n",
       "      <td>10017833</td>\n",
       "      <td>759</td>\n",
       "      <td>True</td>\n",
       "      <td>INR</td>\n",
       "      <td>Parx</td>\n",
       "      <td>Brown and off-white printed casual shirt, has ...</td>\n",
       "      <td>http://assets.myntassets.com/assets/images/pro...</td>\n",
       "      <td>Men</td>\n",
       "    </tr>\n",
       "  </tbody>\n",
       "</table>\n",
       "</div>"
      ],
      "text/plain": [
       "                                                name       sku       mpn  \\\n",
       "0  DKNY Unisex Black & Grey Printed Medium Trolle...  10017413  10017413   \n",
       "1  EthnoVogue Women Beige & Grey Made to Measure ...  10016283  10016283   \n",
       "2  SPYKAR Women Pink Alexa Super Skinny Fit High-...  10009781  10009781   \n",
       "3  Raymond Men Blue Self-Design Single-Breasted B...  10015921  10015921   \n",
       "4  Parx Men Brown & Off-White Slim Fit Printed Ca...  10017833  10017833   \n",
       "\n",
       "   price  in_stock currency       brand  \\\n",
       "0  11745      True      INR        DKNY   \n",
       "1   5810      True      INR  EthnoVogue   \n",
       "2    899      True      INR      SPYKAR   \n",
       "3   5599      True      INR     Raymond   \n",
       "4    759      True      INR        Parx   \n",
       "\n",
       "                                         description  \\\n",
       "0  Black and grey printed medium trolley bag, sec...   \n",
       "1  Beige & Grey made to measure kurta with churid...   \n",
       "2  Pink coloured wash 5-pocket high-rise cropped ...   \n",
       "3  Blue self-design bandhgala suitBlue self-desig...   \n",
       "4  Brown and off-white printed casual shirt, has ...   \n",
       "\n",
       "                                              images  gender  \n",
       "0  http://assets.myntassets.com/assets/images/100...  Unisex  \n",
       "1  http://assets.myntassets.com/assets/images/100...   Women  \n",
       "2  http://assets.myntassets.com/assets/images/100...   Women  \n",
       "3  http://assets.myntassets.com/assets/images/pro...     Men  \n",
       "4  http://assets.myntassets.com/assets/images/pro...     Men  "
      ]
     },
     "execution_count": 3,
     "metadata": {},
     "output_type": "execute_result"
    }
   ],
   "source": [
    "data.head()"
   ]
  }
 ],
 "metadata": {
  "kernelspec": {
   "display_name": "Python 3 (ipykernel)",
   "language": "python",
   "name": "python3"
  },
  "language_info": {
   "codemirror_mode": {
    "name": "ipython",
    "version": 3
   },
   "file_extension": ".py",
   "mimetype": "text/x-python",
   "name": "python",
   "nbconvert_exporter": "python",
   "pygments_lexer": "ipython3",
   "version": "3.8.8"
  },
  "varInspector": {
   "cols": {
    "lenName": 16,
    "lenType": 16,
    "lenVar": 40
   },
   "kernels_config": {
    "python": {
     "delete_cmd_postfix": "",
     "delete_cmd_prefix": "del ",
     "library": "var_list.py",
     "varRefreshCmd": "print(var_dic_list())"
    },
    "r": {
     "delete_cmd_postfix": ") ",
     "delete_cmd_prefix": "rm(",
     "library": "var_list.r",
     "varRefreshCmd": "cat(var_dic_list()) "
    }
   },
   "types_to_exclude": [
    "module",
    "function",
    "builtin_function_or_method",
    "instance",
    "_Feature"
   ],
   "window_display": false
  }
 },
 "nbformat": 4,
 "nbformat_minor": 5
}
