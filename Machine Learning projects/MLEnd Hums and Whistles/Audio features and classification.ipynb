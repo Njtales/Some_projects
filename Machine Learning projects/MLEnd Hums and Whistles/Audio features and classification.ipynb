{
 "cells": [
  {
   "cell_type": "markdown",
   "id": "4b0ec0d5",
   "metadata": {},
   "source": [
    "# MLEnd Hums and Whistles\n",
    "\n",
    "<img src='https://c.tenor.com/R-7s6Xm_VQYAAAAC/mickey-mouse-music.gif'> "
   ]
  },
  {
   "cell_type": "markdown",
   "id": "a8fb1712",
   "metadata": {},
   "source": [
    "## Context\n",
    "\n",
    "Music is part of our lives. <br>\n",
    "\n",
    "Many of us can't stop listening to music and spend a considerable amount of time trying to decide what to listen to next or what is worse, looking for that song whose title we have forgotten! How do we go about finding that song we want to listen to, but have forgotten?  <br>\n",
    "\n",
    "We can try to remember a fragment of the lyrics and simply use a text-based search engine. What if we don't recall the lyrics or they are in a language we don't even speak? Well, we can ask for help: we hum to the song and hope that someone will recognize it - no matter how poorly we do it. Think about it. It is amazing that we can recognize a song when we listen to it. But isn't it even more amazing that we can recognize it when someone else is humming or whistling to it? Wouldn't it be great to have an audio-based search engine that did this for us?  <br>"
   ]
  },
  {
   "cell_type": "markdown",
   "id": "4b27b907",
   "metadata": {
    "id": "ZaGn4ICrfqXZ"
   },
   "source": [
    "## Data Overview\n",
    "\n",
    "The dataset can be found [here](https://www.kaggle.com/datasets/jesusrequena/mlend-hums-and-whistles), it contains Hums and Whistles with total 834 audio files for songs : [Frozen](https://youtu.be/L0MK7qz13bU?t=126), \n",
    "[Hakuna](https://youtu.be/MBIWFTXQbi4?t=79), \n",
    "[Mamma](https://youtu.be/unfzfe8f9NI?t=50), \n",
    "[Panther](https://youtu.be/lp6z3s1Gig0?t=10), \n",
    "[Harry Potter](https://youtu.be/Htaj3o3JD8I?t=0), \n",
    "[Rain](https://youtu.be/D1ZYhVpdXbQ?t=65), \n",
    "[Showman](https://youtu.be/CjxugyZCfuw?t=115) and \n",
    "[StarWars](https://youtu.be/s3SZ5sIMY6o?t=9). <br>\n",
    "\n",
    "The MLEnd datasets have been created by students at the School of Electronic Engineering and Computer Science, Queen Mary University of London. <br>"
   ]
  },
  {
   "cell_type": "markdown",
   "id": "81a62e43",
   "metadata": {
    "id": "o38VQkcdKd6k"
   },
   "source": [
    "## Problem Statement\n",
    "\n",
    "-  The task is to classify the song whether is whistle or hum and which song it is. A machine learning pipeline can be made that takes an  audio segment as an input and predicts its song label. <br>\n"
   ]
  },
  {
   "cell_type": "markdown",
   "id": "945d005b",
   "metadata": {},
   "source": [
    "## Exploring data\n",
    "\n",
    "Let's see what we got. <br>\n"
   ]
  },
  {
   "cell_type": "code",
   "execution_count": 26,
   "id": "0a2b2dbc",
   "metadata": {
    "ExecuteTime": {
     "end_time": "2022-07-19T13:48:19.979515Z",
     "start_time": "2022-07-19T13:48:19.964523Z"
    },
    "scrolled": true
   },
   "outputs": [],
   "source": [
    "import numpy as np\n",
    "import pandas as pd\n",
    "import matplotlib.pyplot as plt\n",
    "\n",
    "import os, sys, re, pickle, glob\n",
    "import urllib.request\n",
    "import zipfile\n",
    "from os.path import exists\n",
    "\n",
    "import IPython.display as ipd\n",
    "from tqdm import tqdm\n",
    "import librosa\n",
    "import folium\n",
    "import warnings"
   ]
  },
  {
   "cell_type": "markdown",
   "id": "d596dea3",
   "metadata": {},
   "source": [
    "### Files in Dataset"
   ]
  },
  {
   "cell_type": "code",
   "execution_count": 27,
   "id": "cf62d450",
   "metadata": {
    "ExecuteTime": {
     "end_time": "2022-07-19T13:48:19.995473Z",
     "start_time": "2022-07-19T13:48:19.981476Z"
    },
    "scrolled": true
   },
   "outputs": [
    {
     "name": "stdout",
     "output_type": "stream",
     "text": [
      "MLEndHWD_Audio_Attributes.csv\n",
      "MLEndHWD_Frozen_Audio_Files\n",
      "MLEndHWD_Hakuna_Audio_Files\n",
      "MLEndHWD_Interpreter_Demographics.csv\n",
      "MLEndHWD_Mamma_Audio_Files\n",
      "MLEndHWD_Panther_Audio_Files\n",
      "MLEndHWD_Potter_Audio_Files\n",
      "MLEndHWD_Rain_Audio_Files\n",
      "MLEndHWD_Showman_Audio_Files\n",
      "MLEndHWD_StarWars_Audio_Files\n"
     ]
    }
   ],
   "source": [
    "# Importing the files\n",
    "import os, sys, re, pickle, glob\n",
    "\n",
    "for i in os.listdir(os.getcwd()+'/dataset'):\n",
    "    print(i)"
   ]
  },
  {
   "cell_type": "markdown",
   "id": "c5d9d736",
   "metadata": {},
   "source": [
    "- we have two csv files which contains attributes about dataset.<br>\n",
    "MLEndHWD_Audio_Attributes.csv<br>\n",
    "MLEndHWD_Interpreter_Demographics.csv<br>"
   ]
  },
  {
   "cell_type": "code",
   "execution_count": 28,
   "id": "05eac556",
   "metadata": {
    "ExecuteTime": {
     "end_time": "2022-07-19T13:48:20.027355Z",
     "start_time": "2022-07-19T13:48:19.996437Z"
    }
   },
   "outputs": [
    {
     "data": {
      "text/html": [
       "<div>\n",
       "<style scoped>\n",
       "    .dataframe tbody tr th:only-of-type {\n",
       "        vertical-align: middle;\n",
       "    }\n",
       "\n",
       "    .dataframe tbody tr th {\n",
       "        vertical-align: top;\n",
       "    }\n",
       "\n",
       "    .dataframe thead th {\n",
       "        text-align: right;\n",
       "    }\n",
       "</style>\n",
       "<table border=\"1\" class=\"dataframe\">\n",
       "  <thead>\n",
       "    <tr style=\"text-align: right;\">\n",
       "      <th></th>\n",
       "      <th>Public filename</th>\n",
       "      <th>Interpreter</th>\n",
       "      <th>Song</th>\n",
       "      <th>Interpretation</th>\n",
       "    </tr>\n",
       "  </thead>\n",
       "  <tbody>\n",
       "    <tr>\n",
       "      <th>0</th>\n",
       "      <td>0000.wav</td>\n",
       "      <td>216</td>\n",
       "      <td>Potter</td>\n",
       "      <td>Hum</td>\n",
       "    </tr>\n",
       "    <tr>\n",
       "      <th>1</th>\n",
       "      <td>0001.wav</td>\n",
       "      <td>100</td>\n",
       "      <td>Potter</td>\n",
       "      <td>Hum</td>\n",
       "    </tr>\n",
       "    <tr>\n",
       "      <th>2</th>\n",
       "      <td>0002.wav</td>\n",
       "      <td>177</td>\n",
       "      <td>Potter</td>\n",
       "      <td>Hum</td>\n",
       "    </tr>\n",
       "    <tr>\n",
       "      <th>3</th>\n",
       "      <td>0003.wav</td>\n",
       "      <td>159</td>\n",
       "      <td>Potter</td>\n",
       "      <td>Hum</td>\n",
       "    </tr>\n",
       "    <tr>\n",
       "      <th>4</th>\n",
       "      <td>0004.wav</td>\n",
       "      <td>160</td>\n",
       "      <td>Potter</td>\n",
       "      <td>Whistle</td>\n",
       "    </tr>\n",
       "    <tr>\n",
       "      <th>...</th>\n",
       "      <td>...</td>\n",
       "      <td>...</td>\n",
       "      <td>...</td>\n",
       "      <td>...</td>\n",
       "    </tr>\n",
       "    <tr>\n",
       "      <th>6606</th>\n",
       "      <td>6606.wav</td>\n",
       "      <td>204</td>\n",
       "      <td>Frozen</td>\n",
       "      <td>Hum</td>\n",
       "    </tr>\n",
       "    <tr>\n",
       "      <th>6607</th>\n",
       "      <td>6607.wav</td>\n",
       "      <td>94</td>\n",
       "      <td>Frozen</td>\n",
       "      <td>Hum</td>\n",
       "    </tr>\n",
       "    <tr>\n",
       "      <th>6608</th>\n",
       "      <td>6608.wav</td>\n",
       "      <td>164</td>\n",
       "      <td>Frozen</td>\n",
       "      <td>Hum</td>\n",
       "    </tr>\n",
       "    <tr>\n",
       "      <th>6609</th>\n",
       "      <td>6609.wav</td>\n",
       "      <td>125</td>\n",
       "      <td>Frozen</td>\n",
       "      <td>Hum</td>\n",
       "    </tr>\n",
       "    <tr>\n",
       "      <th>6610</th>\n",
       "      <td>6610.wav</td>\n",
       "      <td>87</td>\n",
       "      <td>Frozen</td>\n",
       "      <td>Whistle</td>\n",
       "    </tr>\n",
       "  </tbody>\n",
       "</table>\n",
       "<p>6611 rows × 4 columns</p>\n",
       "</div>"
      ],
      "text/plain": [
       "     Public filename  Interpreter    Song Interpretation\n",
       "0           0000.wav          216  Potter            Hum\n",
       "1           0001.wav          100  Potter            Hum\n",
       "2           0002.wav          177  Potter            Hum\n",
       "3           0003.wav          159  Potter            Hum\n",
       "4           0004.wav          160  Potter        Whistle\n",
       "...              ...          ...     ...            ...\n",
       "6606        6606.wav          204  Frozen            Hum\n",
       "6607        6607.wav           94  Frozen            Hum\n",
       "6608        6608.wav          164  Frozen            Hum\n",
       "6609        6609.wav          125  Frozen            Hum\n",
       "6610        6610.wav           87  Frozen        Whistle\n",
       "\n",
       "[6611 rows x 4 columns]"
      ]
     },
     "execution_count": 28,
     "metadata": {},
     "output_type": "execute_result"
    }
   ],
   "source": [
    "# importing MLEndHWD_Audio_Attributes.csv\n",
    "audio_attr = pd.read_csv('dataset/MLEndHWD_Audio_Attributes.csv')\n",
    "audio_attr"
   ]
  },
  {
   "cell_type": "code",
   "execution_count": 29,
   "id": "3018b20c",
   "metadata": {
    "ExecuteTime": {
     "end_time": "2022-07-19T13:48:20.043314Z",
     "start_time": "2022-07-19T13:48:20.029351Z"
    },
    "scrolled": true
   },
   "outputs": [
    {
     "name": "stdout",
     "output_type": "stream",
     "text": [
      "Number of missing values in Audio Attributes file : 0 \n",
      "\n",
      "<class 'pandas.core.frame.DataFrame'>\n",
      "RangeIndex: 6611 entries, 0 to 6610\n",
      "Data columns (total 4 columns):\n",
      " #   Column           Non-Null Count  Dtype \n",
      "---  ------           --------------  ----- \n",
      " 0   Public filename  6611 non-null   object\n",
      " 1   Interpreter      6611 non-null   int64 \n",
      " 2   Song             6611 non-null   object\n",
      " 3   Interpretation   6611 non-null   object\n",
      "dtypes: int64(1), object(3)\n",
      "memory usage: 206.7+ KB\n"
     ]
    }
   ],
   "source": [
    "print(\"Number of missing values in Audio Attributes file :\",audio_attr.isna().sum().max(),'\\n')\n",
    "audio_attr.info()"
   ]
  },
  {
   "cell_type": "markdown",
   "id": "bd8683a9",
   "metadata": {
    "ExecuteTime": {
     "end_time": "2022-07-17T15:34:52.781870Z",
     "start_time": "2022-07-17T15:34:52.765869Z"
    }
   },
   "source": [
    "- Let's see the distribution of Interpretation, if dataset is imbalanced"
   ]
  },
  {
   "cell_type": "code",
   "execution_count": 30,
   "id": "ec3c22a5",
   "metadata": {
    "ExecuteTime": {
     "end_time": "2022-07-19T13:48:20.107141Z",
     "start_time": "2022-07-19T13:48:20.044311Z"
    }
   },
   "outputs": [
    {
     "data": {
      "text/plain": [
       "<AxesSubplot:ylabel='None'>"
      ]
     },
     "execution_count": 30,
     "metadata": {},
     "output_type": "execute_result"
    },
    {
     "data": {
      "image/png": "[encoded data removed]",
      "text/plain": [
       "<Figure size 432x288 with 1 Axes>"
      ]
     },
     "metadata": {},
     "output_type": "display_data"
    }
   ],
   "source": [
    "audio_attr.groupby('Interpretation').size().plot(kind='pie', autopct='%.2f')"
   ]
  },
  {
   "cell_type": "markdown",
   "id": "1c96817b",
   "metadata": {
    "ExecuteTime": {
     "end_time": "2022-07-17T17:47:53.326476Z",
     "start_time": "2022-07-17T17:47:53.313511Z"
    }
   },
   "source": [
    "So, Interpretation category is highly imbalanced in the data."
   ]
  },
  {
   "cell_type": "markdown",
   "id": "7165a71e",
   "metadata": {
    "ExecuteTime": {
     "end_time": "2022-07-17T15:59:26.360318Z",
     "start_time": "2022-07-17T15:59:26.344293Z"
    }
   },
   "source": [
    "- Let's check for the songs"
   ]
  },
  {
   "cell_type": "code",
   "execution_count": 31,
   "id": "de09830e",
   "metadata": {
    "ExecuteTime": {
     "end_time": "2022-07-19T13:48:20.263407Z",
     "start_time": "2022-07-19T13:48:20.108139Z"
    }
   },
   "outputs": [
    {
     "data": {
      "image/png": "[encoded data removed]",
      "text/plain": [
       "<Figure size 864x432 with 1 Axes>"
      ]
     },
     "metadata": {
      "needs_background": "light"
     },
     "output_type": "display_data"
    }
   ],
   "source": [
    "import seaborn as sns\n",
    "import matplotlib.pyplot as plt\n",
    "\n",
    "# count plot on single categorical variable\n",
    "fig = plt.figure(figsize=(12,6))\n",
    "ax = sns.countplot(x ='Song', data = audio_attr)\n",
    "\n",
    "ax.bar_label(ax.containers[0])\n",
    "plt.show()"
   ]
  },
  {
   "cell_type": "markdown",
   "id": "63ea98ac",
   "metadata": {},
   "source": [
    "Apparently, our dataset is very slightly imbalanced, we have less entries for 'Showman' and 'Frozen'."
   ]
  },
  {
   "cell_type": "code",
   "execution_count": 32,
   "id": "de142656",
   "metadata": {
    "ExecuteTime": {
     "end_time": "2022-07-19T13:48:20.294353Z",
     "start_time": "2022-07-19T13:48:20.268393Z"
    }
   },
   "outputs": [
    {
     "name": "stdout",
     "output_type": "stream",
     "text": [
      "Count of Potter   songs in % : 0.127\n",
      "Count of StarWars songs in % : 0.126\n",
      "Count of Panther  songs in % : 0.126\n",
      "Count of Rain     songs in % : 0.125\n",
      "Count of Hakuna   songs in % : 0.125\n",
      "Count of Mamma    songs in % : 0.126\n",
      "Count of Showman  songs in % : 0.121\n",
      "Count of Frozen   songs in % : 0.123\n"
     ]
    }
   ],
   "source": [
    "# checking the exact difference in song counts\n",
    "print(\"Count of Potter   songs in % :\",round(sum(audio_attr['Song']=='Potter')/len(audio_attr),3))\n",
    "print(\"Count of StarWars songs in % :\",round(sum(audio_attr['Song']=='StarWars')/len(audio_attr),3))\n",
    "print(\"Count of Panther  songs in % :\",round(sum(audio_attr['Song']=='Panther')/len(audio_attr),3))\n",
    "print(\"Count of Rain     songs in % :\",round(sum(audio_attr['Song']=='Rain')/len(audio_attr),3))\n",
    "print(\"Count of Hakuna   songs in % :\",round(sum(audio_attr['Song']=='Hakuna')/len(audio_attr),3))\n",
    "print(\"Count of Mamma    songs in % :\",round(sum(audio_attr['Song']=='Mamma')/len(audio_attr),3))\n",
    "print(\"Count of Showman  songs in % :\",round(sum(audio_attr['Song']=='Showman')/len(audio_attr),3))\n",
    "print(\"Count of Frozen   songs in % :\",round(sum(audio_attr['Song']=='Frozen')/len(audio_attr),3))"
   ]
  },
  {
   "cell_type": "markdown",
   "id": "d0adb5a3",
   "metadata": {
    "ExecuteTime": {
     "end_time": "2022-07-17T15:52:16.108678Z",
     "start_time": "2022-07-17T15:52:16.092678Z"
    }
   },
   "source": [
    "**So, song count is very slightly imbalanced, I don't think it will affect the accuracy of our classifiers.**<br>"
   ]
  },
  {
   "cell_type": "markdown",
   "id": "25fc9222",
   "metadata": {},
   "source": [
    "Let's see content of MLEndHWD_Audio_Attributes.csv <br>"
   ]
  },
  {
   "cell_type": "code",
   "execution_count": 33,
   "id": "6bc50f19",
   "metadata": {
    "ExecuteTime": {
     "end_time": "2022-07-19T13:48:20.309316Z",
     "start_time": "2022-07-19T13:48:20.295318Z"
    }
   },
   "outputs": [
    {
     "data": {
      "text/html": [
       "<div>\n",
       "<style scoped>\n",
       "    .dataframe tbody tr th:only-of-type {\n",
       "        vertical-align: middle;\n",
       "    }\n",
       "\n",
       "    .dataframe tbody tr th {\n",
       "        vertical-align: top;\n",
       "    }\n",
       "\n",
       "    .dataframe thead th {\n",
       "        text-align: right;\n",
       "    }\n",
       "</style>\n",
       "<table border=\"1\" class=\"dataframe\">\n",
       "  <thead>\n",
       "    <tr style=\"text-align: right;\">\n",
       "      <th></th>\n",
       "      <th>Interpreter</th>\n",
       "      <th>Language1</th>\n",
       "      <th>Language2</th>\n",
       "      <th>Nationality</th>\n",
       "      <th>Coordinates</th>\n",
       "    </tr>\n",
       "  </thead>\n",
       "  <tbody>\n",
       "    <tr>\n",
       "      <th>0</th>\n",
       "      <td>0</td>\n",
       "      <td>Akan</td>\n",
       "      <td>English</td>\n",
       "      <td>Ghanaian</td>\n",
       "      <td>(5.6037, -0.1870)</td>\n",
       "    </tr>\n",
       "    <tr>\n",
       "      <th>1</th>\n",
       "      <td>1</td>\n",
       "      <td>Portuguese</td>\n",
       "      <td>English</td>\n",
       "      <td>Brazilian</td>\n",
       "      <td>(-16.6869, -49.2648)</td>\n",
       "    </tr>\n",
       "    <tr>\n",
       "      <th>2</th>\n",
       "      <td>2</td>\n",
       "      <td>Urdu</td>\n",
       "      <td>English</td>\n",
       "      <td>Indian</td>\n",
       "      <td>(49,-0.2)</td>\n",
       "    </tr>\n",
       "    <tr>\n",
       "      <th>3</th>\n",
       "      <td>3</td>\n",
       "      <td>Malayalam</td>\n",
       "      <td>Hindi</td>\n",
       "      <td>Indian</td>\n",
       "      <td>(51.5912,0.1046)</td>\n",
       "    </tr>\n",
       "    <tr>\n",
       "      <th>4</th>\n",
       "      <td>4</td>\n",
       "      <td>Telugu</td>\n",
       "      <td>Hindi</td>\n",
       "      <td>Indian</td>\n",
       "      <td>(51.52, -0.04)</td>\n",
       "    </tr>\n",
       "  </tbody>\n",
       "</table>\n",
       "</div>"
      ],
      "text/plain": [
       "   Interpreter   Language1 Language2 Nationality           Coordinates\n",
       "0            0        Akan   English    Ghanaian     (5.6037, -0.1870)\n",
       "1            1  Portuguese   English   Brazilian  (-16.6869, -49.2648)\n",
       "2            2        Urdu   English      Indian             (49,-0.2)\n",
       "3            3   Malayalam     Hindi      Indian      (51.5912,0.1046)\n",
       "4            4      Telugu     Hindi      Indian        (51.52, -0.04)"
      ]
     },
     "execution_count": 33,
     "metadata": {},
     "output_type": "execute_result"
    }
   ],
   "source": [
    "# importing MLEndHWD_Audio_Attributes.csv\n",
    "interpreter = pd.read_csv('dataset/MLEndHWD_Interpreter_Demographics.csv')\n",
    "interpreter.head()"
   ]
  },
  {
   "cell_type": "code",
   "execution_count": 34,
   "id": "d61f528c",
   "metadata": {
    "ExecuteTime": {
     "end_time": "2022-07-19T13:48:20.325238Z",
     "start_time": "2022-07-19T13:48:20.310278Z"
    }
   },
   "outputs": [
    {
     "name": "stdout",
     "output_type": "stream",
     "text": [
      "Number of missing values in interpreter file : 70 \n",
      "\n",
      "<class 'pandas.core.frame.DataFrame'>\n",
      "RangeIndex: 236 entries, 0 to 235\n",
      "Data columns (total 5 columns):\n",
      " #   Column       Non-Null Count  Dtype \n",
      "---  ------       --------------  ----- \n",
      " 0   Interpreter  236 non-null    int64 \n",
      " 1   Language1    200 non-null    object\n",
      " 2   Language2    166 non-null    object\n",
      " 3   Nationality  200 non-null    object\n",
      " 4   Coordinates  200 non-null    object\n",
      "dtypes: int64(1), object(4)\n",
      "memory usage: 9.3+ KB\n"
     ]
    }
   ],
   "source": [
    "print(\"Number of missing values in interpreter file :\",interpreter.isna().sum().max(),'\\n')\n",
    "interpreter.info()"
   ]
  },
  {
   "cell_type": "markdown",
   "id": "e8135ce9",
   "metadata": {},
   "source": [
    "### Language"
   ]
  },
  {
   "cell_type": "code",
   "execution_count": 35,
   "id": "cf5cc313",
   "metadata": {
    "ExecuteTime": {
     "end_time": "2022-07-19T13:48:20.341195Z",
     "start_time": "2022-07-19T13:48:20.328231Z"
    }
   },
   "outputs": [
    {
     "name": "stdout",
     "output_type": "stream",
     "text": [
      "There are 31 unique 1st languages:\n",
      "['Akan' 'Portuguese' 'Urdu' 'Malayalam' 'Telugu' 'Chinese' 'Tamil' 'Hindi'\n",
      " 'English' 'Indonesian' 'Kannada' 'Bengali' 'Dutch' 'Gujarati' 'Arabic'\n",
      " 'Punjabi' 'Turkish' 'Greek' 'German' 'Kazakh' 'Russian' 'Spanish'\n",
      " 'Marathi' 'Sinhala' 'Persian' 'Lithuanian' 'Bulgarian' 'Vietnamese'\n",
      " 'Icelandic' 'Shona' 'Hungarian']\n",
      "\n",
      "\n",
      "There are 27 unique 2nd languages:\n",
      "['English' 'Hindi' 'German' 'Marathi' 'Malayalam' 'Italian' 'Filipino'\n",
      " 'Urdu' 'French' 'Spanish' 'Arabic' 'Yoruba' 'Bengali' 'Cantonese' 'Tamil'\n",
      " 'Telugu' 'Gujarati' 'Turkish' 'Russian' 'Somali' 'Welsh' 'Romanian'\n",
      " 'Kannada' 'Punjabi' 'Sadri' 'Dhivehi' 'Patois']\n",
      "\n",
      "\n",
      "There are 42 unique languages:\n",
      "['Akan' 'Portuguese' 'Urdu' 'Malayalam' 'Telugu' 'Chinese' 'Tamil' 'Hindi'\n",
      " 'English' 'Indonesian' 'Kannada' 'Bengali' 'Dutch' 'Gujarati' 'Arabic'\n",
      " 'Punjabi' 'Turkish' 'Greek' 'German' 'Kazakh' 'Russian' 'Spanish'\n",
      " 'Marathi' 'Sinhala' 'Persian' 'Lithuanian' 'Bulgarian' 'Vietnamese'\n",
      " 'Icelandic' 'Shona' 'Hungarian' 'Italian' 'Filipino' 'French' 'Yoruba'\n",
      " 'Cantonese' 'Somali' 'Welsh' 'Romanian' 'Sadri' 'Dhivehi' 'Patois']\n"
     ]
    }
   ],
   "source": [
    "lan1 = interpreter['Language1']\n",
    "lan2 = interpreter['Language2']\n",
    "all_lans = pd.concat([lan1, lan2])\n",
    "\n",
    "print(\"There are \"+str(lan1.dropna().nunique())+\" unique 1st languages:\")\n",
    "print(lan1.dropna().unique())\n",
    "\n",
    "print(\"\\n\")\n",
    "print(\"There are \"+str(lan2.dropna().nunique())+\" unique 2nd languages:\")\n",
    "print(lan2.dropna().unique())\n",
    "\n",
    "print(\"\\n\")\n",
    "print(\"There are \"+str(all_lans.dropna().nunique())+\" unique languages:\")\n",
    "print(all_lans.dropna().unique())"
   ]
  },
  {
   "cell_type": "markdown",
   "id": "1dc32af4",
   "metadata": {},
   "source": [
    "In the following cell, we create a pandas dataframe that associate each language to the language family that it belongs to:"
   ]
  },
  {
   "cell_type": "code",
   "execution_count": 36,
   "id": "f23ce99f",
   "metadata": {
    "ExecuteTime": {
     "end_time": "2022-07-19T13:48:20.577563Z",
     "start_time": "2022-07-19T13:48:20.342193Z"
    }
   },
   "outputs": [
    {
     "data": {
      "image/png": "[encoded data removed]",
      "text/plain": [
       "<Figure size 1080x720 with 1 Axes>"
      ]
     },
     "metadata": {
      "needs_background": "light"
     },
     "output_type": "display_data"
    }
   ],
   "source": [
    "plt.figure(figsize=(15,10))\n",
    "lan1.dropna().value_counts().plot.bar()\n",
    "plt.xticks(rotation=50)\n",
    "\n",
    "plt.xlabel(\"First language\")\n",
    "plt.ylabel(\"Number of speakers\")\n",
    "plt.show()\n"
   ]
  },
  {
   "cell_type": "code",
   "execution_count": 37,
   "id": "0b653057",
   "metadata": {
    "ExecuteTime": {
     "end_time": "2022-07-19T13:48:20.767549Z",
     "start_time": "2022-07-19T13:48:20.578560Z"
    }
   },
   "outputs": [
    {
     "data": {
      "image/png": "[encoded data removed]",
      "text/plain": [
       "<Figure size 864x1296 with 1 Axes>"
      ]
     },
     "metadata": {
      "needs_background": "light"
     },
     "output_type": "display_data"
    }
   ],
   "source": [
    "from wordcloud import WordCloud \n",
    "\n",
    "plt.figure(figsize=(12,18))\n",
    "wordcloud = WordCloud(max_font_size=50, background_color=\"white\").generate(lan1.dropna().to_string())\n",
    "plt.imshow(wordcloud, interpolation='bilinear')\n",
    "plt.axis(\"off\")\n",
    "plt.show()"
   ]
  },
  {
   "cell_type": "markdown",
   "id": "1c6af4cf",
   "metadata": {},
   "source": [
    "### Locations\n",
    "\n",
    "Which places do our speakers feel most identified with? <br>"
   ]
  },
  {
   "cell_type": "code",
   "execution_count": 38,
   "id": "e6bdc983",
   "metadata": {
    "ExecuteTime": {
     "end_time": "2022-07-19T13:48:20.783539Z",
     "start_time": "2022-07-19T13:48:20.770540Z"
    }
   },
   "outputs": [],
   "source": [
    "location = interpreter['Coordinates'].dropna()"
   ]
  },
  {
   "cell_type": "markdown",
   "id": "8e99b4e9",
   "metadata": {},
   "source": [
    "Let's plot those places on a map:"
   ]
  },
  {
   "cell_type": "code",
   "execution_count": 39,
   "id": "d0190121",
   "metadata": {
    "ExecuteTime": {
     "end_time": "2022-07-19T13:48:20.894783Z",
     "start_time": "2022-07-19T13:48:20.784539Z"
    }
   },
   "outputs": [
    {
     "data": {
      "text/html": [
       "<div style=\"width:100%;\"><div style=\"position:relative;width:100%;height:0;padding-bottom:60%;\"><span style=\"color:#565656\">Make this Notebook Trusted to load map: File -> Trust Notebook</span><iframe src=\"about:blank\" style=\"position:absolute;width:100%;height:100%;left:0;top:0;border:none !important;\" data-html=%3C%21DOCTYPE%20html%3E%0A%3Chead%3E%20%20%20%20%0A%20%20%20%20%3Cmeta%20http-equiv%3D%22content-type%22%20content%3D%22text/html%3B%20charset%3DUTF-8%22%20/%3E%0A%20%20%20%20%0A%20%20%20%20%20%20%20%20%3Cscript%3E%0A%20%20%20%20%20%20%20%20%20%20%20%20L_NO_TOUCH%20%3D%20false%3B%0A%20%20%20%20%20%20%20%20%20%20%20%20L_DISABLE_3D%20%3D%20false%3B%0A%20%20%20%20%20%20%20%20%3C/script%3E%0A%20%20%20%20%0A%20%20%20%20%3Cstyle%3Ehtml%2C%20body%20%7Bwidth%3A%20100%25%3Bheight%3A%20100%25%3Bmargin%3A%200%3Bpadding%3A%200%3B%7D%3C/style%3E%0A%20%20%20%20%3Cstyle%3E%23map%20%7Bposition%3Aabsolute%3Btop%3A0%3Bbottom%3A0%3Bright%3A0%3Bleft%3A0%3B%7D%3C/style%3E%0A%20%20%20%20%3Cscript%20src%3D%22https%3A//cdn.jsdelivr.net/npm/leaflet%401.6.0/dist/leaflet.js%22%3E%3C/script%3E%0A%20%20%20%20%3Cscript%20src%3D%22https%3A//code.jquery.com/jquery-1.12.4.min.js%22%3E%3C/script%3E%0A%20%20%20%20%3Cscript%20src%3D%22https%3A//maxcdn.bootstrapcdn.com/bootstrap/3.2.0/js/bootstrap.min.js%22%3E%3C/script%3E%0A%20%20%20%20%3Cscript%20src%3D%22https%3A//cdnjs.cloudflare.com/ajax/libs/Leaflet.awesome-markers/2.0.2/leaflet.awesome-markers.js%22%3E%3C/script%3E%0A%20%20%20%20%3Clink%20rel%3D%22stylesheet%22%20href%3D%22https%3A//cdn.jsdelivr.net/npm/leaflet%401.6.0/dist/leaflet.css%22/%3E%0A%20%20%20%20%3Clink%20rel%3D%22stylesheet%22%20href%3D%22https%3A//maxcdn.bootstrapcdn.com/bootstrap/3.2.0/css/bootstrap.min.css%22/%3E%0A%20%20%20%20%3Clink%20rel%3D%22stylesheet%22%20href%3D%22https%3A//maxcdn.bootstrapcdn.com/bootstrap/3.2.0/css/bootstrap-theme.min.css%22/%3E%0A%20%20%20%20%3Clink%20rel%3D%22stylesheet%22%20href%3D%22https%3A//maxcdn.bootstrapcdn.com/font-awesome/4.6.3/css/font-awesome.min.css%22/%3E%0A%20%20%20%20%3Clink%20rel%3D%22stylesheet%22%20href%3D%22https%3A//cdnjs.cloudflare.com/ajax/libs/Leaflet.awesome-markers/2.0.2/leaflet.awesome-markers.css%22/%3E%0A%20%20%20%20%3Clink%20rel%3D%22stylesheet%22%20href%3D%22https%3A//cdn.jsdelivr.net/gh/python-visualization/folium/folium/templates/leaflet.awesome.rotate.min.css%22/%3E%0A%20%20%20%20%0A%20%20%20%20%20%20%20%20%20%20%20%20%3Cmeta%20name%3D%22viewport%22%20content%3D%22width%3Ddevice-width%2C%0A%20%20%20%20%20%20%20%20%20%20%20%20%20%20%20%20initial-scale%3D1.0%2C%20maximum-scale%3D1.0%2C%20user-scalable%3Dno%22%20/%3E%0A%20%20%20%20%20%20%20%20%20%20%20%20%3Cstyle%3E%0A%20%20%20%20%20%20%20%20%20%20%20%20%20%20%20%20%23map_3ca5d6e3d3d848cb8f91db89cab5199a%20%7B%0A%20%20%20%20%20%20%20%20%20%20%20%20%20%20%20%20%20%20%20%20position%3A%20relative%3B%0A%20%20%20%20%20%20%20%20%20%20%20%20%20%20%20%20%20%20%20%20width%3A%20100.0%25%3B%0A%20%20%20%20%20%20%20%20%20%20%20%20%20%20%20%20%20%20%20%20height%3A%20100.0%25%3B%0A%20%20%20%20%20%20%20%20%20%20%20%20%20%20%20%20%20%20%20%20left%3A%200.0%25%3B%0A%20%20%20%20%20%20%20%20%20%20%20%20%20%20%20%20%20%20%20%20top%3A%200.0%25%3B%0A%20%20%20%20%20%20%20%20%20%20%20%20%20%20%20%20%7D%0A%20%20%20%20%20%20%20%20%20%20%20%20%3C/style%3E%0A%20%20%20%20%20%20%20%20%0A%3C/head%3E%0A%3Cbody%3E%20%20%20%20%0A%20%20%20%20%0A%20%20%20%20%20%20%20%20%20%20%20%20%3Cdiv%20class%3D%22folium-map%22%20id%3D%22map_3ca5d6e3d3d848cb8f91db89cab5199a%22%20%3E%3C/div%3E%0A%20%20%20%20%20%20%20%20%0A%3C/body%3E%0A%3Cscript%3E%20%20%20%20%0A%20%20%20%20%0A%20%20%20%20%20%20%20%20%20%20%20%20var%20map_3ca5d6e3d3d848cb8f91db89cab5199a%20%3D%20L.map%28%0A%20%20%20%20%20%20%20%20%20%20%20%20%20%20%20%20%22map_3ca5d6e3d3d848cb8f91db89cab5199a%22%2C%0A%20%20%20%20%20%20%20%20%20%20%20%20%20%20%20%20%7B%0A%20%20%20%20%20%20%20%20%20%20%20%20%20%20%20%20%20%20%20%20center%3A%20%5B20.0%2C%200.0%5D%2C%0A%20%20%20%20%20%20%20%20%20%20%20%20%20%20%20%20%20%20%20%20crs%3A%20L.CRS.EPSG3857%2C%0A%20%20%20%20%20%20%20%20%20%20%20%20%20%20%20%20%20%20%20%20zoom%3A%202%2C%0A%20%20%20%20%20%20%20%20%20%20%20%20%20%20%20%20%20%20%20%20zoomControl%3A%20true%2C%0A%20%20%20%20%20%20%20%20%20%20%20%20%20%20%20%20%20%20%20%20preferCanvas%3A%20false%2C%0A%20%20%20%20%20%20%20%20%20%20%20%20%20%20%20%20%7D%0A%20%20%20%20%20%20%20%20%20%20%20%20%29%3B%0A%0A%20%20%20%20%20%20%20%20%20%20%20%20%0A%0A%20%20%20%20%20%20%20%20%0A%20%20%20%20%0A%20%20%20%20%20%20%20%20%20%20%20%20var%20tile_layer_a7946f6321534841b53b7797bbfc4b2b%20%3D%20L.tileLayer%28%0A%20%20%20%20%20%20%20%20%20%20%20%20%20%20%20%20%22https%3A//%7Bs%7D.tile.openstreetmap.org/%7Bz%7D/%7Bx%7D/%7By%7D.png%22%2C%0A%20%20%20%20%20%20%20%20%20%20%20%20%20%20%20%20%7B%22attribution%22%3A%20%22Data%20by%20%5Cu0026copy%3B%20%5Cu003ca%20href%3D%5C%22http%3A//openstreetmap.org%5C%22%5Cu003eOpenStreetMap%5Cu003c/a%5Cu003e%2C%20under%20%5Cu003ca%20href%3D%5C%22http%3A//www.openstreetmap.org/copyright%5C%22%5Cu003eODbL%5Cu003c/a%5Cu003e.%22%2C%20%22detectRetina%22%3A%20false%2C%20%22maxNativeZoom%22%3A%2018%2C%20%22maxZoom%22%3A%2018%2C%20%22minZoom%22%3A%200%2C%20%22noWrap%22%3A%20false%2C%20%22opacity%22%3A%201%2C%20%22subdomains%22%3A%20%22abc%22%2C%20%22tms%22%3A%20false%7D%0A%20%20%20%20%20%20%20%20%20%20%20%20%29.addTo%28map_3ca5d6e3d3d848cb8f91db89cab5199a%29%3B%0A%20%20%20%20%20%20%20%20%0A%20%20%20%20%0A%20%20%20%20%20%20%20%20%20%20%20%20var%20marker_b215d2bd8bbd41e882443ca3bd906cea%20%3D%20L.marker%28%0A%20%20%20%20%20%20%20%20%20%20%20%20%20%20%20%20%5B5.6037%2C%20-0.187%5D%2C%0A%20%20%20%20%20%20%20%20%20%20%20%20%20%20%20%20%7B%7D%0A%20%20%20%20%20%20%20%20%20%20%20%20%29.addTo%28map_3ca5d6e3d3d848cb8f91db89cab5199a%29%3B%0A%20%20%20%20%20%20%20%20%0A%20%20%20%20%0A%20%20%20%20%20%20%20%20%20%20%20%20var%20marker_1ea28468ee304a1b9b18b5afcfcb8008%20%3D%20L.marker%28%0A%20%20%20%20%20%20%20%20%20%20%20%20%20%20%20%20%5B-16.6869%2C%20-49.2648%5D%2C%0A%20%20%20%20%20%20%20%20%20%20%20%20%20%20%20%20%7B%7D%0A%20%20%20%20%20%20%20%20%20%20%20%20%29.addTo%28map_3ca5d6e3d3d848cb8f91db89cab5199a%29%3B%0A%20%20%20%20%20%20%20%20%0A%20%20%20%20%0A%20%20%20%20%20%20%20%20%20%20%20%20var%20marker_fa9e50ea5ec342098cfb87ced02f2d35%20%3D%20L.marker%28%0A%20%20%20%20%20%20%20%20%20%20%20%20%20%20%20%20%5B49.0%2C%20-0.2%5D%2C%0A%20%20%20%20%20%20%20%20%20%20%20%20%20%20%20%20%7B%7D%0A%20%20%20%20%20%20%20%20%20%20%20%20%29.addTo%28map_3ca5d6e3d3d848cb8f91db89cab5199a%29%3B%0A%20%20%20%20%20%20%20%20%0A%20%20%20%20%0A%20%20%20%20%20%20%20%20%20%20%20%20var%20marker_bae3a755822e44e7ba78c73493bf9620%20%3D%20L.marker%28%0A%20%20%20%20%20%20%20%20%20%20%20%20%20%20%20%20%5B51.5912%2C%200.1046%5D%2C%0A%20%20%20%20%20%20%20%20%20%20%20%20%20%20%20%20%7B%7D%0A%20%20%20%20%20%20%20%20%20%20%20%20%29.addTo%28map_3ca5d6e3d3d848cb8f91db89cab5199a%29%3B%0A%20%20%20%20%20%20%20%20%0A%20%20%20%20%0A%20%20%20%20%20%20%20%20%20%20%20%20var%20marker_09d1019d227c41909ffbbcf8468bb5cc%20%3D%20L.marker%28%0A%20%20%20%20%20%20%20%20%20%20%20%20%20%20%20%20%5B51.52%2C%20-0.04%5D%2C%0A%20%20%20%20%20%20%20%20%20%20%20%20%20%20%20%20%7B%7D%0A%20%20%20%20%20%20%20%20%20%20%20%20%29.addTo%28map_3ca5d6e3d3d848cb8f91db89cab5199a%29%3B%0A%20%20%20%20%20%20%20%20%0A%20%20%20%20%0A%20%20%20%20%20%20%20%20%20%20%20%20var%20marker_245144832f6d4002beb681c7cddf3505%20%3D%20L.marker%28%0A%20%20%20%20%20%20%20%20%20%20%20%20%20%20%20%20%5B10.89%2C%2076.07%5D%2C%0A%20%20%20%20%20%20%20%20%20%20%20%20%20%20%20%20%7B%7D%0A%20%20%20%20%20%20%20%20%20%20%20%20%29.addTo%28map_3ca5d6e3d3d848cb8f91db89cab5199a%29%3B%0A%20%20%20%20%20%20%20%20%0A%20%20%20%20%0A%20%20%20%20%20%20%20%20%20%20%20%20var%20marker_5edb2e86708a402aa1d8cdc6128a5eb0%20%3D%20L.marker%28%0A%20%20%20%20%20%20%20%20%20%20%20%20%20%20%20%20%5B30.54%2C%20114.3%5D%2C%0A%20%20%20%20%20%20%20%20%20%20%20%20%20%20%20%20%7B%7D%0A%20%20%20%20%20%20%20%20%20%20%20%20%29.addTo%28map_3ca5d6e3d3d848cb8f91db89cab5199a%29%3B%0A%20%20%20%20%20%20%20%20%0A%20%20%20%20%0A%20%20%20%20%20%20%20%20%20%20%20%20var%20marker_c66dbff0069343dd9f6b9b67838c513a%20%3D%20L.marker%28%0A%20%20%20%20%20%20%20%20%20%20%20%20%20%20%20%20%5B51.46%2C%200.03%5D%2C%0A%20%20%20%20%20%20%20%20%20%20%20%20%20%20%20%20%7B%7D%0A%20%20%20%20%20%20%20%20%20%20%20%20%29.addTo%28map_3ca5d6e3d3d848cb8f91db89cab5199a%29%3B%0A%20%20%20%20%20%20%20%20%0A%20%20%20%20%0A%20%20%20%20%20%20%20%20%20%20%20%20var%20marker_d1ebc54f02cd4e16b3be6ebbac1f3d2c%20%3D%20L.marker%28%0A%20%20%20%20%20%20%20%20%20%20%20%20%20%20%20%20%5B22.9504%2C%2076.0317%5D%2C%0A%20%20%20%20%20%20%20%20%20%20%20%20%20%20%20%20%7B%7D%0A%20%20%20%20%20%20%20%20%20%20%20%20%29.addTo%28map_3ca5d6e3d3d848cb8f91db89cab5199a%29%3B%0A%20%20%20%20%20%20%20%20%0A%20%20%20%20%0A%20%20%20%20%20%20%20%20%20%20%20%20var%20marker_4add753b366d4b8b94c65214026a5a9f%20%3D%20L.marker%28%0A%20%20%20%20%20%20%20%20%20%20%20%20%20%20%20%20%5B51.52%2C%20-0.04%5D%2C%0A%20%20%20%20%20%20%20%20%20%20%20%20%20%20%20%20%7B%7D%0A%20%20%20%20%20%20%20%20%20%20%20%20%29.addTo%28map_3ca5d6e3d3d848cb8f91db89cab5199a%29%3B%0A%20%20%20%20%20%20%20%20%0A%20%20%20%20%0A%20%20%20%20%20%20%20%20%20%20%20%20var%20marker_62baf32c7d554758bbeb9edb2f7f0da4%20%3D%20L.marker%28%0A%20%20%20%20%20%20%20%20%20%20%20%20%20%20%20%20%5B51.49%2C%20-0.02%5D%2C%0A%20%20%20%20%20%20%20%20%20%20%20%20%20%20%20%20%7B%7D%0A%20%20%20%20%20%20%20%20%20%20%20%20%29.addTo%28map_3ca5d6e3d3d848cb8f91db89cab5199a%29%3B%0A%20%20%20%20%20%20%20%20%0A%20%20%20%20%0A%20%20%20%20%20%20%20%20%20%20%20%20var%20marker_02775aa35936433fa77eb9372e8ba139%20%3D%20L.marker%28%0A%20%20%20%20%20%20%20%20%20%20%20%20%20%20%20%20%5B28.7%2C%2077.1%5D%2C%0A%20%20%20%20%20%20%20%20%20%20%20%20%20%20%20%20%7B%7D%0A%20%20%20%20%20%20%20%20%20%20%20%20%29.addTo%28map_3ca5d6e3d3d848cb8f91db89cab5199a%29%3B%0A%20%20%20%20%20%20%20%20%0A%20%20%20%20%0A%20%20%20%20%20%20%20%20%20%20%20%20var%20marker_f33f5fb5b64f4709934fd1e6ec1544de%20%3D%20L.marker%28%0A%20%20%20%20%20%20%20%20%20%20%20%20%20%20%20%20%5B19.5525%2C%2074.1945%5D%2C%0A%20%20%20%20%20%20%20%20%20%20%20%20%20%20%20%20%7B%7D%0A%20%20%20%20%20%20%20%20%20%20%20%20%29.addTo%28map_3ca5d6e3d3d848cb8f91db89cab5199a%29%3B%0A%20%20%20%20%20%20%20%20%0A%20%20%20%20%0A%20%20%20%20%20%20%20%20%20%20%20%20var%20marker_e53fdf8021934fd682759f9d3fa658cf%20%3D%20L.marker%28%0A%20%20%20%20%20%20%20%20%20%20%20%20%20%20%20%20%5B51.52%2C%20-0.04%5D%2C%0A%20%20%20%20%20%20%20%20%20%20%20%20%20%20%20%20%7B%7D%0A%20%20%20%20%20%20%20%20%20%20%20%20%29.addTo%28map_3ca5d6e3d3d848cb8f91db89cab5199a%29%3B%0A%20%20%20%20%20%20%20%20%0A%20%20%20%20%0A%20%20%20%20%20%20%20%20%20%20%20%20var%20marker_97b2d334a00c4e3b9b58a373f58d8e4f%20%3D%20L.marker%28%0A%20%20%20%20%20%20%20%20%20%20%20%20%20%20%20%20%5B51.51%2C%200.12%5D%2C%0A%20%20%20%20%20%20%20%20%20%20%20%20%20%20%20%20%7B%7D%0A%20%20%20%20%20%20%20%20%20%20%20%20%29.addTo%28map_3ca5d6e3d3d848cb8f91db89cab5199a%29%3B%0A%20%20%20%20%20%20%20%20%0A%20%20%20%20%0A%20%20%20%20%20%20%20%20%20%20%20%20var%20marker_b3d01576bfcf4288bd2afb9165805b3f%20%3D%20L.marker%28%0A%20%20%20%20%20%20%20%20%20%20%20%20%20%20%20%20%5B51.52%2C%20-0.05%5D%2C%0A%20%20%20%20%20%20%20%20%20%20%20%20%20%20%20%20%7B%7D%0A%20%20%20%20%20%20%20%20%20%20%20%20%29.addTo%28map_3ca5d6e3d3d848cb8f91db89cab5199a%29%3B%0A%20%20%20%20%20%20%20%20%0A%20%20%20%20%0A%20%20%20%20%20%20%20%20%20%20%20%20var%20marker_73f9973d8e5041a9bc9362364cd183a3%20%3D%20L.marker%28%0A%20%20%20%20%20%20%20%20%20%20%20%20%20%20%20%20%5B39.13%2C%20117.18%5D%2C%0A%20%20%20%20%20%20%20%20%20%20%20%20%20%20%20%20%7B%7D%0A%20%20%20%20%20%20%20%20%20%20%20%20%29.addTo%28map_3ca5d6e3d3d848cb8f91db89cab5199a%29%3B%0A%20%20%20%20%20%20%20%20%0A%20%20%20%20%0A%20%20%20%20%20%20%20%20%20%20%20%20var%20marker_33a77cd8c99d4d768050614109796c9d%20%3D%20L.marker%28%0A%20%20%20%20%20%20%20%20%20%20%20%20%20%20%20%20%5B51.4%2C%20-0.14%5D%2C%0A%20%20%20%20%20%20%20%20%20%20%20%20%20%20%20%20%7B%7D%0A%20%20%20%20%20%20%20%20%20%20%20%20%29.addTo%28map_3ca5d6e3d3d848cb8f91db89cab5199a%29%3B%0A%20%20%20%20%20%20%20%20%0A%20%20%20%20%0A%20%20%20%20%20%20%20%20%20%20%20%20var%20marker_a0ea14de982a434ca4290da35403a4d7%20%3D%20L.marker%28%0A%20%20%20%20%20%20%20%20%20%20%20%20%20%20%20%20%5B51.5771%2C%200.1783%5D%2C%0A%20%20%20%20%20%20%20%20%20%20%20%20%20%20%20%20%7B%7D%0A%20%20%20%20%20%20%20%20%20%20%20%20%29.addTo%28map_3ca5d6e3d3d848cb8f91db89cab5199a%29%3B%0A%20%20%20%20%20%20%20%20%0A%20%20%20%20%0A%20%20%20%20%20%20%20%20%20%20%20%20var%20marker_3c67bfd15b7549ab91324c8859a50c51%20%3D%20L.marker%28%0A%20%20%20%20%20%20%20%20%20%20%20%20%20%20%20%20%5B25.2146%2C%2055.3033%5D%2C%0A%20%20%20%20%20%20%20%20%20%20%20%20%20%20%20%20%7B%7D%0A%20%20%20%20%20%20%20%20%20%20%20%20%29.addTo%28map_3ca5d6e3d3d848cb8f91db89cab5199a%29%3B%0A%20%20%20%20%20%20%20%20%0A%20%20%20%20%0A%20%20%20%20%20%20%20%20%20%20%20%20var%20marker_1d28676bb2794c509964d92edf43b569%20%3D%20L.marker%28%0A%20%20%20%20%20%20%20%20%20%20%20%20%20%20%20%20%5B28.7%2C%2077.1%5D%2C%0A%20%20%20%20%20%20%20%20%20%20%20%20%20%20%20%20%7B%7D%0A%20%20%20%20%20%20%20%20%20%20%20%20%29.addTo%28map_3ca5d6e3d3d848cb8f91db89cab5199a%29%3B%0A%20%20%20%20%20%20%20%20%0A%20%20%20%20%0A%20%20%20%20%20%20%20%20%20%20%20%20var%20marker_e9c28aa256364b9a8f2ac5520b032ed6%20%3D%20L.marker%28%0A%20%20%20%20%20%20%20%20%20%20%20%20%20%20%20%20%5B22.7%2C%2088.37%5D%2C%0A%20%20%20%20%20%20%20%20%20%20%20%20%20%20%20%20%7B%7D%0A%20%20%20%20%20%20%20%20%20%20%20%20%29.addTo%28map_3ca5d6e3d3d848cb8f91db89cab5199a%29%3B%0A%20%20%20%20%20%20%20%20%0A%20%20%20%20%0A%20%20%20%20%20%20%20%20%20%20%20%20var%20marker_7fddee9331274b359fa4168beef1f92e%20%3D%20L.marker%28%0A%20%20%20%20%20%20%20%20%20%20%20%20%20%20%20%20%5B28.7041%2C%2077.1025%5D%2C%0A%20%20%20%20%20%20%20%20%20%20%20%20%20%20%20%20%7B%7D%0A%20%20%20%20%20%20%20%20%20%20%20%20%29.addTo%28map_3ca5d6e3d3d848cb8f91db89cab5199a%29%3B%0A%20%20%20%20%20%20%20%20%0A%20%20%20%20%0A%20%20%20%20%20%20%20%20%20%20%20%20var%20marker_d8179935179b486fbf93ef2d398bf9b8%20%3D%20L.marker%28%0A%20%20%20%20%20%20%20%20%20%20%20%20%20%20%20%20%5B51.51%2C%20-0.00074%5D%2C%0A%20%20%20%20%20%20%20%20%20%20%20%20%20%20%20%20%7B%7D%0A%20%20%20%20%20%20%20%20%20%20%20%20%29.addTo%28map_3ca5d6e3d3d848cb8f91db89cab5199a%29%3B%0A%20%20%20%20%20%20%20%20%0A%20%20%20%20%0A%20%20%20%20%20%20%20%20%20%20%20%20var%20marker_3248617039ce4cceac095240f2f6cbb6%20%3D%20L.marker%28%0A%20%20%20%20%20%20%20%20%20%20%20%20%20%20%20%20%5B24.86%2C%2067.0%5D%2C%0A%20%20%20%20%20%20%20%20%20%20%20%20%20%20%20%20%7B%7D%0A%20%20%20%20%20%20%20%20%20%20%20%20%29.addTo%28map_3ca5d6e3d3d848cb8f91db89cab5199a%29%3B%0A%20%20%20%20%20%20%20%20%0A%20%20%20%20%0A%20%20%20%20%20%20%20%20%20%20%20%20var%20marker_30437b9d42e8436da7683a82650bfe59%20%3D%20L.marker%28%0A%20%20%20%20%20%20%20%20%20%20%20%20%20%20%20%20%5B51.52%2C%20-0.04%5D%2C%0A%20%20%20%20%20%20%20%20%20%20%20%20%20%20%20%20%7B%7D%0A%20%20%20%20%20%20%20%20%20%20%20%20%29.addTo%28map_3ca5d6e3d3d848cb8f91db89cab5199a%29%3B%0A%20%20%20%20%20%20%20%20%0A%20%20%20%20%0A%20%20%20%20%20%20%20%20%20%20%20%20var%20marker_48931930b7f44b4dbe6ee20448314168%20%3D%20L.marker%28%0A%20%20%20%20%20%20%20%20%20%20%20%20%20%20%20%20%5B40.1%2C%2023.31%5D%2C%0A%20%20%20%20%20%20%20%20%20%20%20%20%20%20%20%20%7B%7D%0A%20%20%20%20%20%20%20%20%20%20%20%20%29.addTo%28map_3ca5d6e3d3d848cb8f91db89cab5199a%29%3B%0A%20%20%20%20%20%20%20%20%0A%20%20%20%20%0A%20%20%20%20%20%20%20%20%20%20%20%20var%20marker_c7bba91b9b3c4e6f85f4735745dd2eba%20%3D%20L.marker%28%0A%20%20%20%20%20%20%20%20%20%20%20%20%20%20%20%20%5B37.7749%2C%20-122.4194%5D%2C%0A%20%20%20%20%20%20%20%20%20%20%20%20%20%20%20%20%7B%7D%0A%20%20%20%20%20%20%20%20%20%20%20%20%29.addTo%28map_3ca5d6e3d3d848cb8f91db89cab5199a%29%3B%0A%20%20%20%20%20%20%20%20%0A%20%20%20%20%0A%20%20%20%20%20%20%20%20%20%20%20%20var%20marker_4a35ba0a3b2344fb843087f296b0ed4a%20%3D%20L.marker%28%0A%20%20%20%20%20%20%20%20%20%20%20%20%20%20%20%20%5B23.0225%2C%2072.5714%5D%2C%0A%20%20%20%20%20%20%20%20%20%20%20%20%20%20%20%20%7B%7D%0A%20%20%20%20%20%20%20%20%20%20%20%20%29.addTo%28map_3ca5d6e3d3d848cb8f91db89cab5199a%29%3B%0A%20%20%20%20%20%20%20%20%0A%20%20%20%20%0A%20%20%20%20%20%20%20%20%20%20%20%20var%20marker_9857a4bf4c5942579a3b3c1f720f298f%20%3D%20L.marker%28%0A%20%20%20%20%20%20%20%20%20%20%20%20%20%20%20%20%5B51.27%2C%200.52%5D%2C%0A%20%20%20%20%20%20%20%20%20%20%20%20%20%20%20%20%7B%7D%0A%20%20%20%20%20%20%20%20%20%20%20%20%29.addTo%28map_3ca5d6e3d3d848cb8f91db89cab5199a%29%3B%0A%20%20%20%20%20%20%20%20%0A%20%20%20%20%0A%20%20%20%20%20%20%20%20%20%20%20%20var%20marker_107038e01ae84444b87bc3e597ad1a54%20%3D%20L.marker%28%0A%20%20%20%20%20%20%20%20%20%20%20%20%20%20%20%20%5B51.52%2C%20-0.04%5D%2C%0A%20%20%20%20%20%20%20%20%20%20%20%20%20%20%20%20%7B%7D%0A%20%20%20%20%20%20%20%20%20%20%20%20%29.addTo%28map_3ca5d6e3d3d848cb8f91db89cab5199a%29%3B%0A%20%20%20%20%20%20%20%20%0A%20%20%20%20%0A%20%20%20%20%20%20%20%20%20%20%20%20var%20marker_81b5444cf1884148930afaca98dbc0ad%20%3D%20L.marker%28%0A%20%20%20%20%20%20%20%20%20%20%20%20%20%20%20%20%5B51.68%2C%200.76%5D%2C%0A%20%20%20%20%20%20%20%20%20%20%20%20%20%20%20%20%7B%7D%0A%20%20%20%20%20%20%20%20%20%20%20%20%29.addTo%28map_3ca5d6e3d3d848cb8f91db89cab5199a%29%3B%0A%20%20%20%20%20%20%20%20%0A%20%20%20%20%0A%20%20%20%20%20%20%20%20%20%20%20%20var%20marker_b8a7cd82b2a94c53bc59ce7ca548f1f7%20%3D%20L.marker%28%0A%20%20%20%20%20%20%20%20%20%20%20%20%20%20%20%20%5B51.62%2C%200.07%5D%2C%0A%20%20%20%20%20%20%20%20%20%20%20%20%20%20%20%20%7B%7D%0A%20%20%20%20%20%20%20%20%20%20%20%20%29.addTo%28map_3ca5d6e3d3d848cb8f91db89cab5199a%29%3B%0A%20%20%20%20%20%20%20%20%0A%20%20%20%20%0A%20%20%20%20%20%20%20%20%20%20%20%20var%20marker_a8549e5359694bc4be889395b9634207%20%3D%20L.marker%28%0A%20%20%20%20%20%20%20%20%20%20%20%20%20%20%20%20%5B51.5848%2C%200.2787%5D%2C%0A%20%20%20%20%20%20%20%20%20%20%20%20%20%20%20%20%7B%7D%0A%20%20%20%20%20%20%20%20%20%20%20%20%29.addTo%28map_3ca5d6e3d3d848cb8f91db89cab5199a%29%3B%0A%20%20%20%20%20%20%20%20%0A%20%20%20%20%0A%20%20%20%20%20%20%20%20%20%20%20%20var%20marker_dffa7f512b2a4229b76a3bdf6a27a4af%20%3D%20L.marker%28%0A%20%20%20%20%20%20%20%20%20%20%20%20%20%20%20%20%5B26.11934%2C%2083.54389%5D%2C%0A%20%20%20%20%20%20%20%20%20%20%20%20%20%20%20%20%7B%7D%0A%20%20%20%20%20%20%20%20%20%20%20%20%29.addTo%28map_3ca5d6e3d3d848cb8f91db89cab5199a%29%3B%0A%20%20%20%20%20%20%20%20%0A%20%20%20%20%0A%20%20%20%20%20%20%20%20%20%20%20%20var%20marker_8b8763789cb74a8db80ef36585e672ea%20%3D%20L.marker%28%0A%20%20%20%20%20%20%20%20%20%20%20%20%20%20%20%20%5B39.9%2C%20116.4%5D%2C%0A%20%20%20%20%20%20%20%20%20%20%20%20%20%20%20%20%7B%7D%0A%20%20%20%20%20%20%20%20%20%20%20%20%29.addTo%28map_3ca5d6e3d3d848cb8f91db89cab5199a%29%3B%0A%20%20%20%20%20%20%20%20%0A%20%20%20%20%0A%20%20%20%20%20%20%20%20%20%20%20%20var%20marker_f4d546c1a58848f983e56519e1688bca%20%3D%20L.marker%28%0A%20%20%20%20%20%20%20%20%20%20%20%20%20%20%20%20%5B39.17%2C%20-86.53%5D%2C%0A%20%20%20%20%20%20%20%20%20%20%20%20%20%20%20%20%7B%7D%0A%20%20%20%20%20%20%20%20%20%20%20%20%29.addTo%28map_3ca5d6e3d3d848cb8f91db89cab5199a%29%3B%0A%20%20%20%20%20%20%20%20%0A%20%20%20%20%0A%20%20%20%20%20%20%20%20%20%20%20%20var%20marker_5ad1149e337b4c3bb50494c89df6655a%20%3D%20L.marker%28%0A%20%20%20%20%20%20%20%20%20%20%20%20%20%20%20%20%5B52.21%2C%200.12%5D%2C%0A%20%20%20%20%20%20%20%20%20%20%20%20%20%20%20%20%7B%7D%0A%20%20%20%20%20%20%20%20%20%20%20%20%29.addTo%28map_3ca5d6e3d3d848cb8f91db89cab5199a%29%3B%0A%20%20%20%20%20%20%20%20%0A%20%20%20%20%0A%20%20%20%20%20%20%20%20%20%20%20%20var%20marker_a393660c1c67439388427cc77cde107f%20%3D%20L.marker%28%0A%20%20%20%20%20%20%20%20%20%20%20%20%20%20%20%20%5B35.662%2C%20139.7038%5D%2C%0A%20%20%20%20%20%20%20%20%20%20%20%20%20%20%20%20%7B%7D%0A%20%20%20%20%20%20%20%20%20%20%20%20%29.addTo%28map_3ca5d6e3d3d848cb8f91db89cab5199a%29%3B%0A%20%20%20%20%20%20%20%20%0A%20%20%20%20%0A%20%20%20%20%20%20%20%20%20%20%20%20var%20marker_8eb8d921f2b049f5baf7ffd34bb775b5%20%3D%20L.marker%28%0A%20%20%20%20%20%20%20%20%20%20%20%20%20%20%20%20%5B51.4584%2C%20-0.1891%5D%2C%0A%20%20%20%20%20%20%20%20%20%20%20%20%20%20%20%20%7B%7D%0A%20%20%20%20%20%20%20%20%20%20%20%20%29.addTo%28map_3ca5d6e3d3d848cb8f91db89cab5199a%29%3B%0A%20%20%20%20%20%20%20%20%0A%20%20%20%20%0A%20%20%20%20%20%20%20%20%20%20%20%20var%20marker_14110d54c1604265a5a4e85f2e40ac80%20%3D%20L.marker%28%0A%20%20%20%20%20%20%20%20%20%20%20%20%20%20%20%20%5B51.5072%2C%200.1276%5D%2C%0A%20%20%20%20%20%20%20%20%20%20%20%20%20%20%20%20%7B%7D%0A%20%20%20%20%20%20%20%20%20%20%20%20%29.addTo%28map_3ca5d6e3d3d848cb8f91db89cab5199a%29%3B%0A%20%20%20%20%20%20%20%20%0A%20%20%20%20%0A%20%20%20%20%20%20%20%20%20%20%20%20var%20marker_df93ea9395ff40f898fdae308adcf803%20%3D%20L.marker%28%0A%20%20%20%20%20%20%20%20%20%20%20%20%20%20%20%20%5B36.92%2C%207.75%5D%2C%0A%20%20%20%20%20%20%20%20%20%20%20%20%20%20%20%20%7B%7D%0A%20%20%20%20%20%20%20%20%20%20%20%20%29.addTo%28map_3ca5d6e3d3d848cb8f91db89cab5199a%29%3B%0A%20%20%20%20%20%20%20%20%0A%20%20%20%20%0A%20%20%20%20%20%20%20%20%20%20%20%20var%20marker_db4541c5f1a14c88b4146f3191e96eab%20%3D%20L.marker%28%0A%20%20%20%20%20%20%20%20%20%20%20%20%20%20%20%20%5B51.52%2C%20-0.04%5D%2C%0A%20%20%20%20%20%20%20%20%20%20%20%20%20%20%20%20%7B%7D%0A%20%20%20%20%20%20%20%20%20%20%20%20%29.addTo%28map_3ca5d6e3d3d848cb8f91db89cab5199a%29%3B%0A%20%20%20%20%20%20%20%20%0A%20%20%20%20%0A%20%20%20%20%20%20%20%20%20%20%20%20var%20marker_2104fea413f648bf91fa820cfbfa82c1%20%3D%20L.marker%28%0A%20%20%20%20%20%20%20%20%20%20%20%20%20%20%20%20%5B51.8032%2C%200.2087%5D%2C%0A%20%20%20%20%20%20%20%20%20%20%20%20%20%20%20%20%7B%7D%0A%20%20%20%20%20%20%20%20%20%20%20%20%29.addTo%28map_3ca5d6e3d3d848cb8f91db89cab5199a%29%3B%0A%20%20%20%20%20%20%20%20%0A%20%20%20%20%0A%20%20%20%20%20%20%20%20%20%20%20%20var%20marker_0abd94b6bd2741ca90488de382f1c1c4%20%3D%20L.marker%28%0A%20%20%20%20%20%20%20%20%20%20%20%20%20%20%20%20%5B41.0%2C%2039.71%5D%2C%0A%20%20%20%20%20%20%20%20%20%20%20%20%20%20%20%20%7B%7D%0A%20%20%20%20%20%20%20%20%20%20%20%20%29.addTo%28map_3ca5d6e3d3d848cb8f91db89cab5199a%29%3B%0A%20%20%20%20%20%20%20%20%0A%20%20%20%20%0A%20%20%20%20%20%20%20%20%20%20%20%20var%20marker_1027142dcc9e49c2b5832db73c5f1149%20%3D%20L.marker%28%0A%20%20%20%20%20%20%20%20%20%20%20%20%20%20%20%20%5B35.1338%2C%2033.3598%5D%2C%0A%20%20%20%20%20%20%20%20%20%20%20%20%20%20%20%20%7B%7D%0A%20%20%20%20%20%20%20%20%20%20%20%20%29.addTo%28map_3ca5d6e3d3d848cb8f91db89cab5199a%29%3B%0A%20%20%20%20%20%20%20%20%0A%20%20%20%20%0A%20%20%20%20%20%20%20%20%20%20%20%20var%20marker_c9740ff92ed149c28b63f9ad38528985%20%3D%20L.marker%28%0A%20%20%20%20%20%20%20%20%20%20%20%20%20%20%20%20%5B51.5%2C%200.13%5D%2C%0A%20%20%20%20%20%20%20%20%20%20%20%20%20%20%20%20%7B%7D%0A%20%20%20%20%20%20%20%20%20%20%20%20%29.addTo%28map_3ca5d6e3d3d848cb8f91db89cab5199a%29%3B%0A%20%20%20%20%20%20%20%20%0A%20%20%20%20%0A%20%20%20%20%20%20%20%20%20%20%20%20var%20marker_28caf2d079b24ab28edd4f973f3a7343%20%3D%20L.marker%28%0A%20%20%20%20%20%20%20%20%20%20%20%20%20%20%20%20%5B28.71%2C%2077.15%5D%2C%0A%20%20%20%20%20%20%20%20%20%20%20%20%20%20%20%20%7B%7D%0A%20%20%20%20%20%20%20%20%20%20%20%20%29.addTo%28map_3ca5d6e3d3d848cb8f91db89cab5199a%29%3B%0A%20%20%20%20%20%20%20%20%0A%20%20%20%20%0A%20%20%20%20%20%20%20%20%20%20%20%20var%20marker_5a04c6e347a245c68182bd2296181df8%20%3D%20L.marker%28%0A%20%20%20%20%20%20%20%20%20%20%20%20%20%20%20%20%5B20.5937%2C%2078.9629%5D%2C%0A%20%20%20%20%20%20%20%20%20%20%20%20%20%20%20%20%7B%7D%0A%20%20%20%20%20%20%20%20%20%20%20%20%29.addTo%28map_3ca5d6e3d3d848cb8f91db89cab5199a%29%3B%0A%20%20%20%20%20%20%20%20%0A%20%20%20%20%0A%20%20%20%20%20%20%20%20%20%20%20%20var%20marker_0549f125dce84e64973e4cf45f1b3bce%20%3D%20L.marker%28%0A%20%20%20%20%20%20%20%20%20%20%20%20%20%20%20%20%5B51.5809%2C%200.1896%5D%2C%0A%20%20%20%20%20%20%20%20%20%20%20%20%20%20%20%20%7B%7D%0A%20%20%20%20%20%20%20%20%20%20%20%20%29.addTo%28map_3ca5d6e3d3d848cb8f91db89cab5199a%29%3B%0A%20%20%20%20%20%20%20%20%0A%20%20%20%20%0A%20%20%20%20%20%20%20%20%20%20%20%20var%20marker_049b582f3e07432c83afceb9723ff0be%20%3D%20L.marker%28%0A%20%20%20%20%20%20%20%20%20%20%20%20%20%20%20%20%5B51.43%2C%20-0.17%5D%2C%0A%20%20%20%20%20%20%20%20%20%20%20%20%20%20%20%20%7B%7D%0A%20%20%20%20%20%20%20%20%20%20%20%20%29.addTo%28map_3ca5d6e3d3d848cb8f91db89cab5199a%29%3B%0A%20%20%20%20%20%20%20%20%0A%20%20%20%20%0A%20%20%20%20%20%20%20%20%20%20%20%20var%20marker_a9e869b756314adc8f6eb2ecf9c5e9a3%20%3D%20L.marker%28%0A%20%20%20%20%20%20%20%20%20%20%20%20%20%20%20%20%5B51.48%2C%20-0.16%5D%2C%0A%20%20%20%20%20%20%20%20%20%20%20%20%20%20%20%20%7B%7D%0A%20%20%20%20%20%20%20%20%20%20%20%20%29.addTo%28map_3ca5d6e3d3d848cb8f91db89cab5199a%29%3B%0A%20%20%20%20%20%20%20%20%0A%20%20%20%20%0A%20%20%20%20%20%20%20%20%20%20%20%20var%20marker_b01caa09b9754718afefaf8fe510f50a%20%3D%20L.marker%28%0A%20%20%20%20%20%20%20%20%20%20%20%20%20%20%20%20%5B51.53421%2C%20-0.22084%5D%2C%0A%20%20%20%20%20%20%20%20%20%20%20%20%20%20%20%20%7B%7D%0A%20%20%20%20%20%20%20%20%20%20%20%20%29.addTo%28map_3ca5d6e3d3d848cb8f91db89cab5199a%29%3B%0A%20%20%20%20%20%20%20%20%0A%20%20%20%20%0A%20%20%20%20%20%20%20%20%20%20%20%20var%20marker_ed9e2b68f53549119e6b19953c0c2b2b%20%3D%20L.marker%28%0A%20%20%20%20%20%20%20%20%20%20%20%20%20%20%20%20%5B51.52%2C%20-0.04%5D%2C%0A%20%20%20%20%20%20%20%20%20%20%20%20%20%20%20%20%7B%7D%0A%20%20%20%20%20%20%20%20%20%20%20%20%29.addTo%28map_3ca5d6e3d3d848cb8f91db89cab5199a%29%3B%0A%20%20%20%20%20%20%20%20%0A%20%20%20%20%0A%20%20%20%20%20%20%20%20%20%20%20%20var%20marker_abddca81e44d4c25b3efdad0915ee65d%20%3D%20L.marker%28%0A%20%20%20%20%20%20%20%20%20%20%20%20%20%20%20%20%5B51.51%2C%20-0.12%5D%2C%0A%20%20%20%20%20%20%20%20%20%20%20%20%20%20%20%20%7B%7D%0A%20%20%20%20%20%20%20%20%20%20%20%20%29.addTo%28map_3ca5d6e3d3d848cb8f91db89cab5199a%29%3B%0A%20%20%20%20%20%20%20%20%0A%20%20%20%20%0A%20%20%20%20%20%20%20%20%20%20%20%20var%20marker_7d7dcd74e8a14201b8e31ece61e863a0%20%3D%20L.marker%28%0A%20%20%20%20%20%20%20%20%20%20%20%20%20%20%20%20%5B51.52%2C%20-0.04%5D%2C%0A%20%20%20%20%20%20%20%20%20%20%20%20%20%20%20%20%7B%7D%0A%20%20%20%20%20%20%20%20%20%20%20%20%29.addTo%28map_3ca5d6e3d3d848cb8f91db89cab5199a%29%3B%0A%20%20%20%20%20%20%20%20%0A%20%20%20%20%0A%20%20%20%20%20%20%20%20%20%20%20%20var%20marker_88cd086391a54fc097e9d013efa260ab%20%3D%20L.marker%28%0A%20%20%20%20%20%20%20%20%20%20%20%20%20%20%20%20%5B51.547513%2C%200.141118%5D%2C%0A%20%20%20%20%20%20%20%20%20%20%20%20%20%20%20%20%7B%7D%0A%20%20%20%20%20%20%20%20%20%20%20%20%29.addTo%28map_3ca5d6e3d3d848cb8f91db89cab5199a%29%3B%0A%20%20%20%20%20%20%20%20%0A%20%20%20%20%0A%20%20%20%20%20%20%20%20%20%20%20%20var%20marker_3c299701fca548a5bd387637c006d982%20%3D%20L.marker%28%0A%20%20%20%20%20%20%20%20%20%20%20%20%20%20%20%20%5B33.9%2C%20108.5%5D%2C%0A%20%20%20%20%20%20%20%20%20%20%20%20%20%20%20%20%7B%7D%0A%20%20%20%20%20%20%20%20%20%20%20%20%29.addTo%28map_3ca5d6e3d3d848cb8f91db89cab5199a%29%3B%0A%20%20%20%20%20%20%20%20%0A%20%20%20%20%0A%20%20%20%20%20%20%20%20%20%20%20%20var%20marker_1f035a453d9a4025b9e94ec1af2769db%20%3D%20L.marker%28%0A%20%20%20%20%20%20%20%20%20%20%20%20%20%20%20%20%5B31.03%2C%20121.22%5D%2C%0A%20%20%20%20%20%20%20%20%20%20%20%20%20%20%20%20%7B%7D%0A%20%20%20%20%20%20%20%20%20%20%20%20%29.addTo%28map_3ca5d6e3d3d848cb8f91db89cab5199a%29%3B%0A%20%20%20%20%20%20%20%20%0A%20%20%20%20%0A%20%20%20%20%20%20%20%20%20%20%20%20var%20marker_4cf91652469b4c35a0b24407ff09d1d7%20%3D%20L.marker%28%0A%20%20%20%20%20%20%20%20%20%20%20%20%20%20%20%20%5B25.44%2C%2081.85%5D%2C%0A%20%20%20%20%20%20%20%20%20%20%20%20%20%20%20%20%7B%7D%0A%20%20%20%20%20%20%20%20%20%20%20%20%29.addTo%28map_3ca5d6e3d3d848cb8f91db89cab5199a%29%3B%0A%20%20%20%20%20%20%20%20%0A%20%20%20%20%0A%20%20%20%20%20%20%20%20%20%20%20%20var%20marker_54514adff9ed4616922939df6e93e0d6%20%3D%20L.marker%28%0A%20%20%20%20%20%20%20%20%20%20%20%20%20%20%20%20%5B51.52%2C%200.03%5D%2C%0A%20%20%20%20%20%20%20%20%20%20%20%20%20%20%20%20%7B%7D%0A%20%20%20%20%20%20%20%20%20%20%20%20%29.addTo%28map_3ca5d6e3d3d848cb8f91db89cab5199a%29%3B%0A%20%20%20%20%20%20%20%20%0A%20%20%20%20%0A%20%20%20%20%20%20%20%20%20%20%20%20var%20marker_00c849c98d5a447aa71f3d25fe6ed8a5%20%3D%20L.marker%28%0A%20%20%20%20%20%20%20%20%20%20%20%20%20%20%20%20%5B51.52%2C%20-0.04%5D%2C%0A%20%20%20%20%20%20%20%20%20%20%20%20%20%20%20%20%7B%7D%0A%20%20%20%20%20%20%20%20%20%20%20%20%29.addTo%28map_3ca5d6e3d3d848cb8f91db89cab5199a%29%3B%0A%20%20%20%20%20%20%20%20%0A%20%20%20%20%0A%20%20%20%20%20%20%20%20%20%20%20%20var%20marker_82fdf41b3ae544ea8c811a7ea3f169f6%20%3D%20L.marker%28%0A%20%20%20%20%20%20%20%20%20%20%20%20%20%20%20%20%5B51.52%2C%20-0.04%5D%2C%0A%20%20%20%20%20%20%20%20%20%20%20%20%20%20%20%20%7B%7D%0A%20%20%20%20%20%20%20%20%20%20%20%20%29.addTo%28map_3ca5d6e3d3d848cb8f91db89cab5199a%29%3B%0A%20%20%20%20%20%20%20%20%0A%20%20%20%20%0A%20%20%20%20%20%20%20%20%20%20%20%20var%20marker_c953d00e056d4bcaaa5d53f8d4dc949f%20%3D%20L.marker%28%0A%20%20%20%20%20%20%20%20%20%20%20%20%20%20%20%20%5B41.48%2C%20123.25%5D%2C%0A%20%20%20%20%20%20%20%20%20%20%20%20%20%20%20%20%7B%7D%0A%20%20%20%20%20%20%20%20%20%20%20%20%29.addTo%28map_3ca5d6e3d3d848cb8f91db89cab5199a%29%3B%0A%20%20%20%20%20%20%20%20%0A%20%20%20%20%0A%20%20%20%20%20%20%20%20%20%20%20%20var%20marker_b8e690717d33442a9ecf20812d6960ab%20%3D%20L.marker%28%0A%20%20%20%20%20%20%20%20%20%20%20%20%20%20%20%20%5B16.99856%2C%2081.802367%5D%2C%0A%20%20%20%20%20%20%20%20%20%20%20%20%20%20%20%20%7B%7D%0A%20%20%20%20%20%20%20%20%20%20%20%20%29.addTo%28map_3ca5d6e3d3d848cb8f91db89cab5199a%29%3B%0A%20%20%20%20%20%20%20%20%0A%20%20%20%20%0A%20%20%20%20%20%20%20%20%20%20%20%20var%20marker_a83d2ce37eee4d6089e4ebf924fb7560%20%3D%20L.marker%28%0A%20%20%20%20%20%20%20%20%20%20%20%20%20%20%20%20%5B11.6643%2C%2078.146%5D%2C%0A%20%20%20%20%20%20%20%20%20%20%20%20%20%20%20%20%7B%7D%0A%20%20%20%20%20%20%20%20%20%20%20%20%29.addTo%28map_3ca5d6e3d3d848cb8f91db89cab5199a%29%3B%0A%20%20%20%20%20%20%20%20%0A%20%20%20%20%0A%20%20%20%20%20%20%20%20%20%20%20%20var%20marker_32b32715d7404e4ea74c76a239393f69%20%3D%20L.marker%28%0A%20%20%20%20%20%20%20%20%20%20%20%20%20%20%20%20%5B51.52%2C%20-0.04%5D%2C%0A%20%20%20%20%20%20%20%20%20%20%20%20%20%20%20%20%7B%7D%0A%20%20%20%20%20%20%20%20%20%20%20%20%29.addTo%28map_3ca5d6e3d3d848cb8f91db89cab5199a%29%3B%0A%20%20%20%20%20%20%20%20%0A%20%20%20%20%0A%20%20%20%20%20%20%20%20%20%20%20%20var%20marker_44e4cc4cb8ae4cea85f9fbd332263e6f%20%3D%20L.marker%28%0A%20%20%20%20%20%20%20%20%20%20%20%20%20%20%20%20%5B23.02%2C%2072.57%5D%2C%0A%20%20%20%20%20%20%20%20%20%20%20%20%20%20%20%20%7B%7D%0A%20%20%20%20%20%20%20%20%20%20%20%20%29.addTo%28map_3ca5d6e3d3d848cb8f91db89cab5199a%29%3B%0A%20%20%20%20%20%20%20%20%0A%20%20%20%20%0A%20%20%20%20%20%20%20%20%20%20%20%20var%20marker_f0e16030f26c4ccf8ea4751db399db76%20%3D%20L.marker%28%0A%20%20%20%20%20%20%20%20%20%20%20%20%20%20%20%20%5B51.52%2C%20-0.04%5D%2C%0A%20%20%20%20%20%20%20%20%20%20%20%20%20%20%20%20%7B%7D%0A%20%20%20%20%20%20%20%20%20%20%20%20%29.addTo%28map_3ca5d6e3d3d848cb8f91db89cab5199a%29%3B%0A%20%20%20%20%20%20%20%20%0A%20%20%20%20%0A%20%20%20%20%20%20%20%20%20%20%20%20var%20marker_3ebb492582cc453e8e881c387e8bed20%20%3D%20L.marker%28%0A%20%20%20%20%20%20%20%20%20%20%20%20%20%20%20%20%5B51.56%2C%20-0.058%5D%2C%0A%20%20%20%20%20%20%20%20%20%20%20%20%20%20%20%20%7B%7D%0A%20%20%20%20%20%20%20%20%20%20%20%20%29.addTo%28map_3ca5d6e3d3d848cb8f91db89cab5199a%29%3B%0A%20%20%20%20%20%20%20%20%0A%20%20%20%20%0A%20%20%20%20%20%20%20%20%20%20%20%20var%20marker_71d0f26f8da34237ac2acc4fe9dca0f0%20%3D%20L.marker%28%0A%20%20%20%20%20%20%20%20%20%20%20%20%20%20%20%20%5B59.9311%2C%2030.3609%5D%2C%0A%20%20%20%20%20%20%20%20%20%20%20%20%20%20%20%20%7B%7D%0A%20%20%20%20%20%20%20%20%20%20%20%20%29.addTo%28map_3ca5d6e3d3d848cb8f91db89cab5199a%29%3B%0A%20%20%20%20%20%20%20%20%0A%20%20%20%20%0A%20%20%20%20%20%20%20%20%20%20%20%20var%20marker_3bf188c527f5431d8d97bb9d514bef70%20%3D%20L.marker%28%0A%20%20%20%20%20%20%20%20%20%20%20%20%20%20%20%20%5B51.32%2C%200.01%5D%2C%0A%20%20%20%20%20%20%20%20%20%20%20%20%20%20%20%20%7B%7D%0A%20%20%20%20%20%20%20%20%20%20%20%20%29.addTo%28map_3ca5d6e3d3d848cb8f91db89cab5199a%29%3B%0A%20%20%20%20%20%20%20%20%0A%20%20%20%20%0A%20%20%20%20%20%20%20%20%20%20%20%20var%20marker_8eb3dacb29994abb8c6a25bf2d8a9f63%20%3D%20L.marker%28%0A%20%20%20%20%20%20%20%20%20%20%20%20%20%20%20%20%5B10.97%2C%20-74.8%5D%2C%0A%20%20%20%20%20%20%20%20%20%20%20%20%20%20%20%20%7B%7D%0A%20%20%20%20%20%20%20%20%20%20%20%20%29.addTo%28map_3ca5d6e3d3d848cb8f91db89cab5199a%29%3B%0A%20%20%20%20%20%20%20%20%0A%20%20%20%20%0A%20%20%20%20%20%20%20%20%20%20%20%20var%20marker_47f4d6c3088d4bdfb9c15f37962b38f0%20%3D%20L.marker%28%0A%20%20%20%20%20%20%20%20%20%20%20%20%20%20%20%20%5B51.52%2C%20-0.04%5D%2C%0A%20%20%20%20%20%20%20%20%20%20%20%20%20%20%20%20%7B%7D%0A%20%20%20%20%20%20%20%20%20%20%20%20%29.addTo%28map_3ca5d6e3d3d848cb8f91db89cab5199a%29%3B%0A%20%20%20%20%20%20%20%20%0A%20%20%20%20%0A%20%20%20%20%20%20%20%20%20%20%20%20var%20marker_9a257d03a4dd470983695a1ad6ece27a%20%3D%20L.marker%28%0A%20%20%20%20%20%20%20%20%20%20%20%20%20%20%20%20%5B8.17%2C%2077.43%5D%2C%0A%20%20%20%20%20%20%20%20%20%20%20%20%20%20%20%20%7B%7D%0A%20%20%20%20%20%20%20%20%20%20%20%20%29.addTo%28map_3ca5d6e3d3d848cb8f91db89cab5199a%29%3B%0A%20%20%20%20%20%20%20%20%0A%20%20%20%20%0A%20%20%20%20%20%20%20%20%20%20%20%20var%20marker_e11e5c299c9a42178b27f7fc02a78588%20%3D%20L.marker%28%0A%20%20%20%20%20%20%20%20%20%20%20%20%20%20%20%20%5B51.52%2C%20-0.04%5D%2C%0A%20%20%20%20%20%20%20%20%20%20%20%20%20%20%20%20%7B%7D%0A%20%20%20%20%20%20%20%20%20%20%20%20%29.addTo%28map_3ca5d6e3d3d848cb8f91db89cab5199a%29%3B%0A%20%20%20%20%20%20%20%20%0A%20%20%20%20%0A%20%20%20%20%20%20%20%20%20%20%20%20var%20marker_9b8a6ed629564316bc77301af57b3f24%20%3D%20L.marker%28%0A%20%20%20%20%20%20%20%20%20%20%20%20%20%20%20%20%5B11.09%2C%2076.94%5D%2C%0A%20%20%20%20%20%20%20%20%20%20%20%20%20%20%20%20%7B%7D%0A%20%20%20%20%20%20%20%20%20%20%20%20%29.addTo%28map_3ca5d6e3d3d848cb8f91db89cab5199a%29%3B%0A%20%20%20%20%20%20%20%20%0A%20%20%20%20%0A%20%20%20%20%20%20%20%20%20%20%20%20var%20marker_ab6388648f2049388e01dcd6da5023b8%20%3D%20L.marker%28%0A%20%20%20%20%20%20%20%20%20%20%20%20%20%20%20%20%5B19.42%2C%2072.81%5D%2C%0A%20%20%20%20%20%20%20%20%20%20%20%20%20%20%20%20%7B%7D%0A%20%20%20%20%20%20%20%20%20%20%20%20%29.addTo%28map_3ca5d6e3d3d848cb8f91db89cab5199a%29%3B%0A%20%20%20%20%20%20%20%20%0A%20%20%20%20%0A%20%20%20%20%20%20%20%20%20%20%20%20var%20marker_dea99345691b4eb69c15315e331c1ba4%20%3D%20L.marker%28%0A%20%20%20%20%20%20%20%20%20%20%20%20%20%20%20%20%5B25.665325%2C%2078.460938%5D%2C%0A%20%20%20%20%20%20%20%20%20%20%20%20%20%20%20%20%7B%7D%0A%20%20%20%20%20%20%20%20%20%20%20%20%29.addTo%28map_3ca5d6e3d3d848cb8f91db89cab5199a%29%3B%0A%20%20%20%20%20%20%20%20%0A%20%20%20%20%0A%20%20%20%20%20%20%20%20%20%20%20%20var%20marker_91e6198a3d744ce58bbfd8d86ddaf79c%20%3D%20L.marker%28%0A%20%20%20%20%20%20%20%20%20%20%20%20%20%20%20%20%5B51.526%2C%20-0.056%5D%2C%0A%20%20%20%20%20%20%20%20%20%20%20%20%20%20%20%20%7B%7D%0A%20%20%20%20%20%20%20%20%20%20%20%20%29.addTo%28map_3ca5d6e3d3d848cb8f91db89cab5199a%29%3B%0A%20%20%20%20%20%20%20%20%0A%20%20%20%20%0A%20%20%20%20%20%20%20%20%20%20%20%20var%20marker_5f0732b44797404eb57c20e6d9967bc9%20%3D%20L.marker%28%0A%20%20%20%20%20%20%20%20%20%20%20%20%20%20%20%20%5B51.56%2C%20-0.16%5D%2C%0A%20%20%20%20%20%20%20%20%20%20%20%20%20%20%20%20%7B%7D%0A%20%20%20%20%20%20%20%20%20%20%20%20%29.addTo%28map_3ca5d6e3d3d848cb8f91db89cab5199a%29%3B%0A%20%20%20%20%20%20%20%20%0A%20%20%20%20%0A%20%20%20%20%20%20%20%20%20%20%20%20var%20marker_02bafa25b3e54f53951231c49790130f%20%3D%20L.marker%28%0A%20%20%20%20%20%20%20%20%20%20%20%20%20%20%20%20%5B51.6242%2C%200.0604%5D%2C%0A%20%20%20%20%20%20%20%20%20%20%20%20%20%20%20%20%7B%7D%0A%20%20%20%20%20%20%20%20%20%20%20%20%29.addTo%28map_3ca5d6e3d3d848cb8f91db89cab5199a%29%3B%0A%20%20%20%20%20%20%20%20%0A%20%20%20%20%0A%20%20%20%20%20%20%20%20%20%20%20%20var%20marker_91c8f7a2f5664877966966fdc81a88a3%20%3D%20L.marker%28%0A%20%20%20%20%20%20%20%20%20%20%20%20%20%20%20%20%5B34.16%2C%20108.95%5D%2C%0A%20%20%20%20%20%20%20%20%20%20%20%20%20%20%20%20%7B%7D%0A%20%20%20%20%20%20%20%20%20%20%20%20%29.addTo%28map_3ca5d6e3d3d848cb8f91db89cab5199a%29%3B%0A%20%20%20%20%20%20%20%20%0A%20%20%20%20%0A%20%20%20%20%20%20%20%20%20%20%20%20var%20marker_bc05e314a2f141acbc37b4dca2cdb3c3%20%3D%20L.marker%28%0A%20%20%20%20%20%20%20%20%20%20%20%20%20%20%20%20%5B25.8%2C%2084.12%5D%2C%0A%20%20%20%20%20%20%20%20%20%20%20%20%20%20%20%20%7B%7D%0A%20%20%20%20%20%20%20%20%20%20%20%20%29.addTo%28map_3ca5d6e3d3d848cb8f91db89cab5199a%29%3B%0A%20%20%20%20%20%20%20%20%0A%20%20%20%20%0A%20%20%20%20%20%20%20%20%20%20%20%20var%20marker_a70acd603a67452c99ec684a3bdc1342%20%3D%20L.marker%28%0A%20%20%20%20%20%20%20%20%20%20%20%20%20%20%20%20%5B41.3775%2C%2064.5853%5D%2C%0A%20%20%20%20%20%20%20%20%20%20%20%20%20%20%20%20%7B%7D%0A%20%20%20%20%20%20%20%20%20%20%20%20%29.addTo%28map_3ca5d6e3d3d848cb8f91db89cab5199a%29%3B%0A%20%20%20%20%20%20%20%20%0A%20%20%20%20%0A%20%20%20%20%20%20%20%20%20%20%20%20var%20marker_1bddc370e8b54c828e055b835655f14e%20%3D%20L.marker%28%0A%20%20%20%20%20%20%20%20%20%20%20%20%20%20%20%20%5B51.51%2C%200.3%5D%2C%0A%20%20%20%20%20%20%20%20%20%20%20%20%20%20%20%20%7B%7D%0A%20%20%20%20%20%20%20%20%20%20%20%20%29.addTo%28map_3ca5d6e3d3d848cb8f91db89cab5199a%29%3B%0A%20%20%20%20%20%20%20%20%0A%20%20%20%20%0A%20%20%20%20%20%20%20%20%20%20%20%20var%20marker_33d5492062a9433ab6fdfdddb4a4c72f%20%3D%20L.marker%28%0A%20%20%20%20%20%20%20%20%20%20%20%20%20%20%20%20%5B6.93%2C%2079.86%5D%2C%0A%20%20%20%20%20%20%20%20%20%20%20%20%20%20%20%20%7B%7D%0A%20%20%20%20%20%20%20%20%20%20%20%20%29.addTo%28map_3ca5d6e3d3d848cb8f91db89cab5199a%29%3B%0A%20%20%20%20%20%20%20%20%0A%20%20%20%20%0A%20%20%20%20%20%20%20%20%20%20%20%20var%20marker_100cc8ef75b946bf8439e3bca52cd9d0%20%3D%20L.marker%28%0A%20%20%20%20%20%20%20%20%20%20%20%20%20%20%20%20%5B51.52%2C%20-0.04%5D%2C%0A%20%20%20%20%20%20%20%20%20%20%20%20%20%20%20%20%7B%7D%0A%20%20%20%20%20%20%20%20%20%20%20%20%29.addTo%28map_3ca5d6e3d3d848cb8f91db89cab5199a%29%3B%0A%20%20%20%20%20%20%20%20%0A%20%20%20%20%0A%20%20%20%20%20%20%20%20%20%20%20%20var%20marker_17d9790565be4e4f80555ae8784180b4%20%3D%20L.marker%28%0A%20%20%20%20%20%20%20%20%20%20%20%20%20%20%20%20%5B17.47%2C%2078.72%5D%2C%0A%20%20%20%20%20%20%20%20%20%20%20%20%20%20%20%20%7B%7D%0A%20%20%20%20%20%20%20%20%20%20%20%20%29.addTo%28map_3ca5d6e3d3d848cb8f91db89cab5199a%29%3B%0A%20%20%20%20%20%20%20%20%0A%20%20%20%20%0A%20%20%20%20%20%20%20%20%20%20%20%20var%20marker_54710a86d4834a7ba2cfa5a2bf9831e9%20%3D%20L.marker%28%0A%20%20%20%20%20%20%20%20%20%20%20%20%20%20%20%20%5B13.34%2C%2074.74%5D%2C%0A%20%20%20%20%20%20%20%20%20%20%20%20%20%20%20%20%7B%7D%0A%20%20%20%20%20%20%20%20%20%20%20%20%29.addTo%28map_3ca5d6e3d3d848cb8f91db89cab5199a%29%3B%0A%20%20%20%20%20%20%20%20%0A%20%20%20%20%0A%20%20%20%20%20%20%20%20%20%20%20%20var%20marker_2d04cbb94dcd472195be7ae5a2264659%20%3D%20L.marker%28%0A%20%20%20%20%20%20%20%20%20%20%20%20%20%20%20%20%5B34.25%2C%20108.94%5D%2C%0A%20%20%20%20%20%20%20%20%20%20%20%20%20%20%20%20%7B%7D%0A%20%20%20%20%20%20%20%20%20%20%20%20%29.addTo%28map_3ca5d6e3d3d848cb8f91db89cab5199a%29%3B%0A%20%20%20%20%20%20%20%20%0A%20%20%20%20%0A%20%20%20%20%20%20%20%20%20%20%20%20var%20marker_4b6aefad96bb4ba299029b18153e6e72%20%3D%20L.marker%28%0A%20%20%20%20%20%20%20%20%20%20%20%20%20%20%20%20%5B51.565%2C%200.0088%5D%2C%0A%20%20%20%20%20%20%20%20%20%20%20%20%20%20%20%20%7B%7D%0A%20%20%20%20%20%20%20%20%20%20%20%20%29.addTo%28map_3ca5d6e3d3d848cb8f91db89cab5199a%29%3B%0A%20%20%20%20%20%20%20%20%0A%20%20%20%20%0A%20%20%20%20%20%20%20%20%20%20%20%20var%20marker_3db76c55131a4ec790853afcc175bba7%20%3D%20L.marker%28%0A%20%20%20%20%20%20%20%20%20%20%20%20%20%20%20%20%5B18.5204%2C%2073.8567%5D%2C%0A%20%20%20%20%20%20%20%20%20%20%20%20%20%20%20%20%7B%7D%0A%20%20%20%20%20%20%20%20%20%20%20%20%29.addTo%28map_3ca5d6e3d3d848cb8f91db89cab5199a%29%3B%0A%20%20%20%20%20%20%20%20%0A%20%20%20%20%0A%20%20%20%20%20%20%20%20%20%20%20%20var%20marker_927d1c84f7e54e38b7227bd58a2eeb69%20%3D%20L.marker%28%0A%20%20%20%20%20%20%20%20%20%20%20%20%20%20%20%20%5B51.55%2C%201.78%5D%2C%0A%20%20%20%20%20%20%20%20%20%20%20%20%20%20%20%20%7B%7D%0A%20%20%20%20%20%20%20%20%20%20%20%20%29.addTo%28map_3ca5d6e3d3d848cb8f91db89cab5199a%29%3B%0A%20%20%20%20%20%20%20%20%0A%20%20%20%20%0A%20%20%20%20%20%20%20%20%20%20%20%20var%20marker_581fec39a0b140c3aa771ab696e17faa%20%3D%20L.marker%28%0A%20%20%20%20%20%20%20%20%20%20%20%20%20%20%20%20%5B12.9716%2C%2077.5946%5D%2C%0A%20%20%20%20%20%20%20%20%20%20%20%20%20%20%20%20%7B%7D%0A%20%20%20%20%20%20%20%20%20%20%20%20%29.addTo%28map_3ca5d6e3d3d848cb8f91db89cab5199a%29%3B%0A%20%20%20%20%20%20%20%20%0A%20%20%20%20%0A%20%20%20%20%20%20%20%20%20%20%20%20var%20marker_db4403c411ac4c8c99d0bbed36ca719b%20%3D%20L.marker%28%0A%20%20%20%20%20%20%20%20%20%20%20%20%20%20%20%20%5B51.54%2C%20-0.005%5D%2C%0A%20%20%20%20%20%20%20%20%20%20%20%20%20%20%20%20%7B%7D%0A%20%20%20%20%20%20%20%20%20%20%20%20%29.addTo%28map_3ca5d6e3d3d848cb8f91db89cab5199a%29%3B%0A%20%20%20%20%20%20%20%20%0A%20%20%20%20%0A%20%20%20%20%20%20%20%20%20%20%20%20var%20marker_1c6a3f2ffecb4b44949164350d8e8d7d%20%3D%20L.marker%28%0A%20%20%20%20%20%20%20%20%20%20%20%20%20%20%20%20%5B32.4279%2C%2053.688%5D%2C%0A%20%20%20%20%20%20%20%20%20%20%20%20%20%20%20%20%7B%7D%0A%20%20%20%20%20%20%20%20%20%20%20%20%29.addTo%28map_3ca5d6e3d3d848cb8f91db89cab5199a%29%3B%0A%20%20%20%20%20%20%20%20%0A%20%20%20%20%0A%20%20%20%20%20%20%20%20%20%20%20%20var%20marker_91f41edd1727455b9d40166eba674eea%20%3D%20L.marker%28%0A%20%20%20%20%20%20%20%20%20%20%20%20%20%20%20%20%5B18.4926%2C%2073.8757%5D%2C%0A%20%20%20%20%20%20%20%20%20%20%20%20%20%20%20%20%7B%7D%0A%20%20%20%20%20%20%20%20%20%20%20%20%29.addTo%28map_3ca5d6e3d3d848cb8f91db89cab5199a%29%3B%0A%20%20%20%20%20%20%20%20%0A%20%20%20%20%0A%20%20%20%20%20%20%20%20%20%20%20%20var%20marker_1db563ca309c4d5e8cf4548a924fabc5%20%3D%20L.marker%28%0A%20%20%20%20%20%20%20%20%20%20%20%20%20%20%20%20%5B55.598%2C%2026.353%5D%2C%0A%20%20%20%20%20%20%20%20%20%20%20%20%20%20%20%20%7B%7D%0A%20%20%20%20%20%20%20%20%20%20%20%20%29.addTo%28map_3ca5d6e3d3d848cb8f91db89cab5199a%29%3B%0A%20%20%20%20%20%20%20%20%0A%20%20%20%20%0A%20%20%20%20%20%20%20%20%20%20%20%20var%20marker_0bba7dfc2c264d288b56f627ba4fc3d7%20%3D%20L.marker%28%0A%20%20%20%20%20%20%20%20%20%20%20%20%20%20%20%20%5B51.52%2C%20-0.02%5D%2C%0A%20%20%20%20%20%20%20%20%20%20%20%20%20%20%20%20%7B%7D%0A%20%20%20%20%20%20%20%20%20%20%20%20%29.addTo%28map_3ca5d6e3d3d848cb8f91db89cab5199a%29%3B%0A%20%20%20%20%20%20%20%20%0A%20%20%20%20%0A%20%20%20%20%20%20%20%20%20%20%20%20var%20marker_3031a42d8a0549c4b51b747b33dac9a8%20%3D%20L.marker%28%0A%20%20%20%20%20%20%20%20%20%20%20%20%20%20%20%20%5B13.06%2C%2080.23%5D%2C%0A%20%20%20%20%20%20%20%20%20%20%20%20%20%20%20%20%7B%7D%0A%20%20%20%20%20%20%20%20%20%20%20%20%29.addTo%28map_3ca5d6e3d3d848cb8f91db89cab5199a%29%3B%0A%20%20%20%20%20%20%20%20%0A%20%20%20%20%0A%20%20%20%20%20%20%20%20%20%20%20%20var%20marker_3240a034557a461ca7f7067c1b4ff1dc%20%3D%20L.marker%28%0A%20%20%20%20%20%20%20%20%20%20%20%20%20%20%20%20%5B50.8%2C%20-1.8%5D%2C%0A%20%20%20%20%20%20%20%20%20%20%20%20%20%20%20%20%7B%7D%0A%20%20%20%20%20%20%20%20%20%20%20%20%29.addTo%28map_3ca5d6e3d3d848cb8f91db89cab5199a%29%3B%0A%20%20%20%20%20%20%20%20%0A%20%20%20%20%0A%20%20%20%20%20%20%20%20%20%20%20%20var%20marker_048372ab227d4b72a60a117d4648be9f%20%3D%20L.marker%28%0A%20%20%20%20%20%20%20%20%20%20%20%20%20%20%20%20%5B51.52%2C%20-0.04%5D%2C%0A%20%20%20%20%20%20%20%20%20%20%20%20%20%20%20%20%7B%7D%0A%20%20%20%20%20%20%20%20%20%20%20%20%29.addTo%28map_3ca5d6e3d3d848cb8f91db89cab5199a%29%3B%0A%20%20%20%20%20%20%20%20%0A%20%20%20%20%0A%20%20%20%20%20%20%20%20%20%20%20%20var%20marker_9d429791e46641bda72f091382e8ad11%20%3D%20L.marker%28%0A%20%20%20%20%20%20%20%20%20%20%20%20%20%20%20%20%5B18.52%2C%2073.85%5D%2C%0A%20%20%20%20%20%20%20%20%20%20%20%20%20%20%20%20%7B%7D%0A%20%20%20%20%20%20%20%20%20%20%20%20%29.addTo%28map_3ca5d6e3d3d848cb8f91db89cab5199a%29%3B%0A%20%20%20%20%20%20%20%20%0A%20%20%20%20%0A%20%20%20%20%20%20%20%20%20%20%20%20var%20marker_8fecbb9f5fc54a9aba6e44fd0aa49680%20%3D%20L.marker%28%0A%20%20%20%20%20%20%20%20%20%20%20%20%20%20%20%20%5B51.39%2C%200.14%5D%2C%0A%20%20%20%20%20%20%20%20%20%20%20%20%20%20%20%20%7B%7D%0A%20%20%20%20%20%20%20%20%20%20%20%20%29.addTo%28map_3ca5d6e3d3d848cb8f91db89cab5199a%29%3B%0A%20%20%20%20%20%20%20%20%0A%20%20%20%20%0A%20%20%20%20%20%20%20%20%20%20%20%20var%20marker_8a1df49336d64530afe23a8e2d1f89fc%20%3D%20L.marker%28%0A%20%20%20%20%20%20%20%20%20%20%20%20%20%20%20%20%5B23.69%2C%20120.96%5D%2C%0A%20%20%20%20%20%20%20%20%20%20%20%20%20%20%20%20%7B%7D%0A%20%20%20%20%20%20%20%20%20%20%20%20%29.addTo%28map_3ca5d6e3d3d848cb8f91db89cab5199a%29%3B%0A%20%20%20%20%20%20%20%20%0A%20%20%20%20%0A%20%20%20%20%20%20%20%20%20%20%20%20var%20marker_42aac0699a3e41e2bb5933c72090f573%20%3D%20L.marker%28%0A%20%20%20%20%20%20%20%20%20%20%20%20%20%20%20%20%5B19.01%2C%2073.01%5D%2C%0A%20%20%20%20%20%20%20%20%20%20%20%20%20%20%20%20%7B%7D%0A%20%20%20%20%20%20%20%20%20%20%20%20%29.addTo%28map_3ca5d6e3d3d848cb8f91db89cab5199a%29%3B%0A%20%20%20%20%20%20%20%20%0A%20%20%20%20%0A%20%20%20%20%20%20%20%20%20%20%20%20var%20marker_dc0637deb534450f8741388746c208fb%20%3D%20L.marker%28%0A%20%20%20%20%20%20%20%20%20%20%20%20%20%20%20%20%5B25.05%2C%20119.3%5D%2C%0A%20%20%20%20%20%20%20%20%20%20%20%20%20%20%20%20%7B%7D%0A%20%20%20%20%20%20%20%20%20%20%20%20%29.addTo%28map_3ca5d6e3d3d848cb8f91db89cab5199a%29%3B%0A%20%20%20%20%20%20%20%20%0A%20%20%20%20%0A%20%20%20%20%20%20%20%20%20%20%20%20var%20marker_223dc87657ca4c1f8577e4db1ce2ad7f%20%3D%20L.marker%28%0A%20%20%20%20%20%20%20%20%20%20%20%20%20%20%20%20%5B51.8%2C%200.63%5D%2C%0A%20%20%20%20%20%20%20%20%20%20%20%20%20%20%20%20%7B%7D%0A%20%20%20%20%20%20%20%20%20%20%20%20%29.addTo%28map_3ca5d6e3d3d848cb8f91db89cab5199a%29%3B%0A%20%20%20%20%20%20%20%20%0A%20%20%20%20%0A%20%20%20%20%20%20%20%20%20%20%20%20var%20marker_bf426068a27c4c72a1479bca4250ae4a%20%3D%20L.marker%28%0A%20%20%20%20%20%20%20%20%20%20%20%20%20%20%20%20%5B51.53%2C%200.03%5D%2C%0A%20%20%20%20%20%20%20%20%20%20%20%20%20%20%20%20%7B%7D%0A%20%20%20%20%20%20%20%20%20%20%20%20%29.addTo%28map_3ca5d6e3d3d848cb8f91db89cab5199a%29%3B%0A%20%20%20%20%20%20%20%20%0A%20%20%20%20%0A%20%20%20%20%20%20%20%20%20%20%20%20var%20marker_7d3e9093911642d98f1a91a4599402a2%20%3D%20L.marker%28%0A%20%20%20%20%20%20%20%20%20%20%20%20%20%20%20%20%5B51.52%2C%20-0.04%5D%2C%0A%20%20%20%20%20%20%20%20%20%20%20%20%20%20%20%20%7B%7D%0A%20%20%20%20%20%20%20%20%20%20%20%20%29.addTo%28map_3ca5d6e3d3d848cb8f91db89cab5199a%29%3B%0A%20%20%20%20%20%20%20%20%0A%20%20%20%20%0A%20%20%20%20%20%20%20%20%20%20%20%20var%20marker_21326f2676de45ee934b3e70bd8aa062%20%3D%20L.marker%28%0A%20%20%20%20%20%20%20%20%20%20%20%20%20%20%20%20%5B22.57%2C%2088.41%5D%2C%0A%20%20%20%20%20%20%20%20%20%20%20%20%20%20%20%20%7B%7D%0A%20%20%20%20%20%20%20%20%20%20%20%20%29.addTo%28map_3ca5d6e3d3d848cb8f91db89cab5199a%29%3B%0A%20%20%20%20%20%20%20%20%0A%20%20%20%20%0A%20%20%20%20%20%20%20%20%20%20%20%20var%20marker_c995cce979cf4100a6faca38a090dc41%20%3D%20L.marker%28%0A%20%20%20%20%20%20%20%20%20%20%20%20%20%20%20%20%5B40.6%2C%20-122.4%5D%2C%0A%20%20%20%20%20%20%20%20%20%20%20%20%20%20%20%20%7B%7D%0A%20%20%20%20%20%20%20%20%20%20%20%20%29.addTo%28map_3ca5d6e3d3d848cb8f91db89cab5199a%29%3B%0A%20%20%20%20%20%20%20%20%0A%20%20%20%20%0A%20%20%20%20%20%20%20%20%20%20%20%20var%20marker_4905724628fd4595ac3983aa53d1986a%20%3D%20L.marker%28%0A%20%20%20%20%20%20%20%20%20%20%20%20%20%20%20%20%5B38.83%2C%20-104.82%5D%2C%0A%20%20%20%20%20%20%20%20%20%20%20%20%20%20%20%20%7B%7D%0A%20%20%20%20%20%20%20%20%20%20%20%20%29.addTo%28map_3ca5d6e3d3d848cb8f91db89cab5199a%29%3B%0A%20%20%20%20%20%20%20%20%0A%20%20%20%20%0A%20%20%20%20%20%20%20%20%20%20%20%20var%20marker_e6b9655689a44207ad6a5ef63430b54d%20%3D%20L.marker%28%0A%20%20%20%20%20%20%20%20%20%20%20%20%20%20%20%20%5B10.7905%2C%2078.7047%5D%2C%0A%20%20%20%20%20%20%20%20%20%20%20%20%20%20%20%20%7B%7D%0A%20%20%20%20%20%20%20%20%20%20%20%20%29.addTo%28map_3ca5d6e3d3d848cb8f91db89cab5199a%29%3B%0A%20%20%20%20%20%20%20%20%0A%20%20%20%20%0A%20%20%20%20%20%20%20%20%20%20%20%20var%20marker_553dc673d0714f84b931c806765a321b%20%3D%20L.marker%28%0A%20%20%20%20%20%20%20%20%20%20%20%20%20%20%20%20%5B51.58%2C%20-0.28%5D%2C%0A%20%20%20%20%20%20%20%20%20%20%20%20%20%20%20%20%7B%7D%0A%20%20%20%20%20%20%20%20%20%20%20%20%29.addTo%28map_3ca5d6e3d3d848cb8f91db89cab5199a%29%3B%0A%20%20%20%20%20%20%20%20%0A%20%20%20%20%0A%20%20%20%20%20%20%20%20%20%20%20%20var%20marker_70c3b9fa3c5f43718330494de7a9461e%20%3D%20L.marker%28%0A%20%20%20%20%20%20%20%20%20%20%20%20%20%20%20%20%5B22.28%2C%20114.15%5D%2C%0A%20%20%20%20%20%20%20%20%20%20%20%20%20%20%20%20%7B%7D%0A%20%20%20%20%20%20%20%20%20%20%20%20%29.addTo%28map_3ca5d6e3d3d848cb8f91db89cab5199a%29%3B%0A%20%20%20%20%20%20%20%20%0A%20%20%20%20%0A%20%20%20%20%20%20%20%20%20%20%20%20var%20marker_5fbea07d5d85456ea028167426bd5c85%20%3D%20L.marker%28%0A%20%20%20%20%20%20%20%20%20%20%20%20%20%20%20%20%5B51.0%2C%200.0%5D%2C%0A%20%20%20%20%20%20%20%20%20%20%20%20%20%20%20%20%7B%7D%0A%20%20%20%20%20%20%20%20%20%20%20%20%29.addTo%28map_3ca5d6e3d3d848cb8f91db89cab5199a%29%3B%0A%20%20%20%20%20%20%20%20%0A%20%20%20%20%0A%20%20%20%20%20%20%20%20%20%20%20%20var%20marker_d666fb97c56d47539aa0e97570f1bf02%20%3D%20L.marker%28%0A%20%20%20%20%20%20%20%20%20%20%20%20%20%20%20%20%5B32.71%2C%20113.29%5D%2C%0A%20%20%20%20%20%20%20%20%20%20%20%20%20%20%20%20%7B%7D%0A%20%20%20%20%20%20%20%20%20%20%20%20%29.addTo%28map_3ca5d6e3d3d848cb8f91db89cab5199a%29%3B%0A%20%20%20%20%20%20%20%20%0A%20%20%20%20%0A%20%20%20%20%20%20%20%20%20%20%20%20var%20marker_4c6ca57e7e6146c9ac71830532deef71%20%3D%20L.marker%28%0A%20%20%20%20%20%20%20%20%20%20%20%20%20%20%20%20%5B34.9%2C%20116.4%5D%2C%0A%20%20%20%20%20%20%20%20%20%20%20%20%20%20%20%20%7B%7D%0A%20%20%20%20%20%20%20%20%20%20%20%20%29.addTo%28map_3ca5d6e3d3d848cb8f91db89cab5199a%29%3B%0A%20%20%20%20%20%20%20%20%0A%20%20%20%20%0A%20%20%20%20%20%20%20%20%20%20%20%20var%20marker_50acf8a4c1254474869633c196b63c32%20%3D%20L.marker%28%0A%20%20%20%20%20%20%20%20%20%20%20%20%20%20%20%20%5B51.5%2C%20-0.02%5D%2C%0A%20%20%20%20%20%20%20%20%20%20%20%20%20%20%20%20%7B%7D%0A%20%20%20%20%20%20%20%20%20%20%20%20%29.addTo%28map_3ca5d6e3d3d848cb8f91db89cab5199a%29%3B%0A%20%20%20%20%20%20%20%20%0A%20%20%20%20%0A%20%20%20%20%20%20%20%20%20%20%20%20var%20marker_7dea93274aa04cb09aecba9ff2456dbf%20%3D%20L.marker%28%0A%20%20%20%20%20%20%20%20%20%20%20%20%20%20%20%20%5B35.6%2C%2051.3%5D%2C%0A%20%20%20%20%20%20%20%20%20%20%20%20%20%20%20%20%7B%7D%0A%20%20%20%20%20%20%20%20%20%20%20%20%29.addTo%28map_3ca5d6e3d3d848cb8f91db89cab5199a%29%3B%0A%20%20%20%20%20%20%20%20%0A%20%20%20%20%0A%20%20%20%20%20%20%20%20%20%20%20%20var%20marker_fb789f596bc54b42947ad995057c256e%20%3D%20L.marker%28%0A%20%20%20%20%20%20%20%20%20%20%20%20%20%20%20%20%5B12.97%2C%2077.59%5D%2C%0A%20%20%20%20%20%20%20%20%20%20%20%20%20%20%20%20%7B%7D%0A%20%20%20%20%20%20%20%20%20%20%20%20%29.addTo%28map_3ca5d6e3d3d848cb8f91db89cab5199a%29%3B%0A%20%20%20%20%20%20%20%20%0A%20%20%20%20%0A%20%20%20%20%20%20%20%20%20%20%20%20var%20marker_56005aa81294449298fcc23cd7ea87cc%20%3D%20L.marker%28%0A%20%20%20%20%20%20%20%20%20%20%20%20%20%20%20%20%5B51.52%2C%20-0.04%5D%2C%0A%20%20%20%20%20%20%20%20%20%20%20%20%20%20%20%20%7B%7D%0A%20%20%20%20%20%20%20%20%20%20%20%20%29.addTo%28map_3ca5d6e3d3d848cb8f91db89cab5199a%29%3B%0A%20%20%20%20%20%20%20%20%0A%20%20%20%20%0A%20%20%20%20%20%20%20%20%20%20%20%20var%20marker_948bb800e0bb4f899f61e8797142ae3e%20%3D%20L.marker%28%0A%20%20%20%20%20%20%20%20%20%20%20%20%20%20%20%20%5B51.62%2C%203.94%5D%2C%0A%20%20%20%20%20%20%20%20%20%20%20%20%20%20%20%20%7B%7D%0A%20%20%20%20%20%20%20%20%20%20%20%20%29.addTo%28map_3ca5d6e3d3d848cb8f91db89cab5199a%29%3B%0A%20%20%20%20%20%20%20%20%0A%20%20%20%20%0A%20%20%20%20%20%20%20%20%20%20%20%20var%20marker_a56ad41a9a0a463ebaa5d699d4fe7b2d%20%3D%20L.marker%28%0A%20%20%20%20%20%20%20%20%20%20%20%20%20%20%20%20%5B28.45%2C%2077.02%5D%2C%0A%20%20%20%20%20%20%20%20%20%20%20%20%20%20%20%20%7B%7D%0A%20%20%20%20%20%20%20%20%20%20%20%20%29.addTo%28map_3ca5d6e3d3d848cb8f91db89cab5199a%29%3B%0A%20%20%20%20%20%20%20%20%0A%20%20%20%20%0A%20%20%20%20%20%20%20%20%20%20%20%20var%20marker_a9de015deb974f07a55fe382b1ef300a%20%3D%20L.marker%28%0A%20%20%20%20%20%20%20%20%20%20%20%20%20%20%20%20%5B9.93%2C%2076.26%5D%2C%0A%20%20%20%20%20%20%20%20%20%20%20%20%20%20%20%20%7B%7D%0A%20%20%20%20%20%20%20%20%20%20%20%20%29.addTo%28map_3ca5d6e3d3d848cb8f91db89cab5199a%29%3B%0A%20%20%20%20%20%20%20%20%0A%20%20%20%20%0A%20%20%20%20%20%20%20%20%20%20%20%20var%20marker_6c523fdd9c2443adaa8fec9f166e9561%20%3D%20L.marker%28%0A%20%20%20%20%20%20%20%20%20%20%20%20%20%20%20%20%5B51.496%2C%20-0.014%5D%2C%0A%20%20%20%20%20%20%20%20%20%20%20%20%20%20%20%20%7B%7D%0A%20%20%20%20%20%20%20%20%20%20%20%20%29.addTo%28map_3ca5d6e3d3d848cb8f91db89cab5199a%29%3B%0A%20%20%20%20%20%20%20%20%0A%20%20%20%20%0A%20%20%20%20%20%20%20%20%20%20%20%20var%20marker_de8194d2028a4395878a22b874c0e069%20%3D%20L.marker%28%0A%20%20%20%20%20%20%20%20%20%20%20%20%20%20%20%20%5B17.385%2C%2078.4867%5D%2C%0A%20%20%20%20%20%20%20%20%20%20%20%20%20%20%20%20%7B%7D%0A%20%20%20%20%20%20%20%20%20%20%20%20%29.addTo%28map_3ca5d6e3d3d848cb8f91db89cab5199a%29%3B%0A%20%20%20%20%20%20%20%20%0A%20%20%20%20%0A%20%20%20%20%20%20%20%20%20%20%20%20var%20marker_724b526bdc824e528c0897d201d6022a%20%3D%20L.marker%28%0A%20%20%20%20%20%20%20%20%20%20%20%20%20%20%20%20%5B55.75%2C%2037.62%5D%2C%0A%20%20%20%20%20%20%20%20%20%20%20%20%20%20%20%20%7B%7D%0A%20%20%20%20%20%20%20%20%20%20%20%20%29.addTo%28map_3ca5d6e3d3d848cb8f91db89cab5199a%29%3B%0A%20%20%20%20%20%20%20%20%0A%20%20%20%20%0A%20%20%20%20%20%20%20%20%20%20%20%20var%20marker_993d2e1bd2044108aa574ae1168ccd24%20%3D%20L.marker%28%0A%20%20%20%20%20%20%20%20%20%20%20%20%20%20%20%20%5B47.2575%2C%208.6947%5D%2C%0A%20%20%20%20%20%20%20%20%20%20%20%20%20%20%20%20%7B%7D%0A%20%20%20%20%20%20%20%20%20%20%20%20%29.addTo%28map_3ca5d6e3d3d848cb8f91db89cab5199a%29%3B%0A%20%20%20%20%20%20%20%20%0A%20%20%20%20%0A%20%20%20%20%20%20%20%20%20%20%20%20var%20marker_bec6d02bcba2456b8bac3782f65e52b5%20%3D%20L.marker%28%0A%20%20%20%20%20%20%20%20%20%20%20%20%20%20%20%20%5B51.49104%2C%20-3.18103%5D%2C%0A%20%20%20%20%20%20%20%20%20%20%20%20%20%20%20%20%7B%7D%0A%20%20%20%20%20%20%20%20%20%20%20%20%29.addTo%28map_3ca5d6e3d3d848cb8f91db89cab5199a%29%3B%0A%20%20%20%20%20%20%20%20%0A%20%20%20%20%0A%20%20%20%20%20%20%20%20%20%20%20%20var%20marker_aa4ccb56490843e29198a80f6d4804e4%20%3D%20L.marker%28%0A%20%20%20%20%20%20%20%20%20%20%20%20%20%20%20%20%5B51.563735135501084%2C%200.002%5D%2C%0A%20%20%20%20%20%20%20%20%20%20%20%20%20%20%20%20%7B%7D%0A%20%20%20%20%20%20%20%20%20%20%20%20%29.addTo%28map_3ca5d6e3d3d848cb8f91db89cab5199a%29%3B%0A%20%20%20%20%20%20%20%20%0A%20%20%20%20%0A%20%20%20%20%20%20%20%20%20%20%20%20var%20marker_031a8756be664267aee6f89f0227f202%20%3D%20L.marker%28%0A%20%20%20%20%20%20%20%20%20%20%20%20%20%20%20%20%5B28.7041%2C%2077.1025%5D%2C%0A%20%20%20%20%20%20%20%20%20%20%20%20%20%20%20%20%7B%7D%0A%20%20%20%20%20%20%20%20%20%20%20%20%29.addTo%28map_3ca5d6e3d3d848cb8f91db89cab5199a%29%3B%0A%20%20%20%20%20%20%20%20%0A%20%20%20%20%0A%20%20%20%20%20%20%20%20%20%20%20%20var%20marker_3b10d896feab492bb7aa9feb923ac97a%20%3D%20L.marker%28%0A%20%20%20%20%20%20%20%20%20%20%20%20%20%20%20%20%5B51.58%2C%20-0.22%5D%2C%0A%20%20%20%20%20%20%20%20%20%20%20%20%20%20%20%20%7B%7D%0A%20%20%20%20%20%20%20%20%20%20%20%20%29.addTo%28map_3ca5d6e3d3d848cb8f91db89cab5199a%29%3B%0A%20%20%20%20%20%20%20%20%0A%20%20%20%20%0A%20%20%20%20%20%20%20%20%20%20%20%20var%20marker_891558ff499b4df3abdb06f299da640c%20%3D%20L.marker%28%0A%20%20%20%20%20%20%20%20%20%20%20%20%20%20%20%20%5B-33.44%2C%20-70.67%5D%2C%0A%20%20%20%20%20%20%20%20%20%20%20%20%20%20%20%20%7B%7D%0A%20%20%20%20%20%20%20%20%20%20%20%20%29.addTo%28map_3ca5d6e3d3d848cb8f91db89cab5199a%29%3B%0A%20%20%20%20%20%20%20%20%0A%20%20%20%20%0A%20%20%20%20%20%20%20%20%20%20%20%20var%20marker_677de5e7f76e4b11a6c670cfb862f11e%20%3D%20L.marker%28%0A%20%20%20%20%20%20%20%20%20%20%20%20%20%20%20%20%5B24.71%2C%2046.67%5D%2C%0A%20%20%20%20%20%20%20%20%20%20%20%20%20%20%20%20%7B%7D%0A%20%20%20%20%20%20%20%20%20%20%20%20%29.addTo%28map_3ca5d6e3d3d848cb8f91db89cab5199a%29%3B%0A%20%20%20%20%20%20%20%20%0A%20%20%20%20%0A%20%20%20%20%20%20%20%20%20%20%20%20var%20marker_3a7bb1d1b44a47dd8712bffb540de30b%20%3D%20L.marker%28%0A%20%20%20%20%20%20%20%20%20%20%20%20%20%20%20%20%5B28.59%2C%2077.16%5D%2C%0A%20%20%20%20%20%20%20%20%20%20%20%20%20%20%20%20%7B%7D%0A%20%20%20%20%20%20%20%20%20%20%20%20%29.addTo%28map_3ca5d6e3d3d848cb8f91db89cab5199a%29%3B%0A%20%20%20%20%20%20%20%20%0A%20%20%20%20%0A%20%20%20%20%20%20%20%20%20%20%20%20var%20marker_a458b4c5432943a99d6daeaaa25f81e0%20%3D%20L.marker%28%0A%20%20%20%20%20%20%20%20%20%20%20%20%20%20%20%20%5B9.9312%2C%2076.2673%5D%2C%0A%20%20%20%20%20%20%20%20%20%20%20%20%20%20%20%20%7B%7D%0A%20%20%20%20%20%20%20%20%20%20%20%20%29.addTo%28map_3ca5d6e3d3d848cb8f91db89cab5199a%29%3B%0A%20%20%20%20%20%20%20%20%0A%20%20%20%20%0A%20%20%20%20%20%20%20%20%20%20%20%20var%20marker_41d23f06aa084078a9143850d2face64%20%3D%20L.marker%28%0A%20%20%20%20%20%20%20%20%20%20%20%20%20%20%20%20%5B51.52%2C%20-0.04%5D%2C%0A%20%20%20%20%20%20%20%20%20%20%20%20%20%20%20%20%7B%7D%0A%20%20%20%20%20%20%20%20%20%20%20%20%29.addTo%28map_3ca5d6e3d3d848cb8f91db89cab5199a%29%3B%0A%20%20%20%20%20%20%20%20%0A%20%20%20%20%0A%20%20%20%20%20%20%20%20%20%20%20%20var%20marker_f631418b7e64467eb1e667081829c9d8%20%3D%20L.marker%28%0A%20%20%20%20%20%20%20%20%20%20%20%20%20%20%20%20%5B13.08%2C%2080.27%5D%2C%0A%20%20%20%20%20%20%20%20%20%20%20%20%20%20%20%20%7B%7D%0A%20%20%20%20%20%20%20%20%20%20%20%20%29.addTo%28map_3ca5d6e3d3d848cb8f91db89cab5199a%29%3B%0A%20%20%20%20%20%20%20%20%0A%20%20%20%20%0A%20%20%20%20%20%20%20%20%20%20%20%20var%20marker_38c543b577bb4739927d9eb2eec7f295%20%3D%20L.marker%28%0A%20%20%20%20%20%20%20%20%20%20%20%20%20%20%20%20%5B12.29%2C%2076.63%5D%2C%0A%20%20%20%20%20%20%20%20%20%20%20%20%20%20%20%20%7B%7D%0A%20%20%20%20%20%20%20%20%20%20%20%20%29.addTo%28map_3ca5d6e3d3d848cb8f91db89cab5199a%29%3B%0A%20%20%20%20%20%20%20%20%0A%20%20%20%20%0A%20%20%20%20%20%20%20%20%20%20%20%20var%20marker_33040b19732f467595c9ac11f3450fa9%20%3D%20L.marker%28%0A%20%20%20%20%20%20%20%20%20%20%20%20%20%20%20%20%5B51.58%2C%200.07%5D%2C%0A%20%20%20%20%20%20%20%20%20%20%20%20%20%20%20%20%7B%7D%0A%20%20%20%20%20%20%20%20%20%20%20%20%29.addTo%28map_3ca5d6e3d3d848cb8f91db89cab5199a%29%3B%0A%20%20%20%20%20%20%20%20%0A%20%20%20%20%0A%20%20%20%20%20%20%20%20%20%20%20%20var%20marker_57eac0c085344c4a868f8e1a86712a05%20%3D%20L.marker%28%0A%20%20%20%20%20%20%20%20%20%20%20%20%20%20%20%20%5B51.51%2C%20-0.06%5D%2C%0A%20%20%20%20%20%20%20%20%20%20%20%20%20%20%20%20%7B%7D%0A%20%20%20%20%20%20%20%20%20%20%20%20%29.addTo%28map_3ca5d6e3d3d848cb8f91db89cab5199a%29%3B%0A%20%20%20%20%20%20%20%20%0A%20%20%20%20%0A%20%20%20%20%20%20%20%20%20%20%20%20var%20marker_12c6b1a71155497086b4df23d034aab2%20%3D%20L.marker%28%0A%20%20%20%20%20%20%20%20%20%20%20%20%20%20%20%20%5B51.48%2C%200.0%5D%2C%0A%20%20%20%20%20%20%20%20%20%20%20%20%20%20%20%20%7B%7D%0A%20%20%20%20%20%20%20%20%20%20%20%20%29.addTo%28map_3ca5d6e3d3d848cb8f91db89cab5199a%29%3B%0A%20%20%20%20%20%20%20%20%0A%20%20%20%20%0A%20%20%20%20%20%20%20%20%20%20%20%20var%20marker_fdd807d1e3454aa18fc63da50f428768%20%3D%20L.marker%28%0A%20%20%20%20%20%20%20%20%20%20%20%20%20%20%20%20%5B51.52%2C%20-0.04%5D%2C%0A%20%20%20%20%20%20%20%20%20%20%20%20%20%20%20%20%7B%7D%0A%20%20%20%20%20%20%20%20%20%20%20%20%29.addTo%28map_3ca5d6e3d3d848cb8f91db89cab5199a%29%3B%0A%20%20%20%20%20%20%20%20%0A%20%20%20%20%0A%20%20%20%20%20%20%20%20%20%20%20%20var%20marker_d93d12bb78e44bd2b3485288a3778b73%20%3D%20L.marker%28%0A%20%20%20%20%20%20%20%20%20%20%20%20%20%20%20%20%5B51.5125943%2C%20-0.2190144%5D%2C%0A%20%20%20%20%20%20%20%20%20%20%20%20%20%20%20%20%7B%7D%0A%20%20%20%20%20%20%20%20%20%20%20%20%29.addTo%28map_3ca5d6e3d3d848cb8f91db89cab5199a%29%3B%0A%20%20%20%20%20%20%20%20%0A%20%20%20%20%0A%20%20%20%20%20%20%20%20%20%20%20%20var%20marker_81d2c13e69e343229e1accc3d04897fd%20%3D%20L.marker%28%0A%20%20%20%20%20%20%20%20%20%20%20%20%20%20%20%20%5B51.51%2C%20-0.11%5D%2C%0A%20%20%20%20%20%20%20%20%20%20%20%20%20%20%20%20%7B%7D%0A%20%20%20%20%20%20%20%20%20%20%20%20%29.addTo%28map_3ca5d6e3d3d848cb8f91db89cab5199a%29%3B%0A%20%20%20%20%20%20%20%20%0A%20%20%20%20%0A%20%20%20%20%20%20%20%20%20%20%20%20var%20marker_ba371047784b44ff8fccf42bfe3fbf60%20%3D%20L.marker%28%0A%20%20%20%20%20%20%20%20%20%20%20%20%20%20%20%20%5B51.52%2C%20-0.04%5D%2C%0A%20%20%20%20%20%20%20%20%20%20%20%20%20%20%20%20%7B%7D%0A%20%20%20%20%20%20%20%20%20%20%20%20%29.addTo%28map_3ca5d6e3d3d848cb8f91db89cab5199a%29%3B%0A%20%20%20%20%20%20%20%20%0A%20%20%20%20%0A%20%20%20%20%20%20%20%20%20%20%20%20var%20marker_f56dc5ac71914b0da756d7efb01e5632%20%3D%20L.marker%28%0A%20%20%20%20%20%20%20%20%20%20%20%20%20%20%20%20%5B19.86718%2C%2075.36484%5D%2C%0A%20%20%20%20%20%20%20%20%20%20%20%20%20%20%20%20%7B%7D%0A%20%20%20%20%20%20%20%20%20%20%20%20%29.addTo%28map_3ca5d6e3d3d848cb8f91db89cab5199a%29%3B%0A%20%20%20%20%20%20%20%20%0A%20%20%20%20%0A%20%20%20%20%20%20%20%20%20%20%20%20var%20marker_7883561a2e7f4a77a3214ff13cead1e0%20%3D%20L.marker%28%0A%20%20%20%20%20%20%20%20%20%20%20%20%20%20%20%20%5B51.56%2C%20-0.28%5D%2C%0A%20%20%20%20%20%20%20%20%20%20%20%20%20%20%20%20%7B%7D%0A%20%20%20%20%20%20%20%20%20%20%20%20%29.addTo%28map_3ca5d6e3d3d848cb8f91db89cab5199a%29%3B%0A%20%20%20%20%20%20%20%20%0A%20%20%20%20%0A%20%20%20%20%20%20%20%20%20%20%20%20var%20marker_b99181c00d9443cbb0213153c63df71f%20%3D%20L.marker%28%0A%20%20%20%20%20%20%20%20%20%20%20%20%20%20%20%20%5B44.11%2C%2027.27%5D%2C%0A%20%20%20%20%20%20%20%20%20%20%20%20%20%20%20%20%7B%7D%0A%20%20%20%20%20%20%20%20%20%20%20%20%29.addTo%28map_3ca5d6e3d3d848cb8f91db89cab5199a%29%3B%0A%20%20%20%20%20%20%20%20%0A%20%20%20%20%0A%20%20%20%20%20%20%20%20%20%20%20%20var%20marker_8b0f3db342b74e93ae1c8f2c0357496c%20%3D%20L.marker%28%0A%20%20%20%20%20%20%20%20%20%20%20%20%20%20%20%20%5B22.8%2C%2086.2%5D%2C%0A%20%20%20%20%20%20%20%20%20%20%20%20%20%20%20%20%7B%7D%0A%20%20%20%20%20%20%20%20%20%20%20%20%29.addTo%28map_3ca5d6e3d3d848cb8f91db89cab5199a%29%3B%0A%20%20%20%20%20%20%20%20%0A%20%20%20%20%0A%20%20%20%20%20%20%20%20%20%20%20%20var%20marker_cd8b8578951e4d738c95665dc4d627a5%20%3D%20L.marker%28%0A%20%20%20%20%20%20%20%20%20%20%20%20%20%20%20%20%5B51.52%2C%20-0.04%5D%2C%0A%20%20%20%20%20%20%20%20%20%20%20%20%20%20%20%20%7B%7D%0A%20%20%20%20%20%20%20%20%20%20%20%20%29.addTo%28map_3ca5d6e3d3d848cb8f91db89cab5199a%29%3B%0A%20%20%20%20%20%20%20%20%0A%20%20%20%20%0A%20%20%20%20%20%20%20%20%20%20%20%20var%20marker_903148ac721a40229d87b087bf22ba9b%20%3D%20L.marker%28%0A%20%20%20%20%20%20%20%20%20%20%20%20%20%20%20%20%5B20.760457%2C%2078.617498%5D%2C%0A%20%20%20%20%20%20%20%20%20%20%20%20%20%20%20%20%7B%7D%0A%20%20%20%20%20%20%20%20%20%20%20%20%29.addTo%28map_3ca5d6e3d3d848cb8f91db89cab5199a%29%3B%0A%20%20%20%20%20%20%20%20%0A%20%20%20%20%0A%20%20%20%20%20%20%20%20%20%20%20%20var%20marker_0146e796094e449fbce5be590dc2700d%20%3D%20L.marker%28%0A%20%20%20%20%20%20%20%20%20%20%20%20%20%20%20%20%5B51.52%2C%20-0.04%5D%2C%0A%20%20%20%20%20%20%20%20%20%20%20%20%20%20%20%20%7B%7D%0A%20%20%20%20%20%20%20%20%20%20%20%20%29.addTo%28map_3ca5d6e3d3d848cb8f91db89cab5199a%29%3B%0A%20%20%20%20%20%20%20%20%0A%20%20%20%20%0A%20%20%20%20%20%20%20%20%20%20%20%20var%20marker_cfb22070e9a447a4866f823e77cdc7cc%20%3D%20L.marker%28%0A%20%20%20%20%20%20%20%20%20%20%20%20%20%20%20%20%5B17.385%2C%2078.4867%5D%2C%0A%20%20%20%20%20%20%20%20%20%20%20%20%20%20%20%20%7B%7D%0A%20%20%20%20%20%20%20%20%20%20%20%20%29.addTo%28map_3ca5d6e3d3d848cb8f91db89cab5199a%29%3B%0A%20%20%20%20%20%20%20%20%0A%20%20%20%20%0A%20%20%20%20%20%20%20%20%20%20%20%20var%20marker_3622bf2aad64493fa7ee9e84d38a1e6d%20%3D%20L.marker%28%0A%20%20%20%20%20%20%20%20%20%20%20%20%20%20%20%20%5B19.07%2C%2072.88%5D%2C%0A%20%20%20%20%20%20%20%20%20%20%20%20%20%20%20%20%7B%7D%0A%20%20%20%20%20%20%20%20%20%20%20%20%29.addTo%28map_3ca5d6e3d3d848cb8f91db89cab5199a%29%3B%0A%20%20%20%20%20%20%20%20%0A%20%20%20%20%0A%20%20%20%20%20%20%20%20%20%20%20%20var%20marker_95e2713071424b48ba3bc6ea911b4797%20%3D%20L.marker%28%0A%20%20%20%20%20%20%20%20%20%20%20%20%20%20%20%20%5B51.2206%2C%204.4005%5D%2C%0A%20%20%20%20%20%20%20%20%20%20%20%20%20%20%20%20%7B%7D%0A%20%20%20%20%20%20%20%20%20%20%20%20%29.addTo%28map_3ca5d6e3d3d848cb8f91db89cab5199a%29%3B%0A%20%20%20%20%20%20%20%20%0A%20%20%20%20%0A%20%20%20%20%20%20%20%20%20%20%20%20var%20marker_131990ee6f8b4d56a50d576084bb9f17%20%3D%20L.marker%28%0A%20%20%20%20%20%20%20%20%20%20%20%20%20%20%20%20%5B32.7157%2C%20-117.1611%5D%2C%0A%20%20%20%20%20%20%20%20%20%20%20%20%20%20%20%20%7B%7D%0A%20%20%20%20%20%20%20%20%20%20%20%20%29.addTo%28map_3ca5d6e3d3d848cb8f91db89cab5199a%29%3B%0A%20%20%20%20%20%20%20%20%0A%20%20%20%20%0A%20%20%20%20%20%20%20%20%20%20%20%20var%20marker_96ba03982c964bb99e809c24082fffd8%20%3D%20L.marker%28%0A%20%20%20%20%20%20%20%20%20%20%20%20%20%20%20%20%5B51.52%2C%20-0.04%5D%2C%0A%20%20%20%20%20%20%20%20%20%20%20%20%20%20%20%20%7B%7D%0A%20%20%20%20%20%20%20%20%20%20%20%20%29.addTo%28map_3ca5d6e3d3d848cb8f91db89cab5199a%29%3B%0A%20%20%20%20%20%20%20%20%0A%20%20%20%20%0A%20%20%20%20%20%20%20%20%20%20%20%20var%20marker_ca9a860c54654a688ec401561f4a8995%20%3D%20L.marker%28%0A%20%20%20%20%20%20%20%20%20%20%20%20%20%20%20%20%5B51.51%2C%20-0.06%5D%2C%0A%20%20%20%20%20%20%20%20%20%20%20%20%20%20%20%20%7B%7D%0A%20%20%20%20%20%20%20%20%20%20%20%20%29.addTo%28map_3ca5d6e3d3d848cb8f91db89cab5199a%29%3B%0A%20%20%20%20%20%20%20%20%0A%20%20%20%20%0A%20%20%20%20%20%20%20%20%20%20%20%20var%20marker_36a45a17350144778a79421818d08714%20%3D%20L.marker%28%0A%20%20%20%20%20%20%20%20%20%20%20%20%20%20%20%20%5B31.48%2C%2074.4%5D%2C%0A%20%20%20%20%20%20%20%20%20%20%20%20%20%20%20%20%7B%7D%0A%20%20%20%20%20%20%20%20%20%20%20%20%29.addTo%28map_3ca5d6e3d3d848cb8f91db89cab5199a%29%3B%0A%20%20%20%20%20%20%20%20%0A%20%20%20%20%0A%20%20%20%20%20%20%20%20%20%20%20%20var%20marker_751b32be849b4b009256b86d2f8de3f8%20%3D%20L.marker%28%0A%20%20%20%20%20%20%20%20%20%20%20%20%20%20%20%20%5B51.52%2C%200.19%5D%2C%0A%20%20%20%20%20%20%20%20%20%20%20%20%20%20%20%20%7B%7D%0A%20%20%20%20%20%20%20%20%20%20%20%20%29.addTo%28map_3ca5d6e3d3d848cb8f91db89cab5199a%29%3B%0A%20%20%20%20%20%20%20%20%0A%20%20%20%20%0A%20%20%20%20%20%20%20%20%20%20%20%20var%20marker_74019d3c28b841a790d65d00e7494dfe%20%3D%20L.marker%28%0A%20%20%20%20%20%20%20%20%20%20%20%20%20%20%20%20%5B64.1466%2C%2021.9426%5D%2C%0A%20%20%20%20%20%20%20%20%20%20%20%20%20%20%20%20%7B%7D%0A%20%20%20%20%20%20%20%20%20%20%20%20%29.addTo%28map_3ca5d6e3d3d848cb8f91db89cab5199a%29%3B%0A%20%20%20%20%20%20%20%20%0A%20%20%20%20%0A%20%20%20%20%20%20%20%20%20%20%20%20var%20marker_871b76f2b14e488e87fe346f5b9b260f%20%3D%20L.marker%28%0A%20%20%20%20%20%20%20%20%20%20%20%20%20%20%20%20%5B51.557496%2C%200.073161%5D%2C%0A%20%20%20%20%20%20%20%20%20%20%20%20%20%20%20%20%7B%7D%0A%20%20%20%20%20%20%20%20%20%20%20%20%29.addTo%28map_3ca5d6e3d3d848cb8f91db89cab5199a%29%3B%0A%20%20%20%20%20%20%20%20%0A%20%20%20%20%0A%20%20%20%20%20%20%20%20%20%20%20%20var%20marker_7ac8b83af3014cdd9740fe9bda265514%20%3D%20L.marker%28%0A%20%20%20%20%20%20%20%20%20%20%20%20%20%20%20%20%5B22.5797%2C%2088.4143%5D%2C%0A%20%20%20%20%20%20%20%20%20%20%20%20%20%20%20%20%7B%7D%0A%20%20%20%20%20%20%20%20%20%20%20%20%29.addTo%28map_3ca5d6e3d3d848cb8f91db89cab5199a%29%3B%0A%20%20%20%20%20%20%20%20%0A%20%20%20%20%0A%20%20%20%20%20%20%20%20%20%20%20%20var%20marker_0eb2ffa8569c4928b9c609bd85875760%20%3D%20L.marker%28%0A%20%20%20%20%20%20%20%20%20%20%20%20%20%20%20%20%5B51.5%2C%20-0.05%5D%2C%0A%20%20%20%20%20%20%20%20%20%20%20%20%20%20%20%20%7B%7D%0A%20%20%20%20%20%20%20%20%20%20%20%20%29.addTo%28map_3ca5d6e3d3d848cb8f91db89cab5199a%29%3B%0A%20%20%20%20%20%20%20%20%0A%20%20%20%20%0A%20%20%20%20%20%20%20%20%20%20%20%20var%20marker_5d3431921e024c39b55056d34b5bf379%20%3D%20L.marker%28%0A%20%20%20%20%20%20%20%20%20%20%20%20%20%20%20%20%5B28.7041%2C%2077.1025%5D%2C%0A%20%20%20%20%20%20%20%20%20%20%20%20%20%20%20%20%7B%7D%0A%20%20%20%20%20%20%20%20%20%20%20%20%29.addTo%28map_3ca5d6e3d3d848cb8f91db89cab5199a%29%3B%0A%20%20%20%20%20%20%20%20%0A%20%20%20%20%0A%20%20%20%20%20%20%20%20%20%20%20%20var%20marker_7c7a1877e6b44a12853aae1865b2880d%20%3D%20L.marker%28%0A%20%20%20%20%20%20%20%20%20%20%20%20%20%20%20%20%5B51.58737%2C%20-0.04033%5D%2C%0A%20%20%20%20%20%20%20%20%20%20%20%20%20%20%20%20%7B%7D%0A%20%20%20%20%20%20%20%20%20%20%20%20%29.addTo%28map_3ca5d6e3d3d848cb8f91db89cab5199a%29%3B%0A%20%20%20%20%20%20%20%20%0A%20%20%20%20%0A%20%20%20%20%20%20%20%20%20%20%20%20var%20marker_71d44817cf144fdd870f6023e3738b20%20%3D%20L.marker%28%0A%20%20%20%20%20%20%20%20%20%20%20%20%20%20%20%20%5B51.52%2C%20-0.04%5D%2C%0A%20%20%20%20%20%20%20%20%20%20%20%20%20%20%20%20%7B%7D%0A%20%20%20%20%20%20%20%20%20%20%20%20%29.addTo%28map_3ca5d6e3d3d848cb8f91db89cab5199a%29%3B%0A%20%20%20%20%20%20%20%20%0A%20%20%20%20%0A%20%20%20%20%20%20%20%20%20%20%20%20var%20marker_4f96d87f76c14b369571361d4070ad50%20%3D%20L.marker%28%0A%20%20%20%20%20%20%20%20%20%20%20%20%20%20%20%20%5B23.02%2C%20113.75%5D%2C%0A%20%20%20%20%20%20%20%20%20%20%20%20%20%20%20%20%7B%7D%0A%20%20%20%20%20%20%20%20%20%20%20%20%29.addTo%28map_3ca5d6e3d3d848cb8f91db89cab5199a%29%3B%0A%20%20%20%20%20%20%20%20%0A%20%20%20%20%0A%20%20%20%20%20%20%20%20%20%20%20%20var%20marker_d792f3f8d02b4b8da62d8e8adb20dd24%20%3D%20L.marker%28%0A%20%20%20%20%20%20%20%20%20%20%20%20%20%20%20%20%5B51.52%2C%20-0.04%5D%2C%0A%20%20%20%20%20%20%20%20%20%20%20%20%20%20%20%20%7B%7D%0A%20%20%20%20%20%20%20%20%20%20%20%20%29.addTo%28map_3ca5d6e3d3d848cb8f91db89cab5199a%29%3B%0A%20%20%20%20%20%20%20%20%0A%20%20%20%20%0A%20%20%20%20%20%20%20%20%20%20%20%20var%20marker_8fa86f97917a461594dff8ba0a01ba6f%20%3D%20L.marker%28%0A%20%20%20%20%20%20%20%20%20%20%20%20%20%20%20%20%5B21.03%2C%20105.83%5D%2C%0A%20%20%20%20%20%20%20%20%20%20%20%20%20%20%20%20%7B%7D%0A%20%20%20%20%20%20%20%20%20%20%20%20%29.addTo%28map_3ca5d6e3d3d848cb8f91db89cab5199a%29%3B%0A%20%20%20%20%20%20%20%20%0A%20%20%20%20%0A%20%20%20%20%20%20%20%20%20%20%20%20var%20marker_b6520dff17c24356b27b01f59162de9b%20%3D%20L.marker%28%0A%20%20%20%20%20%20%20%20%20%20%20%20%20%20%20%20%5B11.8745%2C%2075.3704%5D%2C%0A%20%20%20%20%20%20%20%20%20%20%20%20%20%20%20%20%7B%7D%0A%20%20%20%20%20%20%20%20%20%20%20%20%29.addTo%28map_3ca5d6e3d3d848cb8f91db89cab5199a%29%3B%0A%20%20%20%20%20%20%20%20%0A%20%20%20%20%0A%20%20%20%20%20%20%20%20%20%20%20%20var%20marker_ab0e6fbea7634e8a8d84a7a7c68a1b12%20%3D%20L.marker%28%0A%20%20%20%20%20%20%20%20%20%20%20%20%20%20%20%20%5B12.0%2C%2077.0%5D%2C%0A%20%20%20%20%20%20%20%20%20%20%20%20%20%20%20%20%7B%7D%0A%20%20%20%20%20%20%20%20%20%20%20%20%29.addTo%28map_3ca5d6e3d3d848cb8f91db89cab5199a%29%3B%0A%20%20%20%20%20%20%20%20%0A%20%20%20%20%0A%20%20%20%20%20%20%20%20%20%20%20%20var%20marker_5ac36c9cf52e4e9e9c9022ba1eaa12c8%20%3D%20L.marker%28%0A%20%20%20%20%20%20%20%20%20%20%20%20%20%20%20%20%5B51.52%2C%20-0.04%5D%2C%0A%20%20%20%20%20%20%20%20%20%20%20%20%20%20%20%20%7B%7D%0A%20%20%20%20%20%20%20%20%20%20%20%20%29.addTo%28map_3ca5d6e3d3d848cb8f91db89cab5199a%29%3B%0A%20%20%20%20%20%20%20%20%0A%20%20%20%20%0A%20%20%20%20%20%20%20%20%20%20%20%20var%20marker_1950068ce038492485eb7c7310b5edd4%20%3D%20L.marker%28%0A%20%20%20%20%20%20%20%20%20%20%20%20%20%20%20%20%5B-17.82%2C%2031.05%5D%2C%0A%20%20%20%20%20%20%20%20%20%20%20%20%20%20%20%20%7B%7D%0A%20%20%20%20%20%20%20%20%20%20%20%20%29.addTo%28map_3ca5d6e3d3d848cb8f91db89cab5199a%29%3B%0A%20%20%20%20%20%20%20%20%0A%20%20%20%20%0A%20%20%20%20%20%20%20%20%20%20%20%20var%20marker_4b9f66db7107494cbf5dfe32d95f465e%20%3D%20L.marker%28%0A%20%20%20%20%20%20%20%20%20%20%20%20%20%20%20%20%5B19.158174%2C%2072.989011%5D%2C%0A%20%20%20%20%20%20%20%20%20%20%20%20%20%20%20%20%7B%7D%0A%20%20%20%20%20%20%20%20%20%20%20%20%29.addTo%28map_3ca5d6e3d3d848cb8f91db89cab5199a%29%3B%0A%20%20%20%20%20%20%20%20%0A%20%20%20%20%0A%20%20%20%20%20%20%20%20%20%20%20%20var%20marker_d4922e743b2e4756ab8208851c3348c3%20%3D%20L.marker%28%0A%20%20%20%20%20%20%20%20%20%20%20%20%20%20%20%20%5B19.076%2C%2072.8777%5D%2C%0A%20%20%20%20%20%20%20%20%20%20%20%20%20%20%20%20%7B%7D%0A%20%20%20%20%20%20%20%20%20%20%20%20%29.addTo%28map_3ca5d6e3d3d848cb8f91db89cab5199a%29%3B%0A%20%20%20%20%20%20%20%20%0A%20%20%20%20%0A%20%20%20%20%20%20%20%20%20%20%20%20var%20marker_dfa6ecbb04f44c369487311dbbb965ab%20%3D%20L.marker%28%0A%20%20%20%20%20%20%20%20%20%20%20%20%20%20%20%20%5B51.509865%2C%20-0.118092%5D%2C%0A%20%20%20%20%20%20%20%20%20%20%20%20%20%20%20%20%7B%7D%0A%20%20%20%20%20%20%20%20%20%20%20%20%29.addTo%28map_3ca5d6e3d3d848cb8f91db89cab5199a%29%3B%0A%20%20%20%20%20%20%20%20%0A%20%20%20%20%0A%20%20%20%20%20%20%20%20%20%20%20%20var%20marker_7ccb5c636b374c00a67323e67525eacf%20%3D%20L.marker%28%0A%20%20%20%20%20%20%20%20%20%20%20%20%20%20%20%20%5B51.52%2C%20-0.04%5D%2C%0A%20%20%20%20%20%20%20%20%20%20%20%20%20%20%20%20%7B%7D%0A%20%20%20%20%20%20%20%20%20%20%20%20%29.addTo%28map_3ca5d6e3d3d848cb8f91db89cab5199a%29%3B%0A%20%20%20%20%20%20%20%20%0A%20%20%20%20%0A%20%20%20%20%20%20%20%20%20%20%20%20var%20marker_5a47304ce1284362b5d9d03802f00b51%20%3D%20L.marker%28%0A%20%20%20%20%20%20%20%20%20%20%20%20%20%20%20%20%5B54.2%2C%20-125.8%5D%2C%0A%20%20%20%20%20%20%20%20%20%20%20%20%20%20%20%20%7B%7D%0A%20%20%20%20%20%20%20%20%20%20%20%20%29.addTo%28map_3ca5d6e3d3d848cb8f91db89cab5199a%29%3B%0A%20%20%20%20%20%20%20%20%0A%20%20%20%20%0A%20%20%20%20%20%20%20%20%20%20%20%20var%20marker_97af2c274611471e939d22fb7d06eddb%20%3D%20L.marker%28%0A%20%20%20%20%20%20%20%20%20%20%20%20%20%20%20%20%5B4.225372%2C%2073.519459%5D%2C%0A%20%20%20%20%20%20%20%20%20%20%20%20%20%20%20%20%7B%7D%0A%20%20%20%20%20%20%20%20%20%20%20%20%29.addTo%28map_3ca5d6e3d3d848cb8f91db89cab5199a%29%3B%0A%20%20%20%20%20%20%20%20%0A%20%20%20%20%0A%20%20%20%20%20%20%20%20%20%20%20%20var%20marker_cf8fce912ca64912aef417459e66e886%20%3D%20L.marker%28%0A%20%20%20%20%20%20%20%20%20%20%20%20%20%20%20%20%5B51.52%2C%20-0.05%5D%2C%0A%20%20%20%20%20%20%20%20%20%20%20%20%20%20%20%20%7B%7D%0A%20%20%20%20%20%20%20%20%20%20%20%20%29.addTo%28map_3ca5d6e3d3d848cb8f91db89cab5199a%29%3B%0A%20%20%20%20%20%20%20%20%0A%20%20%20%20%0A%20%20%20%20%20%20%20%20%20%20%20%20var%20marker_45e69aa1f7964c958bbb67fcac069172%20%3D%20L.marker%28%0A%20%20%20%20%20%20%20%20%20%20%20%20%20%20%20%20%5B51.5592%2C%200.07%5D%2C%0A%20%20%20%20%20%20%20%20%20%20%20%20%20%20%20%20%7B%7D%0A%20%20%20%20%20%20%20%20%20%20%20%20%29.addTo%28map_3ca5d6e3d3d848cb8f91db89cab5199a%29%3B%0A%20%20%20%20%20%20%20%20%0A%20%20%20%20%0A%20%20%20%20%20%20%20%20%20%20%20%20var%20marker_09808fe0c80547929e5a868f66ab29dc%20%3D%20L.marker%28%0A%20%20%20%20%20%20%20%20%20%20%20%20%20%20%20%20%5B31.23%2C%20121.47%5D%2C%0A%20%20%20%20%20%20%20%20%20%20%20%20%20%20%20%20%7B%7D%0A%20%20%20%20%20%20%20%20%20%20%20%20%29.addTo%28map_3ca5d6e3d3d848cb8f91db89cab5199a%29%3B%0A%20%20%20%20%20%20%20%20%0A%20%20%20%20%0A%20%20%20%20%20%20%20%20%20%20%20%20var%20marker_237244d9b80149c8b7d1635443b34ab1%20%3D%20L.marker%28%0A%20%20%20%20%20%20%20%20%20%20%20%20%20%20%20%20%5B51.52%2C%20-0.04%5D%2C%0A%20%20%20%20%20%20%20%20%20%20%20%20%20%20%20%20%7B%7D%0A%20%20%20%20%20%20%20%20%20%20%20%20%29.addTo%28map_3ca5d6e3d3d848cb8f91db89cab5199a%29%3B%0A%20%20%20%20%20%20%20%20%0A%20%20%20%20%0A%20%20%20%20%20%20%20%20%20%20%20%20var%20marker_255e00784e8b47068dd33618398c21d5%20%3D%20L.marker%28%0A%20%20%20%20%20%20%20%20%20%20%20%20%20%20%20%20%5B51.51%2C%200.02%5D%2C%0A%20%20%20%20%20%20%20%20%20%20%20%20%20%20%20%20%7B%7D%0A%20%20%20%20%20%20%20%20%20%20%20%20%29.addTo%28map_3ca5d6e3d3d848cb8f91db89cab5199a%29%3B%0A%20%20%20%20%20%20%20%20%0A%20%20%20%20%0A%20%20%20%20%20%20%20%20%20%20%20%20var%20marker_f5dbdbef4e1f4f2bbe721801619a2dd0%20%3D%20L.marker%28%0A%20%20%20%20%20%20%20%20%20%20%20%20%20%20%20%20%5B51.5082%2C%200.0014%5D%2C%0A%20%20%20%20%20%20%20%20%20%20%20%20%20%20%20%20%7B%7D%0A%20%20%20%20%20%20%20%20%20%20%20%20%29.addTo%28map_3ca5d6e3d3d848cb8f91db89cab5199a%29%3B%0A%20%20%20%20%20%20%20%20%0A%20%20%20%20%0A%20%20%20%20%20%20%20%20%20%20%20%20var%20marker_237da5af12884e229ae75458c78bce19%20%3D%20L.marker%28%0A%20%20%20%20%20%20%20%20%20%20%20%20%20%20%20%20%5B20.76%2C%2078.61%5D%2C%0A%20%20%20%20%20%20%20%20%20%20%20%20%20%20%20%20%7B%7D%0A%20%20%20%20%20%20%20%20%20%20%20%20%29.addTo%28map_3ca5d6e3d3d848cb8f91db89cab5199a%29%3B%0A%20%20%20%20%20%20%20%20%0A%20%20%20%20%0A%20%20%20%20%20%20%20%20%20%20%20%20var%20marker_4697f85c750042709a38307ee48716cd%20%3D%20L.marker%28%0A%20%20%20%20%20%20%20%20%20%20%20%20%20%20%20%20%5B51.44%2C%20-0.36%5D%2C%0A%20%20%20%20%20%20%20%20%20%20%20%20%20%20%20%20%7B%7D%0A%20%20%20%20%20%20%20%20%20%20%20%20%29.addTo%28map_3ca5d6e3d3d848cb8f91db89cab5199a%29%3B%0A%20%20%20%20%20%20%20%20%0A%20%20%20%20%0A%20%20%20%20%20%20%20%20%20%20%20%20var%20marker_b7082cdd19bc4baf82dafe2074a1a881%20%3D%20L.marker%28%0A%20%20%20%20%20%20%20%20%20%20%20%20%20%20%20%20%5B51.52%2C%20-0.04%5D%2C%0A%20%20%20%20%20%20%20%20%20%20%20%20%20%20%20%20%7B%7D%0A%20%20%20%20%20%20%20%20%20%20%20%20%29.addTo%28map_3ca5d6e3d3d848cb8f91db89cab5199a%29%3B%0A%20%20%20%20%20%20%20%20%0A%20%20%20%20%0A%20%20%20%20%20%20%20%20%20%20%20%20var%20marker_0de2ccaf061b4e538aa38ab95ba0f6be%20%3D%20L.marker%28%0A%20%20%20%20%20%20%20%20%20%20%20%20%20%20%20%20%5B25.03%2C%20121.56%5D%2C%0A%20%20%20%20%20%20%20%20%20%20%20%20%20%20%20%20%7B%7D%0A%20%20%20%20%20%20%20%20%20%20%20%20%29.addTo%28map_3ca5d6e3d3d848cb8f91db89cab5199a%29%3B%0A%20%20%20%20%20%20%20%20%0A%20%20%20%20%0A%20%20%20%20%20%20%20%20%20%20%20%20var%20marker_8077f03405394630a97d6eb983460311%20%3D%20L.marker%28%0A%20%20%20%20%20%20%20%20%20%20%20%20%20%20%20%20%5B51.52%2C%20-0.04%5D%2C%0A%20%20%20%20%20%20%20%20%20%20%20%20%20%20%20%20%7B%7D%0A%20%20%20%20%20%20%20%20%20%20%20%20%29.addTo%28map_3ca5d6e3d3d848cb8f91db89cab5199a%29%3B%0A%20%20%20%20%20%20%20%20%0A%20%20%20%20%0A%20%20%20%20%20%20%20%20%20%20%20%20var%20marker_3d2c0ee24daf43e7882979395e6087f1%20%3D%20L.marker%28%0A%20%20%20%20%20%20%20%20%20%20%20%20%20%20%20%20%5B53.76%2C%20-2.7%5D%2C%0A%20%20%20%20%20%20%20%20%20%20%20%20%20%20%20%20%7B%7D%0A%20%20%20%20%20%20%20%20%20%20%20%20%29.addTo%28map_3ca5d6e3d3d848cb8f91db89cab5199a%29%3B%0A%20%20%20%20%20%20%20%20%0A%20%20%20%20%0A%20%20%20%20%20%20%20%20%20%20%20%20var%20marker_1ee1874b514a42079c4061c5bab61b7e%20%3D%20L.marker%28%0A%20%20%20%20%20%20%20%20%20%20%20%20%20%20%20%20%5B9.97%2C%2076.28%5D%2C%0A%20%20%20%20%20%20%20%20%20%20%20%20%20%20%20%20%7B%7D%0A%20%20%20%20%20%20%20%20%20%20%20%20%29.addTo%28map_3ca5d6e3d3d848cb8f91db89cab5199a%29%3B%0A%20%20%20%20%20%20%20%20%0A%20%20%20%20%0A%20%20%20%20%20%20%20%20%20%20%20%20var%20marker_fc6a06a904ff4dbcb7aa1658398d73d1%20%3D%20L.marker%28%0A%20%20%20%20%20%20%20%20%20%20%20%20%20%20%20%20%5B51.52841483060752%2C%20-0.024%5D%2C%0A%20%20%20%20%20%20%20%20%20%20%20%20%20%20%20%20%7B%7D%0A%20%20%20%20%20%20%20%20%20%20%20%20%29.addTo%28map_3ca5d6e3d3d848cb8f91db89cab5199a%29%3B%0A%20%20%20%20%20%20%20%20%0A%20%20%20%20%0A%20%20%20%20%20%20%20%20%20%20%20%20var%20marker_6a32a72e4a794fef8211c813f23dca4c%20%3D%20L.marker%28%0A%20%20%20%20%20%20%20%20%20%20%20%20%20%20%20%20%5B52.064%2C%20-0.764%5D%2C%0A%20%20%20%20%20%20%20%20%20%20%20%20%20%20%20%20%7B%7D%0A%20%20%20%20%20%20%20%20%20%20%20%20%29.addTo%28map_3ca5d6e3d3d848cb8f91db89cab5199a%29%3B%0A%20%20%20%20%20%20%20%20%0A%20%20%20%20%0A%20%20%20%20%20%20%20%20%20%20%20%20var%20marker_cd75f717350d4a50a094087c45baa7de%20%3D%20L.marker%28%0A%20%20%20%20%20%20%20%20%20%20%20%20%20%20%20%20%5B51.55%2C%20-0.1%5D%2C%0A%20%20%20%20%20%20%20%20%20%20%20%20%20%20%20%20%7B%7D%0A%20%20%20%20%20%20%20%20%20%20%20%20%29.addTo%28map_3ca5d6e3d3d848cb8f91db89cab5199a%29%3B%0A%20%20%20%20%20%20%20%20%0A%3C/script%3E onload=\"this.contentDocument.open();this.contentDocument.write(    decodeURIComponent(this.getAttribute('data-html')));this.contentDocument.close();\" allowfullscreen webkitallowfullscreen mozallowfullscreen></iframe></div></div>"
      ],
      "text/plain": [
       "<folium.folium.Map at 0x10949e69d00>"
      ]
     },
     "execution_count": 39,
     "metadata": {},
     "output_type": "execute_result"
    }
   ],
   "source": [
    "import folium\n",
    "\n",
    "m = folium.Map(location=[20,0], tiles=\"OpenStreetMap\", zoom_start=2) # \"cartodb positron\"\n",
    "for i in range(0,len(location)):\n",
    "   folium.Marker(\n",
    "       location=[eval(location.iloc[i])[0], eval(location.iloc[i])[1]],\n",
    "   ).add_to(m)\n",
    "m"
   ]
  },
  {
   "cell_type": "markdown",
   "id": "652c94d0",
   "metadata": {},
   "source": [
    "let's import audio files."
   ]
  },
  {
   "cell_type": "code",
   "execution_count": 40,
   "id": "b0db062e",
   "metadata": {
    "ExecuteTime": {
     "end_time": "2022-07-19T13:48:20.910711Z",
     "start_time": "2022-07-19T13:48:20.895767Z"
    }
   },
   "outputs": [],
   "source": [
    "# # # Automate dataframe creation for all songs\n",
    "all_songs = ['Frozen','Hakuna'] #,'Mamma','Panther','Potter','Rain','Showman','StarWars']\n",
    "# d = {}\n",
    "\n",
    "# for song in all_songs:\n",
    "#     d[song + '_Audio'] = 'dataset\\\\MLEndHWD_'+song+'_Audio_Files/*.wav' \n",
    "#     print(\"\\n Creating dataframe for \",song)\n",
    "# #     Hakuna_Audio = 'dataset\\\\MLEndHWD_Hakuna_Audio_Files/*.wav' \n",
    "\n",
    "#     d[song + '_files'] = glob.glob(song + '_Audio')\n",
    "# #     print(song+_files[35])                            # printing a random filename\n",
    "\n",
    "#     d[song+'_table'] = [] \n",
    "#     for file in (song+'_files'):\n",
    "#         print(file.split('_'))\n",
    "# #         song_name = file.split('_')[1]\n",
    "# #         file_id = file.split('\\\\')[2]\n",
    "# #         song+'_table'.append([file_id, song_name])\n",
    "# #     d[song+'_df'] = pd.DataFrame(song+'_table',columns=['file_id','song'])\n",
    "# #     d[song+'_df'].head(2)"
   ]
  },
  {
   "cell_type": "code",
   "execution_count": 41,
   "id": "61c897d1",
   "metadata": {
    "ExecuteTime": {
     "end_time": "2022-07-19T13:48:20.926668Z",
     "start_time": "2022-07-19T13:48:20.911711Z"
    }
   },
   "outputs": [
    {
     "name": "stdout",
     "output_type": "stream",
     "text": [
      "dataset\\MLEndHWD_Frozen_Audio_Files\\5833.wav\n"
     ]
    }
   ],
   "source": [
    "# For next song \"Frozen\"\n",
    "Frozen_Audio = 'dataset\\\\MLEndHWD_Frozen_Audio_Files/*.wav' \n",
    "Frozen_files = glob.glob(Frozen_Audio)\n",
    "print(Frozen_files[35])            # printing a random filename"
   ]
  },
  {
   "cell_type": "code",
   "execution_count": 42,
   "id": "05d46cd0",
   "metadata": {
    "ExecuteTime": {
     "end_time": "2022-07-19T13:48:20.942653Z",
     "start_time": "2022-07-19T13:48:20.928678Z"
    }
   },
   "outputs": [
    {
     "data": {
      "text/html": [
       "<div>\n",
       "<style scoped>\n",
       "    .dataframe tbody tr th:only-of-type {\n",
       "        vertical-align: middle;\n",
       "    }\n",
       "\n",
       "    .dataframe tbody tr th {\n",
       "        vertical-align: top;\n",
       "    }\n",
       "\n",
       "    .dataframe thead th {\n",
       "        text-align: right;\n",
       "    }\n",
       "</style>\n",
       "<table border=\"1\" class=\"dataframe\">\n",
       "  <thead>\n",
       "    <tr style=\"text-align: right;\">\n",
       "      <th></th>\n",
       "      <th>song</th>\n",
       "    </tr>\n",
       "    <tr>\n",
       "      <th>file_id</th>\n",
       "      <th></th>\n",
       "    </tr>\n",
       "  </thead>\n",
       "  <tbody>\n",
       "    <tr>\n",
       "      <th>5798.wav</th>\n",
       "      <td>Frozen</td>\n",
       "    </tr>\n",
       "    <tr>\n",
       "      <th>5799.wav</th>\n",
       "      <td>Frozen</td>\n",
       "    </tr>\n",
       "    <tr>\n",
       "      <th>5800.wav</th>\n",
       "      <td>Frozen</td>\n",
       "    </tr>\n",
       "    <tr>\n",
       "      <th>5801.wav</th>\n",
       "      <td>Frozen</td>\n",
       "    </tr>\n",
       "    <tr>\n",
       "      <th>5802.wav</th>\n",
       "      <td>Frozen</td>\n",
       "    </tr>\n",
       "    <tr>\n",
       "      <th>...</th>\n",
       "      <td>...</td>\n",
       "    </tr>\n",
       "    <tr>\n",
       "      <th>6606.wav</th>\n",
       "      <td>Frozen</td>\n",
       "    </tr>\n",
       "    <tr>\n",
       "      <th>6607.wav</th>\n",
       "      <td>Frozen</td>\n",
       "    </tr>\n",
       "    <tr>\n",
       "      <th>6608.wav</th>\n",
       "      <td>Frozen</td>\n",
       "    </tr>\n",
       "    <tr>\n",
       "      <th>6609.wav</th>\n",
       "      <td>Frozen</td>\n",
       "    </tr>\n",
       "    <tr>\n",
       "      <th>6610.wav</th>\n",
       "      <td>Frozen</td>\n",
       "    </tr>\n",
       "  </tbody>\n",
       "</table>\n",
       "<p>813 rows × 1 columns</p>\n",
       "</div>"
      ],
      "text/plain": [
       "            song\n",
       "file_id         \n",
       "5798.wav  Frozen\n",
       "5799.wav  Frozen\n",
       "5800.wav  Frozen\n",
       "5801.wav  Frozen\n",
       "5802.wav  Frozen\n",
       "...          ...\n",
       "6606.wav  Frozen\n",
       "6607.wav  Frozen\n",
       "6608.wav  Frozen\n",
       "6609.wav  Frozen\n",
       "6610.wav  Frozen\n",
       "\n",
       "[813 rows x 1 columns]"
      ]
     },
     "execution_count": 42,
     "metadata": {},
     "output_type": "execute_result"
    }
   ],
   "source": [
    "Frozen_table = [] \n",
    "for file in Frozen_files:\n",
    "    song_name = file.split('_')[1]\n",
    "    file_id = file.split('\\\\')[2]\n",
    "\n",
    "    Frozen_table.append([file_id, song_name])\n",
    "Frozen_df = pd.DataFrame(Frozen_table,columns=['file_id','song']).set_index('file_id')\n",
    "Frozen_df"
   ]
  },
  {
   "cell_type": "code",
   "execution_count": 43,
   "id": "ec565b72",
   "metadata": {
    "ExecuteTime": {
     "end_time": "2022-07-19T13:48:20.958609Z",
     "start_time": "2022-07-19T13:48:20.943625Z"
    }
   },
   "outputs": [],
   "source": [
    "# This function will be uesd to calculate pitch\n",
    "def getPitch(x,fs,winLen=0.02):\n",
    "  #winLen = 0.02 \n",
    "  p = winLen*fs\n",
    "  frame_length = int(2**int(p-1).bit_length())\n",
    "  hop_length = frame_length//2\n",
    "  f0, voiced_flag, voiced_probs = librosa.pyin(y=x, fmin=80, fmax=450, sr=fs,\n",
    "                                                 frame_length=frame_length,hop_length=hop_length)\n",
    "  return f0,voiced_flag"
   ]
  },
  {
   "cell_type": "code",
   "execution_count": 44,
   "id": "9eb80c07",
   "metadata": {
    "ExecuteTime": {
     "end_time": "2022-07-19T13:48:20.974579Z",
     "start_time": "2022-07-19T13:48:20.959612Z"
    }
   },
   "outputs": [],
   "source": [
    "#Function to extract feature from audio files using Librosa package\n",
    "def getXy(files,labels_file, scale_audio=False, onlySingleDigit=False):\n",
    "    X,y =[],[]\n",
    "\n",
    "    for file in tqdm(files):\n",
    "        fileID = file.split('_')[1]\n",
    "#         file_name = file.split('\\\\')[-1]\n",
    "\n",
    "        if labels_file.loc[file_id]['song'] == 'Frozen':\n",
    "            yi = 'Frozen'\n",
    "            \n",
    "        elif labels_file.loc[file_id]['song'] == 'Hakuna':\n",
    "            yi = 'Hakuna'\n",
    "            \n",
    "        elif labels_file.loc[file_id]['song'] == 'Mamma':\n",
    "            yi = 'Mamma'\n",
    "            \n",
    "        elif labels_file.loc[file_id]['song'] == 'Panther':\n",
    "            yi = 'Panther'\n",
    "        \n",
    "        elif labels_file.loc[file_id]['song'] == 'Potter':\n",
    "            yi = 'Harry Potter'\n",
    "            \n",
    "        elif labels_file.loc[file_id]['song'] == 'Rain':\n",
    "            yi = 'Rain'\n",
    "            \n",
    "        elif labels_file.loc[file_id]['song'] == 'Showman':\n",
    "            yi = 'Showman'\n",
    "            \n",
    "        elif labels_file.loc[file_id]['song'] == 'StarWars':\n",
    "            yi = 'StarWars'\n",
    "        else :\n",
    "            # Added third category just incase, if the model got the wrong audio file\n",
    "            yi = 'invalid input song_name in '+ str(labels_file) \n",
    "            \n",
    "                            \n",
    "        fs = None # if None, fs would be 22050\n",
    "        x, fs = librosa.load(file,sr=fs)\n",
    "        if scale_audio: x = x/np.max(np.abs(x))\n",
    "        f0, voiced_flag = getPitch(x,fs,winLen=0.02)\n",
    "    \n",
    "        power = np.sum(x**2)/len(x)\n",
    "        pitch_mean = np.nanmean(f0) if np.mean(np.isnan(f0))<1 else 0\n",
    "        pitch_std  = np.nanstd(f0) if np.mean(np.isnan(f0))<1 else 0\n",
    "        voiced_fr = np.mean(voiced_flag)\n",
    "\n",
    "        sr=44100\n",
    "        magnitudes = np.abs(np.fft.rfft(x)) # magnitudes of positive frequencies\n",
    "        length = len(x)\n",
    "        freqs = np.abs(np.fft.fftfreq(length, 1.0/sr)[:length//2+1]) # positive frequencies\n",
    "        spectral_centroid = np.sum(magnitudes*freqs) / np.sum(magnitudes)\n",
    "    \n",
    "        mfccs = librosa.feature.mfcc(x, sr=fs).shape[1]\n",
    "        spectral_cent = librosa.feature.spectral_centroid(y = x, sr = sr)\n",
    "        spec_bw = librosa.feature.spectral_bandwidth(y=x, sr=sr).mean()\n",
    "        zero_crossings = sum(librosa.zero_crossings(x[9000:9100], pad=False))\n",
    "        \n",
    "        onset_env = librosa.onset.onset_strength(y = x, sr=sr)\n",
    "        tempo = librosa.beat.tempo(onset_envelope=onset_env, sr=sr)[0]\n",
    "    \n",
    "        chroma_cens = librosa.feature.chroma_cens(y=x, sr=sr).mean()\n",
    "    \n",
    "        chroma_cq = librosa.feature.chroma_cqt(y=x, sr=sr).mean()\n",
    "    \n",
    "        chroma_stft = librosa.feature.chroma_stft(y=x, sr=sr).mean()\n",
    "    \n",
    "        melspectogram = librosa.feature.melspectrogram(y=x, sr=sr).mean()\n",
    "    \n",
    "        tonnetz = librosa.feature.tonnetz(y=x, sr=sr).mean()\n",
    "    \n",
    "        rms = librosa.feature.rms(y=x).mean()\n",
    "        \n",
    "        xi = [power,pitch_mean,pitch_std,voiced_fr,spectral_centroid,mfccs,spec_bw,zero_crossings,tempo,chroma_cens,chroma_cq,chroma_stft,melspectogram,tonnetz,rms]\n",
    "#         xi = [power, voiced_fr, tempo, chroma_cens, chroma_cq, chroma_stft, tonnetz, rms]\n",
    "        X.append(xi)\n",
    "        y.append(yi)\n",
    "\n",
    "    return np.array(X),np.array(y)"
   ]
  },
  {
   "cell_type": "code",
   "execution_count": 45,
   "id": "d3129c86",
   "metadata": {
    "ExecuteTime": {
     "end_time": "2022-07-19T13:48:20.990536Z",
     "start_time": "2022-07-19T13:48:20.975548Z"
    }
   },
   "outputs": [],
   "source": [
    "# warnings.filterwarnings(\"ignore\")\n",
    "# FrozenX,Frozeny = getXy(Frozen_files, labels_file=Frozen_df, scale_audio=True, onlySingleDigit=True)"
   ]
  },
  {
   "cell_type": "code",
   "execution_count": 46,
   "id": "0d4f72a7",
   "metadata": {
    "ExecuteTime": {
     "end_time": "2022-07-19T13:48:21.038403Z",
     "start_time": "2022-07-19T13:48:20.991497Z"
    }
   },
   "outputs": [
    {
     "name": "stdout",
     "output_type": "stream",
     "text": [
      "Frozen audio features exists. \n",
      "\n",
      "      power  pitch_mean  pitch_std  voiced_fr  spectral_centroid   mfccs  \\\n",
      "0  0.046177  318.493645  58.000602   0.891530        1803.553804  1641.0   \n",
      "1  0.059858  398.860645  28.099125   0.778452        3274.676680  1318.0   \n",
      "\n",
      "       spec_bw  zero_crossings       tempo  chroma_cens  chroma_cq  \\\n",
      "0  2516.556507             1.0  126.048018     0.165151   0.216273   \n",
      "1  2104.786004             3.0  143.554688     0.223011   0.381279   \n",
      "\n",
      "   chroma_stft  melspectogram   tonnetz       rms    song  \n",
      "0     0.245106       8.859594  0.025142  0.188649  Frozen  \n",
      "1     0.193650       6.830394  0.006053  0.163924  Frozen  \n"
     ]
    }
   ],
   "source": [
    "warnings.filterwarnings(\"ignore\")\n",
    "\n",
    "if exists('Frozen_xy.csv'):\n",
    "    print(\"Frozen audio features exists. \\n\")\n",
    "    Frozen_xy = pd.read_csv('Frozen_xy.csv')\n",
    "    Frozen_xy = Frozen_xy.iloc[: , 1:]\n",
    "    print(Frozen_xy.head(2))\n",
    "else :\n",
    "    print(\"Running getXy to extract features : \\n\")\n",
    "    FrozenX,Frozeny = getXy(Frozen_files, labels_file=Frozen_df, scale_audio=True, onlySingleDigit=True)\n",
    "    \n",
    "    # We got an multi dimensional numpy array of extracted features for our audio files\n",
    "    # let make a dataframe from the same\n",
    "    Frozen_x = pd.DataFrame(FrozenX,columns=['power','pitch_mean','pitch_std','voiced_fr','spectral_centroid','mfccs','spec_bw','zero_crossings','tempo','chroma_cens','chroma_cq','chroma_stft','melspectogram','tonnetz','rms'])\n",
    "    Frozen_y = pd.DataFrame(Frozeny)\n",
    "\n",
    "    Frozen_xy = Frozen_x.copy()\n",
    "    Frozen_xy['song'] = Frozen_y\n",
    "\n",
    "    # let's save it to a csv file\n",
    "    Frozen_xy.to_csv('Frozen_xy.csv')\n",
    "\n",
    "    print(Frozen_xy.head(2))"
   ]
  },
  {
   "cell_type": "markdown",
   "id": "998ab53d",
   "metadata": {},
   "source": [
    "**let's create the same for other songs too.**"
   ]
  },
  {
   "cell_type": "code",
   "execution_count": 47,
   "id": "a01a4fa9",
   "metadata": {
    "ExecuteTime": {
     "end_time": "2022-07-19T13:48:21.070292Z",
     "start_time": "2022-07-19T13:48:21.039368Z"
    }
   },
   "outputs": [
    {
     "name": "stdout",
     "output_type": "stream",
     "text": [
      "importing audio files.\n",
      "\n",
      "Audio files dataframe created. Below are top 2 rows.\n",
      "            song\n",
      "file_id         \n",
      "3331.wav  Hakuna\n",
      "3332.wav  Hakuna\n",
      "\n",
      "Hakuna features exists.\n",
      "\n",
      "      power  pitch_mean  pitch_std  voiced_fr  spectral_centroid   mfccs  \\\n",
      "0  0.053972  169.859076  24.460459   0.757375         773.453289  1356.0   \n",
      "1  0.310412  387.536568  35.013402   0.910494        3001.412490  1296.0   \n",
      "\n",
      "       spec_bw  zero_crossings       tempo  chroma_cens  chroma_cq  \\\n",
      "0  2311.981875            15.0  120.185320     0.202318   0.322435   \n",
      "1  2193.403876             5.0  151.999081     0.162871   0.211539   \n",
      "\n",
      "   chroma_stft  melspectogram   tonnetz       rms    song  \n",
      "0     0.391621      10.676229 -0.008574  0.194177  Hakuna  \n",
      "1     0.160066      45.426464  0.032459  0.478532  Hakuna  \n"
     ]
    }
   ],
   "source": [
    "warnings.filterwarnings(\"ignore\")\n",
    "\n",
    "# For next song \"Hakuna\"\n",
    "print(\"importing audio files.\\n\")\n",
    "Hakuna_Audio = 'dataset\\\\MLEndHWD_Hakuna_Audio_Files/*.wav' \n",
    "Hakuna_files = glob.glob(Hakuna_Audio)\n",
    "# print(Hakuna_files[35])            # printing a random filename\n",
    "\n",
    "Hakuna_table = [] \n",
    "for file in Hakuna_files:\n",
    "    song_name = file.split('_')[1]\n",
    "    file_id = file.split('\\\\')[2]\n",
    "    Hakuna_table.append([file_id, song_name])\n",
    "Hakuna_df = pd.DataFrame(Hakuna_table,columns=['file_id','song']).set_index('file_id')\n",
    "\n",
    "print(\"Audio files dataframe created. Below are top 2 rows.\")\n",
    "print(Hakuna_df.head(2))\n",
    "\n",
    "if exists('Hakuna_xy.csv'):\n",
    "    print(\"\\nHakuna features exists.\\n\")\n",
    "    Hakuna_xy = pd.read_csv('Hakuna_xy.csv')\n",
    "    Hakuna_xy = Hakuna_xy.iloc[: , 1:]\n",
    "    print(Hakuna_xy.head(2))\n",
    "else :\n",
    "    print(\"Running getXy to extract features : \\n\")\n",
    "    HakunaX,Hakunay = getXy(Hakuna_files, labels_file=Hakuna_df, scale_audio=True, onlySingleDigit=True)\n",
    "    \n",
    "    # We got an multi dimensional numpy array of extracted features for our audio files\n",
    "    # let make a dataframe from the same\n",
    "    Hakuna_x = pd.DataFrame(HakunaX,columns=['power','pitch_mean','pitch_std','voiced_fr','spectral_centroid','mfccs','spec_bw','zero_crossings','tempo','chroma_cens','chroma_cq','chroma_stft','melspectogram','tonnetz','rms'])\n",
    "    Hakuna_y = pd.DataFrame(Hakunay)\n",
    "\n",
    "    Hakuna_xy = Hakuna_x.copy()\n",
    "    Hakuna_xy['song'] = Hakuna_y\n",
    "\n",
    "    # let's save it to a csv file\n",
    "    Hakuna_xy.to_csv('Hakuna_xy.csv')\n",
    "\n",
    "    print(Hakuna_xy.head(2))"
   ]
  },
  {
   "cell_type": "code",
   "execution_count": 48,
   "id": "3c391411",
   "metadata": {
    "ExecuteTime": {
     "end_time": "2022-07-19T13:48:21.101239Z",
     "start_time": "2022-07-19T13:48:21.071316Z"
    }
   },
   "outputs": [
    {
     "name": "stdout",
     "output_type": "stream",
     "text": [
      "importing audio files.\n",
      "\n",
      "Audio files dataframe created. Below are top 2 rows.\n",
      "           song\n",
      "file_id        \n",
      "4160.wav  Mamma\n",
      "4161.wav  Mamma\n",
      "\n",
      "Mamma features exists.\n",
      "\n",
      "      power  pitch_mean  pitch_std  voiced_fr  spectral_centroid   mfccs  \\\n",
      "0  0.005089  158.291455  16.834336   0.503656        3621.960008  1231.0   \n",
      "1  0.044477  141.648302  29.221011   0.470194        1024.262663  1493.0   \n",
      "\n",
      "       spec_bw  zero_crossings       tempo  chroma_cens  chroma_cq  \\\n",
      "0  5971.012301             6.0  143.554688     0.259753   0.527048   \n",
      "1  5071.584694            12.0  151.999081     0.211874   0.377896   \n",
      "\n",
      "   chroma_stft  melspectogram   tonnetz       rms   song  \n",
      "0     0.492916       0.877248  0.004261  0.046128  Mamma  \n",
      "1     0.506906       8.806373  0.002550  0.144696  Mamma  \n"
     ]
    }
   ],
   "source": [
    "warnings.filterwarnings(\"ignore\")\n",
    "\n",
    "# For next song \"Mamma\"\n",
    "print(\"importing audio files.\\n\")\n",
    "Mamma_Audio = 'dataset\\\\MLEndHWD_Mamma_Audio_Files/*.wav' \n",
    "Mamma_files = glob.glob(Mamma_Audio)\n",
    "# print(Mamma_files[35])            # printing a random filename\n",
    "\n",
    "Mamma_table = [] \n",
    "for file in Mamma_files:\n",
    "    song_name = file.split('_')[1]\n",
    "    file_id = file.split('\\\\')[2]\n",
    "    Mamma_table.append([file_id, song_name])\n",
    "Mamma_df = pd.DataFrame(Mamma_table,columns=['file_id','song']).set_index('file_id')\n",
    "\n",
    "print(\"Audio files dataframe created. Below are top 2 rows.\")\n",
    "print(Mamma_df.head(2))\n",
    "\n",
    "if exists('Mamma_xy.csv'):\n",
    "    print(\"\\nMamma features exists.\\n\")\n",
    "    Mamma_xy = pd.read_csv('Mamma_xy.csv')\n",
    "    Mamma_xy = Mamma_xy.iloc[: , 1:]\n",
    "    print(Mamma_xy.head(2))\n",
    "else :\n",
    "    print(\"Running getXy to extract features : \\n\")\n",
    "    MammaX,Mammay = getXy(Mamma_files, labels_file=Mamma_df, scale_audio=True, onlySingleDigit=True)\n",
    "    \n",
    "    # We got an multi dimensional numpy array of extracted features for our audio files\n",
    "    # let make a dataframe from the same\n",
    "    Mamma_x = pd.DataFrame(MammaX,columns=['power','pitch_mean','pitch_std','voiced_fr','spectral_centroid','mfccs','spec_bw','zero_crossings','tempo','chroma_cens','chroma_cq','chroma_stft','melspectogram','tonnetz','rms'])\n",
    "    Mamma_y = pd.DataFrame(Mammay)\n",
    "\n",
    "    Mamma_xy = Mamma_x.copy()\n",
    "    Mamma_xy['song'] = Mamma_y\n",
    "\n",
    "    # let's save it to a csv file\n",
    "    Mamma_xy.to_csv('Mamma_xy.csv')\n",
    "\n",
    "    print(Mamma_xy.head(2))"
   ]
  },
  {
   "cell_type": "code",
   "execution_count": 61,
   "id": "77efa945",
   "metadata": {
    "ExecuteTime": {
     "end_time": "2022-07-19T16:10:52.424331Z",
     "start_time": "2022-07-19T16:10:52.416353Z"
    }
   },
   "outputs": [],
   "source": [
    "Panther_files = Panther_files[1:]\n",
    "len(Panther_files)"
   ]
  },
  {
   "cell_type": "code",
   "execution_count": 62,
   "id": "c0f7b07b",
   "metadata": {
    "ExecuteTime": {
     "end_time": "2022-07-19T16:10:57.442854Z",
     "start_time": "2022-07-19T16:10:57.432892Z"
    }
   },
   "outputs": [
    {
     "data": {
      "text/plain": [
       "565"
      ]
     },
     "execution_count": 62,
     "metadata": {},
     "output_type": "execute_result"
    }
   ],
   "source": [
    "len(Panther_files)"
   ]
  },
  {
   "cell_type": "code",
   "execution_count": 68,
   "id": "366356b2",
   "metadata": {
    "ExecuteTime": {
     "end_time": "2022-07-19T16:14:24.749166Z",
     "start_time": "2022-07-19T16:14:24.739215Z"
    }
   },
   "outputs": [],
   "source": [
    "Panther_df = Panther_df.drop(Panther_df.index[[range(1)]])\n",
    "Panther_df.shape"
   ]
  },
  {
   "cell_type": "code",
   "execution_count": 75,
   "id": "45e8e54c",
   "metadata": {
    "ExecuteTime": {
     "end_time": "2022-07-19T19:36:37.630123Z",
     "start_time": "2022-07-19T18:08:35.053335Z"
    },
    "scrolled": false
   },
   "outputs": [
    {
     "name": "stdout",
     "output_type": "stream",
     "text": [
      "importing audio files.\n",
      "\n",
      "Audio files dataframe created. Below are top 2 rows.\n",
      "             song\n",
      "file_id          \n",
      "1670.wav  Panther\n",
      "1671.wav  Panther\n",
      "Running getXy to extract features : \n",
      "\n"
     ]
    },
    {
     "name": "stderr",
     "output_type": "stream",
     "text": [
      "100%|██████████████████████████████████████████████████████████████████████████████| 835/835 [1:28:02<00:00,  6.33s/it]"
     ]
    },
    {
     "name": "stdout",
     "output_type": "stream",
     "text": [
      "      power  pitch_mean  pitch_std  voiced_fr  spectral_centroid   mfccs  \\\n",
      "0  0.040494  178.388500  38.433315   0.764749         682.939806  1373.0   \n",
      "1  0.005610  390.791847  30.995118   0.593979        3063.964851  1362.0   \n",
      "\n",
      "       spec_bw  zero_crossings       tempo  chroma_cens  chroma_cq  \\\n",
      "0  2978.616016            12.0  114.843750     0.196261   0.294054   \n",
      "1  6125.131499            32.0  126.048018     0.222148   0.402010   \n",
      "\n",
      "   chroma_stft  melspectogram   tonnetz       rms     song  \n",
      "0     0.349145       8.018133 -0.001799  0.157324  Panther  \n",
      "1     0.344489       0.666111 -0.021747  0.033325  Panther  \n"
     ]
    },
    {
     "name": "stderr",
     "output_type": "stream",
     "text": [
      "\n"
     ]
    }
   ],
   "source": [
    "warnings.filterwarnings(\"ignore\")\n",
    "\n",
    "# For next song \"Panther\"\n",
    "print(\"importing audio files.\\n\")\n",
    "Panther_Audio = 'dataset\\\\MLEndHWD_Panther_Audio_Files/*.wav' \n",
    "Panther_files = glob.glob(Panther_Audio)\n",
    "# print(Panther_files[35])            # printing a random filename\n",
    "\n",
    "Panther_table = [] \n",
    "for file in Panther_files:\n",
    "    song_name = file.split('_')[1]\n",
    "    file_id = file.split('\\\\')[2]\n",
    "    Panther_table.append([file_id, song_name])\n",
    "Panther_df = pd.DataFrame(Panther_table,columns=['file_id','song']).set_index('file_id')\n",
    "\n",
    "print(\"Audio files dataframe created. Below are top 2 rows.\")\n",
    "print(Panther_df.head(2))\n",
    "\n",
    "if exists('Panther_xy.csv'):\n",
    "    print(\"\\nPanther features exists.\\n\")\n",
    "    Panther_xy = pd.read_csv('Panther_xy.csv')\n",
    "    Panther_xy = Panther_xy.iloc[: , 1:]\n",
    "    print(Panther_xy.head(2))\n",
    "else :\n",
    "    print(\"Running getXy to extract features : \\n\")\n",
    "    \n",
    "    PantherX,Panthery = getXy(Panther_files,\n",
    "                              labels_file = Panther_df,\n",
    "                              scale_audio = True, \n",
    "                              onlySingleDigit = True)\n",
    "    \n",
    "    # We got an multi dimensional numpy array of extracted features for our audio files\n",
    "    # let make a dataframe from the same\n",
    "    Panther_x = pd.DataFrame(PantherX,columns=['power','pitch_mean','pitch_std','voiced_fr','spectral_centroid','mfccs','spec_bw','zero_crossings','tempo','chroma_cens','chroma_cq','chroma_stft','melspectogram','tonnetz','rms'])\n",
    "    Panther_y = pd.DataFrame(Panthery)\n",
    "\n",
    "    Panther_xy = Panther_x.copy()\n",
    "    Panther_xy['song'] = Panther_y\n",
    "\n",
    "    # let's save it to a csv file\n",
    "    Panther_xy.to_csv('Panther_xy.csv')\n",
    "\n",
    "    print(Panther_xy.head(2))"
   ]
  },
  {
   "cell_type": "code",
   "execution_count": 50,
   "id": "d32cdffc",
   "metadata": {
    "ExecuteTime": {
     "end_time": "2022-07-19T14:22:54.832901Z",
     "start_time": "2022-07-19T14:22:54.624651Z"
    }
   },
   "outputs": [
    {
     "name": "stdout",
     "output_type": "stream",
     "text": [
      "importing audio files.\n",
      "\n",
      "Audio files dataframe created. Below are top 2 rows.\n",
      "            song\n",
      "file_id         \n",
      "0000.wav  Potter\n",
      "0001.wav  Potter\n",
      "\n",
      "Potter features exists.\n",
      "\n",
      "      power  pitch_mean  pitch_std  voiced_fr  spectral_centroid   mfccs  \\\n",
      "0  0.011559  181.337028  49.182666   0.875486        2654.001734  1285.0   \n",
      "1  0.030912  154.289764  23.416716   0.888167         999.217681  1386.0   \n",
      "\n",
      "       spec_bw  zero_crossings       tempo  chroma_cens  chroma_cq  \\\n",
      "0  3683.062743             3.0  161.499023     0.195112   0.269502   \n",
      "1  3294.825626             1.0  139.674831     0.170091   0.221543   \n",
      "\n",
      "   chroma_stft  melspectogram   tonnetz       rms          song  \n",
      "0     0.309902       2.240896  0.014528  0.082212  Harry Potter  \n",
      "1     0.375448       6.116159  0.037195  0.145163  Harry Potter  \n"
     ]
    }
   ],
   "source": [
    "warnings.filterwarnings(\"ignore\")\n",
    "\n",
    "# For next song \"Potter\"\n",
    "print(\"importing audio files.\\n\")\n",
    "Potter_Audio = 'dataset\\\\MLEndHWD_Potter_Audio_Files/*.wav' \n",
    "Potter_files = glob.glob(Potter_Audio)\n",
    "# print(Potter_files[35])            # printing a random filename\n",
    "\n",
    "Potter_table = [] \n",
    "for file in Potter_files:\n",
    "    song_name = file.split('_')[1]\n",
    "    file_id = file.split('\\\\')[2]\n",
    "    Potter_table.append([file_id, song_name])\n",
    "Potter_df = pd.DataFrame(Potter_table,columns=['file_id','song']).set_index('file_id')\n",
    "\n",
    "print(\"Audio files dataframe created. Below are top 2 rows.\")\n",
    "print(Potter_df.head(2))\n",
    "\n",
    "if exists('Potter_xy.csv'):\n",
    "    print(\"\\nPotter features exists.\\n\")\n",
    "    Potter_xy = pd.read_csv('Potter_xy.csv')\n",
    "    Potter_xy = Potter_xy.iloc[: , 1:]\n",
    "    print(Potter_xy.head(2))\n",
    "else :\n",
    "    print(\"Running getXy to extract features : \\n\")\n",
    "    PotterX,Pottery = getXy(Potter_files, labels_file=Potter_df, scale_audio=True, onlySingleDigit=True)\n",
    "    \n",
    "    # We got an multi dimensional numpy array of extracted features for our audio files\n",
    "    # let make a dataframe from the same\n",
    "    Potter_x = pd.DataFrame(PotterX,columns=['power','pitch_mean','pitch_std','voiced_fr','spectral_centroid','mfccs','spec_bw','zero_crossings','tempo','chroma_cens','chroma_cq','chroma_stft','melspectogram','tonnetz','rms'])\n",
    "    Potter_y = pd.DataFrame(Pottery)\n",
    "\n",
    "    Potter_xy = Potter_x.copy()\n",
    "    Potter_xy['song'] = Potter_y\n",
    "\n",
    "    # let's save it to a csv file\n",
    "    Potter_xy.to_csv('Potter_xy.csv')\n",
    "\n",
    "    print(Potter_xy.head(2))"
   ]
  },
  {
   "cell_type": "code",
   "execution_count": 51,
   "id": "e7e10215",
   "metadata": {
    "ExecuteTime": {
     "end_time": "2022-07-19T14:22:55.502963Z",
     "start_time": "2022-07-19T14:22:55.348491Z"
    }
   },
   "outputs": [
    {
     "name": "stdout",
     "output_type": "stream",
     "text": [
      "importing audio files.\n",
      "\n",
      "Audio files dataframe created. Below are top 2 rows.\n",
      "          song\n",
      "file_id       \n",
      "2506.wav  Rain\n",
      "2507.wav  Rain\n",
      "\n",
      "Rain features exists.\n",
      "\n",
      "      power  pitch_mean  pitch_std  voiced_fr  spectral_centroid   mfccs  \\\n",
      "0  0.028557  282.265277  60.177618   0.844374        1528.471117  1253.0   \n",
      "1  0.012853  206.145585  41.054839   0.878415        1782.228199  1464.0   \n",
      "\n",
      "       spec_bw  zero_crossings       tempo  chroma_cens  chroma_cq  \\\n",
      "0  2701.850527             2.0  147.656250     0.193850   0.275036   \n",
      "1  3908.613455             3.0  139.674831     0.196575   0.277611   \n",
      "\n",
      "   chroma_stft  melspectogram   tonnetz       rms  song  \n",
      "0     0.263681       5.589186 -0.028438  0.126314  Rain  \n",
      "1     0.301527       2.520195  0.018982  0.074324  Rain  \n"
     ]
    }
   ],
   "source": [
    "warnings.filterwarnings(\"ignore\")\n",
    "\n",
    "# For next song \"Rain\"\n",
    "print(\"importing audio files.\\n\")\n",
    "Rain_Audio = 'dataset\\\\MLEndHWD_Rain_Audio_Files/*.wav' \n",
    "Rain_files = glob.glob(Rain_Audio)\n",
    "# print(Rain_files[35])            # printing a random filename\n",
    "\n",
    "Rain_table = [] \n",
    "for file in Rain_files:\n",
    "    song_name = file.split('_')[1]\n",
    "    file_id = file.split('\\\\')[2]\n",
    "    Rain_table.append([file_id, song_name])\n",
    "Rain_df = pd.DataFrame(Rain_table,columns=['file_id','song']).set_index('file_id')\n",
    "\n",
    "print(\"Audio files dataframe created. Below are top 2 rows.\")\n",
    "print(Rain_df.head(2))\n",
    "\n",
    "if exists('Rain_xy.csv'):\n",
    "    print(\"\\nRain features exists.\\n\")\n",
    "    Rain_xy = pd.read_csv('Rain_xy.csv')\n",
    "    Rain_xy = Rain_xy.iloc[: , 1:]\n",
    "    print(Rain_xy.head(2))\n",
    "else :\n",
    "    print(\"Running getXy to extract features : \\n\")\n",
    "    RainX,Rainy = getXy(Rain_files, labels_file=Rain_df, scale_audio=True, onlySingleDigit=True)\n",
    "    \n",
    "    # We got an multi dimensional numpy array of extracted features for our audio files\n",
    "    # let make a dataframe from the same\n",
    "    Rain_x = pd.DataFrame(RainX,columns=['power','pitch_mean','pitch_std','voiced_fr','spectral_centroid','mfccs','spec_bw','zero_crossings','tempo','chroma_cens','chroma_cq','chroma_stft','melspectogram','tonnetz','rms'])\n",
    "    Rain_y = pd.DataFrame(Rainy)\n",
    "\n",
    "    Rain_xy = Rain_x.copy()\n",
    "    Rain_xy['song'] = Rain_y\n",
    "\n",
    "    # let's save it to a csv file\n",
    "    Rain_xy.to_csv('Rain_xy.csv')\n",
    "\n",
    "    print(Rain_xy.head(2))"
   ]
  },
  {
   "cell_type": "code",
   "execution_count": 52,
   "id": "9cb7a153",
   "metadata": {
    "ExecuteTime": {
     "end_time": "2022-07-19T14:22:56.160149Z",
     "start_time": "2022-07-19T14:22:55.798332Z"
    },
    "scrolled": false
   },
   "outputs": [
    {
     "name": "stdout",
     "output_type": "stream",
     "text": [
      "importing audio files.\n",
      "\n",
      "Audio files dataframe created. Below are top 2 rows.\n",
      "             song\n",
      "file_id          \n",
      "4995.wav  Showman\n",
      "4996.wav  Showman\n",
      "\n",
      "Showman features exists.\n",
      "\n",
      "      power  pitch_mean  pitch_std  voiced_fr  spectral_centroid   mfccs  \\\n",
      "0  0.037711  172.165031  30.162144   0.893634        1912.959760  1288.0   \n",
      "1  0.042753  192.253407  34.103119   0.693953        1265.608846  1356.0   \n",
      "\n",
      "       spec_bw  zero_crossings       tempo  chroma_cens  chroma_cq  \\\n",
      "0  3758.293647             5.0   95.703125     0.179422   0.246845   \n",
      "1  3238.374250            10.0  107.666016     0.211930   0.349877   \n",
      "\n",
      "   chroma_stft  melspectogram   tonnetz       rms     song  \n",
      "0     0.327902       7.299698 -0.043286  0.156953  Showman  \n",
      "1     0.417633       8.401630  0.005982  0.165534  Showman  \n"
     ]
    }
   ],
   "source": [
    "warnings.filterwarnings(\"ignore\")\n",
    "\n",
    "# For next song \"Showman\"\n",
    "print(\"importing audio files.\\n\")\n",
    "Showman_Audio = 'dataset\\\\MLEndHWD_Showman_Audio_Files/*.wav' \n",
    "Showman_files = glob.glob(Showman_Audio)\n",
    "# print(Showman_files[35])            # printing a random filename\n",
    "\n",
    "Showman_table = [] \n",
    "for file in Showman_files:\n",
    "    song_name = file.split('_')[1]\n",
    "    file_id = file.split('\\\\')[2]\n",
    "    Showman_table.append([file_id, song_name])\n",
    "Showman_df = pd.DataFrame(Showman_table,columns=['file_id','song']).set_index('file_id')\n",
    "\n",
    "print(\"Audio files dataframe created. Below are top 2 rows.\")\n",
    "print(Showman_df.head(2))\n",
    "\n",
    "if exists('Showman_xy.csv'):\n",
    "    print(\"\\nShowman features exists.\\n\")\n",
    "    Showman_xy = pd.read_csv('Showman_xy.csv')\n",
    "    Showman_xy = Showman_xy.iloc[: , 1:]\n",
    "    print(Showman_xy.head(2))\n",
    "else :\n",
    "    print(\"Running getXy to extract features : \\n\")\n",
    "    ShowmanX,Showmany = getXy(Showman_files, labels_file=Showman_df, scale_audio=True, onlySingleDigit=True)\n",
    "    \n",
    "    # We got an multi dimensional numpy array of extracted features for our audio files\n",
    "    # let make a dataframe from the same\n",
    "    Showman_x = pd.DataFrame(ShowmanX,columns=['power','pitch_mean','pitch_std','voiced_fr','spectral_centroid','mfccs','spec_bw','zero_crossings','tempo','chroma_cens','chroma_cq','chroma_stft','melspectogram','tonnetz','rms'])\n",
    "    Showman_y = pd.DataFrame(Showmany)\n",
    "\n",
    "    Showman_xy = Showman_x.copy()\n",
    "    Showman_xy['song'] = Showman_y\n",
    "\n",
    "    # let's save it to a csv file\n",
    "    Showman_xy.to_csv('Showman_xy.csv')\n",
    "\n",
    "    print(Showman_xy.head(2))"
   ]
  },
  {
   "cell_type": "code",
   "execution_count": null,
   "id": "dea1a467",
   "metadata": {
    "ExecuteTime": {
     "start_time": "2022-07-19T18:08:57.934Z"
    }
   },
   "outputs": [
    {
     "name": "stdout",
     "output_type": "stream",
     "text": [
      "importing audio files.\n",
      "\n",
      "dataset\\MLEndHWD_StarWars_Audio_Files\\0873.wav\n",
      "Audio files dataframe created. Below are top 2 rows.\n",
      "              song\n",
      "file_id           \n",
      "0838.wav  StarWars\n",
      "0839.wav  StarWars\n",
      "Running getXy to extract features : \n",
      "\n"
     ]
    },
    {
     "name": "stderr",
     "output_type": "stream",
     "text": [
      "  2%|█▍                                                                             | 15/831 [01:35<1:23:24,  6.13s/it]"
     ]
    }
   ],
   "source": [
    "warnings.filterwarnings(\"ignore\")\n",
    "\n",
    "# For next song \"SwarWars\"\n",
    "print(\"importing audio files.\\n\")\n",
    "SwarWars_Audio = \"dataset\\MLEndHWD_StarWars_Audio_Files\\*.wav\" \n",
    "SwarWars_files = glob.glob(SwarWars_Audio)\n",
    "print(SwarWars_files[35])            # printing a random filename\n",
    "\n",
    "SwarWars_table = [] \n",
    "for file in SwarWars_files:\n",
    "    song_name = file.split('_')[1]\n",
    "    file_id = file.split('\\\\')[2]\n",
    "    SwarWars_table.append([file_id, song_name])\n",
    "SwarWars_df = pd.DataFrame(SwarWars_table,columns=['file_id','song']).set_index('file_id')\n",
    "\n",
    "print(\"Audio files dataframe created. Below are top 2 rows.\")\n",
    "print(SwarWars_df.head(2))\n",
    "\n",
    "if exists('SwarWars_xy.csv'):\n",
    "    print(\"\\nSwarWars features exists.\\n\")\n",
    "    SwarWars_xy = pd.read_csv('SwarWars_xy.csv')\n",
    "    SwarWars_xy = SwarWars_xy.iloc[: , 1:]\n",
    "    print(SwarWars_xy.head(2))\n",
    "else :\n",
    "    print(\"Running getXy to extract features : \\n\")\n",
    "    SwarWarsX,SwarWarsy = getXy(SwarWars_files, labels_file=SwarWars_df, scale_audio=True, onlySingleDigit=True)\n",
    "    \n",
    "    # We got an multi dimensional numpy array of extracted features for our audio files\n",
    "    # let make a dataframe from the same\n",
    "    SwarWars_x = pd.DataFrame(SwarWarsX,columns=['power','pitch_mean','pitch_std','voiced_fr','spectral_centroid','mfccs','spec_bw','zero_crossings','tempo','chroma_cens','chroma_cq','chroma_stft','melspectogram','tonnetz','rms'])\n",
    "    SwarWars_y = pd.DataFrame(SwarWarsy)\n",
    "\n",
    "    SwarWars_xy = SwarWars_x.copy()\n",
    "    SwarWars_xy['song'] = SwarWars_y\n",
    "\n",
    "    # let's save it to a csv file\n",
    "    SwarWars_xy.to_csv('SwarWars_xy.csv')\n",
    "\n",
    "    print(SwarWars_xy.head(2))"
   ]
  },
  {
   "cell_type": "code",
   "execution_count": null,
   "id": "4dc690cd",
   "metadata": {
    "ExecuteTime": {
     "end_time": "2022-07-19T14:16:53.697278Z",
     "start_time": "2022-07-19T14:16:53.697278Z"
    }
   },
   "outputs": [],
   "source": [
    "# Finally merging eveything\n",
    "all_audio_data = pd.concat['Frozen_xy','Hakuna_xy','Mamma_xy','Panther_xy','Potter_xy','Rain_xy','Showman_xy','SwarWars_xy']"
   ]
  },
  {
   "cell_type": "code",
   "execution_count": null,
   "id": "2ca8bb6d",
   "metadata": {
    "ExecuteTime": {
     "end_time": "2022-07-19T14:16:53.699272Z",
     "start_time": "2022-07-19T14:16:53.699272Z"
    }
   },
   "outputs": [],
   "source": [
    "import collections, numpy\n",
    "print(collections.Counter(all_audio_data.iloc[:,:-1]))"
   ]
  },
  {
   "cell_type": "code",
   "execution_count": null,
   "id": "c963d333",
   "metadata": {
    "ExecuteTime": {
     "end_time": "2022-07-19T14:16:53.700268Z",
     "start_time": "2022-07-19T14:16:53.700268Z"
    }
   },
   "outputs": [],
   "source": [
    "# scaling X\n",
    "from sklearn.preprocessing import MinMaxScaler\n",
    "scaler = MinMaxScaler()\n",
    "\n",
    "X = scaler.fit_transform(X)"
   ]
  }
 ],
 "metadata": {
  "kernelspec": {
   "display_name": "Python 3 (ipykernel)",
   "language": "python",
   "name": "python3"
  },
  "language_info": {
   "codemirror_mode": {
    "name": "ipython",
    "version": 3
   },
   "file_extension": ".py",
   "mimetype": "text/x-python",
   "name": "python",
   "nbconvert_exporter": "python",
   "pygments_lexer": "ipython3",
   "version": "3.8.8"
  },
  "toc": {
   "base_numbering": 1,
   "nav_menu": {},
   "number_sections": true,
   "sideBar": true,
   "skip_h1_title": false,
   "title_cell": "Table of Contents",
   "title_sidebar": "Contents",
   "toc_cell": false,
   "toc_position": {},
   "toc_section_display": true,
   "toc_window_display": false
  },
  "varInspector": {
   "cols": {
    "lenName": 16,
    "lenType": 16,
    "lenVar": 40
   },
   "kernels_config": {
    "python": {
     "delete_cmd_postfix": "",
     "delete_cmd_prefix": "del ",
     "library": "var_list.py",
     "varRefreshCmd": "print(var_dic_list())"
    },
    "r": {
     "delete_cmd_postfix": ") ",
     "delete_cmd_prefix": "rm(",
     "library": "var_list.r",
     "varRefreshCmd": "cat(var_dic_list()) "
    }
   },
   "types_to_exclude": [
    "module",
    "function",
    "builtin_function_or_method",
    "instance",
    "_Feature"
   ],
   "window_display": false
  }
 },
 "nbformat": 4,
 "nbformat_minor": 5
}
